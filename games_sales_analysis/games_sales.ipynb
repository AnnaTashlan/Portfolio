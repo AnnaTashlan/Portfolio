{
 "cells": [
  {
   "cell_type": "markdown",
   "metadata": {},
   "source": [
    "# Исследование данных о продажах компьютерных игр\n",
    "\n",
    "### Описание проекта\n",
    "Цель исследования - выявить определяющие успешность игры закономерности. Нужно нужно отработать принцип работы с данными. Это позволит сделать ставку на потенциально популярный продукт и спланировать рекламные кампании.\n",
    "В нашем распоряжении данные из открытых источников о продажах игр за несколько лет. \n",
    "\n",
    "<a id='top'></a>\n",
    "### План работы\n",
    "1. [Обзор данных.](#section1)\n",
    "2. [Предобработка данных.](#section2)\n",
    "3. [Исследовательский анализ данных.](#section3)\n",
    "4. [Составление портрета пользователя.](#section4)\n",
    "5. [Проверка гипотез.](#section5)\n",
    "6. [Выводы.](#section6)"
   ]
  },
  {
   "cell_type": "markdown",
   "metadata": {},
   "source": [
    "<a id='section1'></a>\n",
    "### Откроем файл с данными и изучим общую информацию."
   ]
  },
  {
   "cell_type": "code",
   "execution_count": 1,
   "metadata": {},
   "outputs": [],
   "source": [
    "import pandas as pd\n",
    "import numpy as np\n",
    "import matplotlib.pyplot as plt\n",
    "import seaborn as sns\n",
    "from scipy import stats as st"
   ]
  },
  {
   "cell_type": "code",
   "execution_count": 2,
   "metadata": {},
   "outputs": [],
   "source": [
    "data = pd.read_csv('/datasets/games.csv')"
   ]
  },
  {
   "cell_type": "code",
   "execution_count": 3,
   "metadata": {},
   "outputs": [
    {
     "data": {
      "text/html": [
       "<div>\n",
       "<style scoped>\n",
       "    .dataframe tbody tr th:only-of-type {\n",
       "        vertical-align: middle;\n",
       "    }\n",
       "\n",
       "    .dataframe tbody tr th {\n",
       "        vertical-align: top;\n",
       "    }\n",
       "\n",
       "    .dataframe thead th {\n",
       "        text-align: right;\n",
       "    }\n",
       "</style>\n",
       "<table border=\"1\" class=\"dataframe\">\n",
       "  <thead>\n",
       "    <tr style=\"text-align: right;\">\n",
       "      <th></th>\n",
       "      <th>Name</th>\n",
       "      <th>Platform</th>\n",
       "      <th>Year_of_Release</th>\n",
       "      <th>Genre</th>\n",
       "      <th>NA_sales</th>\n",
       "      <th>EU_sales</th>\n",
       "      <th>JP_sales</th>\n",
       "      <th>Other_sales</th>\n",
       "      <th>Critic_Score</th>\n",
       "      <th>User_Score</th>\n",
       "      <th>Rating</th>\n",
       "    </tr>\n",
       "  </thead>\n",
       "  <tbody>\n",
       "    <tr>\n",
       "      <th>0</th>\n",
       "      <td>Wii Sports</td>\n",
       "      <td>Wii</td>\n",
       "      <td>2006.0</td>\n",
       "      <td>Sports</td>\n",
       "      <td>41.36</td>\n",
       "      <td>28.96</td>\n",
       "      <td>3.77</td>\n",
       "      <td>8.45</td>\n",
       "      <td>76.0</td>\n",
       "      <td>8</td>\n",
       "      <td>E</td>\n",
       "    </tr>\n",
       "    <tr>\n",
       "      <th>1</th>\n",
       "      <td>Super Mario Bros.</td>\n",
       "      <td>NES</td>\n",
       "      <td>1985.0</td>\n",
       "      <td>Platform</td>\n",
       "      <td>29.08</td>\n",
       "      <td>3.58</td>\n",
       "      <td>6.81</td>\n",
       "      <td>0.77</td>\n",
       "      <td>NaN</td>\n",
       "      <td>NaN</td>\n",
       "      <td>NaN</td>\n",
       "    </tr>\n",
       "    <tr>\n",
       "      <th>2</th>\n",
       "      <td>Mario Kart Wii</td>\n",
       "      <td>Wii</td>\n",
       "      <td>2008.0</td>\n",
       "      <td>Racing</td>\n",
       "      <td>15.68</td>\n",
       "      <td>12.76</td>\n",
       "      <td>3.79</td>\n",
       "      <td>3.29</td>\n",
       "      <td>82.0</td>\n",
       "      <td>8.3</td>\n",
       "      <td>E</td>\n",
       "    </tr>\n",
       "    <tr>\n",
       "      <th>3</th>\n",
       "      <td>Wii Sports Resort</td>\n",
       "      <td>Wii</td>\n",
       "      <td>2009.0</td>\n",
       "      <td>Sports</td>\n",
       "      <td>15.61</td>\n",
       "      <td>10.93</td>\n",
       "      <td>3.28</td>\n",
       "      <td>2.95</td>\n",
       "      <td>80.0</td>\n",
       "      <td>8</td>\n",
       "      <td>E</td>\n",
       "    </tr>\n",
       "    <tr>\n",
       "      <th>4</th>\n",
       "      <td>Pokemon Red/Pokemon Blue</td>\n",
       "      <td>GB</td>\n",
       "      <td>1996.0</td>\n",
       "      <td>Role-Playing</td>\n",
       "      <td>11.27</td>\n",
       "      <td>8.89</td>\n",
       "      <td>10.22</td>\n",
       "      <td>1.00</td>\n",
       "      <td>NaN</td>\n",
       "      <td>NaN</td>\n",
       "      <td>NaN</td>\n",
       "    </tr>\n",
       "    <tr>\n",
       "      <th>5</th>\n",
       "      <td>Tetris</td>\n",
       "      <td>GB</td>\n",
       "      <td>1989.0</td>\n",
       "      <td>Puzzle</td>\n",
       "      <td>23.20</td>\n",
       "      <td>2.26</td>\n",
       "      <td>4.22</td>\n",
       "      <td>0.58</td>\n",
       "      <td>NaN</td>\n",
       "      <td>NaN</td>\n",
       "      <td>NaN</td>\n",
       "    </tr>\n",
       "    <tr>\n",
       "      <th>6</th>\n",
       "      <td>New Super Mario Bros.</td>\n",
       "      <td>DS</td>\n",
       "      <td>2006.0</td>\n",
       "      <td>Platform</td>\n",
       "      <td>11.28</td>\n",
       "      <td>9.14</td>\n",
       "      <td>6.50</td>\n",
       "      <td>2.88</td>\n",
       "      <td>89.0</td>\n",
       "      <td>8.5</td>\n",
       "      <td>E</td>\n",
       "    </tr>\n",
       "    <tr>\n",
       "      <th>7</th>\n",
       "      <td>Wii Play</td>\n",
       "      <td>Wii</td>\n",
       "      <td>2006.0</td>\n",
       "      <td>Misc</td>\n",
       "      <td>13.96</td>\n",
       "      <td>9.18</td>\n",
       "      <td>2.93</td>\n",
       "      <td>2.84</td>\n",
       "      <td>58.0</td>\n",
       "      <td>6.6</td>\n",
       "      <td>E</td>\n",
       "    </tr>\n",
       "    <tr>\n",
       "      <th>8</th>\n",
       "      <td>New Super Mario Bros. Wii</td>\n",
       "      <td>Wii</td>\n",
       "      <td>2009.0</td>\n",
       "      <td>Platform</td>\n",
       "      <td>14.44</td>\n",
       "      <td>6.94</td>\n",
       "      <td>4.70</td>\n",
       "      <td>2.24</td>\n",
       "      <td>87.0</td>\n",
       "      <td>8.4</td>\n",
       "      <td>E</td>\n",
       "    </tr>\n",
       "    <tr>\n",
       "      <th>9</th>\n",
       "      <td>Duck Hunt</td>\n",
       "      <td>NES</td>\n",
       "      <td>1984.0</td>\n",
       "      <td>Shooter</td>\n",
       "      <td>26.93</td>\n",
       "      <td>0.63</td>\n",
       "      <td>0.28</td>\n",
       "      <td>0.47</td>\n",
       "      <td>NaN</td>\n",
       "      <td>NaN</td>\n",
       "      <td>NaN</td>\n",
       "    </tr>\n",
       "    <tr>\n",
       "      <th>10</th>\n",
       "      <td>Nintendogs</td>\n",
       "      <td>DS</td>\n",
       "      <td>2005.0</td>\n",
       "      <td>Simulation</td>\n",
       "      <td>9.05</td>\n",
       "      <td>10.95</td>\n",
       "      <td>1.93</td>\n",
       "      <td>2.74</td>\n",
       "      <td>NaN</td>\n",
       "      <td>NaN</td>\n",
       "      <td>NaN</td>\n",
       "    </tr>\n",
       "    <tr>\n",
       "      <th>11</th>\n",
       "      <td>Mario Kart DS</td>\n",
       "      <td>DS</td>\n",
       "      <td>2005.0</td>\n",
       "      <td>Racing</td>\n",
       "      <td>9.71</td>\n",
       "      <td>7.47</td>\n",
       "      <td>4.13</td>\n",
       "      <td>1.90</td>\n",
       "      <td>91.0</td>\n",
       "      <td>8.6</td>\n",
       "      <td>E</td>\n",
       "    </tr>\n",
       "    <tr>\n",
       "      <th>12</th>\n",
       "      <td>Pokemon Gold/Pokemon Silver</td>\n",
       "      <td>GB</td>\n",
       "      <td>1999.0</td>\n",
       "      <td>Role-Playing</td>\n",
       "      <td>9.00</td>\n",
       "      <td>6.18</td>\n",
       "      <td>7.20</td>\n",
       "      <td>0.71</td>\n",
       "      <td>NaN</td>\n",
       "      <td>NaN</td>\n",
       "      <td>NaN</td>\n",
       "    </tr>\n",
       "    <tr>\n",
       "      <th>13</th>\n",
       "      <td>Wii Fit</td>\n",
       "      <td>Wii</td>\n",
       "      <td>2007.0</td>\n",
       "      <td>Sports</td>\n",
       "      <td>8.92</td>\n",
       "      <td>8.03</td>\n",
       "      <td>3.60</td>\n",
       "      <td>2.15</td>\n",
       "      <td>80.0</td>\n",
       "      <td>7.7</td>\n",
       "      <td>E</td>\n",
       "    </tr>\n",
       "    <tr>\n",
       "      <th>14</th>\n",
       "      <td>Kinect Adventures!</td>\n",
       "      <td>X360</td>\n",
       "      <td>2010.0</td>\n",
       "      <td>Misc</td>\n",
       "      <td>15.00</td>\n",
       "      <td>4.89</td>\n",
       "      <td>0.24</td>\n",
       "      <td>1.69</td>\n",
       "      <td>61.0</td>\n",
       "      <td>6.3</td>\n",
       "      <td>E</td>\n",
       "    </tr>\n",
       "    <tr>\n",
       "      <th>15</th>\n",
       "      <td>Wii Fit Plus</td>\n",
       "      <td>Wii</td>\n",
       "      <td>2009.0</td>\n",
       "      <td>Sports</td>\n",
       "      <td>9.01</td>\n",
       "      <td>8.49</td>\n",
       "      <td>2.53</td>\n",
       "      <td>1.77</td>\n",
       "      <td>80.0</td>\n",
       "      <td>7.4</td>\n",
       "      <td>E</td>\n",
       "    </tr>\n",
       "    <tr>\n",
       "      <th>16</th>\n",
       "      <td>Grand Theft Auto V</td>\n",
       "      <td>PS3</td>\n",
       "      <td>2013.0</td>\n",
       "      <td>Action</td>\n",
       "      <td>7.02</td>\n",
       "      <td>9.09</td>\n",
       "      <td>0.98</td>\n",
       "      <td>3.96</td>\n",
       "      <td>97.0</td>\n",
       "      <td>8.2</td>\n",
       "      <td>M</td>\n",
       "    </tr>\n",
       "    <tr>\n",
       "      <th>17</th>\n",
       "      <td>Grand Theft Auto: San Andreas</td>\n",
       "      <td>PS2</td>\n",
       "      <td>2004.0</td>\n",
       "      <td>Action</td>\n",
       "      <td>9.43</td>\n",
       "      <td>0.40</td>\n",
       "      <td>0.41</td>\n",
       "      <td>10.57</td>\n",
       "      <td>95.0</td>\n",
       "      <td>9</td>\n",
       "      <td>M</td>\n",
       "    </tr>\n",
       "    <tr>\n",
       "      <th>18</th>\n",
       "      <td>Super Mario World</td>\n",
       "      <td>SNES</td>\n",
       "      <td>1990.0</td>\n",
       "      <td>Platform</td>\n",
       "      <td>12.78</td>\n",
       "      <td>3.75</td>\n",
       "      <td>3.54</td>\n",
       "      <td>0.55</td>\n",
       "      <td>NaN</td>\n",
       "      <td>NaN</td>\n",
       "      <td>NaN</td>\n",
       "    </tr>\n",
       "    <tr>\n",
       "      <th>19</th>\n",
       "      <td>Brain Age: Train Your Brain in Minutes a Day</td>\n",
       "      <td>DS</td>\n",
       "      <td>2005.0</td>\n",
       "      <td>Misc</td>\n",
       "      <td>4.74</td>\n",
       "      <td>9.20</td>\n",
       "      <td>4.16</td>\n",
       "      <td>2.04</td>\n",
       "      <td>77.0</td>\n",
       "      <td>7.9</td>\n",
       "      <td>E</td>\n",
       "    </tr>\n",
       "  </tbody>\n",
       "</table>\n",
       "</div>"
      ],
      "text/plain": [
       "                                            Name Platform  Year_of_Release  \\\n",
       "0                                     Wii Sports      Wii           2006.0   \n",
       "1                              Super Mario Bros.      NES           1985.0   \n",
       "2                                 Mario Kart Wii      Wii           2008.0   \n",
       "3                              Wii Sports Resort      Wii           2009.0   \n",
       "4                       Pokemon Red/Pokemon Blue       GB           1996.0   \n",
       "5                                         Tetris       GB           1989.0   \n",
       "6                          New Super Mario Bros.       DS           2006.0   \n",
       "7                                       Wii Play      Wii           2006.0   \n",
       "8                      New Super Mario Bros. Wii      Wii           2009.0   \n",
       "9                                      Duck Hunt      NES           1984.0   \n",
       "10                                    Nintendogs       DS           2005.0   \n",
       "11                                 Mario Kart DS       DS           2005.0   \n",
       "12                   Pokemon Gold/Pokemon Silver       GB           1999.0   \n",
       "13                                       Wii Fit      Wii           2007.0   \n",
       "14                            Kinect Adventures!     X360           2010.0   \n",
       "15                                  Wii Fit Plus      Wii           2009.0   \n",
       "16                            Grand Theft Auto V      PS3           2013.0   \n",
       "17                 Grand Theft Auto: San Andreas      PS2           2004.0   \n",
       "18                             Super Mario World     SNES           1990.0   \n",
       "19  Brain Age: Train Your Brain in Minutes a Day       DS           2005.0   \n",
       "\n",
       "           Genre  NA_sales  EU_sales  JP_sales  Other_sales  Critic_Score  \\\n",
       "0         Sports     41.36     28.96      3.77         8.45          76.0   \n",
       "1       Platform     29.08      3.58      6.81         0.77           NaN   \n",
       "2         Racing     15.68     12.76      3.79         3.29          82.0   \n",
       "3         Sports     15.61     10.93      3.28         2.95          80.0   \n",
       "4   Role-Playing     11.27      8.89     10.22         1.00           NaN   \n",
       "5         Puzzle     23.20      2.26      4.22         0.58           NaN   \n",
       "6       Platform     11.28      9.14      6.50         2.88          89.0   \n",
       "7           Misc     13.96      9.18      2.93         2.84          58.0   \n",
       "8       Platform     14.44      6.94      4.70         2.24          87.0   \n",
       "9        Shooter     26.93      0.63      0.28         0.47           NaN   \n",
       "10    Simulation      9.05     10.95      1.93         2.74           NaN   \n",
       "11        Racing      9.71      7.47      4.13         1.90          91.0   \n",
       "12  Role-Playing      9.00      6.18      7.20         0.71           NaN   \n",
       "13        Sports      8.92      8.03      3.60         2.15          80.0   \n",
       "14          Misc     15.00      4.89      0.24         1.69          61.0   \n",
       "15        Sports      9.01      8.49      2.53         1.77          80.0   \n",
       "16        Action      7.02      9.09      0.98         3.96          97.0   \n",
       "17        Action      9.43      0.40      0.41        10.57          95.0   \n",
       "18      Platform     12.78      3.75      3.54         0.55           NaN   \n",
       "19          Misc      4.74      9.20      4.16         2.04          77.0   \n",
       "\n",
       "   User_Score Rating  \n",
       "0           8      E  \n",
       "1         NaN    NaN  \n",
       "2         8.3      E  \n",
       "3           8      E  \n",
       "4         NaN    NaN  \n",
       "5         NaN    NaN  \n",
       "6         8.5      E  \n",
       "7         6.6      E  \n",
       "8         8.4      E  \n",
       "9         NaN    NaN  \n",
       "10        NaN    NaN  \n",
       "11        8.6      E  \n",
       "12        NaN    NaN  \n",
       "13        7.7      E  \n",
       "14        6.3      E  \n",
       "15        7.4      E  \n",
       "16        8.2      M  \n",
       "17          9      M  \n",
       "18        NaN    NaN  \n",
       "19        7.9      E  "
      ]
     },
     "execution_count": 3,
     "metadata": {},
     "output_type": "execute_result"
    }
   ],
   "source": [
    "data.head(20)"
   ]
  },
  {
   "cell_type": "code",
   "execution_count": 4,
   "metadata": {},
   "outputs": [
    {
     "name": "stdout",
     "output_type": "stream",
     "text": [
      "<class 'pandas.core.frame.DataFrame'>\n",
      "RangeIndex: 16715 entries, 0 to 16714\n",
      "Data columns (total 11 columns):\n",
      " #   Column           Non-Null Count  Dtype  \n",
      "---  ------           --------------  -----  \n",
      " 0   Name             16713 non-null  object \n",
      " 1   Platform         16715 non-null  object \n",
      " 2   Year_of_Release  16446 non-null  float64\n",
      " 3   Genre            16713 non-null  object \n",
      " 4   NA_sales         16715 non-null  float64\n",
      " 5   EU_sales         16715 non-null  float64\n",
      " 6   JP_sales         16715 non-null  float64\n",
      " 7   Other_sales      16715 non-null  float64\n",
      " 8   Critic_Score     8137 non-null   float64\n",
      " 9   User_Score       10014 non-null  object \n",
      " 10  Rating           9949 non-null   object \n",
      "dtypes: float64(6), object(5)\n",
      "memory usage: 1.4+ MB\n"
     ]
    }
   ],
   "source": [
    "data.info()"
   ]
  },
  {
   "cell_type": "code",
   "execution_count": 5,
   "metadata": {},
   "outputs": [
    {
     "data": {
      "image/png": "[encoded data removed]",
      "text/plain": [
       "<Figure size 1080x1440 with 6 Axes>"
      ]
     },
     "metadata": {
      "needs_background": "light"
     },
     "output_type": "display_data"
    }
   ],
   "source": [
    "data.hist(bins=10, figsize=(15, 20))\n",
    "plt.show()"
   ]
  },
  {
   "cell_type": "code",
   "execution_count": 6,
   "metadata": {},
   "outputs": [
    {
     "data": {
      "text/html": [
       "<style  type=\"text/css\" >\n",
       "#T_6c053_row0_col0,#T_6c053_row1_col0,#T_6c053_row3_col0,#T_6c053_row4_col0,#T_6c053_row5_col0,#T_6c053_row6_col0,#T_6c053_row7_col0{\n",
       "            background-color:  #3b4cc0;\n",
       "            color:  #f1f1f1;\n",
       "        }#T_6c053_row2_col0{\n",
       "            background-color:  #4358cb;\n",
       "            color:  #f1f1f1;\n",
       "        }#T_6c053_row8_col0{\n",
       "            background-color:  #b40426;\n",
       "            color:  #f1f1f1;\n",
       "        }#T_6c053_row9_col0{\n",
       "            background-color:  #f08b6e;\n",
       "            color:  #000000;\n",
       "        }#T_6c053_row10_col0{\n",
       "            background-color:  #ef886b;\n",
       "            color:  #000000;\n",
       "        }</style><table id=\"T_6c053_\" ><thead>    <tr>        <th class=\"blank level0\" ></th>        <th class=\"col_heading level0 col0\" >0</th>    </tr></thead><tbody>\n",
       "                <tr>\n",
       "                        <th id=\"T_6c053_level0_row0\" class=\"row_heading level0 row0\" >Name</th>\n",
       "                        <td id=\"T_6c053_row0_col0\" class=\"data row0 col0\" >0.000000</td>\n",
       "            </tr>\n",
       "            <tr>\n",
       "                        <th id=\"T_6c053_level0_row1\" class=\"row_heading level0 row1\" >Platform</th>\n",
       "                        <td id=\"T_6c053_row1_col0\" class=\"data row1 col0\" >0.000000</td>\n",
       "            </tr>\n",
       "            <tr>\n",
       "                        <th id=\"T_6c053_level0_row2\" class=\"row_heading level0 row2\" >Year_of_Release</th>\n",
       "                        <td id=\"T_6c053_row2_col0\" class=\"data row2 col0\" >1.600000</td>\n",
       "            </tr>\n",
       "            <tr>\n",
       "                        <th id=\"T_6c053_level0_row3\" class=\"row_heading level0 row3\" >Genre</th>\n",
       "                        <td id=\"T_6c053_row3_col0\" class=\"data row3 col0\" >0.000000</td>\n",
       "            </tr>\n",
       "            <tr>\n",
       "                        <th id=\"T_6c053_level0_row4\" class=\"row_heading level0 row4\" >NA_sales</th>\n",
       "                        <td id=\"T_6c053_row4_col0\" class=\"data row4 col0\" >0.000000</td>\n",
       "            </tr>\n",
       "            <tr>\n",
       "                        <th id=\"T_6c053_level0_row5\" class=\"row_heading level0 row5\" >EU_sales</th>\n",
       "                        <td id=\"T_6c053_row5_col0\" class=\"data row5 col0\" >0.000000</td>\n",
       "            </tr>\n",
       "            <tr>\n",
       "                        <th id=\"T_6c053_level0_row6\" class=\"row_heading level0 row6\" >JP_sales</th>\n",
       "                        <td id=\"T_6c053_row6_col0\" class=\"data row6 col0\" >0.000000</td>\n",
       "            </tr>\n",
       "            <tr>\n",
       "                        <th id=\"T_6c053_level0_row7\" class=\"row_heading level0 row7\" >Other_sales</th>\n",
       "                        <td id=\"T_6c053_row7_col0\" class=\"data row7 col0\" >0.000000</td>\n",
       "            </tr>\n",
       "            <tr>\n",
       "                        <th id=\"T_6c053_level0_row8\" class=\"row_heading level0 row8\" >Critic_Score</th>\n",
       "                        <td id=\"T_6c053_row8_col0\" class=\"data row8 col0\" >51.300000</td>\n",
       "            </tr>\n",
       "            <tr>\n",
       "                        <th id=\"T_6c053_level0_row9\" class=\"row_heading level0 row9\" >User_Score</th>\n",
       "                        <td id=\"T_6c053_row9_col0\" class=\"data row9 col0\" >40.100000</td>\n",
       "            </tr>\n",
       "            <tr>\n",
       "                        <th id=\"T_6c053_level0_row10\" class=\"row_heading level0 row10\" >Rating</th>\n",
       "                        <td id=\"T_6c053_row10_col0\" class=\"data row10 col0\" >40.500000</td>\n",
       "            </tr>\n",
       "    </tbody></table>"
      ],
      "text/plain": [
       "<pandas.io.formats.style.Styler at 0x7fd093321f10>"
      ]
     },
     "execution_count": 6,
     "metadata": {},
     "output_type": "execute_result"
    }
   ],
   "source": [
    "pd.DataFrame(round(data.isna().mean()*100,1)).style.background_gradient('coolwarm')"
   ]
  },
  {
   "cell_type": "markdown",
   "metadata": {},
   "source": [
    "Данные представляют собой таблицу из 11 столбцов и 16715 строк. Наименования столбцов нужно привести к нижнему регистру. В ряде столбцов (Name, Year_of_Release , Genre, Critic_Score, User_Score, Rating) есть пропуски, которые нужно обработать. Также необходимо изменить тип данных в некоторых столбцах (Year_of_Release, Critic_Score, User_Score)."
   ]
  },
  {
   "cell_type": "markdown",
   "metadata": {},
   "source": [
    "<a id='section2'></a>\n",
    "### Подготовим данные\n",
    "[Оглавление](#top)"
   ]
  },
  {
   "cell_type": "markdown",
   "metadata": {},
   "source": [
    "Приведем названия столбцов к нижнему регистру."
   ]
  },
  {
   "cell_type": "code",
   "execution_count": 7,
   "metadata": {},
   "outputs": [],
   "source": [
    "data.columns = data.columns.str.lower()"
   ]
  },
  {
   "cell_type": "markdown",
   "metadata": {},
   "source": [
    "Доля пропусков в столбцах `name`, `genre` и `year_of_release` незначительна (менее 5%), поэтому удалим пропущенные значения. "
   ]
  },
  {
   "cell_type": "code",
   "execution_count": 8,
   "metadata": {},
   "outputs": [],
   "source": [
    "data = data.dropna(subset=['name', 'genre', 'year_of_release'])"
   ]
  },
  {
   "cell_type": "markdown",
   "metadata": {},
   "source": [
    "И приведем данные в столбце `year_of_release` в целочисленный тип."
   ]
  },
  {
   "cell_type": "code",
   "execution_count": 9,
   "metadata": {},
   "outputs": [],
   "source": [
    "data['year_of_release'] = data['year_of_release'].astype('int')"
   ]
  },
  {
   "cell_type": "markdown",
   "metadata": {},
   "source": [
    "Посмотрим на уникальные значения в столбцах `critic_score`, `user_score` и `rating`."
   ]
  },
  {
   "cell_type": "code",
   "execution_count": 10,
   "metadata": {},
   "outputs": [
    {
     "data": {
      "text/plain": [
       "array([76., nan, 82., 80., 89., 58., 87., 91., 61., 97., 95., 77., 88.,\n",
       "       83., 94., 93., 85., 86., 98., 96., 90., 84., 73., 74., 78., 92.,\n",
       "       71., 72., 68., 62., 49., 67., 81., 66., 56., 79., 70., 59., 64.,\n",
       "       75., 60., 63., 69., 50., 25., 42., 44., 55., 48., 57., 29., 47.,\n",
       "       65., 54., 20., 53., 37., 38., 33., 52., 30., 32., 43., 45., 51.,\n",
       "       40., 46., 39., 34., 41., 36., 31., 27., 35., 26., 19., 28., 23.,\n",
       "       24., 21., 17., 13.])"
      ]
     },
     "execution_count": 10,
     "metadata": {},
     "output_type": "execute_result"
    }
   ],
   "source": [
    "data['critic_score'].unique()"
   ]
  },
  {
   "cell_type": "markdown",
   "metadata": {},
   "source": [
    "Можно предположить, что пропуски в столбце `critic_score` связаны с отсутствием оценки критиков. Поэтому заполним пропущенные значения в этом столбце на ноль и приведем данные в целочисленный тип."
   ]
  },
  {
   "cell_type": "code",
   "execution_count": 11,
   "metadata": {},
   "outputs": [],
   "source": [
    "data['critic_score'] = data['critic_score'].fillna(0).astype('int')"
   ]
  },
  {
   "cell_type": "code",
   "execution_count": 12,
   "metadata": {},
   "outputs": [
    {
     "data": {
      "text/plain": [
       "array(['8', nan, '8.3', '8.5', '6.6', '8.4', '8.6', '7.7', '6.3', '7.4',\n",
       "       '8.2', '9', '7.9', '8.1', '8.7', '7.1', '3.4', '5.3', '4.8', '3.2',\n",
       "       '8.9', '6.4', '7.8', '7.5', '2.6', '7.2', '9.2', '7', '7.3', '4.3',\n",
       "       '7.6', '5.7', '5', '9.1', '6.5', 'tbd', '8.8', '6.9', '9.4', '6.8',\n",
       "       '6.1', '6.7', '5.4', '4', '4.9', '4.5', '9.3', '6.2', '4.2', '6',\n",
       "       '3.7', '4.1', '5.8', '5.6', '5.5', '4.4', '4.6', '5.9', '3.9',\n",
       "       '3.1', '2.9', '5.2', '3.3', '4.7', '5.1', '3.5', '2.5', '1.9', '3',\n",
       "       '2.7', '2.2', '2', '9.5', '2.1', '3.6', '2.8', '1.8', '3.8', '0',\n",
       "       '1.6', '9.6', '2.4', '1.7', '1.1', '0.3', '1.5', '0.7', '1.2',\n",
       "       '2.3', '0.5', '1.3', '0.2', '0.6', '1.4', '0.9', '1', '9.7'],\n",
       "      dtype=object)"
      ]
     },
     "execution_count": 12,
     "metadata": {},
     "output_type": "execute_result"
    }
   ],
   "source": [
    "data['user_score'].unique()"
   ]
  },
  {
   "cell_type": "markdown",
   "metadata": {},
   "source": [
    "В столбце `user_score` встречается аббревиатура tbd (расшифровывается как To Be Determined), которая означает, что рейтинг еще не определен. Заменим это значение на nan. Приведем данные к типу `float`. Для корректного заполнения пропусков в данном столбце у нас недостаточно информации, так как пропуски вероятно связаны с отсутствием оценок пользователей. Замена на ноль будет также некорректна, так как в этом случае пропуски смешаются с реальной пользовательской оценкой."
   ]
  },
  {
   "cell_type": "code",
   "execution_count": 13,
   "metadata": {},
   "outputs": [],
   "source": [
    "data.loc[data['user_score'] == 'tbd', 'user_score'] = np.nan"
   ]
  },
  {
   "cell_type": "code",
   "execution_count": 14,
   "metadata": {},
   "outputs": [],
   "source": [
    "data['user_score'] = data['user_score'].astype('float')"
   ]
  },
  {
   "cell_type": "code",
   "execution_count": 15,
   "metadata": {},
   "outputs": [
    {
     "data": {
      "text/plain": [
       "array([8. , nan, 8.3, 8.5, 6.6, 8.4, 8.6, 7.7, 6.3, 7.4, 8.2, 9. , 7.9,\n",
       "       8.1, 8.7, 7.1, 3.4, 5.3, 4.8, 3.2, 8.9, 6.4, 7.8, 7.5, 2.6, 7.2,\n",
       "       9.2, 7. , 7.3, 4.3, 7.6, 5.7, 5. , 9.1, 6.5, 8.8, 6.9, 9.4, 6.8,\n",
       "       6.1, 6.7, 5.4, 4. , 4.9, 4.5, 9.3, 6.2, 4.2, 6. , 3.7, 4.1, 5.8,\n",
       "       5.6, 5.5, 4.4, 4.6, 5.9, 3.9, 3.1, 2.9, 5.2, 3.3, 4.7, 5.1, 3.5,\n",
       "       2.5, 1.9, 3. , 2.7, 2.2, 2. , 9.5, 2.1, 3.6, 2.8, 1.8, 3.8, 0. ,\n",
       "       1.6, 9.6, 2.4, 1.7, 1.1, 0.3, 1.5, 0.7, 1.2, 2.3, 0.5, 1.3, 0.2,\n",
       "       0.6, 1.4, 0.9, 1. , 9.7])"
      ]
     },
     "execution_count": 15,
     "metadata": {},
     "output_type": "execute_result"
    }
   ],
   "source": [
    "data['user_score'].unique()"
   ]
  },
  {
   "cell_type": "code",
   "execution_count": 16,
   "metadata": {},
   "outputs": [
    {
     "data": {
      "text/plain": [
       "array(['E', nan, 'M', 'T', 'E10+', 'K-A', 'AO', 'EC', 'RP'], dtype=object)"
      ]
     },
     "execution_count": 16,
     "metadata": {},
     "output_type": "execute_result"
    }
   ],
   "source": [
    "data['rating'].unique()"
   ]
  },
  {
   "cell_type": "markdown",
   "metadata": {},
   "source": [
    "Пропуски в столбце `rating` скорее всего связаны с тем, что рейтинг еще не определен. Заменим пропуски на Unknown."
   ]
  },
  {
   "cell_type": "code",
   "execution_count": 17,
   "metadata": {},
   "outputs": [],
   "source": [
    "data['rating'] = data['rating'].fillna('Unknown')"
   ]
  },
  {
   "cell_type": "code",
   "execution_count": 18,
   "metadata": {},
   "outputs": [
    {
     "name": "stdout",
     "output_type": "stream",
     "text": [
      "<class 'pandas.core.frame.DataFrame'>\n",
      "Int64Index: 16444 entries, 0 to 16714\n",
      "Data columns (total 11 columns):\n",
      " #   Column           Non-Null Count  Dtype  \n",
      "---  ------           --------------  -----  \n",
      " 0   name             16444 non-null  object \n",
      " 1   platform         16444 non-null  object \n",
      " 2   year_of_release  16444 non-null  int64  \n",
      " 3   genre            16444 non-null  object \n",
      " 4   na_sales         16444 non-null  float64\n",
      " 5   eu_sales         16444 non-null  float64\n",
      " 6   jp_sales         16444 non-null  float64\n",
      " 7   other_sales      16444 non-null  float64\n",
      " 8   critic_score     16444 non-null  int64  \n",
      " 9   user_score       7463 non-null   float64\n",
      " 10  rating           16444 non-null  object \n",
      "dtypes: float64(5), int64(2), object(4)\n",
      "memory usage: 1.5+ MB\n"
     ]
    }
   ],
   "source": [
    "data.info()"
   ]
  },
  {
   "cell_type": "markdown",
   "metadata": {},
   "source": [
    "Проверим данные на дубликаты."
   ]
  },
  {
   "cell_type": "code",
   "execution_count": 19,
   "metadata": {},
   "outputs": [
    {
     "data": {
      "text/html": [
       "<div>\n",
       "<style scoped>\n",
       "    .dataframe tbody tr th:only-of-type {\n",
       "        vertical-align: middle;\n",
       "    }\n",
       "\n",
       "    .dataframe tbody tr th {\n",
       "        vertical-align: top;\n",
       "    }\n",
       "\n",
       "    .dataframe thead th {\n",
       "        text-align: right;\n",
       "    }\n",
       "</style>\n",
       "<table border=\"1\" class=\"dataframe\">\n",
       "  <thead>\n",
       "    <tr style=\"text-align: right;\">\n",
       "      <th></th>\n",
       "      <th>name</th>\n",
       "      <th>platform</th>\n",
       "      <th>year_of_release</th>\n",
       "      <th>genre</th>\n",
       "      <th>na_sales</th>\n",
       "      <th>eu_sales</th>\n",
       "      <th>jp_sales</th>\n",
       "      <th>other_sales</th>\n",
       "      <th>critic_score</th>\n",
       "      <th>user_score</th>\n",
       "      <th>rating</th>\n",
       "    </tr>\n",
       "  </thead>\n",
       "  <tbody>\n",
       "  </tbody>\n",
       "</table>\n",
       "</div>"
      ],
      "text/plain": [
       "Empty DataFrame\n",
       "Columns: [name, platform, year_of_release, genre, na_sales, eu_sales, jp_sales, other_sales, critic_score, user_score, rating]\n",
       "Index: []"
      ]
     },
     "execution_count": 19,
     "metadata": {},
     "output_type": "execute_result"
    }
   ],
   "source": [
    "data[data.duplicated()].head()"
   ]
  },
  {
   "cell_type": "code",
   "execution_count": 20,
   "metadata": {},
   "outputs": [
    {
     "data": {
      "text/plain": [
       "[' Beyblade Burst',\n",
       " ' Fire Emblem Fates',\n",
       " \" Frozen: Olaf's Quest\",\n",
       " ' Haikyu!! Cross Team Match!',\n",
       " ' Tales of Xillia 2',\n",
       " \"'98 Koshien\",\n",
       " '.hack//G.U. Vol.1//Rebirth',\n",
       " '.hack//G.U. Vol.2//Reminisce',\n",
       " '.hack//G.U. Vol.2//Reminisce (jp sales)',\n",
       " '.hack//G.U. Vol.3//Redemption',\n",
       " '.hack//Infection Part 1',\n",
       " '.hack//Link',\n",
       " '.hack//Mutation Part 2',\n",
       " '.hack//Outbreak Part 3',\n",
       " '.hack//Quarantine Part 4: The Final Chapter',\n",
       " '.hack: Sekai no Mukou ni + Versus',\n",
       " '007 Racing',\n",
       " '007: Quantum of Solace',\n",
       " '007: The World is not Enough',\n",
       " '007: Tomorrow Never Dies',\n",
       " '1 vs. 100',\n",
       " '1/2 Summer +',\n",
       " '10 Minute Solution',\n",
       " '100 All-Time Favorites',\n",
       " '100 Classic Books',\n",
       " '100 Classic Games',\n",
       " '1000 Cooking Recipes from ELLE à table',\n",
       " '1001 Touch Games',\n",
       " '101-in-1 Explosive Megamix',\n",
       " '101-in-1 Party Megamix Wii',\n",
       " '101-in-1 Sports Megamix',\n",
       " '101-in-1 Sports Party Megamix',\n",
       " '1080°: TenEighty Snowboarding',\n",
       " '11eyes: CrossOver',\n",
       " '12-Sai. Honto no Kimochi',\n",
       " '12-Sai. Koisuru Diary',\n",
       " '12Riven: The Psi-Climinal of Integral',\n",
       " '15 Days',\n",
       " '1701 A.D.',\n",
       " '18 Wheeler: American Pro Trucker',\n",
       " '18 Wheels of Steel: Extreme Trucker',\n",
       " '18 Wheels of Steel: Extreme Trucker 2',\n",
       " '187: Ride or Die',\n",
       " '1942',\n",
       " '2 Games in 1 Double Pack: Hot Wheels Velocity X / Hot Wheels World Race',\n",
       " '2 Games in 1 Double Pack: The Incredibles / Finding Nemo: The Continuing Adventures',\n",
       " '2 Games in 1: Disney Princess & The Lion King',\n",
       " \"2 Games in 1: Disney's Brother Bear / The Lion King 1 1/2\",\n",
       " '2 Games in 1: Sonic Advance & ChuChu Rocket!',\n",
       " '2 Games in 1: Sonic Battle & ChuChu Rocket!',\n",
       " '2 Games in 1: Sonic Pinball Party & Columns Crown',\n",
       " '2 Games in 1: SpongeBob SquarePants: SuperSponge & Rugrats Go Wild',\n",
       " '2 in 1 Combo Pack: Sonic Heroes / Super Monkey Ball Deluxe',\n",
       " '2-in-1 Game Pack: Spider-Man & Spider-Man 2',\n",
       " '2002 FIFA World Cup',\n",
       " '2010 FIFA World Cup South Africa',\n",
       " '2014 FIFA World Cup Brazil',\n",
       " '24: The Game',\n",
       " '25 to Life',\n",
       " '2Xtreme',\n",
       " '3 in 1: Solitaire, Mahjong & Tangram',\n",
       " '300: March to Glory',\n",
       " '3D Baseball',\n",
       " '3D Dot Game Heroes',\n",
       " '3D Lemmings',\n",
       " '3D Tank Warfare Simulator Panzer Front',\n",
       " '3DS Classic Collection',\n",
       " '3Xtreme',\n",
       " '3rd Super Robot Wars Z Jigoku Hen',\n",
       " '3rd Super Robot Wars Z: Tengoku-Hen',\n",
       " '4 Elements',\n",
       " '4 Game Fun Pack: Monopoly / Boggle / Yahtzee / Battleship',\n",
       " '4 Nin uchi Mahjong',\n",
       " '4 Play Collection - Dark Mysteries',\n",
       " '40 Winks',\n",
       " '428: Fuusa Sareta Shibuya de',\n",
       " '4x4 EVO 2',\n",
       " '4x4 Evolution',\n",
       " '50 Cent: Blood on the Sand',\n",
       " '50 Cent: Bulletproof',\n",
       " '50 Classic Games',\n",
       " '64 de Hakken! Tamagotchi Minna de Tamagotchi World',\n",
       " '7 Days to Die',\n",
       " '7 Roses: A Darkness Rises',\n",
       " '7 Wonders II',\n",
       " '7 Wonders of the Ancient World',\n",
       " '7 Wonders: Treasures of Seven',\n",
       " \"7'scarlet\",\n",
       " '7th Dragon',\n",
       " '7th Dragon 2020',\n",
       " '7th Dragon 2020-II',\n",
       " '7th Dragon III Code: VFD',\n",
       " '99 no Namida',\n",
       " '999: Nine Hours, Nine Persons, Nine Doors',\n",
       " 'A Boy and His Blob',\n",
       " \"A Bug's Life\",\n",
       " 'A Collection of Activision Classic Games for the Atari 2600',\n",
       " 'A Collection of Classic Games from the Intellivision',\n",
       " 'A Game of Thrones: Genesis',\n",
       " 'A Good Librarian Like a Good Shepherd: Library Party',\n",
       " 'A New Beginning',\n",
       " 'A Ressha de Gyoukou 2001',\n",
       " 'A Ressha de Ikou DS',\n",
       " 'A Vampyre Story',\n",
       " \"A Witch's Tale\",\n",
       " 'A llI S.V.: A Ressha de Gyoukou 3 Super Version',\n",
       " 'A-Train',\n",
       " 'A-Train 6',\n",
       " 'A-Train: City Simulator',\n",
       " 'A. IV Evolution: A Ressha de Ikou 4',\n",
       " \"A.C.E.: Another Century's Episode\",\n",
       " \"A.C.E.: Another Century's Episode 2\",\n",
       " \"A.C.E.: Another Century's Episode 3: The Final\",\n",
       " \"A.C.E.: Another Century's Episode Portable\",\n",
       " \"A.C.E.: Another Century's Episode R\",\n",
       " 'ABBA: You Can Dance',\n",
       " 'AC/DC LIVE: Rock Band Track Pack',\n",
       " 'AIR',\n",
       " 'AKB1/149: Love Election',\n",
       " 'AKB1/48: Idol to Guam de Koishitara...',\n",
       " 'AKB1/48: Idol to Koishitara...',\n",
       " 'AKB48+Me',\n",
       " 'AMF Bowling 2004',\n",
       " 'AMF Bowling Pinbusters!',\n",
       " 'AMF Bowling World Lanes',\n",
       " 'AMF Xtreme Bowling',\n",
       " 'AMNESIA World',\n",
       " 'APB Reloaded',\n",
       " 'ASH: Archaic Sealed Heat',\n",
       " 'ATV Offroad Fury',\n",
       " 'ATV Offroad Fury 2',\n",
       " 'ATV Offroad Fury 3',\n",
       " 'ATV Offroad Fury Pro',\n",
       " \"ATV Offroad Fury: Blazin' Trails\",\n",
       " 'ATV Quad Kings',\n",
       " 'ATV Quad Power Racing 2',\n",
       " 'ATV/Monster Truck Mayhem',\n",
       " 'ATV: Quad Frenzy',\n",
       " 'ATV: Quad Power Racing',\n",
       " 'Aa Megami-samaa',\n",
       " 'Abunai: Koi no Sousa Shitsu',\n",
       " 'Academy of Champions: Soccer',\n",
       " 'Accel World: Ginyoku no Kakusei',\n",
       " 'Accel World: Kasoku no Chouten',\n",
       " 'Ace Attorney 6',\n",
       " 'Ace Attorney Investigations 2',\n",
       " 'Ace Attorney Investigations: Miles Edgeworth',\n",
       " 'Ace Combat 04: Shattered Skies',\n",
       " 'Ace Combat 2',\n",
       " 'Ace Combat 3: Electrosphere',\n",
       " 'Ace Combat 5: The Unsung War',\n",
       " 'Ace Combat 6: Fires of Liberation',\n",
       " 'Ace Combat X: Skies of Deception',\n",
       " 'Ace Combat Zero: The Belkan War',\n",
       " 'Ace Combat: Assault Horizon',\n",
       " 'Ace Combat: Assault Horizon Legacy',\n",
       " 'Ace Combat: Joint Assault',\n",
       " 'Achtung Panzer: Kharkov 1943',\n",
       " 'Act of Aggression',\n",
       " 'Action Bass',\n",
       " 'Action Force',\n",
       " 'Active Health with Carol Vorderman',\n",
       " 'Active Life Explorer',\n",
       " 'Active Life: Extreme Challenge',\n",
       " 'Active Life: Magical Carnival',\n",
       " 'Active Life: Outdoor Challenge',\n",
       " 'Activision Anthology',\n",
       " 'Activision Hits: Remixed',\n",
       " 'Actua Tennis',\n",
       " 'Adidas Power Soccer',\n",
       " 'Adidas Power Soccer 98',\n",
       " 'Adrenalin Misfits',\n",
       " 'Advance Guardian Heroes',\n",
       " 'Advance Wars',\n",
       " 'Advance Wars 2: Black Hole Rising',\n",
       " 'Advance Wars: Dual Strike',\n",
       " 'Advent Rising',\n",
       " 'Adventure Island',\n",
       " \"Adventure Time: Explore the Dungeon Because I Don't Know!\",\n",
       " 'Adventure Time: Finn & Jake Investigations',\n",
       " 'Adventure Time: The Secret of the Nameless ',\n",
       " 'Adventure Time: The Secret of the Nameless Kingdom',\n",
       " 'Adventures of Lolo',\n",
       " 'Adventures of Tron',\n",
       " 'Adventures to Go!',\n",
       " 'Aedis Eclipse: Generation of Chaos',\n",
       " 'Aegis of Earth: Protonovus Assault',\n",
       " 'Aeon Flux',\n",
       " 'Aero Elite: Combat Academy',\n",
       " 'Aero Gauge',\n",
       " 'AeroFighters Assault',\n",
       " 'Afrika',\n",
       " 'Afro Samurai',\n",
       " 'After Hours Athletes',\n",
       " 'Again',\n",
       " 'Agassi Tennis Generation',\n",
       " \"Agatha Christie's The ABC Murders\",\n",
       " 'Agatha Christie: And Then There Were None',\n",
       " 'Agatha Christie: Death on the Nile',\n",
       " 'Agatha Christie: Evil Under the Sun',\n",
       " 'Agatha Christie: Peril at End House',\n",
       " 'Agatha Christie: The ABC Murders',\n",
       " 'Age of Conan: Rise of the Godslayer',\n",
       " 'Age of Empires II: The Age of Kings',\n",
       " 'Age of Empires III',\n",
       " 'Age of Empires III: Complete Collection',\n",
       " 'Age of Empires III: Gold Edition',\n",
       " 'Age of Empires III: The Asian Dynasties',\n",
       " 'Age of Empires Online',\n",
       " \"Age of Empires: Collector's Edition\",\n",
       " 'Age of Empires: Mythologies',\n",
       " 'Age of Empires: The Age of Kings',\n",
       " 'Age of Mythology',\n",
       " 'Age of Mythology: The Titans',\n",
       " 'Aggressive Inline',\n",
       " 'Agile Warrior F-111X',\n",
       " 'Aibou DS',\n",
       " 'Aidyn Chronicles: The First Mage',\n",
       " 'Aikatsu Stars! My Special Appeal',\n",
       " 'Aikatsu! 2-nin no My Princess',\n",
       " 'Aikatsu! 365 Idol Days',\n",
       " 'Aikatsu! Cinderella Lesson',\n",
       " 'Aikatsu! My No.1 Stage!',\n",
       " 'Ailu de Puzzle',\n",
       " 'Air Combat',\n",
       " 'Air Conflicts: Aces of World War II',\n",
       " 'Air Conflicts: Secret Wars',\n",
       " 'Air Raid',\n",
       " 'Air Traffic Chaos',\n",
       " 'AirForce Delta Storm',\n",
       " 'AirForce Delta Strike',\n",
       " 'Airblade',\n",
       " 'Airborne Troops: Countdown to D-Day',\n",
       " 'Airline Tycoon',\n",
       " 'Airline Tycoon 2',\n",
       " 'Airlock',\n",
       " 'Airport Simulator',\n",
       " 'Airship Q',\n",
       " 'Aiyoku no Eustia',\n",
       " 'Akagawa Jirou Mystery: Yasoukyoku - Hon ni Manekareta Satsujin',\n",
       " 'Akai Ito DS',\n",
       " 'Akai Katana Shin',\n",
       " 'Akane Iro ni Somaru Saka Parallel',\n",
       " 'Akatsuki no Amaneka to Aoi Kyojin',\n",
       " 'Akatsuki no Goei Trinity',\n",
       " \"Akiba's Trip\",\n",
       " \"Akiba's Trip Plus\",\n",
       " \"Akiba's Trip: Undead & Undressed\",\n",
       " 'Akko ni Omakase! Brain Shock',\n",
       " 'Akuji the Heartless',\n",
       " 'Aladdin Magic Racer',\n",
       " 'Alan Wake',\n",
       " 'Alexi Lalas International Soccer',\n",
       " 'Alfa Romeo Racing Italiano',\n",
       " \"Alia's Carnival! Sacrament\",\n",
       " 'Alias',\n",
       " 'Alice in Wonderland',\n",
       " 'Alice: Madness Returns',\n",
       " 'Alien',\n",
       " 'Alien Breed Trilogy',\n",
       " 'Alien Hominid',\n",
       " 'Alien Monster Bowling League',\n",
       " 'Alien Resurrection',\n",
       " 'Alien Syndrome',\n",
       " 'Alien Trilogy',\n",
       " \"Alien's Return\",\n",
       " 'Alien: Isolation',\n",
       " 'Alienators: Evolution Continues',\n",
       " 'Aliens in the Attic',\n",
       " 'Aliens versus Predator: Extinction',\n",
       " 'Aliens vs Predator',\n",
       " 'Aliens vs Predator: Requiem',\n",
       " 'Aliens: Colonial Marines',\n",
       " 'Aliens: Infestation',\n",
       " 'All Grown Up! Express Yourself',\n",
       " 'All Grown Up!: Game Boy Advance Video Volume 1',\n",
       " 'All Japan Pro Wrestling featuring Virtua',\n",
       " 'All Kamen Rider: Rider Generation',\n",
       " 'All Kamen Rider: Rider Generation 2',\n",
       " 'All Points Bulletin',\n",
       " 'All Star Cheer Squad',\n",
       " 'All Star Cheer Squad 2',\n",
       " 'All Star Karate',\n",
       " 'All Star Pro-Wrestling',\n",
       " 'All Star Tennis 99',\n",
       " 'All-Pro Football 2K8',\n",
       " 'All-Star Baseball 2000',\n",
       " 'All-Star Baseball 2001',\n",
       " 'All-Star Baseball 2002',\n",
       " 'All-Star Baseball 2003',\n",
       " 'All-Star Baseball 2004',\n",
       " 'All-Star Baseball 99',\n",
       " 'Alleyway',\n",
       " 'Allied General',\n",
       " 'Alone in the Dark',\n",
       " 'Alone in the Dark: Inferno',\n",
       " \"Alone in the Dark: One-Eyed Jack's Revenge\",\n",
       " 'Alpha Protocol',\n",
       " 'Alpha and Omega',\n",
       " 'Alter Echo',\n",
       " 'Alter Ego',\n",
       " 'Altered Beast: Guardian of the Realms',\n",
       " 'Alundra',\n",
       " 'Alundra 2: A New Legend Begins',\n",
       " 'Alvin and the Chipmunks',\n",
       " 'Alvin and the Chipmunks: Chipwrecked',\n",
       " 'Alvin and the Chipmunks: The Squeakquel',\n",
       " 'Amagami',\n",
       " 'Amagoushi no Yakata',\n",
       " 'Amatsumi Sora ni! Kumo no Hatate ni',\n",
       " 'Amazing Adventures: The Forgotten Ruins',\n",
       " 'Amazing Island',\n",
       " 'America Oudan Ultra-Quiz',\n",
       " \"America's Army: Rise of a Soldier\",\n",
       " \"America's Army: True Soldiers\",\n",
       " \"America's Next Top Model\",\n",
       " \"America's Test Kitchen: Let's Get Cooking\",\n",
       " 'American Bass Challenge',\n",
       " 'American Chopper',\n",
       " 'American Chopper 2: Full Throttle',\n",
       " 'American Girl: Julie Finds a Way',\n",
       " 'American Girl: Kit Mystery Challenge!',\n",
       " 'American Idol',\n",
       " 'Amnesia',\n",
       " 'Amnesia Crowd',\n",
       " 'Amnesia Later',\n",
       " 'Amped 2',\n",
       " 'Amped 3',\n",
       " 'Amped: Freestyle Snowboarding',\n",
       " 'Amplitude',\n",
       " \"An American Tail: Fievel's Gold Rush\",\n",
       " 'Anarchy Reigns',\n",
       " 'And1 Streetball',\n",
       " 'Andretti Racing',\n",
       " 'Angel Blade: Neo Tokyo Guardians',\n",
       " 'Angelique Duet',\n",
       " 'Angelique Retour',\n",
       " 'Angelique Trois',\n",
       " 'Angelique: Maren no Rokukishi',\n",
       " \"Angler's Club: Ultimate Bass Fishing 3D\",\n",
       " 'Angry Birds',\n",
       " 'Angry Birds Star Wars',\n",
       " 'Angry Birds Trilogy',\n",
       " 'Angry Birds: Rio',\n",
       " 'AniMates!',\n",
       " 'Anima - Gate of Memories',\n",
       " 'Animal Crossing',\n",
       " 'Animal Crossing: Amiibo Festival',\n",
       " 'Animal Crossing: City Folk',\n",
       " 'Animal Crossing: Happy Home Designer',\n",
       " 'Animal Crossing: New Leaf',\n",
       " 'Animal Crossing: Wild World',\n",
       " 'Animal Genius',\n",
       " 'Animal Kingdom: Wildlife Expedition',\n",
       " 'Animal Paradise',\n",
       " 'Animal Planet: Emergency Vets',\n",
       " 'Animal Planet: Vet Collection',\n",
       " 'Animal Planet: Vet Life',\n",
       " 'Animaniacs Ten Pin Alley',\n",
       " 'Animaniacs: The Great Edgar Hunt',\n",
       " 'Animorphs: Shattered Reality',\n",
       " 'Anno 1701: Dawn of Discovery',\n",
       " 'Anno 2070',\n",
       " 'Anno 2205',\n",
       " 'Ano Hi Mita Hana no Namae o Bokutachi wa Mada Shiranai',\n",
       " 'Another Code R: A Journey into Lost Memories',\n",
       " 'Ansatsu Kyoushitsu: Assassin Ikusei Keikaku!!',\n",
       " 'Ant Nation',\n",
       " 'Antiphona no Seikahime: Tenshi no Gakufu Op.A',\n",
       " 'Antz Extreme Racing',\n",
       " 'Anubis II',\n",
       " 'Ao no Exorcist: Genkoku no Labyrinth',\n",
       " 'Ao no Kanata no Four Rhythm',\n",
       " 'Aoishiro',\n",
       " 'Apache: Air Assault',\n",
       " 'Apassionata: Die Galanacht der Pferde',\n",
       " 'Ape Escape',\n",
       " 'Ape Escape 2',\n",
       " 'Ape Escape 3',\n",
       " 'Ape Escape Academy',\n",
       " 'Ape Escape Academy (jp sales)',\n",
       " 'Ape Escape: On the Loose',\n",
       " 'Ape Escape: Pumped & Primed',\n",
       " 'Apex',\n",
       " 'Apocalypse',\n",
       " 'Apollo Justice: Ace Attorney',\n",
       " 'Aqua Aqua',\n",
       " 'Aqua Panic!',\n",
       " 'Aqua Teen Hunger Force: Zombie Ninja Pro-Am',\n",
       " 'Aquaman: Battle for Atlantis',\n",
       " \"Aquanaut's Holiday\",\n",
       " \"Aquanaut's Holiday: Kakusareta Kiroku\",\n",
       " 'Aquapazza: Aquaplus Dream Match',\n",
       " 'Aquarium by DS',\n",
       " 'Ar Nosurge: Ode to an Unborn Star',\n",
       " 'Ar tonelico 2: Melody of Metafalica',\n",
       " 'Ar tonelico Qoga: Knell of Ar Ciel',\n",
       " 'Ar tonelico: Melody of Elemia',\n",
       " 'Arabians Lost: The Engagement on Desert',\n",
       " 'Arc Rise Fantasia',\n",
       " 'Arc the Lad',\n",
       " 'Arc the Lad II',\n",
       " 'Arc the Lad III',\n",
       " 'Arc the Lad: End of Darkness',\n",
       " 'Arc the Lad: Twilight of the Spirits',\n",
       " 'Arcade Hits: Frisky Tom',\n",
       " 'Arcade Party Pak',\n",
       " 'Arcade Shooting Gallery',\n",
       " 'Arcade Zone',\n",
       " 'Arcana Famiglia 2',\n",
       " 'Arcana Famiglia: La storia della Aracana Famiglia',\n",
       " 'Arcana Famiglia: Vascello Phantasma no Majutsushi',\n",
       " 'Arcana Heart',\n",
       " 'Arcana Heart 3',\n",
       " 'Arcania: Gothic 4',\n",
       " 'Archer Maclean Presents: Pool Paradise',\n",
       " \"Archer Maclean's 3D Pool\",\n",
       " \"Archer Maclean's Mercury\",\n",
       " 'Arctic Tale',\n",
       " 'Arctic Thunder',\n",
       " 'Are You Alice?',\n",
       " 'Are You Smarter Than A 5th Grader?',\n",
       " 'Are You Smarter Than a 5th Grader? Back to School',\n",
       " 'Are You Smarter than a 5th Grader? Game Time',\n",
       " 'Are You Smarter than a 5th Grader? Make the Grade',\n",
       " 'Area 51',\n",
       " 'Arena Football',\n",
       " 'Aria: The Natural ~Tooi Yume no Mirage~',\n",
       " 'Aria: The Origination ~Aoi Wakusei no El Cielo~',\n",
       " 'Arkanoid DS',\n",
       " 'ArmA II',\n",
       " 'ArmA III',\n",
       " 'Armed and Dangerous',\n",
       " 'Armor Ambush',\n",
       " 'Armored Core',\n",
       " 'Armored Core 2',\n",
       " 'Armored Core 2: Another Age',\n",
       " 'Armored Core 3',\n",
       " 'Armored Core 3 Portable',\n",
       " 'Armored Core 4',\n",
       " 'Armored Core SL: Silent Line Portable',\n",
       " 'Armored Core V',\n",
       " 'Armored Core: For Answer',\n",
       " 'Armored Core: Formula Front Extreme Battle',\n",
       " 'Armored Core: Last Raven',\n",
       " 'Armored Core: Last Raven Portable',\n",
       " 'Armored Core: Master of Arena',\n",
       " 'Armored Core: Nexus',\n",
       " 'Armored Core: Nine Breaker',\n",
       " 'Armored Core: Project Phantasma',\n",
       " 'Armored Core: Silent Line',\n",
       " 'Armored Core: Verdict Day',\n",
       " 'Armorines: Project S.W.A.R.M.',\n",
       " 'Army Corps of Hell',\n",
       " 'Army Men 3D',\n",
       " 'Army Men World War: Final Front',\n",
       " 'Army Men World War: Land, Sea, Air',\n",
       " 'Army Men World War: Team Assault',\n",
       " 'Army Men: Air Attack',\n",
       " 'Army Men: Air Attack 2',\n",
       " 'Army Men: Air Combat',\n",
       " 'Army Men: Air Combat - The Elite Missions',\n",
       " 'Army Men: Green Rogue',\n",
       " 'Army Men: Major Malfunction',\n",
       " 'Army Men: RTS',\n",
       " \"Army Men: Sarge's Heroes\",\n",
       " \"Army Men: Sarge's Heroes 2\",\n",
       " \"Army Men: Sarge's War\",\n",
       " 'Army Men: Soldiers of Misfortune',\n",
       " 'Army Rescue',\n",
       " 'Army of Two',\n",
       " 'Army of Two: The 40th Day',\n",
       " \"Army of Two: The Devil's Cartel\",\n",
       " 'Around the World in 80 Days',\n",
       " 'Arslan: The Warriors of Legend',\n",
       " 'Art Academy',\n",
       " 'Art Academy: Home Studio',\n",
       " 'Art Academy: Lessons for Everyone',\n",
       " 'Art of Fighting 3: The Path of the Warrior',\n",
       " 'Art of Fighting Anthology',\n",
       " 'Arthur and the Invisibles',\n",
       " 'Arthur! Ready to Race',\n",
       " 'Arx Fatalis',\n",
       " 'Ashes Cricket 2009',\n",
       " 'Asphalt 3D',\n",
       " 'Asphalt: Injection',\n",
       " 'Asphalt: Urban GT',\n",
       " 'Asphalt: Urban GT 2',\n",
       " \"Assassin's Creed\",\n",
       " \"Assassin's Creed Chronicles\",\n",
       " \"Assassin's Creed Chronicles: China\",\n",
       " \"Assassin's Creed II\",\n",
       " \"Assassin's Creed II: Discovery\",\n",
       " \"Assassin's Creed III\",\n",
       " \"Assassin's Creed III: Liberation\",\n",
       " \"Assassin's Creed IV: Black Flag\",\n",
       " \"Assassin's Creed Syndicate\",\n",
       " \"Assassin's Creed The Ezio Collection\",\n",
       " \"Assassin's Creed: Altair's Chronicles\",\n",
       " \"Assassin's Creed: Bloodlines\",\n",
       " \"Assassin's Creed: Brotherhood\",\n",
       " \"Assassin's Creed: Revelations\",\n",
       " \"Assassin's Creed: Rogue\",\n",
       " \"Assassin's Creed: Unity\",\n",
       " 'Assassination Classroom: Grand Siege on Kuro-sensei',\n",
       " 'Assault',\n",
       " 'Assault Rigs',\n",
       " 'Assault Suit Leynos',\n",
       " 'Assault: Retribution',\n",
       " 'Assetto Corsa',\n",
       " 'Asterix & Obelix: Kick Buttix',\n",
       " 'Asteroids',\n",
       " 'Asteroids Hyper 64',\n",
       " 'Astonishia Story',\n",
       " 'Astro Boy',\n",
       " 'Astro Boy: Omega Factor',\n",
       " 'Astro Boy: The Video Game',\n",
       " 'Astroblast',\n",
       " 'Astrology DS',\n",
       " \"Asura's Wrath\",\n",
       " 'Atari Anniversary Advance',\n",
       " 'Atari Anniversary Edition Redux',\n",
       " 'Atari Anthology',\n",
       " 'Atari Classics Evolved',\n",
       " 'Atari Flashback Classics: Volume 1',\n",
       " 'Atari Flashback Classics: Volume 2',\n",
       " \"Atari's Greatest Hits: Volume 1\",\n",
       " \"Atari's Greatest Hits: Volume 2\",\n",
       " 'Atelier Annie: Alchemists of Sera Island',\n",
       " 'Atelier Ayesha: The Alchemist of Dusk',\n",
       " 'Atelier Escha & Logy: Alchemists of the Dusk Sky',\n",
       " 'Atelier Firis: The Alchemist of the Mysterious Journey',\n",
       " 'Atelier Iris 2: The Azoth Of Destiny',\n",
       " 'Atelier Iris 3: Grand Phantasm (JP Sales)',\n",
       " 'Atelier Iris 3: Grand Phantasm (US Sales)',\n",
       " 'Atelier Iris: Eternal Mana',\n",
       " 'Atelier Meruru: Alchemist of Arland 3',\n",
       " 'Atelier Rorona: Alchemist of Arland',\n",
       " 'Atelier Shallie Plus: Alchemists of the Dusk Sea',\n",
       " 'Atelier Shallie: Alchemists of the Dusk Sea',\n",
       " 'Atelier Sophie: The Alchemist of the Mysterious Book',\n",
       " 'Atelier Totori: The Adventurer of Arland',\n",
       " 'Athens 2004',\n",
       " 'Atlantic Quest',\n",
       " 'Atlantis',\n",
       " 'Atomic Betty',\n",
       " 'Attack of the Movies 3D',\n",
       " 'Attack on Titan (KOEI)',\n",
       " 'Attack on Titan: Humanity in Chains',\n",
       " 'Auto Destruct',\n",
       " 'Auto Modellista',\n",
       " 'Automobili Lamborghini',\n",
       " 'Avalon Code',\n",
       " 'Avatar: The Game',\n",
       " 'Avatar: The Last Airbender',\n",
       " 'Avatar: The Last Airbender - Into the Inferno',\n",
       " 'Avatar: The Last Airbender - The Burning Earth',\n",
       " 'Away: Shuffle Dungeon',\n",
       " 'Azada',\n",
       " 'Azure Dreams',\n",
       " 'Azure Striker Gunvolt',\n",
       " 'Azure Striker Gunvolt: Striker Pack',\n",
       " 'Azurik: Rise of Perathia',\n",
       " \"B's-LOG Party♪\",\n",
       " 'B-17: Fortress in the Sky',\n",
       " 'B-Boy',\n",
       " 'BCFX: The Black College Football Xperience, The Doug Williams Edition',\n",
       " 'BIT.TRIP COMPLETE',\n",
       " 'BIT.TRIP SAGA',\n",
       " 'BMX XXX',\n",
       " 'BRAHMA Force: The Assault on Beltlogger 9',\n",
       " 'Baby Pals',\n",
       " 'Babysitting Mama',\n",
       " 'Babysitting Mania',\n",
       " 'Back At The Barnyard: Slop Bucket Games',\n",
       " 'Back to the Future: The Game',\n",
       " 'Backstreet Billiards',\n",
       " 'Backyard Baseball',\n",
       " \"Backyard Baseball '09\",\n",
       " \"Backyard Baseball '10\",\n",
       " 'Backyard Baseball 2006',\n",
       " 'Backyard Basketball',\n",
       " 'Backyard Hockey',\n",
       " 'Backyard NBA Basketball',\n",
       " 'Backyard NFL Football',\n",
       " \"Backyard NFL Football '08\",\n",
       " \"Backyard NFL Football '09\",\n",
       " \"Backyard NFL Football '10\",\n",
       " 'Backyard NFL Football 2006',\n",
       " 'Backyard Skateboarding 2006',\n",
       " 'Backyard Soccer',\n",
       " 'Backyard Sports Football: Rookie Rush',\n",
       " 'Backyard Sports: Sandlot Sluggers',\n",
       " 'Backyard Wrestling 2: There Goes the Neighborhood',\n",
       " \"Backyard Wrestling: Don't Try This at Home\",\n",
       " 'Bad Apple Wars',\n",
       " 'Bad Boys: Miami Takedown',\n",
       " 'Bae Yong-joon to Manabu Kankokugo DS',\n",
       " 'Bahamut Lagoon',\n",
       " 'Baja: Edge of Control',\n",
       " 'Bakemonogatari Portable',\n",
       " 'Baku Baku',\n",
       " 'Bakugan Battle Brawlers: Defenders of the Core',\n",
       " 'Bakugan: Battle Brawlers',\n",
       " 'Bakugan: Battle Trainer',\n",
       " 'Bakugan: Rise of the Resistance',\n",
       " 'Bakumatsu Koihana: Shinsengumi DS',\n",
       " 'Bakumatsu Renka: Karyuu Kenshi-den',\n",
       " 'Bakumatsu Rock',\n",
       " 'Bakumatsu Rock: Ultra Soul',\n",
       " 'Bakusou Dekotora Densetsu: Otoko Ippiki Yume Kaidoi',\n",
       " \"Bakusou Kyoudai Let's & Go!! Eternal Wings\",\n",
       " \"Baldur's Gate: Dark Alliance\",\n",
       " \"Baldur's Gate: Dark Alliance II\",\n",
       " 'Ball Breakers',\n",
       " 'Ballblazer Champions',\n",
       " 'Ballistic',\n",
       " 'Ballistic: Ecks vs. Sever',\n",
       " 'Balloon Fight',\n",
       " 'Balloon Pop',\n",
       " 'Balloon Pop 2',\n",
       " 'Balls of Fury',\n",
       " 'Band Hero',\n",
       " 'Bangai-O Spirits',\n",
       " 'Banjo-Kazooie',\n",
       " \"Banjo-Kazooie: Grunty's Revenge\",\n",
       " 'Banjo-Kazooie: Nuts & Bolts',\n",
       " 'Banjo-Pilot',\n",
       " 'Banjo-Tooie',\n",
       " 'Bank Heist',\n",
       " \"Banushi Life Game: Winner's Circle\",\n",
       " 'Barbarian',\n",
       " 'Barbie Explorer',\n",
       " 'Barbie Fashion Show: An Eye for Style',\n",
       " 'Barbie Groovy Games',\n",
       " 'Barbie Horse Adventures: Blue Ribbon Race',\n",
       " 'Barbie Horse Adventures: Riding Camp',\n",
       " 'Barbie Horse Adventures: Wild Horse Rescue',\n",
       " 'Barbie Super Sports',\n",
       " 'Barbie Superpack: Secret Agent / Groovy Games',\n",
       " 'Barbie and Her Sisters Puppy Rescue',\n",
       " 'Barbie and the Magic of Pegasus',\n",
       " 'Barbie and the Three Musketeers',\n",
       " 'Barbie as The Island Princess',\n",
       " 'Barbie as the Princess and the Pauper',\n",
       " 'Barbie in The 12 Dancing Princesses',\n",
       " 'Barbie: Groom and Glam Pups',\n",
       " 'Barbie: Jet, Set & Style!',\n",
       " 'Barbie: Race & Ride',\n",
       " 'Barnstorming',\n",
       " 'Barnyard',\n",
       " 'Barnyard Blast: Swine of the Night',\n",
       " 'Baroque',\n",
       " 'Baseball',\n",
       " 'Baseball Advance',\n",
       " 'Baseball Blast!',\n",
       " \"Bases Loaded '96: Double Header\",\n",
       " 'Basketball Hall of Fame Ultimate Hoops Challenge',\n",
       " 'Bass Hunter 64',\n",
       " 'Bass Landing',\n",
       " 'Bass Pro Shops: The Hunt',\n",
       " 'Bass Pro Shops: The Strike',\n",
       " 'Bass Rise',\n",
       " 'Bass Strike',\n",
       " 'Bassmasters 2000',\n",
       " 'Bastard!! Utsuro Naru Kamigami no Utsuwa',\n",
       " 'Baten Kaitos Origins',\n",
       " 'Baten Kaitos: Eternal Wings and the Lost Ocean',\n",
       " 'Batman & Robin',\n",
       " 'Batman Begins',\n",
       " 'Batman Beyond: Return of the Joker',\n",
       " 'Batman Forever: The Arcade Game',\n",
       " 'Batman: A Telltale Game Series',\n",
       " 'Batman: Arkham Asylum',\n",
       " 'Batman: Arkham City',\n",
       " 'Batman: Arkham Knight',\n",
       " 'Batman: Arkham Origins',\n",
       " 'Batman: Arkham Origins Blackgate',\n",
       " 'Batman: Arkham VR',\n",
       " 'Batman: Dark Tomorrow',\n",
       " 'Batman: Gotham City Racer',\n",
       " 'Batman: Return to Arkham',\n",
       " 'Batman: Rise of Sin Tzu',\n",
       " 'Batman: The Brave and the Bold the Videogame',\n",
       " 'Batman: Vengeance',\n",
       " 'Battalion Wars',\n",
       " 'Battalion Wars 2',\n",
       " 'Battle & Get! Pokemon Typing DS',\n",
       " 'Battle Arena Toshinden',\n",
       " 'Battle Arena Toshinden 2',\n",
       " 'Battle Arena Toshinden 3',\n",
       " 'Battle Arena Toshinden Remix',\n",
       " 'Battle Arena Toshinden URA',\n",
       " 'Battle Assault 3 featuring Gundam Seed',\n",
       " 'Battle Commander: Hachibushu Shura no Heihou',\n",
       " 'Battle Dodge Ball',\n",
       " 'Battle Engine Aquila',\n",
       " 'Battle Fantasia',\n",
       " 'Battle Hunter',\n",
       " 'Battle Princess of Arcadias',\n",
       " 'Battle Rage',\n",
       " 'Battle Soccer: Field no Hasha',\n",
       " 'Battle Spirits: Digital Starter',\n",
       " \"Battle Spirits: Hero's Soul\",\n",
       " 'Battle Spirits: Kiseki no Hasha',\n",
       " 'Battle Stadium D.O.N',\n",
       " 'Battle Stations',\n",
       " 'Battle Worlds: Kronos',\n",
       " 'Battle of Giants: Dinosaurs',\n",
       " 'Battle of Giants: Dinosaurs Strike',\n",
       " 'Battle of Giants: Dragons',\n",
       " 'Battle of Giants: Mutant Insects',\n",
       " 'Battle vs. Chess',\n",
       " 'BattleBots: Beyond the BattleBox',\n",
       " 'BattleForge',\n",
       " 'BattleTanx',\n",
       " 'BattleTanx: Global Assault',\n",
       " 'Battleborn',\n",
       " 'Battlebots: Design & Destroy',\n",
       " 'Battlefield 1',\n",
       " 'Battlefield 1942',\n",
       " 'Battlefield 1942: The WW II Anthology',\n",
       " 'Battlefield 2',\n",
       " 'Battlefield 2142',\n",
       " 'Battlefield 2: Modern Combat',\n",
       " 'Battlefield 2: Modern Combat(JP sales)',\n",
       " 'Battlefield 3',\n",
       " 'Battlefield 4',\n",
       " 'Battlefield Vietnam',\n",
       " 'Battlefield: Bad Company',\n",
       " 'Battlefield: Bad Company 2',\n",
       " 'Battlefield: Hardline',\n",
       " 'Battles of Prince of Persia',\n",
       " 'Battleship / Connect Four / Sorry! / Trouble',\n",
       " 'Battlestar Galactica',\n",
       " 'Battlestations: Midway',\n",
       " 'Battlestations: Pacific',\n",
       " 'Battlezone',\n",
       " 'Battlezone: Rise of the Black Dogs',\n",
       " 'Bayonetta',\n",
       " 'Bayonetta 2',\n",
       " 'Beach Spikers: Virtua Beach Volleyball',\n",
       " 'Beamrider',\n",
       " 'Beastly',\n",
       " 'Beastly Frantic Foto',\n",
       " 'Beat City',\n",
       " 'Beat Down: Fists of Vengeance',\n",
       " 'Beat Sketch!',\n",
       " 'BeatMania',\n",
       " 'BeatMania Append 3rdMix',\n",
       " 'BeatMania Append 4thMix: The beat goes on',\n",
       " 'BeatMania Append GottaMix',\n",
       " 'BeatMania IIDX 11: IIDX Red',\n",
       " 'BeatMania IIDX 13: DistorteD',\n",
       " 'BeatMania IIDX 14 Gold',\n",
       " 'BeatMania IIDX 15: DJ Troopers',\n",
       " 'BeatMania IIDX 16: Empress + Premium Best',\n",
       " 'BeatMania IIDX 3rd Style',\n",
       " 'BeatMania IIDX 4th Style: New Songs Collection',\n",
       " 'Beatdown: Fists of Vengeance',\n",
       " 'Beaterator',\n",
       " 'Beautiful Katamari',\n",
       " 'Bee Movie Game',\n",
       " 'Beetle Adventure Racing!',\n",
       " 'Beijing 2008',\n",
       " 'Bejeweled 2 Deluxe',\n",
       " 'Bejeweled 3',\n",
       " 'Bejeweled Blitz',\n",
       " 'Bejeweled Twist',\n",
       " 'Bella Sara',\n",
       " 'Bella Sara 2 - The Magic of Drasilmare',\n",
       " 'Ben 10 Alien Force: Vilgax Attacks',\n",
       " 'Ben 10 Galactic Racing',\n",
       " 'Ben 10 Omniverse 2',\n",
       " 'Ben 10 Triple Pack',\n",
       " 'Ben 10 Ultimate Alien: Cosmic Destruction',\n",
       " 'Ben 10: Alien Force',\n",
       " 'Ben 10: Protector of Earth',\n",
       " \"Bentley's Hackpack\",\n",
       " 'Beowulf: The Game',\n",
       " 'Berserk and the Band of the Hawk',\n",
       " 'Berzerk',\n",
       " 'Best Friends Tonight',\n",
       " 'Best Of Tests',\n",
       " \"Betty Boop's Double Shift\",\n",
       " 'BeyBlade VForce: Super Tournament Battle',\n",
       " 'Beyblade Evolution',\n",
       " 'Beyblade G-Revolution',\n",
       " 'Beyblade VForce: Ultimate Blader Jam',\n",
       " 'Beyblade: Metal Fusion',\n",
       " 'Beyblade: Metal Fusion - Battle Fortress',\n",
       " 'Beyblade: Metal Masters',\n",
       " 'Beyond Good & Evil',\n",
       " 'Beyond Oasis',\n",
       " 'Beyond The Beyond',\n",
       " 'Beyond: Two Souls',\n",
       " 'Bicycle Casino 2005',\n",
       " 'Big Air',\n",
       " 'Big Air Freestyle',\n",
       " 'Big Bang Mini',\n",
       " 'Big Bass Fishing',\n",
       " 'Big Bass World Championship',\n",
       " 'Big Beach Sports',\n",
       " 'Big Brain Academy',\n",
       " 'Big Brain Academy: Wii Degree',\n",
       " 'Big Family Games',\n",
       " 'Big Hero 6: Battle in the Bay',\n",
       " 'Big Ichigeki! Pachi-Slot Taikouryku Universal Museum',\n",
       " \"Big Idea's VeggieTales: LarryBoy and the Bad Apple\",\n",
       " 'Big League Sports',\n",
       " 'Big League Sports: Summer',\n",
       " 'Big Mountain 2000',\n",
       " 'Big Mutha Truckers',\n",
       " 'Big Mutha Truckers 2',\n",
       " 'Big Strike Bowling',\n",
       " 'Bigfoot King of Crush',\n",
       " 'Bigfoot: Collision Course',\n",
       " 'Biker Mice From Mars',\n",
       " 'Billy Hatcher and the Giant Egg',\n",
       " 'Billy the Wizard: Rocket Broomstick Racing',\n",
       " \"Billy's Boot Camp: Wii de Enjoy Diet!\",\n",
       " 'Binary Domain',\n",
       " 'Binary Star',\n",
       " 'Bio FREAKS',\n",
       " 'BioShock',\n",
       " 'BioShock 2',\n",
       " 'BioShock Infinite',\n",
       " 'BioShock The Collection',\n",
       " 'Biohazard: Revival Selection',\n",
       " 'Bionic Commando',\n",
       " 'Bionicle',\n",
       " 'Bionicle Heroes',\n",
       " 'Bionicle: Matoran Adventures',\n",
       " 'Birds of Steel',\n",
       " 'Birthday Party Bash',\n",
       " 'Bishoujo Senshi Sailormoon R',\n",
       " 'Bishoujo Senshi Sailormoon S: Juugai Rantou!? Shuyaku Soudatsusen',\n",
       " 'Black',\n",
       " 'Black & Bruised',\n",
       " 'Black & White',\n",
       " 'Black & White 2',\n",
       " 'Black * Rock Shooter: The Game',\n",
       " 'Black Bass with Blue Marlin',\n",
       " 'Black Cat',\n",
       " 'Black Dawn',\n",
       " 'Black Jack vs. Matsudajun',\n",
       " 'Black Mirror 2',\n",
       " 'Black Rose Valkyrie',\n",
       " 'Black Sigil: Blade of the Exiled',\n",
       " 'Black Stone: Magic & Steel',\n",
       " 'Black/Matrix',\n",
       " 'Blacksite: Area 51',\n",
       " 'Blackthorne',\n",
       " 'Blackwater',\n",
       " 'Blade Arcus from Shining EX',\n",
       " 'Blade Dancer: Lineage of Light',\n",
       " 'Blade II',\n",
       " 'Blades of Blood: Samurai Shodown III',\n",
       " 'Blades of Time',\n",
       " 'Bladestorm: Nightmare',\n",
       " \"Bladestorm: The Hundred Years' War\",\n",
       " 'Blast Chamber',\n",
       " 'Blast Corps',\n",
       " 'Blast Lacrosse',\n",
       " 'Blast Radius',\n",
       " 'Blast Works: Build, Trade, Destroy',\n",
       " 'Blaster Master: Blasting Again',\n",
       " 'Blasto',\n",
       " 'BlazBlue Central Fiction',\n",
       " 'BlazBlue: Calamity Trigger',\n",
       " 'BlazBlue: Calamity Trigger Portable',\n",
       " 'BlazBlue: Chrono Phantasma',\n",
       " 'BlazBlue: Chrono Phantasma Extend',\n",
       " 'BlazBlue: Continuum Shift',\n",
       " 'BlazBlue: Continuum Shift II',\n",
       " 'Blazblue: Continuum Shift Extend',\n",
       " 'Blaze Union: Story to Reach the Future',\n",
       " 'Blazer Drive',\n",
       " 'Blazing Angels 2: Secret Missions of WWII',\n",
       " 'Blazing Angels: Squadrons of WWII',\n",
       " 'Blazing Dragons',\n",
       " 'Blazing Heroes',\n",
       " 'Blazing Souls',\n",
       " 'Blazing Souls: Accelate',\n",
       " 'Bleach DS 4th: Flame Bringer',\n",
       " 'Bleach GC: Tasogare Ni Mamieru Shinigami',\n",
       " 'Bleach: Blade Battlers',\n",
       " 'Bleach: Blade Battlers 2nd',\n",
       " 'Bleach: Dark Souls',\n",
       " 'Bleach: Dark Souls (JP sales)',\n",
       " 'Bleach: Erabareshi Tamashii',\n",
       " 'Bleach: Hanatareshi Yabou',\n",
       " 'Bleach: Heat the Soul',\n",
       " 'Bleach: Heat the Soul 3',\n",
       " 'Bleach: Heat the Soul 4',\n",
       " 'Bleach: Heat the Soul 5',\n",
       " 'Bleach: Heat the Soul 6',\n",
       " 'Bleach: Heat the Soul 7',\n",
       " 'Bleach: Shattered Blade',\n",
       " 'Bleach: Soul Carnival',\n",
       " 'Bleach: Soul Carnival 2',\n",
       " 'Bleach: Soul Resurreccion',\n",
       " 'Bleach: The 3rd Phantom',\n",
       " 'Bleach: The Blade of Fate',\n",
       " 'Bleach: Versus Crusade',\n",
       " 'Blender Bros.',\n",
       " 'Blinx 2: Masters of Time & Space',\n",
       " 'Blinx: The Time Sweeper',\n",
       " 'Blitz: Overtime',\n",
       " 'Blitz: The League',\n",
       " 'Blitz: The League II',\n",
       " 'Blitzkrieg 2 Anthology',\n",
       " 'Block Kuzushi',\n",
       " 'Block Party',\n",
       " 'Blokus Portable: Steambot Championship',\n",
       " 'Blood Bowl',\n",
       " 'Blood Bowl: Legendary Edition',\n",
       " 'Blood Drive',\n",
       " 'Blood Omen 2',\n",
       " 'Blood Omen: Legacy of Kain',\n",
       " 'Blood Wake',\n",
       " \"Blood Will Tell: Tezuka Osamu's Dororo\",\n",
       " 'Blood of Bahamut',\n",
       " 'Blood: The Last Vampire (Joukan)',\n",
       " 'BloodRayne',\n",
       " 'BloodRayne 2',\n",
       " 'Bloodborne',\n",
       " 'Bloody Roar',\n",
       " 'Bloody Roar 3',\n",
       " 'Bloody Roar 4',\n",
       " 'Bloody Roar Extreme',\n",
       " 'Bloody Roar II',\n",
       " 'Bloody Roar: Primal Fury',\n",
       " 'BlowOut',\n",
       " 'Blue Breaker: Ken Yorimo Hohoemi o',\n",
       " 'Blue Dragon',\n",
       " 'Blue Dragon Plus',\n",
       " 'Blue Dragon: Awakened Shadow',\n",
       " 'Blue Roses: Yousei to Aoi Hitomi no Senshitachi',\n",
       " 'Blue Stinger',\n",
       " \"Blue's Clues: Blue's Big Musical\",\n",
       " 'Blues Brothers 2000',\n",
       " 'Blur',\n",
       " 'Board Game Classics',\n",
       " 'Board Game: Top Shop',\n",
       " 'Bob the Builder: Can We Fix It?',\n",
       " 'Boboboubo Boubobo: Ougi 87.5 Bakuretsu Hanage Shinken',\n",
       " 'Bode Miller Alpine Skiing',\n",
       " 'Body Harvest',\n",
       " 'Body and Brain Connection',\n",
       " 'Bodycount',\n",
       " 'Bogey: Dead 6',\n",
       " 'Boing! Docomodake DS',\n",
       " 'Boktai 2: Solar Boy Django',\n",
       " 'Boktai: The Sun is in Your Hand',\n",
       " 'Boku no Natsuyasumi',\n",
       " 'Boku no Natsuyasumi 2: Umi no Bouken Hen',\n",
       " 'Boku no Natsuyasumi 3: Hokkoku Hen: Chiisana Boku no Dai Sougen\\u200b',\n",
       " 'Boku no Natsuyasumi 4: Seitouchi Shounen Tanteidan, Boku to Himitsu no Chizu',\n",
       " 'Boku no Natsuyasumi Portable 2: Nazo Nazo Shimai to Chinbotsusen no Himitsu',\n",
       " 'Boku no Natsuyasumi Portable: Mushi Mushi Hakase to Teppen-yama no Himitsu!!',\n",
       " 'Bolt',\n",
       " 'Bombastic',\n",
       " 'Bomberman',\n",
       " 'Bomberman (jp sales)',\n",
       " 'Bomberman 2',\n",
       " 'Bomberman 64',\n",
       " 'Bomberman 64: The Second Attack!',\n",
       " 'Bomberman B-Daman',\n",
       " 'Bomberman Fantasy Race',\n",
       " 'Bomberman Generation',\n",
       " 'Bomberman Hero',\n",
       " 'Bomberman II',\n",
       " 'Bomberman Jetters',\n",
       " 'Bomberman Land',\n",
       " 'Bomberman Land Touch!',\n",
       " 'Bomberman Land Touch! 2',\n",
       " 'Bomberman Max 2: Blue Advance',\n",
       " 'Bomberman Max 2: Red Advance',\n",
       " 'Bomberman Party Edition',\n",
       " 'Bomberman Story DS',\n",
       " 'Bomberman Tournament',\n",
       " 'Bomberman World',\n",
       " 'Bomberman: Act Zero',\n",
       " 'Boogie',\n",
       " 'Boogie SuperStar',\n",
       " 'Book of Spells',\n",
       " 'Bookworm',\n",
       " 'Bookworm Deluxe',\n",
       " 'Boom Blox',\n",
       " 'Boom Blox Bash Party',\n",
       " 'BoomBots',\n",
       " 'Boot Camp Academy',\n",
       " 'Borderlands',\n",
       " 'Borderlands 2',\n",
       " 'Borderlands: Double Game Add-On Pack',\n",
       " 'Borderlands: The Handsome Collection',\n",
       " 'Borderlands: The Pre-Sequel',\n",
       " 'Botanicula',\n",
       " 'Bottom of the 9th',\n",
       " ...]"
      ]
     },
     "execution_count": 20,
     "metadata": {},
     "output_type": "execute_result"
    }
   ],
   "source": [
    "sorted(data['name'].unique())"
   ]
  },
  {
   "cell_type": "markdown",
   "metadata": {},
   "source": [
    "Добавим столбец с суммарными продажами для всех регионов."
   ]
  },
  {
   "cell_type": "code",
   "execution_count": 21,
   "metadata": {},
   "outputs": [
    {
     "data": {
      "text/html": [
       "<div>\n",
       "<style scoped>\n",
       "    .dataframe tbody tr th:only-of-type {\n",
       "        vertical-align: middle;\n",
       "    }\n",
       "\n",
       "    .dataframe tbody tr th {\n",
       "        vertical-align: top;\n",
       "    }\n",
       "\n",
       "    .dataframe thead th {\n",
       "        text-align: right;\n",
       "    }\n",
       "</style>\n",
       "<table border=\"1\" class=\"dataframe\">\n",
       "  <thead>\n",
       "    <tr style=\"text-align: right;\">\n",
       "      <th></th>\n",
       "      <th>name</th>\n",
       "      <th>platform</th>\n",
       "      <th>year_of_release</th>\n",
       "      <th>genre</th>\n",
       "      <th>na_sales</th>\n",
       "      <th>eu_sales</th>\n",
       "      <th>jp_sales</th>\n",
       "      <th>other_sales</th>\n",
       "      <th>critic_score</th>\n",
       "      <th>user_score</th>\n",
       "      <th>rating</th>\n",
       "      <th>total_sales</th>\n",
       "    </tr>\n",
       "  </thead>\n",
       "  <tbody>\n",
       "    <tr>\n",
       "      <th>0</th>\n",
       "      <td>Wii Sports</td>\n",
       "      <td>Wii</td>\n",
       "      <td>2006</td>\n",
       "      <td>Sports</td>\n",
       "      <td>41.36</td>\n",
       "      <td>28.96</td>\n",
       "      <td>3.77</td>\n",
       "      <td>8.45</td>\n",
       "      <td>76</td>\n",
       "      <td>8.0</td>\n",
       "      <td>E</td>\n",
       "      <td>82.54</td>\n",
       "    </tr>\n",
       "    <tr>\n",
       "      <th>1</th>\n",
       "      <td>Super Mario Bros.</td>\n",
       "      <td>NES</td>\n",
       "      <td>1985</td>\n",
       "      <td>Platform</td>\n",
       "      <td>29.08</td>\n",
       "      <td>3.58</td>\n",
       "      <td>6.81</td>\n",
       "      <td>0.77</td>\n",
       "      <td>0</td>\n",
       "      <td>NaN</td>\n",
       "      <td>Unknown</td>\n",
       "      <td>40.24</td>\n",
       "    </tr>\n",
       "    <tr>\n",
       "      <th>2</th>\n",
       "      <td>Mario Kart Wii</td>\n",
       "      <td>Wii</td>\n",
       "      <td>2008</td>\n",
       "      <td>Racing</td>\n",
       "      <td>15.68</td>\n",
       "      <td>12.76</td>\n",
       "      <td>3.79</td>\n",
       "      <td>3.29</td>\n",
       "      <td>82</td>\n",
       "      <td>8.3</td>\n",
       "      <td>E</td>\n",
       "      <td>35.52</td>\n",
       "    </tr>\n",
       "    <tr>\n",
       "      <th>3</th>\n",
       "      <td>Wii Sports Resort</td>\n",
       "      <td>Wii</td>\n",
       "      <td>2009</td>\n",
       "      <td>Sports</td>\n",
       "      <td>15.61</td>\n",
       "      <td>10.93</td>\n",
       "      <td>3.28</td>\n",
       "      <td>2.95</td>\n",
       "      <td>80</td>\n",
       "      <td>8.0</td>\n",
       "      <td>E</td>\n",
       "      <td>32.77</td>\n",
       "    </tr>\n",
       "    <tr>\n",
       "      <th>4</th>\n",
       "      <td>Pokemon Red/Pokemon Blue</td>\n",
       "      <td>GB</td>\n",
       "      <td>1996</td>\n",
       "      <td>Role-Playing</td>\n",
       "      <td>11.27</td>\n",
       "      <td>8.89</td>\n",
       "      <td>10.22</td>\n",
       "      <td>1.00</td>\n",
       "      <td>0</td>\n",
       "      <td>NaN</td>\n",
       "      <td>Unknown</td>\n",
       "      <td>31.38</td>\n",
       "    </tr>\n",
       "  </tbody>\n",
       "</table>\n",
       "</div>"
      ],
      "text/plain": [
       "                       name platform  year_of_release         genre  na_sales  \\\n",
       "0                Wii Sports      Wii             2006        Sports     41.36   \n",
       "1         Super Mario Bros.      NES             1985      Platform     29.08   \n",
       "2            Mario Kart Wii      Wii             2008        Racing     15.68   \n",
       "3         Wii Sports Resort      Wii             2009        Sports     15.61   \n",
       "4  Pokemon Red/Pokemon Blue       GB             1996  Role-Playing     11.27   \n",
       "\n",
       "   eu_sales  jp_sales  other_sales  critic_score  user_score   rating  \\\n",
       "0     28.96      3.77         8.45            76         8.0        E   \n",
       "1      3.58      6.81         0.77             0         NaN  Unknown   \n",
       "2     12.76      3.79         3.29            82         8.3        E   \n",
       "3     10.93      3.28         2.95            80         8.0        E   \n",
       "4      8.89     10.22         1.00             0         NaN  Unknown   \n",
       "\n",
       "   total_sales  \n",
       "0        82.54  \n",
       "1        40.24  \n",
       "2        35.52  \n",
       "3        32.77  \n",
       "4        31.38  "
      ]
     },
     "execution_count": 21,
     "metadata": {},
     "output_type": "execute_result"
    }
   ],
   "source": [
    "data['total_sales'] = data[['na_sales', 'eu_sales', 'jp_sales', 'other_sales']].sum(axis=1)\n",
    "data.head()"
   ]
  },
  {
   "cell_type": "markdown",
   "metadata": {},
   "source": [
    "Наименования столбцов мы привели к нижнему регистру. Пропуски из столбцов Name, Year_of_Release и Genre мы удалили, так как их доля невелика. В столбцах Critic_Score и Rating заполнили пропуски подходящими значениями, а в столбце User_Score пропуски оставили, так как корректно заменить их не представляется возможным. Данные приведены к нужному типу. В итоге у нас осталось 16444 строк. Дубликатов в данных не обнаружено. Также на этом этапе мы посчитали и добавили столбец с суммарными продажами для всех регионов total_sales, который пригодится нам в исследовании."
   ]
  },
  {
   "cell_type": "markdown",
   "metadata": {},
   "source": [
    "<a id='section3'></a>\n",
    "### Анализ данных\n",
    "[Оглавление](#top)"
   ]
  },
  {
   "cell_type": "markdown",
   "metadata": {},
   "source": [
    "Посмотрим сколько игр выпускалось в разные годы."
   ]
  },
  {
   "cell_type": "code",
   "execution_count": 22,
   "metadata": {},
   "outputs": [
    {
     "data": {
      "image/png": "[encoded data removed]",
      "text/plain": [
       "<Figure size 864x648 with 1 Axes>"
      ]
     },
     "metadata": {
      "needs_background": "light"
     },
     "output_type": "display_data"
    }
   ],
   "source": [
    "games_per_year = data.groupby(['year_of_release']).agg(games=('name', 'count')).plot(y='games', kind='bar', figsize=(12, 9))"
   ]
  },
  {
   "cell_type": "markdown",
   "metadata": {},
   "source": [
    "В 2012 году количество выпускаемых игр резко уменьшается и в дальнейшем находится примерно на одном уровне. "
   ]
  },
  {
   "cell_type": "markdown",
   "metadata": {},
   "source": [
    "Посмотрим как менялись продажи по платформам. Выделим платформы с наибольшими суммарными продажами. "
   ]
  },
  {
   "cell_type": "code",
   "execution_count": 23,
   "metadata": {},
   "outputs": [
    {
     "data": {
      "image/png": "[encoded data removed]",
      "text/plain": [
       "<Figure size 432x288 with 1 Axes>"
      ]
     },
     "metadata": {
      "needs_background": "light"
     },
     "output_type": "display_data"
    }
   ],
   "source": [
    "sales_per_platform = (\n",
    "    data\n",
    "    .groupby(['platform']).agg(sales=('total_sales', 'sum'))\n",
    "    .sort_values(by='sales', ascending=False)\n",
    "    .plot(y='sales', kind='bar')\n",
    ")"
   ]
  },
  {
   "cell_type": "markdown",
   "metadata": {},
   "source": [
    "Из графика видно, что наибольшее количество суммарных продаж у следующих платформ:\n",
    "\n",
    "- PS2\n",
    "- X360\n",
    "- PS3\n",
    "- Wii\n",
    "- DS\n",
    "- PS\n",
    "\n",
    "Посмотрим как менялись продажи на выделенных платформах."
   ]
  },
  {
   "cell_type": "code",
   "execution_count": 24,
   "metadata": {},
   "outputs": [
    {
     "data": {
      "image/png": "[encoded data removed]",
      "text/plain": [
       "<Figure size 432x288 with 1 Axes>"
      ]
     },
     "metadata": {
      "needs_background": "light"
     },
     "output_type": "display_data"
    }
   ],
   "source": [
    "PS2_pivot = (\n",
    "    data\n",
    "    .query('platform == \"PS2\"')\n",
    "    .pivot_table(index='year_of_release', values='total_sales', aggfunc='sum')\n",
    "    .plot(y='total_sales', kind='bar')\n",
    ")\n",
    "plt.title('PS2')\n",
    "plt.xlabel('Год выпуска')\n",
    "plt.ylabel('Продажи')\n",
    "plt.show()"
   ]
  },
  {
   "cell_type": "code",
   "execution_count": 25,
   "metadata": {},
   "outputs": [
    {
     "data": {
      "image/png": "[encoded data removed]",
      "text/plain": [
       "<Figure size 432x288 with 1 Axes>"
      ]
     },
     "metadata": {
      "needs_background": "light"
     },
     "output_type": "display_data"
    }
   ],
   "source": [
    "X360_pivot = (\n",
    "    data\n",
    "    .query('platform == \"X360\"')\n",
    "    .pivot_table(index='year_of_release', values='total_sales', aggfunc='sum')\n",
    "    .plot(y='total_sales', kind='bar')\n",
    ")\n",
    "plt.title('X360')\n",
    "plt.xlabel('Год выпуска')\n",
    "plt.ylabel('Продажи')\n",
    "plt.show()"
   ]
  },
  {
   "cell_type": "code",
   "execution_count": 26,
   "metadata": {},
   "outputs": [
    {
     "data": {
      "image/png": "[encoded data removed]",
      "text/plain": [
       "<Figure size 432x288 with 1 Axes>"
      ]
     },
     "metadata": {
      "needs_background": "light"
     },
     "output_type": "display_data"
    }
   ],
   "source": [
    "PS3_pivot = (\n",
    "    data\n",
    "    .query('platform == \"PS3\"')\n",
    "    .pivot_table(index='year_of_release', values='total_sales', aggfunc='sum')\n",
    "    .plot(y='total_sales', kind='bar')\n",
    ")\n",
    "plt.title('PS3')\n",
    "plt.xlabel('Год выпуска')\n",
    "plt.ylabel('Продажи')\n",
    "plt.show()"
   ]
  },
  {
   "cell_type": "code",
   "execution_count": 27,
   "metadata": {},
   "outputs": [
    {
     "data": {
      "image/png": "[encoded data removed]",
      "text/plain": [
       "<Figure size 432x288 with 1 Axes>"
      ]
     },
     "metadata": {
      "needs_background": "light"
     },
     "output_type": "display_data"
    }
   ],
   "source": [
    "Wii_pivot = (\n",
    "    data\n",
    "    .query('platform == \"Wii\"')\n",
    "    .pivot_table(index='year_of_release', values='total_sales', aggfunc='sum')\n",
    "    .plot(y='total_sales', kind='bar')\n",
    ")\n",
    "plt.title('Wii')\n",
    "plt.xlabel('Год выпуска')\n",
    "plt.ylabel('Продажи')\n",
    "plt.show()"
   ]
  },
  {
   "cell_type": "code",
   "execution_count": 28,
   "metadata": {},
   "outputs": [
    {
     "data": {
      "image/png": "[encoded data removed]",
      "text/plain": [
       "<Figure size 432x288 with 1 Axes>"
      ]
     },
     "metadata": {
      "needs_background": "light"
     },
     "output_type": "display_data"
    }
   ],
   "source": [
    "DS_pivot = (\n",
    "    data\n",
    "    .query('platform == \"DS\"')\n",
    "    .pivot_table(index='year_of_release', values='total_sales', aggfunc='sum')\n",
    "    .plot(y='total_sales', kind='bar')\n",
    ")\n",
    "plt.title('DS')\n",
    "plt.xlabel('Год выпуска')\n",
    "plt.ylabel('Продажи')\n",
    "plt.show()"
   ]
  },
  {
   "cell_type": "code",
   "execution_count": 29,
   "metadata": {},
   "outputs": [
    {
     "data": {
      "image/png": "[encoded data removed]",
      "text/plain": [
       "<Figure size 432x288 with 1 Axes>"
      ]
     },
     "metadata": {
      "needs_background": "light"
     },
     "output_type": "display_data"
    }
   ],
   "source": [
    "PS_pivot = (\n",
    "    data\n",
    "    .query('platform == \"PS\"')\n",
    "    .pivot_table(index='year_of_release', values='total_sales', aggfunc='sum')\n",
    "    .plot(y='total_sales', kind='bar')\n",
    ")\n",
    "plt.title('PS')\n",
    "plt.xlabel('Год выпуска')\n",
    "plt.ylabel('Продажи')\n",
    "plt.show()"
   ]
  },
  {
   "cell_type": "markdown",
   "metadata": {},
   "source": [
    "Из графиков мы видим, что появление новых и исчезновение старых платформ происходит за период в 3-4 года. \n",
    "\n",
    "Таким образом, будем считать для дальнейшего исследования актуальным период начиная с 2012 года. Посмотрим какие платформы лидируют по продажам в указанный период."
   ]
  },
  {
   "cell_type": "code",
   "execution_count": 30,
   "metadata": {},
   "outputs": [],
   "source": [
    "actual_period = data.query('year_of_release >= 2012')"
   ]
  },
  {
   "cell_type": "code",
   "execution_count": 31,
   "metadata": {},
   "outputs": [
    {
     "data": {
      "text/html": [
       "<div>\n",
       "<style scoped>\n",
       "    .dataframe tbody tr th:only-of-type {\n",
       "        vertical-align: middle;\n",
       "    }\n",
       "\n",
       "    .dataframe tbody tr th {\n",
       "        vertical-align: top;\n",
       "    }\n",
       "\n",
       "    .dataframe thead th {\n",
       "        text-align: right;\n",
       "    }\n",
       "</style>\n",
       "<table border=\"1\" class=\"dataframe\">\n",
       "  <thead>\n",
       "    <tr style=\"text-align: right;\">\n",
       "      <th></th>\n",
       "      <th>total_sales</th>\n",
       "    </tr>\n",
       "    <tr>\n",
       "      <th>platform</th>\n",
       "      <th></th>\n",
       "    </tr>\n",
       "  </thead>\n",
       "  <tbody>\n",
       "    <tr>\n",
       "      <th>PS4</th>\n",
       "      <td>314.14</td>\n",
       "    </tr>\n",
       "    <tr>\n",
       "      <th>PS3</th>\n",
       "      <td>288.79</td>\n",
       "    </tr>\n",
       "    <tr>\n",
       "      <th>X360</th>\n",
       "      <td>236.54</td>\n",
       "    </tr>\n",
       "    <tr>\n",
       "      <th>3DS</th>\n",
       "      <td>194.61</td>\n",
       "    </tr>\n",
       "    <tr>\n",
       "      <th>XOne</th>\n",
       "      <td>159.32</td>\n",
       "    </tr>\n",
       "    <tr>\n",
       "      <th>WiiU</th>\n",
       "      <td>82.19</td>\n",
       "    </tr>\n",
       "    <tr>\n",
       "      <th>PC</th>\n",
       "      <td>62.65</td>\n",
       "    </tr>\n",
       "    <tr>\n",
       "      <th>PSV</th>\n",
       "      <td>49.18</td>\n",
       "    </tr>\n",
       "    <tr>\n",
       "      <th>Wii</th>\n",
       "      <td>35.37</td>\n",
       "    </tr>\n",
       "    <tr>\n",
       "      <th>DS</th>\n",
       "      <td>12.55</td>\n",
       "    </tr>\n",
       "    <tr>\n",
       "      <th>PSP</th>\n",
       "      <td>11.19</td>\n",
       "    </tr>\n",
       "  </tbody>\n",
       "</table>\n",
       "</div>"
      ],
      "text/plain": [
       "          total_sales\n",
       "platform             \n",
       "PS4            314.14\n",
       "PS3            288.79\n",
       "X360           236.54\n",
       "3DS            194.61\n",
       "XOne           159.32\n",
       "WiiU            82.19\n",
       "PC              62.65\n",
       "PSV             49.18\n",
       "Wii             35.37\n",
       "DS              12.55\n",
       "PSP             11.19"
      ]
     },
     "execution_count": 31,
     "metadata": {},
     "output_type": "execute_result"
    }
   ],
   "source": [
    "actual_platform = (\n",
    "    actual_period\n",
    "    .pivot_table(index='platform', values='total_sales', aggfunc='sum')\n",
    "    .sort_values(by='total_sales', ascending=False)\n",
    ")\n",
    "actual_platform"
   ]
  },
  {
   "cell_type": "code",
   "execution_count": 32,
   "metadata": {},
   "outputs": [
    {
     "data": {
      "image/png": "[encoded data removed]",
      "text/plain": [
       "<Figure size 432x288 with 1 Axes>"
      ]
     },
     "metadata": {
      "needs_background": "light"
     },
     "output_type": "display_data"
    }
   ],
   "source": [
    "actual_platform.plot(y='total_sales', kind='bar');"
   ]
  },
  {
   "cell_type": "markdown",
   "metadata": {},
   "source": [
    "Начиная с 2012 года лидируют по продажам PS4, PS3, X360, 3DS, XOne."
   ]
  },
  {
   "cell_type": "code",
   "execution_count": 33,
   "metadata": {},
   "outputs": [],
   "source": [
    "best_sales_platform = actual_period[actual_period['platform']. isin(['PS4', 'PS3', 'X360', '3DS', 'XOne'])]"
   ]
  },
  {
   "cell_type": "code",
   "execution_count": 34,
   "metadata": {},
   "outputs": [
    {
     "data": {
      "image/png": "[encoded data removed]",
      "text/plain": [
       "<Figure size 1080x576 with 1 Axes>"
      ]
     },
     "metadata": {
      "needs_background": "light"
     },
     "output_type": "display_data"
    }
   ],
   "source": [
    "plt.figure(figsize=(15, 8))\n",
    "sns.boxplot(data=best_sales_platform, x='platform', y='total_sales')\n",
    "plt.ylim(0, 3)\n",
    "plt.title('Глобальные продажи по платформам')\n",
    "plt.xlabel('Платформа')\n",
    "plt.ylabel('Продажи');"
   ]
  },
  {
   "cell_type": "markdown",
   "metadata": {},
   "source": [
    "Из графика видно, что данные не симметричны, смещены к нижней границе. Размах значений больше всего для X360. Для всех платформ заметно значительное количество выбросов. "
   ]
  },
  {
   "cell_type": "markdown",
   "metadata": {},
   "source": [
    "Посмотрим, как влияют на продажи отзывы критиков и пользователей на примере X360."
   ]
  },
  {
   "cell_type": "code",
   "execution_count": 35,
   "metadata": {},
   "outputs": [],
   "source": [
    "x360 = actual_period.query('platform == \"X360\" and critic_score != 0')"
   ]
  },
  {
   "cell_type": "code",
   "execution_count": 36,
   "metadata": {},
   "outputs": [
    {
     "data": {
      "image/png": "[encoded data removed]",
      "text/plain": [
       "<Figure size 432x288 with 1 Axes>"
      ]
     },
     "metadata": {
      "needs_background": "light"
     },
     "output_type": "display_data"
    },
    {
     "data": {
      "image/png": "[encoded data removed]",
      "text/plain": [
       "<Figure size 432x288 with 1 Axes>"
      ]
     },
     "metadata": {
      "needs_background": "light"
     },
     "output_type": "display_data"
    }
   ],
   "source": [
    "x360.plot(x='critic_score', y='total_sales', kind='scatter')\n",
    "plt.title('Платформа X360')\n",
    "plt.xlabel('Отзывы критиков')\n",
    "plt.ylabel('Продажи')\n",
    "x360.plot(x='user_score', y='total_sales', kind='scatter')\n",
    "plt.xlabel('Отзывы пользователей')\n",
    "plt.ylabel('Продажи');"
   ]
  },
  {
   "cell_type": "code",
   "execution_count": 37,
   "metadata": {},
   "outputs": [
    {
     "name": "stdout",
     "output_type": "stream",
     "text": [
      "Коэффициент корреляции продаж с отзывами критиков: 0.36057348885073365\n",
      "Коэффициент корреляции продаж с отзывами пользователей: -0.0020140394826897853\n"
     ]
    }
   ],
   "source": [
    "print('Коэффициент корреляции продаж с отзывами критиков:', x360['total_sales'].corr(x360['critic_score']))\n",
    "print('Коэффициент корреляции продаж с отзывами пользователей:', x360['total_sales'].corr(x360['user_score']))"
   ]
  },
  {
   "cell_type": "markdown",
   "metadata": {},
   "source": [
    "Отзывы критиков на продажи платформы X360 влияют слабо (коээфициент корреляции 0.36). Между отзывами пользователей и продажами есть очень слабая отрицательная корреляция (коэффициент -0.002).\n",
    "\n",
    "Посмотрим на данные по другим популярным платформам."
   ]
  },
  {
   "cell_type": "code",
   "execution_count": 38,
   "metadata": {},
   "outputs": [],
   "source": [
    "ps3 = actual_period.query('platform == \"PS3\" and critic_score != 0')"
   ]
  },
  {
   "cell_type": "code",
   "execution_count": 39,
   "metadata": {},
   "outputs": [
    {
     "data": {
      "image/png": "[encoded data removed]",
      "text/plain": [
       "<Figure size 432x288 with 1 Axes>"
      ]
     },
     "metadata": {
      "needs_background": "light"
     },
     "output_type": "display_data"
    },
    {
     "data": {
      "image/png": "[encoded data removed]",
      "text/plain": [
       "<Figure size 432x288 with 1 Axes>"
      ]
     },
     "metadata": {
      "needs_background": "light"
     },
     "output_type": "display_data"
    }
   ],
   "source": [
    "ps3.plot(x='critic_score', y='total_sales', kind='scatter')\n",
    "plt.title('Платформа PS3')\n",
    "plt.xlabel('Отзывы критиков')\n",
    "plt.ylabel('Продажи')\n",
    "ps3.plot(x='user_score', y='total_sales', kind='scatter')\n",
    "plt.xlabel('Отзывы пользователей')\n",
    "plt.ylabel('Продажи');"
   ]
  },
  {
   "cell_type": "code",
   "execution_count": 40,
   "metadata": {},
   "outputs": [
    {
     "name": "stdout",
     "output_type": "stream",
     "text": [
      "Коэффициент корреляции продаж с отзывами критиков: 0.3314972592629587\n",
      "Коэффициент корреляции продаж с отзывами пользователей: 0.0032274054930356904\n"
     ]
    }
   ],
   "source": [
    "print('Коэффициент корреляции продаж с отзывами критиков:', ps3['total_sales'].corr(ps3['critic_score']))\n",
    "print('Коэффициент корреляции продаж с отзывами пользователей:', ps3['total_sales'].corr(ps3['user_score']))"
   ]
  },
  {
   "cell_type": "code",
   "execution_count": 41,
   "metadata": {},
   "outputs": [],
   "source": [
    "ps4 = actual_period.query('platform == \"PS4\" and critic_score != 0')"
   ]
  },
  {
   "cell_type": "code",
   "execution_count": 42,
   "metadata": {},
   "outputs": [
    {
     "data": {
      "image/png": "[encoded data removed]",
      "text/plain": [
       "<Figure size 432x288 with 1 Axes>"
      ]
     },
     "metadata": {
      "needs_background": "light"
     },
     "output_type": "display_data"
    },
    {
     "data": {
      "image/png": "[encoded data removed]",
      "text/plain": [
       "<Figure size 432x288 with 1 Axes>"
      ]
     },
     "metadata": {
      "needs_background": "light"
     },
     "output_type": "display_data"
    }
   ],
   "source": [
    "ps4.plot(x='critic_score', y='total_sales', kind='scatter')\n",
    "plt.title('Платформа PS4')\n",
    "plt.xlabel('Отзывы критиков')\n",
    "plt.ylabel('Продажи')\n",
    "ps4.plot(x='user_score', y='total_sales', kind='scatter')\n",
    "plt.xlabel('Отзывы пользователей')\n",
    "plt.ylabel('Продажи');"
   ]
  },
  {
   "cell_type": "code",
   "execution_count": 43,
   "metadata": {},
   "outputs": [
    {
     "name": "stdout",
     "output_type": "stream",
     "text": [
      "Коэффициент корреляции продаж с отзывами критиков: 0.406567902061781\n",
      "Коэффициент корреляции продаж с отзывами пользователей: -0.03362497596528878\n"
     ]
    }
   ],
   "source": [
    "print('Коэффициент корреляции продаж с отзывами критиков:', ps4['total_sales'].corr(ps4['critic_score']))\n",
    "print('Коэффициент корреляции продаж с отзывами пользователей:', ps4['total_sales'].corr(ps4['user_score']))"
   ]
  },
  {
   "cell_type": "code",
   "execution_count": 44,
   "metadata": {},
   "outputs": [],
   "source": [
    "ds3 = actual_period.query('platform == \"3DS\" and critic_score != 0')"
   ]
  },
  {
   "cell_type": "code",
   "execution_count": 45,
   "metadata": {},
   "outputs": [
    {
     "data": {
      "image/png": "[encoded data removed]",
      "text/plain": [
       "<Figure size 432x288 with 1 Axes>"
      ]
     },
     "metadata": {
      "needs_background": "light"
     },
     "output_type": "display_data"
    },
    {
     "data": {
      "image/png": "[encoded data removed]",
      "text/plain": [
       "<Figure size 432x288 with 1 Axes>"
      ]
     },
     "metadata": {
      "needs_background": "light"
     },
     "output_type": "display_data"
    }
   ],
   "source": [
    "ds3.plot(x='critic_score', y='total_sales', kind='scatter')\n",
    "plt.title('Платформа 3DS')\n",
    "plt.xlabel('Отзывы критиков')\n",
    "plt.ylabel('Продажи')\n",
    "ds3.plot(x='user_score', y='total_sales', kind='scatter')\n",
    "plt.xlabel('Отзывы пользователей')\n",
    "plt.ylabel('Продажи');"
   ]
  },
  {
   "cell_type": "code",
   "execution_count": 46,
   "metadata": {},
   "outputs": [
    {
     "name": "stdout",
     "output_type": "stream",
     "text": [
      "Коэффициент корреляции продаж с отзывами критиков: 0.32080286953607845\n",
      "Коэффициент корреляции продаж с отзывами пользователей: 0.2018125500765528\n"
     ]
    }
   ],
   "source": [
    "print('Коэффициент корреляции продаж с отзывами критиков:', ds3['total_sales'].corr(ds3['critic_score']))\n",
    "print('Коэффициент корреляции продаж с отзывами пользователей:', ds3['total_sales'].corr(ds3['user_score']))"
   ]
  },
  {
   "cell_type": "code",
   "execution_count": 47,
   "metadata": {},
   "outputs": [],
   "source": [
    "xone = actual_period.query('platform == \"XOne\" and critic_score != 0')"
   ]
  },
  {
   "cell_type": "code",
   "execution_count": 48,
   "metadata": {},
   "outputs": [
    {
     "data": {
      "image/png": "[encoded data removed]",
      "text/plain": [
       "<Figure size 432x288 with 1 Axes>"
      ]
     },
     "metadata": {
      "needs_background": "light"
     },
     "output_type": "display_data"
    },
    {
     "data": {
      "image/png": "[encoded data removed]",
      "text/plain": [
       "<Figure size 432x288 with 1 Axes>"
      ]
     },
     "metadata": {
      "needs_background": "light"
     },
     "output_type": "display_data"
    }
   ],
   "source": [
    "xone.plot(x='critic_score', y='total_sales', kind='scatter')\n",
    "plt.title('Платформа XOne')\n",
    "plt.xlabel('Отзывы критиков')\n",
    "plt.ylabel('Продажи')\n",
    "xone.plot(x='user_score', y='total_sales', kind='scatter')\n",
    "plt.xlabel('Отзывы пользователей')\n",
    "plt.ylabel('Продажи');"
   ]
  },
  {
   "cell_type": "code",
   "execution_count": 49,
   "metadata": {},
   "outputs": [
    {
     "name": "stdout",
     "output_type": "stream",
     "text": [
      "Коэффициент корреляции продаж с отзывами критиков: 0.41699832800840175\n",
      "Коэффициент корреляции продаж с отзывами пользователей: -0.09400318326920852\n"
     ]
    }
   ],
   "source": [
    "print('Коэффициент корреляции продаж с отзывами критиков:', xone['total_sales'].corr(xone['critic_score']))\n",
    "print('Коэффициент корреляции продаж с отзывами пользователей:', xone['total_sales'].corr(xone['user_score']))"
   ]
  },
  {
   "cell_type": "markdown",
   "metadata": {},
   "source": [
    "Коэффициент корреляции продаж с отзывами критиков у лидирующих с 2012 года платформ находится в диапазоне 0.32 - 0.4, из чего мы можем сделать вывод о слабом влиянии отзывов критиков на продажи данных платформ.\n",
    "У части платформ (X360, PS4, XOne) наблюдается очень слабая отрицательная корреляция между продажами и отзывами пользователей (коэффициент в диапазоне от -0.002 до -0.09). У платформы PS3 очень слабая корреляция между продажами и отзывами пользователей (коэффициент 0.003). А у 3DS коэффициент корреляции 0.4, что говорит о слабой связи между этими параметрами."
   ]
  },
  {
   "cell_type": "markdown",
   "metadata": {},
   "source": [
    "Посмотрим как распределяются продажи игр по жанрам."
   ]
  },
  {
   "cell_type": "code",
   "execution_count": 50,
   "metadata": {},
   "outputs": [
    {
     "data": {
      "text/html": [
       "<div>\n",
       "<style scoped>\n",
       "    .dataframe tbody tr th:only-of-type {\n",
       "        vertical-align: middle;\n",
       "    }\n",
       "\n",
       "    .dataframe tbody tr th {\n",
       "        vertical-align: top;\n",
       "    }\n",
       "\n",
       "    .dataframe thead th {\n",
       "        text-align: right;\n",
       "    }\n",
       "</style>\n",
       "<table border=\"1\" class=\"dataframe\">\n",
       "  <thead>\n",
       "    <tr style=\"text-align: right;\">\n",
       "      <th></th>\n",
       "      <th>total_sales</th>\n",
       "    </tr>\n",
       "    <tr>\n",
       "      <th>genre</th>\n",
       "      <th></th>\n",
       "    </tr>\n",
       "  </thead>\n",
       "  <tbody>\n",
       "    <tr>\n",
       "      <th>Shooter</th>\n",
       "      <td>0.44</td>\n",
       "    </tr>\n",
       "    <tr>\n",
       "      <th>Sports</th>\n",
       "      <td>0.24</td>\n",
       "    </tr>\n",
       "    <tr>\n",
       "      <th>Platform</th>\n",
       "      <td>0.21</td>\n",
       "    </tr>\n",
       "    <tr>\n",
       "      <th>Role-Playing</th>\n",
       "      <td>0.14</td>\n",
       "    </tr>\n",
       "    <tr>\n",
       "      <th>Racing</th>\n",
       "      <td>0.14</td>\n",
       "    </tr>\n",
       "    <tr>\n",
       "      <th>Fighting</th>\n",
       "      <td>0.13</td>\n",
       "    </tr>\n",
       "    <tr>\n",
       "      <th>Action</th>\n",
       "      <td>0.12</td>\n",
       "    </tr>\n",
       "    <tr>\n",
       "      <th>Misc</th>\n",
       "      <td>0.12</td>\n",
       "    </tr>\n",
       "    <tr>\n",
       "      <th>Simulation</th>\n",
       "      <td>0.12</td>\n",
       "    </tr>\n",
       "    <tr>\n",
       "      <th>Strategy</th>\n",
       "      <td>0.08</td>\n",
       "    </tr>\n",
       "    <tr>\n",
       "      <th>Puzzle</th>\n",
       "      <td>0.04</td>\n",
       "    </tr>\n",
       "    <tr>\n",
       "      <th>Adventure</th>\n",
       "      <td>0.03</td>\n",
       "    </tr>\n",
       "  </tbody>\n",
       "</table>\n",
       "</div>"
      ],
      "text/plain": [
       "              total_sales\n",
       "genre                    \n",
       "Shooter              0.44\n",
       "Sports               0.24\n",
       "Platform             0.21\n",
       "Role-Playing         0.14\n",
       "Racing               0.14\n",
       "Fighting             0.13\n",
       "Action               0.12\n",
       "Misc                 0.12\n",
       "Simulation           0.12\n",
       "Strategy             0.08\n",
       "Puzzle               0.04\n",
       "Adventure            0.03"
      ]
     },
     "execution_count": 50,
     "metadata": {},
     "output_type": "execute_result"
    },
    {
     "data": {
      "image/png": "[encoded data removed]",
      "text/plain": [
       "<Figure size 432x288 with 1 Axes>"
      ]
     },
     "metadata": {
      "needs_background": "light"
     },
     "output_type": "display_data"
    }
   ],
   "source": [
    "genre_sales = (\n",
    "    actual_period\n",
    "    .pivot_table(index='genre', values='total_sales', aggfunc='median')\n",
    "    .sort_values(by='total_sales', ascending=False)\n",
    ")\n",
    "genre_sales.plot(y='total_sales', kind='bar');\n",
    "genre_sales.round(2)"
   ]
  },
  {
   "cell_type": "markdown",
   "metadata": {},
   "source": [
    "Самый популярный жанр за период с 2012 года Shooter (0.44 млн продаж). В два раза отстают по продажам жанры Sports и Platform (0.24 и 0.21 млн продаж соответственно). Наименее популярные жанры Puzzle и Adventure(0.04 и 0.03 млн продаж соответственно). \n",
    "\n",
    "Таким образом, наиболее популярными становятся игры с динамичным сюжетом, где успех игрока зависит от скорости его реакции. Интеллектуальные игры, где успех игрока напрямую зависит от умений, навыков и способностей делать верные ходы, продавались хуже всего."
   ]
  },
  {
   "cell_type": "markdown",
   "metadata": {},
   "source": [
    "<a id='section4'></a>\n",
    "### Составим портрет пользователя для каждого региона.\n",
    "[Оглавление](#top)"
   ]
  },
  {
   "cell_type": "markdown",
   "metadata": {},
   "source": [
    "Выделим топ-5 платформ и жанров для Северной Америки."
   ]
  },
  {
   "cell_type": "code",
   "execution_count": 51,
   "metadata": {},
   "outputs": [
    {
     "data": {
      "text/html": [
       "<div>\n",
       "<style scoped>\n",
       "    .dataframe tbody tr th:only-of-type {\n",
       "        vertical-align: middle;\n",
       "    }\n",
       "\n",
       "    .dataframe tbody tr th {\n",
       "        vertical-align: top;\n",
       "    }\n",
       "\n",
       "    .dataframe thead th {\n",
       "        text-align: right;\n",
       "    }\n",
       "</style>\n",
       "<table border=\"1\" class=\"dataframe\">\n",
       "  <thead>\n",
       "    <tr style=\"text-align: right;\">\n",
       "      <th></th>\n",
       "      <th>sales</th>\n",
       "    </tr>\n",
       "    <tr>\n",
       "      <th>platform</th>\n",
       "      <th></th>\n",
       "    </tr>\n",
       "  </thead>\n",
       "  <tbody>\n",
       "    <tr>\n",
       "      <th>X360</th>\n",
       "      <td>140.05</td>\n",
       "    </tr>\n",
       "    <tr>\n",
       "      <th>PS4</th>\n",
       "      <td>108.74</td>\n",
       "    </tr>\n",
       "    <tr>\n",
       "      <th>PS3</th>\n",
       "      <td>103.38</td>\n",
       "    </tr>\n",
       "    <tr>\n",
       "      <th>XOne</th>\n",
       "      <td>93.12</td>\n",
       "    </tr>\n",
       "    <tr>\n",
       "      <th>3DS</th>\n",
       "      <td>55.31</td>\n",
       "    </tr>\n",
       "  </tbody>\n",
       "</table>\n",
       "</div>"
      ],
      "text/plain": [
       "           sales\n",
       "platform        \n",
       "X360      140.05\n",
       "PS4       108.74\n",
       "PS3       103.38\n",
       "XOne       93.12\n",
       "3DS        55.31"
      ]
     },
     "execution_count": 51,
     "metadata": {},
     "output_type": "execute_result"
    },
    {
     "data": {
      "image/png": "[encoded data removed]",
      "text/plain": [
       "<Figure size 432x288 with 1 Axes>"
      ]
     },
     "metadata": {
      "needs_background": "light"
     },
     "output_type": "display_data"
    }
   ],
   "source": [
    "na_top_platforms = actual_period.groupby(['platform']).agg(sales=('na_sales', 'sum')).sort_values(by='sales', ascending=False).head()\n",
    "na_top_platforms.plot(y='sales', kind='bar');\n",
    "plt.title('Северная Америка')\n",
    "plt.xlabel('Платформы')\n",
    "na_top_platforms"
   ]
  },
  {
   "cell_type": "code",
   "execution_count": 52,
   "metadata": {},
   "outputs": [
    {
     "data": {
      "text/html": [
       "<div>\n",
       "<style scoped>\n",
       "    .dataframe tbody tr th:only-of-type {\n",
       "        vertical-align: middle;\n",
       "    }\n",
       "\n",
       "    .dataframe tbody tr th {\n",
       "        vertical-align: top;\n",
       "    }\n",
       "\n",
       "    .dataframe thead th {\n",
       "        text-align: right;\n",
       "    }\n",
       "</style>\n",
       "<table border=\"1\" class=\"dataframe\">\n",
       "  <thead>\n",
       "    <tr style=\"text-align: right;\">\n",
       "      <th></th>\n",
       "      <th>sales</th>\n",
       "    </tr>\n",
       "    <tr>\n",
       "      <th>genre</th>\n",
       "      <th></th>\n",
       "    </tr>\n",
       "  </thead>\n",
       "  <tbody>\n",
       "    <tr>\n",
       "      <th>Action</th>\n",
       "      <td>177.84</td>\n",
       "    </tr>\n",
       "    <tr>\n",
       "      <th>Shooter</th>\n",
       "      <td>144.77</td>\n",
       "    </tr>\n",
       "    <tr>\n",
       "      <th>Sports</th>\n",
       "      <td>81.53</td>\n",
       "    </tr>\n",
       "    <tr>\n",
       "      <th>Role-Playing</th>\n",
       "      <td>64.00</td>\n",
       "    </tr>\n",
       "    <tr>\n",
       "      <th>Misc</th>\n",
       "      <td>38.19</td>\n",
       "    </tr>\n",
       "  </tbody>\n",
       "</table>\n",
       "</div>"
      ],
      "text/plain": [
       "               sales\n",
       "genre               \n",
       "Action        177.84\n",
       "Shooter       144.77\n",
       "Sports         81.53\n",
       "Role-Playing   64.00\n",
       "Misc           38.19"
      ]
     },
     "execution_count": 52,
     "metadata": {},
     "output_type": "execute_result"
    },
    {
     "data": {
      "image/png": "[encoded data removed]",
      "text/plain": [
       "<Figure size 432x288 with 1 Axes>"
      ]
     },
     "metadata": {
      "needs_background": "light"
     },
     "output_type": "display_data"
    }
   ],
   "source": [
    "na_top_genres = actual_period.groupby(['genre']).agg(sales=('na_sales', 'sum')).sort_values(by='sales', ascending=False).head()\n",
    "na_top_genres.plot(y='sales', kind='bar');\n",
    "plt.title('Северная Америка')\n",
    "plt.xlabel('Жанры')\n",
    "na_top_genres"
   ]
  },
  {
   "cell_type": "markdown",
   "metadata": {},
   "source": [
    "Посмотрим как влияет на продажи в Северной Америке рейтинг ESRB."
   ]
  },
  {
   "cell_type": "code",
   "execution_count": 53,
   "metadata": {},
   "outputs": [
    {
     "data": {
      "text/html": [
       "<div>\n",
       "<style scoped>\n",
       "    .dataframe tbody tr th:only-of-type {\n",
       "        vertical-align: middle;\n",
       "    }\n",
       "\n",
       "    .dataframe tbody tr th {\n",
       "        vertical-align: top;\n",
       "    }\n",
       "\n",
       "    .dataframe thead th {\n",
       "        text-align: right;\n",
       "    }\n",
       "</style>\n",
       "<table border=\"1\" class=\"dataframe\">\n",
       "  <thead>\n",
       "    <tr style=\"text-align: right;\">\n",
       "      <th></th>\n",
       "      <th>sales</th>\n",
       "    </tr>\n",
       "    <tr>\n",
       "      <th>rating</th>\n",
       "      <th></th>\n",
       "    </tr>\n",
       "  </thead>\n",
       "  <tbody>\n",
       "    <tr>\n",
       "      <th>M</th>\n",
       "      <td>231.57</td>\n",
       "    </tr>\n",
       "    <tr>\n",
       "      <th>E</th>\n",
       "      <td>114.37</td>\n",
       "    </tr>\n",
       "    <tr>\n",
       "      <th>Unknown</th>\n",
       "      <td>103.31</td>\n",
       "    </tr>\n",
       "    <tr>\n",
       "      <th>E10+</th>\n",
       "      <td>75.70</td>\n",
       "    </tr>\n",
       "    <tr>\n",
       "      <th>T</th>\n",
       "      <td>66.02</td>\n",
       "    </tr>\n",
       "  </tbody>\n",
       "</table>\n",
       "</div>"
      ],
      "text/plain": [
       "          sales\n",
       "rating         \n",
       "M        231.57\n",
       "E        114.37\n",
       "Unknown  103.31\n",
       "E10+      75.70\n",
       "T         66.02"
      ]
     },
     "execution_count": 53,
     "metadata": {},
     "output_type": "execute_result"
    },
    {
     "data": {
      "image/png": "[encoded data removed]",
      "text/plain": [
       "<Figure size 432x288 with 1 Axes>"
      ]
     },
     "metadata": {
      "needs_background": "light"
     },
     "output_type": "display_data"
    }
   ],
   "source": [
    "na_rating = actual_period.groupby(['rating']).agg(sales=('na_sales', 'sum')).sort_values(by='sales', ascending=False)\n",
    "na_rating.plot(y='sales', kind='bar');\n",
    "plt.title('Северная Америка')\n",
    "plt.xlabel('ESRB')\n",
    "na_rating"
   ]
  },
  {
   "cell_type": "markdown",
   "metadata": {},
   "source": [
    "Из топ-5 платформ у пользователей из Северной Америки лидирует X360 (140 млн продаж). Чуть менее популярны PS4, PS3 и XOne (108, 103 и 93 млн сответственно). Наименее популярна платформа 3DS (55 млн). Таким образом, пользователи из Северной Америки отдают предпочтение продукции Microsoft и Sony.\n",
    "\n",
    "Наиболее популярные жанры это Action, Shooter (177 и 144 млн продаж). Чуть менее популярны Sports и Role-Playing (81 и 64 млн соответственно). Наименее популярен жанр Misc (38 млн продаж). Таким образом, пользователи из Северной Америки предпочитают игры с динамичным сюжетом, где успех игрока зависит от скорости его реакции.\n",
    "\n",
    "В Северной Америке чаще продаются игры с рейтингом M (231 млн). В два раза меньше продаж игр с рейтингом E (114 млн) и почти столько же с неопределенным рейтингом (103 млн). Можно сделать вывод, что для пользователей Северной Америки рейтинг ESRB имеет значение."
   ]
  },
  {
   "cell_type": "markdown",
   "metadata": {},
   "source": [
    "Выделим топ-5 платформ и жанров для Европы."
   ]
  },
  {
   "cell_type": "code",
   "execution_count": 54,
   "metadata": {},
   "outputs": [
    {
     "data": {
      "text/html": [
       "<div>\n",
       "<style scoped>\n",
       "    .dataframe tbody tr th:only-of-type {\n",
       "        vertical-align: middle;\n",
       "    }\n",
       "\n",
       "    .dataframe tbody tr th {\n",
       "        vertical-align: top;\n",
       "    }\n",
       "\n",
       "    .dataframe thead th {\n",
       "        text-align: right;\n",
       "    }\n",
       "</style>\n",
       "<table border=\"1\" class=\"dataframe\">\n",
       "  <thead>\n",
       "    <tr style=\"text-align: right;\">\n",
       "      <th></th>\n",
       "      <th>sales</th>\n",
       "    </tr>\n",
       "    <tr>\n",
       "      <th>platform</th>\n",
       "      <th></th>\n",
       "    </tr>\n",
       "  </thead>\n",
       "  <tbody>\n",
       "    <tr>\n",
       "      <th>PS4</th>\n",
       "      <td>141.09</td>\n",
       "    </tr>\n",
       "    <tr>\n",
       "      <th>PS3</th>\n",
       "      <td>106.86</td>\n",
       "    </tr>\n",
       "    <tr>\n",
       "      <th>X360</th>\n",
       "      <td>74.52</td>\n",
       "    </tr>\n",
       "    <tr>\n",
       "      <th>XOne</th>\n",
       "      <td>51.59</td>\n",
       "    </tr>\n",
       "    <tr>\n",
       "      <th>3DS</th>\n",
       "      <td>42.64</td>\n",
       "    </tr>\n",
       "  </tbody>\n",
       "</table>\n",
       "</div>"
      ],
      "text/plain": [
       "           sales\n",
       "platform        \n",
       "PS4       141.09\n",
       "PS3       106.86\n",
       "X360       74.52\n",
       "XOne       51.59\n",
       "3DS        42.64"
      ]
     },
     "execution_count": 54,
     "metadata": {},
     "output_type": "execute_result"
    },
    {
     "data": {
      "image/png": "[encoded data removed]",
      "text/plain": [
       "<Figure size 432x288 with 1 Axes>"
      ]
     },
     "metadata": {
      "needs_background": "light"
     },
     "output_type": "display_data"
    }
   ],
   "source": [
    "eu_top_platforms = actual_period.groupby(['platform']).agg(sales=('eu_sales', 'sum')).sort_values(by='sales', ascending=False).head()\n",
    "eu_top_platforms.plot(y='sales', kind='bar');\n",
    "plt.title('Европа')\n",
    "plt.xlabel('Платформы')\n",
    "eu_top_platforms"
   ]
  },
  {
   "cell_type": "code",
   "execution_count": 55,
   "metadata": {},
   "outputs": [
    {
     "data": {
      "text/html": [
       "<div>\n",
       "<style scoped>\n",
       "    .dataframe tbody tr th:only-of-type {\n",
       "        vertical-align: middle;\n",
       "    }\n",
       "\n",
       "    .dataframe tbody tr th {\n",
       "        vertical-align: top;\n",
       "    }\n",
       "\n",
       "    .dataframe thead th {\n",
       "        text-align: right;\n",
       "    }\n",
       "</style>\n",
       "<table border=\"1\" class=\"dataframe\">\n",
       "  <thead>\n",
       "    <tr style=\"text-align: right;\">\n",
       "      <th></th>\n",
       "      <th>sales</th>\n",
       "    </tr>\n",
       "    <tr>\n",
       "      <th>genre</th>\n",
       "      <th></th>\n",
       "    </tr>\n",
       "  </thead>\n",
       "  <tbody>\n",
       "    <tr>\n",
       "      <th>Action</th>\n",
       "      <td>159.34</td>\n",
       "    </tr>\n",
       "    <tr>\n",
       "      <th>Shooter</th>\n",
       "      <td>113.47</td>\n",
       "    </tr>\n",
       "    <tr>\n",
       "      <th>Sports</th>\n",
       "      <td>69.09</td>\n",
       "    </tr>\n",
       "    <tr>\n",
       "      <th>Role-Playing</th>\n",
       "      <td>48.53</td>\n",
       "    </tr>\n",
       "    <tr>\n",
       "      <th>Racing</th>\n",
       "      <td>27.29</td>\n",
       "    </tr>\n",
       "  </tbody>\n",
       "</table>\n",
       "</div>"
      ],
      "text/plain": [
       "               sales\n",
       "genre               \n",
       "Action        159.34\n",
       "Shooter       113.47\n",
       "Sports         69.09\n",
       "Role-Playing   48.53\n",
       "Racing         27.29"
      ]
     },
     "execution_count": 55,
     "metadata": {},
     "output_type": "execute_result"
    },
    {
     "data": {
      "image/png": "[encoded data removed]",
      "text/plain": [
       "<Figure size 432x288 with 1 Axes>"
      ]
     },
     "metadata": {
      "needs_background": "light"
     },
     "output_type": "display_data"
    }
   ],
   "source": [
    "eu_top_genres = actual_period.groupby(['genre']).agg(sales=('eu_sales', 'sum')).sort_values(by='sales', ascending=False).head()\n",
    "eu_top_genres.plot(y='sales', kind='bar');\n",
    "plt.title('Европа')\n",
    "plt.xlabel('Жанры')\n",
    "eu_top_genres"
   ]
  },
  {
   "cell_type": "markdown",
   "metadata": {},
   "source": [
    "Посмотрим как влияет на продажи в Европе рейтинг ESRB."
   ]
  },
  {
   "cell_type": "code",
   "execution_count": 56,
   "metadata": {},
   "outputs": [
    {
     "data": {
      "text/html": [
       "<div>\n",
       "<style scoped>\n",
       "    .dataframe tbody tr th:only-of-type {\n",
       "        vertical-align: middle;\n",
       "    }\n",
       "\n",
       "    .dataframe tbody tr th {\n",
       "        vertical-align: top;\n",
       "    }\n",
       "\n",
       "    .dataframe thead th {\n",
       "        text-align: right;\n",
       "    }\n",
       "</style>\n",
       "<table border=\"1\" class=\"dataframe\">\n",
       "  <thead>\n",
       "    <tr style=\"text-align: right;\">\n",
       "      <th></th>\n",
       "      <th>sales</th>\n",
       "    </tr>\n",
       "    <tr>\n",
       "      <th>rating</th>\n",
       "      <th></th>\n",
       "    </tr>\n",
       "  </thead>\n",
       "  <tbody>\n",
       "    <tr>\n",
       "      <th>M</th>\n",
       "      <td>193.96</td>\n",
       "    </tr>\n",
       "    <tr>\n",
       "      <th>E</th>\n",
       "      <td>113.03</td>\n",
       "    </tr>\n",
       "    <tr>\n",
       "      <th>Unknown</th>\n",
       "      <td>91.50</td>\n",
       "    </tr>\n",
       "    <tr>\n",
       "      <th>E10+</th>\n",
       "      <td>55.37</td>\n",
       "    </tr>\n",
       "    <tr>\n",
       "      <th>T</th>\n",
       "      <td>52.96</td>\n",
       "    </tr>\n",
       "  </tbody>\n",
       "</table>\n",
       "</div>"
      ],
      "text/plain": [
       "          sales\n",
       "rating         \n",
       "M        193.96\n",
       "E        113.03\n",
       "Unknown   91.50\n",
       "E10+      55.37\n",
       "T         52.96"
      ]
     },
     "execution_count": 56,
     "metadata": {},
     "output_type": "execute_result"
    },
    {
     "data": {
      "image/png": "[encoded data removed]",
      "text/plain": [
       "<Figure size 432x288 with 1 Axes>"
      ]
     },
     "metadata": {
      "needs_background": "light"
     },
     "output_type": "display_data"
    }
   ],
   "source": [
    "eu_rating = actual_period.groupby(['rating']).agg(sales=('eu_sales', 'sum')).sort_values(by='sales', ascending=False)\n",
    "eu_rating.plot(y='sales', kind='bar');\n",
    "plt.title('Европа')\n",
    "plt.xlabel('ESRB')\n",
    "eu_rating"
   ]
  },
  {
   "cell_type": "markdown",
   "metadata": {},
   "source": [
    "Из топ-5 платформ у пользователей из Европы лидирует PS4 и PS3 (141 и 106 млн продаж сответственно). Чуть менее популярны X360 и XOne (74 и 51 млн соответственно). Наименее популярна платформа 3DS (42 млн). Таким образом, пользователи из Европы отдают предпочтение продукции Microsoft и Sony.\n",
    "\n",
    "Наиболее популярные жанры это Action, Shooter (159 и 113 млн продаж). Чуть менее популярны Sports и Role-Playing (69 и 48 млн соответственно). Менее остальных популярен жанр Racing (27 млн продаж). Таким образом, пользователи из Европы предпочитают игры с динамичным сюжетом, где успех игрока зависит от скорости его реакции.\n",
    "\n",
    "В Европе чаще продаются игры с рейтингом M (193 млн). Меньше продаж у игр с рейтингом E (113 млн) и почти столько же с неопределенным рейтингом (91 млн). Можно сделать вывод, что для пользователей из Европы рейтинг ESRB имеет значение."
   ]
  },
  {
   "cell_type": "markdown",
   "metadata": {},
   "source": [
    "Выделим топ-5 платформ и жанров для Японии."
   ]
  },
  {
   "cell_type": "code",
   "execution_count": 57,
   "metadata": {},
   "outputs": [
    {
     "data": {
      "text/html": [
       "<div>\n",
       "<style scoped>\n",
       "    .dataframe tbody tr th:only-of-type {\n",
       "        vertical-align: middle;\n",
       "    }\n",
       "\n",
       "    .dataframe tbody tr th {\n",
       "        vertical-align: top;\n",
       "    }\n",
       "\n",
       "    .dataframe thead th {\n",
       "        text-align: right;\n",
       "    }\n",
       "</style>\n",
       "<table border=\"1\" class=\"dataframe\">\n",
       "  <thead>\n",
       "    <tr style=\"text-align: right;\">\n",
       "      <th></th>\n",
       "      <th>sales</th>\n",
       "    </tr>\n",
       "    <tr>\n",
       "      <th>platform</th>\n",
       "      <th></th>\n",
       "    </tr>\n",
       "  </thead>\n",
       "  <tbody>\n",
       "    <tr>\n",
       "      <th>3DS</th>\n",
       "      <td>87.79</td>\n",
       "    </tr>\n",
       "    <tr>\n",
       "      <th>PS3</th>\n",
       "      <td>35.29</td>\n",
       "    </tr>\n",
       "    <tr>\n",
       "      <th>PSV</th>\n",
       "      <td>21.04</td>\n",
       "    </tr>\n",
       "    <tr>\n",
       "      <th>PS4</th>\n",
       "      <td>15.96</td>\n",
       "    </tr>\n",
       "    <tr>\n",
       "      <th>WiiU</th>\n",
       "      <td>13.01</td>\n",
       "    </tr>\n",
       "  </tbody>\n",
       "</table>\n",
       "</div>"
      ],
      "text/plain": [
       "          sales\n",
       "platform       \n",
       "3DS       87.79\n",
       "PS3       35.29\n",
       "PSV       21.04\n",
       "PS4       15.96\n",
       "WiiU      13.01"
      ]
     },
     "execution_count": 57,
     "metadata": {},
     "output_type": "execute_result"
    },
    {
     "data": {
      "image/png": "[encoded data removed]",
      "text/plain": [
       "<Figure size 432x288 with 1 Axes>"
      ]
     },
     "metadata": {
      "needs_background": "light"
     },
     "output_type": "display_data"
    }
   ],
   "source": [
    "jp_top_platforms = actual_period.groupby(['platform']).agg(sales=('jp_sales', 'sum')).sort_values(by='sales', ascending=False).head()\n",
    "jp_top_platforms.plot(y='sales', kind='bar');\n",
    "plt.title('Япония')\n",
    "plt.xlabel('Платформы')\n",
    "jp_top_platforms"
   ]
  },
  {
   "cell_type": "code",
   "execution_count": 58,
   "metadata": {},
   "outputs": [
    {
     "data": {
      "text/html": [
       "<div>\n",
       "<style scoped>\n",
       "    .dataframe tbody tr th:only-of-type {\n",
       "        vertical-align: middle;\n",
       "    }\n",
       "\n",
       "    .dataframe tbody tr th {\n",
       "        vertical-align: top;\n",
       "    }\n",
       "\n",
       "    .dataframe thead th {\n",
       "        text-align: right;\n",
       "    }\n",
       "</style>\n",
       "<table border=\"1\" class=\"dataframe\">\n",
       "  <thead>\n",
       "    <tr style=\"text-align: right;\">\n",
       "      <th></th>\n",
       "      <th>sales</th>\n",
       "    </tr>\n",
       "    <tr>\n",
       "      <th>genre</th>\n",
       "      <th></th>\n",
       "    </tr>\n",
       "  </thead>\n",
       "  <tbody>\n",
       "    <tr>\n",
       "      <th>Role-Playing</th>\n",
       "      <td>65.44</td>\n",
       "    </tr>\n",
       "    <tr>\n",
       "      <th>Action</th>\n",
       "      <td>52.80</td>\n",
       "    </tr>\n",
       "    <tr>\n",
       "      <th>Misc</th>\n",
       "      <td>12.86</td>\n",
       "    </tr>\n",
       "    <tr>\n",
       "      <th>Simulation</th>\n",
       "      <td>10.41</td>\n",
       "    </tr>\n",
       "    <tr>\n",
       "      <th>Fighting</th>\n",
       "      <td>9.44</td>\n",
       "    </tr>\n",
       "  </tbody>\n",
       "</table>\n",
       "</div>"
      ],
      "text/plain": [
       "              sales\n",
       "genre              \n",
       "Role-Playing  65.44\n",
       "Action        52.80\n",
       "Misc          12.86\n",
       "Simulation    10.41\n",
       "Fighting       9.44"
      ]
     },
     "execution_count": 58,
     "metadata": {},
     "output_type": "execute_result"
    },
    {
     "data": {
      "image/png": "[encoded data removed]",
      "text/plain": [
       "<Figure size 432x288 with 1 Axes>"
      ]
     },
     "metadata": {
      "needs_background": "light"
     },
     "output_type": "display_data"
    }
   ],
   "source": [
    "jp_top_genres = actual_period.groupby(['genre']).agg(sales=('jp_sales', 'sum')).sort_values(by='sales', ascending=False).head()\n",
    "jp_top_genres.plot(y='sales', kind='bar');\n",
    "plt.title('Япония')\n",
    "plt.xlabel('Жанры')\n",
    "jp_top_genres"
   ]
  },
  {
   "cell_type": "markdown",
   "metadata": {},
   "source": [
    "Посмотрим как влияет на продажи в Японии рейтинг ESRB."
   ]
  },
  {
   "cell_type": "code",
   "execution_count": 59,
   "metadata": {},
   "outputs": [
    {
     "data": {
      "text/html": [
       "<div>\n",
       "<style scoped>\n",
       "    .dataframe tbody tr th:only-of-type {\n",
       "        vertical-align: middle;\n",
       "    }\n",
       "\n",
       "    .dataframe tbody tr th {\n",
       "        vertical-align: top;\n",
       "    }\n",
       "\n",
       "    .dataframe thead th {\n",
       "        text-align: right;\n",
       "    }\n",
       "</style>\n",
       "<table border=\"1\" class=\"dataframe\">\n",
       "  <thead>\n",
       "    <tr style=\"text-align: right;\">\n",
       "      <th></th>\n",
       "      <th>sales</th>\n",
       "    </tr>\n",
       "    <tr>\n",
       "      <th>rating</th>\n",
       "      <th></th>\n",
       "    </tr>\n",
       "  </thead>\n",
       "  <tbody>\n",
       "    <tr>\n",
       "      <th>Unknown</th>\n",
       "      <td>108.84</td>\n",
       "    </tr>\n",
       "    <tr>\n",
       "      <th>E</th>\n",
       "      <td>28.33</td>\n",
       "    </tr>\n",
       "    <tr>\n",
       "      <th>T</th>\n",
       "      <td>26.02</td>\n",
       "    </tr>\n",
       "    <tr>\n",
       "      <th>M</th>\n",
       "      <td>21.20</td>\n",
       "    </tr>\n",
       "    <tr>\n",
       "      <th>E10+</th>\n",
       "      <td>8.19</td>\n",
       "    </tr>\n",
       "  </tbody>\n",
       "</table>\n",
       "</div>"
      ],
      "text/plain": [
       "          sales\n",
       "rating         \n",
       "Unknown  108.84\n",
       "E         28.33\n",
       "T         26.02\n",
       "M         21.20\n",
       "E10+       8.19"
      ]
     },
     "execution_count": 59,
     "metadata": {},
     "output_type": "execute_result"
    },
    {
     "data": {
      "image/png": "[encoded data removed]",
      "text/plain": [
       "<Figure size 432x288 with 1 Axes>"
      ]
     },
     "metadata": {
      "needs_background": "light"
     },
     "output_type": "display_data"
    }
   ],
   "source": [
    "jp_rating = actual_period.groupby(['rating']).agg(sales=('jp_sales', 'sum')).sort_values(by='sales', ascending=False)\n",
    "jp_rating.plot(y='sales', kind='bar');\n",
    "plt.title('Япония')\n",
    "plt.xlabel('ESRB')\n",
    "jp_rating"
   ]
  },
  {
   "cell_type": "markdown",
   "metadata": {},
   "source": [
    "Из топ-5 платформ у пользователей из Японии со значительным отрывом лидирует платформа 3DS (87 млн). \n",
    "\n",
    "Наиболее популярные жанры это Role-Playing и Action (65 и 52 млн продаж). В три раза меньше продаж у жанров Misc, Simulation b Fighting (12, 10 и 9 соответственно). Таким образом, пользователи из Японии предпочитают игры с динамичным сюжетом, где успех игрока зависит от скорости его реакции.\n",
    "\n",
    "В Японии чаще продаются игры с неопределенным рейтингом (108 млн). Продаж игр с рейтингами E, T и M в 3 раза меньше (28, 26 и 21 соответственно). Таким образом, можно сделать вывод, что для пользователей из Японии рейтинг ESRB не влияет на продажи."
   ]
  },
  {
   "cell_type": "markdown",
   "metadata": {},
   "source": [
    "<a id='section5'></a>\n",
    "### Проверка гипотез.\n",
    "[Оглавление](#top)"
   ]
  },
  {
   "cell_type": "markdown",
   "metadata": {},
   "source": [
    "**Проверка гипотезы:** средние пользовательские рейтинги платформ Xbox One и PC одинаковые. \n",
    "\n",
    "Для начала подготовим данные для проверки."
   ]
  },
  {
   "cell_type": "code",
   "execution_count": 60,
   "metadata": {},
   "outputs": [],
   "source": [
    "xone_user_score = (\n",
    "    actual_period\n",
    "    .query('platform == \"XOne\"')\n",
    "    .pivot_table(index='name', values='user_score')\n",
    ")\n",
    "\n",
    "pc_user_score = (\n",
    "    actual_period\n",
    "    .query('platform == \"PC\"')\n",
    "    .pivot_table(index='name', values='user_score')\n",
    ")"
   ]
  },
  {
   "cell_type": "code",
   "execution_count": 61,
   "metadata": {},
   "outputs": [
    {
     "name": "stdout",
     "output_type": "stream",
     "text": [
      "<class 'pandas.core.frame.DataFrame'>\n",
      "Index: 182 entries, 7 Days to Die to Zumba Fitness: World Party\n",
      "Data columns (total 1 columns):\n",
      " #   Column      Non-Null Count  Dtype  \n",
      "---  ------      --------------  -----  \n",
      " 0   user_score  182 non-null    float64\n",
      "dtypes: float64(1)\n",
      "memory usage: 2.8+ KB\n"
     ]
    }
   ],
   "source": [
    "xone_user_score.info()"
   ]
  },
  {
   "cell_type": "code",
   "execution_count": 62,
   "metadata": {},
   "outputs": [
    {
     "name": "stdout",
     "output_type": "stream",
     "text": [
      "<class 'pandas.core.frame.DataFrame'>\n",
      "Index: 206 entries, Act of Aggression to [Prototype 2]\n",
      "Data columns (total 1 columns):\n",
      " #   Column      Non-Null Count  Dtype  \n",
      "---  ------      --------------  -----  \n",
      " 0   user_score  206 non-null    float64\n",
      "dtypes: float64(1)\n",
      "memory usage: 3.2+ KB\n"
     ]
    }
   ],
   "source": [
    "pc_user_score.info()"
   ]
  },
  {
   "cell_type": "markdown",
   "metadata": {},
   "source": [
    "Так как нулевая гипотеза формулируется так, чтобы использовать знак равенства, сформулируем нулевую и альтернативную гипотезы следующим образом:\n",
    "```\n",
    "H_0: Средний пользовательский рейтинг (user_score) платформы Xbox One = среднему пользовательскому рейтингу (user_score) платформы PC`\n",
    "H_1: Средний пользовательский рейтинг (user_score) платформы Xbox One ≠ среднему пользовательскому рейтингу (user_score) платформы PC`\n",
    "alpha = 0.001\n",
    "```\n",
    "Значение alpha примем за 0.001, так как у нас достаточно большое количество данных. Будем использовать метод для проверки гипотезы о равенстве среднего двух генеральных совокупностей по взятым из них выборкам."
   ]
  },
  {
   "cell_type": "code",
   "execution_count": 63,
   "metadata": {},
   "outputs": [
    {
     "name": "stdout",
     "output_type": "stream",
     "text": [
      "p-value: [0.5489538]\n",
      "Не получилось отвергнуть нулевую гипотезу\n"
     ]
    }
   ],
   "source": [
    "results = st.ttest_ind(xone_user_score, pc_user_score, equal_var=False)\n",
    "\n",
    "alpha = 0.001\n",
    "\n",
    "print('p-value:', results.pvalue)\n",
    "if results.pvalue < alpha:\n",
    "    print('Отвергаем нулевую гипотезу')\n",
    "else:\n",
    "    print('Не получилось отвергнуть нулевую гипотезу')"
   ]
  },
  {
   "cell_type": "markdown",
   "metadata": {},
   "source": [
    "Нулевую гипотезу отвергнуть не получилось. Таким образом, можно сделать вывод, что средние пользовательские рейтинги платформ Xbox One и PC одинаковые."
   ]
  },
  {
   "cell_type": "markdown",
   "metadata": {},
   "source": [
    "**Проверка гипотезы:** средние пользовательские рейтинги жанров Action и Sports разные. \n",
    "\n",
    "Для начала подготовим данные для проверки."
   ]
  },
  {
   "cell_type": "code",
   "execution_count": 64,
   "metadata": {},
   "outputs": [],
   "source": [
    "action_user_score = (\n",
    "    actual_period\n",
    "    .query('genre == \"Action\"')\n",
    "    .pivot_table(index='name', values='user_score')\n",
    ")\n",
    "sports_user_score = (\n",
    "    actual_period\n",
    "    .query('genre == \"Sports\"')\n",
    "    .pivot_table(index='name', values='user_score')\n",
    ")"
   ]
  },
  {
   "cell_type": "code",
   "execution_count": 65,
   "metadata": {},
   "outputs": [
    {
     "name": "stdout",
     "output_type": "stream",
     "text": [
      "<class 'pandas.core.frame.DataFrame'>\n",
      "Index: 237 entries, 7 Days to Die to inFAMOUS: Second Son\n",
      "Data columns (total 1 columns):\n",
      " #   Column      Non-Null Count  Dtype  \n",
      "---  ------      --------------  -----  \n",
      " 0   user_score  237 non-null    float64\n",
      "dtypes: float64(1)\n",
      "memory usage: 3.7+ KB\n"
     ]
    }
   ],
   "source": [
    "action_user_score.info()"
   ]
  },
  {
   "cell_type": "code",
   "execution_count": 66,
   "metadata": {},
   "outputs": [
    {
     "name": "stdout",
     "output_type": "stream",
     "text": [
      "<class 'pandas.core.frame.DataFrame'>\n",
      "Index: 73 entries, 2014 FIFA World Cup Brazil to Zumba Fitness Rush\n",
      "Data columns (total 1 columns):\n",
      " #   Column      Non-Null Count  Dtype  \n",
      "---  ------      --------------  -----  \n",
      " 0   user_score  73 non-null     float64\n",
      "dtypes: float64(1)\n",
      "memory usage: 1.1+ KB\n"
     ]
    }
   ],
   "source": [
    "sports_user_score.info()"
   ]
  },
  {
   "cell_type": "markdown",
   "metadata": {},
   "source": [
    "Так как нулевая гипотеза формулируется так, чтобы использовать знак равенства, сформулируем нулевую и альтернативную гипотезы следующим образом:\n",
    "```\n",
    "H_0: Средний пользовательский рейтинг (user_score) жанра Action = среднему пользовательскому рейтингу (user_score) жанра Sports`\n",
    "H_1: Средний пользовательский рейтинг (user_score) жанра Action ≠ среднему пользовательскому рейтингу (user_score) жанра Sports`\n",
    "alpha = 0.001\n",
    "```\n",
    "Значение alpha примем за 0.001, так как у нас достаточно большое количество данных. Будем использовать метод для проверки гипотезы о равенстве среднего двух генеральных совокупностей по взятым из них выборкам."
   ]
  },
  {
   "cell_type": "code",
   "execution_count": 67,
   "metadata": {},
   "outputs": [
    {
     "name": "stdout",
     "output_type": "stream",
     "text": [
      "p-value: [2.53730733e-09]\n",
      "Отвергаем нулевую гипотезу\n"
     ]
    }
   ],
   "source": [
    "results = st.ttest_ind(action_user_score, sports_user_score, equal_var=False)\n",
    "\n",
    "alpha = 0.001\n",
    "\n",
    "print('p-value:', results.pvalue)\n",
    "if results.pvalue < alpha:\n",
    "    print('Отвергаем нулевую гипотезу')\n",
    "else:\n",
    "    print('Не получилось отвергнуть нулевую гипотезу')"
   ]
  },
  {
   "cell_type": "markdown",
   "metadata": {},
   "source": [
    "Отвергаем нулевую гипотезу. Таким образом, можно сделать вывод, что средние пользовательские рейтинги жанров Action и Sports разные"
   ]
  },
  {
   "cell_type": "markdown",
   "metadata": {},
   "source": [
    "<a id='section6'></a>\n",
    "### Общий вывод\n",
    "[Оглавление](#top)"
   ]
  },
  {
   "cell_type": "markdown",
   "metadata": {},
   "source": [
    "1. Актуальным для исследования является период с 2012 по 2016 год, так как количество выпускаемых игр с 2012 года находится на одном уровне, а также появление новых и исчезновение старых платформ происходит за период в 3-4 года. \n",
    "2. Потенциально прибыльными являются платформы PS2, X360, PS3, Wii, DS и PS, так как они лидируют по продажам в указанный период. \n",
    "3. Оценки критиков не оказывают значительного влияния на продажи, так как коэффициент корреляции продаж лидирующих платформ с отзывами критиков находится в диапазоне 0.32 - 0.4. Оценки пользователей также не оказывают значительного влияния на продажи, так как коэффициент корреляции между продажами и отзывами пользователей находится в диапазонах от -0.002 до -0.09 и от 0.003 до 0.2. \n",
    "4. Наиболее популярными становятся игры с динамичным сюжетом, где успех игрока зависит от скорости его реакции(жанры Shooter, Sports, Platform). Интеллектуальные игры, где успех игрока напрямую зависит от умений, навыков и способностей делать верные ходы, продавались хуже всего (жанры Puzzle и Adventure). \n",
    "5. Пользователи из Северной Америки отдают предпочтение продукции Microsoft и Sony. Самые популярные платформы в этом регионе X360, PS4, PS3 и XOne (140, 108, 103 и 93 млн продаж сответственно). Менее популярна продукция Nintendo - платформа 3DS (55 млн). В данном регионе предпочитают жанры Action, Shooter, Sports и Role-Playing (177, 144, 81 и 64 млн продаж).Менее популярен жанр Misc (38 млн). Для пользователей Северной Америки рейтинг ESRB имеет значение, наиболее популярны игры с рейтингом M и E ('от 17 лет' и 'для всех' соответственно).\n",
    "\n",
    "6. Пользователи из Европы отдают предпочтение продукции Microsoft и Sony. Самые популярные платформы в этом регионе PS4, PS3 X360 и XOne (141, 106, 74 и 51 млн продаж сответственно). Менее популярна продукция Nintendo - платформа 3DS (42 млн). Наиболее популярные жанры это Action, Shooter, Sports и Role-Playing (159, 113, 69 и 48 млн соответственно). Менее остальных популярен жанр Racing (27 млн продаж). Для пользователей из Европы рейтинг ESRB имеет значение, наиболее популярны игры с рейтингом M и E ('от 17 лет' и 'для всех' соответственно).\n",
    "\n",
    "7. У пользователей из Японии со значительным отрывом лидирует платформа 3DS (87 млн). Менее популярны платформы PS3, PSV, PS4 и Wii (35, 21, 15 и 13 млн продаж соответственно). Наиболее популярные жанры это Role-Playing и Action (65 и 52 млн продаж). В три раза меньше продаж у жанров Misc, Simulation и Fighting (12, 10 и 9 соответственно). Для пользователей из Японии рейтинг ESRB не влияет на продажи, так как чаще продаются игры с неопределенным рейтингом. \n",
    "\n",
    "8. Проверка гипотез показала, что:\n",
    "- средние пользовательские рейтинги платформ Xbox One и PC одинаковые;\n",
    "- средние пользовательские рейтинги жанров Action и Sports разные."
   ]
  }
 ],
 "metadata": {
  "ExecuteTimeLog": [
   {
    "duration": 383,
    "start_time": "2023-03-13T07:30:27.598Z"
   },
   {
    "duration": 190,
    "start_time": "2023-03-13T07:31:12.636Z"
   },
   {
    "duration": 14,
    "start_time": "2023-03-13T07:31:36.710Z"
   },
   {
    "duration": 48,
    "start_time": "2023-03-13T07:31:49.157Z"
   },
   {
    "duration": 7,
    "start_time": "2023-03-13T07:31:50.289Z"
   },
   {
    "duration": 52,
    "start_time": "2023-03-13T07:32:11.132Z"
   },
   {
    "duration": 22,
    "start_time": "2023-03-13T07:32:18.450Z"
   },
   {
    "duration": 16,
    "start_time": "2023-03-13T07:32:53.779Z"
   },
   {
    "duration": 13,
    "start_time": "2023-03-13T07:35:47.233Z"
   },
   {
    "duration": 64,
    "start_time": "2023-03-13T07:41:30.649Z"
   },
   {
    "duration": 470,
    "start_time": "2023-03-13T07:41:46.129Z"
   },
   {
    "duration": 45,
    "start_time": "2023-03-13T07:54:59.952Z"
   },
   {
    "duration": 44,
    "start_time": "2023-03-13T07:55:33.826Z"
   },
   {
    "duration": 7,
    "start_time": "2023-03-13T07:57:43.372Z"
   },
   {
    "duration": 16,
    "start_time": "2023-03-13T07:57:57.130Z"
   },
   {
    "duration": 6,
    "start_time": "2023-03-13T07:59:14.885Z"
   },
   {
    "duration": 14,
    "start_time": "2023-03-13T07:59:24.293Z"
   },
   {
    "duration": 9,
    "start_time": "2023-03-13T08:05:43.760Z"
   },
   {
    "duration": 16,
    "start_time": "2023-03-13T08:05:53.797Z"
   },
   {
    "duration": 9,
    "start_time": "2023-03-13T08:07:36.997Z"
   },
   {
    "duration": 14,
    "start_time": "2023-03-13T08:07:46.236Z"
   },
   {
    "duration": 5,
    "start_time": "2023-03-13T08:27:50.280Z"
   },
   {
    "duration": 5,
    "start_time": "2023-03-13T08:29:50.696Z"
   },
   {
    "duration": 6,
    "start_time": "2023-03-13T08:30:47.525Z"
   },
   {
    "duration": 4,
    "start_time": "2023-03-13T08:35:39.674Z"
   },
   {
    "duration": 48,
    "start_time": "2023-03-13T08:46:00.834Z"
   },
   {
    "duration": 4,
    "start_time": "2023-03-13T08:46:09.935Z"
   },
   {
    "duration": 429,
    "start_time": "2023-03-13T09:02:11.245Z"
   },
   {
    "duration": 56,
    "start_time": "2023-03-13T09:02:11.676Z"
   },
   {
    "duration": 29,
    "start_time": "2023-03-13T09:02:11.734Z"
   },
   {
    "duration": 16,
    "start_time": "2023-03-13T09:02:11.764Z"
   },
   {
    "duration": 327,
    "start_time": "2023-03-13T09:02:11.782Z"
   },
   {
    "duration": 6,
    "start_time": "2023-03-13T09:02:12.111Z"
   },
   {
    "duration": 26,
    "start_time": "2023-03-13T09:02:12.119Z"
   },
   {
    "duration": 13,
    "start_time": "2023-03-13T09:02:12.147Z"
   },
   {
    "duration": 38,
    "start_time": "2023-03-13T09:02:12.162Z"
   },
   {
    "duration": 28,
    "start_time": "2023-03-13T09:02:12.202Z"
   },
   {
    "duration": 35,
    "start_time": "2023-03-13T09:02:12.233Z"
   },
   {
    "duration": 28,
    "start_time": "2023-03-13T09:02:12.269Z"
   },
   {
    "duration": 5,
    "start_time": "2023-03-13T09:05:08.948Z"
   },
   {
    "duration": 6,
    "start_time": "2023-03-13T09:05:34.984Z"
   },
   {
    "duration": 6,
    "start_time": "2023-03-13T09:08:17.929Z"
   },
   {
    "duration": 6,
    "start_time": "2023-03-13T09:08:19.969Z"
   },
   {
    "duration": 44,
    "start_time": "2023-03-13T09:22:39.748Z"
   },
   {
    "duration": 18,
    "start_time": "2023-03-13T09:22:51.464Z"
   },
   {
    "duration": 5,
    "start_time": "2023-03-13T09:23:46.194Z"
   },
   {
    "duration": 26,
    "start_time": "2023-03-13T09:27:17.843Z"
   },
   {
    "duration": 675,
    "start_time": "2023-03-13T09:34:00.736Z"
   },
   {
    "duration": 57,
    "start_time": "2023-03-13T09:34:01.413Z"
   },
   {
    "duration": 24,
    "start_time": "2023-03-13T09:34:01.472Z"
   },
   {
    "duration": 27,
    "start_time": "2023-03-13T09:34:01.499Z"
   },
   {
    "duration": 77,
    "start_time": "2023-03-13T09:34:01.528Z"
   },
   {
    "duration": 6,
    "start_time": "2023-03-13T09:34:01.607Z"
   },
   {
    "duration": 41,
    "start_time": "2023-03-13T09:34:01.615Z"
   },
   {
    "duration": 92,
    "start_time": "2023-03-13T09:34:01.658Z"
   },
   {
    "duration": 53,
    "start_time": "2023-03-13T09:34:01.752Z"
   },
   {
    "duration": 41,
    "start_time": "2023-03-13T09:34:01.807Z"
   },
   {
    "duration": 24,
    "start_time": "2023-03-13T09:34:01.849Z"
   },
   {
    "duration": 36,
    "start_time": "2023-03-13T09:34:01.875Z"
   },
   {
    "duration": 29,
    "start_time": "2023-03-13T09:34:01.912Z"
   },
   {
    "duration": 21,
    "start_time": "2023-03-13T09:34:01.943Z"
   },
   {
    "duration": 45,
    "start_time": "2023-03-13T09:34:01.966Z"
   },
   {
    "duration": 53,
    "start_time": "2023-03-13T09:34:02.012Z"
   },
   {
    "duration": 1965,
    "start_time": "2023-03-13T09:34:35.871Z"
   },
   {
    "duration": 1525,
    "start_time": "2023-03-13T09:35:03.068Z"
   },
   {
    "duration": 679,
    "start_time": "2023-03-13T09:35:33.019Z"
   },
   {
    "duration": 56,
    "start_time": "2023-03-13T09:35:33.700Z"
   },
   {
    "duration": 25,
    "start_time": "2023-03-13T09:35:33.757Z"
   },
   {
    "duration": 20,
    "start_time": "2023-03-13T09:35:33.785Z"
   },
   {
    "duration": 1187,
    "start_time": "2023-03-13T09:35:33.806Z"
   },
   {
    "duration": 68,
    "start_time": "2023-03-13T09:35:34.994Z"
   },
   {
    "duration": 5,
    "start_time": "2023-03-13T09:35:35.064Z"
   },
   {
    "duration": 12,
    "start_time": "2023-03-13T09:35:35.070Z"
   },
   {
    "duration": 6,
    "start_time": "2023-03-13T09:35:35.084Z"
   },
   {
    "duration": 5,
    "start_time": "2023-03-13T09:35:35.092Z"
   },
   {
    "duration": 4,
    "start_time": "2023-03-13T09:35:35.098Z"
   },
   {
    "duration": 4,
    "start_time": "2023-03-13T09:35:35.104Z"
   },
   {
    "duration": 33,
    "start_time": "2023-03-13T09:35:35.109Z"
   },
   {
    "duration": 9,
    "start_time": "2023-03-13T09:35:35.143Z"
   },
   {
    "duration": 6,
    "start_time": "2023-03-13T09:35:35.153Z"
   },
   {
    "duration": 6,
    "start_time": "2023-03-13T09:35:35.160Z"
   },
   {
    "duration": 18,
    "start_time": "2023-03-13T09:35:35.168Z"
   },
   {
    "duration": 1181,
    "start_time": "2023-03-13T09:36:00.538Z"
   },
   {
    "duration": 1048,
    "start_time": "2023-03-13T09:36:20.749Z"
   },
   {
    "duration": 671,
    "start_time": "2023-03-13T09:36:32.284Z"
   },
   {
    "duration": 53,
    "start_time": "2023-03-13T09:36:32.957Z"
   },
   {
    "duration": 22,
    "start_time": "2023-03-13T09:36:33.012Z"
   },
   {
    "duration": 16,
    "start_time": "2023-03-13T09:36:33.035Z"
   },
   {
    "duration": 788,
    "start_time": "2023-03-13T09:36:33.053Z"
   },
   {
    "duration": 52,
    "start_time": "2023-03-13T09:36:33.843Z"
   },
   {
    "duration": 6,
    "start_time": "2023-03-13T09:36:33.897Z"
   },
   {
    "duration": 18,
    "start_time": "2023-03-13T09:36:33.904Z"
   },
   {
    "duration": 5,
    "start_time": "2023-03-13T09:36:33.942Z"
   },
   {
    "duration": 12,
    "start_time": "2023-03-13T09:36:33.949Z"
   },
   {
    "duration": 5,
    "start_time": "2023-03-13T09:36:33.962Z"
   },
   {
    "duration": 8,
    "start_time": "2023-03-13T09:36:33.968Z"
   },
   {
    "duration": 23,
    "start_time": "2023-03-13T09:36:33.978Z"
   },
   {
    "duration": 6,
    "start_time": "2023-03-13T09:36:34.004Z"
   },
   {
    "duration": 13,
    "start_time": "2023-03-13T09:36:34.011Z"
   },
   {
    "duration": 13,
    "start_time": "2023-03-13T09:36:34.026Z"
   },
   {
    "duration": 21,
    "start_time": "2023-03-13T09:36:34.041Z"
   },
   {
    "duration": 12,
    "start_time": "2023-03-13T09:53:01.235Z"
   },
   {
    "duration": 7,
    "start_time": "2023-03-13T09:53:24.250Z"
   },
   {
    "duration": 8,
    "start_time": "2023-03-13T09:53:33.866Z"
   },
   {
    "duration": 7,
    "start_time": "2023-03-13T09:55:34.445Z"
   },
   {
    "duration": 381,
    "start_time": "2023-03-13T09:56:09.336Z"
   },
   {
    "duration": 158,
    "start_time": "2023-03-13T09:58:56.874Z"
   },
   {
    "duration": 302,
    "start_time": "2023-03-13T09:59:35.944Z"
   },
   {
    "duration": 12,
    "start_time": "2023-03-13T10:17:08.329Z"
   },
   {
    "duration": 9,
    "start_time": "2023-03-13T10:17:16.181Z"
   },
   {
    "duration": 10,
    "start_time": "2023-03-13T10:18:41.000Z"
   },
   {
    "duration": 11,
    "start_time": "2023-03-13T10:19:03.876Z"
   },
   {
    "duration": 16,
    "start_time": "2023-03-13T10:21:57.834Z"
   },
   {
    "duration": 9,
    "start_time": "2023-03-13T10:22:08.299Z"
   },
   {
    "duration": 12,
    "start_time": "2023-03-13T10:23:44.492Z"
   },
   {
    "duration": 10,
    "start_time": "2023-03-13T10:23:45.007Z"
   },
   {
    "duration": 14,
    "start_time": "2023-03-13T10:25:40.354Z"
   },
   {
    "duration": 8,
    "start_time": "2023-03-13T10:25:41.644Z"
   },
   {
    "duration": 13,
    "start_time": "2023-03-13T10:28:22.106Z"
   },
   {
    "duration": 9,
    "start_time": "2023-03-13T10:28:23.411Z"
   },
   {
    "duration": 17,
    "start_time": "2023-03-13T10:29:08.097Z"
   },
   {
    "duration": 8,
    "start_time": "2023-03-13T10:29:08.912Z"
   },
   {
    "duration": 11,
    "start_time": "2023-03-13T10:29:33.007Z"
   },
   {
    "duration": 7,
    "start_time": "2023-03-13T10:29:33.544Z"
   },
   {
    "duration": 50,
    "start_time": "2023-03-13T10:36:08.870Z"
   },
   {
    "duration": 13,
    "start_time": "2023-03-13T10:36:23.374Z"
   },
   {
    "duration": 16,
    "start_time": "2023-03-13T10:36:31.808Z"
   },
   {
    "duration": 11,
    "start_time": "2023-03-13T10:37:25.543Z"
   },
   {
    "duration": 12,
    "start_time": "2023-03-13T10:37:26.842Z"
   },
   {
    "duration": 82,
    "start_time": "2023-03-13T10:38:51.441Z"
   },
   {
    "duration": 10,
    "start_time": "2023-03-13T10:39:16.754Z"
   },
   {
    "duration": 9,
    "start_time": "2023-03-13T10:39:19.734Z"
   },
   {
    "duration": 14,
    "start_time": "2023-03-13T10:39:33.071Z"
   },
   {
    "duration": 10,
    "start_time": "2023-03-13T10:39:33.736Z"
   },
   {
    "duration": 12,
    "start_time": "2023-03-13T10:39:47.603Z"
   },
   {
    "duration": 7,
    "start_time": "2023-03-13T10:39:48.355Z"
   },
   {
    "duration": 210,
    "start_time": "2023-03-13T10:53:07.249Z"
   },
   {
    "duration": 239,
    "start_time": "2023-03-13T10:53:50.921Z"
   },
   {
    "duration": 12,
    "start_time": "2023-03-13T11:12:06.108Z"
   },
   {
    "duration": 8,
    "start_time": "2023-03-13T11:12:25.553Z"
   },
   {
    "duration": 171,
    "start_time": "2023-03-13T11:13:30.078Z"
   },
   {
    "duration": 1168,
    "start_time": "2023-03-13T11:17:16.212Z"
   },
   {
    "duration": 57,
    "start_time": "2023-03-13T11:17:17.382Z"
   },
   {
    "duration": 28,
    "start_time": "2023-03-13T11:17:17.441Z"
   },
   {
    "duration": 15,
    "start_time": "2023-03-13T11:17:17.471Z"
   },
   {
    "duration": 898,
    "start_time": "2023-03-13T11:17:17.488Z"
   },
   {
    "duration": 60,
    "start_time": "2023-03-13T11:17:18.388Z"
   },
   {
    "duration": 4,
    "start_time": "2023-03-13T11:17:18.450Z"
   },
   {
    "duration": 25,
    "start_time": "2023-03-13T11:17:18.456Z"
   },
   {
    "duration": 9,
    "start_time": "2023-03-13T11:17:18.483Z"
   },
   {
    "duration": 30,
    "start_time": "2023-03-13T11:17:18.494Z"
   },
   {
    "duration": 14,
    "start_time": "2023-03-13T11:17:18.526Z"
   },
   {
    "duration": 22,
    "start_time": "2023-03-13T11:17:18.542Z"
   },
   {
    "duration": 15,
    "start_time": "2023-03-13T11:17:18.566Z"
   },
   {
    "duration": 19,
    "start_time": "2023-03-13T11:17:18.582Z"
   },
   {
    "duration": 21,
    "start_time": "2023-03-13T11:17:18.602Z"
   },
   {
    "duration": 10,
    "start_time": "2023-03-13T11:17:18.625Z"
   },
   {
    "duration": 31,
    "start_time": "2023-03-13T11:17:18.636Z"
   },
   {
    "duration": 311,
    "start_time": "2023-03-13T11:17:18.669Z"
   },
   {
    "duration": 11,
    "start_time": "2023-03-13T11:17:18.983Z"
   },
   {
    "duration": 11,
    "start_time": "2023-03-13T11:17:18.996Z"
   },
   {
    "duration": 149,
    "start_time": "2023-03-13T11:17:19.008Z"
   },
   {
    "duration": 4,
    "start_time": "2023-03-13T11:24:48.209Z"
   },
   {
    "duration": 13,
    "start_time": "2023-03-13T11:25:20.797Z"
   },
   {
    "duration": 8,
    "start_time": "2023-03-13T11:25:29.291Z"
   },
   {
    "duration": 209,
    "start_time": "2023-03-13T11:26:35.058Z"
   },
   {
    "duration": 153,
    "start_time": "2023-03-13T11:27:17.110Z"
   },
   {
    "duration": 166,
    "start_time": "2023-03-13T11:27:52.103Z"
   },
   {
    "duration": 42,
    "start_time": "2023-03-13T11:28:43.996Z"
   },
   {
    "duration": 132,
    "start_time": "2023-03-13T11:28:49.457Z"
   },
   {
    "duration": 151,
    "start_time": "2023-03-13T11:29:22.503Z"
   },
   {
    "duration": 144,
    "start_time": "2023-03-13T11:29:54.098Z"
   },
   {
    "duration": 147,
    "start_time": "2023-03-13T11:31:25.607Z"
   },
   {
    "duration": 135,
    "start_time": "2023-03-13T11:31:46.013Z"
   },
   {
    "duration": 162,
    "start_time": "2023-03-13T11:33:38.498Z"
   },
   {
    "duration": 162,
    "start_time": "2023-03-13T11:33:53.531Z"
   },
   {
    "duration": 152,
    "start_time": "2023-03-13T11:34:16.754Z"
   },
   {
    "duration": 149,
    "start_time": "2023-03-13T11:34:42.241Z"
   },
   {
    "duration": 256,
    "start_time": "2023-03-13T11:34:51.935Z"
   },
   {
    "duration": 193,
    "start_time": "2023-03-13T11:35:49.114Z"
   },
   {
    "duration": 168,
    "start_time": "2023-03-13T11:36:11.331Z"
   },
   {
    "duration": 14,
    "start_time": "2023-03-13T11:58:57.054Z"
   },
   {
    "duration": 6,
    "start_time": "2023-03-13T11:59:04.258Z"
   },
   {
    "duration": 9,
    "start_time": "2023-03-13T11:59:42.000Z"
   },
   {
    "duration": 95,
    "start_time": "2023-03-13T12:02:53.261Z"
   },
   {
    "duration": 113,
    "start_time": "2023-03-13T12:03:08.990Z"
   },
   {
    "duration": 96,
    "start_time": "2023-03-13T12:03:14.888Z"
   },
   {
    "duration": 12,
    "start_time": "2023-03-13T12:06:39.212Z"
   },
   {
    "duration": 292,
    "start_time": "2023-03-13T12:12:59.350Z"
   },
   {
    "duration": 22,
    "start_time": "2023-03-13T12:23:01.831Z"
   },
   {
    "duration": 19,
    "start_time": "2023-03-13T12:24:29.445Z"
   },
   {
    "duration": 1119,
    "start_time": "2023-03-13T12:26:41.337Z"
   },
   {
    "duration": 56,
    "start_time": "2023-03-13T12:26:42.458Z"
   },
   {
    "duration": 23,
    "start_time": "2023-03-13T12:26:42.515Z"
   },
   {
    "duration": 15,
    "start_time": "2023-03-13T12:26:42.540Z"
   },
   {
    "duration": 745,
    "start_time": "2023-03-13T12:26:42.557Z"
   },
   {
    "duration": 61,
    "start_time": "2023-03-13T12:26:43.304Z"
   },
   {
    "duration": 5,
    "start_time": "2023-03-13T12:26:43.367Z"
   },
   {
    "duration": 11,
    "start_time": "2023-03-13T12:26:43.374Z"
   },
   {
    "duration": 18,
    "start_time": "2023-03-13T12:26:43.387Z"
   },
   {
    "duration": 4,
    "start_time": "2023-03-13T12:26:43.408Z"
   },
   {
    "duration": 5,
    "start_time": "2023-03-13T12:26:43.414Z"
   },
   {
    "duration": 9,
    "start_time": "2023-03-13T12:26:43.420Z"
   },
   {
    "duration": 5,
    "start_time": "2023-03-13T12:26:43.441Z"
   },
   {
    "duration": 8,
    "start_time": "2023-03-13T12:26:43.447Z"
   },
   {
    "duration": 8,
    "start_time": "2023-03-13T12:26:43.457Z"
   },
   {
    "duration": 6,
    "start_time": "2023-03-13T12:26:43.467Z"
   },
   {
    "duration": 25,
    "start_time": "2023-03-13T12:26:43.474Z"
   },
   {
    "duration": 18,
    "start_time": "2023-03-13T12:26:43.500Z"
   },
   {
    "duration": 16,
    "start_time": "2023-03-13T12:26:43.542Z"
   },
   {
    "duration": 347,
    "start_time": "2023-03-13T12:26:43.560Z"
   },
   {
    "duration": 294,
    "start_time": "2023-03-13T12:26:43.909Z"
   },
   {
    "duration": 246,
    "start_time": "2023-03-13T12:26:44.205Z"
   },
   {
    "duration": 170,
    "start_time": "2023-03-13T12:26:44.453Z"
   },
   {
    "duration": 182,
    "start_time": "2023-03-13T12:26:44.626Z"
   },
   {
    "duration": 156,
    "start_time": "2023-03-13T12:26:44.810Z"
   },
   {
    "duration": 168,
    "start_time": "2023-03-13T12:26:44.967Z"
   },
   {
    "duration": 166,
    "start_time": "2023-03-13T12:26:45.136Z"
   },
   {
    "duration": 13,
    "start_time": "2023-03-13T12:26:45.305Z"
   },
   {
    "duration": 23,
    "start_time": "2023-03-13T12:26:45.321Z"
   },
   {
    "duration": 95,
    "start_time": "2023-03-13T12:26:45.346Z"
   },
   {
    "duration": 11,
    "start_time": "2023-03-13T12:26:45.443Z"
   },
   {
    "duration": 5,
    "start_time": "2023-03-13T12:30:58.186Z"
   },
   {
    "duration": 15,
    "start_time": "2023-03-13T12:31:39.682Z"
   },
   {
    "duration": 1171,
    "start_time": "2023-03-13T12:31:52.737Z"
   },
   {
    "duration": 56,
    "start_time": "2023-03-13T12:31:53.910Z"
   },
   {
    "duration": 29,
    "start_time": "2023-03-13T12:31:53.968Z"
   },
   {
    "duration": 15,
    "start_time": "2023-03-13T12:31:53.999Z"
   },
   {
    "duration": 802,
    "start_time": "2023-03-13T12:31:54.016Z"
   },
   {
    "duration": 62,
    "start_time": "2023-03-13T12:31:54.820Z"
   },
   {
    "duration": 5,
    "start_time": "2023-03-13T12:31:54.884Z"
   },
   {
    "duration": 11,
    "start_time": "2023-03-13T12:31:54.891Z"
   },
   {
    "duration": 4,
    "start_time": "2023-03-13T12:31:54.904Z"
   },
   {
    "duration": 32,
    "start_time": "2023-03-13T12:31:54.909Z"
   },
   {
    "duration": 5,
    "start_time": "2023-03-13T12:31:54.943Z"
   },
   {
    "duration": 6,
    "start_time": "2023-03-13T12:31:54.949Z"
   },
   {
    "duration": 8,
    "start_time": "2023-03-13T12:31:54.956Z"
   },
   {
    "duration": 6,
    "start_time": "2023-03-13T12:31:54.966Z"
   },
   {
    "duration": 18,
    "start_time": "2023-03-13T12:31:54.973Z"
   },
   {
    "duration": 8,
    "start_time": "2023-03-13T12:31:54.992Z"
   },
   {
    "duration": 11,
    "start_time": "2023-03-13T12:31:55.002Z"
   },
   {
    "duration": 40,
    "start_time": "2023-03-13T12:31:55.015Z"
   },
   {
    "duration": 20,
    "start_time": "2023-03-13T12:31:55.057Z"
   },
   {
    "duration": 19,
    "start_time": "2023-03-13T12:31:55.078Z"
   },
   {
    "duration": 16,
    "start_time": "2023-03-13T12:31:55.099Z"
   },
   {
    "duration": 361,
    "start_time": "2023-03-13T12:31:55.116Z"
   },
   {
    "duration": 281,
    "start_time": "2023-03-13T12:31:55.479Z"
   },
   {
    "duration": 247,
    "start_time": "2023-03-13T12:31:55.761Z"
   },
   {
    "duration": 174,
    "start_time": "2023-03-13T12:31:56.010Z"
   },
   {
    "duration": 172,
    "start_time": "2023-03-13T12:31:56.186Z"
   },
   {
    "duration": 145,
    "start_time": "2023-03-13T12:31:56.360Z"
   },
   {
    "duration": 161,
    "start_time": "2023-03-13T12:31:56.507Z"
   },
   {
    "duration": 181,
    "start_time": "2023-03-13T12:31:56.669Z"
   },
   {
    "duration": 14,
    "start_time": "2023-03-13T12:31:56.852Z"
   },
   {
    "duration": 8,
    "start_time": "2023-03-13T12:31:56.868Z"
   },
   {
    "duration": 122,
    "start_time": "2023-03-13T12:31:56.878Z"
   },
   {
    "duration": 13,
    "start_time": "2023-03-13T12:31:57.002Z"
   },
   {
    "duration": 1414,
    "start_time": "2023-03-14T05:57:13.435Z"
   },
   {
    "duration": 218,
    "start_time": "2023-03-14T05:57:14.851Z"
   },
   {
    "duration": 36,
    "start_time": "2023-03-14T05:57:15.071Z"
   },
   {
    "duration": 15,
    "start_time": "2023-03-14T05:57:15.110Z"
   },
   {
    "duration": 810,
    "start_time": "2023-03-14T05:57:15.128Z"
   },
   {
    "duration": 68,
    "start_time": "2023-03-14T05:57:15.941Z"
   },
   {
    "duration": 6,
    "start_time": "2023-03-14T05:57:16.011Z"
   },
   {
    "duration": 30,
    "start_time": "2023-03-14T05:57:16.018Z"
   },
   {
    "duration": 6,
    "start_time": "2023-03-14T05:57:16.054Z"
   },
   {
    "duration": 8,
    "start_time": "2023-03-14T05:57:16.062Z"
   },
   {
    "duration": 4,
    "start_time": "2023-03-14T05:57:16.072Z"
   },
   {
    "duration": 13,
    "start_time": "2023-03-14T05:57:16.078Z"
   },
   {
    "duration": 6,
    "start_time": "2023-03-14T05:57:16.093Z"
   },
   {
    "duration": 6,
    "start_time": "2023-03-14T05:57:16.103Z"
   },
   {
    "duration": 31,
    "start_time": "2023-03-14T05:57:16.111Z"
   },
   {
    "duration": 5,
    "start_time": "2023-03-14T05:57:16.144Z"
   },
   {
    "duration": 5,
    "start_time": "2023-03-14T05:57:16.151Z"
   },
   {
    "duration": 20,
    "start_time": "2023-03-14T05:57:16.157Z"
   },
   {
    "duration": 24,
    "start_time": "2023-03-14T05:57:16.178Z"
   },
   {
    "duration": 52,
    "start_time": "2023-03-14T05:57:16.204Z"
   },
   {
    "duration": 20,
    "start_time": "2023-03-14T05:57:16.258Z"
   },
   {
    "duration": 334,
    "start_time": "2023-03-14T05:57:16.280Z"
   },
   {
    "duration": 312,
    "start_time": "2023-03-14T05:57:16.615Z"
   },
   {
    "duration": 266,
    "start_time": "2023-03-14T05:57:16.929Z"
   },
   {
    "duration": 207,
    "start_time": "2023-03-14T05:57:17.197Z"
   },
   {
    "duration": 225,
    "start_time": "2023-03-14T05:57:17.407Z"
   },
   {
    "duration": 165,
    "start_time": "2023-03-14T05:57:17.644Z"
   },
   {
    "duration": 181,
    "start_time": "2023-03-14T05:57:17.811Z"
   },
   {
    "duration": 212,
    "start_time": "2023-03-14T05:57:17.994Z"
   },
   {
    "duration": 16,
    "start_time": "2023-03-14T05:57:18.208Z"
   },
   {
    "duration": 21,
    "start_time": "2023-03-14T05:57:18.226Z"
   },
   {
    "duration": 245,
    "start_time": "2023-03-14T06:02:10.898Z"
   },
   {
    "duration": 18,
    "start_time": "2023-03-14T06:12:07.278Z"
   },
   {
    "duration": 114,
    "start_time": "2023-03-14T06:12:08.579Z"
   },
   {
    "duration": 222,
    "start_time": "2023-03-14T06:12:19.119Z"
   },
   {
    "duration": 8,
    "start_time": "2023-03-14T06:31:18.677Z"
   },
   {
    "duration": 14,
    "start_time": "2023-03-14T06:31:20.133Z"
   },
   {
    "duration": 243,
    "start_time": "2023-03-14T06:31:21.971Z"
   },
   {
    "duration": 8,
    "start_time": "2023-03-14T06:31:43.746Z"
   },
   {
    "duration": 16,
    "start_time": "2023-03-14T06:32:31.720Z"
   },
   {
    "duration": 23,
    "start_time": "2023-03-14T06:42:38.804Z"
   },
   {
    "duration": 19,
    "start_time": "2023-03-14T06:44:31.708Z"
   },
   {
    "duration": 1275,
    "start_time": "2023-03-14T06:44:52.713Z"
   },
   {
    "duration": 55,
    "start_time": "2023-03-14T06:44:53.990Z"
   },
   {
    "duration": 28,
    "start_time": "2023-03-14T06:44:54.046Z"
   },
   {
    "duration": 16,
    "start_time": "2023-03-14T06:44:54.076Z"
   },
   {
    "duration": 825,
    "start_time": "2023-03-14T06:44:54.094Z"
   },
   {
    "duration": 73,
    "start_time": "2023-03-14T06:44:54.921Z"
   },
   {
    "duration": 6,
    "start_time": "2023-03-14T06:44:54.996Z"
   },
   {
    "duration": 29,
    "start_time": "2023-03-14T06:44:55.004Z"
   },
   {
    "duration": 9,
    "start_time": "2023-03-14T06:44:55.035Z"
   },
   {
    "duration": 11,
    "start_time": "2023-03-14T06:44:55.047Z"
   },
   {
    "duration": 7,
    "start_time": "2023-03-14T06:44:55.060Z"
   },
   {
    "duration": 13,
    "start_time": "2023-03-14T06:44:55.069Z"
   },
   {
    "duration": 30,
    "start_time": "2023-03-14T06:44:55.083Z"
   },
   {
    "duration": 13,
    "start_time": "2023-03-14T06:44:55.115Z"
   },
   {
    "duration": 18,
    "start_time": "2023-03-14T06:44:55.130Z"
   },
   {
    "duration": 7,
    "start_time": "2023-03-14T06:44:55.150Z"
   },
   {
    "duration": 8,
    "start_time": "2023-03-14T06:44:55.159Z"
   },
   {
    "duration": 17,
    "start_time": "2023-03-14T06:44:55.169Z"
   },
   {
    "duration": 30,
    "start_time": "2023-03-14T06:44:55.188Z"
   },
   {
    "duration": 48,
    "start_time": "2023-03-14T06:44:55.220Z"
   },
   {
    "duration": 18,
    "start_time": "2023-03-14T06:44:55.270Z"
   },
   {
    "duration": 390,
    "start_time": "2023-03-14T06:44:55.291Z"
   },
   {
    "duration": 313,
    "start_time": "2023-03-14T06:44:55.682Z"
   },
   {
    "duration": 269,
    "start_time": "2023-03-14T06:44:55.997Z"
   },
   {
    "duration": 176,
    "start_time": "2023-03-14T06:44:56.268Z"
   },
   {
    "duration": 181,
    "start_time": "2023-03-14T06:44:56.446Z"
   },
   {
    "duration": 159,
    "start_time": "2023-03-14T06:44:56.629Z"
   },
   {
    "duration": 181,
    "start_time": "2023-03-14T06:44:56.791Z"
   },
   {
    "duration": 176,
    "start_time": "2023-03-14T06:44:56.973Z"
   },
   {
    "duration": 6,
    "start_time": "2023-03-14T06:44:57.151Z"
   },
   {
    "duration": 20,
    "start_time": "2023-03-14T06:44:57.159Z"
   },
   {
    "duration": 236,
    "start_time": "2023-03-14T06:44:57.181Z"
   },
   {
    "duration": 161,
    "start_time": "2023-03-14T06:44:57.419Z"
   },
   {
    "duration": 6,
    "start_time": "2023-03-14T06:45:48.427Z"
   },
   {
    "duration": 26,
    "start_time": "2023-03-14T06:46:08.976Z"
   },
   {
    "duration": 16,
    "start_time": "2023-03-14T06:47:27.141Z"
   },
   {
    "duration": 10,
    "start_time": "2023-03-14T06:47:34.675Z"
   },
   {
    "duration": 6,
    "start_time": "2023-03-14T06:51:10.617Z"
   },
   {
    "duration": 12,
    "start_time": "2023-03-14T06:51:11.736Z"
   },
   {
    "duration": 284,
    "start_time": "2023-03-14T06:59:51.338Z"
   },
   {
    "duration": 12,
    "start_time": "2023-03-14T07:16:30.579Z"
   },
   {
    "duration": 87,
    "start_time": "2023-03-14T07:16:54.826Z"
   },
   {
    "duration": 14,
    "start_time": "2023-03-14T07:17:27.679Z"
   },
   {
    "duration": 10,
    "start_time": "2023-03-14T07:46:46.843Z"
   },
   {
    "duration": 1162,
    "start_time": "2023-03-14T07:46:55.973Z"
   },
   {
    "duration": 53,
    "start_time": "2023-03-14T07:46:57.137Z"
   },
   {
    "duration": 25,
    "start_time": "2023-03-14T07:46:57.192Z"
   },
   {
    "duration": 14,
    "start_time": "2023-03-14T07:46:57.219Z"
   },
   {
    "duration": 879,
    "start_time": "2023-03-14T07:46:57.234Z"
   },
   {
    "duration": 66,
    "start_time": "2023-03-14T07:46:58.115Z"
   },
   {
    "duration": 4,
    "start_time": "2023-03-14T07:46:58.183Z"
   },
   {
    "duration": 39,
    "start_time": "2023-03-14T07:46:58.189Z"
   },
   {
    "duration": 4,
    "start_time": "2023-03-14T07:46:58.230Z"
   },
   {
    "duration": 4,
    "start_time": "2023-03-14T07:46:58.237Z"
   },
   {
    "duration": 5,
    "start_time": "2023-03-14T07:46:58.243Z"
   },
   {
    "duration": 6,
    "start_time": "2023-03-14T07:46:58.250Z"
   },
   {
    "duration": 9,
    "start_time": "2023-03-14T07:46:58.258Z"
   },
   {
    "duration": 29,
    "start_time": "2023-03-14T07:46:58.269Z"
   },
   {
    "duration": 26,
    "start_time": "2023-03-14T07:46:58.300Z"
   },
   {
    "duration": 13,
    "start_time": "2023-03-14T07:46:58.327Z"
   },
   {
    "duration": 6,
    "start_time": "2023-03-14T07:46:58.341Z"
   },
   {
    "duration": 18,
    "start_time": "2023-03-14T07:46:58.349Z"
   },
   {
    "duration": 20,
    "start_time": "2023-03-14T07:46:58.369Z"
   },
   {
    "duration": 20,
    "start_time": "2023-03-14T07:46:58.391Z"
   },
   {
    "duration": 45,
    "start_time": "2023-03-14T07:46:58.412Z"
   },
   {
    "duration": 342,
    "start_time": "2023-03-14T07:46:58.459Z"
   },
   {
    "duration": 288,
    "start_time": "2023-03-14T07:46:58.802Z"
   },
   {
    "duration": 274,
    "start_time": "2023-03-14T07:46:59.092Z"
   },
   {
    "duration": 168,
    "start_time": "2023-03-14T07:46:59.368Z"
   },
   {
    "duration": 168,
    "start_time": "2023-03-14T07:46:59.542Z"
   },
   {
    "duration": 167,
    "start_time": "2023-03-14T07:46:59.712Z"
   },
   {
    "duration": 175,
    "start_time": "2023-03-14T07:46:59.884Z"
   },
   {
    "duration": 166,
    "start_time": "2023-03-14T07:47:00.061Z"
   },
   {
    "duration": 17,
    "start_time": "2023-03-14T07:47:00.229Z"
   },
   {
    "duration": 45,
    "start_time": "2023-03-14T07:47:00.248Z"
   },
   {
    "duration": 196,
    "start_time": "2023-03-14T07:47:00.295Z"
   },
   {
    "duration": 110,
    "start_time": "2023-03-14T07:47:00.493Z"
   },
   {
    "duration": 0,
    "start_time": "2023-03-14T07:47:00.605Z"
   },
   {
    "duration": 0,
    "start_time": "2023-03-14T07:47:00.607Z"
   },
   {
    "duration": 8,
    "start_time": "2023-03-14T07:47:16.029Z"
   },
   {
    "duration": 1167,
    "start_time": "2023-03-14T07:48:05.708Z"
   },
   {
    "duration": 61,
    "start_time": "2023-03-14T07:48:06.878Z"
   },
   {
    "duration": 25,
    "start_time": "2023-03-14T07:48:06.940Z"
   },
   {
    "duration": 16,
    "start_time": "2023-03-14T07:48:06.968Z"
   },
   {
    "duration": 922,
    "start_time": "2023-03-14T07:48:06.986Z"
   },
   {
    "duration": 71,
    "start_time": "2023-03-14T07:48:07.910Z"
   },
   {
    "duration": 7,
    "start_time": "2023-03-14T07:48:07.982Z"
   },
   {
    "duration": 18,
    "start_time": "2023-03-14T07:48:07.990Z"
   },
   {
    "duration": 11,
    "start_time": "2023-03-14T07:48:08.010Z"
   },
   {
    "duration": 18,
    "start_time": "2023-03-14T07:48:08.024Z"
   },
   {
    "duration": 4,
    "start_time": "2023-03-14T07:48:08.044Z"
   },
   {
    "duration": 8,
    "start_time": "2023-03-14T07:48:08.050Z"
   },
   {
    "duration": 7,
    "start_time": "2023-03-14T07:48:08.060Z"
   },
   {
    "duration": 5,
    "start_time": "2023-03-14T07:48:08.069Z"
   },
   {
    "duration": 11,
    "start_time": "2023-03-14T07:48:08.076Z"
   },
   {
    "duration": 16,
    "start_time": "2023-03-14T07:48:08.089Z"
   },
   {
    "duration": 5,
    "start_time": "2023-03-14T07:48:08.107Z"
   },
   {
    "duration": 37,
    "start_time": "2023-03-14T07:48:08.113Z"
   },
   {
    "duration": 20,
    "start_time": "2023-03-14T07:48:08.152Z"
   },
   {
    "duration": 19,
    "start_time": "2023-03-14T07:48:08.174Z"
   },
   {
    "duration": 28,
    "start_time": "2023-03-14T07:48:08.195Z"
   },
   {
    "duration": 327,
    "start_time": "2023-03-14T07:48:08.240Z"
   },
   {
    "duration": 287,
    "start_time": "2023-03-14T07:48:08.569Z"
   },
   {
    "duration": 228,
    "start_time": "2023-03-14T07:48:08.858Z"
   },
   {
    "duration": 158,
    "start_time": "2023-03-14T07:48:09.088Z"
   },
   {
    "duration": 169,
    "start_time": "2023-03-14T07:48:09.247Z"
   },
   {
    "duration": 153,
    "start_time": "2023-03-14T07:48:09.417Z"
   },
   {
    "duration": 161,
    "start_time": "2023-03-14T07:48:09.573Z"
   },
   {
    "duration": 171,
    "start_time": "2023-03-14T07:48:09.740Z"
   },
   {
    "duration": 6,
    "start_time": "2023-03-14T07:48:09.913Z"
   },
   {
    "duration": 28,
    "start_time": "2023-03-14T07:48:09.921Z"
   },
   {
    "duration": 205,
    "start_time": "2023-03-14T07:48:09.951Z"
   },
   {
    "duration": 11,
    "start_time": "2023-03-14T07:48:10.158Z"
   },
   {
    "duration": 12,
    "start_time": "2023-03-14T07:48:10.170Z"
   },
   {
    "duration": 12,
    "start_time": "2023-03-14T07:48:10.184Z"
   },
   {
    "duration": 8,
    "start_time": "2023-03-14T07:48:36.772Z"
   },
   {
    "duration": 1230,
    "start_time": "2023-03-14T07:52:04.022Z"
   },
   {
    "duration": 51,
    "start_time": "2023-03-14T07:52:05.254Z"
   },
   {
    "duration": 23,
    "start_time": "2023-03-14T07:52:05.307Z"
   },
   {
    "duration": 35,
    "start_time": "2023-03-14T07:52:05.332Z"
   },
   {
    "duration": 766,
    "start_time": "2023-03-14T07:52:05.368Z"
   },
   {
    "duration": 55,
    "start_time": "2023-03-14T07:52:06.135Z"
   },
   {
    "duration": 6,
    "start_time": "2023-03-14T07:52:06.191Z"
   },
   {
    "duration": 24,
    "start_time": "2023-03-14T07:52:06.198Z"
   },
   {
    "duration": 5,
    "start_time": "2023-03-14T07:52:06.223Z"
   },
   {
    "duration": 6,
    "start_time": "2023-03-14T07:52:06.240Z"
   },
   {
    "duration": 6,
    "start_time": "2023-03-14T07:52:06.247Z"
   },
   {
    "duration": 8,
    "start_time": "2023-03-14T07:52:06.254Z"
   },
   {
    "duration": 18,
    "start_time": "2023-03-14T07:52:06.263Z"
   },
   {
    "duration": 18,
    "start_time": "2023-03-14T07:52:06.283Z"
   },
   {
    "duration": 7,
    "start_time": "2023-03-14T07:52:06.303Z"
   },
   {
    "duration": 12,
    "start_time": "2023-03-14T07:52:06.312Z"
   },
   {
    "duration": 21,
    "start_time": "2023-03-14T07:52:06.326Z"
   },
   {
    "duration": 17,
    "start_time": "2023-03-14T07:52:06.349Z"
   },
   {
    "duration": 19,
    "start_time": "2023-03-14T07:52:06.367Z"
   },
   {
    "duration": 20,
    "start_time": "2023-03-14T07:52:06.387Z"
   },
   {
    "duration": 37,
    "start_time": "2023-03-14T07:52:06.409Z"
   },
   {
    "duration": 348,
    "start_time": "2023-03-14T07:52:06.448Z"
   },
   {
    "duration": 306,
    "start_time": "2023-03-14T07:52:06.798Z"
   },
   {
    "duration": 237,
    "start_time": "2023-03-14T07:52:07.106Z"
   },
   {
    "duration": 176,
    "start_time": "2023-03-14T07:52:07.345Z"
   },
   {
    "duration": 230,
    "start_time": "2023-03-14T07:52:07.523Z"
   },
   {
    "duration": 180,
    "start_time": "2023-03-14T07:52:07.755Z"
   },
   {
    "duration": 173,
    "start_time": "2023-03-14T07:52:07.940Z"
   },
   {
    "duration": 158,
    "start_time": "2023-03-14T07:52:08.115Z"
   },
   {
    "duration": 6,
    "start_time": "2023-03-14T07:52:08.275Z"
   },
   {
    "duration": 14,
    "start_time": "2023-03-14T07:52:08.282Z"
   },
   {
    "duration": 204,
    "start_time": "2023-03-14T07:52:08.297Z"
   },
   {
    "duration": 104,
    "start_time": "2023-03-14T07:52:08.503Z"
   },
   {
    "duration": 0,
    "start_time": "2023-03-14T07:52:08.609Z"
   },
   {
    "duration": 0,
    "start_time": "2023-03-14T07:52:08.610Z"
   },
   {
    "duration": 1173,
    "start_time": "2023-03-14T07:53:09.668Z"
   },
   {
    "duration": 53,
    "start_time": "2023-03-14T07:53:10.843Z"
   },
   {
    "duration": 23,
    "start_time": "2023-03-14T07:53:10.898Z"
   },
   {
    "duration": 14,
    "start_time": "2023-03-14T07:53:10.923Z"
   },
   {
    "duration": 769,
    "start_time": "2023-03-14T07:53:10.940Z"
   },
   {
    "duration": 68,
    "start_time": "2023-03-14T07:53:11.710Z"
   },
   {
    "duration": 5,
    "start_time": "2023-03-14T07:53:11.781Z"
   },
   {
    "duration": 36,
    "start_time": "2023-03-14T07:53:11.789Z"
   },
   {
    "duration": 33,
    "start_time": "2023-03-14T07:53:11.827Z"
   },
   {
    "duration": 40,
    "start_time": "2023-03-14T07:53:11.862Z"
   },
   {
    "duration": 32,
    "start_time": "2023-03-14T07:53:11.904Z"
   },
   {
    "duration": 24,
    "start_time": "2023-03-14T07:53:11.938Z"
   },
   {
    "duration": 25,
    "start_time": "2023-03-14T07:53:11.965Z"
   },
   {
    "duration": 26,
    "start_time": "2023-03-14T07:53:11.994Z"
   },
   {
    "duration": 29,
    "start_time": "2023-03-14T07:53:12.022Z"
   },
   {
    "duration": 32,
    "start_time": "2023-03-14T07:53:12.053Z"
   },
   {
    "duration": 33,
    "start_time": "2023-03-14T07:53:12.087Z"
   },
   {
    "duration": 39,
    "start_time": "2023-03-14T07:53:12.122Z"
   },
   {
    "duration": 27,
    "start_time": "2023-03-14T07:53:12.162Z"
   },
   {
    "duration": 36,
    "start_time": "2023-03-14T07:53:12.191Z"
   },
   {
    "duration": 31,
    "start_time": "2023-03-14T07:53:12.229Z"
   },
   {
    "duration": 332,
    "start_time": "2023-03-14T07:53:12.262Z"
   },
   {
    "duration": 284,
    "start_time": "2023-03-14T07:53:12.596Z"
   },
   {
    "duration": 227,
    "start_time": "2023-03-14T07:53:12.883Z"
   },
   {
    "duration": 163,
    "start_time": "2023-03-14T07:53:13.113Z"
   },
   {
    "duration": 169,
    "start_time": "2023-03-14T07:53:13.278Z"
   },
   {
    "duration": 149,
    "start_time": "2023-03-14T07:53:13.449Z"
   },
   {
    "duration": 163,
    "start_time": "2023-03-14T07:53:13.599Z"
   },
   {
    "duration": 161,
    "start_time": "2023-03-14T07:53:13.764Z"
   },
   {
    "duration": 6,
    "start_time": "2023-03-14T07:53:13.927Z"
   },
   {
    "duration": 16,
    "start_time": "2023-03-14T07:53:13.942Z"
   },
   {
    "duration": 204,
    "start_time": "2023-03-14T07:53:13.960Z"
   },
   {
    "duration": 8,
    "start_time": "2023-03-14T07:53:14.165Z"
   },
   {
    "duration": 11,
    "start_time": "2023-03-14T07:53:14.174Z"
   },
   {
    "duration": 17,
    "start_time": "2023-03-14T07:53:14.186Z"
   },
   {
    "duration": 1218,
    "start_time": "2023-03-14T07:55:30.774Z"
   },
   {
    "duration": 56,
    "start_time": "2023-03-14T07:55:31.994Z"
   },
   {
    "duration": 31,
    "start_time": "2023-03-14T07:55:32.052Z"
   },
   {
    "duration": 33,
    "start_time": "2023-03-14T07:55:32.085Z"
   },
   {
    "duration": 799,
    "start_time": "2023-03-14T07:55:32.120Z"
   },
   {
    "duration": 62,
    "start_time": "2023-03-14T07:55:32.921Z"
   },
   {
    "duration": 5,
    "start_time": "2023-03-14T07:55:32.984Z"
   },
   {
    "duration": 23,
    "start_time": "2023-03-14T07:55:32.991Z"
   },
   {
    "duration": 4,
    "start_time": "2023-03-14T07:55:33.016Z"
   },
   {
    "duration": 10,
    "start_time": "2023-03-14T07:55:33.023Z"
   },
   {
    "duration": 4,
    "start_time": "2023-03-14T07:55:33.041Z"
   },
   {
    "duration": 9,
    "start_time": "2023-03-14T07:55:33.047Z"
   },
   {
    "duration": 7,
    "start_time": "2023-03-14T07:55:33.057Z"
   },
   {
    "duration": 13,
    "start_time": "2023-03-14T07:55:33.065Z"
   },
   {
    "duration": 7,
    "start_time": "2023-03-14T07:55:33.079Z"
   },
   {
    "duration": 5,
    "start_time": "2023-03-14T07:55:33.087Z"
   },
   {
    "duration": 6,
    "start_time": "2023-03-14T07:55:33.093Z"
   },
   {
    "duration": 44,
    "start_time": "2023-03-14T07:55:33.101Z"
   },
   {
    "duration": 18,
    "start_time": "2023-03-14T07:55:33.146Z"
   },
   {
    "duration": 18,
    "start_time": "2023-03-14T07:55:33.165Z"
   },
   {
    "duration": 16,
    "start_time": "2023-03-14T07:55:33.184Z"
   },
   {
    "duration": 339,
    "start_time": "2023-03-14T07:55:33.202Z"
   },
   {
    "duration": 288,
    "start_time": "2023-03-14T07:55:33.542Z"
   },
   {
    "duration": 226,
    "start_time": "2023-03-14T07:55:33.831Z"
   },
   {
    "duration": 164,
    "start_time": "2023-03-14T07:55:34.059Z"
   },
   {
    "duration": 180,
    "start_time": "2023-03-14T07:55:34.225Z"
   },
   {
    "duration": 148,
    "start_time": "2023-03-14T07:55:34.406Z"
   },
   {
    "duration": 165,
    "start_time": "2023-03-14T07:55:34.558Z"
   },
   {
    "duration": 159,
    "start_time": "2023-03-14T07:55:34.725Z"
   },
   {
    "duration": 6,
    "start_time": "2023-03-14T07:55:34.886Z"
   },
   {
    "duration": 16,
    "start_time": "2023-03-14T07:55:34.894Z"
   },
   {
    "duration": 208,
    "start_time": "2023-03-14T07:55:34.912Z"
   },
   {
    "duration": 7,
    "start_time": "2023-03-14T07:55:35.122Z"
   },
   {
    "duration": 26,
    "start_time": "2023-03-14T07:55:35.130Z"
   },
   {
    "duration": 207,
    "start_time": "2023-03-14T07:56:04.195Z"
   },
   {
    "duration": 101,
    "start_time": "2023-03-14T07:58:28.510Z"
   },
   {
    "duration": 54,
    "start_time": "2023-03-14T08:00:25.875Z"
   },
   {
    "duration": 18,
    "start_time": "2023-03-14T08:00:48.202Z"
   },
   {
    "duration": 15,
    "start_time": "2023-03-14T08:00:58.110Z"
   },
   {
    "duration": 13,
    "start_time": "2023-03-14T08:01:28.140Z"
   },
   {
    "duration": 1247,
    "start_time": "2023-03-14T08:10:23.841Z"
   },
   {
    "duration": 56,
    "start_time": "2023-03-14T08:10:25.090Z"
   },
   {
    "duration": 26,
    "start_time": "2023-03-14T08:10:25.148Z"
   },
   {
    "duration": 16,
    "start_time": "2023-03-14T08:10:25.176Z"
   },
   {
    "duration": 827,
    "start_time": "2023-03-14T08:10:25.194Z"
   },
   {
    "duration": 72,
    "start_time": "2023-03-14T08:10:26.022Z"
   },
   {
    "duration": 6,
    "start_time": "2023-03-14T08:10:26.096Z"
   },
   {
    "duration": 23,
    "start_time": "2023-03-14T08:10:26.104Z"
   },
   {
    "duration": 14,
    "start_time": "2023-03-14T08:10:26.129Z"
   },
   {
    "duration": 19,
    "start_time": "2023-03-14T08:10:26.146Z"
   },
   {
    "duration": 17,
    "start_time": "2023-03-14T08:10:26.167Z"
   },
   {
    "duration": 11,
    "start_time": "2023-03-14T08:10:26.186Z"
   },
   {
    "duration": 11,
    "start_time": "2023-03-14T08:10:26.198Z"
   },
   {
    "duration": 9,
    "start_time": "2023-03-14T08:10:26.210Z"
   },
   {
    "duration": 9,
    "start_time": "2023-03-14T08:10:26.221Z"
   },
   {
    "duration": 11,
    "start_time": "2023-03-14T08:10:26.232Z"
   },
   {
    "duration": 6,
    "start_time": "2023-03-14T08:10:26.245Z"
   },
   {
    "duration": 17,
    "start_time": "2023-03-14T08:10:26.253Z"
   },
   {
    "duration": 36,
    "start_time": "2023-03-14T08:10:26.272Z"
   },
   {
    "duration": 44,
    "start_time": "2023-03-14T08:10:26.310Z"
   },
   {
    "duration": 16,
    "start_time": "2023-03-14T08:10:26.356Z"
   },
   {
    "duration": 340,
    "start_time": "2023-03-14T08:10:26.373Z"
   },
   {
    "duration": 303,
    "start_time": "2023-03-14T08:10:26.715Z"
   },
   {
    "duration": 252,
    "start_time": "2023-03-14T08:10:27.020Z"
   },
   {
    "duration": 178,
    "start_time": "2023-03-14T08:10:27.273Z"
   },
   {
    "duration": 176,
    "start_time": "2023-03-14T08:10:27.453Z"
   },
   {
    "duration": 156,
    "start_time": "2023-03-14T08:10:27.631Z"
   },
   {
    "duration": 206,
    "start_time": "2023-03-14T08:10:27.791Z"
   },
   {
    "duration": 221,
    "start_time": "2023-03-14T08:10:28.001Z"
   },
   {
    "duration": 17,
    "start_time": "2023-03-14T08:10:28.224Z"
   },
   {
    "duration": 209,
    "start_time": "2023-03-14T08:10:28.244Z"
   },
   {
    "duration": 9,
    "start_time": "2023-03-14T08:10:28.455Z"
   },
   {
    "duration": 13,
    "start_time": "2023-03-14T08:10:28.466Z"
   },
   {
    "duration": 192,
    "start_time": "2023-03-14T08:29:59.122Z"
   },
   {
    "duration": 168,
    "start_time": "2023-03-14T08:38:09.415Z"
   },
   {
    "duration": 156,
    "start_time": "2023-03-14T08:38:45.021Z"
   },
   {
    "duration": 12,
    "start_time": "2023-03-14T08:47:46.925Z"
   },
   {
    "duration": 12,
    "start_time": "2023-03-14T08:48:34.491Z"
   },
   {
    "duration": 10,
    "start_time": "2023-03-14T08:48:51.386Z"
   },
   {
    "duration": 732,
    "start_time": "2023-03-14T08:50:44.450Z"
   },
   {
    "duration": 599,
    "start_time": "2023-03-14T08:50:54.150Z"
   },
   {
    "duration": 17,
    "start_time": "2023-03-14T09:04:12.089Z"
   },
   {
    "duration": 17,
    "start_time": "2023-03-14T09:04:44.645Z"
   },
   {
    "duration": 976,
    "start_time": "2023-03-14T09:05:19.731Z"
   },
   {
    "duration": 200,
    "start_time": "2023-03-14T09:05:40.156Z"
   },
   {
    "duration": 205,
    "start_time": "2023-03-14T09:05:44.931Z"
   },
   {
    "duration": 12,
    "start_time": "2023-03-14T09:18:26.898Z"
   },
   {
    "duration": 16,
    "start_time": "2023-03-14T09:18:36.388Z"
   },
   {
    "duration": 200,
    "start_time": "2023-03-14T09:19:19.921Z"
   },
   {
    "duration": 16,
    "start_time": "2023-03-14T09:20:12.574Z"
   },
   {
    "duration": 14,
    "start_time": "2023-03-14T09:21:46.528Z"
   },
   {
    "duration": 177,
    "start_time": "2023-03-14T09:22:01.387Z"
   },
   {
    "duration": 15,
    "start_time": "2023-03-14T09:28:02.791Z"
   },
   {
    "duration": 332,
    "start_time": "2023-03-14T09:28:28.331Z"
   },
   {
    "duration": 16,
    "start_time": "2023-03-14T09:31:14.340Z"
   },
   {
    "duration": 195,
    "start_time": "2023-03-14T09:31:51.192Z"
   },
   {
    "duration": 15,
    "start_time": "2023-03-14T09:32:24.484Z"
   },
   {
    "duration": 22,
    "start_time": "2023-03-14T09:32:37.543Z"
   },
   {
    "duration": 15,
    "start_time": "2023-03-14T09:32:46.008Z"
   },
   {
    "duration": 179,
    "start_time": "2023-03-14T09:33:03.497Z"
   },
   {
    "duration": 15,
    "start_time": "2023-03-14T09:33:39.610Z"
   },
   {
    "duration": 195,
    "start_time": "2023-03-14T09:33:57.419Z"
   },
   {
    "duration": 160,
    "start_time": "2023-03-14T09:37:07.443Z"
   },
   {
    "duration": 16,
    "start_time": "2023-03-14T09:37:26.205Z"
   },
   {
    "duration": 11,
    "start_time": "2023-03-14T09:37:47.860Z"
   },
   {
    "duration": 15,
    "start_time": "2023-03-14T09:38:04.677Z"
   },
   {
    "duration": 54,
    "start_time": "2023-03-14T09:52:23.711Z"
   },
   {
    "duration": 46,
    "start_time": "2023-03-14T09:52:41.940Z"
   },
   {
    "duration": 56,
    "start_time": "2023-03-14T09:52:49.996Z"
   },
   {
    "duration": 7,
    "start_time": "2023-03-14T09:53:07.799Z"
   },
   {
    "duration": 14,
    "start_time": "2023-03-14T09:53:22.282Z"
   },
   {
    "duration": 19,
    "start_time": "2023-03-14T10:03:27.906Z"
   },
   {
    "duration": 11,
    "start_time": "2023-03-14T10:04:04.609Z"
   },
   {
    "duration": 14,
    "start_time": "2023-03-14T10:04:12.596Z"
   },
   {
    "duration": 8,
    "start_time": "2023-03-14T10:04:34.156Z"
   },
   {
    "duration": 18,
    "start_time": "2023-03-14T10:07:14.762Z"
   },
   {
    "duration": 17,
    "start_time": "2023-03-14T10:07:39.799Z"
   },
   {
    "duration": 14,
    "start_time": "2023-03-14T10:24:49.820Z"
   },
   {
    "duration": 12,
    "start_time": "2023-03-14T10:24:54.030Z"
   },
   {
    "duration": 10,
    "start_time": "2023-03-14T10:32:40.419Z"
   },
   {
    "duration": 47,
    "start_time": "2023-03-14T10:34:29.702Z"
   },
   {
    "duration": 8,
    "start_time": "2023-03-14T10:34:40.019Z"
   },
   {
    "duration": 8,
    "start_time": "2023-03-14T10:35:39.211Z"
   },
   {
    "duration": 44,
    "start_time": "2023-03-15T05:50:24.891Z"
   },
   {
    "duration": 1258,
    "start_time": "2023-03-15T05:50:39.486Z"
   },
   {
    "duration": 100,
    "start_time": "2023-03-15T05:50:40.746Z"
   },
   {
    "duration": 22,
    "start_time": "2023-03-15T05:50:40.847Z"
   },
   {
    "duration": 12,
    "start_time": "2023-03-15T05:50:40.871Z"
   },
   {
    "duration": 645,
    "start_time": "2023-03-15T05:50:40.884Z"
   },
   {
    "duration": 59,
    "start_time": "2023-03-15T05:50:41.530Z"
   },
   {
    "duration": 5,
    "start_time": "2023-03-15T05:50:41.590Z"
   },
   {
    "duration": 26,
    "start_time": "2023-03-15T05:50:41.596Z"
   },
   {
    "duration": 12,
    "start_time": "2023-03-15T05:50:41.624Z"
   },
   {
    "duration": 13,
    "start_time": "2023-03-15T05:50:41.639Z"
   },
   {
    "duration": 30,
    "start_time": "2023-03-15T05:50:41.654Z"
   },
   {
    "duration": 7,
    "start_time": "2023-03-15T05:50:41.686Z"
   },
   {
    "duration": 7,
    "start_time": "2023-03-15T05:50:41.694Z"
   },
   {
    "duration": 18,
    "start_time": "2023-03-15T05:50:41.703Z"
   },
   {
    "duration": 11,
    "start_time": "2023-03-15T05:50:41.723Z"
   },
   {
    "duration": 10,
    "start_time": "2023-03-15T05:50:41.735Z"
   },
   {
    "duration": 10,
    "start_time": "2023-03-15T05:50:41.746Z"
   },
   {
    "duration": 19,
    "start_time": "2023-03-15T05:50:41.757Z"
   },
   {
    "duration": 16,
    "start_time": "2023-03-15T05:50:41.777Z"
   },
   {
    "duration": 17,
    "start_time": "2023-03-15T05:50:41.794Z"
   },
   {
    "duration": 15,
    "start_time": "2023-03-15T05:50:41.812Z"
   },
   {
    "duration": 271,
    "start_time": "2023-03-15T05:50:41.828Z"
   },
   {
    "duration": 231,
    "start_time": "2023-03-15T05:50:42.101Z"
   },
   {
    "duration": 196,
    "start_time": "2023-03-15T05:50:42.334Z"
   },
   {
    "duration": 136,
    "start_time": "2023-03-15T05:50:42.531Z"
   },
   {
    "duration": 131,
    "start_time": "2023-03-15T05:50:42.669Z"
   },
   {
    "duration": 136,
    "start_time": "2023-03-15T05:50:42.801Z"
   },
   {
    "duration": 124,
    "start_time": "2023-03-15T05:50:42.941Z"
   },
   {
    "duration": 13,
    "start_time": "2023-03-15T05:50:43.067Z"
   },
   {
    "duration": 178,
    "start_time": "2023-03-15T05:50:43.081Z"
   },
   {
    "duration": 20,
    "start_time": "2023-03-15T05:50:43.260Z"
   },
   {
    "duration": 9,
    "start_time": "2023-03-15T05:50:43.282Z"
   },
   {
    "duration": 534,
    "start_time": "2023-03-15T05:50:43.292Z"
   },
   {
    "duration": 13,
    "start_time": "2023-03-15T05:50:43.828Z"
   },
   {
    "duration": 144,
    "start_time": "2023-03-15T05:50:43.842Z"
   },
   {
    "duration": 12,
    "start_time": "2023-03-15T05:50:43.987Z"
   },
   {
    "duration": 226,
    "start_time": "2023-03-15T05:50:44.000Z"
   },
   {
    "duration": 13,
    "start_time": "2023-03-15T05:50:44.227Z"
   },
   {
    "duration": 162,
    "start_time": "2023-03-15T05:50:44.242Z"
   },
   {
    "duration": 12,
    "start_time": "2023-03-15T05:50:44.406Z"
   },
   {
    "duration": 170,
    "start_time": "2023-03-15T05:50:44.420Z"
   },
   {
    "duration": 13,
    "start_time": "2023-03-15T05:50:44.591Z"
   },
   {
    "duration": 155,
    "start_time": "2023-03-15T05:50:44.605Z"
   },
   {
    "duration": 23,
    "start_time": "2023-03-15T05:50:44.762Z"
   },
   {
    "duration": 148,
    "start_time": "2023-03-15T05:50:44.786Z"
   },
   {
    "duration": 13,
    "start_time": "2023-03-15T05:50:44.935Z"
   },
   {
    "duration": 159,
    "start_time": "2023-03-15T05:50:44.949Z"
   },
   {
    "duration": 12,
    "start_time": "2023-03-15T05:50:45.110Z"
   },
   {
    "duration": 16,
    "start_time": "2023-03-15T05:50:45.124Z"
   },
   {
    "duration": 18,
    "start_time": "2023-03-15T05:50:45.143Z"
   },
   {
    "duration": 69,
    "start_time": "2023-03-15T05:50:45.162Z"
   },
   {
    "duration": 1377,
    "start_time": "2023-03-15T05:55:59.896Z"
   },
   {
    "duration": 158,
    "start_time": "2023-03-15T05:56:16.890Z"
   },
   {
    "duration": 154,
    "start_time": "2023-03-15T05:56:37.465Z"
   },
   {
    "duration": 150,
    "start_time": "2023-03-15T05:56:45.752Z"
   },
   {
    "duration": 155,
    "start_time": "2023-03-15T05:56:54.274Z"
   },
   {
    "duration": 177,
    "start_time": "2023-03-15T05:57:08.511Z"
   },
   {
    "duration": 299,
    "start_time": "2023-03-15T05:58:05.251Z"
   },
   {
    "duration": 6,
    "start_time": "2023-03-15T06:04:42.218Z"
   },
   {
    "duration": 150,
    "start_time": "2023-03-15T06:04:47.048Z"
   },
   {
    "duration": 12,
    "start_time": "2023-03-15T06:11:16.966Z"
   },
   {
    "duration": 147,
    "start_time": "2023-03-15T06:11:40.524Z"
   },
   {
    "duration": 144,
    "start_time": "2023-03-15T06:11:44.333Z"
   },
   {
    "duration": 14,
    "start_time": "2023-03-15T06:12:41.649Z"
   },
   {
    "duration": 133,
    "start_time": "2023-03-15T06:12:44.298Z"
   },
   {
    "duration": 11,
    "start_time": "2023-03-15T06:15:59.662Z"
   },
   {
    "duration": 10,
    "start_time": "2023-03-15T06:19:53.568Z"
   },
   {
    "duration": 12,
    "start_time": "2023-03-15T06:24:18.771Z"
   },
   {
    "duration": 11,
    "start_time": "2023-03-15T06:24:28.471Z"
   },
   {
    "duration": 184,
    "start_time": "2023-03-15T06:28:30.129Z"
   },
   {
    "duration": 220,
    "start_time": "2023-03-15T06:29:45.902Z"
   },
   {
    "duration": 210,
    "start_time": "2023-03-15T06:29:51.711Z"
   },
   {
    "duration": 374,
    "start_time": "2023-03-15T06:41:07.778Z"
   },
   {
    "duration": 271,
    "start_time": "2023-03-15T06:42:02.557Z"
   },
   {
    "duration": 246,
    "start_time": "2023-03-15T06:42:09.463Z"
   },
   {
    "duration": 279,
    "start_time": "2023-03-15T06:42:17.677Z"
   },
   {
    "duration": 13,
    "start_time": "2023-03-15T06:48:39.405Z"
   },
   {
    "duration": 145,
    "start_time": "2023-03-15T06:48:41.596Z"
   },
   {
    "duration": 18,
    "start_time": "2023-03-15T06:52:13.475Z"
   },
   {
    "duration": 13,
    "start_time": "2023-03-15T06:53:12.636Z"
   },
   {
    "duration": 167,
    "start_time": "2023-03-15T06:53:33.555Z"
   },
   {
    "duration": 175,
    "start_time": "2023-03-15T06:54:26.873Z"
   },
   {
    "duration": 301,
    "start_time": "2023-03-15T06:54:32.102Z"
   },
   {
    "duration": 174,
    "start_time": "2023-03-15T06:55:51.896Z"
   },
   {
    "duration": 174,
    "start_time": "2023-03-15T06:56:00.036Z"
   },
   {
    "duration": 180,
    "start_time": "2023-03-15T06:56:07.595Z"
   },
   {
    "duration": 6,
    "start_time": "2023-03-15T06:57:13.202Z"
   },
   {
    "duration": 30,
    "start_time": "2023-03-15T06:58:47.059Z"
   },
   {
    "duration": 7,
    "start_time": "2023-03-15T06:59:29.004Z"
   },
   {
    "duration": 6,
    "start_time": "2023-03-15T07:28:25.404Z"
   },
   {
    "duration": 8,
    "start_time": "2023-03-15T07:30:01.033Z"
   },
   {
    "duration": 4,
    "start_time": "2023-03-15T07:30:08.812Z"
   },
   {
    "duration": 4,
    "start_time": "2023-03-15T07:30:09.420Z"
   },
   {
    "duration": 145,
    "start_time": "2023-03-15T07:33:32.778Z"
   },
   {
    "duration": 138,
    "start_time": "2023-03-15T07:33:38.258Z"
   },
   {
    "duration": 134,
    "start_time": "2023-03-15T07:34:02.875Z"
   },
   {
    "duration": 116,
    "start_time": "2023-03-15T07:40:44.107Z"
   },
   {
    "duration": 6,
    "start_time": "2023-03-15T07:41:09.733Z"
   },
   {
    "duration": 5,
    "start_time": "2023-03-15T07:45:37.915Z"
   },
   {
    "duration": 103,
    "start_time": "2023-03-15T07:46:00.205Z"
   },
   {
    "duration": 12,
    "start_time": "2023-03-15T07:46:36.677Z"
   },
   {
    "duration": 5,
    "start_time": "2023-03-15T07:46:59.428Z"
   },
   {
    "duration": 241,
    "start_time": "2023-03-15T07:47:25.954Z"
   },
   {
    "duration": 217,
    "start_time": "2023-03-15T07:48:07.038Z"
   },
   {
    "duration": 5,
    "start_time": "2023-03-15T07:48:55.060Z"
   },
   {
    "duration": 13,
    "start_time": "2023-03-15T07:49:49.377Z"
   },
   {
    "duration": 226,
    "start_time": "2023-03-15T07:50:12.507Z"
   },
   {
    "duration": 14,
    "start_time": "2023-03-15T07:50:46.277Z"
   },
   {
    "duration": 4,
    "start_time": "2023-03-15T07:51:05.270Z"
   },
   {
    "duration": 246,
    "start_time": "2023-03-15T07:51:49.872Z"
   },
   {
    "duration": 251,
    "start_time": "2023-03-15T07:52:23.223Z"
   },
   {
    "duration": 210,
    "start_time": "2023-03-15T07:52:53.334Z"
   },
   {
    "duration": 240,
    "start_time": "2023-03-15T07:53:07.664Z"
   },
   {
    "duration": 86,
    "start_time": "2023-03-15T07:54:02.757Z"
   },
   {
    "duration": 5,
    "start_time": "2023-03-15T07:54:17.532Z"
   },
   {
    "duration": 327,
    "start_time": "2023-03-15T07:54:54.108Z"
   },
   {
    "duration": 5,
    "start_time": "2023-03-15T07:55:41.273Z"
   },
   {
    "duration": 4,
    "start_time": "2023-03-15T07:55:57.039Z"
   },
   {
    "duration": 4,
    "start_time": "2023-03-15T07:56:48.474Z"
   },
   {
    "duration": 228,
    "start_time": "2023-03-15T07:57:59.522Z"
   },
   {
    "duration": 22,
    "start_time": "2023-03-15T07:58:25.879Z"
   },
   {
    "duration": 6,
    "start_time": "2023-03-15T07:58:47.907Z"
   },
   {
    "duration": 4,
    "start_time": "2023-03-15T08:01:01.360Z"
   },
   {
    "duration": 4,
    "start_time": "2023-03-15T08:01:43.010Z"
   },
   {
    "duration": 4,
    "start_time": "2023-03-15T08:02:05.430Z"
   },
   {
    "duration": 5,
    "start_time": "2023-03-15T08:02:56.712Z"
   },
   {
    "duration": 7,
    "start_time": "2023-03-15T08:03:28.213Z"
   },
   {
    "duration": 6,
    "start_time": "2023-03-15T08:04:10.709Z"
   },
   {
    "duration": 4,
    "start_time": "2023-03-15T08:04:48.950Z"
   },
   {
    "duration": 4,
    "start_time": "2023-03-15T08:06:05.414Z"
   },
   {
    "duration": 5,
    "start_time": "2023-03-15T08:06:34.863Z"
   },
   {
    "duration": 5,
    "start_time": "2023-03-15T08:07:00.463Z"
   },
   {
    "duration": 5,
    "start_time": "2023-03-15T08:07:30.822Z"
   },
   {
    "duration": 1044,
    "start_time": "2023-03-15T08:07:43.015Z"
   },
   {
    "duration": 76,
    "start_time": "2023-03-15T08:07:44.061Z"
   },
   {
    "duration": 21,
    "start_time": "2023-03-15T08:07:44.138Z"
   },
   {
    "duration": 12,
    "start_time": "2023-03-15T08:07:44.161Z"
   },
   {
    "duration": 689,
    "start_time": "2023-03-15T08:07:44.176Z"
   },
   {
    "duration": 58,
    "start_time": "2023-03-15T08:07:44.867Z"
   },
   {
    "duration": 4,
    "start_time": "2023-03-15T08:07:44.930Z"
   },
   {
    "duration": 16,
    "start_time": "2023-03-15T08:07:44.935Z"
   },
   {
    "duration": 4,
    "start_time": "2023-03-15T08:07:44.952Z"
   },
   {
    "duration": 7,
    "start_time": "2023-03-15T08:07:44.957Z"
   },
   {
    "duration": 35,
    "start_time": "2023-03-15T08:07:44.966Z"
   },
   {
    "duration": 46,
    "start_time": "2023-03-15T08:07:45.004Z"
   },
   {
    "duration": 15,
    "start_time": "2023-03-15T08:07:45.051Z"
   },
   {
    "duration": 52,
    "start_time": "2023-03-15T08:07:45.068Z"
   },
   {
    "duration": 7,
    "start_time": "2023-03-15T08:07:45.122Z"
   },
   {
    "duration": 17,
    "start_time": "2023-03-15T08:07:45.130Z"
   },
   {
    "duration": 9,
    "start_time": "2023-03-15T08:07:45.148Z"
   },
   {
    "duration": 15,
    "start_time": "2023-03-15T08:07:45.159Z"
   },
   {
    "duration": 27,
    "start_time": "2023-03-15T08:07:45.175Z"
   },
   {
    "duration": 40,
    "start_time": "2023-03-15T08:07:45.203Z"
   },
   {
    "duration": 14,
    "start_time": "2023-03-15T08:07:45.244Z"
   },
   {
    "duration": 284,
    "start_time": "2023-03-15T08:07:45.259Z"
   },
   {
    "duration": 248,
    "start_time": "2023-03-15T08:07:45.545Z"
   },
   {
    "duration": 235,
    "start_time": "2023-03-15T08:07:45.794Z"
   },
   {
    "duration": 191,
    "start_time": "2023-03-15T08:07:46.031Z"
   },
   {
    "duration": 201,
    "start_time": "2023-03-15T08:07:46.223Z"
   },
   {
    "duration": 187,
    "start_time": "2023-03-15T08:07:46.427Z"
   },
   {
    "duration": 158,
    "start_time": "2023-03-15T08:07:46.615Z"
   },
   {
    "duration": 172,
    "start_time": "2023-03-15T08:07:46.775Z"
   },
   {
    "duration": 5,
    "start_time": "2023-03-15T08:07:46.950Z"
   },
   {
    "duration": 20,
    "start_time": "2023-03-15T08:07:46.956Z"
   },
   {
    "duration": 182,
    "start_time": "2023-03-15T08:07:46.978Z"
   },
   {
    "duration": 4,
    "start_time": "2023-03-15T08:07:47.161Z"
   },
   {
    "duration": 194,
    "start_time": "2023-03-15T08:07:47.166Z"
   },
   {
    "duration": 5,
    "start_time": "2023-03-15T08:07:47.362Z"
   },
   {
    "duration": 255,
    "start_time": "2023-03-15T08:07:47.368Z"
   },
   {
    "duration": 4,
    "start_time": "2023-03-15T08:07:47.625Z"
   },
   {
    "duration": 8,
    "start_time": "2023-03-15T08:07:47.631Z"
   },
   {
    "duration": 265,
    "start_time": "2023-03-15T08:07:47.641Z"
   },
   {
    "duration": 7,
    "start_time": "2023-03-15T08:07:47.913Z"
   },
   {
    "duration": 6,
    "start_time": "2023-03-15T08:07:47.925Z"
   },
   {
    "duration": 276,
    "start_time": "2023-03-15T08:07:47.932Z"
   },
   {
    "duration": 11,
    "start_time": "2023-03-15T08:07:48.209Z"
   },
   {
    "duration": 19,
    "start_time": "2023-03-15T08:07:48.222Z"
   },
   {
    "duration": 306,
    "start_time": "2023-03-15T08:07:48.242Z"
   },
   {
    "duration": 5,
    "start_time": "2023-03-15T08:07:48.550Z"
   },
   {
    "duration": 6,
    "start_time": "2023-03-15T08:07:48.556Z"
   },
   {
    "duration": 261,
    "start_time": "2023-03-15T08:07:48.563Z"
   },
   {
    "duration": 5,
    "start_time": "2023-03-15T08:07:48.826Z"
   },
   {
    "duration": 18,
    "start_time": "2023-03-15T08:07:48.832Z"
   },
   {
    "duration": 162,
    "start_time": "2023-03-15T08:07:48.851Z"
   },
   {
    "duration": 17,
    "start_time": "2023-03-15T08:07:49.014Z"
   },
   {
    "duration": 153,
    "start_time": "2023-03-15T08:07:49.032Z"
   },
   {
    "duration": 20,
    "start_time": "2023-03-15T08:07:49.186Z"
   },
   {
    "duration": 149,
    "start_time": "2023-03-15T08:07:49.208Z"
   },
   {
    "duration": 13,
    "start_time": "2023-03-15T08:07:49.358Z"
   },
   {
    "duration": 139,
    "start_time": "2023-03-15T08:07:49.372Z"
   },
   {
    "duration": 13,
    "start_time": "2023-03-15T08:07:49.519Z"
   },
   {
    "duration": 166,
    "start_time": "2023-03-15T08:07:49.533Z"
   },
   {
    "duration": 21,
    "start_time": "2023-03-15T08:07:49.700Z"
   },
   {
    "duration": 191,
    "start_time": "2023-03-15T08:07:49.722Z"
   },
   {
    "duration": 12,
    "start_time": "2023-03-15T08:07:49.918Z"
   },
   {
    "duration": 178,
    "start_time": "2023-03-15T08:07:49.932Z"
   },
   {
    "duration": 13,
    "start_time": "2023-03-15T08:07:50.119Z"
   },
   {
    "duration": 15,
    "start_time": "2023-03-15T08:07:50.133Z"
   },
   {
    "duration": 12,
    "start_time": "2023-03-15T08:07:50.150Z"
   },
   {
    "duration": 102,
    "start_time": "2023-03-15T08:07:50.163Z"
   },
   {
    "duration": 9,
    "start_time": "2023-03-15T08:11:01.744Z"
   },
   {
    "duration": 15,
    "start_time": "2023-03-15T08:11:19.899Z"
   },
   {
    "duration": 14,
    "start_time": "2023-03-15T08:12:19.114Z"
   },
   {
    "duration": 5,
    "start_time": "2023-03-15T08:12:32.749Z"
   },
   {
    "duration": 24,
    "start_time": "2023-03-15T08:13:55.369Z"
   },
   {
    "duration": 18,
    "start_time": "2023-03-15T08:14:40.911Z"
   },
   {
    "duration": 111,
    "start_time": "2023-03-15T08:16:45.113Z"
   },
   {
    "duration": 11,
    "start_time": "2023-03-15T08:16:58.957Z"
   },
   {
    "duration": 8,
    "start_time": "2023-03-15T08:22:20.816Z"
   },
   {
    "duration": 14,
    "start_time": "2023-03-15T08:25:30.509Z"
   },
   {
    "duration": 28,
    "start_time": "2023-03-15T08:25:44.378Z"
   },
   {
    "duration": 17,
    "start_time": "2023-03-15T08:26:52.608Z"
   },
   {
    "duration": 21,
    "start_time": "2023-03-15T08:28:10.728Z"
   },
   {
    "duration": 1065,
    "start_time": "2023-03-15T08:29:12.575Z"
   },
   {
    "duration": 54,
    "start_time": "2023-03-15T08:29:13.642Z"
   },
   {
    "duration": 22,
    "start_time": "2023-03-15T08:29:13.698Z"
   },
   {
    "duration": 24,
    "start_time": "2023-03-15T08:29:13.721Z"
   },
   {
    "duration": 687,
    "start_time": "2023-03-15T08:29:13.747Z"
   },
   {
    "duration": 55,
    "start_time": "2023-03-15T08:29:14.436Z"
   },
   {
    "duration": 5,
    "start_time": "2023-03-15T08:29:14.492Z"
   },
   {
    "duration": 14,
    "start_time": "2023-03-15T08:29:14.498Z"
   },
   {
    "duration": 3,
    "start_time": "2023-03-15T08:29:14.514Z"
   },
   {
    "duration": 14,
    "start_time": "2023-03-15T08:29:14.519Z"
   },
   {
    "duration": 5,
    "start_time": "2023-03-15T08:29:14.534Z"
   },
   {
    "duration": 10,
    "start_time": "2023-03-15T08:29:14.540Z"
   },
   {
    "duration": 9,
    "start_time": "2023-03-15T08:29:14.551Z"
   },
   {
    "duration": 35,
    "start_time": "2023-03-15T08:29:14.562Z"
   },
   {
    "duration": 13,
    "start_time": "2023-03-15T08:29:14.598Z"
   },
   {
    "duration": 26,
    "start_time": "2023-03-15T08:29:14.612Z"
   },
   {
    "duration": 11,
    "start_time": "2023-03-15T08:29:14.639Z"
   },
   {
    "duration": 13,
    "start_time": "2023-03-15T08:29:14.652Z"
   },
   {
    "duration": 23,
    "start_time": "2023-03-15T08:29:14.667Z"
   },
   {
    "duration": 17,
    "start_time": "2023-03-15T08:29:14.692Z"
   },
   {
    "duration": 13,
    "start_time": "2023-03-15T08:29:14.711Z"
   },
   {
    "duration": 266,
    "start_time": "2023-03-15T08:29:14.725Z"
   },
   {
    "duration": 245,
    "start_time": "2023-03-15T08:29:14.993Z"
   },
   {
    "duration": 224,
    "start_time": "2023-03-15T08:29:15.240Z"
   },
   {
    "duration": 174,
    "start_time": "2023-03-15T08:29:15.466Z"
   },
   {
    "duration": 161,
    "start_time": "2023-03-15T08:29:15.641Z"
   },
   {
    "duration": 146,
    "start_time": "2023-03-15T08:29:15.803Z"
   },
   {
    "duration": 186,
    "start_time": "2023-03-15T08:29:15.953Z"
   },
   {
    "duration": 170,
    "start_time": "2023-03-15T08:29:16.142Z"
   },
   {
    "duration": 5,
    "start_time": "2023-03-15T08:29:16.313Z"
   },
   {
    "duration": 14,
    "start_time": "2023-03-15T08:29:16.319Z"
   },
   {
    "duration": 143,
    "start_time": "2023-03-15T08:29:16.334Z"
   },
   {
    "duration": 9,
    "start_time": "2023-03-15T08:29:16.485Z"
   },
   {
    "duration": 172,
    "start_time": "2023-03-15T08:29:16.496Z"
   },
   {
    "duration": 5,
    "start_time": "2023-03-15T08:29:16.669Z"
   },
   {
    "duration": 245,
    "start_time": "2023-03-15T08:29:16.675Z"
   },
   {
    "duration": 4,
    "start_time": "2023-03-15T08:29:16.921Z"
   },
   {
    "duration": 14,
    "start_time": "2023-03-15T08:29:16.927Z"
   },
   {
    "duration": 223,
    "start_time": "2023-03-15T08:29:16.942Z"
   },
   {
    "duration": 5,
    "start_time": "2023-03-15T08:29:17.166Z"
   },
   {
    "duration": 29,
    "start_time": "2023-03-15T08:29:17.172Z"
   },
   {
    "duration": 231,
    "start_time": "2023-03-15T08:29:17.203Z"
   },
   {
    "duration": 5,
    "start_time": "2023-03-15T08:29:17.436Z"
   },
   {
    "duration": 9,
    "start_time": "2023-03-15T08:29:17.442Z"
   },
   {
    "duration": 300,
    "start_time": "2023-03-15T08:29:17.453Z"
   },
   {
    "duration": 6,
    "start_time": "2023-03-15T08:29:17.755Z"
   },
   {
    "duration": 23,
    "start_time": "2023-03-15T08:29:17.762Z"
   },
   {
    "duration": 238,
    "start_time": "2023-03-15T08:29:17.786Z"
   },
   {
    "duration": 6,
    "start_time": "2023-03-15T08:29:18.026Z"
   },
   {
    "duration": 57,
    "start_time": "2023-03-15T08:29:18.033Z"
   },
   {
    "duration": 146,
    "start_time": "2023-03-15T08:29:18.092Z"
   },
   {
    "duration": 13,
    "start_time": "2023-03-15T08:29:18.239Z"
   },
   {
    "duration": 154,
    "start_time": "2023-03-15T08:29:18.254Z"
   },
   {
    "duration": 12,
    "start_time": "2023-03-15T08:29:18.409Z"
   },
   {
    "duration": 141,
    "start_time": "2023-03-15T08:29:18.422Z"
   },
   {
    "duration": 21,
    "start_time": "2023-03-15T08:29:18.564Z"
   },
   {
    "duration": 144,
    "start_time": "2023-03-15T08:29:18.586Z"
   },
   {
    "duration": 12,
    "start_time": "2023-03-15T08:29:18.731Z"
   },
   {
    "duration": 162,
    "start_time": "2023-03-15T08:29:18.744Z"
   },
   {
    "duration": 14,
    "start_time": "2023-03-15T08:29:18.907Z"
   },
   {
    "duration": 169,
    "start_time": "2023-03-15T08:29:18.923Z"
   },
   {
    "duration": 13,
    "start_time": "2023-03-15T08:29:19.094Z"
   },
   {
    "duration": 144,
    "start_time": "2023-03-15T08:29:19.108Z"
   },
   {
    "duration": 12,
    "start_time": "2023-03-15T08:29:19.253Z"
   },
   {
    "duration": 28,
    "start_time": "2023-03-15T08:29:19.266Z"
   },
   {
    "duration": 12,
    "start_time": "2023-03-15T08:29:19.296Z"
   },
   {
    "duration": 32,
    "start_time": "2023-03-15T08:29:19.309Z"
   },
   {
    "duration": 29,
    "start_time": "2023-03-15T08:32:05.378Z"
   },
   {
    "duration": 15,
    "start_time": "2023-03-15T08:33:07.309Z"
   },
   {
    "duration": 17,
    "start_time": "2023-03-15T08:33:15.612Z"
   },
   {
    "duration": 18,
    "start_time": "2023-03-15T08:33:24.843Z"
   },
   {
    "duration": 15,
    "start_time": "2023-03-15T08:33:42.133Z"
   },
   {
    "duration": 16,
    "start_time": "2023-03-15T08:33:49.223Z"
   },
   {
    "duration": 16,
    "start_time": "2023-03-15T08:36:55.526Z"
   },
   {
    "duration": 17,
    "start_time": "2023-03-15T08:37:20.830Z"
   },
   {
    "duration": 17,
    "start_time": "2023-03-15T08:38:58.942Z"
   },
   {
    "duration": 17,
    "start_time": "2023-03-15T08:43:47.542Z"
   },
   {
    "duration": 26,
    "start_time": "2023-03-15T08:44:00.603Z"
   },
   {
    "duration": 16,
    "start_time": "2023-03-15T08:48:20.555Z"
   },
   {
    "duration": 20,
    "start_time": "2023-03-15T08:49:20.320Z"
   },
   {
    "duration": 22,
    "start_time": "2023-03-15T08:49:32.312Z"
   },
   {
    "duration": 19,
    "start_time": "2023-03-15T08:49:51.117Z"
   },
   {
    "duration": 1185,
    "start_time": "2023-03-15T08:50:03.816Z"
   },
   {
    "duration": 56,
    "start_time": "2023-03-15T08:50:05.003Z"
   },
   {
    "duration": 50,
    "start_time": "2023-03-15T08:50:05.060Z"
   },
   {
    "duration": 26,
    "start_time": "2023-03-15T08:50:05.117Z"
   },
   {
    "duration": 729,
    "start_time": "2023-03-15T08:50:05.145Z"
   },
   {
    "duration": 61,
    "start_time": "2023-03-15T08:50:05.875Z"
   },
   {
    "duration": 5,
    "start_time": "2023-03-15T08:50:05.938Z"
   },
   {
    "duration": 45,
    "start_time": "2023-03-15T08:50:05.944Z"
   },
   {
    "duration": 43,
    "start_time": "2023-03-15T08:50:05.990Z"
   },
   {
    "duration": 6,
    "start_time": "2023-03-15T08:50:06.040Z"
   },
   {
    "duration": 9,
    "start_time": "2023-03-15T08:50:06.048Z"
   },
   {
    "duration": 14,
    "start_time": "2023-03-15T08:50:06.058Z"
   },
   {
    "duration": 35,
    "start_time": "2023-03-15T08:50:06.074Z"
   },
   {
    "duration": 15,
    "start_time": "2023-03-15T08:50:06.117Z"
   },
   {
    "duration": 22,
    "start_time": "2023-03-15T08:50:06.134Z"
   },
   {
    "duration": 28,
    "start_time": "2023-03-15T08:50:06.158Z"
   },
   {
    "duration": 25,
    "start_time": "2023-03-15T08:50:06.188Z"
   },
   {
    "duration": 27,
    "start_time": "2023-03-15T08:50:06.214Z"
   },
   {
    "duration": 25,
    "start_time": "2023-03-15T08:50:06.243Z"
   },
   {
    "duration": 43,
    "start_time": "2023-03-15T08:50:06.270Z"
   },
   {
    "duration": 22,
    "start_time": "2023-03-15T08:50:06.315Z"
   },
   {
    "duration": 311,
    "start_time": "2023-03-15T08:50:06.339Z"
   },
   {
    "duration": 260,
    "start_time": "2023-03-15T08:50:06.652Z"
   },
   {
    "duration": 240,
    "start_time": "2023-03-15T08:50:06.914Z"
   },
   {
    "duration": 170,
    "start_time": "2023-03-15T08:50:07.156Z"
   },
   {
    "duration": 177,
    "start_time": "2023-03-15T08:50:07.328Z"
   },
   {
    "duration": 149,
    "start_time": "2023-03-15T08:50:07.509Z"
   },
   {
    "duration": 163,
    "start_time": "2023-03-15T08:50:07.661Z"
   },
   {
    "duration": 160,
    "start_time": "2023-03-15T08:50:07.825Z"
   },
   {
    "duration": 19,
    "start_time": "2023-03-15T08:50:07.994Z"
   },
   {
    "duration": 58,
    "start_time": "2023-03-15T08:50:08.015Z"
   },
   {
    "duration": 193,
    "start_time": "2023-03-15T08:50:08.074Z"
   },
   {
    "duration": 5,
    "start_time": "2023-03-15T08:50:08.269Z"
   },
   {
    "duration": 259,
    "start_time": "2023-03-15T08:50:08.275Z"
   },
   {
    "duration": 6,
    "start_time": "2023-03-15T08:50:08.536Z"
   },
   {
    "duration": 291,
    "start_time": "2023-03-15T08:50:08.543Z"
   },
   {
    "duration": 6,
    "start_time": "2023-03-15T08:50:08.835Z"
   },
   {
    "duration": 10,
    "start_time": "2023-03-15T08:50:08.843Z"
   },
   {
    "duration": 263,
    "start_time": "2023-03-15T08:50:08.855Z"
   },
   {
    "duration": 6,
    "start_time": "2023-03-15T08:50:09.120Z"
   },
   {
    "duration": 25,
    "start_time": "2023-03-15T08:50:09.128Z"
   },
   {
    "duration": 311,
    "start_time": "2023-03-15T08:50:09.155Z"
   },
   {
    "duration": 13,
    "start_time": "2023-03-15T08:50:09.468Z"
   },
   {
    "duration": 33,
    "start_time": "2023-03-15T08:50:09.490Z"
   },
   {
    "duration": 321,
    "start_time": "2023-03-15T08:50:09.525Z"
   },
   {
    "duration": 5,
    "start_time": "2023-03-15T08:50:09.848Z"
   },
   {
    "duration": 9,
    "start_time": "2023-03-15T08:50:09.854Z"
   },
   {
    "duration": 262,
    "start_time": "2023-03-15T08:50:09.864Z"
   },
   {
    "duration": 6,
    "start_time": "2023-03-15T08:50:10.127Z"
   },
   {
    "duration": 18,
    "start_time": "2023-03-15T08:50:10.135Z"
   },
   {
    "duration": 164,
    "start_time": "2023-03-15T08:50:10.154Z"
   },
   {
    "duration": 13,
    "start_time": "2023-03-15T08:50:10.320Z"
   },
   {
    "duration": 157,
    "start_time": "2023-03-15T08:50:10.335Z"
   },
   {
    "duration": 12,
    "start_time": "2023-03-15T08:50:10.494Z"
   },
   {
    "duration": 153,
    "start_time": "2023-03-15T08:50:10.507Z"
   },
   {
    "duration": 23,
    "start_time": "2023-03-15T08:50:10.662Z"
   },
   {
    "duration": 158,
    "start_time": "2023-03-15T08:50:10.694Z"
   },
   {
    "duration": 14,
    "start_time": "2023-03-15T08:50:10.853Z"
   },
   {
    "duration": 232,
    "start_time": "2023-03-15T08:50:10.869Z"
   },
   {
    "duration": 15,
    "start_time": "2023-03-15T08:50:11.103Z"
   },
   {
    "duration": 219,
    "start_time": "2023-03-15T08:50:11.119Z"
   },
   {
    "duration": 14,
    "start_time": "2023-03-15T08:50:11.339Z"
   },
   {
    "duration": 178,
    "start_time": "2023-03-15T08:50:11.354Z"
   },
   {
    "duration": 14,
    "start_time": "2023-03-15T08:50:11.534Z"
   },
   {
    "duration": 48,
    "start_time": "2023-03-15T08:50:11.549Z"
   },
   {
    "duration": 33,
    "start_time": "2023-03-15T08:50:11.605Z"
   },
   {
    "duration": 119,
    "start_time": "2023-03-15T08:50:11.640Z"
   },
   {
    "duration": 15,
    "start_time": "2023-03-15T08:51:22.124Z"
   },
   {
    "duration": 22,
    "start_time": "2023-03-15T08:51:46.125Z"
   },
   {
    "duration": 20,
    "start_time": "2023-03-15T08:52:20.101Z"
   },
   {
    "duration": 24,
    "start_time": "2023-03-15T08:55:05.942Z"
   },
   {
    "duration": 128,
    "start_time": "2023-03-15T09:07:28.123Z"
   },
   {
    "duration": 13,
    "start_time": "2023-03-15T09:07:59.832Z"
   },
   {
    "duration": 110,
    "start_time": "2023-03-15T09:08:02.952Z"
   },
   {
    "duration": 15,
    "start_time": "2023-03-15T09:08:16.069Z"
   },
   {
    "duration": 115,
    "start_time": "2023-03-15T09:08:21.281Z"
   },
   {
    "duration": 15,
    "start_time": "2023-03-15T09:09:03.932Z"
   },
   {
    "duration": 221,
    "start_time": "2023-03-15T09:09:33.152Z"
   },
   {
    "duration": 118,
    "start_time": "2023-03-15T09:10:17.583Z"
   },
   {
    "duration": 128,
    "start_time": "2023-03-15T09:11:14.283Z"
   },
   {
    "duration": 128,
    "start_time": "2023-03-15T09:12:25.483Z"
   },
   {
    "duration": 127,
    "start_time": "2023-03-15T09:12:52.066Z"
   },
   {
    "duration": 135,
    "start_time": "2023-03-15T09:13:31.062Z"
   },
   {
    "duration": 130,
    "start_time": "2023-03-15T09:14:55.118Z"
   },
   {
    "duration": 128,
    "start_time": "2023-03-15T09:16:18.367Z"
   },
   {
    "duration": 146,
    "start_time": "2023-03-15T09:17:04.967Z"
   },
   {
    "duration": 128,
    "start_time": "2023-03-15T09:18:06.869Z"
   },
   {
    "duration": 124,
    "start_time": "2023-03-15T09:18:24.782Z"
   },
   {
    "duration": 148,
    "start_time": "2023-03-15T09:18:35.238Z"
   },
   {
    "duration": 164,
    "start_time": "2023-03-15T09:20:40.841Z"
   },
   {
    "duration": 113,
    "start_time": "2023-03-15T09:21:44.027Z"
   },
   {
    "duration": 200,
    "start_time": "2023-03-15T09:22:13.347Z"
   },
   {
    "duration": 121,
    "start_time": "2023-03-15T09:22:43.845Z"
   },
   {
    "duration": 149,
    "start_time": "2023-03-15T09:23:09.064Z"
   },
   {
    "duration": 109,
    "start_time": "2023-03-15T09:23:56.885Z"
   },
   {
    "duration": 132,
    "start_time": "2023-03-15T09:24:00.921Z"
   },
   {
    "duration": 259,
    "start_time": "2023-03-15T09:29:04.147Z"
   },
   {
    "duration": 229,
    "start_time": "2023-03-15T09:29:31.745Z"
   },
   {
    "duration": 248,
    "start_time": "2023-03-15T09:30:57.887Z"
   },
   {
    "duration": 238,
    "start_time": "2023-03-15T09:31:21.526Z"
   },
   {
    "duration": 226,
    "start_time": "2023-03-15T09:31:42.261Z"
   },
   {
    "duration": 220,
    "start_time": "2023-03-15T09:31:52.234Z"
   },
   {
    "duration": 213,
    "start_time": "2023-03-15T09:32:58.805Z"
   },
   {
    "duration": 234,
    "start_time": "2023-03-15T09:33:24.468Z"
   },
   {
    "duration": 299,
    "start_time": "2023-03-15T09:33:50.274Z"
   },
   {
    "duration": 227,
    "start_time": "2023-03-15T09:34:37.730Z"
   },
   {
    "duration": 216,
    "start_time": "2023-03-15T09:34:52.291Z"
   },
   {
    "duration": 228,
    "start_time": "2023-03-15T09:35:57.918Z"
   },
   {
    "duration": 242,
    "start_time": "2023-03-15T09:37:25.747Z"
   },
   {
    "duration": 162,
    "start_time": "2023-03-15T09:40:07.133Z"
   },
   {
    "duration": 159,
    "start_time": "2023-03-15T09:40:17.318Z"
   },
   {
    "duration": 161,
    "start_time": "2023-03-15T09:40:31.337Z"
   },
   {
    "duration": 167,
    "start_time": "2023-03-15T09:40:40.773Z"
   },
   {
    "duration": 157,
    "start_time": "2023-03-15T09:40:59.489Z"
   },
   {
    "duration": 151,
    "start_time": "2023-03-15T09:41:18.147Z"
   },
   {
    "duration": 187,
    "start_time": "2023-03-15T09:41:45.976Z"
   },
   {
    "duration": 161,
    "start_time": "2023-03-15T09:42:01.037Z"
   },
   {
    "duration": 146,
    "start_time": "2023-03-15T09:42:26.769Z"
   },
   {
    "duration": 53,
    "start_time": "2023-03-16T06:30:07.016Z"
   },
   {
    "duration": 1365,
    "start_time": "2023-03-16T06:30:21.492Z"
   },
   {
    "duration": 213,
    "start_time": "2023-03-16T06:30:22.859Z"
   },
   {
    "duration": 37,
    "start_time": "2023-03-16T06:30:23.078Z"
   },
   {
    "duration": 21,
    "start_time": "2023-03-16T06:30:23.117Z"
   },
   {
    "duration": 775,
    "start_time": "2023-03-16T06:30:23.139Z"
   },
   {
    "duration": 65,
    "start_time": "2023-03-16T06:30:23.916Z"
   },
   {
    "duration": 6,
    "start_time": "2023-03-16T06:30:23.983Z"
   },
   {
    "duration": 21,
    "start_time": "2023-03-16T06:30:23.991Z"
   },
   {
    "duration": 6,
    "start_time": "2023-03-16T06:30:24.015Z"
   },
   {
    "duration": 19,
    "start_time": "2023-03-16T06:30:24.022Z"
   },
   {
    "duration": 11,
    "start_time": "2023-03-16T06:30:24.044Z"
   },
   {
    "duration": 7,
    "start_time": "2023-03-16T06:30:24.057Z"
   },
   {
    "duration": 6,
    "start_time": "2023-03-16T06:30:24.066Z"
   },
   {
    "duration": 15,
    "start_time": "2023-03-16T06:30:24.074Z"
   },
   {
    "duration": 10,
    "start_time": "2023-03-16T06:30:24.091Z"
   },
   {
    "duration": 24,
    "start_time": "2023-03-16T06:30:24.103Z"
   },
   {
    "duration": 15,
    "start_time": "2023-03-16T06:30:24.129Z"
   },
   {
    "duration": 33,
    "start_time": "2023-03-16T06:30:24.146Z"
   },
   {
    "duration": 25,
    "start_time": "2023-03-16T06:30:24.181Z"
   },
   {
    "duration": 31,
    "start_time": "2023-03-16T06:30:24.208Z"
   },
   {
    "duration": 21,
    "start_time": "2023-03-16T06:30:24.255Z"
   },
   {
    "duration": 341,
    "start_time": "2023-03-16T06:30:24.278Z"
   },
   {
    "duration": 263,
    "start_time": "2023-03-16T06:30:24.621Z"
   },
   {
    "duration": 263,
    "start_time": "2023-03-16T06:30:24.885Z"
   },
   {
    "duration": 225,
    "start_time": "2023-03-16T06:30:25.150Z"
   },
   {
    "duration": 199,
    "start_time": "2023-03-16T06:30:25.378Z"
   },
   {
    "duration": 230,
    "start_time": "2023-03-16T06:30:25.583Z"
   },
   {
    "duration": 259,
    "start_time": "2023-03-16T06:30:25.815Z"
   },
   {
    "duration": 173,
    "start_time": "2023-03-16T06:30:26.076Z"
   },
   {
    "duration": 10,
    "start_time": "2023-03-16T06:30:26.250Z"
   },
   {
    "duration": 21,
    "start_time": "2023-03-16T06:30:26.262Z"
   },
   {
    "duration": 180,
    "start_time": "2023-03-16T06:30:26.285Z"
   },
   {
    "duration": 5,
    "start_time": "2023-03-16T06:30:26.467Z"
   },
   {
    "duration": 246,
    "start_time": "2023-03-16T06:30:26.474Z"
   },
   {
    "duration": 8,
    "start_time": "2023-03-16T06:30:26.722Z"
   },
   {
    "duration": 372,
    "start_time": "2023-03-16T06:30:26.731Z"
   },
   {
    "duration": 7,
    "start_time": "2023-03-16T06:30:27.104Z"
   },
   {
    "duration": 6,
    "start_time": "2023-03-16T06:30:27.113Z"
   },
   {
    "duration": 268,
    "start_time": "2023-03-16T06:30:27.120Z"
   },
   {
    "duration": 6,
    "start_time": "2023-03-16T06:30:27.391Z"
   },
   {
    "duration": 15,
    "start_time": "2023-03-16T06:30:27.399Z"
   },
   {
    "duration": 348,
    "start_time": "2023-03-16T06:30:27.417Z"
   },
   {
    "duration": 7,
    "start_time": "2023-03-16T06:30:27.767Z"
   },
   {
    "duration": 11,
    "start_time": "2023-03-16T06:30:27.776Z"
   },
   {
    "duration": 338,
    "start_time": "2023-03-16T06:30:27.789Z"
   },
   {
    "duration": 6,
    "start_time": "2023-03-16T06:30:28.129Z"
   },
   {
    "duration": 21,
    "start_time": "2023-03-16T06:30:28.137Z"
   },
   {
    "duration": 283,
    "start_time": "2023-03-16T06:30:28.160Z"
   },
   {
    "duration": 15,
    "start_time": "2023-03-16T06:30:28.444Z"
   },
   {
    "duration": 294,
    "start_time": "2023-03-16T06:30:28.461Z"
   },
   {
    "duration": 157,
    "start_time": "2023-03-16T06:30:28.757Z"
   },
   {
    "duration": 0,
    "start_time": "2023-03-16T06:30:28.916Z"
   },
   {
    "duration": 0,
    "start_time": "2023-03-16T06:30:28.917Z"
   },
   {
    "duration": 0,
    "start_time": "2023-03-16T06:30:28.919Z"
   },
   {
    "duration": 0,
    "start_time": "2023-03-16T06:30:28.920Z"
   },
   {
    "duration": 0,
    "start_time": "2023-03-16T06:30:28.921Z"
   },
   {
    "duration": 0,
    "start_time": "2023-03-16T06:30:28.922Z"
   },
   {
    "duration": 0,
    "start_time": "2023-03-16T06:30:28.923Z"
   },
   {
    "duration": 0,
    "start_time": "2023-03-16T06:30:28.925Z"
   },
   {
    "duration": 0,
    "start_time": "2023-03-16T06:30:28.926Z"
   },
   {
    "duration": 0,
    "start_time": "2023-03-16T06:30:28.928Z"
   },
   {
    "duration": 138,
    "start_time": "2023-03-16T06:31:34.717Z"
   },
   {
    "duration": 10,
    "start_time": "2023-03-16T06:37:14.734Z"
   },
   {
    "duration": 147,
    "start_time": "2023-03-16T06:37:54.223Z"
   },
   {
    "duration": 24,
    "start_time": "2023-03-16T06:46:37.402Z"
   },
   {
    "duration": 26,
    "start_time": "2023-03-16T06:46:49.232Z"
   },
   {
    "duration": 26,
    "start_time": "2023-03-16T06:47:22.804Z"
   },
   {
    "duration": 1018,
    "start_time": "2023-03-16T06:50:07.706Z"
   },
   {
    "duration": 58,
    "start_time": "2023-03-16T06:50:08.726Z"
   },
   {
    "duration": 22,
    "start_time": "2023-03-16T06:50:08.785Z"
   },
   {
    "duration": 13,
    "start_time": "2023-03-16T06:50:08.809Z"
   },
   {
    "duration": 718,
    "start_time": "2023-03-16T06:50:08.824Z"
   },
   {
    "duration": 62,
    "start_time": "2023-03-16T06:50:09.544Z"
   },
   {
    "duration": 6,
    "start_time": "2023-03-16T06:50:09.607Z"
   },
   {
    "duration": 18,
    "start_time": "2023-03-16T06:50:09.615Z"
   },
   {
    "duration": 4,
    "start_time": "2023-03-16T06:50:09.635Z"
   },
   {
    "duration": 32,
    "start_time": "2023-03-16T06:50:09.641Z"
   },
   {
    "duration": 3,
    "start_time": "2023-03-16T06:50:09.675Z"
   },
   {
    "duration": 9,
    "start_time": "2023-03-16T06:50:09.679Z"
   },
   {
    "duration": 4,
    "start_time": "2023-03-16T06:50:09.689Z"
   },
   {
    "duration": 5,
    "start_time": "2023-03-16T06:50:09.694Z"
   },
   {
    "duration": 5,
    "start_time": "2023-03-16T06:50:09.700Z"
   },
   {
    "duration": 5,
    "start_time": "2023-03-16T06:50:09.707Z"
   },
   {
    "duration": 5,
    "start_time": "2023-03-16T06:50:09.714Z"
   },
   {
    "duration": 12,
    "start_time": "2023-03-16T06:50:09.720Z"
   },
   {
    "duration": 23,
    "start_time": "2023-03-16T06:50:09.757Z"
   },
   {
    "duration": 18,
    "start_time": "2023-03-16T06:50:09.782Z"
   },
   {
    "duration": 15,
    "start_time": "2023-03-16T06:50:09.802Z"
   },
   {
    "duration": 298,
    "start_time": "2023-03-16T06:50:09.818Z"
   },
   {
    "duration": 249,
    "start_time": "2023-03-16T06:50:10.118Z"
   },
   {
    "duration": 241,
    "start_time": "2023-03-16T06:50:10.369Z"
   },
   {
    "duration": 173,
    "start_time": "2023-03-16T06:50:10.612Z"
   },
   {
    "duration": 163,
    "start_time": "2023-03-16T06:50:10.786Z"
   },
   {
    "duration": 171,
    "start_time": "2023-03-16T06:50:10.951Z"
   },
   {
    "duration": 167,
    "start_time": "2023-03-16T06:50:11.125Z"
   },
   {
    "duration": 173,
    "start_time": "2023-03-16T06:50:11.294Z"
   },
   {
    "duration": 8,
    "start_time": "2023-03-16T06:50:11.469Z"
   },
   {
    "duration": 15,
    "start_time": "2023-03-16T06:50:11.479Z"
   },
   {
    "duration": 179,
    "start_time": "2023-03-16T06:50:11.495Z"
   },
   {
    "duration": 4,
    "start_time": "2023-03-16T06:50:11.677Z"
   },
   {
    "duration": 200,
    "start_time": "2023-03-16T06:50:11.683Z"
   },
   {
    "duration": 5,
    "start_time": "2023-03-16T06:50:11.884Z"
   },
   {
    "duration": 250,
    "start_time": "2023-03-16T06:50:11.891Z"
   },
   {
    "duration": 18,
    "start_time": "2023-03-16T06:50:12.142Z"
   },
   {
    "duration": 6,
    "start_time": "2023-03-16T06:50:12.161Z"
   },
   {
    "duration": 232,
    "start_time": "2023-03-16T06:50:12.170Z"
   },
   {
    "duration": 5,
    "start_time": "2023-03-16T06:50:12.403Z"
   },
   {
    "duration": 10,
    "start_time": "2023-03-16T06:50:12.409Z"
   },
   {
    "duration": 269,
    "start_time": "2023-03-16T06:50:12.420Z"
   },
   {
    "duration": 5,
    "start_time": "2023-03-16T06:50:12.690Z"
   },
   {
    "duration": 7,
    "start_time": "2023-03-16T06:50:12.697Z"
   },
   {
    "duration": 313,
    "start_time": "2023-03-16T06:50:12.705Z"
   },
   {
    "duration": 6,
    "start_time": "2023-03-16T06:50:13.020Z"
   },
   {
    "duration": 6,
    "start_time": "2023-03-16T06:50:13.027Z"
   },
   {
    "duration": 268,
    "start_time": "2023-03-16T06:50:13.035Z"
   },
   {
    "duration": 5,
    "start_time": "2023-03-16T06:50:13.305Z"
   },
   {
    "duration": 175,
    "start_time": "2023-03-16T06:50:13.311Z"
   },
   {
    "duration": 147,
    "start_time": "2023-03-16T06:50:13.487Z"
   },
   {
    "duration": 154,
    "start_time": "2023-03-16T06:50:13.636Z"
   },
   {
    "duration": 136,
    "start_time": "2023-03-16T06:50:13.792Z"
   },
   {
    "duration": 149,
    "start_time": "2023-03-16T06:50:13.930Z"
   },
   {
    "duration": 159,
    "start_time": "2023-03-16T06:50:14.081Z"
   },
   {
    "duration": 160,
    "start_time": "2023-03-16T06:50:14.242Z"
   },
   {
    "duration": 135,
    "start_time": "2023-03-16T06:50:14.403Z"
   },
   {
    "duration": 154,
    "start_time": "2023-03-16T06:50:14.540Z"
   },
   {
    "duration": 143,
    "start_time": "2023-03-16T06:50:14.695Z"
   },
   {
    "duration": 35,
    "start_time": "2023-03-16T06:50:14.839Z"
   },
   {
    "duration": 18,
    "start_time": "2023-03-16T06:50:14.875Z"
   },
   {
    "duration": 175,
    "start_time": "2023-03-16T06:53:20.903Z"
   },
   {
    "duration": 57,
    "start_time": "2023-03-16T06:53:54.214Z"
   },
   {
    "duration": 253,
    "start_time": "2023-03-16T06:53:59.019Z"
   },
   {
    "duration": 150,
    "start_time": "2023-03-16T06:57:40.849Z"
   },
   {
    "duration": 138,
    "start_time": "2023-03-16T06:58:20.600Z"
   },
   {
    "duration": 194,
    "start_time": "2023-03-16T06:59:26.697Z"
   },
   {
    "duration": 14,
    "start_time": "2023-03-16T07:06:30.026Z"
   },
   {
    "duration": 181,
    "start_time": "2023-03-16T07:06:59.670Z"
   },
   {
    "duration": 23,
    "start_time": "2023-03-16T07:08:05.716Z"
   },
   {
    "duration": 898,
    "start_time": "2023-03-16T08:20:59.911Z"
   },
   {
    "duration": 9,
    "start_time": "2023-03-16T08:55:23.628Z"
   },
   {
    "duration": 9,
    "start_time": "2023-03-16T08:55:46.272Z"
   },
   {
    "duration": 19,
    "start_time": "2023-03-16T08:56:21.716Z"
   },
   {
    "duration": 20,
    "start_time": "2023-03-16T08:59:28.700Z"
   },
   {
    "duration": 10,
    "start_time": "2023-03-16T09:10:42.684Z"
   },
   {
    "duration": 16,
    "start_time": "2023-03-16T09:13:04.640Z"
   },
   {
    "duration": 4,
    "start_time": "2023-03-16T09:13:15.054Z"
   },
   {
    "duration": 11,
    "start_time": "2023-03-16T09:13:36.736Z"
   },
   {
    "duration": 14,
    "start_time": "2023-03-16T09:14:04.340Z"
   },
   {
    "duration": 8,
    "start_time": "2023-03-16T09:14:32.900Z"
   },
   {
    "duration": 9,
    "start_time": "2023-03-16T09:14:50.538Z"
   },
   {
    "duration": 4,
    "start_time": "2023-03-16T09:22:11.304Z"
   },
   {
    "duration": 17,
    "start_time": "2023-03-16T09:24:55.255Z"
   },
   {
    "duration": 9,
    "start_time": "2023-03-16T09:25:59.607Z"
   },
   {
    "duration": 10,
    "start_time": "2023-03-16T09:26:16.179Z"
   },
   {
    "duration": 5,
    "start_time": "2023-03-16T09:26:44.375Z"
   },
   {
    "duration": 8,
    "start_time": "2023-03-16T09:35:36.334Z"
   },
   {
    "duration": 3,
    "start_time": "2023-03-16T09:35:50.110Z"
   },
   {
    "duration": 6,
    "start_time": "2023-03-16T09:35:59.722Z"
   },
   {
    "duration": 13,
    "start_time": "2023-03-16T09:36:27.417Z"
   },
   {
    "duration": 4,
    "start_time": "2023-03-16T09:37:17.121Z"
   },
   {
    "duration": 4,
    "start_time": "2023-03-16T09:37:50.841Z"
   },
   {
    "duration": 5,
    "start_time": "2023-03-16T09:41:14.233Z"
   },
   {
    "duration": 1239,
    "start_time": "2023-03-16T10:41:46.773Z"
   },
   {
    "duration": 57,
    "start_time": "2023-03-16T10:41:48.014Z"
   },
   {
    "duration": 23,
    "start_time": "2023-03-16T10:41:48.073Z"
   },
   {
    "duration": 13,
    "start_time": "2023-03-16T10:41:48.098Z"
   },
   {
    "duration": 744,
    "start_time": "2023-03-16T10:41:48.113Z"
   },
   {
    "duration": 57,
    "start_time": "2023-03-16T10:41:48.859Z"
   },
   {
    "duration": 5,
    "start_time": "2023-03-16T10:41:48.918Z"
   },
   {
    "duration": 25,
    "start_time": "2023-03-16T10:41:48.924Z"
   },
   {
    "duration": 17,
    "start_time": "2023-03-16T10:41:48.950Z"
   },
   {
    "duration": 13,
    "start_time": "2023-03-16T10:41:48.970Z"
   },
   {
    "duration": 23,
    "start_time": "2023-03-16T10:41:48.984Z"
   },
   {
    "duration": 14,
    "start_time": "2023-03-16T10:41:49.008Z"
   },
   {
    "duration": 20,
    "start_time": "2023-03-16T10:41:49.023Z"
   },
   {
    "duration": 26,
    "start_time": "2023-03-16T10:41:49.046Z"
   },
   {
    "duration": 8,
    "start_time": "2023-03-16T10:41:49.073Z"
   },
   {
    "duration": 7,
    "start_time": "2023-03-16T10:41:49.082Z"
   },
   {
    "duration": 6,
    "start_time": "2023-03-16T10:41:49.091Z"
   },
   {
    "duration": 23,
    "start_time": "2023-03-16T10:41:49.098Z"
   },
   {
    "duration": 21,
    "start_time": "2023-03-16T10:41:49.122Z"
   },
   {
    "duration": 32,
    "start_time": "2023-03-16T10:41:49.145Z"
   },
   {
    "duration": 18,
    "start_time": "2023-03-16T10:41:49.179Z"
   },
   {
    "duration": 308,
    "start_time": "2023-03-16T10:41:49.199Z"
   },
   {
    "duration": 270,
    "start_time": "2023-03-16T10:41:49.509Z"
   },
   {
    "duration": 254,
    "start_time": "2023-03-16T10:41:49.781Z"
   },
   {
    "duration": 186,
    "start_time": "2023-03-16T10:41:50.036Z"
   },
   {
    "duration": 180,
    "start_time": "2023-03-16T10:41:50.224Z"
   },
   {
    "duration": 184,
    "start_time": "2023-03-16T10:41:50.406Z"
   },
   {
    "duration": 177,
    "start_time": "2023-03-16T10:41:50.593Z"
   },
   {
    "duration": 169,
    "start_time": "2023-03-16T10:41:50.772Z"
   },
   {
    "duration": 12,
    "start_time": "2023-03-16T10:41:50.943Z"
   },
   {
    "duration": 20,
    "start_time": "2023-03-16T10:41:50.957Z"
   },
   {
    "duration": 163,
    "start_time": "2023-03-16T10:41:50.979Z"
   },
   {
    "duration": 4,
    "start_time": "2023-03-16T10:41:51.143Z"
   },
   {
    "duration": 200,
    "start_time": "2023-03-16T10:41:51.154Z"
   },
   {
    "duration": 6,
    "start_time": "2023-03-16T10:41:51.364Z"
   },
   {
    "duration": 252,
    "start_time": "2023-03-16T10:41:51.372Z"
   },
   {
    "duration": 6,
    "start_time": "2023-03-16T10:41:51.626Z"
   },
   {
    "duration": 22,
    "start_time": "2023-03-16T10:41:51.633Z"
   },
   {
    "duration": 227,
    "start_time": "2023-03-16T10:41:51.657Z"
   },
   {
    "duration": 5,
    "start_time": "2023-03-16T10:41:51.885Z"
   },
   {
    "duration": 4,
    "start_time": "2023-03-16T10:41:51.892Z"
   },
   {
    "duration": 287,
    "start_time": "2023-03-16T10:41:51.898Z"
   },
   {
    "duration": 6,
    "start_time": "2023-03-16T10:41:52.187Z"
   },
   {
    "duration": 11,
    "start_time": "2023-03-16T10:41:52.195Z"
   },
   {
    "duration": 335,
    "start_time": "2023-03-16T10:41:52.208Z"
   },
   {
    "duration": 13,
    "start_time": "2023-03-16T10:41:52.545Z"
   },
   {
    "duration": 6,
    "start_time": "2023-03-16T10:41:52.560Z"
   },
   {
    "duration": 276,
    "start_time": "2023-03-16T10:41:52.567Z"
   },
   {
    "duration": 12,
    "start_time": "2023-03-16T10:41:52.845Z"
   },
   {
    "duration": 181,
    "start_time": "2023-03-16T10:41:52.859Z"
   },
   {
    "duration": 162,
    "start_time": "2023-03-16T10:41:53.042Z"
   },
   {
    "duration": 159,
    "start_time": "2023-03-16T10:41:53.205Z"
   },
   {
    "duration": 148,
    "start_time": "2023-03-16T10:41:53.365Z"
   },
   {
    "duration": 161,
    "start_time": "2023-03-16T10:41:53.514Z"
   },
   {
    "duration": 162,
    "start_time": "2023-03-16T10:41:53.676Z"
   },
   {
    "duration": 152,
    "start_time": "2023-03-16T10:41:53.840Z"
   },
   {
    "duration": 144,
    "start_time": "2023-03-16T10:41:53.994Z"
   },
   {
    "duration": 173,
    "start_time": "2023-03-16T10:41:54.140Z"
   },
   {
    "duration": 171,
    "start_time": "2023-03-16T10:41:54.314Z"
   },
   {
    "duration": 20,
    "start_time": "2023-03-16T10:41:54.487Z"
   },
   {
    "duration": 9,
    "start_time": "2023-03-16T10:41:54.509Z"
   },
   {
    "duration": 11,
    "start_time": "2023-03-16T10:41:54.519Z"
   },
   {
    "duration": 28,
    "start_time": "2023-03-16T10:41:54.531Z"
   },
   {
    "duration": 23,
    "start_time": "2023-03-16T10:41:54.561Z"
   },
   {
    "duration": 19,
    "start_time": "2023-03-16T10:41:54.586Z"
   },
   {
    "duration": 31,
    "start_time": "2023-03-16T10:41:54.607Z"
   },
   {
    "duration": 6,
    "start_time": "2023-03-16T10:41:54.639Z"
   },
   {
    "duration": 48,
    "start_time": "2023-03-17T07:28:36.299Z"
   },
   {
    "duration": 1260,
    "start_time": "2023-03-17T07:28:43.976Z"
   },
   {
    "duration": 196,
    "start_time": "2023-03-17T07:28:45.239Z"
   },
   {
    "duration": 24,
    "start_time": "2023-03-17T07:28:45.437Z"
   },
   {
    "duration": 15,
    "start_time": "2023-03-17T07:28:45.462Z"
   },
   {
    "duration": 685,
    "start_time": "2023-03-17T07:28:45.479Z"
   },
   {
    "duration": 54,
    "start_time": "2023-03-17T07:28:46.166Z"
   },
   {
    "duration": 19,
    "start_time": "2023-03-17T07:28:46.222Z"
   },
   {
    "duration": 16,
    "start_time": "2023-03-17T07:28:46.243Z"
   },
   {
    "duration": 22,
    "start_time": "2023-03-17T07:28:46.262Z"
   },
   {
    "duration": 12,
    "start_time": "2023-03-17T07:28:46.285Z"
   },
   {
    "duration": 4,
    "start_time": "2023-03-17T07:28:46.299Z"
   },
   {
    "duration": 8,
    "start_time": "2023-03-17T07:28:46.305Z"
   },
   {
    "duration": 15,
    "start_time": "2023-03-17T07:28:46.314Z"
   },
   {
    "duration": 6,
    "start_time": "2023-03-17T07:28:46.331Z"
   },
   {
    "duration": 7,
    "start_time": "2023-03-17T07:28:46.338Z"
   },
   {
    "duration": 8,
    "start_time": "2023-03-17T07:28:46.346Z"
   },
   {
    "duration": 4,
    "start_time": "2023-03-17T07:28:46.355Z"
   },
   {
    "duration": 13,
    "start_time": "2023-03-17T07:28:46.361Z"
   },
   {
    "duration": 17,
    "start_time": "2023-03-17T07:28:46.376Z"
   },
   {
    "duration": 51,
    "start_time": "2023-03-17T07:28:46.395Z"
   },
   {
    "duration": 16,
    "start_time": "2023-03-17T07:28:46.448Z"
   },
   {
    "duration": 295,
    "start_time": "2023-03-17T07:28:46.466Z"
   },
   {
    "duration": 300,
    "start_time": "2023-03-17T07:28:46.764Z"
   },
   {
    "duration": 227,
    "start_time": "2023-03-17T07:28:47.065Z"
   },
   {
    "duration": 190,
    "start_time": "2023-03-17T07:28:47.294Z"
   },
   {
    "duration": 165,
    "start_time": "2023-03-17T07:28:47.486Z"
   },
   {
    "duration": 169,
    "start_time": "2023-03-17T07:28:47.653Z"
   },
   {
    "duration": 164,
    "start_time": "2023-03-17T07:28:47.824Z"
   },
   {
    "duration": 165,
    "start_time": "2023-03-17T07:28:47.990Z"
   },
   {
    "duration": 5,
    "start_time": "2023-03-17T07:28:48.157Z"
   },
   {
    "duration": 12,
    "start_time": "2023-03-17T07:28:48.163Z"
   },
   {
    "duration": 157,
    "start_time": "2023-03-17T07:28:48.176Z"
   },
   {
    "duration": 4,
    "start_time": "2023-03-17T07:28:48.339Z"
   },
   {
    "duration": 205,
    "start_time": "2023-03-17T07:28:48.344Z"
   },
   {
    "duration": 6,
    "start_time": "2023-03-17T07:28:48.551Z"
   },
   {
    "duration": 272,
    "start_time": "2023-03-17T07:28:48.558Z"
   },
   {
    "duration": 10,
    "start_time": "2023-03-17T07:28:48.831Z"
   },
   {
    "duration": 5,
    "start_time": "2023-03-17T07:28:48.842Z"
   },
   {
    "duration": 215,
    "start_time": "2023-03-17T07:28:48.849Z"
   },
   {
    "duration": 5,
    "start_time": "2023-03-17T07:28:49.065Z"
   },
   {
    "duration": 19,
    "start_time": "2023-03-17T07:28:49.073Z"
   },
   {
    "duration": 309,
    "start_time": "2023-03-17T07:28:49.093Z"
   },
   {
    "duration": 5,
    "start_time": "2023-03-17T07:28:49.404Z"
   },
   {
    "duration": 9,
    "start_time": "2023-03-17T07:28:49.411Z"
   },
   {
    "duration": 244,
    "start_time": "2023-03-17T07:28:49.421Z"
   },
   {
    "duration": 4,
    "start_time": "2023-03-17T07:28:49.667Z"
   },
   {
    "duration": 5,
    "start_time": "2023-03-17T07:28:49.672Z"
   },
   {
    "duration": 241,
    "start_time": "2023-03-17T07:28:49.678Z"
   },
   {
    "duration": 5,
    "start_time": "2023-03-17T07:28:49.920Z"
   },
   {
    "duration": 155,
    "start_time": "2023-03-17T07:28:49.940Z"
   },
   {
    "duration": 131,
    "start_time": "2023-03-17T07:28:50.097Z"
   },
   {
    "duration": 138,
    "start_time": "2023-03-17T07:28:50.229Z"
   },
   {
    "duration": 124,
    "start_time": "2023-03-17T07:28:50.369Z"
   },
   {
    "duration": 141,
    "start_time": "2023-03-17T07:28:50.494Z"
   },
   {
    "duration": 137,
    "start_time": "2023-03-17T07:28:50.640Z"
   },
   {
    "duration": 139,
    "start_time": "2023-03-17T07:28:50.778Z"
   },
   {
    "duration": 124,
    "start_time": "2023-03-17T07:28:50.918Z"
   },
   {
    "duration": 134,
    "start_time": "2023-03-17T07:28:51.044Z"
   },
   {
    "duration": 129,
    "start_time": "2023-03-17T07:28:51.180Z"
   },
   {
    "duration": 16,
    "start_time": "2023-03-17T07:28:51.310Z"
   },
   {
    "duration": 18,
    "start_time": "2023-03-17T07:28:51.327Z"
   },
   {
    "duration": 17,
    "start_time": "2023-03-17T07:28:51.347Z"
   },
   {
    "duration": 7,
    "start_time": "2023-03-17T07:28:51.365Z"
   },
   {
    "duration": 16,
    "start_time": "2023-03-17T07:28:51.374Z"
   },
   {
    "duration": 11,
    "start_time": "2023-03-17T07:28:51.392Z"
   },
   {
    "duration": 14,
    "start_time": "2023-03-17T07:28:51.404Z"
   },
   {
    "duration": 8,
    "start_time": "2023-03-17T07:28:51.420Z"
   },
   {
    "duration": 5,
    "start_time": "2023-03-17T07:30:07.031Z"
   },
   {
    "duration": 5,
    "start_time": "2023-03-17T07:30:20.672Z"
   },
   {
    "duration": 322,
    "start_time": "2023-03-17T07:30:22.274Z"
   },
   {
    "duration": 6,
    "start_time": "2023-03-17T07:30:33.456Z"
   },
   {
    "duration": 5,
    "start_time": "2023-03-17T07:30:42.764Z"
   },
   {
    "duration": 6,
    "start_time": "2023-03-17T07:30:50.204Z"
   },
   {
    "duration": 1110,
    "start_time": "2023-03-17T07:31:00.422Z"
   },
   {
    "duration": 54,
    "start_time": "2023-03-17T07:31:01.534Z"
   },
   {
    "duration": 22,
    "start_time": "2023-03-17T07:31:01.589Z"
   },
   {
    "duration": 67,
    "start_time": "2023-03-17T07:31:01.613Z"
   },
   {
    "duration": 709,
    "start_time": "2023-03-17T07:31:01.681Z"
   },
   {
    "duration": 56,
    "start_time": "2023-03-17T07:31:02.392Z"
   },
   {
    "duration": 4,
    "start_time": "2023-03-17T07:31:02.450Z"
   },
   {
    "duration": 24,
    "start_time": "2023-03-17T07:31:02.455Z"
   },
   {
    "duration": 29,
    "start_time": "2023-03-17T07:31:02.480Z"
   },
   {
    "duration": 44,
    "start_time": "2023-03-17T07:31:02.511Z"
   },
   {
    "duration": 16,
    "start_time": "2023-03-17T07:31:02.556Z"
   },
   {
    "duration": 35,
    "start_time": "2023-03-17T07:31:02.573Z"
   },
   {
    "duration": 9,
    "start_time": "2023-03-17T07:31:02.609Z"
   },
   {
    "duration": 13,
    "start_time": "2023-03-17T07:31:02.619Z"
   },
   {
    "duration": 14,
    "start_time": "2023-03-17T07:31:02.634Z"
   },
   {
    "duration": 6,
    "start_time": "2023-03-17T07:31:02.650Z"
   },
   {
    "duration": 9,
    "start_time": "2023-03-17T07:31:02.657Z"
   },
   {
    "duration": 15,
    "start_time": "2023-03-17T07:31:02.668Z"
   },
   {
    "duration": 20,
    "start_time": "2023-03-17T07:31:02.685Z"
   },
   {
    "duration": 19,
    "start_time": "2023-03-17T07:31:02.706Z"
   },
   {
    "duration": 26,
    "start_time": "2023-03-17T07:31:02.726Z"
   },
   {
    "duration": 287,
    "start_time": "2023-03-17T07:31:02.753Z"
   },
   {
    "duration": 239,
    "start_time": "2023-03-17T07:31:03.042Z"
   },
   {
    "duration": 226,
    "start_time": "2023-03-17T07:31:03.283Z"
   },
   {
    "duration": 164,
    "start_time": "2023-03-17T07:31:03.510Z"
   },
   {
    "duration": 168,
    "start_time": "2023-03-17T07:31:03.675Z"
   },
   {
    "duration": 163,
    "start_time": "2023-03-17T07:31:03.845Z"
   },
   {
    "duration": 163,
    "start_time": "2023-03-17T07:31:04.011Z"
   },
   {
    "duration": 161,
    "start_time": "2023-03-17T07:31:04.176Z"
   },
   {
    "duration": 5,
    "start_time": "2023-03-17T07:31:04.340Z"
   },
   {
    "duration": 12,
    "start_time": "2023-03-17T07:31:04.346Z"
   },
   {
    "duration": 159,
    "start_time": "2023-03-17T07:31:04.359Z"
   },
   {
    "duration": 5,
    "start_time": "2023-03-17T07:31:04.520Z"
   },
   {
    "duration": 204,
    "start_time": "2023-03-17T07:31:04.527Z"
   },
   {
    "duration": 8,
    "start_time": "2023-03-17T07:31:04.733Z"
   },
   {
    "duration": 271,
    "start_time": "2023-03-17T07:31:04.743Z"
   },
   {
    "duration": 5,
    "start_time": "2023-03-17T07:31:05.017Z"
   },
   {
    "duration": 20,
    "start_time": "2023-03-17T07:31:05.024Z"
   },
   {
    "duration": 243,
    "start_time": "2023-03-17T07:31:05.046Z"
   },
   {
    "duration": 4,
    "start_time": "2023-03-17T07:31:05.291Z"
   },
   {
    "duration": 6,
    "start_time": "2023-03-17T07:31:05.296Z"
   },
   {
    "duration": 325,
    "start_time": "2023-03-17T07:31:05.304Z"
   },
   {
    "duration": 5,
    "start_time": "2023-03-17T07:31:05.639Z"
   },
   {
    "duration": 6,
    "start_time": "2023-03-17T07:31:05.646Z"
   },
   {
    "duration": 257,
    "start_time": "2023-03-17T07:31:05.653Z"
   },
   {
    "duration": 4,
    "start_time": "2023-03-17T07:31:05.912Z"
   },
   {
    "duration": 6,
    "start_time": "2023-03-17T07:31:05.917Z"
   },
   {
    "duration": 259,
    "start_time": "2023-03-17T07:31:05.924Z"
   },
   {
    "duration": 7,
    "start_time": "2023-03-17T07:31:06.185Z"
   },
   {
    "duration": 181,
    "start_time": "2023-03-17T07:31:06.193Z"
   },
   {
    "duration": 142,
    "start_time": "2023-03-17T07:31:06.376Z"
   },
   {
    "duration": 178,
    "start_time": "2023-03-17T07:31:06.520Z"
   },
   {
    "duration": 151,
    "start_time": "2023-03-17T07:31:06.699Z"
   },
   {
    "duration": 125,
    "start_time": "2023-03-17T07:31:06.853Z"
   },
   {
    "duration": 143,
    "start_time": "2023-03-17T07:31:06.979Z"
   },
   {
    "duration": 143,
    "start_time": "2023-03-17T07:31:07.124Z"
   },
   {
    "duration": 126,
    "start_time": "2023-03-17T07:31:07.268Z"
   },
   {
    "duration": 135,
    "start_time": "2023-03-17T07:31:07.396Z"
   },
   {
    "duration": 141,
    "start_time": "2023-03-17T07:31:07.533Z"
   },
   {
    "duration": 17,
    "start_time": "2023-03-17T07:31:07.676Z"
   },
   {
    "duration": 14,
    "start_time": "2023-03-17T07:31:07.694Z"
   },
   {
    "duration": 8,
    "start_time": "2023-03-17T07:31:07.710Z"
   },
   {
    "duration": 23,
    "start_time": "2023-03-17T07:31:07.720Z"
   },
   {
    "duration": 15,
    "start_time": "2023-03-17T07:31:07.744Z"
   },
   {
    "duration": 55,
    "start_time": "2023-03-17T07:31:07.760Z"
   },
   {
    "duration": 27,
    "start_time": "2023-03-17T07:31:07.816Z"
   },
   {
    "duration": 8,
    "start_time": "2023-03-17T07:31:07.844Z"
   },
   {
    "duration": 227,
    "start_time": "2023-03-17T07:34:11.593Z"
   },
   {
    "duration": 157,
    "start_time": "2023-03-17T07:34:31.465Z"
   },
   {
    "duration": 204,
    "start_time": "2023-03-17T07:34:46.562Z"
   },
   {
    "duration": 18,
    "start_time": "2023-03-17T07:36:21.413Z"
   },
   {
    "duration": 11,
    "start_time": "2023-03-17T07:36:26.725Z"
   },
   {
    "duration": 9,
    "start_time": "2023-03-17T07:36:30.257Z"
   },
   {
    "duration": 7,
    "start_time": "2023-03-17T07:36:49.251Z"
   },
   {
    "duration": 20,
    "start_time": "2023-03-17T07:37:29.313Z"
   },
   {
    "duration": 8,
    "start_time": "2023-03-17T07:37:32.081Z"
   },
   {
    "duration": 9,
    "start_time": "2023-03-17T07:37:34.248Z"
   },
   {
    "duration": 1098,
    "start_time": "2023-03-17T07:38:44.014Z"
   },
   {
    "duration": 51,
    "start_time": "2023-03-17T07:38:45.114Z"
   },
   {
    "duration": 21,
    "start_time": "2023-03-17T07:38:45.166Z"
   },
   {
    "duration": 13,
    "start_time": "2023-03-17T07:38:45.188Z"
   },
   {
    "duration": 673,
    "start_time": "2023-03-17T07:38:45.204Z"
   },
   {
    "duration": 50,
    "start_time": "2023-03-17T07:38:45.878Z"
   },
   {
    "duration": 13,
    "start_time": "2023-03-17T07:38:45.929Z"
   },
   {
    "duration": 13,
    "start_time": "2023-03-17T07:38:45.944Z"
   },
   {
    "duration": 4,
    "start_time": "2023-03-17T07:38:45.958Z"
   },
   {
    "duration": 6,
    "start_time": "2023-03-17T07:38:45.963Z"
   },
   {
    "duration": 5,
    "start_time": "2023-03-17T07:38:45.970Z"
   },
   {
    "duration": 6,
    "start_time": "2023-03-17T07:38:45.976Z"
   },
   {
    "duration": 5,
    "start_time": "2023-03-17T07:38:45.983Z"
   },
   {
    "duration": 8,
    "start_time": "2023-03-17T07:38:45.991Z"
   },
   {
    "duration": 9,
    "start_time": "2023-03-17T07:38:46.000Z"
   },
   {
    "duration": 4,
    "start_time": "2023-03-17T07:38:46.010Z"
   },
   {
    "duration": 5,
    "start_time": "2023-03-17T07:38:46.040Z"
   },
   {
    "duration": 12,
    "start_time": "2023-03-17T07:38:46.046Z"
   },
   {
    "duration": 17,
    "start_time": "2023-03-17T07:38:46.059Z"
   },
   {
    "duration": 18,
    "start_time": "2023-03-17T07:38:46.077Z"
   },
   {
    "duration": 15,
    "start_time": "2023-03-17T07:38:46.096Z"
   },
   {
    "duration": 301,
    "start_time": "2023-03-17T07:38:46.139Z"
   },
   {
    "duration": 278,
    "start_time": "2023-03-17T07:38:46.442Z"
   },
   {
    "duration": 234,
    "start_time": "2023-03-17T07:38:46.722Z"
   },
   {
    "duration": 165,
    "start_time": "2023-03-17T07:38:46.957Z"
   },
   {
    "duration": 166,
    "start_time": "2023-03-17T07:38:47.123Z"
   },
   {
    "duration": 159,
    "start_time": "2023-03-17T07:38:47.291Z"
   },
   {
    "duration": 174,
    "start_time": "2023-03-17T07:38:47.452Z"
   },
   {
    "duration": 167,
    "start_time": "2023-03-17T07:38:47.627Z"
   },
   {
    "duration": 6,
    "start_time": "2023-03-17T07:38:47.796Z"
   },
   {
    "duration": 16,
    "start_time": "2023-03-17T07:38:47.803Z"
   },
   {
    "duration": 151,
    "start_time": "2023-03-17T07:38:47.820Z"
   },
   {
    "duration": 4,
    "start_time": "2023-03-17T07:38:47.972Z"
   },
   {
    "duration": 195,
    "start_time": "2023-03-17T07:38:47.978Z"
   },
   {
    "duration": 6,
    "start_time": "2023-03-17T07:38:48.174Z"
   },
   {
    "duration": 279,
    "start_time": "2023-03-17T07:38:48.181Z"
   },
   {
    "duration": 6,
    "start_time": "2023-03-17T07:38:48.462Z"
   },
   {
    "duration": 5,
    "start_time": "2023-03-17T07:38:48.469Z"
   },
   {
    "duration": 246,
    "start_time": "2023-03-17T07:38:48.476Z"
   },
   {
    "duration": 6,
    "start_time": "2023-03-17T07:38:48.723Z"
   },
   {
    "duration": 5,
    "start_time": "2023-03-17T07:38:48.742Z"
   },
   {
    "duration": 310,
    "start_time": "2023-03-17T07:38:48.749Z"
   },
   {
    "duration": 7,
    "start_time": "2023-03-17T07:38:49.061Z"
   },
   {
    "duration": 13,
    "start_time": "2023-03-17T07:38:49.069Z"
   },
   {
    "duration": 237,
    "start_time": "2023-03-17T07:38:49.083Z"
   },
   {
    "duration": 18,
    "start_time": "2023-03-17T07:38:49.322Z"
   },
   {
    "duration": 5,
    "start_time": "2023-03-17T07:38:49.341Z"
   },
   {
    "duration": 258,
    "start_time": "2023-03-17T07:38:49.348Z"
   },
   {
    "duration": 6,
    "start_time": "2023-03-17T07:38:49.608Z"
   },
   {
    "duration": 161,
    "start_time": "2023-03-17T07:38:49.615Z"
   },
   {
    "duration": 136,
    "start_time": "2023-03-17T07:38:49.777Z"
   },
   {
    "duration": 141,
    "start_time": "2023-03-17T07:38:49.914Z"
   },
   {
    "duration": 134,
    "start_time": "2023-03-17T07:38:50.056Z"
   },
   {
    "duration": 137,
    "start_time": "2023-03-17T07:38:50.192Z"
   },
   {
    "duration": 152,
    "start_time": "2023-03-17T07:38:50.331Z"
   },
   {
    "duration": 139,
    "start_time": "2023-03-17T07:38:50.485Z"
   },
   {
    "duration": 135,
    "start_time": "2023-03-17T07:38:50.626Z"
   },
   {
    "duration": 142,
    "start_time": "2023-03-17T07:38:50.763Z"
   },
   {
    "duration": 124,
    "start_time": "2023-03-17T07:38:50.907Z"
   },
   {
    "duration": 15,
    "start_time": "2023-03-17T07:38:51.040Z"
   },
   {
    "duration": 8,
    "start_time": "2023-03-17T07:38:51.057Z"
   },
   {
    "duration": 15,
    "start_time": "2023-03-17T07:38:51.067Z"
   },
   {
    "duration": 27,
    "start_time": "2023-03-17T07:38:51.083Z"
   },
   {
    "duration": 15,
    "start_time": "2023-03-17T07:38:51.111Z"
   },
   {
    "duration": 8,
    "start_time": "2023-03-17T07:38:51.128Z"
   },
   {
    "duration": 8,
    "start_time": "2023-03-17T07:38:51.140Z"
   },
   {
    "duration": 4,
    "start_time": "2023-03-17T07:38:51.150Z"
   },
   {
    "duration": 9,
    "start_time": "2023-03-17T07:55:08.426Z"
   },
   {
    "duration": 13,
    "start_time": "2023-03-17T07:55:20.588Z"
   },
   {
    "duration": 13,
    "start_time": "2023-03-17T07:55:41.107Z"
   },
   {
    "duration": 11,
    "start_time": "2023-03-17T07:57:02.866Z"
   },
   {
    "duration": 12,
    "start_time": "2023-03-17T07:57:22.606Z"
   },
   {
    "duration": 15,
    "start_time": "2023-03-17T07:59:32.517Z"
   },
   {
    "duration": 890,
    "start_time": "2023-03-17T08:00:49.196Z"
   },
   {
    "duration": 231,
    "start_time": "2023-03-17T08:01:03.732Z"
   },
   {
    "duration": 7,
    "start_time": "2023-03-17T08:09:10.854Z"
   },
   {
    "duration": 8,
    "start_time": "2023-03-17T08:09:19.930Z"
   },
   {
    "duration": 53,
    "start_time": "2023-03-17T08:10:06.666Z"
   },
   {
    "duration": 9,
    "start_time": "2023-03-17T08:13:34.405Z"
   },
   {
    "duration": 3,
    "start_time": "2023-03-17T08:15:09.726Z"
   },
   {
    "duration": 1121,
    "start_time": "2023-03-17T08:15:17.355Z"
   },
   {
    "duration": 55,
    "start_time": "2023-03-17T08:15:18.478Z"
   },
   {
    "duration": 23,
    "start_time": "2023-03-17T08:15:18.535Z"
   },
   {
    "duration": 13,
    "start_time": "2023-03-17T08:15:18.559Z"
   },
   {
    "duration": 693,
    "start_time": "2023-03-17T08:15:18.573Z"
   },
   {
    "duration": 51,
    "start_time": "2023-03-17T08:15:19.267Z"
   },
   {
    "duration": 5,
    "start_time": "2023-03-17T08:15:19.319Z"
   },
   {
    "duration": 21,
    "start_time": "2023-03-17T08:15:19.325Z"
   },
   {
    "duration": 4,
    "start_time": "2023-03-17T08:15:19.347Z"
   },
   {
    "duration": 5,
    "start_time": "2023-03-17T08:15:19.353Z"
   },
   {
    "duration": 5,
    "start_time": "2023-03-17T08:15:19.360Z"
   },
   {
    "duration": 5,
    "start_time": "2023-03-17T08:15:19.366Z"
   },
   {
    "duration": 5,
    "start_time": "2023-03-17T08:15:19.373Z"
   },
   {
    "duration": 6,
    "start_time": "2023-03-17T08:15:19.379Z"
   },
   {
    "duration": 6,
    "start_time": "2023-03-17T08:15:19.386Z"
   },
   {
    "duration": 4,
    "start_time": "2023-03-17T08:15:19.393Z"
   },
   {
    "duration": 43,
    "start_time": "2023-03-17T08:15:19.398Z"
   },
   {
    "duration": 12,
    "start_time": "2023-03-17T08:15:19.443Z"
   },
   {
    "duration": 17,
    "start_time": "2023-03-17T08:15:19.457Z"
   },
   {
    "duration": 20,
    "start_time": "2023-03-17T08:15:19.475Z"
   },
   {
    "duration": 13,
    "start_time": "2023-03-17T08:15:19.497Z"
   },
   {
    "duration": 270,
    "start_time": "2023-03-17T08:15:19.540Z"
   },
   {
    "duration": 253,
    "start_time": "2023-03-17T08:15:19.812Z"
   },
   {
    "duration": 228,
    "start_time": "2023-03-17T08:15:20.067Z"
   },
   {
    "duration": 172,
    "start_time": "2023-03-17T08:15:20.296Z"
   },
   {
    "duration": 175,
    "start_time": "2023-03-17T08:15:20.469Z"
   },
   {
    "duration": 164,
    "start_time": "2023-03-17T08:15:20.646Z"
   },
   {
    "duration": 178,
    "start_time": "2023-03-17T08:15:20.814Z"
   },
   {
    "duration": 160,
    "start_time": "2023-03-17T08:15:20.993Z"
   },
   {
    "duration": 5,
    "start_time": "2023-03-17T08:15:21.155Z"
   },
   {
    "duration": 14,
    "start_time": "2023-03-17T08:15:21.161Z"
   },
   {
    "duration": 154,
    "start_time": "2023-03-17T08:15:21.176Z"
   },
   {
    "duration": 10,
    "start_time": "2023-03-17T08:15:21.331Z"
   },
   {
    "duration": 199,
    "start_time": "2023-03-17T08:15:21.343Z"
   },
   {
    "duration": 6,
    "start_time": "2023-03-17T08:15:21.544Z"
   },
   {
    "duration": 270,
    "start_time": "2023-03-17T08:15:21.551Z"
   },
   {
    "duration": 5,
    "start_time": "2023-03-17T08:15:21.822Z"
   },
   {
    "duration": 15,
    "start_time": "2023-03-17T08:15:21.828Z"
   },
   {
    "duration": 230,
    "start_time": "2023-03-17T08:15:21.844Z"
   },
   {
    "duration": 5,
    "start_time": "2023-03-17T08:15:22.075Z"
   },
   {
    "duration": 6,
    "start_time": "2023-03-17T08:15:22.082Z"
   },
   {
    "duration": 321,
    "start_time": "2023-03-17T08:15:22.090Z"
   },
   {
    "duration": 5,
    "start_time": "2023-03-17T08:15:22.412Z"
   },
   {
    "duration": 5,
    "start_time": "2023-03-17T08:15:22.419Z"
   },
   {
    "duration": 245,
    "start_time": "2023-03-17T08:15:22.425Z"
   },
   {
    "duration": 5,
    "start_time": "2023-03-17T08:15:22.671Z"
   },
   {
    "duration": 6,
    "start_time": "2023-03-17T08:15:22.677Z"
   },
   {
    "duration": 264,
    "start_time": "2023-03-17T08:15:22.684Z"
   },
   {
    "duration": 5,
    "start_time": "2023-03-17T08:15:22.950Z"
   },
   {
    "duration": 179,
    "start_time": "2023-03-17T08:15:22.956Z"
   },
   {
    "duration": 142,
    "start_time": "2023-03-17T08:15:23.139Z"
   },
   {
    "duration": 140,
    "start_time": "2023-03-17T08:15:23.282Z"
   },
   {
    "duration": 129,
    "start_time": "2023-03-17T08:15:23.424Z"
   },
   {
    "duration": 138,
    "start_time": "2023-03-17T08:15:23.554Z"
   },
   {
    "duration": 152,
    "start_time": "2023-03-17T08:15:23.693Z"
   },
   {
    "duration": 147,
    "start_time": "2023-03-17T08:15:23.847Z"
   },
   {
    "duration": 126,
    "start_time": "2023-03-17T08:15:23.995Z"
   },
   {
    "duration": 139,
    "start_time": "2023-03-17T08:15:24.123Z"
   },
   {
    "duration": 132,
    "start_time": "2023-03-17T08:15:24.263Z"
   },
   {
    "duration": 15,
    "start_time": "2023-03-17T08:15:24.397Z"
   },
   {
    "duration": 9,
    "start_time": "2023-03-17T08:15:24.414Z"
   },
   {
    "duration": 23,
    "start_time": "2023-03-17T08:15:24.424Z"
   },
   {
    "duration": 7,
    "start_time": "2023-03-17T08:15:24.448Z"
   },
   {
    "duration": 15,
    "start_time": "2023-03-17T08:15:24.456Z"
   },
   {
    "duration": 8,
    "start_time": "2023-03-17T08:15:24.472Z"
   },
   {
    "duration": 12,
    "start_time": "2023-03-17T08:15:24.482Z"
   },
   {
    "duration": 5,
    "start_time": "2023-03-17T08:15:24.496Z"
   },
   {
    "duration": 4,
    "start_time": "2023-03-17T08:17:39.621Z"
   },
   {
    "duration": 1173,
    "start_time": "2023-03-17T08:17:45.740Z"
   },
   {
    "duration": 67,
    "start_time": "2023-03-17T08:17:46.915Z"
   },
   {
    "duration": 30,
    "start_time": "2023-03-17T08:17:46.984Z"
   },
   {
    "duration": 24,
    "start_time": "2023-03-17T08:17:47.017Z"
   },
   {
    "duration": 783,
    "start_time": "2023-03-17T08:17:47.043Z"
   },
   {
    "duration": 55,
    "start_time": "2023-03-17T08:17:47.827Z"
   },
   {
    "duration": 4,
    "start_time": "2023-03-17T08:17:47.884Z"
   },
   {
    "duration": 3,
    "start_time": "2023-03-17T08:17:47.890Z"
   },
   {
    "duration": 21,
    "start_time": "2023-03-17T08:17:47.895Z"
   },
   {
    "duration": 5,
    "start_time": "2023-03-17T08:17:47.919Z"
   },
   {
    "duration": 15,
    "start_time": "2023-03-17T08:17:47.926Z"
   },
   {
    "duration": 4,
    "start_time": "2023-03-17T08:17:47.942Z"
   },
   {
    "duration": 5,
    "start_time": "2023-03-17T08:17:47.948Z"
   },
   {
    "duration": 5,
    "start_time": "2023-03-17T08:17:47.955Z"
   },
   {
    "duration": 6,
    "start_time": "2023-03-17T08:17:47.961Z"
   },
   {
    "duration": 5,
    "start_time": "2023-03-17T08:17:47.969Z"
   },
   {
    "duration": 5,
    "start_time": "2023-03-17T08:17:47.975Z"
   },
   {
    "duration": 5,
    "start_time": "2023-03-17T08:17:47.981Z"
   },
   {
    "duration": 18,
    "start_time": "2023-03-17T08:17:47.987Z"
   },
   {
    "duration": 50,
    "start_time": "2023-03-17T08:17:48.006Z"
   },
   {
    "duration": 20,
    "start_time": "2023-03-17T08:17:48.057Z"
   },
   {
    "duration": 15,
    "start_time": "2023-03-17T08:17:48.078Z"
   },
   {
    "duration": 308,
    "start_time": "2023-03-17T08:17:48.094Z"
   },
   {
    "duration": 259,
    "start_time": "2023-03-17T08:17:48.404Z"
   },
   {
    "duration": 231,
    "start_time": "2023-03-17T08:17:48.665Z"
   },
   {
    "duration": 174,
    "start_time": "2023-03-17T08:17:48.898Z"
   },
   {
    "duration": 171,
    "start_time": "2023-03-17T08:17:49.074Z"
   },
   {
    "duration": 191,
    "start_time": "2023-03-17T08:17:49.250Z"
   },
   {
    "duration": 202,
    "start_time": "2023-03-17T08:17:49.443Z"
   },
   {
    "duration": 161,
    "start_time": "2023-03-17T08:17:49.646Z"
   },
   {
    "duration": 4,
    "start_time": "2023-03-17T08:17:49.809Z"
   },
   {
    "duration": 25,
    "start_time": "2023-03-17T08:17:49.815Z"
   },
   {
    "duration": 147,
    "start_time": "2023-03-17T08:17:49.841Z"
   },
   {
    "duration": 4,
    "start_time": "2023-03-17T08:17:49.989Z"
   },
   {
    "duration": 198,
    "start_time": "2023-03-17T08:17:49.994Z"
   },
   {
    "duration": 8,
    "start_time": "2023-03-17T08:17:50.194Z"
   },
   {
    "duration": 295,
    "start_time": "2023-03-17T08:17:50.204Z"
   },
   {
    "duration": 5,
    "start_time": "2023-03-17T08:17:50.500Z"
   },
   {
    "duration": 18,
    "start_time": "2023-03-17T08:17:50.506Z"
   },
   {
    "duration": 234,
    "start_time": "2023-03-17T08:17:50.526Z"
   },
   {
    "duration": 5,
    "start_time": "2023-03-17T08:17:50.762Z"
   },
   {
    "duration": 32,
    "start_time": "2023-03-17T08:17:50.768Z"
   },
   {
    "duration": 318,
    "start_time": "2023-03-17T08:17:50.802Z"
   },
   {
    "duration": 5,
    "start_time": "2023-03-17T08:17:51.122Z"
   },
   {
    "duration": 17,
    "start_time": "2023-03-17T08:17:51.128Z"
   },
   {
    "duration": 240,
    "start_time": "2023-03-17T08:17:51.147Z"
   },
   {
    "duration": 5,
    "start_time": "2023-03-17T08:17:51.388Z"
   },
   {
    "duration": 30,
    "start_time": "2023-03-17T08:17:51.394Z"
   },
   {
    "duration": 276,
    "start_time": "2023-03-17T08:17:51.425Z"
   },
   {
    "duration": 5,
    "start_time": "2023-03-17T08:17:51.703Z"
   },
   {
    "duration": 197,
    "start_time": "2023-03-17T08:17:51.710Z"
   },
   {
    "duration": 148,
    "start_time": "2023-03-17T08:17:51.909Z"
   },
   {
    "duration": 159,
    "start_time": "2023-03-17T08:17:52.058Z"
   },
   {
    "duration": 140,
    "start_time": "2023-03-17T08:17:52.219Z"
   },
   {
    "duration": 143,
    "start_time": "2023-03-17T08:17:52.361Z"
   },
   {
    "duration": 160,
    "start_time": "2023-03-17T08:17:52.505Z"
   },
   {
    "duration": 143,
    "start_time": "2023-03-17T08:17:52.667Z"
   },
   {
    "duration": 132,
    "start_time": "2023-03-17T08:17:52.812Z"
   },
   {
    "duration": 175,
    "start_time": "2023-03-17T08:17:52.946Z"
   },
   {
    "duration": 159,
    "start_time": "2023-03-17T08:17:53.123Z"
   },
   {
    "duration": 19,
    "start_time": "2023-03-17T08:17:53.284Z"
   },
   {
    "duration": 10,
    "start_time": "2023-03-17T08:17:53.304Z"
   },
   {
    "duration": 29,
    "start_time": "2023-03-17T08:17:53.315Z"
   },
   {
    "duration": 7,
    "start_time": "2023-03-17T08:17:53.346Z"
   },
   {
    "duration": 19,
    "start_time": "2023-03-17T08:17:53.355Z"
   },
   {
    "duration": 10,
    "start_time": "2023-03-17T08:17:53.376Z"
   },
   {
    "duration": 26,
    "start_time": "2023-03-17T08:17:53.387Z"
   },
   {
    "duration": 12,
    "start_time": "2023-03-17T08:17:53.414Z"
   },
   {
    "duration": 14,
    "start_time": "2023-03-17T08:21:35.902Z"
   },
   {
    "duration": 1039,
    "start_time": "2023-03-17T08:23:48.680Z"
   },
   {
    "duration": 51,
    "start_time": "2023-03-17T08:23:49.721Z"
   },
   {
    "duration": 21,
    "start_time": "2023-03-17T08:23:49.774Z"
   },
   {
    "duration": 13,
    "start_time": "2023-03-17T08:23:49.797Z"
   },
   {
    "duration": 697,
    "start_time": "2023-03-17T08:23:49.811Z"
   },
   {
    "duration": 61,
    "start_time": "2023-03-17T08:23:50.509Z"
   },
   {
    "duration": 3,
    "start_time": "2023-03-17T08:23:50.572Z"
   },
   {
    "duration": 19,
    "start_time": "2023-03-17T08:23:50.576Z"
   },
   {
    "duration": 17,
    "start_time": "2023-03-17T08:23:50.596Z"
   },
   {
    "duration": 8,
    "start_time": "2023-03-17T08:23:50.616Z"
   },
   {
    "duration": 10,
    "start_time": "2023-03-17T08:23:50.626Z"
   },
   {
    "duration": 12,
    "start_time": "2023-03-17T08:23:50.638Z"
   },
   {
    "duration": 12,
    "start_time": "2023-03-17T08:23:50.651Z"
   },
   {
    "duration": 9,
    "start_time": "2023-03-17T08:23:50.665Z"
   },
   {
    "duration": 11,
    "start_time": "2023-03-17T08:23:50.675Z"
   },
   {
    "duration": 9,
    "start_time": "2023-03-17T08:23:50.687Z"
   },
   {
    "duration": 8,
    "start_time": "2023-03-17T08:23:50.698Z"
   },
   {
    "duration": 26,
    "start_time": "2023-03-17T08:23:50.707Z"
   },
   {
    "duration": 16,
    "start_time": "2023-03-17T08:23:50.734Z"
   },
   {
    "duration": 18,
    "start_time": "2023-03-17T08:23:50.752Z"
   },
   {
    "duration": 13,
    "start_time": "2023-03-17T08:23:50.772Z"
   },
   {
    "duration": 305,
    "start_time": "2023-03-17T08:23:50.786Z"
   },
   {
    "duration": 250,
    "start_time": "2023-03-17T08:23:51.092Z"
   },
   {
    "duration": 222,
    "start_time": "2023-03-17T08:23:51.344Z"
   },
   {
    "duration": 166,
    "start_time": "2023-03-17T08:23:51.568Z"
   },
   {
    "duration": 161,
    "start_time": "2023-03-17T08:23:51.735Z"
   },
   {
    "duration": 162,
    "start_time": "2023-03-17T08:23:51.897Z"
   },
   {
    "duration": 161,
    "start_time": "2023-03-17T08:23:52.063Z"
   },
   {
    "duration": 158,
    "start_time": "2023-03-17T08:23:52.225Z"
   },
   {
    "duration": 4,
    "start_time": "2023-03-17T08:23:52.385Z"
   },
   {
    "duration": 18,
    "start_time": "2023-03-17T08:23:52.391Z"
   },
   {
    "duration": 153,
    "start_time": "2023-03-17T08:23:52.411Z"
   },
   {
    "duration": 4,
    "start_time": "2023-03-17T08:23:52.565Z"
   },
   {
    "duration": 193,
    "start_time": "2023-03-17T08:23:52.570Z"
   },
   {
    "duration": 6,
    "start_time": "2023-03-17T08:23:52.764Z"
   },
   {
    "duration": 272,
    "start_time": "2023-03-17T08:23:52.771Z"
   },
   {
    "duration": 5,
    "start_time": "2023-03-17T08:23:53.045Z"
   },
   {
    "duration": 22,
    "start_time": "2023-03-17T08:23:53.052Z"
   },
   {
    "duration": 232,
    "start_time": "2023-03-17T08:23:53.075Z"
   },
   {
    "duration": 6,
    "start_time": "2023-03-17T08:23:53.308Z"
   },
   {
    "duration": 8,
    "start_time": "2023-03-17T08:23:53.315Z"
   },
   {
    "duration": 331,
    "start_time": "2023-03-17T08:23:53.324Z"
   },
   {
    "duration": 5,
    "start_time": "2023-03-17T08:23:53.657Z"
   },
   {
    "duration": 26,
    "start_time": "2023-03-17T08:23:53.663Z"
   },
   {
    "duration": 256,
    "start_time": "2023-03-17T08:23:53.691Z"
   },
   {
    "duration": 5,
    "start_time": "2023-03-17T08:23:53.949Z"
   },
   {
    "duration": 6,
    "start_time": "2023-03-17T08:23:53.955Z"
   },
   {
    "duration": 269,
    "start_time": "2023-03-17T08:23:53.962Z"
   },
   {
    "duration": 9,
    "start_time": "2023-03-17T08:23:54.233Z"
   },
   {
    "duration": 170,
    "start_time": "2023-03-17T08:23:54.244Z"
   },
   {
    "duration": 149,
    "start_time": "2023-03-17T08:23:54.416Z"
   },
   {
    "duration": 145,
    "start_time": "2023-03-17T08:23:54.567Z"
   },
   {
    "duration": 130,
    "start_time": "2023-03-17T08:23:54.714Z"
   },
   {
    "duration": 144,
    "start_time": "2023-03-17T08:23:54.846Z"
   },
   {
    "duration": 153,
    "start_time": "2023-03-17T08:23:54.992Z"
   },
   {
    "duration": 143,
    "start_time": "2023-03-17T08:23:55.146Z"
   },
   {
    "duration": 128,
    "start_time": "2023-03-17T08:23:55.291Z"
   },
   {
    "duration": 136,
    "start_time": "2023-03-17T08:23:55.421Z"
   },
   {
    "duration": 129,
    "start_time": "2023-03-17T08:23:55.559Z"
   },
   {
    "duration": 14,
    "start_time": "2023-03-17T08:23:55.690Z"
   },
   {
    "duration": 8,
    "start_time": "2023-03-17T08:23:55.706Z"
   },
   {
    "duration": 26,
    "start_time": "2023-03-17T08:23:55.715Z"
   },
   {
    "duration": 26,
    "start_time": "2023-03-17T08:23:55.742Z"
   },
   {
    "duration": 20,
    "start_time": "2023-03-17T08:23:55.769Z"
   },
   {
    "duration": 7,
    "start_time": "2023-03-17T08:23:55.791Z"
   },
   {
    "duration": 9,
    "start_time": "2023-03-17T08:23:55.800Z"
   },
   {
    "duration": 7,
    "start_time": "2023-03-17T08:23:55.810Z"
   },
   {
    "duration": 368,
    "start_time": "2023-03-17T08:30:35.364Z"
   },
   {
    "duration": 156,
    "start_time": "2023-03-17T08:47:17.287Z"
   },
   {
    "duration": 1073,
    "start_time": "2023-03-17T09:07:29.337Z"
   },
   {
    "duration": 50,
    "start_time": "2023-03-17T09:07:30.412Z"
   },
   {
    "duration": 20,
    "start_time": "2023-03-17T09:07:30.464Z"
   },
   {
    "duration": 16,
    "start_time": "2023-03-17T09:07:30.485Z"
   },
   {
    "duration": 723,
    "start_time": "2023-03-17T09:07:30.503Z"
   },
   {
    "duration": 51,
    "start_time": "2023-03-17T09:07:31.228Z"
   },
   {
    "duration": 3,
    "start_time": "2023-03-17T09:07:31.280Z"
   },
   {
    "duration": 46,
    "start_time": "2023-03-17T09:07:31.284Z"
   },
   {
    "duration": 28,
    "start_time": "2023-03-17T09:07:31.331Z"
   },
   {
    "duration": 31,
    "start_time": "2023-03-17T09:07:31.360Z"
   },
   {
    "duration": 30,
    "start_time": "2023-03-17T09:07:31.392Z"
   },
   {
    "duration": 43,
    "start_time": "2023-03-17T09:07:31.423Z"
   },
   {
    "duration": 61,
    "start_time": "2023-03-17T09:07:31.468Z"
   },
   {
    "duration": 43,
    "start_time": "2023-03-17T09:07:31.532Z"
   },
   {
    "duration": 23,
    "start_time": "2023-03-17T09:07:31.576Z"
   },
   {
    "duration": 23,
    "start_time": "2023-03-17T09:07:31.601Z"
   },
   {
    "duration": 64,
    "start_time": "2023-03-17T09:07:31.625Z"
   },
   {
    "duration": 58,
    "start_time": "2023-03-17T09:07:31.690Z"
   },
   {
    "duration": 39,
    "start_time": "2023-03-17T09:07:31.749Z"
   },
   {
    "duration": 20,
    "start_time": "2023-03-17T09:07:31.789Z"
   },
   {
    "duration": 20,
    "start_time": "2023-03-17T09:07:31.811Z"
   },
   {
    "duration": 311,
    "start_time": "2023-03-17T09:07:31.833Z"
   },
   {
    "duration": 239,
    "start_time": "2023-03-17T09:07:32.145Z"
   },
   {
    "duration": 223,
    "start_time": "2023-03-17T09:07:32.385Z"
   },
   {
    "duration": 164,
    "start_time": "2023-03-17T09:07:32.610Z"
   },
   {
    "duration": 172,
    "start_time": "2023-03-17T09:07:32.776Z"
   },
   {
    "duration": 164,
    "start_time": "2023-03-17T09:07:32.950Z"
   },
   {
    "duration": 160,
    "start_time": "2023-03-17T09:07:33.115Z"
   },
   {
    "duration": 156,
    "start_time": "2023-03-17T09:07:33.277Z"
   },
   {
    "duration": 5,
    "start_time": "2023-03-17T09:07:33.439Z"
   },
   {
    "duration": 18,
    "start_time": "2023-03-17T09:07:33.445Z"
   },
   {
    "duration": 138,
    "start_time": "2023-03-17T09:07:33.465Z"
   },
   {
    "duration": 5,
    "start_time": "2023-03-17T09:07:33.604Z"
   },
   {
    "duration": 189,
    "start_time": "2023-03-17T09:07:33.610Z"
   },
   {
    "duration": 5,
    "start_time": "2023-03-17T09:07:33.800Z"
   },
   {
    "duration": 271,
    "start_time": "2023-03-17T09:07:33.807Z"
   },
   {
    "duration": 5,
    "start_time": "2023-03-17T09:07:34.079Z"
   },
   {
    "duration": 7,
    "start_time": "2023-03-17T09:07:34.086Z"
   },
   {
    "duration": 225,
    "start_time": "2023-03-17T09:07:34.094Z"
   },
   {
    "duration": 5,
    "start_time": "2023-03-17T09:07:34.320Z"
   },
   {
    "duration": 5,
    "start_time": "2023-03-17T09:07:34.339Z"
   },
   {
    "duration": 311,
    "start_time": "2023-03-17T09:07:34.345Z"
   },
   {
    "duration": 5,
    "start_time": "2023-03-17T09:07:34.658Z"
   },
   {
    "duration": 16,
    "start_time": "2023-03-17T09:07:34.664Z"
   },
   {
    "duration": 221,
    "start_time": "2023-03-17T09:07:34.681Z"
   },
   {
    "duration": 4,
    "start_time": "2023-03-17T09:07:34.903Z"
   },
   {
    "duration": 20,
    "start_time": "2023-03-17T09:07:34.908Z"
   },
   {
    "duration": 259,
    "start_time": "2023-03-17T09:07:34.930Z"
   },
   {
    "duration": 5,
    "start_time": "2023-03-17T09:07:35.190Z"
   },
   {
    "duration": 178,
    "start_time": "2023-03-17T09:07:35.197Z"
   },
   {
    "duration": 128,
    "start_time": "2023-03-17T09:07:35.377Z"
   },
   {
    "duration": 140,
    "start_time": "2023-03-17T09:07:35.506Z"
   },
   {
    "duration": 119,
    "start_time": "2023-03-17T09:07:35.648Z"
   },
   {
    "duration": 137,
    "start_time": "2023-03-17T09:07:35.768Z"
   },
   {
    "duration": 137,
    "start_time": "2023-03-17T09:07:35.906Z"
   },
   {
    "duration": 138,
    "start_time": "2023-03-17T09:07:36.045Z"
   },
   {
    "duration": 144,
    "start_time": "2023-03-17T09:07:36.185Z"
   },
   {
    "duration": 133,
    "start_time": "2023-03-17T09:07:36.330Z"
   },
   {
    "duration": 152,
    "start_time": "2023-03-17T09:07:36.464Z"
   },
   {
    "duration": 29,
    "start_time": "2023-03-17T09:07:36.618Z"
   },
   {
    "duration": 15,
    "start_time": "2023-03-17T09:07:36.648Z"
   },
   {
    "duration": 11,
    "start_time": "2023-03-17T09:07:36.665Z"
   },
   {
    "duration": 9,
    "start_time": "2023-03-17T09:07:36.678Z"
   },
   {
    "duration": 19,
    "start_time": "2023-03-17T09:07:36.688Z"
   },
   {
    "duration": 31,
    "start_time": "2023-03-17T09:07:36.709Z"
   },
   {
    "duration": 11,
    "start_time": "2023-03-17T09:07:36.742Z"
   },
   {
    "duration": 11,
    "start_time": "2023-03-17T09:07:36.755Z"
   }
  ],
  "kernelspec": {
   "display_name": "Python 3 (ipykernel)",
   "language": "python",
   "name": "python3"
  },
  "language_info": {
   "codemirror_mode": {
    "name": "ipython",
    "version": 3
   },
   "file_extension": ".py",
   "mimetype": "text/x-python",
   "name": "python",
   "nbconvert_exporter": "python",
   "pygments_lexer": "ipython3",
   "version": "3.11.5"
  },
  "toc": {
   "base_numbering": 1,
   "nav_menu": {},
   "number_sections": true,
   "sideBar": true,
   "skip_h1_title": true,
   "title_cell": "Table of Contents",
   "title_sidebar": "Contents",
   "toc_cell": false,
   "toc_position": {},
   "toc_section_display": true,
   "toc_window_display": false
  }
 },
 "nbformat": 4,
 "nbformat_minor": 2
}
