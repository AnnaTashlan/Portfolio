{
 "cells": [
  {
   "cell_type": "markdown",
   "metadata": {},
   "source": [
    "# Исследование объявлений о продаже квартир\n",
    "\n",
    "### Описание проекта\n",
    "Цель - найти интересные особенности и зависимости, которые существуют на рынке недвижимости Санкт-Петербурга. \n",
    "Для заказчика важно научиться определять рыночную стоимость объектов недвижимости. Наша задача - установить параметры. Это позволит заказчику построить автоматизированную систему: она отследит аномалии и мошенническую деятельность. \n",
    "По каждой квартире на продажу доступны два вида данных. Первые вписаны пользователем, вторые — получены автоматически на основе картографических данных. Например, расстояние до центра, аэропорта, ближайшего парка и водоёма. \n",
    "\n",
    "<a id='top'></a>\n",
    "### План работы\n",
    "1. [Обзор данных.](#section1)\n",
    "2. [Предобработка данных.](#section2)\n",
    "3. [Исследовательский анализ данных.](#section3)\n",
    "4. [Выводы](#section4)"
   ]
  },
  {
   "cell_type": "markdown",
   "metadata": {},
   "source": [
    "<a id='section1'></a>\n",
    "### Откроем файл с данными и изучим общую информацию. "
   ]
  },
  {
   "cell_type": "code",
   "execution_count": 1,
   "metadata": {},
   "outputs": [],
   "source": [
    "import matplotlib.pyplot as plt\n",
    "import pandas as pd"
   ]
  },
  {
   "cell_type": "code",
   "execution_count": 2,
   "metadata": {},
   "outputs": [],
   "source": [
    "data = pd.read_csv('/datasets/real_estate_data.csv', sep='\\t')"
   ]
  },
  {
   "cell_type": "code",
   "execution_count": 3,
   "metadata": {},
   "outputs": [
    {
     "data": {
      "text/html": [
       "<div>\n",
       "<style scoped>\n",
       "    .dataframe tbody tr th:only-of-type {\n",
       "        vertical-align: middle;\n",
       "    }\n",
       "\n",
       "    .dataframe tbody tr th {\n",
       "        vertical-align: top;\n",
       "    }\n",
       "\n",
       "    .dataframe thead th {\n",
       "        text-align: right;\n",
       "    }\n",
       "</style>\n",
       "<table border=\"1\" class=\"dataframe\">\n",
       "  <thead>\n",
       "    <tr style=\"text-align: right;\">\n",
       "      <th></th>\n",
       "      <th>total_images</th>\n",
       "      <th>last_price</th>\n",
       "      <th>total_area</th>\n",
       "      <th>first_day_exposition</th>\n",
       "      <th>rooms</th>\n",
       "      <th>ceiling_height</th>\n",
       "      <th>floors_total</th>\n",
       "      <th>living_area</th>\n",
       "      <th>floor</th>\n",
       "      <th>is_apartment</th>\n",
       "      <th>...</th>\n",
       "      <th>kitchen_area</th>\n",
       "      <th>balcony</th>\n",
       "      <th>locality_name</th>\n",
       "      <th>airports_nearest</th>\n",
       "      <th>cityCenters_nearest</th>\n",
       "      <th>parks_around3000</th>\n",
       "      <th>parks_nearest</th>\n",
       "      <th>ponds_around3000</th>\n",
       "      <th>ponds_nearest</th>\n",
       "      <th>days_exposition</th>\n",
       "    </tr>\n",
       "  </thead>\n",
       "  <tbody>\n",
       "    <tr>\n",
       "      <th>0</th>\n",
       "      <td>20</td>\n",
       "      <td>13000000.0</td>\n",
       "      <td>108.00</td>\n",
       "      <td>2019-03-07T00:00:00</td>\n",
       "      <td>3</td>\n",
       "      <td>2.70</td>\n",
       "      <td>16.0</td>\n",
       "      <td>51.00</td>\n",
       "      <td>8</td>\n",
       "      <td>NaN</td>\n",
       "      <td>...</td>\n",
       "      <td>25.00</td>\n",
       "      <td>NaN</td>\n",
       "      <td>Санкт-Петербург</td>\n",
       "      <td>18863.0</td>\n",
       "      <td>16028.0</td>\n",
       "      <td>1.0</td>\n",
       "      <td>482.0</td>\n",
       "      <td>2.0</td>\n",
       "      <td>755.0</td>\n",
       "      <td>NaN</td>\n",
       "    </tr>\n",
       "    <tr>\n",
       "      <th>1</th>\n",
       "      <td>7</td>\n",
       "      <td>3350000.0</td>\n",
       "      <td>40.40</td>\n",
       "      <td>2018-12-04T00:00:00</td>\n",
       "      <td>1</td>\n",
       "      <td>NaN</td>\n",
       "      <td>11.0</td>\n",
       "      <td>18.60</td>\n",
       "      <td>1</td>\n",
       "      <td>NaN</td>\n",
       "      <td>...</td>\n",
       "      <td>11.00</td>\n",
       "      <td>2.0</td>\n",
       "      <td>посёлок Шушары</td>\n",
       "      <td>12817.0</td>\n",
       "      <td>18603.0</td>\n",
       "      <td>0.0</td>\n",
       "      <td>NaN</td>\n",
       "      <td>0.0</td>\n",
       "      <td>NaN</td>\n",
       "      <td>81.0</td>\n",
       "    </tr>\n",
       "    <tr>\n",
       "      <th>2</th>\n",
       "      <td>10</td>\n",
       "      <td>5196000.0</td>\n",
       "      <td>56.00</td>\n",
       "      <td>2015-08-20T00:00:00</td>\n",
       "      <td>2</td>\n",
       "      <td>NaN</td>\n",
       "      <td>5.0</td>\n",
       "      <td>34.30</td>\n",
       "      <td>4</td>\n",
       "      <td>NaN</td>\n",
       "      <td>...</td>\n",
       "      <td>8.30</td>\n",
       "      <td>0.0</td>\n",
       "      <td>Санкт-Петербург</td>\n",
       "      <td>21741.0</td>\n",
       "      <td>13933.0</td>\n",
       "      <td>1.0</td>\n",
       "      <td>90.0</td>\n",
       "      <td>2.0</td>\n",
       "      <td>574.0</td>\n",
       "      <td>558.0</td>\n",
       "    </tr>\n",
       "    <tr>\n",
       "      <th>3</th>\n",
       "      <td>0</td>\n",
       "      <td>64900000.0</td>\n",
       "      <td>159.00</td>\n",
       "      <td>2015-07-24T00:00:00</td>\n",
       "      <td>3</td>\n",
       "      <td>NaN</td>\n",
       "      <td>14.0</td>\n",
       "      <td>NaN</td>\n",
       "      <td>9</td>\n",
       "      <td>NaN</td>\n",
       "      <td>...</td>\n",
       "      <td>NaN</td>\n",
       "      <td>0.0</td>\n",
       "      <td>Санкт-Петербург</td>\n",
       "      <td>28098.0</td>\n",
       "      <td>6800.0</td>\n",
       "      <td>2.0</td>\n",
       "      <td>84.0</td>\n",
       "      <td>3.0</td>\n",
       "      <td>234.0</td>\n",
       "      <td>424.0</td>\n",
       "    </tr>\n",
       "    <tr>\n",
       "      <th>4</th>\n",
       "      <td>2</td>\n",
       "      <td>10000000.0</td>\n",
       "      <td>100.00</td>\n",
       "      <td>2018-06-19T00:00:00</td>\n",
       "      <td>2</td>\n",
       "      <td>3.03</td>\n",
       "      <td>14.0</td>\n",
       "      <td>32.00</td>\n",
       "      <td>13</td>\n",
       "      <td>NaN</td>\n",
       "      <td>...</td>\n",
       "      <td>41.00</td>\n",
       "      <td>NaN</td>\n",
       "      <td>Санкт-Петербург</td>\n",
       "      <td>31856.0</td>\n",
       "      <td>8098.0</td>\n",
       "      <td>2.0</td>\n",
       "      <td>112.0</td>\n",
       "      <td>1.0</td>\n",
       "      <td>48.0</td>\n",
       "      <td>121.0</td>\n",
       "    </tr>\n",
       "    <tr>\n",
       "      <th>5</th>\n",
       "      <td>10</td>\n",
       "      <td>2890000.0</td>\n",
       "      <td>30.40</td>\n",
       "      <td>2018-09-10T00:00:00</td>\n",
       "      <td>1</td>\n",
       "      <td>NaN</td>\n",
       "      <td>12.0</td>\n",
       "      <td>14.40</td>\n",
       "      <td>5</td>\n",
       "      <td>NaN</td>\n",
       "      <td>...</td>\n",
       "      <td>9.10</td>\n",
       "      <td>NaN</td>\n",
       "      <td>городской посёлок Янино-1</td>\n",
       "      <td>NaN</td>\n",
       "      <td>NaN</td>\n",
       "      <td>NaN</td>\n",
       "      <td>NaN</td>\n",
       "      <td>NaN</td>\n",
       "      <td>NaN</td>\n",
       "      <td>55.0</td>\n",
       "    </tr>\n",
       "    <tr>\n",
       "      <th>6</th>\n",
       "      <td>6</td>\n",
       "      <td>3700000.0</td>\n",
       "      <td>37.30</td>\n",
       "      <td>2017-11-02T00:00:00</td>\n",
       "      <td>1</td>\n",
       "      <td>NaN</td>\n",
       "      <td>26.0</td>\n",
       "      <td>10.60</td>\n",
       "      <td>6</td>\n",
       "      <td>NaN</td>\n",
       "      <td>...</td>\n",
       "      <td>14.40</td>\n",
       "      <td>1.0</td>\n",
       "      <td>посёлок Парголово</td>\n",
       "      <td>52996.0</td>\n",
       "      <td>19143.0</td>\n",
       "      <td>0.0</td>\n",
       "      <td>NaN</td>\n",
       "      <td>0.0</td>\n",
       "      <td>NaN</td>\n",
       "      <td>155.0</td>\n",
       "    </tr>\n",
       "    <tr>\n",
       "      <th>7</th>\n",
       "      <td>5</td>\n",
       "      <td>7915000.0</td>\n",
       "      <td>71.60</td>\n",
       "      <td>2019-04-18T00:00:00</td>\n",
       "      <td>2</td>\n",
       "      <td>NaN</td>\n",
       "      <td>24.0</td>\n",
       "      <td>NaN</td>\n",
       "      <td>22</td>\n",
       "      <td>NaN</td>\n",
       "      <td>...</td>\n",
       "      <td>18.90</td>\n",
       "      <td>2.0</td>\n",
       "      <td>Санкт-Петербург</td>\n",
       "      <td>23982.0</td>\n",
       "      <td>11634.0</td>\n",
       "      <td>0.0</td>\n",
       "      <td>NaN</td>\n",
       "      <td>0.0</td>\n",
       "      <td>NaN</td>\n",
       "      <td>NaN</td>\n",
       "    </tr>\n",
       "    <tr>\n",
       "      <th>8</th>\n",
       "      <td>20</td>\n",
       "      <td>2900000.0</td>\n",
       "      <td>33.16</td>\n",
       "      <td>2018-05-23T00:00:00</td>\n",
       "      <td>1</td>\n",
       "      <td>NaN</td>\n",
       "      <td>27.0</td>\n",
       "      <td>15.43</td>\n",
       "      <td>26</td>\n",
       "      <td>NaN</td>\n",
       "      <td>...</td>\n",
       "      <td>8.81</td>\n",
       "      <td>NaN</td>\n",
       "      <td>посёлок Мурино</td>\n",
       "      <td>NaN</td>\n",
       "      <td>NaN</td>\n",
       "      <td>NaN</td>\n",
       "      <td>NaN</td>\n",
       "      <td>NaN</td>\n",
       "      <td>NaN</td>\n",
       "      <td>189.0</td>\n",
       "    </tr>\n",
       "    <tr>\n",
       "      <th>9</th>\n",
       "      <td>18</td>\n",
       "      <td>5400000.0</td>\n",
       "      <td>61.00</td>\n",
       "      <td>2017-02-26T00:00:00</td>\n",
       "      <td>3</td>\n",
       "      <td>2.50</td>\n",
       "      <td>9.0</td>\n",
       "      <td>43.60</td>\n",
       "      <td>7</td>\n",
       "      <td>NaN</td>\n",
       "      <td>...</td>\n",
       "      <td>6.50</td>\n",
       "      <td>2.0</td>\n",
       "      <td>Санкт-Петербург</td>\n",
       "      <td>50898.0</td>\n",
       "      <td>15008.0</td>\n",
       "      <td>0.0</td>\n",
       "      <td>NaN</td>\n",
       "      <td>0.0</td>\n",
       "      <td>NaN</td>\n",
       "      <td>289.0</td>\n",
       "    </tr>\n",
       "    <tr>\n",
       "      <th>10</th>\n",
       "      <td>5</td>\n",
       "      <td>5050000.0</td>\n",
       "      <td>39.60</td>\n",
       "      <td>2017-11-16T00:00:00</td>\n",
       "      <td>1</td>\n",
       "      <td>2.67</td>\n",
       "      <td>12.0</td>\n",
       "      <td>20.30</td>\n",
       "      <td>3</td>\n",
       "      <td>NaN</td>\n",
       "      <td>...</td>\n",
       "      <td>8.50</td>\n",
       "      <td>NaN</td>\n",
       "      <td>Санкт-Петербург</td>\n",
       "      <td>38357.0</td>\n",
       "      <td>13878.0</td>\n",
       "      <td>1.0</td>\n",
       "      <td>310.0</td>\n",
       "      <td>2.0</td>\n",
       "      <td>553.0</td>\n",
       "      <td>137.0</td>\n",
       "    </tr>\n",
       "    <tr>\n",
       "      <th>11</th>\n",
       "      <td>9</td>\n",
       "      <td>3300000.0</td>\n",
       "      <td>44.00</td>\n",
       "      <td>2018-08-27T00:00:00</td>\n",
       "      <td>2</td>\n",
       "      <td>NaN</td>\n",
       "      <td>5.0</td>\n",
       "      <td>31.00</td>\n",
       "      <td>4</td>\n",
       "      <td>False</td>\n",
       "      <td>...</td>\n",
       "      <td>6.00</td>\n",
       "      <td>1.0</td>\n",
       "      <td>Ломоносов</td>\n",
       "      <td>48252.0</td>\n",
       "      <td>51677.0</td>\n",
       "      <td>0.0</td>\n",
       "      <td>NaN</td>\n",
       "      <td>0.0</td>\n",
       "      <td>NaN</td>\n",
       "      <td>7.0</td>\n",
       "    </tr>\n",
       "    <tr>\n",
       "      <th>12</th>\n",
       "      <td>10</td>\n",
       "      <td>3890000.0</td>\n",
       "      <td>54.00</td>\n",
       "      <td>2016-06-30T00:00:00</td>\n",
       "      <td>2</td>\n",
       "      <td>NaN</td>\n",
       "      <td>5.0</td>\n",
       "      <td>30.00</td>\n",
       "      <td>5</td>\n",
       "      <td>NaN</td>\n",
       "      <td>...</td>\n",
       "      <td>9.00</td>\n",
       "      <td>0.0</td>\n",
       "      <td>Сертолово</td>\n",
       "      <td>NaN</td>\n",
       "      <td>NaN</td>\n",
       "      <td>NaN</td>\n",
       "      <td>NaN</td>\n",
       "      <td>NaN</td>\n",
       "      <td>NaN</td>\n",
       "      <td>90.0</td>\n",
       "    </tr>\n",
       "    <tr>\n",
       "      <th>13</th>\n",
       "      <td>20</td>\n",
       "      <td>3550000.0</td>\n",
       "      <td>42.80</td>\n",
       "      <td>2017-07-01T00:00:00</td>\n",
       "      <td>2</td>\n",
       "      <td>2.56</td>\n",
       "      <td>5.0</td>\n",
       "      <td>27.00</td>\n",
       "      <td>5</td>\n",
       "      <td>NaN</td>\n",
       "      <td>...</td>\n",
       "      <td>5.20</td>\n",
       "      <td>1.0</td>\n",
       "      <td>Петергоф</td>\n",
       "      <td>37868.0</td>\n",
       "      <td>33058.0</td>\n",
       "      <td>1.0</td>\n",
       "      <td>294.0</td>\n",
       "      <td>3.0</td>\n",
       "      <td>298.0</td>\n",
       "      <td>366.0</td>\n",
       "    </tr>\n",
       "    <tr>\n",
       "      <th>14</th>\n",
       "      <td>1</td>\n",
       "      <td>4400000.0</td>\n",
       "      <td>36.00</td>\n",
       "      <td>2016-06-23T00:00:00</td>\n",
       "      <td>1</td>\n",
       "      <td>NaN</td>\n",
       "      <td>6.0</td>\n",
       "      <td>17.00</td>\n",
       "      <td>1</td>\n",
       "      <td>NaN</td>\n",
       "      <td>...</td>\n",
       "      <td>8.00</td>\n",
       "      <td>0.0</td>\n",
       "      <td>Пушкин</td>\n",
       "      <td>20782.0</td>\n",
       "      <td>30759.0</td>\n",
       "      <td>0.0</td>\n",
       "      <td>NaN</td>\n",
       "      <td>1.0</td>\n",
       "      <td>96.0</td>\n",
       "      <td>203.0</td>\n",
       "    </tr>\n",
       "    <tr>\n",
       "      <th>15</th>\n",
       "      <td>16</td>\n",
       "      <td>4650000.0</td>\n",
       "      <td>39.00</td>\n",
       "      <td>2017-11-18T00:00:00</td>\n",
       "      <td>1</td>\n",
       "      <td>NaN</td>\n",
       "      <td>14.0</td>\n",
       "      <td>20.50</td>\n",
       "      <td>5</td>\n",
       "      <td>NaN</td>\n",
       "      <td>...</td>\n",
       "      <td>7.60</td>\n",
       "      <td>1.0</td>\n",
       "      <td>Санкт-Петербург</td>\n",
       "      <td>12900.0</td>\n",
       "      <td>14259.0</td>\n",
       "      <td>1.0</td>\n",
       "      <td>590.0</td>\n",
       "      <td>1.0</td>\n",
       "      <td>296.0</td>\n",
       "      <td>19.0</td>\n",
       "    </tr>\n",
       "    <tr>\n",
       "      <th>16</th>\n",
       "      <td>11</td>\n",
       "      <td>6700000.0</td>\n",
       "      <td>82.00</td>\n",
       "      <td>2017-11-23T00:00:00</td>\n",
       "      <td>3</td>\n",
       "      <td>3.05</td>\n",
       "      <td>5.0</td>\n",
       "      <td>55.60</td>\n",
       "      <td>1</td>\n",
       "      <td>NaN</td>\n",
       "      <td>...</td>\n",
       "      <td>9.00</td>\n",
       "      <td>NaN</td>\n",
       "      <td>Санкт-Петербург</td>\n",
       "      <td>22108.0</td>\n",
       "      <td>10698.0</td>\n",
       "      <td>3.0</td>\n",
       "      <td>420.0</td>\n",
       "      <td>0.0</td>\n",
       "      <td>NaN</td>\n",
       "      <td>397.0</td>\n",
       "    </tr>\n",
       "    <tr>\n",
       "      <th>17</th>\n",
       "      <td>6</td>\n",
       "      <td>4180000.0</td>\n",
       "      <td>36.00</td>\n",
       "      <td>2016-09-09T00:00:00</td>\n",
       "      <td>1</td>\n",
       "      <td>NaN</td>\n",
       "      <td>17.0</td>\n",
       "      <td>16.50</td>\n",
       "      <td>7</td>\n",
       "      <td>NaN</td>\n",
       "      <td>...</td>\n",
       "      <td>11.00</td>\n",
       "      <td>1.0</td>\n",
       "      <td>Санкт-Петербург</td>\n",
       "      <td>33564.0</td>\n",
       "      <td>14616.0</td>\n",
       "      <td>0.0</td>\n",
       "      <td>NaN</td>\n",
       "      <td>1.0</td>\n",
       "      <td>859.0</td>\n",
       "      <td>571.0</td>\n",
       "    </tr>\n",
       "    <tr>\n",
       "      <th>18</th>\n",
       "      <td>8</td>\n",
       "      <td>3250000.0</td>\n",
       "      <td>31.00</td>\n",
       "      <td>2017-01-27T00:00:00</td>\n",
       "      <td>1</td>\n",
       "      <td>2.50</td>\n",
       "      <td>5.0</td>\n",
       "      <td>19.40</td>\n",
       "      <td>2</td>\n",
       "      <td>NaN</td>\n",
       "      <td>...</td>\n",
       "      <td>5.60</td>\n",
       "      <td>1.0</td>\n",
       "      <td>Санкт-Петербург</td>\n",
       "      <td>44060.0</td>\n",
       "      <td>10842.0</td>\n",
       "      <td>1.0</td>\n",
       "      <td>759.0</td>\n",
       "      <td>0.0</td>\n",
       "      <td>NaN</td>\n",
       "      <td>168.0</td>\n",
       "    </tr>\n",
       "    <tr>\n",
       "      <th>19</th>\n",
       "      <td>16</td>\n",
       "      <td>14200000.0</td>\n",
       "      <td>121.00</td>\n",
       "      <td>2019-01-09T00:00:00</td>\n",
       "      <td>3</td>\n",
       "      <td>2.75</td>\n",
       "      <td>16.0</td>\n",
       "      <td>76.00</td>\n",
       "      <td>8</td>\n",
       "      <td>NaN</td>\n",
       "      <td>...</td>\n",
       "      <td>12.00</td>\n",
       "      <td>NaN</td>\n",
       "      <td>Санкт-Петербург</td>\n",
       "      <td>38900.0</td>\n",
       "      <td>12843.0</td>\n",
       "      <td>0.0</td>\n",
       "      <td>NaN</td>\n",
       "      <td>0.0</td>\n",
       "      <td>NaN</td>\n",
       "      <td>97.0</td>\n",
       "    </tr>\n",
       "  </tbody>\n",
       "</table>\n",
       "<p>20 rows × 22 columns</p>\n",
       "</div>"
      ],
      "text/plain": [
       "    total_images  last_price  total_area first_day_exposition  rooms  \\\n",
       "0             20  13000000.0      108.00  2019-03-07T00:00:00      3   \n",
       "1              7   3350000.0       40.40  2018-12-04T00:00:00      1   \n",
       "2             10   5196000.0       56.00  2015-08-20T00:00:00      2   \n",
       "3              0  64900000.0      159.00  2015-07-24T00:00:00      3   \n",
       "4              2  10000000.0      100.00  2018-06-19T00:00:00      2   \n",
       "5             10   2890000.0       30.40  2018-09-10T00:00:00      1   \n",
       "6              6   3700000.0       37.30  2017-11-02T00:00:00      1   \n",
       "7              5   7915000.0       71.60  2019-04-18T00:00:00      2   \n",
       "8             20   2900000.0       33.16  2018-05-23T00:00:00      1   \n",
       "9             18   5400000.0       61.00  2017-02-26T00:00:00      3   \n",
       "10             5   5050000.0       39.60  2017-11-16T00:00:00      1   \n",
       "11             9   3300000.0       44.00  2018-08-27T00:00:00      2   \n",
       "12            10   3890000.0       54.00  2016-06-30T00:00:00      2   \n",
       "13            20   3550000.0       42.80  2017-07-01T00:00:00      2   \n",
       "14             1   4400000.0       36.00  2016-06-23T00:00:00      1   \n",
       "15            16   4650000.0       39.00  2017-11-18T00:00:00      1   \n",
       "16            11   6700000.0       82.00  2017-11-23T00:00:00      3   \n",
       "17             6   4180000.0       36.00  2016-09-09T00:00:00      1   \n",
       "18             8   3250000.0       31.00  2017-01-27T00:00:00      1   \n",
       "19            16  14200000.0      121.00  2019-01-09T00:00:00      3   \n",
       "\n",
       "    ceiling_height  floors_total  living_area  floor is_apartment  ...  \\\n",
       "0             2.70          16.0        51.00      8          NaN  ...   \n",
       "1              NaN          11.0        18.60      1          NaN  ...   \n",
       "2              NaN           5.0        34.30      4          NaN  ...   \n",
       "3              NaN          14.0          NaN      9          NaN  ...   \n",
       "4             3.03          14.0        32.00     13          NaN  ...   \n",
       "5              NaN          12.0        14.40      5          NaN  ...   \n",
       "6              NaN          26.0        10.60      6          NaN  ...   \n",
       "7              NaN          24.0          NaN     22          NaN  ...   \n",
       "8              NaN          27.0        15.43     26          NaN  ...   \n",
       "9             2.50           9.0        43.60      7          NaN  ...   \n",
       "10            2.67          12.0        20.30      3          NaN  ...   \n",
       "11             NaN           5.0        31.00      4        False  ...   \n",
       "12             NaN           5.0        30.00      5          NaN  ...   \n",
       "13            2.56           5.0        27.00      5          NaN  ...   \n",
       "14             NaN           6.0        17.00      1          NaN  ...   \n",
       "15             NaN          14.0        20.50      5          NaN  ...   \n",
       "16            3.05           5.0        55.60      1          NaN  ...   \n",
       "17             NaN          17.0        16.50      7          NaN  ...   \n",
       "18            2.50           5.0        19.40      2          NaN  ...   \n",
       "19            2.75          16.0        76.00      8          NaN  ...   \n",
       "\n",
       "    kitchen_area  balcony              locality_name  airports_nearest  \\\n",
       "0          25.00      NaN            Санкт-Петербург           18863.0   \n",
       "1          11.00      2.0             посёлок Шушары           12817.0   \n",
       "2           8.30      0.0            Санкт-Петербург           21741.0   \n",
       "3            NaN      0.0            Санкт-Петербург           28098.0   \n",
       "4          41.00      NaN            Санкт-Петербург           31856.0   \n",
       "5           9.10      NaN  городской посёлок Янино-1               NaN   \n",
       "6          14.40      1.0          посёлок Парголово           52996.0   \n",
       "7          18.90      2.0            Санкт-Петербург           23982.0   \n",
       "8           8.81      NaN             посёлок Мурино               NaN   \n",
       "9           6.50      2.0            Санкт-Петербург           50898.0   \n",
       "10          8.50      NaN            Санкт-Петербург           38357.0   \n",
       "11          6.00      1.0                  Ломоносов           48252.0   \n",
       "12          9.00      0.0                  Сертолово               NaN   \n",
       "13          5.20      1.0                   Петергоф           37868.0   \n",
       "14          8.00      0.0                     Пушкин           20782.0   \n",
       "15          7.60      1.0            Санкт-Петербург           12900.0   \n",
       "16          9.00      NaN            Санкт-Петербург           22108.0   \n",
       "17         11.00      1.0            Санкт-Петербург           33564.0   \n",
       "18          5.60      1.0            Санкт-Петербург           44060.0   \n",
       "19         12.00      NaN            Санкт-Петербург           38900.0   \n",
       "\n",
       "   cityCenters_nearest  parks_around3000  parks_nearest  ponds_around3000  \\\n",
       "0              16028.0               1.0          482.0               2.0   \n",
       "1              18603.0               0.0            NaN               0.0   \n",
       "2              13933.0               1.0           90.0               2.0   \n",
       "3               6800.0               2.0           84.0               3.0   \n",
       "4               8098.0               2.0          112.0               1.0   \n",
       "5                  NaN               NaN            NaN               NaN   \n",
       "6              19143.0               0.0            NaN               0.0   \n",
       "7              11634.0               0.0            NaN               0.0   \n",
       "8                  NaN               NaN            NaN               NaN   \n",
       "9              15008.0               0.0            NaN               0.0   \n",
       "10             13878.0               1.0          310.0               2.0   \n",
       "11             51677.0               0.0            NaN               0.0   \n",
       "12                 NaN               NaN            NaN               NaN   \n",
       "13             33058.0               1.0          294.0               3.0   \n",
       "14             30759.0               0.0            NaN               1.0   \n",
       "15             14259.0               1.0          590.0               1.0   \n",
       "16             10698.0               3.0          420.0               0.0   \n",
       "17             14616.0               0.0            NaN               1.0   \n",
       "18             10842.0               1.0          759.0               0.0   \n",
       "19             12843.0               0.0            NaN               0.0   \n",
       "\n",
       "    ponds_nearest  days_exposition  \n",
       "0           755.0              NaN  \n",
       "1             NaN             81.0  \n",
       "2           574.0            558.0  \n",
       "3           234.0            424.0  \n",
       "4            48.0            121.0  \n",
       "5             NaN             55.0  \n",
       "6             NaN            155.0  \n",
       "7             NaN              NaN  \n",
       "8             NaN            189.0  \n",
       "9             NaN            289.0  \n",
       "10          553.0            137.0  \n",
       "11            NaN              7.0  \n",
       "12            NaN             90.0  \n",
       "13          298.0            366.0  \n",
       "14           96.0            203.0  \n",
       "15          296.0             19.0  \n",
       "16            NaN            397.0  \n",
       "17          859.0            571.0  \n",
       "18            NaN            168.0  \n",
       "19            NaN             97.0  \n",
       "\n",
       "[20 rows x 22 columns]"
      ]
     },
     "execution_count": 3,
     "metadata": {},
     "output_type": "execute_result"
    }
   ],
   "source": [
    "data.head(20)"
   ]
  },
  {
   "cell_type": "code",
   "execution_count": 4,
   "metadata": {},
   "outputs": [
    {
     "name": "stdout",
     "output_type": "stream",
     "text": [
      "<class 'pandas.core.frame.DataFrame'>\n",
      "RangeIndex: 23699 entries, 0 to 23698\n",
      "Data columns (total 22 columns):\n",
      " #   Column                Non-Null Count  Dtype  \n",
      "---  ------                --------------  -----  \n",
      " 0   total_images          23699 non-null  int64  \n",
      " 1   last_price            23699 non-null  float64\n",
      " 2   total_area            23699 non-null  float64\n",
      " 3   first_day_exposition  23699 non-null  object \n",
      " 4   rooms                 23699 non-null  int64  \n",
      " 5   ceiling_height        14504 non-null  float64\n",
      " 6   floors_total          23613 non-null  float64\n",
      " 7   living_area           21796 non-null  float64\n",
      " 8   floor                 23699 non-null  int64  \n",
      " 9   is_apartment          2775 non-null   object \n",
      " 10  studio                23699 non-null  bool   \n",
      " 11  open_plan             23699 non-null  bool   \n",
      " 12  kitchen_area          21421 non-null  float64\n",
      " 13  balcony               12180 non-null  float64\n",
      " 14  locality_name         23650 non-null  object \n",
      " 15  airports_nearest      18157 non-null  float64\n",
      " 16  cityCenters_nearest   18180 non-null  float64\n",
      " 17  parks_around3000      18181 non-null  float64\n",
      " 18  parks_nearest         8079 non-null   float64\n",
      " 19  ponds_around3000      18181 non-null  float64\n",
      " 20  ponds_nearest         9110 non-null   float64\n",
      " 21  days_exposition       20518 non-null  float64\n",
      "dtypes: bool(2), float64(14), int64(3), object(3)\n",
      "memory usage: 3.7+ MB\n"
     ]
    }
   ],
   "source": [
    "data.info()"
   ]
  },
  {
   "cell_type": "code",
   "execution_count": 5,
   "metadata": {},
   "outputs": [
    {
     "data": {
      "image/png": "[encoded data removed]",
      "text/plain": [
       "<Figure size 1080x1440 with 20 Axes>"
      ]
     },
     "metadata": {
      "needs_background": "light"
     },
     "output_type": "display_data"
    }
   ],
   "source": [
    "data.hist(bins=100, figsize=(15, 20))\n",
    "plt.show()"
   ]
  },
  {
   "cell_type": "markdown",
   "metadata": {},
   "source": [
    "<a id='section2'></a>\n",
    "### Предобработка данных\n",
    "[Оглавление](#top)"
   ]
  },
  {
   "cell_type": "code",
   "execution_count": 6,
   "metadata": {},
   "outputs": [
    {
     "data": {
      "text/plain": [
       "total_images             0.000000\n",
       "last_price               0.000000\n",
       "total_area               0.000000\n",
       "first_day_exposition     0.000000\n",
       "rooms                    0.000000\n",
       "ceiling_height          38.799105\n",
       "floors_total             0.362885\n",
       "living_area              8.029875\n",
       "floor                    0.000000\n",
       "is_apartment            88.290645\n",
       "studio                   0.000000\n",
       "open_plan                0.000000\n",
       "kitchen_area             9.612220\n",
       "balcony                 48.605426\n",
       "locality_name            0.206760\n",
       "airports_nearest        23.384953\n",
       "cityCenters_nearest     23.287902\n",
       "parks_around3000        23.283683\n",
       "parks_nearest           65.909954\n",
       "ponds_around3000        23.283683\n",
       "ponds_nearest           61.559559\n",
       "days_exposition         13.422507\n",
       "dtype: float64"
      ]
     },
     "execution_count": 6,
     "metadata": {},
     "output_type": "execute_result"
    }
   ],
   "source": [
    "data.isna().mean()*100"
   ]
  },
  {
   "cell_type": "markdown",
   "metadata": {},
   "source": [
    "Заменим пропущенные значения в столбце `floors_total` на медианные, и приведем даные к целочисленному типу."
   ]
  },
  {
   "cell_type": "code",
   "execution_count": 7,
   "metadata": {},
   "outputs": [],
   "source": [
    "data['floors_total'] = data['floors_total'].fillna(data['floors_total'].median()).astype('int')"
   ]
  },
  {
   "cell_type": "markdown",
   "metadata": {},
   "source": [
    "Пропущенные значения в столбце `is_apartment` можно заменить на False, так как скорее всего, если эта информация не указана, значит квартира не является апартаментами."
   ]
  },
  {
   "cell_type": "code",
   "execution_count": 8,
   "metadata": {},
   "outputs": [
    {
     "data": {
      "text/plain": [
       "array([False,  True])"
      ]
     },
     "execution_count": 8,
     "metadata": {},
     "output_type": "execute_result"
    }
   ],
   "source": [
    "data['is_apartment'] = data['is_apartment'].fillna(False)\n",
    "data['is_apartment'].unique()"
   ]
  },
  {
   "cell_type": "markdown",
   "metadata": {},
   "source": [
    "Если в данных не указано количество балконов, скорее всего их в квартире нет. Заменим пропущенные значения на 0. А также изменим вещественный тип данных в этом столбце на целочисленный."
   ]
  },
  {
   "cell_type": "code",
   "execution_count": 9,
   "metadata": {},
   "outputs": [
    {
     "data": {
      "text/plain": [
       "array([0, 2, 1, 5, 4, 3])"
      ]
     },
     "execution_count": 9,
     "metadata": {},
     "output_type": "execute_result"
    }
   ],
   "source": [
    "data['balcony'] = data['balcony'].fillna(0).astype('int')\n",
    "data['balcony'].unique()"
   ]
  },
  {
   "cell_type": "markdown",
   "metadata": {},
   "source": [
    "Заменим на 0 пропуски в столбцах `kitchen_area`, `cityCenters_nearest`, так как у нас нет информации, чтобы корректно заменить значения в этих столбцах, но они понадобятся нам для дальнейшей работы. И приведём данные к целочисленному типу для удобства работы."
   ]
  },
  {
   "cell_type": "code",
   "execution_count": 10,
   "metadata": {},
   "outputs": [],
   "source": [
    "data['kitchen_area'] = data['kitchen_area'].fillna(0).astype('int')"
   ]
  },
  {
   "cell_type": "code",
   "execution_count": 11,
   "metadata": {},
   "outputs": [],
   "source": [
    "data['cityCenters_nearest'] = data['cityCenters_nearest'].fillna(0).astype('int')"
   ]
  },
  {
   "cell_type": "markdown",
   "metadata": {},
   "source": [
    "В столбце `first_day_exposition` находятся даты. Преобразуем тип данных в этом столбце на соответствующий."
   ]
  },
  {
   "cell_type": "code",
   "execution_count": 12,
   "metadata": {},
   "outputs": [],
   "source": [
    "data['first_day_exposition'] = pd.to_datetime(data['first_day_exposition'], format='%Y-%m-%dT%H:%M:%S')"
   ]
  },
  {
   "cell_type": "markdown",
   "metadata": {},
   "source": [
    "Переведем данные из столбца `last_price` в целочисленный тип для удобства работы."
   ]
  },
  {
   "cell_type": "code",
   "execution_count": 13,
   "metadata": {},
   "outputs": [],
   "source": [
    "data['last_price'] = data['last_price'].astype('int')"
   ]
  },
  {
   "cell_type": "markdown",
   "metadata": {},
   "source": [
    "С пропусками в столбцах ` ceiling_height` и `living_area` поработаем чуть ниже. Пропуски в столбце `days_exposition` связаны с тем, что объявление ещё не закрыто, значит мы не можем корректно заполнить эти значения.\n",
    "Пропуски в данных, заполненных пользователем, вероятно появились из-за того, что пользователь не указал данную информацию в объявлении. Пропуски же в данных, заполненных автоматически, вероятно связаны с ошибками системы. Необходимо проверить и доработать систему автоматического заполнения."
   ]
  },
  {
   "cell_type": "code",
   "execution_count": 14,
   "metadata": {},
   "outputs": [
    {
     "data": {
      "text/html": [
       "<div>\n",
       "<style scoped>\n",
       "    .dataframe tbody tr th:only-of-type {\n",
       "        vertical-align: middle;\n",
       "    }\n",
       "\n",
       "    .dataframe tbody tr th {\n",
       "        vertical-align: top;\n",
       "    }\n",
       "\n",
       "    .dataframe thead th {\n",
       "        text-align: right;\n",
       "    }\n",
       "</style>\n",
       "<table border=\"1\" class=\"dataframe\">\n",
       "  <thead>\n",
       "    <tr style=\"text-align: right;\">\n",
       "      <th></th>\n",
       "      <th>total_images</th>\n",
       "      <th>last_price</th>\n",
       "      <th>total_area</th>\n",
       "      <th>first_day_exposition</th>\n",
       "      <th>rooms</th>\n",
       "      <th>ceiling_height</th>\n",
       "      <th>floors_total</th>\n",
       "      <th>living_area</th>\n",
       "      <th>floor</th>\n",
       "      <th>is_apartment</th>\n",
       "      <th>...</th>\n",
       "      <th>kitchen_area</th>\n",
       "      <th>balcony</th>\n",
       "      <th>locality_name</th>\n",
       "      <th>airports_nearest</th>\n",
       "      <th>cityCenters_nearest</th>\n",
       "      <th>parks_around3000</th>\n",
       "      <th>parks_nearest</th>\n",
       "      <th>ponds_around3000</th>\n",
       "      <th>ponds_nearest</th>\n",
       "      <th>days_exposition</th>\n",
       "    </tr>\n",
       "  </thead>\n",
       "  <tbody>\n",
       "  </tbody>\n",
       "</table>\n",
       "<p>0 rows × 22 columns</p>\n",
       "</div>"
      ],
      "text/plain": [
       "Empty DataFrame\n",
       "Columns: [total_images, last_price, total_area, first_day_exposition, rooms, ceiling_height, floors_total, living_area, floor, is_apartment, studio, open_plan, kitchen_area, balcony, locality_name, airports_nearest, cityCenters_nearest, parks_around3000, parks_nearest, ponds_around3000, ponds_nearest, days_exposition]\n",
       "Index: []\n",
       "\n",
       "[0 rows x 22 columns]"
      ]
     },
     "execution_count": 14,
     "metadata": {},
     "output_type": "execute_result"
    }
   ],
   "source": [
    "data[data.duplicated()].head()"
   ]
  },
  {
   "cell_type": "markdown",
   "metadata": {},
   "source": [
    "Проверим данные на явные дубликаты. Явных дубликатов нет."
   ]
  },
  {
   "cell_type": "markdown",
   "metadata": {},
   "source": [
    "Посмотрим на перечень уникальных значений в столбце `locality_name`."
   ]
  },
  {
   "cell_type": "code",
   "execution_count": 15,
   "metadata": {},
   "outputs": [
    {
     "data": {
      "text/plain": [
       "array(['Санкт-Петербург', 'посёлок Шушары', 'городской посёлок Янино-1',\n",
       "       'посёлок Парголово', 'посёлок Мурино', 'Ломоносов', 'Сертолово',\n",
       "       'Петергоф', 'Пушкин', 'деревня Кудрово', 'Коммунар', 'Колпино',\n",
       "       'поселок городского типа Красный Бор', 'Гатчина', 'поселок Мурино',\n",
       "       'деревня Фёдоровское', 'Выборг', 'Кронштадт', 'Кировск',\n",
       "       'деревня Новое Девяткино', 'посёлок Металлострой',\n",
       "       'посёлок городского типа Лебяжье',\n",
       "       'посёлок городского типа Сиверский', 'поселок Молодцово',\n",
       "       'поселок городского типа Кузьмоловский',\n",
       "       'садовое товарищество Новая Ропша', 'Павловск',\n",
       "       'деревня Пикколово', 'Всеволожск', 'Волхов', 'Кингисепп',\n",
       "       'Приозерск', 'Сестрорецк', 'деревня Куттузи', 'посёлок Аннино',\n",
       "       'поселок городского типа Ефимовский', 'посёлок Плодовое',\n",
       "       'деревня Заклинье', 'поселок Торковичи', 'поселок Первомайское',\n",
       "       'Красное Село', 'посёлок Понтонный', 'Сясьстрой', 'деревня Старая',\n",
       "       'деревня Лесколово', 'посёлок Новый Свет', 'Сланцы',\n",
       "       'село Путилово', 'Ивангород', 'Мурино', 'Шлиссельбург',\n",
       "       'Никольское', 'Зеленогорск', 'Сосновый Бор', 'поселок Новый Свет',\n",
       "       'деревня Оржицы', 'деревня Кальтино', 'Кудрово',\n",
       "       'поселок Романовка', 'посёлок Бугры', 'поселок Бугры',\n",
       "       'поселок городского типа Рощино', 'Кириши', 'Луга', 'Волосово',\n",
       "       'Отрадное', 'село Павлово', 'поселок Оредеж', 'село Копорье',\n",
       "       'посёлок городского типа Красный Бор', 'посёлок Молодёжное',\n",
       "       'Тихвин', 'посёлок Победа', 'деревня Нурма',\n",
       "       'поселок городского типа Синявино', 'Тосно',\n",
       "       'посёлок городского типа Кузьмоловский', 'посёлок Стрельна',\n",
       "       'Бокситогорск', 'посёлок Александровская', 'деревня Лопухинка',\n",
       "       'Пикалёво', 'поселок Терволово',\n",
       "       'поселок городского типа Советский', 'Подпорожье',\n",
       "       'посёлок Петровское', 'посёлок городского типа Токсово',\n",
       "       'поселок Сельцо', 'посёлок городского типа Вырица',\n",
       "       'деревня Кипень', 'деревня Келози', 'деревня Вартемяги',\n",
       "       'посёлок Тельмана', 'поселок Севастьяново',\n",
       "       'городской поселок Большая Ижора', nan,\n",
       "       'городской посёлок Павлово', 'деревня Агалатово',\n",
       "       'посёлок Новогорелово', 'городской посёлок Лесогорский',\n",
       "       'деревня Лаголово', 'поселок Цвелодубово',\n",
       "       'поселок городского типа Рахья', 'поселок городского типа Вырица',\n",
       "       'деревня Белогорка', 'поселок Заводской',\n",
       "       'городской посёлок Новоселье', 'деревня Большие Колпаны',\n",
       "       'деревня Горбунки', 'деревня Батово', 'деревня Заневка',\n",
       "       'деревня Иссад', 'Приморск', 'городской посёлок Фёдоровское',\n",
       "       'деревня Мистолово', 'Новая Ладога', 'поселок Зимитицы',\n",
       "       'поселок Барышево', 'деревня Разметелево',\n",
       "       'поселок городского типа имени Свердлова', 'деревня Пеники',\n",
       "       'поселок Рябово', 'деревня Пудомяги', 'поселок станции Корнево',\n",
       "       'деревня Низино', 'деревня Бегуницы', 'посёлок Поляны',\n",
       "       'городской посёлок Мга', 'поселок Елизаветино',\n",
       "       'посёлок городского типа Кузнечное', 'деревня Колтуши',\n",
       "       'поселок Запорожское', 'посёлок городского типа Рощино',\n",
       "       'деревня Гостилицы', 'деревня Малое Карлино',\n",
       "       'посёлок Мичуринское', 'посёлок городского типа имени Морозова',\n",
       "       'посёлок Песочный', 'посёлок Сосново', 'деревня Аро',\n",
       "       'поселок Ильичёво', 'посёлок городского типа Тайцы',\n",
       "       'деревня Малое Верево', 'деревня Извара', 'поселок станции Вещево',\n",
       "       'село Паша', 'деревня Калитино',\n",
       "       'посёлок городского типа Ульяновка', 'деревня Чудской Бор',\n",
       "       'поселок городского типа Дубровка', 'деревня Мины',\n",
       "       'поселок Войсковицы', 'посёлок городского типа имени Свердлова',\n",
       "       'деревня Коркино', 'посёлок Ропша',\n",
       "       'поселок городского типа Приладожский', 'посёлок Щеглово',\n",
       "       'посёлок Гаврилово', 'Лодейное Поле', 'деревня Рабитицы',\n",
       "       'поселок городского типа Никольский', 'деревня Кузьмолово',\n",
       "       'деревня Малые Колпаны', 'поселок Тельмана',\n",
       "       'посёлок Петро-Славянка', 'городской посёлок Назия',\n",
       "       'посёлок Репино', 'посёлок Ильичёво', 'поселок Углово',\n",
       "       'поселок Старая Малукса', 'садовое товарищество Рахья',\n",
       "       'поселок Аннино', 'поселок Победа', 'деревня Меньково',\n",
       "       'деревня Старые Бегуницы', 'посёлок Сапёрный', 'поселок Семрино',\n",
       "       'поселок Гаврилово', 'поселок Глажево', 'поселок Кобринское',\n",
       "       'деревня Гарболово', 'деревня Юкки',\n",
       "       'поселок станции Приветнинское', 'деревня Мануйлово',\n",
       "       'деревня Пчева', 'поселок Поляны', 'поселок Цвылёво',\n",
       "       'поселок Мельниково', 'посёлок Пудость', 'посёлок Усть-Луга',\n",
       "       'Светогорск', 'Любань', 'поселок Селезнёво',\n",
       "       'поселок городского типа Рябово', 'Каменногорск', 'деревня Кривко',\n",
       "       'поселок Глебычево', 'деревня Парицы', 'поселок Жилпосёлок',\n",
       "       'посёлок городского типа Мга', 'городской поселок Янино-1',\n",
       "       'посёлок Войскорово', 'село Никольское', 'посёлок Терволово',\n",
       "       'поселок Стеклянный', 'посёлок городского типа Важины',\n",
       "       'посёлок Мыза-Ивановка', 'село Русско-Высоцкое',\n",
       "       'поселок городского типа Лебяжье',\n",
       "       'поселок городского типа Форносово', 'село Старая Ладога',\n",
       "       'поселок Житково', 'городской посёлок Виллози', 'деревня Лампово',\n",
       "       'деревня Шпаньково', 'деревня Лаврики', 'посёлок Сумино',\n",
       "       'посёлок Возрождение', 'деревня Старосиверская',\n",
       "       'посёлок Кикерино', 'поселок Возрождение',\n",
       "       'деревня Старое Хинколово', 'посёлок Пригородный',\n",
       "       'посёлок Торфяное', 'городской посёлок Будогощь',\n",
       "       'поселок Суходолье', 'поселок Красная Долина', 'деревня Хапо-Ое',\n",
       "       'поселок городского типа Дружная Горка', 'поселок Лисий Нос',\n",
       "       'деревня Яльгелево', 'посёлок Стеклянный', 'село Рождествено',\n",
       "       'деревня Старополье', 'посёлок Левашово', 'деревня Сяськелево',\n",
       "       'деревня Камышовка',\n",
       "       'садоводческое некоммерческое товарищество Лесная Поляна',\n",
       "       'деревня Хязельки', 'поселок Жилгородок',\n",
       "       'посёлок городского типа Павлово', 'деревня Ялгино',\n",
       "       'поселок Новый Учхоз', 'городской посёлок Рощино',\n",
       "       'поселок Гончарово', 'поселок Почап', 'посёлок Сапёрное',\n",
       "       'посёлок Платформа 69-й километр', 'поселок Каложицы',\n",
       "       'деревня Фалилеево', 'деревня Пельгора',\n",
       "       'поселок городского типа Лесогорский', 'деревня Торошковичи',\n",
       "       'посёлок Белоостров', 'посёлок Алексеевка', 'поселок Серебрянский',\n",
       "       'поселок Лукаши', 'поселок Петровское', 'деревня Щеглово',\n",
       "       'поселок Мичуринское', 'деревня Тарасово', 'поселок Кингисеппский',\n",
       "       'посёлок при железнодорожной станции Вещево', 'поселок Ушаки',\n",
       "       'деревня Котлы', 'деревня Сижно', 'деревня Торосово',\n",
       "       'посёлок Форт Красная Горка', 'поселок городского типа Токсово',\n",
       "       'деревня Новолисино', 'посёлок станции Громово', 'деревня Глинка',\n",
       "       'посёлок Мельниково', 'поселок городского типа Назия',\n",
       "       'деревня Старая Пустошь', 'поселок Коммунары', 'поселок Починок',\n",
       "       'посёлок городского типа Вознесенье', 'деревня Разбегаево',\n",
       "       'посёлок городского типа Рябово', 'поселок Гладкое',\n",
       "       'посёлок при железнодорожной станции Приветнинское',\n",
       "       'поселок Тёсово-4', 'посёлок Жилгородок', 'деревня Бор',\n",
       "       'посёлок Коробицыно', 'деревня Большая Вруда', 'деревня Курковицы',\n",
       "       'посёлок Лисий Нос', 'городской посёлок Советский',\n",
       "       'посёлок Кобралово', 'деревня Суоранда', 'поселок Кобралово',\n",
       "       'поселок городского типа Кондратьево',\n",
       "       'коттеджный поселок Счастье', 'поселок Любань', 'деревня Реброво',\n",
       "       'деревня Зимитицы', 'деревня Тойворово', 'поселок Семиозерье',\n",
       "       'поселок Лесное', 'поселок Совхозный', 'поселок Усть-Луга',\n",
       "       'посёлок Ленинское', 'посёлок Суйда',\n",
       "       'посёлок городского типа Форносово', 'деревня Нижние Осельки',\n",
       "       'посёлок станции Свирь', 'поселок Перово', 'Высоцк',\n",
       "       'поселок Гарболово', 'село Шум', 'поселок Котельский',\n",
       "       'поселок станции Лужайка', 'деревня Большая Пустомержа',\n",
       "       'поселок Красносельское', 'деревня Вахнова Кара', 'деревня Пижма',\n",
       "       'коттеджный поселок Кивеннапа Север', 'поселок Коробицыно',\n",
       "       'поселок Ромашки', 'посёлок Перово', 'деревня Каськово',\n",
       "       'деревня Куровицы', 'посёлок Плоское', 'поселок Сумино',\n",
       "       'поселок городского типа Большая Ижора', 'поселок Кирпичное',\n",
       "       'деревня Ям-Тесово', 'деревня Раздолье', 'деревня Терпилицы',\n",
       "       'посёлок Шугозеро', 'деревня Ваганово', 'поселок Пушное',\n",
       "       'садовое товарищество Садко', 'посёлок Усть-Ижора',\n",
       "       'деревня Выскатка', 'городской посёлок Свирьстрой',\n",
       "       'поселок Громово', 'деревня Кисельня', 'посёлок Старая Малукса',\n",
       "       'деревня Трубников Бор', 'поселок Калитино',\n",
       "       'посёлок Высокоключевой', 'садовое товарищество Приладожский',\n",
       "       'посёлок Пансионат Зелёный Бор', 'деревня Ненимяки',\n",
       "       'поселок Пансионат Зелёный Бор', 'деревня Снегирёвка',\n",
       "       'деревня Рапполово', 'деревня Пустынка', 'поселок Рабитицы',\n",
       "       'деревня Большой Сабск', 'деревня Русско', 'деревня Лупполово',\n",
       "       'деревня Большое Рейзино', 'деревня Малая Романовка',\n",
       "       'поселок Дружноселье', 'поселок Пчевжа', 'поселок Володарское',\n",
       "       'деревня Нижняя', 'коттеджный посёлок Лесное', 'деревня Тихковицы',\n",
       "       'деревня Борисова Грива', 'посёлок Дзержинского'], dtype=object)"
      ]
     },
     "execution_count": 15,
     "metadata": {},
     "output_type": "execute_result"
    }
   ],
   "source": [
    "data['locality_name'].unique()"
   ]
  },
  {
   "cell_type": "code",
   "execution_count": 16,
   "metadata": {},
   "outputs": [
    {
     "data": {
      "text/plain": [
       "365"
      ]
     },
     "execution_count": 16,
     "metadata": {},
     "output_type": "execute_result"
    }
   ],
   "source": [
    "len(data.locality_name.unique())"
   ]
  },
  {
   "cell_type": "markdown",
   "metadata": {},
   "source": [
    "Сначала уберем буквы `ё`, заменив их на `е`. Затем заменим названия в столбце `locality_name`, чтобы устранить дубликаты."
   ]
  },
  {
   "cell_type": "code",
   "execution_count": 17,
   "metadata": {},
   "outputs": [],
   "source": [
    "data['locality_name'] = data['locality_name'].str.replace('ё', 'е', regex=True)\n",
    "duplicates = ['городской поселок', 'поселок']\n",
    "name = 'поселок городского типа'\n",
    "data['locality_name'] = data['locality_name'].replace(duplicates, name)"
   ]
  },
  {
   "cell_type": "code",
   "execution_count": 18,
   "metadata": {},
   "outputs": [
    {
     "data": {
      "text/plain": [
       "331"
      ]
     },
     "execution_count": 18,
     "metadata": {},
     "output_type": "execute_result"
    }
   ],
   "source": [
    "#Код ревьюера\n",
    "len(data.locality_name.unique())"
   ]
  },
  {
   "cell_type": "code",
   "execution_count": 19,
   "metadata": {},
   "outputs": [
    {
     "data": {
      "text/html": [
       "<div>\n",
       "<style scoped>\n",
       "    .dataframe tbody tr th:only-of-type {\n",
       "        vertical-align: middle;\n",
       "    }\n",
       "\n",
       "    .dataframe tbody tr th {\n",
       "        vertical-align: top;\n",
       "    }\n",
       "\n",
       "    .dataframe thead th {\n",
       "        text-align: right;\n",
       "    }\n",
       "</style>\n",
       "<table border=\"1\" class=\"dataframe\">\n",
       "  <thead>\n",
       "    <tr style=\"text-align: right;\">\n",
       "      <th></th>\n",
       "      <th>total_images</th>\n",
       "      <th>last_price</th>\n",
       "      <th>total_area</th>\n",
       "      <th>rooms</th>\n",
       "      <th>ceiling_height</th>\n",
       "      <th>floors_total</th>\n",
       "      <th>living_area</th>\n",
       "      <th>floor</th>\n",
       "      <th>kitchen_area</th>\n",
       "      <th>balcony</th>\n",
       "      <th>airports_nearest</th>\n",
       "      <th>cityCenters_nearest</th>\n",
       "      <th>parks_around3000</th>\n",
       "      <th>parks_nearest</th>\n",
       "      <th>ponds_around3000</th>\n",
       "      <th>ponds_nearest</th>\n",
       "      <th>days_exposition</th>\n",
       "    </tr>\n",
       "  </thead>\n",
       "  <tbody>\n",
       "    <tr>\n",
       "      <th>count</th>\n",
       "      <td>23699.000000</td>\n",
       "      <td>2.369900e+04</td>\n",
       "      <td>23699.000000</td>\n",
       "      <td>23699.000000</td>\n",
       "      <td>14504.000000</td>\n",
       "      <td>23699.000000</td>\n",
       "      <td>21796.000000</td>\n",
       "      <td>23699.000000</td>\n",
       "      <td>23699.000000</td>\n",
       "      <td>23699.000000</td>\n",
       "      <td>18157.000000</td>\n",
       "      <td>23699.000000</td>\n",
       "      <td>18181.000000</td>\n",
       "      <td>8079.000000</td>\n",
       "      <td>18181.000000</td>\n",
       "      <td>9110.000000</td>\n",
       "      <td>20518.000000</td>\n",
       "    </tr>\n",
       "    <tr>\n",
       "      <th>mean</th>\n",
       "      <td>9.858475</td>\n",
       "      <td>6.541549e+06</td>\n",
       "      <td>60.348651</td>\n",
       "      <td>2.070636</td>\n",
       "      <td>2.771499</td>\n",
       "      <td>10.667750</td>\n",
       "      <td>34.457852</td>\n",
       "      <td>5.892358</td>\n",
       "      <td>9.329254</td>\n",
       "      <td>0.591080</td>\n",
       "      <td>28793.672193</td>\n",
       "      <td>10886.426896</td>\n",
       "      <td>0.611408</td>\n",
       "      <td>490.804555</td>\n",
       "      <td>0.770255</td>\n",
       "      <td>517.980900</td>\n",
       "      <td>180.888634</td>\n",
       "    </tr>\n",
       "    <tr>\n",
       "      <th>std</th>\n",
       "      <td>5.682529</td>\n",
       "      <td>1.088701e+07</td>\n",
       "      <td>35.654083</td>\n",
       "      <td>1.078405</td>\n",
       "      <td>1.261056</td>\n",
       "      <td>6.585961</td>\n",
       "      <td>22.030445</td>\n",
       "      <td>4.885249</td>\n",
       "      <td>6.395646</td>\n",
       "      <td>0.959298</td>\n",
       "      <td>12630.880622</td>\n",
       "      <td>9634.613697</td>\n",
       "      <td>0.802074</td>\n",
       "      <td>342.317995</td>\n",
       "      <td>0.938346</td>\n",
       "      <td>277.720643</td>\n",
       "      <td>219.727988</td>\n",
       "    </tr>\n",
       "    <tr>\n",
       "      <th>min</th>\n",
       "      <td>0.000000</td>\n",
       "      <td>1.219000e+04</td>\n",
       "      <td>12.000000</td>\n",
       "      <td>0.000000</td>\n",
       "      <td>1.000000</td>\n",
       "      <td>1.000000</td>\n",
       "      <td>2.000000</td>\n",
       "      <td>1.000000</td>\n",
       "      <td>0.000000</td>\n",
       "      <td>0.000000</td>\n",
       "      <td>0.000000</td>\n",
       "      <td>0.000000</td>\n",
       "      <td>0.000000</td>\n",
       "      <td>1.000000</td>\n",
       "      <td>0.000000</td>\n",
       "      <td>13.000000</td>\n",
       "      <td>1.000000</td>\n",
       "    </tr>\n",
       "    <tr>\n",
       "      <th>25%</th>\n",
       "      <td>6.000000</td>\n",
       "      <td>3.400000e+06</td>\n",
       "      <td>40.000000</td>\n",
       "      <td>1.000000</td>\n",
       "      <td>2.520000</td>\n",
       "      <td>5.000000</td>\n",
       "      <td>18.600000</td>\n",
       "      <td>2.000000</td>\n",
       "      <td>6.000000</td>\n",
       "      <td>0.000000</td>\n",
       "      <td>18585.000000</td>\n",
       "      <td>2242.000000</td>\n",
       "      <td>0.000000</td>\n",
       "      <td>288.000000</td>\n",
       "      <td>0.000000</td>\n",
       "      <td>294.000000</td>\n",
       "      <td>45.000000</td>\n",
       "    </tr>\n",
       "    <tr>\n",
       "      <th>50%</th>\n",
       "      <td>9.000000</td>\n",
       "      <td>4.650000e+06</td>\n",
       "      <td>52.000000</td>\n",
       "      <td>2.000000</td>\n",
       "      <td>2.650000</td>\n",
       "      <td>9.000000</td>\n",
       "      <td>30.000000</td>\n",
       "      <td>4.000000</td>\n",
       "      <td>9.000000</td>\n",
       "      <td>0.000000</td>\n",
       "      <td>26726.000000</td>\n",
       "      <td>11247.000000</td>\n",
       "      <td>0.000000</td>\n",
       "      <td>455.000000</td>\n",
       "      <td>1.000000</td>\n",
       "      <td>502.000000</td>\n",
       "      <td>95.000000</td>\n",
       "    </tr>\n",
       "    <tr>\n",
       "      <th>75%</th>\n",
       "      <td>14.000000</td>\n",
       "      <td>6.800000e+06</td>\n",
       "      <td>69.900000</td>\n",
       "      <td>3.000000</td>\n",
       "      <td>2.800000</td>\n",
       "      <td>16.000000</td>\n",
       "      <td>42.300000</td>\n",
       "      <td>8.000000</td>\n",
       "      <td>11.000000</td>\n",
       "      <td>1.000000</td>\n",
       "      <td>37273.000000</td>\n",
       "      <td>15248.500000</td>\n",
       "      <td>1.000000</td>\n",
       "      <td>612.000000</td>\n",
       "      <td>1.000000</td>\n",
       "      <td>729.000000</td>\n",
       "      <td>232.000000</td>\n",
       "    </tr>\n",
       "    <tr>\n",
       "      <th>max</th>\n",
       "      <td>50.000000</td>\n",
       "      <td>7.630000e+08</td>\n",
       "      <td>900.000000</td>\n",
       "      <td>19.000000</td>\n",
       "      <td>100.000000</td>\n",
       "      <td>60.000000</td>\n",
       "      <td>409.700000</td>\n",
       "      <td>33.000000</td>\n",
       "      <td>112.000000</td>\n",
       "      <td>5.000000</td>\n",
       "      <td>84869.000000</td>\n",
       "      <td>65968.000000</td>\n",
       "      <td>3.000000</td>\n",
       "      <td>3190.000000</td>\n",
       "      <td>3.000000</td>\n",
       "      <td>1344.000000</td>\n",
       "      <td>1580.000000</td>\n",
       "    </tr>\n",
       "  </tbody>\n",
       "</table>\n",
       "</div>"
      ],
      "text/plain": [
       "       total_images    last_price    total_area         rooms  ceiling_height  \\\n",
       "count  23699.000000  2.369900e+04  23699.000000  23699.000000    14504.000000   \n",
       "mean       9.858475  6.541549e+06     60.348651      2.070636        2.771499   \n",
       "std        5.682529  1.088701e+07     35.654083      1.078405        1.261056   \n",
       "min        0.000000  1.219000e+04     12.000000      0.000000        1.000000   \n",
       "25%        6.000000  3.400000e+06     40.000000      1.000000        2.520000   \n",
       "50%        9.000000  4.650000e+06     52.000000      2.000000        2.650000   \n",
       "75%       14.000000  6.800000e+06     69.900000      3.000000        2.800000   \n",
       "max       50.000000  7.630000e+08    900.000000     19.000000      100.000000   \n",
       "\n",
       "       floors_total   living_area         floor  kitchen_area       balcony  \\\n",
       "count  23699.000000  21796.000000  23699.000000  23699.000000  23699.000000   \n",
       "mean      10.667750     34.457852      5.892358      9.329254      0.591080   \n",
       "std        6.585961     22.030445      4.885249      6.395646      0.959298   \n",
       "min        1.000000      2.000000      1.000000      0.000000      0.000000   \n",
       "25%        5.000000     18.600000      2.000000      6.000000      0.000000   \n",
       "50%        9.000000     30.000000      4.000000      9.000000      0.000000   \n",
       "75%       16.000000     42.300000      8.000000     11.000000      1.000000   \n",
       "max       60.000000    409.700000     33.000000    112.000000      5.000000   \n",
       "\n",
       "       airports_nearest  cityCenters_nearest  parks_around3000  parks_nearest  \\\n",
       "count      18157.000000         23699.000000      18181.000000    8079.000000   \n",
       "mean       28793.672193         10886.426896          0.611408     490.804555   \n",
       "std        12630.880622          9634.613697          0.802074     342.317995   \n",
       "min            0.000000             0.000000          0.000000       1.000000   \n",
       "25%        18585.000000          2242.000000          0.000000     288.000000   \n",
       "50%        26726.000000         11247.000000          0.000000     455.000000   \n",
       "75%        37273.000000         15248.500000          1.000000     612.000000   \n",
       "max        84869.000000         65968.000000          3.000000    3190.000000   \n",
       "\n",
       "       ponds_around3000  ponds_nearest  days_exposition  \n",
       "count      18181.000000    9110.000000     20518.000000  \n",
       "mean           0.770255     517.980900       180.888634  \n",
       "std            0.938346     277.720643       219.727988  \n",
       "min            0.000000      13.000000         1.000000  \n",
       "25%            0.000000     294.000000        45.000000  \n",
       "50%            1.000000     502.000000        95.000000  \n",
       "75%            1.000000     729.000000       232.000000  \n",
       "max            3.000000    1344.000000      1580.000000  "
      ]
     },
     "execution_count": 19,
     "metadata": {},
     "output_type": "execute_result"
    }
   ],
   "source": [
    "data.describe()"
   ]
  },
  {
   "cell_type": "code",
   "execution_count": 20,
   "metadata": {},
   "outputs": [
    {
     "data": {
      "image/png": "[encoded data removed]",
      "text/plain": [
       "<Figure size 432x288 with 1 Axes>"
      ]
     },
     "metadata": {
      "needs_background": "light"
     },
     "output_type": "display_data"
    }
   ],
   "source": [
    "data.boxplot('ceiling_height')\n",
    "plt.ylim(0, 20)\n",
    "plt.show()"
   ]
  },
  {
   "cell_type": "markdown",
   "metadata": {},
   "source": [
    "Посмотрим на значения в столбце ceiling_height. Здесь есть аномально высокие значения. Вероятно высота потолков от 10 метров и выше это вещественные значения 1.0. Восстановим корректное значение."
   ]
  },
  {
   "cell_type": "code",
   "execution_count": 21,
   "metadata": {},
   "outputs": [],
   "source": [
    "for i in data['ceiling_height']:\n",
    "     if i >= 9:\n",
    "            data['ceiling_height'] = data['ceiling_height'].replace({i: i/10})"
   ]
  },
  {
   "cell_type": "markdown",
   "metadata": {},
   "source": [
    "Заменим пропуски в этом столбце на медианные значения. Отбросим помещения с высотой потолка менее 2 метров и более 6 метров, так как такие значения встречаются редко."
   ]
  },
  {
   "cell_type": "code",
   "execution_count": 22,
   "metadata": {},
   "outputs": [],
   "source": [
    "data['ceiling_height'] = data['ceiling_height'].fillna(data['ceiling_height'].median())"
   ]
  },
  {
   "cell_type": "code",
   "execution_count": 23,
   "metadata": {},
   "outputs": [],
   "source": [
    "data = data.loc[(data['ceiling_height'] >= 2) & (data['ceiling_height'] <= 6)]"
   ]
  },
  {
   "cell_type": "code",
   "execution_count": 24,
   "metadata": {
    "scrolled": true
   },
   "outputs": [
    {
     "data": {
      "image/png": "[encoded data removed]",
      "text/plain": [
       "<Figure size 432x288 with 1 Axes>"
      ]
     },
     "metadata": {
      "needs_background": "light"
     },
     "output_type": "display_data"
    }
   ],
   "source": [
    "data.boxplot('total_area')\n",
    "plt.ylim(0, 1000)\n",
    "plt.show()"
   ]
  },
  {
   "cell_type": "markdown",
   "metadata": {},
   "source": [
    "Посмотрим на значения столбца `total_area`. Вероятно общая площадь свыше 200 метров это ошибка в данных, как и в случае с высотой потолков. Восстановим корректные значения и преобразуем в целочисленный тип."
   ]
  },
  {
   "cell_type": "code",
   "execution_count": 25,
   "metadata": {},
   "outputs": [],
   "source": [
    "for i in data['total_area']:\n",
    "     if i >= 199:\n",
    "            data['total_area'] = data['total_area'].replace({i: i/10})"
   ]
  },
  {
   "cell_type": "code",
   "execution_count": 26,
   "metadata": {},
   "outputs": [],
   "source": [
    "data['total_area'] = data['total_area'].astype('int')"
   ]
  },
  {
   "cell_type": "code",
   "execution_count": 27,
   "metadata": {},
   "outputs": [
    {
     "data": {
      "image/png": "[encoded data removed]",
      "text/plain": [
       "<Figure size 432x288 with 1 Axes>"
      ]
     },
     "metadata": {
      "needs_background": "light"
     },
     "output_type": "display_data"
    }
   ],
   "source": [
    "data.boxplot('living_area')\n",
    "plt.ylim(2, 400)\n",
    "plt.show()"
   ]
  },
  {
   "cell_type": "markdown",
   "metadata": {},
   "source": [
    "Посмотрим на значения столбца `living_area`. Вероятно и здесь площадь свыше 200 метров это ошибка в данных. Восстановим корректные значения."
   ]
  },
  {
   "cell_type": "code",
   "execution_count": 28,
   "metadata": {},
   "outputs": [],
   "source": [
    "for i in data['living_area']:\n",
    "     if i >= 199:\n",
    "            data['living_area'] = data['living_area'].replace({i: i/10})"
   ]
  },
  {
   "cell_type": "code",
   "execution_count": 29,
   "metadata": {},
   "outputs": [
    {
     "data": {
      "image/png": "[encoded data removed]",
      "text/plain": [
       "<Figure size 432x288 with 1 Axes>"
      ]
     },
     "metadata": {
      "needs_background": "light"
     },
     "output_type": "display_data"
    }
   ],
   "source": [
    "data.boxplot('rooms')\n",
    "plt.ylim(0, 30)\n",
    "plt.show()"
   ]
  },
  {
   "cell_type": "markdown",
   "metadata": {},
   "source": [
    "Посмотрим на значения столбца `rooms`. Отбросим значения свыше 10, так как они очень редкие."
   ]
  },
  {
   "cell_type": "code",
   "execution_count": 30,
   "metadata": {},
   "outputs": [],
   "source": [
    "data = data.loc[data['rooms'] < 10]"
   ]
  },
  {
   "cell_type": "markdown",
   "metadata": {},
   "source": [
    "Восстановив корректные значения, мы можем заполнить пропуски в столбце `living_area` медианным значением по каждому типу из столбца `rooms`, так как на жилую площадь сильнее всего влияет количество комнат."
   ]
  },
  {
   "cell_type": "code",
   "execution_count": 31,
   "metadata": {},
   "outputs": [],
   "source": [
    "data['living_area'] = data['living_area'].fillna(data.groupby(['rooms'])['living_area'].transform('median')).astype('int')"
   ]
  },
  {
   "cell_type": "code",
   "execution_count": 32,
   "metadata": {},
   "outputs": [
    {
     "data": {
      "image/png": "[encoded data removed]",
      "text/plain": [
       "<Figure size 432x288 with 1 Axes>"
      ]
     },
     "metadata": {
      "needs_background": "light"
     },
     "output_type": "display_data"
    }
   ],
   "source": [
    "data.boxplot('kitchen_area')\n",
    "plt.ylim(0, 80)\n",
    "plt.show()"
   ]
  },
  {
   "cell_type": "markdown",
   "metadata": {},
   "source": [
    "Верхней границей значений столбца `kitchen_area` будем считать 70 м², отбросим значений ниже этой границы."
   ]
  },
  {
   "cell_type": "code",
   "execution_count": 33,
   "metadata": {},
   "outputs": [],
   "source": [
    "data = data.loc[data['kitchen_area'] < 70]"
   ]
  },
  {
   "cell_type": "code",
   "execution_count": 34,
   "metadata": {},
   "outputs": [
    {
     "name": "stdout",
     "output_type": "stream",
     "text": [
      "<class 'pandas.core.frame.DataFrame'>\n",
      "Int64Index: 23667 entries, 0 to 23698\n",
      "Data columns (total 22 columns):\n",
      " #   Column                Non-Null Count  Dtype         \n",
      "---  ------                --------------  -----         \n",
      " 0   total_images          23667 non-null  int64         \n",
      " 1   last_price            23667 non-null  int64         \n",
      " 2   total_area            23667 non-null  int64         \n",
      " 3   first_day_exposition  23667 non-null  datetime64[ns]\n",
      " 4   rooms                 23667 non-null  int64         \n",
      " 5   ceiling_height        23667 non-null  float64       \n",
      " 6   floors_total          23667 non-null  int64         \n",
      " 7   living_area           23667 non-null  int64         \n",
      " 8   floor                 23667 non-null  int64         \n",
      " 9   is_apartment          23667 non-null  bool          \n",
      " 10  studio                23667 non-null  bool          \n",
      " 11  open_plan             23667 non-null  bool          \n",
      " 12  kitchen_area          23667 non-null  int64         \n",
      " 13  balcony               23667 non-null  int64         \n",
      " 14  locality_name         23618 non-null  object        \n",
      " 15  airports_nearest      18127 non-null  float64       \n",
      " 16  cityCenters_nearest   23667 non-null  int64         \n",
      " 17  parks_around3000      18151 non-null  float64       \n",
      " 18  parks_nearest         8061 non-null   float64       \n",
      " 19  ponds_around3000      18151 non-null  float64       \n",
      " 20  ponds_nearest         9090 non-null   float64       \n",
      " 21  days_exposition       20489 non-null  float64       \n",
      "dtypes: bool(3), datetime64[ns](1), float64(7), int64(10), object(1)\n",
      "memory usage: 3.7+ MB\n"
     ]
    }
   ],
   "source": [
    "data.info()"
   ]
  },
  {
   "cell_type": "markdown",
   "metadata": {},
   "source": [
    "### Посчитаем и добавим в таблицу новые столбцы"
   ]
  },
  {
   "cell_type": "markdown",
   "metadata": {},
   "source": [
    "Посчитаем цену за один квадратный метр и добавим его в новый столбец."
   ]
  },
  {
   "cell_type": "code",
   "execution_count": 35,
   "metadata": {},
   "outputs": [],
   "source": [
    "data['price_square_metr'] = data['last_price'] / data['total_area']\n",
    "data['price_square_metr'] = data['price_square_metr'].astype('int')"
   ]
  },
  {
   "cell_type": "markdown",
   "metadata": {},
   "source": [
    "Добавим столбцы с информацией о дне недели,месяце и годе публикации объявления."
   ]
  },
  {
   "cell_type": "code",
   "execution_count": 36,
   "metadata": {},
   "outputs": [],
   "source": [
    "data['weekday_exposition'] = pd.DatetimeIndex(data['first_day_exposition']).weekday"
   ]
  },
  {
   "cell_type": "code",
   "execution_count": 37,
   "metadata": {},
   "outputs": [],
   "source": [
    "data['month_exposition'] = pd.DatetimeIndex(data['first_day_exposition']).month"
   ]
  },
  {
   "cell_type": "code",
   "execution_count": 38,
   "metadata": {},
   "outputs": [],
   "source": [
    "data['year_exposition'] = pd.DatetimeIndex(data['first_day_exposition']).year"
   ]
  },
  {
   "cell_type": "markdown",
   "metadata": {},
   "source": [
    "Напишем функцию, которая определит тип этажа квартиры."
   ]
  },
  {
   "cell_type": "code",
   "execution_count": 39,
   "metadata": {},
   "outputs": [],
   "source": [
    "def floor_type(floor):\n",
    "    if floor['floor'] == 1:\n",
    "        return 'первый'\n",
    "    elif floor['floor'] == floor['floors_total']:\n",
    "        return 'последний'\n",
    "    else:\n",
    "        return 'другой'"
   ]
  },
  {
   "cell_type": "markdown",
   "metadata": {},
   "source": [
    "Добавим столбец с информацией о типе этажа."
   ]
  },
  {
   "cell_type": "code",
   "execution_count": 40,
   "metadata": {},
   "outputs": [
    {
     "data": {
      "text/plain": [
       "другой       17418\n",
       "последний     3334\n",
       "первый        2915\n",
       "Name: floor_type, dtype: int64"
      ]
     },
     "execution_count": 40,
     "metadata": {},
     "output_type": "execute_result"
    }
   ],
   "source": [
    "data['floor_type'] = data.apply(floor_type, axis=1)\n",
    "data['floor_type'].value_counts()"
   ]
  },
  {
   "cell_type": "markdown",
   "metadata": {},
   "source": [
    "Переведем расстояние до центра города из м в км и сделаем его целым числом."
   ]
  },
  {
   "cell_type": "code",
   "execution_count": 41,
   "metadata": {},
   "outputs": [],
   "source": [
    "data['cityCenters_nearest_km'] = data['cityCenters_nearest'] / 1000\n",
    "data['cityCenters_nearest_km'] = data['cityCenters_nearest_km'].astype('int')"
   ]
  },
  {
   "cell_type": "markdown",
   "metadata": {},
   "source": [
    "<a id='section3'></a>\n",
    "### Проведём исследовательский анализ данных\n",
    "[Оглавление](#top)"
   ]
  },
  {
   "cell_type": "code",
   "execution_count": 42,
   "metadata": {},
   "outputs": [
    {
     "data": {
      "text/plain": [
       "count    23667.000000\n",
       "mean        57.607259\n",
       "std         26.440045\n",
       "min         12.000000\n",
       "25%         39.000000\n",
       "50%         51.000000\n",
       "75%         68.000000\n",
       "max        198.000000\n",
       "Name: total_area, dtype: float64"
      ]
     },
     "execution_count": 42,
     "metadata": {},
     "output_type": "execute_result"
    },
    {
     "data": {
      "image/png": "[encoded data removed]",
      "text/plain": [
       "<Figure size 432x288 with 1 Axes>"
      ]
     },
     "metadata": {
      "needs_background": "light"
     },
     "output_type": "display_data"
    }
   ],
   "source": [
    "data.plot(y ='total_area', kind ='hist', bins =100, grid=True, range=(0, 200))\n",
    "data['total_area'].describe()"
   ]
  },
  {
   "cell_type": "markdown",
   "metadata": {},
   "source": [
    "Распределение данных столбца `total_area` похоже на нормальное, но есть выбросы (стандартное отклонение - 26). "
   ]
  },
  {
   "cell_type": "code",
   "execution_count": 43,
   "metadata": {},
   "outputs": [
    {
     "data": {
      "text/plain": [
       "count    23667.000000\n",
       "mean        33.663793\n",
       "std         19.647609\n",
       "min          2.000000\n",
       "25%         18.000000\n",
       "50%         30.000000\n",
       "75%         42.000000\n",
       "max        198.000000\n",
       "Name: living_area, dtype: float64"
      ]
     },
     "execution_count": 43,
     "metadata": {},
     "output_type": "execute_result"
    },
    {
     "data": {
      "image/png": "[encoded data removed]",
      "text/plain": [
       "<Figure size 432x288 with 1 Axes>"
      ]
     },
     "metadata": {
      "needs_background": "light"
     },
     "output_type": "display_data"
    }
   ],
   "source": [
    "data.plot(y ='living_area', kind ='hist', bins =100, grid=True, range=(0, 200))\n",
    "data['living_area'].describe()"
   ]
  },
  {
   "cell_type": "markdown",
   "metadata": {},
   "source": [
    "В данных столбца `living_area` есть выбросы (стандартное отклонение - 19). На гистограмме заметны пики, которые можно объяснить тем, что мы заменили отсутствующие значения медианными."
   ]
  },
  {
   "cell_type": "code",
   "execution_count": 44,
   "metadata": {},
   "outputs": [
    {
     "data": {
      "text/plain": [
       "count    23667.000000\n",
       "mean         9.283940\n",
       "std          6.120525\n",
       "min          0.000000\n",
       "25%          6.000000\n",
       "50%          9.000000\n",
       "75%         11.000000\n",
       "max         66.000000\n",
       "Name: kitchen_area, dtype: float64"
      ]
     },
     "execution_count": 44,
     "metadata": {},
     "output_type": "execute_result"
    },
    {
     "data": {
      "image/png": "[encoded data removed]",
      "text/plain": [
       "<Figure size 432x288 with 1 Axes>"
      ]
     },
     "metadata": {
      "needs_background": "light"
     },
     "output_type": "display_data"
    }
   ],
   "source": [
    "data.plot(y ='kitchen_area', kind ='hist', bins =10, grid=True, range=(0, 50))\n",
    "data['kitchen_area'].describe()"
   ]
  },
  {
   "cell_type": "markdown",
   "metadata": {},
   "source": [
    "Распределение данных столбца `kitchen_area` похоже на нормальное, но есть выбросы (стандартное отклонение - 6)."
   ]
  },
  {
   "cell_type": "code",
   "execution_count": 45,
   "metadata": {},
   "outputs": [
    {
     "data": {
      "text/plain": [
       "count    2.366700e+04\n",
       "mean     6.477220e+06\n",
       "std      1.027844e+07\n",
       "min      1.219000e+04\n",
       "25%      3.400000e+06\n",
       "50%      4.646000e+06\n",
       "75%      6.775000e+06\n",
       "max      7.630000e+08\n",
       "Name: last_price, dtype: float64"
      ]
     },
     "execution_count": 45,
     "metadata": {},
     "output_type": "execute_result"
    },
    {
     "data": {
      "image/png": "[encoded data removed]",
      "text/plain": [
       "<Figure size 432x288 with 1 Axes>"
      ]
     },
     "metadata": {
      "needs_background": "light"
     },
     "output_type": "display_data"
    }
   ],
   "source": [
    "data.plot(y ='last_price', kind ='hist', bins =100, grid=True, range=(0, 9000000))\n",
    "data['last_price'].describe()"
   ]
  },
  {
   "cell_type": "markdown",
   "metadata": {},
   "source": [
    "Распределение в столбце `last_price` похоже на нормальное, данные распределены равномерно (стандартное отклонение - 1)."
   ]
  },
  {
   "cell_type": "code",
   "execution_count": 46,
   "metadata": {},
   "outputs": [
    {
     "data": {
      "text/plain": [
       "count    23667.000000\n",
       "mean         2.065112\n",
       "std          1.050823\n",
       "min          0.000000\n",
       "25%          1.000000\n",
       "50%          2.000000\n",
       "75%          3.000000\n",
       "max          9.000000\n",
       "Name: rooms, dtype: float64"
      ]
     },
     "execution_count": 46,
     "metadata": {},
     "output_type": "execute_result"
    },
    {
     "data": {
      "image/png": "[encoded data removed]",
      "text/plain": [
       "<Figure size 432x288 with 1 Axes>"
      ]
     },
     "metadata": {
      "needs_background": "light"
     },
     "output_type": "display_data"
    }
   ],
   "source": [
    "data.plot(y ='rooms', kind ='hist', bins =19, grid=True, range=(0, 19))\n",
    "data['rooms'].describe()"
   ]
  },
  {
   "cell_type": "markdown",
   "metadata": {},
   "source": [
    "Данные в столбце `rooms` распределены равномерно (стандартное отклонение - 1). Чаще всего продаются квартиры с количеством комнат от 1 до 3."
   ]
  },
  {
   "cell_type": "code",
   "execution_count": 47,
   "metadata": {},
   "outputs": [
    {
     "data": {
      "text/plain": [
       "count    23667.000000\n",
       "mean         2.696510\n",
       "std          0.220635\n",
       "min          2.000000\n",
       "25%          2.600000\n",
       "50%          2.650000\n",
       "75%          2.700000\n",
       "max          6.000000\n",
       "Name: ceiling_height, dtype: float64"
      ]
     },
     "execution_count": 47,
     "metadata": {},
     "output_type": "execute_result"
    },
    {
     "data": {
      "image/png": "[encoded data removed]",
      "text/plain": [
       "<Figure size 432x288 with 1 Axes>"
      ]
     },
     "metadata": {
      "needs_background": "light"
     },
     "output_type": "display_data"
    }
   ],
   "source": [
    "data.plot(y='ceiling_height', kind='hist', bins=5, grid=True, range=(2, 4))\n",
    "data['ceiling_height'].describe()"
   ]
  },
  {
   "cell_type": "markdown",
   "metadata": {},
   "source": [
    "Данные в столбце `ceiling_height` распределены равномерно, все значения близки к среднему (стандартное отклонение - 0.2). Чаще продаются квартиры с высотой потолка 2.40 - 2.80 м."
   ]
  },
  {
   "cell_type": "code",
   "execution_count": 48,
   "metadata": {},
   "outputs": [
    {
     "data": {
      "text/plain": [
       "count    23667.000000\n",
       "mean         5.893227\n",
       "std          4.885320\n",
       "min          1.000000\n",
       "25%          2.000000\n",
       "50%          4.000000\n",
       "75%          8.000000\n",
       "max         33.000000\n",
       "Name: floor, dtype: float64"
      ]
     },
     "execution_count": 48,
     "metadata": {},
     "output_type": "execute_result"
    },
    {
     "data": {
      "image/png": "[encoded data removed]",
      "text/plain": [
       "<Figure size 432x288 with 1 Axes>"
      ]
     },
     "metadata": {
      "needs_background": "light"
     },
     "output_type": "display_data"
    }
   ],
   "source": [
    "data.plot(y='floor', kind='hist', bins=10, grid=True)\n",
    "data['floor'].describe()"
   ]
  },
  {
   "cell_type": "markdown",
   "metadata": {},
   "source": [
    "Распределение в столбце `rooms` похоже на распределение Пуассона, есть аномальные значения в данных (стандартное отклонение - 4.8) Чаще продаются квартиры на этажах с 1 по 4."
   ]
  },
  {
   "cell_type": "code",
   "execution_count": 49,
   "metadata": {},
   "outputs": [
    {
     "data": {
      "text/plain": [
       "<AxesSubplot:>"
      ]
     },
     "execution_count": 49,
     "metadata": {},
     "output_type": "execute_result"
    },
    {
     "data": {
      "image/png": "[encoded data removed]",
      "text/plain": [
       "<Figure size 432x288 with 1 Axes>"
      ]
     },
     "metadata": {
      "needs_background": "light"
     },
     "output_type": "display_data"
    }
   ],
   "source": [
    "data['floor_type'].value_counts().plot(kind='bar')"
   ]
  },
  {
   "cell_type": "markdown",
   "metadata": {},
   "source": [
    "Количество продаваемых объектов на первом и последнем этажах примерно одинаково. Но больше всего квартир продается на других этажах."
   ]
  },
  {
   "cell_type": "code",
   "execution_count": 50,
   "metadata": {},
   "outputs": [
    {
     "data": {
      "text/plain": [
       "count    23667.000000\n",
       "mean        10.670343\n",
       "std          6.584935\n",
       "min          1.000000\n",
       "25%          5.000000\n",
       "50%          9.000000\n",
       "75%         16.000000\n",
       "max         60.000000\n",
       "Name: floors_total, dtype: float64"
      ]
     },
     "execution_count": 50,
     "metadata": {},
     "output_type": "execute_result"
    },
    {
     "data": {
      "image/png": "[encoded data removed]",
      "text/plain": [
       "<Figure size 432x288 with 1 Axes>"
      ]
     },
     "metadata": {
      "needs_background": "light"
     },
     "output_type": "display_data"
    }
   ],
   "source": [
    "data.plot(y='floors_total', kind='hist', bins=10, grid=True, range=(0, 60))\n",
    "data['floors_total'].describe()"
   ]
  },
  {
   "cell_type": "markdown",
   "metadata": {},
   "source": [
    "Распределение данных столбца `floors_total` похоже на распределение Пуассона, есть выбросы (стандартное отклонение - 6.6). Чаще всего продаются квартиры в домах этажностью от 1 до 5."
   ]
  },
  {
   "cell_type": "markdown",
   "metadata": {},
   "source": []
  },
  {
   "cell_type": "code",
   "execution_count": 51,
   "metadata": {},
   "outputs": [
    {
     "data": {
      "text/plain": [
       "count    23667.000000\n",
       "mean     10891.080112\n",
       "std       9637.700851\n",
       "min          0.000000\n",
       "25%       2242.000000\n",
       "50%      11250.000000\n",
       "75%      15254.000000\n",
       "max      65968.000000\n",
       "Name: cityCenters_nearest, dtype: float64"
      ]
     },
     "execution_count": 51,
     "metadata": {},
     "output_type": "execute_result"
    },
    {
     "data": {
      "image/png": "[encoded data removed]",
      "text/plain": [
       "<Figure size 432x288 with 1 Axes>"
      ]
     },
     "metadata": {
      "needs_background": "light"
     },
     "output_type": "display_data"
    }
   ],
   "source": [
    "data.plot(y='cityCenters_nearest', kind='hist', bins=10, grid=True, range=(0, 70000))\n",
    "data['cityCenters_nearest'].describe()"
   ]
  },
  {
   "cell_type": "markdown",
   "metadata": {},
   "source": [
    "Распределение данных похоже на распределение Пуассона. Выброс в районе нуля связан с заменой пропущенных данных на ноль. Большинство объектов, выставленных на продажу, находятся на расстоянии 15 км от центра и меньше."
   ]
  },
  {
   "cell_type": "code",
   "execution_count": 52,
   "metadata": {},
   "outputs": [
    {
     "data": {
      "text/plain": [
       "count    18127.000000\n",
       "mean     28798.217852\n",
       "std      12637.280808\n",
       "min          0.000000\n",
       "25%      18578.000000\n",
       "50%      26729.000000\n",
       "75%      37288.000000\n",
       "max      84869.000000\n",
       "Name: airports_nearest, dtype: float64"
      ]
     },
     "execution_count": 52,
     "metadata": {},
     "output_type": "execute_result"
    },
    {
     "data": {
      "image/png": "[encoded data removed]",
      "text/plain": [
       "<Figure size 432x288 with 1 Axes>"
      ]
     },
     "metadata": {
      "needs_background": "light"
     },
     "output_type": "display_data"
    }
   ],
   "source": [
    "data.plot(y='airports_nearest', kind='hist', bins=10, range=(0, 85000))\n",
    "data['airports_nearest'].describe()"
   ]
  },
  {
   "cell_type": "markdown",
   "metadata": {},
   "source": [
    "Распределение в столбце `airports_nearest` похоже на нормальное. Есть аномальные значения в данных (стандартное отклонение - 12637). Большинство объектов находится на расстоянии 20 км от аэропорта."
   ]
  },
  {
   "cell_type": "code",
   "execution_count": 53,
   "metadata": {},
   "outputs": [
    {
     "data": {
      "text/plain": [
       "count    8061.000000\n",
       "mean      490.848158\n",
       "std       341.973856\n",
       "min         1.000000\n",
       "25%       288.000000\n",
       "50%       455.000000\n",
       "75%       612.000000\n",
       "max      3190.000000\n",
       "Name: parks_nearest, dtype: float64"
      ]
     },
     "execution_count": 53,
     "metadata": {},
     "output_type": "execute_result"
    },
    {
     "data": {
      "image/png": "[encoded data removed]",
      "text/plain": [
       "<Figure size 432x288 with 1 Axes>"
      ]
     },
     "metadata": {
      "needs_background": "light"
     },
     "output_type": "display_data"
    }
   ],
   "source": [
    "data.plot(y='parks_nearest', kind='hist', bins=10, range=(0, 2000))\n",
    "data['parks_nearest'].describe()"
   ]
  },
  {
   "cell_type": "markdown",
   "metadata": {},
   "source": [
    "Распределение данных в столбце `parks_nearest` похоже на нормальное, но есть выбросы (стандартное отклонение - 341). Большинство объектов находится на расстоянии 450 м до ближайшего парка."
   ]
  },
  {
   "cell_type": "markdown",
   "metadata": {},
   "source": []
  },
  {
   "cell_type": "code",
   "execution_count": 54,
   "metadata": {},
   "outputs": [
    {
     "data": {
      "text/plain": [
       "count    23667.000000\n",
       "mean         2.569527\n",
       "std          1.789175\n",
       "min          0.000000\n",
       "25%          1.000000\n",
       "50%          3.000000\n",
       "75%          4.000000\n",
       "max          6.000000\n",
       "Name: weekday_exposition, dtype: float64"
      ]
     },
     "execution_count": 54,
     "metadata": {},
     "output_type": "execute_result"
    },
    {
     "data": {
      "image/png": "[encoded data removed]",
      "text/plain": [
       "<Figure size 432x288 with 1 Axes>"
      ]
     },
     "metadata": {
      "needs_background": "light"
     },
     "output_type": "display_data"
    }
   ],
   "source": [
    "data.plot(y='weekday_exposition', kind='hist', bins=7)\n",
    "data['weekday_exposition'].describe()"
   ]
  },
  {
   "cell_type": "markdown",
   "metadata": {},
   "source": [
    "Данные распределены неравномерно (стандартное отклонение - 1.8). К концу недели объявления выкладывают реже."
   ]
  },
  {
   "cell_type": "code",
   "execution_count": 55,
   "metadata": {},
   "outputs": [
    {
     "data": {
      "text/plain": [
       "count    23667.000000\n",
       "mean         6.400135\n",
       "std          3.491540\n",
       "min          1.000000\n",
       "25%          3.000000\n",
       "50%          6.000000\n",
       "75%         10.000000\n",
       "max         12.000000\n",
       "Name: month_exposition, dtype: float64"
      ]
     },
     "execution_count": 55,
     "metadata": {},
     "output_type": "execute_result"
    },
    {
     "data": {
      "image/png": "[encoded data removed]",
      "text/plain": [
       "<Figure size 432x288 with 1 Axes>"
      ]
     },
     "metadata": {
      "needs_background": "light"
     },
     "output_type": "display_data"
    }
   ],
   "source": [
    "data.plot(y='month_exposition', kind='hist', bins=12)\n",
    "data['month_exposition'].describe()"
   ]
  },
  {
   "cell_type": "markdown",
   "metadata": {},
   "source": [
    "Данные распределены неравномерно (стандартное отклонение - 3.5). С февраля по апрель объявления выкладывают чаще. Весной их количество заметно снижается. Затем постепенно растет к осени. В начале и конце года заметен спад."
   ]
  },
  {
   "cell_type": "code",
   "execution_count": 56,
   "metadata": {},
   "outputs": [
    {
     "data": {
      "text/plain": [
       "count    20489.000000\n",
       "mean       180.753917\n",
       "std        219.514263\n",
       "min          1.000000\n",
       "25%         45.000000\n",
       "50%         95.000000\n",
       "75%        231.000000\n",
       "max       1580.000000\n",
       "Name: days_exposition, dtype: float64"
      ]
     },
     "execution_count": 56,
     "metadata": {},
     "output_type": "execute_result"
    },
    {
     "data": {
      "image/png": "[encoded data removed]",
      "text/plain": [
       "<Figure size 432x288 with 1 Axes>"
      ]
     },
     "metadata": {
      "needs_background": "light"
     },
     "output_type": "display_data"
    }
   ],
   "source": [
    "data.plot(y='days_exposition', kind='hist', bins=100, range=(0, 400))\n",
    "data['days_exposition'].describe()"
   ]
  },
  {
   "cell_type": "markdown",
   "metadata": {},
   "source": [
    "Посмотрим на значения столбца `days_exposition`. Продажа обычно занимает 95 дней (50%). Быстрой может считаться продажа менее чем за 45 дней. Долгой - продажа свыше 231 дня."
   ]
  },
  {
   "cell_type": "markdown",
   "metadata": {},
   "source": [
    "Посмотрим, зависит ли общая стоимость объекта от его общей площади."
   ]
  },
  {
   "cell_type": "code",
   "execution_count": 57,
   "metadata": {},
   "outputs": [
    {
     "data": {
      "image/png": "[encoded data removed]",
      "text/plain": [
       "<Figure size 432x288 with 1 Axes>"
      ]
     },
     "metadata": {
      "needs_background": "light"
     },
     "output_type": "display_data"
    }
   ],
   "source": [
    "total_area_pivot = data.pivot_table(index='total_area', values='last_price').plot(grid=True)"
   ]
  },
  {
   "cell_type": "code",
   "execution_count": 58,
   "metadata": {},
   "outputs": [
    {
     "data": {
      "text/plain": [
       "0.3429483124848442"
      ]
     },
     "execution_count": 58,
     "metadata": {},
     "output_type": "execute_result"
    }
   ],
   "source": [
    "data['total_area'].corr(data['last_price'])"
   ]
  },
  {
   "cell_type": "markdown",
   "metadata": {},
   "source": [
    "На графике видно, как с увеличением площади объёкта постепенно увеличивается его цена. Однако, коэффициент корреляции Пирсона (0.34) показывает, что связь между этими параметрами есть, но не слишком сильная. Заметен небольшой пик значений в районе 20 и скачки значений после 100. Вероятно объекты площадью менее 20 и более 100 м² это аномальные значения."
   ]
  },
  {
   "cell_type": "markdown",
   "metadata": {},
   "source": []
  },
  {
   "cell_type": "code",
   "execution_count": 59,
   "metadata": {},
   "outputs": [
    {
     "data": {
      "image/png": "[encoded data removed]",
      "text/plain": [
       "<Figure size 432x288 with 1 Axes>"
      ]
     },
     "metadata": {
      "needs_background": "light"
     },
     "output_type": "display_data"
    }
   ],
   "source": [
    "living_area_pivot = data.pivot_table(index='living_area', values='last_price').plot(grid=True)"
   ]
  },
  {
   "cell_type": "code",
   "execution_count": 60,
   "metadata": {},
   "outputs": [
    {
     "data": {
      "text/plain": [
       "0.4449019224829131"
      ]
     },
     "execution_count": 60,
     "metadata": {},
     "output_type": "execute_result"
    }
   ],
   "source": [
    "data['living_area'].corr(data['last_price'])"
   ]
  },
  {
   "cell_type": "markdown",
   "metadata": {},
   "source": [
    "Посмотрим на график зависимости общей цены от жилой площади объекта. С увеличением жилой площади растет общая стоимость. Коэффициент корреляции Пирсона (0.44) говорит о том, что связь есть, но не слишком сильная. Здесь также наблюдается пик на минимальных значениях и скачки значений после 100, что вероятно также связано с аномалиями в данных. "
   ]
  },
  {
   "cell_type": "code",
   "execution_count": 61,
   "metadata": {},
   "outputs": [
    {
     "data": {
      "image/png": "[encoded data removed]",
      "text/plain": [
       "<Figure size 432x288 with 1 Axes>"
      ]
     },
     "metadata": {
      "needs_background": "light"
     },
     "output_type": "display_data"
    }
   ],
   "source": [
    "kitchen_area_pivot = data.pivot_table(index='kitchen_area', values='last_price').plot(grid=True)"
   ]
  },
  {
   "cell_type": "code",
   "execution_count": 62,
   "metadata": {},
   "outputs": [
    {
     "data": {
      "text/plain": [
       "0.35596997385053697"
      ]
     },
     "execution_count": 62,
     "metadata": {},
     "output_type": "execute_result"
    }
   ],
   "source": [
    "data['kitchen_area'].corr(data['last_price'])"
   ]
  },
  {
   "cell_type": "markdown",
   "metadata": {},
   "source": [
    "Посмотрим на график зависимости общей цены от площади кухни. На графике заметно увеличение цены с увеличением площади кухни. Коэффициент корреляции Пирсона (0.36) говорит о том, что связь не слишком сильная. Наблюдаются скачки значений после 20. Веротяно площадь кухни от 20 м² и выше это аномальные значения."
   ]
  },
  {
   "cell_type": "markdown",
   "metadata": {},
   "source": [
    "Посмотрим, влияет ли количество комнат на общую стоимость объекта."
   ]
  },
  {
   "cell_type": "code",
   "execution_count": 63,
   "metadata": {},
   "outputs": [
    {
     "data": {
      "image/png": "[encoded data removed]",
      "text/plain": [
       "<Figure size 432x288 with 1 Axes>"
      ]
     },
     "metadata": {
      "needs_background": "light"
     },
     "output_type": "display_data"
    }
   ],
   "source": [
    "rooms_pivot = data.pivot_table(index='rooms', values='last_price').plot(grid=True)"
   ]
  },
  {
   "cell_type": "code",
   "execution_count": 64,
   "metadata": {},
   "outputs": [
    {
     "data": {
      "text/plain": [
       "0.3603916621494389"
      ]
     },
     "execution_count": 64,
     "metadata": {},
     "output_type": "execute_result"
    }
   ],
   "source": [
    "data['rooms'].corr(data['last_price'])"
   ]
  },
  {
   "cell_type": "markdown",
   "metadata": {},
   "source": [
    "Из графика видно, что чем больше комнат в продаваемом объекте, тем выше цена. Однако, коэффициент корреляции Пирсона (0.36) говорит о том, что связь не слишком сильная. После 8 заметен спад цены, вероятно количество комнат более 8 это аномалия."
   ]
  },
  {
   "cell_type": "code",
   "execution_count": 65,
   "metadata": {},
   "outputs": [
    {
     "data": {
      "image/png": "[encoded data removed]",
      "text/plain": [
       "<Figure size 432x288 with 1 Axes>"
      ]
     },
     "metadata": {
      "needs_background": "light"
     },
     "output_type": "display_data"
    }
   ],
   "source": [
    "floor_type_pivot = data.pivot_table(index='floor_type', values='last_price').plot(grid=True)"
   ]
  },
  {
   "cell_type": "markdown",
   "metadata": {},
   "source": [
    "Посмотрим на зависимость между общей стоимостью объекта и этажом. Из графика видно, что на первых этажах квартиры дешевле всего. Квартиры на последних этажа самые дорогие."
   ]
  },
  {
   "cell_type": "markdown",
   "metadata": {},
   "source": [
    "Посмотрим, есть ли зависимость между днем недели публикации объявления и общей стоимостью объекта."
   ]
  },
  {
   "cell_type": "code",
   "execution_count": 66,
   "metadata": {},
   "outputs": [
    {
     "data": {
      "image/png": "[encoded data removed]",
      "text/plain": [
       "<Figure size 432x288 with 1 Axes>"
      ]
     },
     "metadata": {
      "needs_background": "light"
     },
     "output_type": "display_data"
    }
   ],
   "source": [
    "weekday_exposition_pivot = data.pivot_table(index='weekday_exposition', values='last_price').plot(grid=True)"
   ]
  },
  {
   "cell_type": "markdown",
   "metadata": {},
   "source": [
    "На графике не видно зависимости между днем недели, когда объявление было опубликовано, и конечной ценой объекта."
   ]
  },
  {
   "cell_type": "code",
   "execution_count": 67,
   "metadata": {},
   "outputs": [
    {
     "data": {
      "image/png": "[encoded data removed]",
      "text/plain": [
       "<Figure size 432x288 with 1 Axes>"
      ]
     },
     "metadata": {
      "needs_background": "light"
     },
     "output_type": "display_data"
    }
   ],
   "source": [
    "month_exposition_pivot = data.pivot_table(index='month_exposition', values='last_price').plot(grid=True)"
   ]
  },
  {
   "cell_type": "markdown",
   "metadata": {},
   "source": [
    "Посмотрим на график зависимости месяца публикации объявления и общей стоимости объекта. Не видно связи между этими параметрами."
   ]
  },
  {
   "cell_type": "code",
   "execution_count": 68,
   "metadata": {},
   "outputs": [
    {
     "data": {
      "image/png": "[encoded data removed]",
      "text/plain": [
       "<Figure size 432x288 with 1 Axes>"
      ]
     },
     "metadata": {
      "needs_background": "light"
     },
     "output_type": "display_data"
    }
   ],
   "source": [
    "year_exposition_pivot = data.pivot_table(index='year_exposition', values='last_price').plot(grid=True)"
   ]
  },
  {
   "cell_type": "markdown",
   "metadata": {},
   "source": [
    "Посмотрим, влияет ли год публикации на общую стоимость объекта. На графике видно, что цена постепенно падала с 2014 по 2018 годы. После 2018 наблюдается рост."
   ]
  },
  {
   "cell_type": "markdown",
   "metadata": {},
   "source": [
    "Выберем 10 населённых пунктов с наибольшим числом объявлений. Посчитаем в них среднюю цену за квадратный метр."
   ]
  },
  {
   "cell_type": "code",
   "execution_count": 69,
   "metadata": {},
   "outputs": [
    {
     "data": {
      "text/html": [
       "<div>\n",
       "<style scoped>\n",
       "    .dataframe tbody tr th:only-of-type {\n",
       "        vertical-align: middle;\n",
       "    }\n",
       "\n",
       "    .dataframe tbody tr th {\n",
       "        vertical-align: top;\n",
       "    }\n",
       "\n",
       "    .dataframe thead th {\n",
       "        text-align: right;\n",
       "    }\n",
       "</style>\n",
       "<table border=\"1\" class=\"dataframe\">\n",
       "  <thead>\n",
       "    <tr style=\"text-align: right;\">\n",
       "      <th></th>\n",
       "      <th>count</th>\n",
       "      <th>mean_price</th>\n",
       "    </tr>\n",
       "    <tr>\n",
       "      <th>locality_name</th>\n",
       "      <th></th>\n",
       "      <th></th>\n",
       "    </tr>\n",
       "  </thead>\n",
       "  <tbody>\n",
       "    <tr>\n",
       "      <th>Санкт-Петербург</th>\n",
       "      <td>15692</td>\n",
       "      <td>105555</td>\n",
       "    </tr>\n",
       "    <tr>\n",
       "      <th>поселок Мурино</th>\n",
       "      <td>556</td>\n",
       "      <td>86410</td>\n",
       "    </tr>\n",
       "    <tr>\n",
       "      <th>поселок Шушары</th>\n",
       "      <td>440</td>\n",
       "      <td>77222</td>\n",
       "    </tr>\n",
       "    <tr>\n",
       "      <th>Всеволожск</th>\n",
       "      <td>398</td>\n",
       "      <td>65811</td>\n",
       "    </tr>\n",
       "    <tr>\n",
       "      <th>Пушкин</th>\n",
       "      <td>369</td>\n",
       "      <td>100000</td>\n",
       "    </tr>\n",
       "    <tr>\n",
       "      <th>Колпино</th>\n",
       "      <td>338</td>\n",
       "      <td>74861</td>\n",
       "    </tr>\n",
       "    <tr>\n",
       "      <th>поселок Парголово</th>\n",
       "      <td>327</td>\n",
       "      <td>92282</td>\n",
       "    </tr>\n",
       "    <tr>\n",
       "      <th>Гатчина</th>\n",
       "      <td>307</td>\n",
       "      <td>67924</td>\n",
       "    </tr>\n",
       "    <tr>\n",
       "      <th>деревня Кудрово</th>\n",
       "      <td>299</td>\n",
       "      <td>92647</td>\n",
       "    </tr>\n",
       "    <tr>\n",
       "      <th>Выборг</th>\n",
       "      <td>237</td>\n",
       "      <td>58333</td>\n",
       "    </tr>\n",
       "  </tbody>\n",
       "</table>\n",
       "</div>"
      ],
      "text/plain": [
       "                   count  mean_price\n",
       "locality_name                       \n",
       "Санкт-Петербург    15692      105555\n",
       "поселок Мурино       556       86410\n",
       "поселок Шушары       440       77222\n",
       "Всеволожск           398       65811\n",
       "Пушкин               369      100000\n",
       "Колпино              338       74861\n",
       "поселок Парголово    327       92282\n",
       "Гатчина              307       67924\n",
       "деревня Кудрово      299       92647\n",
       "Выборг               237       58333"
      ]
     },
     "execution_count": 69,
     "metadata": {},
     "output_type": "execute_result"
    }
   ],
   "source": [
    "locality_name_pivot = data.pivot_table(index='locality_name', values='price_square_metr', aggfunc=['count', 'median'])\n",
    "locality_name_pivot.columns = ['count', 'mean_price']\n",
    "locality_name_pivot['mean_price'] = locality_name_pivot['mean_price'].astype('int')\n",
    "locality_name_pivot = locality_name_pivot.sort_values(by='count', ascending=False)\n",
    "locality_name_pivot.head(10)"
   ]
  },
  {
   "cell_type": "code",
   "execution_count": 70,
   "metadata": {},
   "outputs": [
    {
     "data": {
      "image/png": "[encoded data removed]",
      "text/plain": [
       "<Figure size 432x288 with 1 Axes>"
      ]
     },
     "metadata": {
      "needs_background": "light"
     },
     "output_type": "display_data"
    }
   ],
   "source": [
    "locality_name_pivot.sort_values(by='count', ascending=False).head(10).plot(y='count', kind='bar');"
   ]
  },
  {
   "cell_type": "markdown",
   "metadata": {},
   "source": [
    "Найдем населенный пункт с максимальной стоимостью квадратного метра."
   ]
  },
  {
   "cell_type": "code",
   "execution_count": 71,
   "metadata": {},
   "outputs": [
    {
     "data": {
      "text/html": [
       "<div>\n",
       "<style scoped>\n",
       "    .dataframe tbody tr th:only-of-type {\n",
       "        vertical-align: middle;\n",
       "    }\n",
       "\n",
       "    .dataframe tbody tr th {\n",
       "        vertical-align: top;\n",
       "    }\n",
       "\n",
       "    .dataframe thead th {\n",
       "        text-align: right;\n",
       "    }\n",
       "</style>\n",
       "<table border=\"1\" class=\"dataframe\">\n",
       "  <thead>\n",
       "    <tr style=\"text-align: right;\">\n",
       "      <th></th>\n",
       "      <th>count</th>\n",
       "      <th>mean_price</th>\n",
       "    </tr>\n",
       "    <tr>\n",
       "      <th>locality_name</th>\n",
       "      <th></th>\n",
       "      <th></th>\n",
       "    </tr>\n",
       "  </thead>\n",
       "  <tbody>\n",
       "    <tr>\n",
       "      <th>деревня Хязельки</th>\n",
       "      <td>1</td>\n",
       "      <td>478260</td>\n",
       "    </tr>\n",
       "  </tbody>\n",
       "</table>\n",
       "</div>"
      ],
      "text/plain": [
       "                  count  mean_price\n",
       "locality_name                      \n",
       "деревня Хязельки      1      478260"
      ]
     },
     "execution_count": 71,
     "metadata": {},
     "output_type": "execute_result"
    }
   ],
   "source": [
    "max_price = locality_name_pivot[locality_name_pivot['mean_price'] == locality_name_pivot['mean_price'].max()]\n",
    "max_price"
   ]
  },
  {
   "cell_type": "code",
   "execution_count": 72,
   "metadata": {},
   "outputs": [
    {
     "data": {
      "image/png": "[encoded data removed]",
      "text/plain": [
       "<Figure size 432x288 with 1 Axes>"
      ]
     },
     "metadata": {
      "needs_background": "light"
     },
     "output_type": "display_data"
    }
   ],
   "source": [
    "locality_name_pivot.sort_values(by='mean_price', ascending=False).head(10).plot(y='mean_price', kind='bar');"
   ]
  },
  {
   "cell_type": "markdown",
   "metadata": {},
   "source": [
    "Найдем населенный пункт с минимальной стоимостью квадратного метра."
   ]
  },
  {
   "cell_type": "code",
   "execution_count": 73,
   "metadata": {
    "scrolled": true
   },
   "outputs": [
    {
     "data": {
      "text/html": [
       "<div>\n",
       "<style scoped>\n",
       "    .dataframe tbody tr th:only-of-type {\n",
       "        vertical-align: middle;\n",
       "    }\n",
       "\n",
       "    .dataframe tbody tr th {\n",
       "        vertical-align: top;\n",
       "    }\n",
       "\n",
       "    .dataframe thead th {\n",
       "        text-align: right;\n",
       "    }\n",
       "</style>\n",
       "<table border=\"1\" class=\"dataframe\">\n",
       "  <thead>\n",
       "    <tr style=\"text-align: right;\">\n",
       "      <th></th>\n",
       "      <th>count</th>\n",
       "      <th>mean_price</th>\n",
       "    </tr>\n",
       "    <tr>\n",
       "      <th>locality_name</th>\n",
       "      <th></th>\n",
       "      <th></th>\n",
       "    </tr>\n",
       "  </thead>\n",
       "  <tbody>\n",
       "    <tr>\n",
       "      <th>деревня Старополье</th>\n",
       "      <td>3</td>\n",
       "      <td>11000</td>\n",
       "    </tr>\n",
       "  </tbody>\n",
       "</table>\n",
       "</div>"
      ],
      "text/plain": [
       "                    count  mean_price\n",
       "locality_name                        \n",
       "деревня Старополье      3       11000"
      ]
     },
     "execution_count": 73,
     "metadata": {},
     "output_type": "execute_result"
    }
   ],
   "source": [
    "min_price = locality_name_pivot[locality_name_pivot['mean_price'] == locality_name_pivot['mean_price'].min()]\n",
    "min_price"
   ]
  },
  {
   "cell_type": "code",
   "execution_count": 74,
   "metadata": {},
   "outputs": [
    {
     "data": {
      "image/png": "[encoded data removed]",
      "text/plain": [
       "<Figure size 432x288 with 1 Axes>"
      ]
     },
     "metadata": {
      "needs_background": "light"
     },
     "output_type": "display_data"
    }
   ],
   "source": [
    "locality_name_pivot.sort_values(by='mean_price', ascending=True).head(10).plot(y='mean_price', kind='bar');"
   ]
  },
  {
   "cell_type": "markdown",
   "metadata": {},
   "source": [
    "Больше всего объявлений о продаже в Санкт-Петербурге (15692). Стоимость квадратного метра выше всего в деревне Хязельки (478260), она в несколько раз превышает стоимость квадратного метра в Санкт-Петербурге. Вероятно здесь расположен элитный жилой комплекс. Самая низкая цена за квадратный метр в деревне Старополье (11206)."
   ]
  },
  {
   "cell_type": "markdown",
   "metadata": {},
   "source": [
    "Посмотрим как меняется цена объекта в зависимости от близости к центру города в Санкт-Петербурге. "
   ]
  },
  {
   "cell_type": "code",
   "execution_count": 75,
   "metadata": {},
   "outputs": [
    {
     "data": {
      "image/png": "[encoded data removed]",
      "text/plain": [
       "<Figure size 432x288 with 1 Axes>"
      ]
     },
     "metadata": {
      "needs_background": "light"
     },
     "output_type": "display_data"
    }
   ],
   "source": [
    "peterburg_center_price = (\n",
    "    data.query('locality_name == \"Санкт-Петербург\" and cityCenters_nearest_km != 0')\n",
    "    .pivot_table(index='cityCenters_nearest_km', values='last_price', aggfunc='mean')\n",
    "    .plot(grid=True)\n",
    ")\n"
   ]
  },
  {
   "cell_type": "markdown",
   "metadata": {},
   "source": [
    "На графике заметно, что чем дальше объект от центра, тем ниже его цена. Резкий спад цены наблюдается в промежутке 1-4 км и 6-9 км от центра. После 15 км от центра зависимость цены становится менее очевидной. Скачок цены в районе 27 км от центра вероятно связан с расположением на этом расстоянии какого-то элитного жилого комплекса."
   ]
  },
  {
   "cell_type": "markdown",
   "metadata": {},
   "source": [
    "<a id='section4'></a>\n",
    "### Общий вывод\n",
    "[Оглавление](#top)"
   ]
  },
  {
   "cell_type": "markdown",
   "metadata": {},
   "source": [
    "1. Данные по общей площади и жилой площади содержат аномально низкие и аномально высокие значения (менее 20 м² и более 100 м², соответственно). Данные по площади кухни содержат аномальные высокие значения (более 20 м²).\n",
    "Чаще встречаются в объявлениях объекты с количеством комнат от 1 до 3, с высотой потолков в диапазоне 2.40-2.80 метров, находящиеся на 1-4 этажах. На первом и последнем этажах продается примерно равное количество объектов, но на других этажах они продаются чаще.\n",
    "Больше всего объявлений о продаже в домах этажностью 1-5 этажей.\n",
    "Большинство объектов, выставленных на продажу, находится на расстоянии 15 км от центра, в 20 км до ближайшего аэропорта и 450 метрах до ближайшего парка.\n",
    "В выходные дни объявления о продаже публикуют реже, чем в будни. Чаще выкладывают объявления с февраля по апрель, в конце и в начале года объявления публикуют реже всего.\n",
    "2. Продажа объекта обычно занимает 95 дней, быстрой может считаться продажа менее 45 дней, долгой — более 231 дня.\n",
    "3. На общую стоимость объекта влияет его общая площадь, жилая площадь, площадь кухни и количество комнат. Чем больше эти параметры, тем выше цена.\n",
    "Самые дешевые квартиры находятся на первых этажах, самые дорогие — на последних.\n",
    "На цену влияет год публикации объявления, с 2014 по 2018 годы цена на объекты падала. С 2018 года цена начала расти.\n",
    "4. Больше всего объявлений о продаже в Санкт-Петербурге (15692). Стоимость квадратного метра выше всего в деревне Хязельки (478260). Самая низкая цена за квадратный метр в деревне Старополье (11206).\n",
    "5. В Санкт-Петербурге цена зависит от близости к центру города. Чем дальше объект от центра, тем ниже его цена. Резкий спад цены наблюдается в промежутке 1-4 км и 6-9 км от центра. После 15 км от центра зависимость цены становится менее очевидной."
   ]
  }
 ],
 "metadata": {
  "ExecuteTimeLog": [
   {
    "duration": 423,
    "start_time": "2023-02-16T06:35:33.483Z"
   },
   {
    "duration": 131,
    "start_time": "2023-02-16T06:38:35.936Z"
   },
   {
    "duration": 70,
    "start_time": "2023-02-16T06:39:31.378Z"
   },
   {
    "duration": 14,
    "start_time": "2023-02-16T06:39:46.710Z"
   },
   {
    "duration": 13,
    "start_time": "2023-02-16T06:40:30.299Z"
   },
   {
    "duration": 85,
    "start_time": "2023-02-16T06:43:57.674Z"
   },
   {
    "duration": 39,
    "start_time": "2023-02-16T06:44:00.333Z"
   },
   {
    "duration": 13,
    "start_time": "2023-02-16T06:44:15.165Z"
   },
   {
    "duration": 76,
    "start_time": "2023-02-16T06:58:47.431Z"
   },
   {
    "duration": 13,
    "start_time": "2023-02-16T06:59:05.453Z"
   },
   {
    "duration": 9,
    "start_time": "2023-02-16T07:08:43.706Z"
   },
   {
    "duration": 5,
    "start_time": "2023-02-16T07:13:02.764Z"
   },
   {
    "duration": 380,
    "start_time": "2023-02-16T07:27:07.977Z"
   },
   {
    "duration": 88,
    "start_time": "2023-02-16T07:27:15.742Z"
   },
   {
    "duration": 40,
    "start_time": "2023-02-16T07:27:19.857Z"
   },
   {
    "duration": 15,
    "start_time": "2023-02-16T07:27:24.160Z"
   },
   {
    "duration": 10,
    "start_time": "2023-02-16T07:27:31.463Z"
   },
   {
    "duration": 2061,
    "start_time": "2023-02-16T07:28:29.287Z"
   },
   {
    "duration": 5,
    "start_time": "2023-02-16T07:59:48.112Z"
   },
   {
    "duration": 5,
    "start_time": "2023-02-16T08:00:05.009Z"
   },
   {
    "duration": 4,
    "start_time": "2023-02-16T08:05:35.793Z"
   },
   {
    "duration": 6,
    "start_time": "2023-02-16T08:05:48.118Z"
   },
   {
    "duration": 3,
    "start_time": "2023-02-16T08:26:05.506Z"
   },
   {
    "duration": 8,
    "start_time": "2023-02-16T08:38:32.801Z"
   },
   {
    "duration": 35,
    "start_time": "2023-02-16T08:38:40.224Z"
   },
   {
    "duration": 23,
    "start_time": "2023-02-16T08:39:13.981Z"
   },
   {
    "duration": 11,
    "start_time": "2023-02-16T08:39:31.122Z"
   },
   {
    "duration": 782,
    "start_time": "2023-02-16T08:47:12.327Z"
   },
   {
    "duration": 15,
    "start_time": "2023-02-16T08:48:02.677Z"
   },
   {
    "duration": 6,
    "start_time": "2023-02-16T08:48:38.229Z"
   },
   {
    "duration": 13,
    "start_time": "2023-02-16T08:49:11.701Z"
   },
   {
    "duration": 6,
    "start_time": "2023-02-16T08:49:43.647Z"
   },
   {
    "duration": 1181,
    "start_time": "2023-02-16T08:54:50.483Z"
   },
   {
    "duration": 4,
    "start_time": "2023-02-16T08:55:46.351Z"
   },
   {
    "duration": 18,
    "start_time": "2023-02-16T08:56:08.079Z"
   },
   {
    "duration": 7,
    "start_time": "2023-02-16T09:01:12.415Z"
   },
   {
    "duration": 9,
    "start_time": "2023-02-16T09:42:35.669Z"
   },
   {
    "duration": 8,
    "start_time": "2023-02-16T09:42:41.528Z"
   },
   {
    "duration": 7,
    "start_time": "2023-02-16T09:42:53.595Z"
   },
   {
    "duration": 9,
    "start_time": "2023-02-16T09:43:04.066Z"
   },
   {
    "duration": 5,
    "start_time": "2023-02-16T09:43:33.035Z"
   },
   {
    "duration": 6,
    "start_time": "2023-02-16T09:44:10.697Z"
   },
   {
    "duration": 6,
    "start_time": "2023-02-16T10:31:59.901Z"
   },
   {
    "duration": 7,
    "start_time": "2023-02-16T10:32:19.654Z"
   },
   {
    "duration": 4,
    "start_time": "2023-02-16T10:32:46.289Z"
   },
   {
    "duration": 8,
    "start_time": "2023-02-16T10:32:57.274Z"
   },
   {
    "duration": 65,
    "start_time": "2023-02-16T11:12:44.735Z"
   },
   {
    "duration": 64,
    "start_time": "2023-02-16T11:12:57.929Z"
   },
   {
    "duration": 68,
    "start_time": "2023-02-16T11:13:03.833Z"
   },
   {
    "duration": 6,
    "start_time": "2023-02-16T11:14:05.419Z"
   },
   {
    "duration": 14,
    "start_time": "2023-02-16T11:14:12.523Z"
   },
   {
    "duration": 6,
    "start_time": "2023-02-16T11:14:15.823Z"
   },
   {
    "duration": 586,
    "start_time": "2023-02-16T11:15:27.318Z"
   },
   {
    "duration": 87,
    "start_time": "2023-02-16T11:15:27.906Z"
   },
   {
    "duration": 44,
    "start_time": "2023-02-16T11:15:27.994Z"
   },
   {
    "duration": 15,
    "start_time": "2023-02-16T11:15:28.040Z"
   },
   {
    "duration": 2031,
    "start_time": "2023-02-16T11:15:28.057Z"
   },
   {
    "duration": 9,
    "start_time": "2023-02-16T11:15:30.090Z"
   },
   {
    "duration": 16,
    "start_time": "2023-02-16T11:15:30.101Z"
   },
   {
    "duration": 7,
    "start_time": "2023-02-16T11:15:30.119Z"
   },
   {
    "duration": 11,
    "start_time": "2023-02-16T11:15:30.127Z"
   },
   {
    "duration": 21,
    "start_time": "2023-02-16T11:15:30.139Z"
   },
   {
    "duration": 19,
    "start_time": "2023-02-16T11:15:30.161Z"
   },
   {
    "duration": 28,
    "start_time": "2023-02-16T11:15:30.182Z"
   },
   {
    "duration": 16,
    "start_time": "2023-02-16T11:15:30.212Z"
   },
   {
    "duration": 8,
    "start_time": "2023-02-16T11:17:51.689Z"
   },
   {
    "duration": 9,
    "start_time": "2023-02-16T11:18:01.979Z"
   },
   {
    "duration": 7,
    "start_time": "2023-02-16T11:22:13.251Z"
   },
   {
    "duration": 9,
    "start_time": "2023-02-16T11:22:25.945Z"
   },
   {
    "duration": 7,
    "start_time": "2023-02-16T11:31:13.835Z"
   },
   {
    "duration": 6,
    "start_time": "2023-02-16T11:31:35.240Z"
   },
   {
    "duration": 8,
    "start_time": "2023-02-16T11:31:42.742Z"
   },
   {
    "duration": 22,
    "start_time": "2023-02-16T12:27:59.628Z"
   },
   {
    "duration": 5,
    "start_time": "2023-02-16T12:28:10.990Z"
   },
   {
    "duration": 3,
    "start_time": "2023-02-16T12:28:45.095Z"
   },
   {
    "duration": 4,
    "start_time": "2023-02-16T12:29:11.066Z"
   },
   {
    "duration": 3,
    "start_time": "2023-02-16T12:32:17.681Z"
   },
   {
    "duration": 5,
    "start_time": "2023-02-16T12:32:18.628Z"
   },
   {
    "duration": 80,
    "start_time": "2023-02-16T12:37:58.753Z"
   },
   {
    "duration": 590,
    "start_time": "2023-02-16T12:39:34.725Z"
   },
   {
    "duration": 94,
    "start_time": "2023-02-16T12:39:35.317Z"
   },
   {
    "duration": 44,
    "start_time": "2023-02-16T12:39:35.412Z"
   },
   {
    "duration": 28,
    "start_time": "2023-02-16T12:39:35.458Z"
   },
   {
    "duration": 2029,
    "start_time": "2023-02-16T12:39:35.487Z"
   },
   {
    "duration": 9,
    "start_time": "2023-02-16T12:39:37.518Z"
   },
   {
    "duration": 10,
    "start_time": "2023-02-16T12:39:37.529Z"
   },
   {
    "duration": 7,
    "start_time": "2023-02-16T12:39:37.541Z"
   },
   {
    "duration": 3,
    "start_time": "2023-02-16T12:39:37.550Z"
   },
   {
    "duration": 12,
    "start_time": "2023-02-16T12:39:37.555Z"
   },
   {
    "duration": 17,
    "start_time": "2023-02-16T12:39:37.569Z"
   },
   {
    "duration": 18,
    "start_time": "2023-02-16T12:39:37.588Z"
   },
   {
    "duration": 7,
    "start_time": "2023-02-16T12:39:37.608Z"
   },
   {
    "duration": 12,
    "start_time": "2023-02-16T12:39:37.616Z"
   },
   {
    "duration": 7,
    "start_time": "2023-02-16T12:39:53.555Z"
   },
   {
    "duration": 74,
    "start_time": "2023-02-16T12:41:10.119Z"
   },
   {
    "duration": 8,
    "start_time": "2023-02-16T12:42:06.328Z"
   },
   {
    "duration": 7,
    "start_time": "2023-02-16T12:42:11.246Z"
   },
   {
    "duration": 9,
    "start_time": "2023-02-16T12:42:18.459Z"
   },
   {
    "duration": 6,
    "start_time": "2023-02-16T12:43:10.535Z"
   },
   {
    "duration": 8,
    "start_time": "2023-02-16T12:44:08.799Z"
   },
   {
    "duration": 15,
    "start_time": "2023-02-16T12:47:36.456Z"
   },
   {
    "duration": 14,
    "start_time": "2023-02-16T12:57:07.733Z"
   },
   {
    "duration": 6,
    "start_time": "2023-02-16T12:57:20.016Z"
   },
   {
    "duration": 35,
    "start_time": "2023-02-16T13:12:07.408Z"
   },
   {
    "duration": 10,
    "start_time": "2023-02-16T13:19:30.574Z"
   },
   {
    "duration": 147,
    "start_time": "2023-02-16T13:23:25.976Z"
   },
   {
    "duration": 154,
    "start_time": "2023-02-16T13:23:45.119Z"
   },
   {
    "duration": 253,
    "start_time": "2023-02-16T13:23:55.888Z"
   },
   {
    "duration": 140,
    "start_time": "2023-02-16T13:24:04.618Z"
   },
   {
    "duration": 143,
    "start_time": "2023-02-16T13:24:17.353Z"
   },
   {
    "duration": 222,
    "start_time": "2023-02-16T13:26:32.282Z"
   },
   {
    "duration": 153,
    "start_time": "2023-02-16T13:27:03.032Z"
   },
   {
    "duration": 137,
    "start_time": "2023-02-16T13:27:15.279Z"
   },
   {
    "duration": 140,
    "start_time": "2023-02-16T13:29:35.112Z"
   },
   {
    "duration": 143,
    "start_time": "2023-02-16T13:35:36.885Z"
   },
   {
    "duration": 153,
    "start_time": "2023-02-16T13:37:48.187Z"
   },
   {
    "duration": 148,
    "start_time": "2023-02-16T13:37:53.142Z"
   },
   {
    "duration": 158,
    "start_time": "2023-02-16T13:38:00.900Z"
   },
   {
    "duration": 143,
    "start_time": "2023-02-16T13:38:09.048Z"
   },
   {
    "duration": 171,
    "start_time": "2023-02-16T13:44:02.325Z"
   },
   {
    "duration": 193,
    "start_time": "2023-02-16T13:44:17.291Z"
   },
   {
    "duration": 166,
    "start_time": "2023-02-16T13:44:28.211Z"
   },
   {
    "duration": 366,
    "start_time": "2023-02-16T13:45:17.731Z"
   },
   {
    "duration": 255,
    "start_time": "2023-02-16T13:45:32.488Z"
   },
   {
    "duration": 255,
    "start_time": "2023-02-16T13:45:53.083Z"
   },
   {
    "duration": 254,
    "start_time": "2023-02-16T13:49:07.575Z"
   },
   {
    "duration": 258,
    "start_time": "2023-02-16T13:49:16.894Z"
   },
   {
    "duration": 264,
    "start_time": "2023-02-16T13:57:47.201Z"
   },
   {
    "duration": 374,
    "start_time": "2023-02-16T13:58:03.864Z"
   },
   {
    "duration": 274,
    "start_time": "2023-02-16T13:58:19.075Z"
   },
   {
    "duration": 48,
    "start_time": "2023-02-17T05:14:56.763Z"
   },
   {
    "duration": 748,
    "start_time": "2023-02-17T05:15:17.244Z"
   },
   {
    "duration": 302,
    "start_time": "2023-02-17T05:15:17.994Z"
   },
   {
    "duration": 41,
    "start_time": "2023-02-17T05:15:18.298Z"
   },
   {
    "duration": 15,
    "start_time": "2023-02-17T05:15:18.341Z"
   },
   {
    "duration": 2019,
    "start_time": "2023-02-17T05:15:18.358Z"
   },
   {
    "duration": 9,
    "start_time": "2023-02-17T05:15:20.379Z"
   },
   {
    "duration": 9,
    "start_time": "2023-02-17T05:15:20.390Z"
   },
   {
    "duration": 7,
    "start_time": "2023-02-17T05:15:20.400Z"
   },
   {
    "duration": 3,
    "start_time": "2023-02-17T05:15:20.409Z"
   },
   {
    "duration": 10,
    "start_time": "2023-02-17T05:15:20.414Z"
   },
   {
    "duration": 14,
    "start_time": "2023-02-17T05:15:20.426Z"
   },
   {
    "duration": 14,
    "start_time": "2023-02-17T05:15:20.442Z"
   },
   {
    "duration": 6,
    "start_time": "2023-02-17T05:15:20.457Z"
   },
   {
    "duration": 16,
    "start_time": "2023-02-17T05:15:20.492Z"
   },
   {
    "duration": 54,
    "start_time": "2023-02-17T05:15:20.509Z"
   },
   {
    "duration": 47,
    "start_time": "2023-02-17T05:15:36.145Z"
   },
   {
    "duration": 54,
    "start_time": "2023-02-17T05:15:50.493Z"
   },
   {
    "duration": 31,
    "start_time": "2023-02-17T05:16:40.878Z"
   },
   {
    "duration": 132,
    "start_time": "2023-02-17T05:16:48.838Z"
   },
   {
    "duration": 186,
    "start_time": "2023-02-17T05:17:22.106Z"
   },
   {
    "duration": 286,
    "start_time": "2023-02-17T05:18:07.206Z"
   },
   {
    "duration": 288,
    "start_time": "2023-02-17T05:18:17.446Z"
   },
   {
    "duration": 69,
    "start_time": "2023-02-17T05:27:17.977Z"
   },
   {
    "duration": 170,
    "start_time": "2023-02-17T05:27:28.618Z"
   },
   {
    "duration": 94,
    "start_time": "2023-02-17T05:28:41.462Z"
   },
   {
    "duration": 101,
    "start_time": "2023-02-17T05:29:05.796Z"
   },
   {
    "duration": 94,
    "start_time": "2023-02-17T05:29:38.535Z"
   },
   {
    "duration": 98,
    "start_time": "2023-02-17T05:29:46.316Z"
   },
   {
    "duration": 99,
    "start_time": "2023-02-17T05:30:17.595Z"
   },
   {
    "duration": 95,
    "start_time": "2023-02-17T05:30:23.352Z"
   },
   {
    "duration": 93,
    "start_time": "2023-02-17T05:30:28.999Z"
   },
   {
    "duration": 105,
    "start_time": "2023-02-17T05:30:55.062Z"
   },
   {
    "duration": 90,
    "start_time": "2023-02-17T05:31:08.203Z"
   },
   {
    "duration": 70,
    "start_time": "2023-02-17T05:31:56.496Z"
   },
   {
    "duration": 103,
    "start_time": "2023-02-17T05:35:14.789Z"
   },
   {
    "duration": 104,
    "start_time": "2023-02-17T05:35:24.050Z"
   },
   {
    "duration": 6,
    "start_time": "2023-02-17T06:11:20.564Z"
   },
   {
    "duration": 55,
    "start_time": "2023-02-17T06:13:25.927Z"
   },
   {
    "duration": 4,
    "start_time": "2023-02-17T06:15:26.855Z"
   },
   {
    "duration": 7,
    "start_time": "2023-02-17T06:15:40.959Z"
   },
   {
    "duration": 8,
    "start_time": "2023-02-17T06:15:56.757Z"
   },
   {
    "duration": 7,
    "start_time": "2023-02-17T06:16:09.885Z"
   },
   {
    "duration": 6,
    "start_time": "2023-02-17T06:16:43.955Z"
   },
   {
    "duration": 6,
    "start_time": "2023-02-17T06:16:53.050Z"
   },
   {
    "duration": 11,
    "start_time": "2023-02-17T06:17:51.345Z"
   },
   {
    "duration": 110,
    "start_time": "2023-02-17T06:37:13.185Z"
   },
   {
    "duration": 129,
    "start_time": "2023-02-17T06:38:25.944Z"
   },
   {
    "duration": 115,
    "start_time": "2023-02-17T06:38:33.875Z"
   },
   {
    "duration": 125,
    "start_time": "2023-02-17T06:38:41.805Z"
   },
   {
    "duration": 105,
    "start_time": "2023-02-17T06:38:49.783Z"
   },
   {
    "duration": 221,
    "start_time": "2023-02-17T06:39:43.236Z"
   },
   {
    "duration": 17,
    "start_time": "2023-02-17T06:50:50.235Z"
   },
   {
    "duration": 369,
    "start_time": "2023-02-17T06:51:15.949Z"
   },
   {
    "duration": 289,
    "start_time": "2023-02-17T06:51:32.137Z"
   },
   {
    "duration": 694,
    "start_time": "2023-02-17T06:51:48.784Z"
   },
   {
    "duration": 147,
    "start_time": "2023-02-17T06:51:49.480Z"
   },
   {
    "duration": 52,
    "start_time": "2023-02-17T06:51:49.629Z"
   },
   {
    "duration": 15,
    "start_time": "2023-02-17T06:51:49.693Z"
   },
   {
    "duration": 2119,
    "start_time": "2023-02-17T06:51:49.710Z"
   },
   {
    "duration": 14,
    "start_time": "2023-02-17T06:51:51.831Z"
   },
   {
    "duration": 8,
    "start_time": "2023-02-17T06:51:51.846Z"
   },
   {
    "duration": 10,
    "start_time": "2023-02-17T06:51:51.856Z"
   },
   {
    "duration": 4,
    "start_time": "2023-02-17T06:51:51.868Z"
   },
   {
    "duration": 16,
    "start_time": "2023-02-17T06:51:51.874Z"
   },
   {
    "duration": 14,
    "start_time": "2023-02-17T06:51:51.891Z"
   },
   {
    "duration": 19,
    "start_time": "2023-02-17T06:51:51.906Z"
   },
   {
    "duration": 23,
    "start_time": "2023-02-17T06:51:51.927Z"
   },
   {
    "duration": 16,
    "start_time": "2023-02-17T06:51:51.952Z"
   },
   {
    "duration": 15,
    "start_time": "2023-02-17T06:51:51.970Z"
   },
   {
    "duration": 183,
    "start_time": "2023-02-17T06:51:51.986Z"
   },
   {
    "duration": 351,
    "start_time": "2023-02-17T06:52:06.190Z"
   },
   {
    "duration": 286,
    "start_time": "2023-02-17T06:54:36.641Z"
   },
   {
    "duration": 637,
    "start_time": "2023-02-17T06:55:30.301Z"
   },
   {
    "duration": 104,
    "start_time": "2023-02-17T06:55:30.939Z"
   },
   {
    "duration": 51,
    "start_time": "2023-02-17T06:55:31.045Z"
   },
   {
    "duration": 18,
    "start_time": "2023-02-17T06:55:31.098Z"
   },
   {
    "duration": 2147,
    "start_time": "2023-02-17T06:55:31.118Z"
   },
   {
    "duration": 9,
    "start_time": "2023-02-17T06:55:33.267Z"
   },
   {
    "duration": 10,
    "start_time": "2023-02-17T06:55:33.277Z"
   },
   {
    "duration": 7,
    "start_time": "2023-02-17T06:55:33.289Z"
   },
   {
    "duration": 4,
    "start_time": "2023-02-17T06:55:33.297Z"
   },
   {
    "duration": 11,
    "start_time": "2023-02-17T06:55:33.303Z"
   },
   {
    "duration": 11,
    "start_time": "2023-02-17T06:55:33.315Z"
   },
   {
    "duration": 19,
    "start_time": "2023-02-17T06:55:33.327Z"
   },
   {
    "duration": 6,
    "start_time": "2023-02-17T06:55:33.348Z"
   },
   {
    "duration": 41,
    "start_time": "2023-02-17T06:55:33.356Z"
   },
   {
    "duration": 121,
    "start_time": "2023-02-17T06:55:33.399Z"
   },
   {
    "duration": 121,
    "start_time": "2023-02-17T06:59:18.345Z"
   },
   {
    "duration": 128,
    "start_time": "2023-02-17T06:59:29.722Z"
   },
   {
    "duration": 141,
    "start_time": "2023-02-17T07:00:16.474Z"
   },
   {
    "duration": 108,
    "start_time": "2023-02-17T07:07:57.372Z"
   },
   {
    "duration": 120,
    "start_time": "2023-02-17T07:08:24.575Z"
   },
   {
    "duration": 133,
    "start_time": "2023-02-17T07:14:46.924Z"
   },
   {
    "duration": 83,
    "start_time": "2023-02-17T07:23:37.573Z"
   },
   {
    "duration": 10,
    "start_time": "2023-02-17T07:23:54.044Z"
   },
   {
    "duration": 12,
    "start_time": "2023-02-17T07:24:13.447Z"
   },
   {
    "duration": 31,
    "start_time": "2023-02-17T07:24:28.528Z"
   },
   {
    "duration": 118,
    "start_time": "2023-02-17T07:24:57.074Z"
   },
   {
    "duration": 26,
    "start_time": "2023-02-17T09:55:54.104Z"
   },
   {
    "duration": 9,
    "start_time": "2023-02-17T09:56:22.460Z"
   },
   {
    "duration": 26,
    "start_time": "2023-02-17T09:56:32.808Z"
   },
   {
    "duration": 7,
    "start_time": "2023-02-17T10:05:38.065Z"
   },
   {
    "duration": 10,
    "start_time": "2023-02-17T10:05:50.107Z"
   },
   {
    "duration": 6,
    "start_time": "2023-02-17T10:14:54.082Z"
   },
   {
    "duration": 8,
    "start_time": "2023-02-17T10:50:44.861Z"
   },
   {
    "duration": 581,
    "start_time": "2023-02-17T10:51:08.344Z"
   },
   {
    "duration": 93,
    "start_time": "2023-02-17T10:51:08.927Z"
   },
   {
    "duration": 44,
    "start_time": "2023-02-17T10:51:09.022Z"
   },
   {
    "duration": 30,
    "start_time": "2023-02-17T10:51:09.069Z"
   },
   {
    "duration": 1975,
    "start_time": "2023-02-17T10:51:09.101Z"
   },
   {
    "duration": 20,
    "start_time": "2023-02-17T10:51:11.077Z"
   },
   {
    "duration": 5,
    "start_time": "2023-02-17T10:51:11.099Z"
   },
   {
    "duration": 10,
    "start_time": "2023-02-17T10:51:11.106Z"
   },
   {
    "duration": 6,
    "start_time": "2023-02-17T10:51:11.117Z"
   },
   {
    "duration": 3,
    "start_time": "2023-02-17T10:51:11.125Z"
   },
   {
    "duration": 9,
    "start_time": "2023-02-17T10:51:11.129Z"
   },
   {
    "duration": 9,
    "start_time": "2023-02-17T10:51:11.140Z"
   },
   {
    "duration": 47,
    "start_time": "2023-02-17T10:51:11.150Z"
   },
   {
    "duration": 8,
    "start_time": "2023-02-17T10:51:11.199Z"
   },
   {
    "duration": 17,
    "start_time": "2023-02-17T10:51:11.209Z"
   },
   {
    "duration": 145,
    "start_time": "2023-02-17T10:51:11.228Z"
   },
   {
    "duration": 17,
    "start_time": "2023-02-17T10:51:11.375Z"
   },
   {
    "duration": 6,
    "start_time": "2023-02-17T10:58:12.699Z"
   },
   {
    "duration": 6,
    "start_time": "2023-02-17T10:59:59.957Z"
   },
   {
    "duration": 6,
    "start_time": "2023-02-17T11:07:15.701Z"
   },
   {
    "duration": 4,
    "start_time": "2023-02-17T11:08:12.658Z"
   },
   {
    "duration": 4,
    "start_time": "2023-02-17T11:09:58.081Z"
   },
   {
    "duration": 596,
    "start_time": "2023-02-17T11:10:23.733Z"
   },
   {
    "duration": 96,
    "start_time": "2023-02-17T11:10:24.331Z"
   },
   {
    "duration": 44,
    "start_time": "2023-02-17T11:10:24.429Z"
   },
   {
    "duration": 27,
    "start_time": "2023-02-17T11:10:24.476Z"
   },
   {
    "duration": 2043,
    "start_time": "2023-02-17T11:10:24.505Z"
   },
   {
    "duration": 11,
    "start_time": "2023-02-17T11:10:26.550Z"
   },
   {
    "duration": 6,
    "start_time": "2023-02-17T11:10:26.563Z"
   },
   {
    "duration": 26,
    "start_time": "2023-02-17T11:10:26.570Z"
   },
   {
    "duration": 7,
    "start_time": "2023-02-17T11:10:26.598Z"
   },
   {
    "duration": 6,
    "start_time": "2023-02-17T11:10:26.607Z"
   },
   {
    "duration": 14,
    "start_time": "2023-02-17T11:10:26.615Z"
   },
   {
    "duration": 17,
    "start_time": "2023-02-17T11:10:26.630Z"
   },
   {
    "duration": 6,
    "start_time": "2023-02-17T11:10:26.649Z"
   },
   {
    "duration": 43,
    "start_time": "2023-02-17T11:10:26.657Z"
   },
   {
    "duration": 129,
    "start_time": "2023-02-17T11:10:26.702Z"
   },
   {
    "duration": 10,
    "start_time": "2023-02-17T11:10:26.833Z"
   },
   {
    "duration": 11,
    "start_time": "2023-02-17T11:32:01.375Z"
   },
   {
    "duration": 65,
    "start_time": "2023-02-17T11:32:19.106Z"
   },
   {
    "duration": 8,
    "start_time": "2023-02-17T11:32:25.974Z"
   },
   {
    "duration": 6,
    "start_time": "2023-02-17T11:32:43.603Z"
   },
   {
    "duration": 11,
    "start_time": "2023-02-17T11:32:45.185Z"
   },
   {
    "duration": 131,
    "start_time": "2023-02-17T11:33:05.045Z"
   },
   {
    "duration": 104,
    "start_time": "2023-02-17T11:33:12.034Z"
   },
   {
    "duration": 105,
    "start_time": "2023-02-17T11:33:17.349Z"
   },
   {
    "duration": 8,
    "start_time": "2023-02-17T11:49:56.339Z"
   },
   {
    "duration": 30,
    "start_time": "2023-02-17T11:50:12.797Z"
   },
   {
    "duration": 22,
    "start_time": "2023-02-17T11:50:26.056Z"
   },
   {
    "duration": 678,
    "start_time": "2023-02-17T11:51:25.875Z"
   },
   {
    "duration": 92,
    "start_time": "2023-02-17T11:51:26.555Z"
   },
   {
    "duration": 47,
    "start_time": "2023-02-17T11:51:26.649Z"
   },
   {
    "duration": 16,
    "start_time": "2023-02-17T11:51:26.698Z"
   },
   {
    "duration": 2053,
    "start_time": "2023-02-17T11:51:26.715Z"
   },
   {
    "duration": 25,
    "start_time": "2023-02-17T11:51:28.770Z"
   },
   {
    "duration": 6,
    "start_time": "2023-02-17T11:51:28.797Z"
   },
   {
    "duration": 25,
    "start_time": "2023-02-17T11:51:28.805Z"
   },
   {
    "duration": 8,
    "start_time": "2023-02-17T11:51:28.832Z"
   },
   {
    "duration": 6,
    "start_time": "2023-02-17T11:51:28.843Z"
   },
   {
    "duration": 9,
    "start_time": "2023-02-17T11:51:28.851Z"
   },
   {
    "duration": 37,
    "start_time": "2023-02-17T11:51:28.862Z"
   },
   {
    "duration": 8,
    "start_time": "2023-02-17T11:51:28.901Z"
   },
   {
    "duration": 18,
    "start_time": "2023-02-17T11:51:28.911Z"
   },
   {
    "duration": 146,
    "start_time": "2023-02-17T11:51:28.931Z"
   },
   {
    "duration": 21,
    "start_time": "2023-02-17T11:51:29.079Z"
   },
   {
    "duration": 134,
    "start_time": "2023-02-17T11:51:29.102Z"
   },
   {
    "duration": 73,
    "start_time": "2023-02-17T12:00:41.928Z"
   },
   {
    "duration": 123,
    "start_time": "2023-02-17T12:05:55.324Z"
   },
   {
    "duration": 123,
    "start_time": "2023-02-17T12:06:08.166Z"
   },
   {
    "duration": 122,
    "start_time": "2023-02-17T12:06:13.096Z"
   },
   {
    "duration": 635,
    "start_time": "2023-02-17T12:06:36.372Z"
   },
   {
    "duration": 104,
    "start_time": "2023-02-17T12:06:37.009Z"
   },
   {
    "duration": 42,
    "start_time": "2023-02-17T12:06:37.115Z"
   },
   {
    "duration": 32,
    "start_time": "2023-02-17T12:06:37.160Z"
   },
   {
    "duration": 1953,
    "start_time": "2023-02-17T12:06:37.195Z"
   },
   {
    "duration": 13,
    "start_time": "2023-02-17T12:06:39.150Z"
   },
   {
    "duration": 7,
    "start_time": "2023-02-17T12:06:39.165Z"
   },
   {
    "duration": 20,
    "start_time": "2023-02-17T12:06:39.173Z"
   },
   {
    "duration": 11,
    "start_time": "2023-02-17T12:06:39.195Z"
   },
   {
    "duration": 6,
    "start_time": "2023-02-17T12:06:39.208Z"
   },
   {
    "duration": 24,
    "start_time": "2023-02-17T12:06:39.216Z"
   },
   {
    "duration": 19,
    "start_time": "2023-02-17T12:06:39.242Z"
   },
   {
    "duration": 6,
    "start_time": "2023-02-17T12:06:39.263Z"
   },
   {
    "duration": 34,
    "start_time": "2023-02-17T12:06:39.270Z"
   },
   {
    "duration": 136,
    "start_time": "2023-02-17T12:06:39.305Z"
   },
   {
    "duration": 12,
    "start_time": "2023-02-17T12:06:39.442Z"
   },
   {
    "duration": 118,
    "start_time": "2023-02-17T12:06:39.455Z"
   },
   {
    "duration": 5,
    "start_time": "2023-02-17T12:10:08.402Z"
   },
   {
    "duration": 28,
    "start_time": "2023-02-17T12:10:18.556Z"
   },
   {
    "duration": 89,
    "start_time": "2023-02-17T12:11:11.087Z"
   },
   {
    "duration": 26,
    "start_time": "2023-02-17T12:11:18.625Z"
   },
   {
    "duration": 26,
    "start_time": "2023-02-17T12:11:25.151Z"
   },
   {
    "duration": 670,
    "start_time": "2023-02-17T12:19:21.963Z"
   },
   {
    "duration": 93,
    "start_time": "2023-02-17T12:19:22.635Z"
   },
   {
    "duration": 64,
    "start_time": "2023-02-17T12:19:22.729Z"
   },
   {
    "duration": 16,
    "start_time": "2023-02-17T12:19:22.795Z"
   },
   {
    "duration": 2053,
    "start_time": "2023-02-17T12:19:22.812Z"
   },
   {
    "duration": 10,
    "start_time": "2023-02-17T12:19:24.867Z"
   },
   {
    "duration": 37,
    "start_time": "2023-02-17T12:19:24.891Z"
   },
   {
    "duration": 19,
    "start_time": "2023-02-17T12:19:24.930Z"
   },
   {
    "duration": 12,
    "start_time": "2023-02-17T12:19:24.950Z"
   },
   {
    "duration": 15,
    "start_time": "2023-02-17T12:19:24.964Z"
   },
   {
    "duration": 10,
    "start_time": "2023-02-17T12:19:24.981Z"
   },
   {
    "duration": 19,
    "start_time": "2023-02-17T12:19:24.993Z"
   },
   {
    "duration": 6,
    "start_time": "2023-02-17T12:19:25.014Z"
   },
   {
    "duration": 31,
    "start_time": "2023-02-17T12:19:25.022Z"
   },
   {
    "duration": 141,
    "start_time": "2023-02-17T12:19:25.055Z"
   },
   {
    "duration": 14,
    "start_time": "2023-02-17T12:19:25.198Z"
   },
   {
    "duration": 122,
    "start_time": "2023-02-17T12:19:25.214Z"
   },
   {
    "duration": 106,
    "start_time": "2023-02-17T12:19:25.338Z"
   },
   {
    "duration": 4,
    "start_time": "2023-02-17T12:23:21.739Z"
   },
   {
    "duration": 4,
    "start_time": "2023-02-17T12:23:29.517Z"
   },
   {
    "duration": 26,
    "start_time": "2023-02-17T12:23:39.147Z"
   },
   {
    "duration": 15,
    "start_time": "2023-02-17T12:25:20.914Z"
   },
   {
    "duration": 36,
    "start_time": "2023-02-17T12:25:34.146Z"
   },
   {
    "duration": 43,
    "start_time": "2023-02-17T12:28:35.315Z"
   },
   {
    "duration": 17,
    "start_time": "2023-02-17T12:29:02.573Z"
   },
   {
    "duration": 46,
    "start_time": "2023-02-18T07:36:31.258Z"
   },
   {
    "duration": 761,
    "start_time": "2023-02-18T07:36:52.215Z"
   },
   {
    "duration": 322,
    "start_time": "2023-02-18T07:36:52.978Z"
   },
   {
    "duration": 38,
    "start_time": "2023-02-18T07:36:53.304Z"
   },
   {
    "duration": 13,
    "start_time": "2023-02-18T07:36:53.344Z"
   },
   {
    "duration": 11,
    "start_time": "2023-02-18T07:37:16.545Z"
   },
   {
    "duration": 12,
    "start_time": "2023-02-18T07:37:16.557Z"
   },
   {
    "duration": 19,
    "start_time": "2023-02-18T07:37:16.571Z"
   },
   {
    "duration": 23,
    "start_time": "2023-02-18T07:37:16.592Z"
   },
   {
    "duration": 16,
    "start_time": "2023-02-18T07:37:16.616Z"
   },
   {
    "duration": 21,
    "start_time": "2023-02-18T07:37:16.633Z"
   },
   {
    "duration": 22,
    "start_time": "2023-02-18T07:37:16.656Z"
   },
   {
    "duration": 13,
    "start_time": "2023-02-18T07:37:16.680Z"
   },
   {
    "duration": 16,
    "start_time": "2023-02-18T07:37:16.695Z"
   },
   {
    "duration": 148,
    "start_time": "2023-02-18T07:37:16.712Z"
   },
   {
    "duration": 14,
    "start_time": "2023-02-18T07:37:16.861Z"
   },
   {
    "duration": 120,
    "start_time": "2023-02-18T07:37:16.877Z"
   },
   {
    "duration": 21,
    "start_time": "2023-02-18T07:37:16.998Z"
   },
   {
    "duration": 26161,
    "start_time": "2023-02-18T07:38:10.141Z"
   },
   {
    "duration": 6375,
    "start_time": "2023-02-18T07:39:24.487Z"
   },
   {
    "duration": 76,
    "start_time": "2023-02-20T06:03:13.920Z"
   },
   {
    "duration": 1001,
    "start_time": "2023-02-20T06:03:25.184Z"
   },
   {
    "duration": 536,
    "start_time": "2023-02-20T06:03:26.190Z"
   },
   {
    "duration": 60,
    "start_time": "2023-02-20T06:03:26.735Z"
   },
   {
    "duration": 19,
    "start_time": "2023-02-20T06:03:26.798Z"
   },
   {
    "duration": 4634,
    "start_time": "2023-02-20T06:03:26.819Z"
   },
   {
    "duration": 12,
    "start_time": "2023-02-20T06:03:31.455Z"
   },
   {
    "duration": 16,
    "start_time": "2023-02-20T06:03:31.469Z"
   },
   {
    "duration": 17,
    "start_time": "2023-02-20T06:03:31.487Z"
   },
   {
    "duration": 38,
    "start_time": "2023-02-20T06:03:31.506Z"
   },
   {
    "duration": 7,
    "start_time": "2023-02-20T06:03:31.546Z"
   },
   {
    "duration": 15,
    "start_time": "2023-02-20T06:03:31.555Z"
   },
   {
    "duration": 31,
    "start_time": "2023-02-20T06:03:31.572Z"
   },
   {
    "duration": 49,
    "start_time": "2023-02-20T06:03:31.605Z"
   },
   {
    "duration": 14,
    "start_time": "2023-02-20T06:03:31.657Z"
   },
   {
    "duration": 145,
    "start_time": "2023-02-20T06:03:31.673Z"
   },
   {
    "duration": 17,
    "start_time": "2023-02-20T06:03:31.820Z"
   },
   {
    "duration": 269,
    "start_time": "2023-02-20T06:03:31.839Z"
   },
   {
    "duration": 24,
    "start_time": "2023-02-20T06:03:32.110Z"
   },
   {
    "duration": 5,
    "start_time": "2023-02-20T06:04:14.779Z"
   },
   {
    "duration": 12,
    "start_time": "2023-02-20T06:05:01.724Z"
   },
   {
    "duration": 7,
    "start_time": "2023-02-20T06:05:37.121Z"
   },
   {
    "duration": 700,
    "start_time": "2023-02-20T06:06:33.421Z"
   },
   {
    "duration": 103,
    "start_time": "2023-02-20T06:06:34.126Z"
   },
   {
    "duration": 45,
    "start_time": "2023-02-20T06:06:34.231Z"
   },
   {
    "duration": 27,
    "start_time": "2023-02-20T06:06:34.278Z"
   },
   {
    "duration": 4566,
    "start_time": "2023-02-20T06:06:34.307Z"
   },
   {
    "duration": 13,
    "start_time": "2023-02-20T06:06:38.875Z"
   },
   {
    "duration": 35,
    "start_time": "2023-02-20T06:06:38.889Z"
   },
   {
    "duration": 19,
    "start_time": "2023-02-20T06:06:38.926Z"
   },
   {
    "duration": 13,
    "start_time": "2023-02-20T06:06:38.948Z"
   },
   {
    "duration": 20,
    "start_time": "2023-02-20T06:06:38.963Z"
   },
   {
    "duration": 45,
    "start_time": "2023-02-20T06:06:38.985Z"
   },
   {
    "duration": 18,
    "start_time": "2023-02-20T06:06:39.032Z"
   },
   {
    "duration": 6,
    "start_time": "2023-02-20T06:06:39.052Z"
   },
   {
    "duration": 18,
    "start_time": "2023-02-20T06:06:39.060Z"
   },
   {
    "duration": 194,
    "start_time": "2023-02-20T06:06:39.080Z"
   },
   {
    "duration": 24,
    "start_time": "2023-02-20T06:06:39.276Z"
   },
   {
    "duration": 240,
    "start_time": "2023-02-20T06:06:39.302Z"
   },
   {
    "duration": 21,
    "start_time": "2023-02-20T06:06:39.544Z"
   },
   {
    "duration": 79,
    "start_time": "2023-02-20T06:19:26.544Z"
   },
   {
    "duration": 729,
    "start_time": "2023-02-20T06:19:35.821Z"
   },
   {
    "duration": 97,
    "start_time": "2023-02-20T06:19:36.553Z"
   },
   {
    "duration": 51,
    "start_time": "2023-02-20T06:19:36.652Z"
   },
   {
    "duration": 19,
    "start_time": "2023-02-20T06:19:36.705Z"
   },
   {
    "duration": 4295,
    "start_time": "2023-02-20T06:19:36.726Z"
   },
   {
    "duration": 12,
    "start_time": "2023-02-20T06:19:41.023Z"
   },
   {
    "duration": 17,
    "start_time": "2023-02-20T06:19:41.037Z"
   },
   {
    "duration": 21,
    "start_time": "2023-02-20T06:19:41.056Z"
   },
   {
    "duration": 9,
    "start_time": "2023-02-20T06:19:41.079Z"
   },
   {
    "duration": 6,
    "start_time": "2023-02-20T06:19:41.092Z"
   },
   {
    "duration": 35,
    "start_time": "2023-02-20T06:19:41.100Z"
   },
   {
    "duration": 20,
    "start_time": "2023-02-20T06:19:41.137Z"
   },
   {
    "duration": 6,
    "start_time": "2023-02-20T06:19:41.159Z"
   },
   {
    "duration": 17,
    "start_time": "2023-02-20T06:19:41.166Z"
   },
   {
    "duration": 78,
    "start_time": "2023-02-20T06:19:41.185Z"
   },
   {
    "duration": 151,
    "start_time": "2023-02-20T06:19:41.265Z"
   },
   {
    "duration": 12,
    "start_time": "2023-02-20T06:19:41.419Z"
   },
   {
    "duration": 260,
    "start_time": "2023-02-20T06:19:41.432Z"
   },
   {
    "duration": 22,
    "start_time": "2023-02-20T06:19:41.693Z"
   },
   {
    "duration": 1328,
    "start_time": "2023-02-20T06:36:14.522Z"
   },
   {
    "duration": 690,
    "start_time": "2023-02-20T06:36:25.255Z"
   },
   {
    "duration": 121,
    "start_time": "2023-02-20T06:36:25.948Z"
   },
   {
    "duration": 69,
    "start_time": "2023-02-20T06:36:26.070Z"
   },
   {
    "duration": 29,
    "start_time": "2023-02-20T06:36:26.142Z"
   },
   {
    "duration": 4332,
    "start_time": "2023-02-20T06:36:26.174Z"
   },
   {
    "duration": 11,
    "start_time": "2023-02-20T06:36:30.508Z"
   },
   {
    "duration": 10,
    "start_time": "2023-02-20T06:36:30.521Z"
   },
   {
    "duration": 23,
    "start_time": "2023-02-20T06:36:30.532Z"
   },
   {
    "duration": 40,
    "start_time": "2023-02-20T06:36:30.557Z"
   },
   {
    "duration": 34,
    "start_time": "2023-02-20T06:36:30.602Z"
   },
   {
    "duration": 34,
    "start_time": "2023-02-20T06:36:30.638Z"
   },
   {
    "duration": 59,
    "start_time": "2023-02-20T06:36:30.674Z"
   },
   {
    "duration": 17,
    "start_time": "2023-02-20T06:36:30.734Z"
   },
   {
    "duration": 19,
    "start_time": "2023-02-20T06:36:30.754Z"
   },
   {
    "duration": 89,
    "start_time": "2023-02-20T06:36:30.774Z"
   },
   {
    "duration": 151,
    "start_time": "2023-02-20T06:36:30.864Z"
   },
   {
    "duration": 12,
    "start_time": "2023-02-20T06:36:31.017Z"
   },
   {
    "duration": 314,
    "start_time": "2023-02-20T06:36:31.031Z"
   },
   {
    "duration": 1491,
    "start_time": "2023-02-20T06:36:31.348Z"
   },
   {
    "duration": 0,
    "start_time": "2023-02-20T06:36:32.841Z"
   },
   {
    "duration": 4,
    "start_time": "2023-02-20T06:43:01.128Z"
   },
   {
    "duration": 14,
    "start_time": "2023-02-20T06:43:20.345Z"
   },
   {
    "duration": 4,
    "start_time": "2023-02-20T06:43:42.413Z"
   },
   {
    "duration": 13,
    "start_time": "2023-02-20T06:43:54.217Z"
   },
   {
    "duration": 7,
    "start_time": "2023-02-20T06:44:15.350Z"
   },
   {
    "duration": 13,
    "start_time": "2023-02-20T06:44:24.149Z"
   },
   {
    "duration": 598,
    "start_time": "2023-02-20T06:54:52.020Z"
   },
   {
    "duration": 97,
    "start_time": "2023-02-20T06:54:52.620Z"
   },
   {
    "duration": 41,
    "start_time": "2023-02-20T06:54:52.719Z"
   },
   {
    "duration": 14,
    "start_time": "2023-02-20T06:54:52.762Z"
   },
   {
    "duration": 4089,
    "start_time": "2023-02-20T06:54:52.792Z"
   },
   {
    "duration": 11,
    "start_time": "2023-02-20T06:54:56.883Z"
   },
   {
    "duration": 14,
    "start_time": "2023-02-20T06:54:56.896Z"
   },
   {
    "duration": 13,
    "start_time": "2023-02-20T06:54:56.912Z"
   },
   {
    "duration": 22,
    "start_time": "2023-02-20T06:54:56.927Z"
   },
   {
    "duration": 8,
    "start_time": "2023-02-20T06:54:56.951Z"
   },
   {
    "duration": 7,
    "start_time": "2023-02-20T06:54:56.961Z"
   },
   {
    "duration": 22,
    "start_time": "2023-02-20T06:54:56.969Z"
   },
   {
    "duration": 6,
    "start_time": "2023-02-20T06:54:56.993Z"
   },
   {
    "duration": 26,
    "start_time": "2023-02-20T06:54:57.001Z"
   },
   {
    "duration": 96,
    "start_time": "2023-02-20T06:54:57.029Z"
   },
   {
    "duration": 147,
    "start_time": "2023-02-20T06:54:57.127Z"
   },
   {
    "duration": 24,
    "start_time": "2023-02-20T06:54:57.276Z"
   },
   {
    "duration": 233,
    "start_time": "2023-02-20T06:54:57.301Z"
   },
   {
    "duration": 15,
    "start_time": "2023-02-20T06:54:57.536Z"
   },
   {
    "duration": 73,
    "start_time": "2023-02-20T06:58:37.627Z"
   },
   {
    "duration": 5,
    "start_time": "2023-02-20T07:01:55.544Z"
   },
   {
    "duration": 118,
    "start_time": "2023-02-20T07:02:10.152Z"
   },
   {
    "duration": 9,
    "start_time": "2023-02-20T07:17:51.303Z"
   },
   {
    "duration": 71,
    "start_time": "2023-02-20T07:18:08.505Z"
   },
   {
    "duration": 12,
    "start_time": "2023-02-20T07:18:23.998Z"
   },
   {
    "duration": 18,
    "start_time": "2023-02-20T07:18:42.877Z"
   },
   {
    "duration": 11,
    "start_time": "2023-02-20T07:19:33.321Z"
   },
   {
    "duration": 7,
    "start_time": "2023-02-20T07:20:17.420Z"
   },
   {
    "duration": 7,
    "start_time": "2023-02-20T07:20:47.447Z"
   },
   {
    "duration": 13,
    "start_time": "2023-02-20T07:21:10.025Z"
   },
   {
    "duration": 18,
    "start_time": "2023-02-20T07:21:25.797Z"
   },
   {
    "duration": 6,
    "start_time": "2023-02-20T07:21:39.386Z"
   },
   {
    "duration": 71,
    "start_time": "2023-02-20T07:24:40.520Z"
   },
   {
    "duration": 672,
    "start_time": "2023-02-20T07:26:29.172Z"
   },
   {
    "duration": 98,
    "start_time": "2023-02-20T07:26:29.846Z"
   },
   {
    "duration": 48,
    "start_time": "2023-02-20T07:26:29.945Z"
   },
   {
    "duration": 16,
    "start_time": "2023-02-20T07:26:29.995Z"
   },
   {
    "duration": 4081,
    "start_time": "2023-02-20T07:26:30.012Z"
   },
   {
    "duration": 12,
    "start_time": "2023-02-20T07:26:34.095Z"
   },
   {
    "duration": 6,
    "start_time": "2023-02-20T07:26:34.108Z"
   },
   {
    "duration": 10,
    "start_time": "2023-02-20T07:26:34.116Z"
   },
   {
    "duration": 11,
    "start_time": "2023-02-20T07:26:34.127Z"
   },
   {
    "duration": 5,
    "start_time": "2023-02-20T07:26:34.141Z"
   },
   {
    "duration": 11,
    "start_time": "2023-02-20T07:26:34.148Z"
   },
   {
    "duration": 41,
    "start_time": "2023-02-20T07:26:34.160Z"
   },
   {
    "duration": 6,
    "start_time": "2023-02-20T07:26:34.202Z"
   },
   {
    "duration": 15,
    "start_time": "2023-02-20T07:26:34.210Z"
   },
   {
    "duration": 100,
    "start_time": "2023-02-20T07:26:34.227Z"
   },
   {
    "duration": 133,
    "start_time": "2023-02-20T07:26:34.329Z"
   },
   {
    "duration": 13,
    "start_time": "2023-02-20T07:26:34.463Z"
   },
   {
    "duration": 7,
    "start_time": "2023-02-20T07:26:34.492Z"
   },
   {
    "duration": 19,
    "start_time": "2023-02-20T07:26:34.501Z"
   },
   {
    "duration": 261,
    "start_time": "2023-02-20T07:26:34.521Z"
   },
   {
    "duration": 20,
    "start_time": "2023-02-20T07:26:34.792Z"
   },
   {
    "duration": 120,
    "start_time": "2023-02-20T07:28:26.769Z"
   },
   {
    "duration": 615,
    "start_time": "2023-02-20T07:28:38.006Z"
   },
   {
    "duration": 96,
    "start_time": "2023-02-20T07:28:38.623Z"
   },
   {
    "duration": 44,
    "start_time": "2023-02-20T07:28:38.721Z"
   },
   {
    "duration": 27,
    "start_time": "2023-02-20T07:28:38.767Z"
   },
   {
    "duration": 4110,
    "start_time": "2023-02-20T07:28:38.795Z"
   },
   {
    "duration": 10,
    "start_time": "2023-02-20T07:28:42.907Z"
   },
   {
    "duration": 8,
    "start_time": "2023-02-20T07:28:42.919Z"
   },
   {
    "duration": 7,
    "start_time": "2023-02-20T07:28:42.929Z"
   },
   {
    "duration": 14,
    "start_time": "2023-02-20T07:28:42.938Z"
   },
   {
    "duration": 5,
    "start_time": "2023-02-20T07:28:42.954Z"
   },
   {
    "duration": 8,
    "start_time": "2023-02-20T07:28:42.961Z"
   },
   {
    "duration": 29,
    "start_time": "2023-02-20T07:28:42.970Z"
   },
   {
    "duration": 6,
    "start_time": "2023-02-20T07:28:43.001Z"
   },
   {
    "duration": 17,
    "start_time": "2023-02-20T07:28:43.008Z"
   },
   {
    "duration": 100,
    "start_time": "2023-02-20T07:28:43.027Z"
   },
   {
    "duration": 129,
    "start_time": "2023-02-20T07:28:43.129Z"
   },
   {
    "duration": 13,
    "start_time": "2023-02-20T07:28:43.259Z"
   },
   {
    "duration": 18,
    "start_time": "2023-02-20T07:28:43.274Z"
   },
   {
    "duration": 9,
    "start_time": "2023-02-20T07:28:43.294Z"
   },
   {
    "duration": 18,
    "start_time": "2023-02-20T07:28:43.305Z"
   },
   {
    "duration": 220,
    "start_time": "2023-02-20T07:30:24.082Z"
   },
   {
    "duration": 105,
    "start_time": "2023-02-20T07:30:44.553Z"
   },
   {
    "duration": 101,
    "start_time": "2023-02-20T07:30:58.071Z"
   },
   {
    "duration": 108,
    "start_time": "2023-02-20T07:31:12.753Z"
   },
   {
    "duration": 115,
    "start_time": "2023-02-20T07:31:41.049Z"
   },
   {
    "duration": 102,
    "start_time": "2023-02-20T07:31:47.434Z"
   },
   {
    "duration": 107,
    "start_time": "2023-02-20T07:37:29.813Z"
   },
   {
    "duration": 128,
    "start_time": "2023-02-20T07:37:42.603Z"
   },
   {
    "duration": 111,
    "start_time": "2023-02-20T07:43:57.904Z"
   },
   {
    "duration": 112,
    "start_time": "2023-02-20T07:44:23.804Z"
   },
   {
    "duration": 113,
    "start_time": "2023-02-20T07:44:40.315Z"
   },
   {
    "duration": 125,
    "start_time": "2023-02-20T07:44:55.781Z"
   },
   {
    "duration": 105,
    "start_time": "2023-02-20T07:46:37.404Z"
   },
   {
    "duration": 114,
    "start_time": "2023-02-20T07:47:04.737Z"
   },
   {
    "duration": 9,
    "start_time": "2023-02-20T07:52:04.011Z"
   },
   {
    "duration": 13,
    "start_time": "2023-02-20T07:52:24.731Z"
   },
   {
    "duration": 8,
    "start_time": "2023-02-20T07:52:38.058Z"
   },
   {
    "duration": 118,
    "start_time": "2023-02-20T07:54:26.708Z"
   },
   {
    "duration": 113,
    "start_time": "2023-02-20T07:54:44.611Z"
   },
   {
    "duration": 8,
    "start_time": "2023-02-20T07:55:42.475Z"
   },
   {
    "duration": 14,
    "start_time": "2023-02-20T07:56:01.089Z"
   },
   {
    "duration": 19,
    "start_time": "2023-02-20T07:56:37.215Z"
   },
   {
    "duration": 6,
    "start_time": "2023-02-20T07:56:47.506Z"
   },
   {
    "duration": 110,
    "start_time": "2023-02-20T07:58:27.258Z"
   },
   {
    "duration": 127,
    "start_time": "2023-02-20T07:58:47.763Z"
   },
   {
    "duration": 7,
    "start_time": "2023-02-20T07:59:27.466Z"
   },
   {
    "duration": 15,
    "start_time": "2023-02-20T07:59:43.792Z"
   },
   {
    "duration": 23,
    "start_time": "2023-02-20T08:00:29.296Z"
   },
   {
    "duration": 8,
    "start_time": "2023-02-20T08:01:01.871Z"
   },
   {
    "duration": 5,
    "start_time": "2023-02-20T08:10:14.662Z"
   },
   {
    "duration": 31,
    "start_time": "2023-02-20T08:10:29.680Z"
   },
   {
    "duration": 28,
    "start_time": "2023-02-20T08:13:41.004Z"
   },
   {
    "duration": 6,
    "start_time": "2023-02-20T08:14:27.759Z"
   },
   {
    "duration": 130,
    "start_time": "2023-02-20T08:16:23.026Z"
   },
   {
    "duration": 6,
    "start_time": "2023-02-20T08:16:28.434Z"
   },
   {
    "duration": 28,
    "start_time": "2023-02-20T08:16:34.768Z"
   },
   {
    "duration": 6,
    "start_time": "2023-02-20T08:16:50.507Z"
   },
   {
    "duration": 5,
    "start_time": "2023-02-20T08:17:34.406Z"
   },
   {
    "duration": 26,
    "start_time": "2023-02-20T08:17:42.981Z"
   },
   {
    "duration": 5,
    "start_time": "2023-02-20T08:17:54.784Z"
   },
   {
    "duration": 4,
    "start_time": "2023-02-20T08:35:24.760Z"
   },
   {
    "duration": 78,
    "start_time": "2023-02-20T08:37:16.982Z"
   },
   {
    "duration": 88,
    "start_time": "2023-02-20T08:37:28.936Z"
   },
   {
    "duration": 3,
    "start_time": "2023-02-20T08:37:55.789Z"
   },
   {
    "duration": 246,
    "start_time": "2023-02-20T08:38:02.879Z"
   },
   {
    "duration": 13,
    "start_time": "2023-02-20T08:38:07.199Z"
   },
   {
    "duration": 3,
    "start_time": "2023-02-20T08:38:22.636Z"
   },
   {
    "duration": 861,
    "start_time": "2023-02-20T08:38:27.424Z"
   },
   {
    "duration": 306,
    "start_time": "2023-02-20T08:38:48.676Z"
   },
   {
    "duration": 327,
    "start_time": "2023-02-20T08:39:01.157Z"
   },
   {
    "duration": 346,
    "start_time": "2023-02-20T08:39:26.883Z"
   },
   {
    "duration": 473,
    "start_time": "2023-02-20T08:40:03.200Z"
   },
   {
    "duration": 623,
    "start_time": "2023-02-20T08:40:21.677Z"
   },
   {
    "duration": 89,
    "start_time": "2023-02-20T08:40:22.302Z"
   },
   {
    "duration": 42,
    "start_time": "2023-02-20T08:40:22.393Z"
   },
   {
    "duration": 14,
    "start_time": "2023-02-20T08:40:22.437Z"
   },
   {
    "duration": 4100,
    "start_time": "2023-02-20T08:40:22.453Z"
   },
   {
    "duration": 11,
    "start_time": "2023-02-20T08:40:26.554Z"
   },
   {
    "duration": 11,
    "start_time": "2023-02-20T08:40:26.567Z"
   },
   {
    "duration": 17,
    "start_time": "2023-02-20T08:40:26.579Z"
   },
   {
    "duration": 11,
    "start_time": "2023-02-20T08:40:26.597Z"
   },
   {
    "duration": 9,
    "start_time": "2023-02-20T08:40:26.610Z"
   },
   {
    "duration": 8,
    "start_time": "2023-02-20T08:40:26.621Z"
   },
   {
    "duration": 18,
    "start_time": "2023-02-20T08:40:26.631Z"
   },
   {
    "duration": 6,
    "start_time": "2023-02-20T08:40:26.650Z"
   },
   {
    "duration": 17,
    "start_time": "2023-02-20T08:40:26.659Z"
   },
   {
    "duration": 72,
    "start_time": "2023-02-20T08:40:26.691Z"
   },
   {
    "duration": 129,
    "start_time": "2023-02-20T08:40:26.765Z"
   },
   {
    "duration": 13,
    "start_time": "2023-02-20T08:40:26.895Z"
   },
   {
    "duration": 7,
    "start_time": "2023-02-20T08:40:26.910Z"
   },
   {
    "duration": 22,
    "start_time": "2023-02-20T08:40:26.918Z"
   },
   {
    "duration": 256,
    "start_time": "2023-02-20T08:40:26.942Z"
   },
   {
    "duration": 12,
    "start_time": "2023-02-20T08:40:27.200Z"
   },
   {
    "duration": 157,
    "start_time": "2023-02-20T08:40:27.214Z"
   },
   {
    "duration": 5,
    "start_time": "2023-02-20T08:40:27.373Z"
   },
   {
    "duration": 139,
    "start_time": "2023-02-20T08:40:27.379Z"
   },
   {
    "duration": 6,
    "start_time": "2023-02-20T08:40:27.520Z"
   },
   {
    "duration": 22,
    "start_time": "2023-02-20T08:40:27.528Z"
   },
   {
    "duration": 6,
    "start_time": "2023-02-20T08:40:27.551Z"
   },
   {
    "duration": 21,
    "start_time": "2023-02-20T08:40:27.558Z"
   },
   {
    "duration": 27,
    "start_time": "2023-02-20T08:40:27.580Z"
   },
   {
    "duration": 6,
    "start_time": "2023-02-20T08:40:27.609Z"
   },
   {
    "duration": 337,
    "start_time": "2023-02-20T08:40:27.616Z"
   },
   {
    "duration": 9,
    "start_time": "2023-02-20T08:46:27.501Z"
   },
   {
    "duration": 6,
    "start_time": "2023-02-20T08:46:32.462Z"
   },
   {
    "duration": 594,
    "start_time": "2023-02-20T08:46:45.236Z"
   },
   {
    "duration": 92,
    "start_time": "2023-02-20T08:46:45.832Z"
   },
   {
    "duration": 41,
    "start_time": "2023-02-20T08:46:45.926Z"
   },
   {
    "duration": 28,
    "start_time": "2023-02-20T08:46:45.968Z"
   },
   {
    "duration": 3987,
    "start_time": "2023-02-20T08:46:45.998Z"
   },
   {
    "duration": 11,
    "start_time": "2023-02-20T08:46:50.010Z"
   },
   {
    "duration": 11,
    "start_time": "2023-02-20T08:46:50.023Z"
   },
   {
    "duration": 9,
    "start_time": "2023-02-20T08:46:50.036Z"
   },
   {
    "duration": 17,
    "start_time": "2023-02-20T08:46:50.046Z"
   },
   {
    "duration": 27,
    "start_time": "2023-02-20T08:46:50.065Z"
   },
   {
    "duration": 8,
    "start_time": "2023-02-20T08:46:50.094Z"
   },
   {
    "duration": 19,
    "start_time": "2023-02-20T08:46:50.104Z"
   },
   {
    "duration": 11,
    "start_time": "2023-02-20T08:46:50.125Z"
   },
   {
    "duration": 17,
    "start_time": "2023-02-20T08:46:50.140Z"
   },
   {
    "duration": 86,
    "start_time": "2023-02-20T08:46:50.159Z"
   },
   {
    "duration": 130,
    "start_time": "2023-02-20T08:46:50.246Z"
   },
   {
    "duration": 19,
    "start_time": "2023-02-20T08:46:50.378Z"
   },
   {
    "duration": 5,
    "start_time": "2023-02-20T08:46:50.399Z"
   },
   {
    "duration": 9,
    "start_time": "2023-02-20T08:46:50.405Z"
   },
   {
    "duration": 255,
    "start_time": "2023-02-20T08:46:50.416Z"
   },
   {
    "duration": 7,
    "start_time": "2023-02-20T08:46:50.673Z"
   },
   {
    "duration": 128,
    "start_time": "2023-02-20T08:46:50.692Z"
   },
   {
    "duration": 6,
    "start_time": "2023-02-20T08:46:50.821Z"
   },
   {
    "duration": 134,
    "start_time": "2023-02-20T08:46:50.829Z"
   },
   {
    "duration": 6,
    "start_time": "2023-02-20T08:46:50.965Z"
   },
   {
    "duration": 29,
    "start_time": "2023-02-20T08:46:50.972Z"
   },
   {
    "duration": 6,
    "start_time": "2023-02-20T08:46:51.003Z"
   },
   {
    "duration": 9,
    "start_time": "2023-02-20T08:46:51.010Z"
   },
   {
    "duration": 11,
    "start_time": "2023-02-20T08:46:51.021Z"
   },
   {
    "duration": 5,
    "start_time": "2023-02-20T08:46:51.033Z"
   },
   {
    "duration": 352,
    "start_time": "2023-02-20T08:46:51.040Z"
   },
   {
    "duration": 28,
    "start_time": "2023-02-20T08:46:59.441Z"
   },
   {
    "duration": 4,
    "start_time": "2023-02-20T08:48:45.682Z"
   },
   {
    "duration": 5,
    "start_time": "2023-02-20T08:49:06.235Z"
   },
   {
    "duration": 3,
    "start_time": "2023-02-20T08:49:23.834Z"
   },
   {
    "duration": 667,
    "start_time": "2023-02-20T08:49:35.071Z"
   },
   {
    "duration": 93,
    "start_time": "2023-02-20T08:49:35.740Z"
   },
   {
    "duration": 44,
    "start_time": "2023-02-20T08:49:35.835Z"
   },
   {
    "duration": 20,
    "start_time": "2023-02-20T08:49:35.891Z"
   },
   {
    "duration": 4136,
    "start_time": "2023-02-20T08:49:35.913Z"
   },
   {
    "duration": 13,
    "start_time": "2023-02-20T08:49:40.052Z"
   },
   {
    "duration": 6,
    "start_time": "2023-02-20T08:49:40.067Z"
   },
   {
    "duration": 10,
    "start_time": "2023-02-20T08:49:40.075Z"
   },
   {
    "duration": 9,
    "start_time": "2023-02-20T08:49:40.091Z"
   },
   {
    "duration": 6,
    "start_time": "2023-02-20T08:49:40.102Z"
   },
   {
    "duration": 5,
    "start_time": "2023-02-20T08:49:40.110Z"
   },
   {
    "duration": 5,
    "start_time": "2023-02-20T08:49:40.117Z"
   },
   {
    "duration": 5,
    "start_time": "2023-02-20T08:49:40.124Z"
   },
   {
    "duration": 8,
    "start_time": "2023-02-20T08:49:40.133Z"
   },
   {
    "duration": 56,
    "start_time": "2023-02-20T08:49:40.143Z"
   },
   {
    "duration": 6,
    "start_time": "2023-02-20T08:49:40.201Z"
   },
   {
    "duration": 16,
    "start_time": "2023-02-20T08:49:40.208Z"
   },
   {
    "duration": 89,
    "start_time": "2023-02-20T08:49:40.225Z"
   },
   {
    "duration": 139,
    "start_time": "2023-02-20T08:49:40.316Z"
   },
   {
    "duration": 12,
    "start_time": "2023-02-20T08:49:40.457Z"
   },
   {
    "duration": 4,
    "start_time": "2023-02-20T08:49:40.471Z"
   },
   {
    "duration": 20,
    "start_time": "2023-02-20T08:49:40.477Z"
   },
   {
    "duration": 253,
    "start_time": "2023-02-20T08:49:40.499Z"
   },
   {
    "duration": 7,
    "start_time": "2023-02-20T08:49:40.753Z"
   },
   {
    "duration": 128,
    "start_time": "2023-02-20T08:49:40.761Z"
   },
   {
    "duration": 6,
    "start_time": "2023-02-20T08:49:40.891Z"
   },
   {
    "duration": 133,
    "start_time": "2023-02-20T08:49:40.898Z"
   },
   {
    "duration": 6,
    "start_time": "2023-02-20T08:49:41.032Z"
   },
   {
    "duration": 18,
    "start_time": "2023-02-20T08:49:41.040Z"
   },
   {
    "duration": 7,
    "start_time": "2023-02-20T08:49:41.060Z"
   },
   {
    "duration": 24,
    "start_time": "2023-02-20T08:49:41.069Z"
   },
   {
    "duration": 5,
    "start_time": "2023-02-20T08:49:41.095Z"
   },
   {
    "duration": 4,
    "start_time": "2023-02-20T08:49:41.102Z"
   },
   {
    "duration": 351,
    "start_time": "2023-02-20T08:49:41.107Z"
   },
   {
    "duration": 24,
    "start_time": "2023-02-20T08:49:41.459Z"
   },
   {
    "duration": 26,
    "start_time": "2023-02-20T08:51:22.770Z"
   },
   {
    "duration": 4,
    "start_time": "2023-02-20T08:51:46.974Z"
   },
   {
    "duration": 644,
    "start_time": "2023-02-20T08:51:54.205Z"
   },
   {
    "duration": 98,
    "start_time": "2023-02-20T08:51:54.852Z"
   },
   {
    "duration": 52,
    "start_time": "2023-02-20T08:51:54.952Z"
   },
   {
    "duration": 16,
    "start_time": "2023-02-20T08:51:55.007Z"
   },
   {
    "duration": 4052,
    "start_time": "2023-02-20T08:51:55.025Z"
   },
   {
    "duration": 14,
    "start_time": "2023-02-20T08:51:59.079Z"
   },
   {
    "duration": 6,
    "start_time": "2023-02-20T08:51:59.094Z"
   },
   {
    "duration": 9,
    "start_time": "2023-02-20T08:51:59.101Z"
   },
   {
    "duration": 8,
    "start_time": "2023-02-20T08:51:59.112Z"
   },
   {
    "duration": 6,
    "start_time": "2023-02-20T08:51:59.123Z"
   },
   {
    "duration": 5,
    "start_time": "2023-02-20T08:51:59.131Z"
   },
   {
    "duration": 5,
    "start_time": "2023-02-20T08:51:59.138Z"
   },
   {
    "duration": 15,
    "start_time": "2023-02-20T08:51:59.144Z"
   },
   {
    "duration": 34,
    "start_time": "2023-02-20T08:51:59.160Z"
   },
   {
    "duration": 21,
    "start_time": "2023-02-20T08:51:59.196Z"
   },
   {
    "duration": 7,
    "start_time": "2023-02-20T08:51:59.219Z"
   },
   {
    "duration": 28,
    "start_time": "2023-02-20T08:51:59.228Z"
   },
   {
    "duration": 84,
    "start_time": "2023-02-20T08:51:59.258Z"
   },
   {
    "duration": 127,
    "start_time": "2023-02-20T08:51:59.343Z"
   },
   {
    "duration": 21,
    "start_time": "2023-02-20T08:51:59.471Z"
   },
   {
    "duration": 5,
    "start_time": "2023-02-20T08:51:59.493Z"
   },
   {
    "duration": 13,
    "start_time": "2023-02-20T08:51:59.500Z"
   },
   {
    "duration": 250,
    "start_time": "2023-02-20T08:51:59.515Z"
   },
   {
    "duration": 8,
    "start_time": "2023-02-20T08:51:59.767Z"
   },
   {
    "duration": 141,
    "start_time": "2023-02-20T08:51:59.776Z"
   },
   {
    "duration": 6,
    "start_time": "2023-02-20T08:51:59.918Z"
   },
   {
    "duration": 152,
    "start_time": "2023-02-20T08:51:59.926Z"
   },
   {
    "duration": 14,
    "start_time": "2023-02-20T08:52:00.083Z"
   },
   {
    "duration": 24,
    "start_time": "2023-02-20T08:52:00.099Z"
   },
   {
    "duration": 25,
    "start_time": "2023-02-20T08:52:00.124Z"
   },
   {
    "duration": 26,
    "start_time": "2023-02-20T08:52:00.151Z"
   },
   {
    "duration": 33,
    "start_time": "2023-02-20T08:52:00.179Z"
   },
   {
    "duration": 20,
    "start_time": "2023-02-20T08:52:00.213Z"
   },
   {
    "duration": 383,
    "start_time": "2023-02-20T08:52:00.235Z"
   },
   {
    "duration": 25,
    "start_time": "2023-02-20T08:52:00.620Z"
   },
   {
    "duration": 5,
    "start_time": "2023-02-20T08:55:48.577Z"
   },
   {
    "duration": 36,
    "start_time": "2023-02-20T08:55:55.981Z"
   },
   {
    "duration": 7,
    "start_time": "2023-02-20T08:57:32.667Z"
   },
   {
    "duration": 4,
    "start_time": "2023-02-20T08:57:42.242Z"
   },
   {
    "duration": 107,
    "start_time": "2023-02-20T08:57:51.469Z"
   },
   {
    "duration": 3,
    "start_time": "2023-02-20T08:58:07.692Z"
   },
   {
    "duration": 4,
    "start_time": "2023-02-20T08:58:32.816Z"
   },
   {
    "duration": 25,
    "start_time": "2023-02-20T08:58:42.720Z"
   },
   {
    "duration": 4,
    "start_time": "2023-02-20T08:58:55.463Z"
   },
   {
    "duration": 5,
    "start_time": "2023-02-20T08:59:15.274Z"
   },
   {
    "duration": 755,
    "start_time": "2023-02-20T09:02:27.773Z"
   },
   {
    "duration": 95,
    "start_time": "2023-02-20T09:02:28.530Z"
   },
   {
    "duration": 44,
    "start_time": "2023-02-20T09:02:28.627Z"
   },
   {
    "duration": 26,
    "start_time": "2023-02-20T09:02:28.673Z"
   },
   {
    "duration": 4179,
    "start_time": "2023-02-20T09:02:28.702Z"
   },
   {
    "duration": 11,
    "start_time": "2023-02-20T09:02:32.883Z"
   },
   {
    "duration": 7,
    "start_time": "2023-02-20T09:02:32.896Z"
   },
   {
    "duration": 11,
    "start_time": "2023-02-20T09:02:32.905Z"
   },
   {
    "duration": 9,
    "start_time": "2023-02-20T09:02:32.918Z"
   },
   {
    "duration": 10,
    "start_time": "2023-02-20T09:02:32.929Z"
   },
   {
    "duration": 11,
    "start_time": "2023-02-20T09:02:32.941Z"
   },
   {
    "duration": 11,
    "start_time": "2023-02-20T09:02:32.954Z"
   },
   {
    "duration": 6,
    "start_time": "2023-02-20T09:02:32.967Z"
   },
   {
    "duration": 8,
    "start_time": "2023-02-20T09:02:32.995Z"
   },
   {
    "duration": 23,
    "start_time": "2023-02-20T09:02:33.005Z"
   },
   {
    "duration": 6,
    "start_time": "2023-02-20T09:02:33.030Z"
   },
   {
    "duration": 27,
    "start_time": "2023-02-20T09:02:33.038Z"
   },
   {
    "duration": 89,
    "start_time": "2023-02-20T09:02:33.066Z"
   },
   {
    "duration": 137,
    "start_time": "2023-02-20T09:02:33.157Z"
   },
   {
    "duration": 14,
    "start_time": "2023-02-20T09:02:33.296Z"
   },
   {
    "duration": 6,
    "start_time": "2023-02-20T09:02:33.312Z"
   },
   {
    "duration": 8,
    "start_time": "2023-02-20T09:02:33.320Z"
   },
   {
    "duration": 268,
    "start_time": "2023-02-20T09:02:33.330Z"
   },
   {
    "duration": 7,
    "start_time": "2023-02-20T09:02:33.600Z"
   },
   {
    "duration": 147,
    "start_time": "2023-02-20T09:02:33.608Z"
   },
   {
    "duration": 8,
    "start_time": "2023-02-20T09:02:33.758Z"
   },
   {
    "duration": 129,
    "start_time": "2023-02-20T09:02:33.769Z"
   },
   {
    "duration": 6,
    "start_time": "2023-02-20T09:02:33.899Z"
   },
   {
    "duration": 22,
    "start_time": "2023-02-20T09:02:33.907Z"
   },
   {
    "duration": 6,
    "start_time": "2023-02-20T09:02:33.930Z"
   },
   {
    "duration": 6,
    "start_time": "2023-02-20T09:02:33.938Z"
   },
   {
    "duration": 5,
    "start_time": "2023-02-20T09:02:33.946Z"
   },
   {
    "duration": 3,
    "start_time": "2023-02-20T09:02:33.953Z"
   },
   {
    "duration": 384,
    "start_time": "2023-02-20T09:02:33.957Z"
   },
   {
    "duration": 5,
    "start_time": "2023-02-20T09:02:34.344Z"
   },
   {
    "duration": 271,
    "start_time": "2023-02-20T09:33:50.466Z"
   },
   {
    "duration": 285,
    "start_time": "2023-02-20T09:35:17.099Z"
   },
   {
    "duration": 431,
    "start_time": "2023-02-20T09:41:56.920Z"
   },
   {
    "duration": 213,
    "start_time": "2023-02-20T09:42:36.425Z"
   },
   {
    "duration": 136,
    "start_time": "2023-02-20T09:43:24.195Z"
   },
   {
    "duration": 254,
    "start_time": "2023-02-20T09:43:44.081Z"
   },
   {
    "duration": 329,
    "start_time": "2023-02-20T09:43:52.757Z"
   },
   {
    "duration": 175,
    "start_time": "2023-02-20T09:43:57.583Z"
   },
   {
    "duration": 150,
    "start_time": "2023-02-20T09:44:18.604Z"
   },
   {
    "duration": 204,
    "start_time": "2023-02-20T09:44:24.003Z"
   },
   {
    "duration": 241,
    "start_time": "2023-02-20T09:44:29.467Z"
   },
   {
    "duration": 261,
    "start_time": "2023-02-20T09:45:26.005Z"
   },
   {
    "duration": 268,
    "start_time": "2023-02-20T09:45:53.110Z"
   },
   {
    "duration": 313,
    "start_time": "2023-02-20T09:50:06.873Z"
   },
   {
    "duration": 157,
    "start_time": "2023-02-20T09:50:20.208Z"
   },
   {
    "duration": 167,
    "start_time": "2023-02-20T09:50:48.053Z"
   },
   {
    "duration": 322,
    "start_time": "2023-02-20T09:50:53.655Z"
   },
   {
    "duration": 146,
    "start_time": "2023-02-20T09:50:57.396Z"
   },
   {
    "duration": 179,
    "start_time": "2023-02-20T09:51:06.041Z"
   },
   {
    "duration": 140,
    "start_time": "2023-02-20T09:51:19.408Z"
   },
   {
    "duration": 197,
    "start_time": "2023-02-20T09:51:30.533Z"
   },
   {
    "duration": 125,
    "start_time": "2023-02-20T09:53:24.067Z"
   },
   {
    "duration": 107,
    "start_time": "2023-02-20T09:53:29.965Z"
   },
   {
    "duration": 110,
    "start_time": "2023-02-20T09:53:40.795Z"
   },
   {
    "duration": 128,
    "start_time": "2023-02-20T09:53:54.153Z"
   },
   {
    "duration": 326,
    "start_time": "2023-02-20T09:58:15.447Z"
   },
   {
    "duration": 339,
    "start_time": "2023-02-20T10:00:05.122Z"
   },
   {
    "duration": 334,
    "start_time": "2023-02-20T10:00:20.850Z"
   },
   {
    "duration": 301,
    "start_time": "2023-02-20T10:00:43.146Z"
   },
   {
    "duration": 314,
    "start_time": "2023-02-20T10:02:37.855Z"
   },
   {
    "duration": 522,
    "start_time": "2023-02-20T10:03:08.738Z"
   },
   {
    "duration": 295,
    "start_time": "2023-02-20T10:03:24.256Z"
   },
   {
    "duration": 346,
    "start_time": "2023-02-20T10:03:52.319Z"
   },
   {
    "duration": 322,
    "start_time": "2023-02-20T10:04:13.403Z"
   },
   {
    "duration": 347,
    "start_time": "2023-02-20T10:04:20.493Z"
   },
   {
    "duration": 307,
    "start_time": "2023-02-20T10:04:48.206Z"
   },
   {
    "duration": 404,
    "start_time": "2023-02-20T10:07:11.344Z"
   },
   {
    "duration": 301,
    "start_time": "2023-02-20T10:07:18.194Z"
   },
   {
    "duration": 360,
    "start_time": "2023-02-20T10:07:57.271Z"
   },
   {
    "duration": 332,
    "start_time": "2023-02-20T10:08:18.442Z"
   },
   {
    "duration": 419,
    "start_time": "2023-02-20T10:08:23.705Z"
   },
   {
    "duration": 200,
    "start_time": "2023-02-20T10:08:34.103Z"
   },
   {
    "duration": 180,
    "start_time": "2023-02-20T10:08:37.012Z"
   },
   {
    "duration": 220,
    "start_time": "2023-02-20T10:08:46.305Z"
   },
   {
    "duration": 136,
    "start_time": "2023-02-20T10:10:36.849Z"
   },
   {
    "duration": 133,
    "start_time": "2023-02-20T10:10:57.294Z"
   },
   {
    "duration": 312,
    "start_time": "2023-02-20T10:12:54.117Z"
   },
   {
    "duration": 326,
    "start_time": "2023-02-20T10:13:08.536Z"
   },
   {
    "duration": 198,
    "start_time": "2023-02-20T10:13:16.412Z"
   },
   {
    "duration": 175,
    "start_time": "2023-02-20T10:13:22.189Z"
   },
   {
    "duration": 179,
    "start_time": "2023-02-20T10:13:27.406Z"
   },
   {
    "duration": 299,
    "start_time": "2023-02-20T10:17:44.528Z"
   },
   {
    "duration": 159,
    "start_time": "2023-02-20T10:17:51.269Z"
   },
   {
    "duration": 174,
    "start_time": "2023-02-20T10:18:10.504Z"
   },
   {
    "duration": 117,
    "start_time": "2023-02-20T10:19:43.453Z"
   },
   {
    "duration": 179,
    "start_time": "2023-02-20T10:20:36.713Z"
   },
   {
    "duration": 160,
    "start_time": "2023-02-20T10:20:41.402Z"
   },
   {
    "duration": 166,
    "start_time": "2023-02-20T10:20:46.865Z"
   },
   {
    "duration": 176,
    "start_time": "2023-02-20T10:21:06.574Z"
   },
   {
    "duration": 184,
    "start_time": "2023-02-20T10:21:18.662Z"
   },
   {
    "duration": 169,
    "start_time": "2023-02-20T10:21:26.730Z"
   },
   {
    "duration": 176,
    "start_time": "2023-02-20T10:21:34.910Z"
   },
   {
    "duration": 319,
    "start_time": "2023-02-20T10:22:52.783Z"
   },
   {
    "duration": 346,
    "start_time": "2023-02-20T10:23:11.506Z"
   },
   {
    "duration": 189,
    "start_time": "2023-02-20T10:23:14.821Z"
   },
   {
    "duration": 205,
    "start_time": "2023-02-20T10:23:22.943Z"
   },
   {
    "duration": 469,
    "start_time": "2023-02-20T10:23:27.846Z"
   },
   {
    "duration": 168,
    "start_time": "2023-02-20T10:23:35.626Z"
   },
   {
    "duration": 162,
    "start_time": "2023-02-20T10:23:44.606Z"
   },
   {
    "duration": 189,
    "start_time": "2023-02-20T10:23:50.071Z"
   },
   {
    "duration": 169,
    "start_time": "2023-02-20T10:23:57.070Z"
   },
   {
    "duration": 191,
    "start_time": "2023-02-20T10:24:01.418Z"
   },
   {
    "duration": 167,
    "start_time": "2023-02-20T10:24:06.418Z"
   },
   {
    "duration": 162,
    "start_time": "2023-02-20T10:24:59.214Z"
   },
   {
    "duration": 179,
    "start_time": "2023-02-20T10:25:05.392Z"
   },
   {
    "duration": 167,
    "start_time": "2023-02-20T10:26:14.770Z"
   },
   {
    "duration": 293,
    "start_time": "2023-02-20T10:26:21.135Z"
   },
   {
    "duration": 159,
    "start_time": "2023-02-20T10:26:23.803Z"
   },
   {
    "duration": 165,
    "start_time": "2023-02-20T10:26:40.676Z"
   },
   {
    "duration": 167,
    "start_time": "2023-02-20T10:27:43.315Z"
   },
   {
    "duration": 174,
    "start_time": "2023-02-20T10:27:57.735Z"
   },
   {
    "duration": 170,
    "start_time": "2023-02-20T10:28:02.686Z"
   },
   {
    "duration": 176,
    "start_time": "2023-02-20T10:28:13.774Z"
   },
   {
    "duration": 149,
    "start_time": "2023-02-20T10:29:41.711Z"
   },
   {
    "duration": 159,
    "start_time": "2023-02-20T10:30:03.624Z"
   },
   {
    "duration": 93,
    "start_time": "2023-02-20T10:30:12.555Z"
   },
   {
    "duration": 160,
    "start_time": "2023-02-20T10:30:19.429Z"
   },
   {
    "duration": 158,
    "start_time": "2023-02-20T10:31:09.807Z"
   },
   {
    "duration": 663,
    "start_time": "2023-02-20T11:15:34.292Z"
   },
   {
    "duration": 98,
    "start_time": "2023-02-20T11:15:34.957Z"
   },
   {
    "duration": 54,
    "start_time": "2023-02-20T11:15:35.057Z"
   },
   {
    "duration": 14,
    "start_time": "2023-02-20T11:15:35.114Z"
   },
   {
    "duration": 4551,
    "start_time": "2023-02-20T11:15:35.130Z"
   },
   {
    "duration": 19,
    "start_time": "2023-02-20T11:15:39.683Z"
   },
   {
    "duration": 13,
    "start_time": "2023-02-20T11:15:39.705Z"
   },
   {
    "duration": 50,
    "start_time": "2023-02-20T11:15:39.719Z"
   },
   {
    "duration": 135,
    "start_time": "2023-02-20T11:15:39.770Z"
   },
   {
    "duration": 11,
    "start_time": "2023-02-20T11:15:39.908Z"
   },
   {
    "duration": 12,
    "start_time": "2023-02-20T11:15:39.921Z"
   },
   {
    "duration": 18,
    "start_time": "2023-02-20T11:15:39.934Z"
   },
   {
    "duration": 14,
    "start_time": "2023-02-20T11:15:39.954Z"
   },
   {
    "duration": 40,
    "start_time": "2023-02-20T11:15:39.970Z"
   },
   {
    "duration": 19,
    "start_time": "2023-02-20T11:15:40.012Z"
   },
   {
    "duration": 7,
    "start_time": "2023-02-20T11:15:40.033Z"
   },
   {
    "duration": 42,
    "start_time": "2023-02-20T11:15:40.042Z"
   },
   {
    "duration": 103,
    "start_time": "2023-02-20T11:15:40.086Z"
   },
   {
    "duration": 147,
    "start_time": "2023-02-20T11:15:40.190Z"
   },
   {
    "duration": 19,
    "start_time": "2023-02-20T11:15:40.340Z"
   },
   {
    "duration": 8,
    "start_time": "2023-02-20T11:15:40.361Z"
   },
   {
    "duration": 37,
    "start_time": "2023-02-20T11:15:40.371Z"
   },
   {
    "duration": 256,
    "start_time": "2023-02-20T11:15:40.410Z"
   },
   {
    "duration": 7,
    "start_time": "2023-02-20T11:15:40.668Z"
   },
   {
    "duration": 138,
    "start_time": "2023-02-20T11:15:40.676Z"
   },
   {
    "duration": 6,
    "start_time": "2023-02-20T11:15:40.816Z"
   },
   {
    "duration": 133,
    "start_time": "2023-02-20T11:15:40.823Z"
   },
   {
    "duration": 6,
    "start_time": "2023-02-20T11:15:40.959Z"
   },
   {
    "duration": 32,
    "start_time": "2023-02-20T11:15:40.966Z"
   },
   {
    "duration": 6,
    "start_time": "2023-02-20T11:15:40.999Z"
   },
   {
    "duration": 8,
    "start_time": "2023-02-20T11:15:41.006Z"
   },
   {
    "duration": 18,
    "start_time": "2023-02-20T11:15:41.015Z"
   },
   {
    "duration": 5,
    "start_time": "2023-02-20T11:15:41.035Z"
   },
   {
    "duration": 352,
    "start_time": "2023-02-20T11:15:41.042Z"
   },
   {
    "duration": 6,
    "start_time": "2023-02-20T11:15:41.397Z"
   },
   {
    "duration": 373,
    "start_time": "2023-02-20T11:15:41.405Z"
   },
   {
    "duration": 306,
    "start_time": "2023-02-20T11:15:41.780Z"
   },
   {
    "duration": 173,
    "start_time": "2023-02-20T11:15:42.088Z"
   },
   {
    "duration": 301,
    "start_time": "2023-02-20T11:15:42.263Z"
   },
   {
    "duration": 179,
    "start_time": "2023-02-20T11:15:42.566Z"
   },
   {
    "duration": 345,
    "start_time": "2023-02-20T11:15:42.747Z"
   },
   {
    "duration": 180,
    "start_time": "2023-02-20T11:15:43.093Z"
   },
   {
    "duration": 169,
    "start_time": "2023-02-20T11:15:43.274Z"
   },
   {
    "duration": 171,
    "start_time": "2023-02-20T11:15:43.444Z"
   },
   {
    "duration": 163,
    "start_time": "2023-02-20T11:15:43.616Z"
   },
   {
    "duration": 164,
    "start_time": "2023-02-20T11:15:43.781Z"
   },
   {
    "duration": 178,
    "start_time": "2023-02-20T11:15:43.947Z"
   },
   {
    "duration": 157,
    "start_time": "2023-02-20T11:15:44.127Z"
   },
   {
    "duration": 169,
    "start_time": "2023-02-20T11:15:44.292Z"
   },
   {
    "duration": 11,
    "start_time": "2023-02-20T11:24:09.659Z"
   },
   {
    "duration": 24,
    "start_time": "2023-02-20T11:24:34.887Z"
   },
   {
    "duration": 16,
    "start_time": "2023-02-20T11:26:43.682Z"
   },
   {
    "duration": 8,
    "start_time": "2023-02-20T11:27:05.353Z"
   },
   {
    "duration": 104,
    "start_time": "2023-02-20T11:28:40.997Z"
   },
   {
    "duration": 164,
    "start_time": "2023-02-20T11:28:55.424Z"
   },
   {
    "duration": 281,
    "start_time": "2023-02-20T11:29:08.307Z"
   },
   {
    "duration": 296,
    "start_time": "2023-02-20T11:30:19.850Z"
   },
   {
    "duration": 331,
    "start_time": "2023-02-20T11:31:00.275Z"
   },
   {
    "duration": 486,
    "start_time": "2023-02-20T11:31:13.205Z"
   },
   {
    "duration": 4,
    "start_time": "2023-02-20T11:35:23.933Z"
   },
   {
    "duration": 695,
    "start_time": "2023-02-20T11:35:32.576Z"
   },
   {
    "duration": 100,
    "start_time": "2023-02-20T11:35:33.273Z"
   },
   {
    "duration": 49,
    "start_time": "2023-02-20T11:35:33.375Z"
   },
   {
    "duration": 14,
    "start_time": "2023-02-20T11:35:33.426Z"
   },
   {
    "duration": 4175,
    "start_time": "2023-02-20T11:35:33.442Z"
   },
   {
    "duration": 14,
    "start_time": "2023-02-20T11:35:37.619Z"
   },
   {
    "duration": 7,
    "start_time": "2023-02-20T11:35:37.634Z"
   },
   {
    "duration": 11,
    "start_time": "2023-02-20T11:35:37.642Z"
   },
   {
    "duration": 10,
    "start_time": "2023-02-20T11:35:37.655Z"
   },
   {
    "duration": 10,
    "start_time": "2023-02-20T11:35:37.667Z"
   },
   {
    "duration": 10,
    "start_time": "2023-02-20T11:35:37.678Z"
   },
   {
    "duration": 24,
    "start_time": "2023-02-20T11:35:37.691Z"
   },
   {
    "duration": 10,
    "start_time": "2023-02-20T11:35:37.717Z"
   },
   {
    "duration": 8,
    "start_time": "2023-02-20T11:35:37.730Z"
   },
   {
    "duration": 23,
    "start_time": "2023-02-20T11:35:37.739Z"
   },
   {
    "duration": 6,
    "start_time": "2023-02-20T11:35:37.764Z"
   },
   {
    "duration": 18,
    "start_time": "2023-02-20T11:35:37.771Z"
   },
   {
    "duration": 74,
    "start_time": "2023-02-20T11:35:37.791Z"
   },
   {
    "duration": 130,
    "start_time": "2023-02-20T11:35:37.867Z"
   },
   {
    "duration": 16,
    "start_time": "2023-02-20T11:35:38.000Z"
   },
   {
    "duration": 9,
    "start_time": "2023-02-20T11:35:38.018Z"
   },
   {
    "duration": 16,
    "start_time": "2023-02-20T11:35:38.028Z"
   },
   {
    "duration": 243,
    "start_time": "2023-02-20T11:35:38.046Z"
   },
   {
    "duration": 7,
    "start_time": "2023-02-20T11:35:38.292Z"
   },
   {
    "duration": 136,
    "start_time": "2023-02-20T11:35:38.301Z"
   },
   {
    "duration": 6,
    "start_time": "2023-02-20T11:35:38.438Z"
   },
   {
    "duration": 133,
    "start_time": "2023-02-20T11:35:38.445Z"
   },
   {
    "duration": 14,
    "start_time": "2023-02-20T11:35:38.580Z"
   },
   {
    "duration": 18,
    "start_time": "2023-02-20T11:35:38.596Z"
   },
   {
    "duration": 16,
    "start_time": "2023-02-20T11:35:38.618Z"
   },
   {
    "duration": 8,
    "start_time": "2023-02-20T11:35:38.636Z"
   },
   {
    "duration": 10,
    "start_time": "2023-02-20T11:35:38.646Z"
   },
   {
    "duration": 11,
    "start_time": "2023-02-20T11:35:38.657Z"
   },
   {
    "duration": 365,
    "start_time": "2023-02-20T11:35:38.670Z"
   },
   {
    "duration": 5,
    "start_time": "2023-02-20T11:35:39.038Z"
   },
   {
    "duration": 342,
    "start_time": "2023-02-20T11:35:39.045Z"
   },
   {
    "duration": 299,
    "start_time": "2023-02-20T11:35:39.391Z"
   },
   {
    "duration": 198,
    "start_time": "2023-02-20T11:35:39.693Z"
   },
   {
    "duration": 365,
    "start_time": "2023-02-20T11:35:39.892Z"
   },
   {
    "duration": 196,
    "start_time": "2023-02-20T11:35:40.259Z"
   },
   {
    "duration": 343,
    "start_time": "2023-02-20T11:35:40.460Z"
   },
   {
    "duration": 178,
    "start_time": "2023-02-20T11:35:40.805Z"
   },
   {
    "duration": 136,
    "start_time": "2023-02-20T11:35:40.985Z"
   },
   {
    "duration": 192,
    "start_time": "2023-02-20T11:35:41.123Z"
   },
   {
    "duration": 171,
    "start_time": "2023-02-20T11:35:41.317Z"
   },
   {
    "duration": 193,
    "start_time": "2023-02-20T11:35:41.495Z"
   },
   {
    "duration": 197,
    "start_time": "2023-02-20T11:35:41.690Z"
   },
   {
    "duration": 170,
    "start_time": "2023-02-20T11:35:41.888Z"
   },
   {
    "duration": 177,
    "start_time": "2023-02-20T11:35:42.060Z"
   },
   {
    "duration": 11,
    "start_time": "2023-02-20T11:35:42.239Z"
   },
   {
    "duration": 6,
    "start_time": "2023-02-20T11:35:42.253Z"
   },
   {
    "duration": 324,
    "start_time": "2023-02-20T11:35:42.260Z"
   },
   {
    "duration": 5,
    "start_time": "2023-02-20T11:36:22.888Z"
   },
   {
    "duration": 733,
    "start_time": "2023-02-20T11:37:36.095Z"
   },
   {
    "duration": 99,
    "start_time": "2023-02-20T11:37:36.829Z"
   },
   {
    "duration": 42,
    "start_time": "2023-02-20T11:37:36.930Z"
   },
   {
    "duration": 28,
    "start_time": "2023-02-20T11:37:36.975Z"
   },
   {
    "duration": 4160,
    "start_time": "2023-02-20T11:37:37.005Z"
   },
   {
    "duration": 11,
    "start_time": "2023-02-20T11:37:41.166Z"
   },
   {
    "duration": 8,
    "start_time": "2023-02-20T11:37:41.178Z"
   },
   {
    "duration": 8,
    "start_time": "2023-02-20T11:37:41.187Z"
   },
   {
    "duration": 22,
    "start_time": "2023-02-20T11:37:41.197Z"
   },
   {
    "duration": 6,
    "start_time": "2023-02-20T11:37:41.223Z"
   },
   {
    "duration": 5,
    "start_time": "2023-02-20T11:37:41.231Z"
   },
   {
    "duration": 6,
    "start_time": "2023-02-20T11:37:41.237Z"
   },
   {
    "duration": 5,
    "start_time": "2023-02-20T11:37:41.245Z"
   },
   {
    "duration": 13,
    "start_time": "2023-02-20T11:37:41.252Z"
   },
   {
    "duration": 25,
    "start_time": "2023-02-20T11:37:41.267Z"
   },
   {
    "duration": 8,
    "start_time": "2023-02-20T11:37:41.294Z"
   },
   {
    "duration": 18,
    "start_time": "2023-02-20T11:37:41.304Z"
   },
   {
    "duration": 83,
    "start_time": "2023-02-20T11:37:41.324Z"
   },
   {
    "duration": 127,
    "start_time": "2023-02-20T11:37:41.409Z"
   },
   {
    "duration": 13,
    "start_time": "2023-02-20T11:37:41.538Z"
   },
   {
    "duration": 4,
    "start_time": "2023-02-20T11:37:41.552Z"
   },
   {
    "duration": 9,
    "start_time": "2023-02-20T11:37:41.558Z"
   },
   {
    "duration": 246,
    "start_time": "2023-02-20T11:37:41.568Z"
   },
   {
    "duration": 7,
    "start_time": "2023-02-20T11:37:41.816Z"
   },
   {
    "duration": 132,
    "start_time": "2023-02-20T11:37:41.824Z"
   },
   {
    "duration": 6,
    "start_time": "2023-02-20T11:37:41.957Z"
   },
   {
    "duration": 148,
    "start_time": "2023-02-20T11:37:41.965Z"
   },
   {
    "duration": 7,
    "start_time": "2023-02-20T11:37:42.118Z"
   },
   {
    "duration": 24,
    "start_time": "2023-02-20T11:37:42.127Z"
   },
   {
    "duration": 6,
    "start_time": "2023-02-20T11:37:42.153Z"
   },
   {
    "duration": 8,
    "start_time": "2023-02-20T11:37:42.161Z"
   },
   {
    "duration": 39,
    "start_time": "2023-02-20T11:37:42.171Z"
   },
   {
    "duration": 11,
    "start_time": "2023-02-20T11:37:42.211Z"
   },
   {
    "duration": 342,
    "start_time": "2023-02-20T11:37:42.223Z"
   },
   {
    "duration": 6,
    "start_time": "2023-02-20T11:37:42.566Z"
   },
   {
    "duration": 351,
    "start_time": "2023-02-20T11:37:42.573Z"
   },
   {
    "duration": 323,
    "start_time": "2023-02-20T11:37:42.927Z"
   },
   {
    "duration": 167,
    "start_time": "2023-02-20T11:37:43.253Z"
   },
   {
    "duration": 318,
    "start_time": "2023-02-20T11:37:43.422Z"
   },
   {
    "duration": 210,
    "start_time": "2023-02-20T11:37:43.742Z"
   },
   {
    "duration": 358,
    "start_time": "2023-02-20T11:37:43.955Z"
   },
   {
    "duration": 197,
    "start_time": "2023-02-20T11:37:44.315Z"
   },
   {
    "duration": 130,
    "start_time": "2023-02-20T11:37:44.514Z"
   },
   {
    "duration": 178,
    "start_time": "2023-02-20T11:37:44.645Z"
   },
   {
    "duration": 175,
    "start_time": "2023-02-20T11:37:44.824Z"
   },
   {
    "duration": 180,
    "start_time": "2023-02-20T11:37:45.001Z"
   },
   {
    "duration": 214,
    "start_time": "2023-02-20T11:37:45.183Z"
   },
   {
    "duration": 163,
    "start_time": "2023-02-20T11:37:45.399Z"
   },
   {
    "duration": 183,
    "start_time": "2023-02-20T11:37:45.564Z"
   },
   {
    "duration": 11,
    "start_time": "2023-02-20T11:37:45.748Z"
   },
   {
    "duration": 341,
    "start_time": "2023-02-20T11:37:45.760Z"
   },
   {
    "duration": 142,
    "start_time": "2023-02-20T11:41:48.694Z"
   },
   {
    "duration": 627,
    "start_time": "2023-02-20T11:55:53.056Z"
   },
   {
    "duration": 100,
    "start_time": "2023-02-20T11:55:53.685Z"
   },
   {
    "duration": 48,
    "start_time": "2023-02-20T11:55:53.786Z"
   },
   {
    "duration": 15,
    "start_time": "2023-02-20T11:55:53.836Z"
   },
   {
    "duration": 4236,
    "start_time": "2023-02-20T11:55:53.853Z"
   },
   {
    "duration": 14,
    "start_time": "2023-02-20T11:55:58.091Z"
   },
   {
    "duration": 7,
    "start_time": "2023-02-20T11:55:58.107Z"
   },
   {
    "duration": 9,
    "start_time": "2023-02-20T11:55:58.116Z"
   },
   {
    "duration": 12,
    "start_time": "2023-02-20T11:55:58.126Z"
   },
   {
    "duration": 6,
    "start_time": "2023-02-20T11:55:58.141Z"
   },
   {
    "duration": 4,
    "start_time": "2023-02-20T11:55:58.149Z"
   },
   {
    "duration": 41,
    "start_time": "2023-02-20T11:55:58.155Z"
   },
   {
    "duration": 19,
    "start_time": "2023-02-20T11:55:58.198Z"
   },
   {
    "duration": 10,
    "start_time": "2023-02-20T11:55:58.219Z"
   },
   {
    "duration": 27,
    "start_time": "2023-02-20T11:55:58.230Z"
   },
   {
    "duration": 5,
    "start_time": "2023-02-20T11:55:58.259Z"
   },
   {
    "duration": 17,
    "start_time": "2023-02-20T11:55:58.266Z"
   },
   {
    "duration": 73,
    "start_time": "2023-02-20T11:55:58.285Z"
   },
   {
    "duration": 138,
    "start_time": "2023-02-20T11:55:58.360Z"
   },
   {
    "duration": 14,
    "start_time": "2023-02-20T11:55:58.500Z"
   },
   {
    "duration": 5,
    "start_time": "2023-02-20T11:55:58.516Z"
   },
   {
    "duration": 16,
    "start_time": "2023-02-20T11:55:58.523Z"
   },
   {
    "duration": 266,
    "start_time": "2023-02-20T11:55:58.541Z"
   },
   {
    "duration": 7,
    "start_time": "2023-02-20T11:55:58.809Z"
   },
   {
    "duration": 124,
    "start_time": "2023-02-20T11:55:58.818Z"
   },
   {
    "duration": 6,
    "start_time": "2023-02-20T11:55:58.943Z"
   },
   {
    "duration": 123,
    "start_time": "2023-02-20T11:55:58.951Z"
   },
   {
    "duration": 6,
    "start_time": "2023-02-20T11:55:59.077Z"
   },
   {
    "duration": 22,
    "start_time": "2023-02-20T11:55:59.091Z"
   },
   {
    "duration": 7,
    "start_time": "2023-02-20T11:55:59.115Z"
   },
   {
    "duration": 6,
    "start_time": "2023-02-20T11:55:59.123Z"
   },
   {
    "duration": 27,
    "start_time": "2023-02-20T11:55:59.131Z"
   },
   {
    "duration": 6,
    "start_time": "2023-02-20T11:55:59.160Z"
   },
   {
    "duration": 476,
    "start_time": "2023-02-20T11:55:59.167Z"
   },
   {
    "duration": 4,
    "start_time": "2023-02-20T11:55:59.645Z"
   },
   {
    "duration": 312,
    "start_time": "2023-02-20T11:55:59.650Z"
   },
   {
    "duration": 322,
    "start_time": "2023-02-20T11:55:59.963Z"
   },
   {
    "duration": 170,
    "start_time": "2023-02-20T11:56:00.291Z"
   },
   {
    "duration": 320,
    "start_time": "2023-02-20T11:56:00.463Z"
   },
   {
    "duration": 188,
    "start_time": "2023-02-20T11:56:00.786Z"
   },
   {
    "duration": 340,
    "start_time": "2023-02-20T11:56:00.976Z"
   },
   {
    "duration": 187,
    "start_time": "2023-02-20T11:56:01.317Z"
   },
   {
    "duration": 140,
    "start_time": "2023-02-20T11:56:01.506Z"
   },
   {
    "duration": 185,
    "start_time": "2023-02-20T11:56:01.648Z"
   },
   {
    "duration": 191,
    "start_time": "2023-02-20T11:56:01.835Z"
   },
   {
    "duration": 181,
    "start_time": "2023-02-20T11:56:02.028Z"
   },
   {
    "duration": 189,
    "start_time": "2023-02-20T11:56:02.211Z"
   },
   {
    "duration": 151,
    "start_time": "2023-02-20T11:56:02.402Z"
   },
   {
    "duration": 174,
    "start_time": "2023-02-20T11:56:02.554Z"
   },
   {
    "duration": 320,
    "start_time": "2023-02-20T11:56:02.730Z"
   },
   {
    "duration": 25,
    "start_time": "2023-02-20T12:06:54.206Z"
   },
   {
    "duration": 30,
    "start_time": "2023-02-20T12:07:08.863Z"
   },
   {
    "duration": 15,
    "start_time": "2023-02-20T12:12:00.404Z"
   },
   {
    "duration": 139,
    "start_time": "2023-02-20T12:12:42.019Z"
   },
   {
    "duration": 144,
    "start_time": "2023-02-20T12:13:37.350Z"
   },
   {
    "duration": 164,
    "start_time": "2023-02-20T12:22:24.046Z"
   },
   {
    "duration": 164,
    "start_time": "2023-02-20T12:22:35.510Z"
   },
   {
    "duration": 166,
    "start_time": "2023-02-20T12:23:16.930Z"
   },
   {
    "duration": 192,
    "start_time": "2023-02-20T12:23:26.139Z"
   },
   {
    "duration": 141,
    "start_time": "2023-02-20T12:24:04.446Z"
   },
   {
    "duration": 165,
    "start_time": "2023-02-20T12:26:59.021Z"
   },
   {
    "duration": 169,
    "start_time": "2023-02-20T12:27:08.703Z"
   },
   {
    "duration": 175,
    "start_time": "2023-02-20T12:28:14.590Z"
   },
   {
    "duration": 182,
    "start_time": "2023-02-20T12:28:53.177Z"
   },
   {
    "duration": 357,
    "start_time": "2023-02-20T12:30:05.948Z"
   },
   {
    "duration": 138,
    "start_time": "2023-02-20T12:31:09.208Z"
   },
   {
    "duration": 305,
    "start_time": "2023-02-20T12:32:57.414Z"
   },
   {
    "duration": 276,
    "start_time": "2023-02-20T12:33:51.063Z"
   },
   {
    "duration": 167,
    "start_time": "2023-02-20T12:35:01.463Z"
   },
   {
    "duration": 162,
    "start_time": "2023-02-20T12:35:26.966Z"
   },
   {
    "duration": 153,
    "start_time": "2023-02-20T12:35:43.458Z"
   },
   {
    "duration": 63,
    "start_time": "2023-02-20T12:38:38.962Z"
   },
   {
    "duration": 85,
    "start_time": "2023-02-20T12:47:43.391Z"
   },
   {
    "duration": 28,
    "start_time": "2023-02-20T12:49:07.047Z"
   },
   {
    "duration": 120,
    "start_time": "2023-02-20T12:55:03.433Z"
   },
   {
    "duration": 689,
    "start_time": "2023-02-20T12:55:22.677Z"
   },
   {
    "duration": 95,
    "start_time": "2023-02-20T12:55:23.368Z"
   },
   {
    "duration": 47,
    "start_time": "2023-02-20T12:55:23.465Z"
   },
   {
    "duration": 15,
    "start_time": "2023-02-20T12:55:23.514Z"
   },
   {
    "duration": 4246,
    "start_time": "2023-02-20T12:55:23.531Z"
   },
   {
    "duration": 12,
    "start_time": "2023-02-20T12:55:27.779Z"
   },
   {
    "duration": 20,
    "start_time": "2023-02-20T12:55:27.793Z"
   },
   {
    "duration": 32,
    "start_time": "2023-02-20T12:55:27.815Z"
   },
   {
    "duration": 17,
    "start_time": "2023-02-20T12:55:27.848Z"
   },
   {
    "duration": 6,
    "start_time": "2023-02-20T12:55:27.867Z"
   },
   {
    "duration": 17,
    "start_time": "2023-02-20T12:55:27.875Z"
   },
   {
    "duration": 8,
    "start_time": "2023-02-20T12:55:27.893Z"
   },
   {
    "duration": 14,
    "start_time": "2023-02-20T12:55:27.903Z"
   },
   {
    "duration": 13,
    "start_time": "2023-02-20T12:55:27.919Z"
   },
   {
    "duration": 17,
    "start_time": "2023-02-20T12:55:27.933Z"
   },
   {
    "duration": 7,
    "start_time": "2023-02-20T12:55:27.952Z"
   },
   {
    "duration": 17,
    "start_time": "2023-02-20T12:55:27.961Z"
   },
   {
    "duration": 78,
    "start_time": "2023-02-20T12:55:27.991Z"
   },
   {
    "duration": 135,
    "start_time": "2023-02-20T12:55:28.071Z"
   },
   {
    "duration": 12,
    "start_time": "2023-02-20T12:55:28.208Z"
   },
   {
    "duration": 5,
    "start_time": "2023-02-20T12:55:28.222Z"
   },
   {
    "duration": 9,
    "start_time": "2023-02-20T12:55:28.229Z"
   },
   {
    "duration": 282,
    "start_time": "2023-02-20T12:55:28.240Z"
   },
   {
    "duration": 7,
    "start_time": "2023-02-20T12:55:28.523Z"
   },
   {
    "duration": 125,
    "start_time": "2023-02-20T12:55:28.532Z"
   },
   {
    "duration": 6,
    "start_time": "2023-02-20T12:55:28.660Z"
   },
   {
    "duration": 133,
    "start_time": "2023-02-20T12:55:28.667Z"
   },
   {
    "duration": 6,
    "start_time": "2023-02-20T12:55:28.804Z"
   },
   {
    "duration": 33,
    "start_time": "2023-02-20T12:55:28.811Z"
   },
   {
    "duration": 7,
    "start_time": "2023-02-20T12:55:28.845Z"
   },
   {
    "duration": 6,
    "start_time": "2023-02-20T12:55:28.853Z"
   },
   {
    "duration": 11,
    "start_time": "2023-02-20T12:55:28.860Z"
   },
   {
    "duration": 6,
    "start_time": "2023-02-20T12:55:28.873Z"
   },
   {
    "duration": 359,
    "start_time": "2023-02-20T12:55:28.881Z"
   },
   {
    "duration": 5,
    "start_time": "2023-02-20T12:55:29.241Z"
   },
   {
    "duration": 309,
    "start_time": "2023-02-20T12:55:29.247Z"
   },
   {
    "duration": 286,
    "start_time": "2023-02-20T12:55:29.558Z"
   },
   {
    "duration": 164,
    "start_time": "2023-02-20T12:55:29.846Z"
   },
   {
    "duration": 304,
    "start_time": "2023-02-20T12:55:30.012Z"
   },
   {
    "duration": 181,
    "start_time": "2023-02-20T12:55:30.318Z"
   },
   {
    "duration": 348,
    "start_time": "2023-02-20T12:55:30.501Z"
   },
   {
    "duration": 167,
    "start_time": "2023-02-20T12:55:30.851Z"
   },
   {
    "duration": 132,
    "start_time": "2023-02-20T12:55:31.020Z"
   },
   {
    "duration": 201,
    "start_time": "2023-02-20T12:55:31.154Z"
   },
   {
    "duration": 177,
    "start_time": "2023-02-20T12:55:31.357Z"
   },
   {
    "duration": 177,
    "start_time": "2023-02-20T12:55:31.536Z"
   },
   {
    "duration": 180,
    "start_time": "2023-02-20T12:55:31.714Z"
   },
   {
    "duration": 169,
    "start_time": "2023-02-20T12:55:31.896Z"
   },
   {
    "duration": 207,
    "start_time": "2023-02-20T12:55:32.068Z"
   },
   {
    "duration": 304,
    "start_time": "2023-02-20T12:55:32.277Z"
   },
   {
    "duration": 164,
    "start_time": "2023-02-20T12:55:32.583Z"
   },
   {
    "duration": 170,
    "start_time": "2023-02-20T12:55:32.749Z"
   },
   {
    "duration": 155,
    "start_time": "2023-02-20T12:55:32.922Z"
   },
   {
    "duration": 157,
    "start_time": "2023-02-20T12:55:33.079Z"
   },
   {
    "duration": 144,
    "start_time": "2023-02-20T12:55:33.238Z"
   },
   {
    "duration": 158,
    "start_time": "2023-02-20T12:55:33.384Z"
   },
   {
    "duration": 158,
    "start_time": "2023-02-20T12:55:33.544Z"
   },
   {
    "duration": 156,
    "start_time": "2023-02-20T12:55:33.704Z"
   },
   {
    "duration": 192,
    "start_time": "2023-02-20T12:55:33.861Z"
   },
   {
    "duration": 16,
    "start_time": "2023-02-20T13:28:20.519Z"
   },
   {
    "duration": 14,
    "start_time": "2023-02-20T13:31:04.907Z"
   },
   {
    "duration": 10,
    "start_time": "2023-02-20T13:31:12.580Z"
   },
   {
    "duration": 603,
    "start_time": "2023-02-20T13:31:22.608Z"
   },
   {
    "duration": 95,
    "start_time": "2023-02-20T13:31:23.213Z"
   },
   {
    "duration": 41,
    "start_time": "2023-02-20T13:31:23.310Z"
   },
   {
    "duration": 14,
    "start_time": "2023-02-20T13:31:23.353Z"
   },
   {
    "duration": 4056,
    "start_time": "2023-02-20T13:31:23.369Z"
   },
   {
    "duration": 10,
    "start_time": "2023-02-20T13:31:27.427Z"
   },
   {
    "duration": 4,
    "start_time": "2023-02-20T13:31:27.439Z"
   },
   {
    "duration": 7,
    "start_time": "2023-02-20T13:31:27.445Z"
   },
   {
    "duration": 8,
    "start_time": "2023-02-20T13:31:27.453Z"
   },
   {
    "duration": 6,
    "start_time": "2023-02-20T13:31:27.463Z"
   },
   {
    "duration": 6,
    "start_time": "2023-02-20T13:31:27.471Z"
   },
   {
    "duration": 4,
    "start_time": "2023-02-20T13:31:27.492Z"
   },
   {
    "duration": 4,
    "start_time": "2023-02-20T13:31:27.498Z"
   },
   {
    "duration": 10,
    "start_time": "2023-02-20T13:31:27.504Z"
   },
   {
    "duration": 15,
    "start_time": "2023-02-20T13:31:27.515Z"
   },
   {
    "duration": 7,
    "start_time": "2023-02-20T13:31:27.532Z"
   },
   {
    "duration": 22,
    "start_time": "2023-02-20T13:31:27.540Z"
   },
   {
    "duration": 92,
    "start_time": "2023-02-20T13:31:27.564Z"
   },
   {
    "duration": 122,
    "start_time": "2023-02-20T13:31:27.658Z"
   },
   {
    "duration": 19,
    "start_time": "2023-02-20T13:31:27.782Z"
   },
   {
    "duration": 5,
    "start_time": "2023-02-20T13:31:27.802Z"
   },
   {
    "duration": 11,
    "start_time": "2023-02-20T13:31:27.808Z"
   },
   {
    "duration": 230,
    "start_time": "2023-02-20T13:31:27.820Z"
   },
   {
    "duration": 7,
    "start_time": "2023-02-20T13:31:28.051Z"
   },
   {
    "duration": 132,
    "start_time": "2023-02-20T13:31:28.060Z"
   },
   {
    "duration": 5,
    "start_time": "2023-02-20T13:31:28.194Z"
   },
   {
    "duration": 130,
    "start_time": "2023-02-20T13:31:28.201Z"
   },
   {
    "duration": 7,
    "start_time": "2023-02-20T13:31:28.335Z"
   },
   {
    "duration": 83,
    "start_time": "2023-02-20T13:31:28.343Z"
   },
   {
    "duration": 0,
    "start_time": "2023-02-20T13:31:28.428Z"
   },
   {
    "duration": 0,
    "start_time": "2023-02-20T13:31:28.429Z"
   },
   {
    "duration": 0,
    "start_time": "2023-02-20T13:31:28.429Z"
   },
   {
    "duration": 0,
    "start_time": "2023-02-20T13:31:28.431Z"
   },
   {
    "duration": 0,
    "start_time": "2023-02-20T13:31:28.432Z"
   },
   {
    "duration": 0,
    "start_time": "2023-02-20T13:31:28.433Z"
   },
   {
    "duration": 0,
    "start_time": "2023-02-20T13:31:28.435Z"
   },
   {
    "duration": 0,
    "start_time": "2023-02-20T13:31:28.436Z"
   },
   {
    "duration": 0,
    "start_time": "2023-02-20T13:31:28.437Z"
   },
   {
    "duration": 0,
    "start_time": "2023-02-20T13:31:28.440Z"
   },
   {
    "duration": 0,
    "start_time": "2023-02-20T13:31:28.442Z"
   },
   {
    "duration": 0,
    "start_time": "2023-02-20T13:31:28.443Z"
   },
   {
    "duration": 0,
    "start_time": "2023-02-20T13:31:28.445Z"
   },
   {
    "duration": 0,
    "start_time": "2023-02-20T13:31:28.446Z"
   },
   {
    "duration": 0,
    "start_time": "2023-02-20T13:31:28.447Z"
   },
   {
    "duration": 0,
    "start_time": "2023-02-20T13:31:28.449Z"
   },
   {
    "duration": 0,
    "start_time": "2023-02-20T13:31:28.450Z"
   },
   {
    "duration": 0,
    "start_time": "2023-02-20T13:31:28.452Z"
   },
   {
    "duration": 0,
    "start_time": "2023-02-20T13:31:28.492Z"
   },
   {
    "duration": 0,
    "start_time": "2023-02-20T13:31:28.493Z"
   },
   {
    "duration": 0,
    "start_time": "2023-02-20T13:31:28.495Z"
   },
   {
    "duration": 0,
    "start_time": "2023-02-20T13:31:28.496Z"
   },
   {
    "duration": 0,
    "start_time": "2023-02-20T13:31:28.498Z"
   },
   {
    "duration": 0,
    "start_time": "2023-02-20T13:31:28.499Z"
   },
   {
    "duration": 0,
    "start_time": "2023-02-20T13:31:28.500Z"
   },
   {
    "duration": 0,
    "start_time": "2023-02-20T13:31:28.502Z"
   },
   {
    "duration": 0,
    "start_time": "2023-02-20T13:31:28.503Z"
   },
   {
    "duration": 0,
    "start_time": "2023-02-20T13:31:28.505Z"
   },
   {
    "duration": 0,
    "start_time": "2023-02-20T13:31:28.506Z"
   },
   {
    "duration": 0,
    "start_time": "2023-02-20T13:31:28.508Z"
   },
   {
    "duration": 11,
    "start_time": "2023-02-20T13:31:49.087Z"
   },
   {
    "duration": 13,
    "start_time": "2023-02-20T13:32:47.198Z"
   },
   {
    "duration": 5,
    "start_time": "2023-02-20T13:32:57.196Z"
   },
   {
    "duration": 14,
    "start_time": "2023-02-20T13:33:06.842Z"
   },
   {
    "duration": 11,
    "start_time": "2023-02-20T13:33:18.391Z"
   },
   {
    "duration": 28,
    "start_time": "2023-02-20T13:33:59.290Z"
   },
   {
    "duration": 12,
    "start_time": "2023-02-20T13:34:08.682Z"
   },
   {
    "duration": 10,
    "start_time": "2023-02-20T13:35:53.844Z"
   },
   {
    "duration": 16,
    "start_time": "2023-02-20T13:36:31.283Z"
   },
   {
    "duration": 38,
    "start_time": "2023-02-20T13:36:41.982Z"
   },
   {
    "duration": 122,
    "start_time": "2023-02-20T13:38:06.918Z"
   },
   {
    "duration": 638,
    "start_time": "2023-02-20T13:38:16.909Z"
   },
   {
    "duration": 91,
    "start_time": "2023-02-20T13:38:17.549Z"
   },
   {
    "duration": 42,
    "start_time": "2023-02-20T13:38:17.642Z"
   },
   {
    "duration": 14,
    "start_time": "2023-02-20T13:38:17.692Z"
   },
   {
    "duration": 3973,
    "start_time": "2023-02-20T13:38:17.708Z"
   },
   {
    "duration": 10,
    "start_time": "2023-02-20T13:38:21.683Z"
   },
   {
    "duration": 6,
    "start_time": "2023-02-20T13:38:21.695Z"
   },
   {
    "duration": 8,
    "start_time": "2023-02-20T13:38:21.702Z"
   },
   {
    "duration": 7,
    "start_time": "2023-02-20T13:38:21.712Z"
   },
   {
    "duration": 5,
    "start_time": "2023-02-20T13:38:21.722Z"
   },
   {
    "duration": 12,
    "start_time": "2023-02-20T13:38:21.729Z"
   },
   {
    "duration": 7,
    "start_time": "2023-02-20T13:38:21.742Z"
   },
   {
    "duration": 8,
    "start_time": "2023-02-20T13:38:21.751Z"
   },
   {
    "duration": 33,
    "start_time": "2023-02-20T13:38:21.761Z"
   },
   {
    "duration": 20,
    "start_time": "2023-02-20T13:38:21.796Z"
   },
   {
    "duration": 6,
    "start_time": "2023-02-20T13:38:21.818Z"
   },
   {
    "duration": 14,
    "start_time": "2023-02-20T13:38:21.826Z"
   },
   {
    "duration": 94,
    "start_time": "2023-02-20T13:38:21.842Z"
   },
   {
    "duration": 143,
    "start_time": "2023-02-20T13:38:21.938Z"
   },
   {
    "duration": 17,
    "start_time": "2023-02-20T13:38:22.084Z"
   },
   {
    "duration": 5,
    "start_time": "2023-02-20T13:38:22.104Z"
   },
   {
    "duration": 14,
    "start_time": "2023-02-20T13:38:22.111Z"
   },
   {
    "duration": 239,
    "start_time": "2023-02-20T13:38:22.128Z"
   },
   {
    "duration": 6,
    "start_time": "2023-02-20T13:38:22.369Z"
   },
   {
    "duration": 132,
    "start_time": "2023-02-20T13:38:22.376Z"
   },
   {
    "duration": 5,
    "start_time": "2023-02-20T13:38:22.510Z"
   },
   {
    "duration": 132,
    "start_time": "2023-02-20T13:38:22.516Z"
   },
   {
    "duration": 5,
    "start_time": "2023-02-20T13:38:22.652Z"
   },
   {
    "duration": 48,
    "start_time": "2023-02-20T13:38:22.659Z"
   },
   {
    "duration": 6,
    "start_time": "2023-02-20T13:38:22.708Z"
   },
   {
    "duration": 6,
    "start_time": "2023-02-20T13:38:22.716Z"
   },
   {
    "duration": 16,
    "start_time": "2023-02-20T13:38:22.723Z"
   },
   {
    "duration": 3,
    "start_time": "2023-02-20T13:38:22.740Z"
   },
   {
    "duration": 354,
    "start_time": "2023-02-20T13:38:22.745Z"
   },
   {
    "duration": 5,
    "start_time": "2023-02-20T13:38:23.101Z"
   },
   {
    "duration": 310,
    "start_time": "2023-02-20T13:38:23.107Z"
   },
   {
    "duration": 307,
    "start_time": "2023-02-20T13:38:23.419Z"
   },
   {
    "duration": 171,
    "start_time": "2023-02-20T13:38:23.727Z"
   },
   {
    "duration": 291,
    "start_time": "2023-02-20T13:38:23.900Z"
   },
   {
    "duration": 176,
    "start_time": "2023-02-20T13:38:24.193Z"
   },
   {
    "duration": 316,
    "start_time": "2023-02-20T13:38:24.371Z"
   },
   {
    "duration": 163,
    "start_time": "2023-02-20T13:38:24.688Z"
   },
   {
    "duration": 132,
    "start_time": "2023-02-20T13:38:24.853Z"
   },
   {
    "duration": 185,
    "start_time": "2023-02-20T13:38:24.992Z"
   },
   {
    "duration": 197,
    "start_time": "2023-02-20T13:38:25.179Z"
   },
   {
    "duration": 167,
    "start_time": "2023-02-20T13:38:25.378Z"
   },
   {
    "duration": 182,
    "start_time": "2023-02-20T13:38:25.547Z"
   },
   {
    "duration": 162,
    "start_time": "2023-02-20T13:38:25.731Z"
   },
   {
    "duration": 170,
    "start_time": "2023-02-20T13:38:25.895Z"
   },
   {
    "duration": 309,
    "start_time": "2023-02-20T13:38:26.068Z"
   },
   {
    "duration": 225,
    "start_time": "2023-02-20T13:38:26.378Z"
   },
   {
    "duration": 178,
    "start_time": "2023-02-20T13:38:26.606Z"
   },
   {
    "duration": 146,
    "start_time": "2023-02-20T13:38:26.786Z"
   },
   {
    "duration": 149,
    "start_time": "2023-02-20T13:38:26.933Z"
   },
   {
    "duration": 142,
    "start_time": "2023-02-20T13:38:27.084Z"
   },
   {
    "duration": 155,
    "start_time": "2023-02-20T13:38:27.228Z"
   },
   {
    "duration": 146,
    "start_time": "2023-02-20T13:38:27.384Z"
   },
   {
    "duration": 152,
    "start_time": "2023-02-20T13:38:27.531Z"
   },
   {
    "duration": 0,
    "start_time": "2023-02-20T13:38:27.876Z"
   },
   {
    "duration": 117,
    "start_time": "2023-02-20T13:38:54.799Z"
   },
   {
    "duration": 119,
    "start_time": "2023-02-20T13:39:16.857Z"
   },
   {
    "duration": 17,
    "start_time": "2023-02-20T13:39:39.385Z"
   },
   {
    "duration": 16,
    "start_time": "2023-02-20T13:40:44.621Z"
   },
   {
    "duration": 27,
    "start_time": "2023-02-20T13:40:55.831Z"
   },
   {
    "duration": 40,
    "start_time": "2023-02-20T13:41:29.180Z"
   },
   {
    "duration": 642,
    "start_time": "2023-02-20T13:42:40.746Z"
   },
   {
    "duration": 91,
    "start_time": "2023-02-20T13:42:41.392Z"
   },
   {
    "duration": 40,
    "start_time": "2023-02-20T13:42:41.485Z"
   },
   {
    "duration": 14,
    "start_time": "2023-02-20T13:42:41.528Z"
   },
   {
    "duration": 4057,
    "start_time": "2023-02-20T13:42:41.544Z"
   },
   {
    "duration": 11,
    "start_time": "2023-02-20T13:42:45.603Z"
   },
   {
    "duration": 5,
    "start_time": "2023-02-20T13:42:45.616Z"
   },
   {
    "duration": 7,
    "start_time": "2023-02-20T13:42:45.624Z"
   },
   {
    "duration": 11,
    "start_time": "2023-02-20T13:42:45.632Z"
   },
   {
    "duration": 6,
    "start_time": "2023-02-20T13:42:45.645Z"
   },
   {
    "duration": 6,
    "start_time": "2023-02-20T13:42:45.652Z"
   },
   {
    "duration": 4,
    "start_time": "2023-02-20T13:42:45.660Z"
   },
   {
    "duration": 29,
    "start_time": "2023-02-20T13:42:45.665Z"
   },
   {
    "duration": 8,
    "start_time": "2023-02-20T13:42:45.696Z"
   },
   {
    "duration": 16,
    "start_time": "2023-02-20T13:42:45.705Z"
   },
   {
    "duration": 6,
    "start_time": "2023-02-20T13:42:45.723Z"
   },
   {
    "duration": 23,
    "start_time": "2023-02-20T13:42:45.730Z"
   },
   {
    "duration": 90,
    "start_time": "2023-02-20T13:42:45.755Z"
   },
   {
    "duration": 120,
    "start_time": "2023-02-20T13:42:45.847Z"
   },
   {
    "duration": 23,
    "start_time": "2023-02-20T13:42:45.969Z"
   },
   {
    "duration": 5,
    "start_time": "2023-02-20T13:42:45.993Z"
   },
   {
    "duration": 7,
    "start_time": "2023-02-20T13:42:46.000Z"
   },
   {
    "duration": 316,
    "start_time": "2023-02-20T13:42:46.009Z"
   },
   {
    "duration": 7,
    "start_time": "2023-02-20T13:42:46.326Z"
   },
   {
    "duration": 137,
    "start_time": "2023-02-20T13:42:46.335Z"
   },
   {
    "duration": 17,
    "start_time": "2023-02-20T13:42:46.474Z"
   },
   {
    "duration": 128,
    "start_time": "2023-02-20T13:42:46.494Z"
   },
   {
    "duration": 5,
    "start_time": "2023-02-20T13:42:46.626Z"
   },
   {
    "duration": 98,
    "start_time": "2023-02-20T13:42:46.632Z"
   },
   {
    "duration": 0,
    "start_time": "2023-02-20T13:42:46.732Z"
   },
   {
    "duration": 0,
    "start_time": "2023-02-20T13:42:46.733Z"
   },
   {
    "duration": 0,
    "start_time": "2023-02-20T13:42:46.734Z"
   },
   {
    "duration": 0,
    "start_time": "2023-02-20T13:42:46.736Z"
   },
   {
    "duration": 0,
    "start_time": "2023-02-20T13:42:46.737Z"
   },
   {
    "duration": 0,
    "start_time": "2023-02-20T13:42:46.738Z"
   },
   {
    "duration": 0,
    "start_time": "2023-02-20T13:42:46.739Z"
   },
   {
    "duration": 0,
    "start_time": "2023-02-20T13:42:46.741Z"
   },
   {
    "duration": 0,
    "start_time": "2023-02-20T13:42:46.742Z"
   },
   {
    "duration": 0,
    "start_time": "2023-02-20T13:42:46.743Z"
   },
   {
    "duration": 0,
    "start_time": "2023-02-20T13:42:46.744Z"
   },
   {
    "duration": 0,
    "start_time": "2023-02-20T13:42:46.745Z"
   },
   {
    "duration": 0,
    "start_time": "2023-02-20T13:42:46.746Z"
   },
   {
    "duration": 0,
    "start_time": "2023-02-20T13:42:46.747Z"
   },
   {
    "duration": 0,
    "start_time": "2023-02-20T13:42:46.748Z"
   },
   {
    "duration": 0,
    "start_time": "2023-02-20T13:42:46.749Z"
   },
   {
    "duration": 0,
    "start_time": "2023-02-20T13:42:46.750Z"
   },
   {
    "duration": 0,
    "start_time": "2023-02-20T13:42:46.751Z"
   },
   {
    "duration": 0,
    "start_time": "2023-02-20T13:42:46.752Z"
   },
   {
    "duration": 0,
    "start_time": "2023-02-20T13:42:46.792Z"
   },
   {
    "duration": 0,
    "start_time": "2023-02-20T13:42:46.793Z"
   },
   {
    "duration": 0,
    "start_time": "2023-02-20T13:42:46.794Z"
   },
   {
    "duration": 0,
    "start_time": "2023-02-20T13:42:46.795Z"
   },
   {
    "duration": 0,
    "start_time": "2023-02-20T13:42:46.796Z"
   },
   {
    "duration": 0,
    "start_time": "2023-02-20T13:42:46.797Z"
   },
   {
    "duration": 0,
    "start_time": "2023-02-20T13:42:46.799Z"
   },
   {
    "duration": 0,
    "start_time": "2023-02-20T13:42:46.800Z"
   },
   {
    "duration": 0,
    "start_time": "2023-02-20T13:42:46.800Z"
   },
   {
    "duration": 0,
    "start_time": "2023-02-20T13:42:46.801Z"
   },
   {
    "duration": 26,
    "start_time": "2023-02-20T13:42:56.327Z"
   },
   {
    "duration": 20,
    "start_time": "2023-02-20T13:48:41.032Z"
   },
   {
    "duration": 35,
    "start_time": "2023-02-20T13:49:06.452Z"
   },
   {
    "duration": 27,
    "start_time": "2023-02-20T13:56:36.638Z"
   },
   {
    "duration": 26,
    "start_time": "2023-02-20T13:57:44.675Z"
   },
   {
    "duration": 15,
    "start_time": "2023-02-20T13:57:51.546Z"
   },
   {
    "duration": 604,
    "start_time": "2023-02-20T13:58:36.271Z"
   },
   {
    "duration": 30,
    "start_time": "2023-02-20T14:00:22.698Z"
   },
   {
    "duration": 46,
    "start_time": "2023-02-20T14:00:31.226Z"
   },
   {
    "duration": 5,
    "start_time": "2023-02-20T14:03:09.605Z"
   },
   {
    "duration": 31,
    "start_time": "2023-02-20T14:03:30.400Z"
   },
   {
    "duration": 5,
    "start_time": "2023-02-20T14:03:42.011Z"
   },
   {
    "duration": 671,
    "start_time": "2023-02-20T14:33:20.670Z"
   },
   {
    "duration": 96,
    "start_time": "2023-02-20T14:33:21.343Z"
   },
   {
    "duration": 51,
    "start_time": "2023-02-20T14:33:21.441Z"
   },
   {
    "duration": 14,
    "start_time": "2023-02-20T14:33:21.493Z"
   },
   {
    "duration": 4004,
    "start_time": "2023-02-20T14:33:21.509Z"
   },
   {
    "duration": 11,
    "start_time": "2023-02-20T14:33:25.515Z"
   },
   {
    "duration": 19,
    "start_time": "2023-02-20T14:33:25.528Z"
   },
   {
    "duration": 14,
    "start_time": "2023-02-20T14:33:25.549Z"
   },
   {
    "duration": 14,
    "start_time": "2023-02-20T14:33:25.565Z"
   },
   {
    "duration": 17,
    "start_time": "2023-02-20T14:33:25.581Z"
   },
   {
    "duration": 31,
    "start_time": "2023-02-20T14:33:25.600Z"
   },
   {
    "duration": 25,
    "start_time": "2023-02-20T14:33:25.632Z"
   },
   {
    "duration": 19,
    "start_time": "2023-02-20T14:33:25.659Z"
   },
   {
    "duration": 29,
    "start_time": "2023-02-20T14:33:25.681Z"
   },
   {
    "duration": 21,
    "start_time": "2023-02-20T14:33:25.712Z"
   },
   {
    "duration": 6,
    "start_time": "2023-02-20T14:33:25.735Z"
   },
   {
    "duration": 16,
    "start_time": "2023-02-20T14:33:25.743Z"
   },
   {
    "duration": 72,
    "start_time": "2023-02-20T14:33:25.761Z"
   },
   {
    "duration": 115,
    "start_time": "2023-02-20T14:33:25.834Z"
   },
   {
    "duration": 11,
    "start_time": "2023-02-20T14:33:25.951Z"
   },
   {
    "duration": 5,
    "start_time": "2023-02-20T14:33:25.964Z"
   },
   {
    "duration": 25,
    "start_time": "2023-02-20T14:33:25.970Z"
   },
   {
    "duration": 292,
    "start_time": "2023-02-20T14:33:25.997Z"
   },
   {
    "duration": 8,
    "start_time": "2023-02-20T14:33:26.292Z"
   },
   {
    "duration": 166,
    "start_time": "2023-02-20T14:33:26.302Z"
   },
   {
    "duration": 23,
    "start_time": "2023-02-20T14:33:26.470Z"
   },
   {
    "duration": 135,
    "start_time": "2023-02-20T14:33:26.495Z"
   },
   {
    "duration": 6,
    "start_time": "2023-02-20T14:33:26.632Z"
   },
   {
    "duration": 11,
    "start_time": "2023-02-20T14:33:26.640Z"
   },
   {
    "duration": 9,
    "start_time": "2023-02-20T14:33:26.653Z"
   },
   {
    "duration": 13,
    "start_time": "2023-02-20T14:33:26.663Z"
   },
   {
    "duration": 16,
    "start_time": "2023-02-20T14:33:26.677Z"
   },
   {
    "duration": 4,
    "start_time": "2023-02-20T14:33:26.695Z"
   },
   {
    "duration": 366,
    "start_time": "2023-02-20T14:33:26.700Z"
   },
   {
    "duration": 5,
    "start_time": "2023-02-20T14:33:27.068Z"
   },
   {
    "duration": 345,
    "start_time": "2023-02-20T14:33:27.074Z"
   },
   {
    "duration": 291,
    "start_time": "2023-02-20T14:33:27.421Z"
   },
   {
    "duration": 166,
    "start_time": "2023-02-20T14:33:27.714Z"
   },
   {
    "duration": 340,
    "start_time": "2023-02-20T14:33:27.881Z"
   },
   {
    "duration": 216,
    "start_time": "2023-02-20T14:33:28.223Z"
   },
   {
    "duration": 335,
    "start_time": "2023-02-20T14:33:28.443Z"
   },
   {
    "duration": 172,
    "start_time": "2023-02-20T14:33:28.779Z"
   },
   {
    "duration": 139,
    "start_time": "2023-02-20T14:33:28.953Z"
   },
   {
    "duration": 201,
    "start_time": "2023-02-20T14:33:29.094Z"
   },
   {
    "duration": 194,
    "start_time": "2023-02-20T14:33:29.297Z"
   },
   {
    "duration": 158,
    "start_time": "2023-02-20T14:33:29.493Z"
   },
   {
    "duration": 177,
    "start_time": "2023-02-20T14:33:29.653Z"
   },
   {
    "duration": 158,
    "start_time": "2023-02-20T14:33:29.832Z"
   },
   {
    "duration": 187,
    "start_time": "2023-02-20T14:33:29.992Z"
   },
   {
    "duration": 349,
    "start_time": "2023-02-20T14:33:30.182Z"
   },
   {
    "duration": 173,
    "start_time": "2023-02-20T14:33:30.533Z"
   },
   {
    "duration": 192,
    "start_time": "2023-02-20T14:33:30.708Z"
   },
   {
    "duration": 243,
    "start_time": "2023-02-20T14:33:30.902Z"
   },
   {
    "duration": 199,
    "start_time": "2023-02-20T14:33:31.147Z"
   },
   {
    "duration": 159,
    "start_time": "2023-02-20T14:33:31.348Z"
   },
   {
    "duration": 172,
    "start_time": "2023-02-20T14:33:31.509Z"
   },
   {
    "duration": 157,
    "start_time": "2023-02-20T14:33:31.683Z"
   },
   {
    "duration": 152,
    "start_time": "2023-02-20T14:33:31.842Z"
   },
   {
    "duration": 33,
    "start_time": "2023-02-20T14:35:32.190Z"
   },
   {
    "duration": 31,
    "start_time": "2023-02-20T14:36:47.596Z"
   },
   {
    "duration": 18,
    "start_time": "2023-02-20T14:41:53.703Z"
   },
   {
    "duration": 26,
    "start_time": "2023-02-20T14:42:07.050Z"
   },
   {
    "duration": 18,
    "start_time": "2023-02-20T14:43:11.530Z"
   },
   {
    "duration": 23,
    "start_time": "2023-02-20T14:43:27.046Z"
   },
   {
    "duration": 20,
    "start_time": "2023-02-20T14:45:18.412Z"
   },
   {
    "duration": 19,
    "start_time": "2023-02-20T14:45:24.800Z"
   },
   {
    "duration": 23,
    "start_time": "2023-02-20T14:45:32.001Z"
   },
   {
    "duration": 21,
    "start_time": "2023-02-20T14:45:43.894Z"
   },
   {
    "duration": 25,
    "start_time": "2023-02-20T14:45:52.881Z"
   },
   {
    "duration": 24,
    "start_time": "2023-02-20T14:46:39.800Z"
   },
   {
    "duration": 28,
    "start_time": "2023-02-20T14:52:34.464Z"
   },
   {
    "duration": 24,
    "start_time": "2023-02-20T14:52:39.866Z"
   },
   {
    "duration": 391,
    "start_time": "2023-02-20T14:52:59.747Z"
   },
   {
    "duration": 26,
    "start_time": "2023-02-20T14:53:04.487Z"
   },
   {
    "duration": 4,
    "start_time": "2023-02-20T15:01:05.409Z"
   },
   {
    "duration": 1710,
    "start_time": "2023-02-20T15:03:20.314Z"
   },
   {
    "duration": 833,
    "start_time": "2023-02-20T15:04:05.333Z"
   },
   {
    "duration": 8,
    "start_time": "2023-02-20T15:05:25.380Z"
   },
   {
    "duration": 28,
    "start_time": "2023-02-20T15:10:31.455Z"
   },
   {
    "duration": 4,
    "start_time": "2023-02-20T15:11:12.664Z"
   },
   {
    "duration": 5,
    "start_time": "2023-02-20T15:11:22.115Z"
   },
   {
    "duration": 73,
    "start_time": "2023-02-20T15:13:21.238Z"
   },
   {
    "duration": 4,
    "start_time": "2023-02-20T15:15:19.946Z"
   },
   {
    "duration": 8,
    "start_time": "2023-02-20T15:15:31.672Z"
   },
   {
    "duration": 4,
    "start_time": "2023-02-20T15:17:04.741Z"
   },
   {
    "duration": 9,
    "start_time": "2023-02-20T15:17:11.750Z"
   },
   {
    "duration": 11,
    "start_time": "2023-02-20T15:21:03.484Z"
   },
   {
    "duration": 38,
    "start_time": "2023-02-20T15:21:32.608Z"
   },
   {
    "duration": 11,
    "start_time": "2023-02-20T15:21:49.691Z"
   },
   {
    "duration": 8,
    "start_time": "2023-02-20T15:22:07.653Z"
   },
   {
    "duration": 8,
    "start_time": "2023-02-20T15:22:13.312Z"
   },
   {
    "duration": 47,
    "start_time": "2023-02-20T15:28:44.648Z"
   },
   {
    "duration": 193,
    "start_time": "2023-02-20T17:32:25.403Z"
   },
   {
    "duration": 142,
    "start_time": "2023-02-20T17:32:53.937Z"
   },
   {
    "duration": 184,
    "start_time": "2023-02-20T17:40:19.008Z"
   },
   {
    "duration": 367,
    "start_time": "2023-02-20T17:40:29.605Z"
   },
   {
    "duration": 157,
    "start_time": "2023-02-20T17:51:58.020Z"
   },
   {
    "duration": 136,
    "start_time": "2023-02-20T17:52:47.527Z"
   },
   {
    "duration": 132,
    "start_time": "2023-02-20T17:52:58.482Z"
   },
   {
    "duration": 155,
    "start_time": "2023-02-20T17:53:11.765Z"
   },
   {
    "duration": 159,
    "start_time": "2023-02-20T17:53:24.313Z"
   },
   {
    "duration": 865,
    "start_time": "2023-02-21T05:40:55.822Z"
   },
   {
    "duration": 322,
    "start_time": "2023-02-21T05:40:56.689Z"
   },
   {
    "duration": 40,
    "start_time": "2023-02-21T05:40:57.013Z"
   },
   {
    "duration": 15,
    "start_time": "2023-02-21T05:40:57.055Z"
   },
   {
    "duration": 3690,
    "start_time": "2023-02-21T05:40:57.071Z"
   },
   {
    "duration": 13,
    "start_time": "2023-02-21T05:41:00.762Z"
   },
   {
    "duration": 25,
    "start_time": "2023-02-21T05:41:00.777Z"
   },
   {
    "duration": 37,
    "start_time": "2023-02-21T05:41:00.804Z"
   },
   {
    "duration": 34,
    "start_time": "2023-02-21T05:41:00.843Z"
   },
   {
    "duration": 9,
    "start_time": "2023-02-21T05:41:00.881Z"
   },
   {
    "duration": 8,
    "start_time": "2023-02-21T05:41:00.892Z"
   },
   {
    "duration": 27,
    "start_time": "2023-02-21T05:41:00.901Z"
   },
   {
    "duration": 51,
    "start_time": "2023-02-21T05:41:00.929Z"
   },
   {
    "duration": 27,
    "start_time": "2023-02-21T05:41:00.982Z"
   },
   {
    "duration": 51,
    "start_time": "2023-02-21T05:41:01.010Z"
   },
   {
    "duration": 96,
    "start_time": "2023-02-21T05:41:01.062Z"
   },
   {
    "duration": 128,
    "start_time": "2023-02-21T05:41:01.160Z"
   },
   {
    "duration": 13,
    "start_time": "2023-02-21T05:41:01.289Z"
   },
   {
    "duration": 27,
    "start_time": "2023-02-21T05:41:01.303Z"
   },
   {
    "duration": 30,
    "start_time": "2023-02-21T05:41:01.332Z"
   },
   {
    "duration": 231,
    "start_time": "2023-02-21T05:41:01.363Z"
   },
   {
    "duration": 7,
    "start_time": "2023-02-21T05:41:01.595Z"
   },
   {
    "duration": 124,
    "start_time": "2023-02-21T05:41:01.604Z"
   },
   {
    "duration": 18,
    "start_time": "2023-02-21T05:41:01.730Z"
   },
   {
    "duration": 134,
    "start_time": "2023-02-21T05:41:01.750Z"
   },
   {
    "duration": 6,
    "start_time": "2023-02-21T05:41:01.886Z"
   },
   {
    "duration": 5,
    "start_time": "2023-02-21T05:41:01.894Z"
   },
   {
    "duration": 24,
    "start_time": "2023-02-21T05:41:01.903Z"
   },
   {
    "duration": 24,
    "start_time": "2023-02-21T05:41:01.929Z"
   },
   {
    "duration": 12,
    "start_time": "2023-02-21T05:41:01.954Z"
   },
   {
    "duration": 11,
    "start_time": "2023-02-21T05:41:01.967Z"
   },
   {
    "duration": 320,
    "start_time": "2023-02-21T05:41:01.980Z"
   },
   {
    "duration": 5,
    "start_time": "2023-02-21T05:41:02.301Z"
   },
   {
    "duration": 285,
    "start_time": "2023-02-21T05:41:02.307Z"
   },
   {
    "duration": 279,
    "start_time": "2023-02-21T05:41:02.593Z"
   },
   {
    "duration": 151,
    "start_time": "2023-02-21T05:41:02.873Z"
   },
   {
    "duration": 277,
    "start_time": "2023-02-21T05:41:03.026Z"
   },
   {
    "duration": 203,
    "start_time": "2023-02-21T05:41:03.305Z"
   },
   {
    "duration": 299,
    "start_time": "2023-02-21T05:41:03.510Z"
   },
   {
    "duration": 154,
    "start_time": "2023-02-21T05:41:03.811Z"
   },
   {
    "duration": 129,
    "start_time": "2023-02-21T05:41:03.967Z"
   },
   {
    "duration": 178,
    "start_time": "2023-02-21T05:41:04.097Z"
   },
   {
    "duration": 156,
    "start_time": "2023-02-21T05:41:04.277Z"
   },
   {
    "duration": 152,
    "start_time": "2023-02-21T05:41:04.435Z"
   },
   {
    "duration": 154,
    "start_time": "2023-02-21T05:41:04.588Z"
   },
   {
    "duration": 138,
    "start_time": "2023-02-21T05:41:04.748Z"
   },
   {
    "duration": 160,
    "start_time": "2023-02-21T05:41:04.888Z"
   },
   {
    "duration": 281,
    "start_time": "2023-02-21T05:41:05.050Z"
   },
   {
    "duration": 160,
    "start_time": "2023-02-21T05:41:05.333Z"
   },
   {
    "duration": 156,
    "start_time": "2023-02-21T05:41:05.494Z"
   },
   {
    "duration": 159,
    "start_time": "2023-02-21T05:41:05.652Z"
   },
   {
    "duration": 154,
    "start_time": "2023-02-21T05:41:05.812Z"
   },
   {
    "duration": 141,
    "start_time": "2023-02-21T05:41:05.968Z"
   },
   {
    "duration": 177,
    "start_time": "2023-02-21T05:41:06.111Z"
   },
   {
    "duration": 209,
    "start_time": "2023-02-21T05:41:06.290Z"
   },
   {
    "duration": 152,
    "start_time": "2023-02-21T05:41:06.501Z"
   },
   {
    "duration": 26,
    "start_time": "2023-02-21T05:41:06.656Z"
   },
   {
    "duration": 6,
    "start_time": "2023-02-21T05:41:06.684Z"
   },
   {
    "duration": 8,
    "start_time": "2023-02-21T05:41:06.691Z"
   },
   {
    "duration": 93,
    "start_time": "2023-02-21T05:47:11.607Z"
   },
   {
    "duration": 658,
    "start_time": "2023-02-21T05:47:23.394Z"
   },
   {
    "duration": 99,
    "start_time": "2023-02-21T05:47:24.054Z"
   },
   {
    "duration": 42,
    "start_time": "2023-02-21T05:47:24.155Z"
   },
   {
    "duration": 17,
    "start_time": "2023-02-21T05:47:24.199Z"
   },
   {
    "duration": 4140,
    "start_time": "2023-02-21T05:47:24.217Z"
   },
   {
    "duration": 11,
    "start_time": "2023-02-21T05:47:28.358Z"
   },
   {
    "duration": 22,
    "start_time": "2023-02-21T05:47:28.370Z"
   },
   {
    "duration": 9,
    "start_time": "2023-02-21T05:47:28.394Z"
   },
   {
    "duration": 11,
    "start_time": "2023-02-21T05:47:28.404Z"
   },
   {
    "duration": 7,
    "start_time": "2023-02-21T05:47:28.418Z"
   },
   {
    "duration": 5,
    "start_time": "2023-02-21T05:47:28.426Z"
   },
   {
    "duration": 17,
    "start_time": "2023-02-21T05:47:28.432Z"
   },
   {
    "duration": 15,
    "start_time": "2023-02-21T05:47:28.451Z"
   },
   {
    "duration": 7,
    "start_time": "2023-02-21T05:47:28.467Z"
   },
   {
    "duration": 18,
    "start_time": "2023-02-21T05:47:28.475Z"
   },
   {
    "duration": 96,
    "start_time": "2023-02-21T05:47:28.495Z"
   },
   {
    "duration": 118,
    "start_time": "2023-02-21T05:47:28.593Z"
   },
   {
    "duration": 16,
    "start_time": "2023-02-21T05:47:28.713Z"
   },
   {
    "duration": 19,
    "start_time": "2023-02-21T05:47:28.732Z"
   },
   {
    "duration": 8,
    "start_time": "2023-02-21T05:47:28.752Z"
   },
   {
    "duration": 233,
    "start_time": "2023-02-21T05:47:28.761Z"
   },
   {
    "duration": 85,
    "start_time": "2023-02-21T05:47:28.995Z"
   },
   {
    "duration": 10,
    "start_time": "2023-02-21T05:47:29.081Z"
   },
   {
    "duration": 147,
    "start_time": "2023-02-21T05:47:29.093Z"
   },
   {
    "duration": 11,
    "start_time": "2023-02-21T05:47:29.242Z"
   },
   {
    "duration": 143,
    "start_time": "2023-02-21T05:47:29.254Z"
   },
   {
    "duration": 8,
    "start_time": "2023-02-21T05:47:29.399Z"
   },
   {
    "duration": 12,
    "start_time": "2023-02-21T05:47:29.412Z"
   },
   {
    "duration": 19,
    "start_time": "2023-02-21T05:47:29.426Z"
   },
   {
    "duration": 6,
    "start_time": "2023-02-21T05:47:29.448Z"
   },
   {
    "duration": 5,
    "start_time": "2023-02-21T05:47:29.456Z"
   },
   {
    "duration": 3,
    "start_time": "2023-02-21T05:47:29.463Z"
   },
   {
    "duration": 344,
    "start_time": "2023-02-21T05:47:29.468Z"
   },
   {
    "duration": 5,
    "start_time": "2023-02-21T05:47:29.814Z"
   },
   {
    "duration": 348,
    "start_time": "2023-02-21T05:47:29.821Z"
   },
   {
    "duration": 282,
    "start_time": "2023-02-21T05:47:30.171Z"
   },
   {
    "duration": 173,
    "start_time": "2023-02-21T05:47:30.455Z"
   },
   {
    "duration": 297,
    "start_time": "2023-02-21T05:47:30.630Z"
   },
   {
    "duration": 186,
    "start_time": "2023-02-21T05:47:30.928Z"
   },
   {
    "duration": 311,
    "start_time": "2023-02-21T05:47:31.116Z"
   },
   {
    "duration": 170,
    "start_time": "2023-02-21T05:47:31.429Z"
   },
   {
    "duration": 119,
    "start_time": "2023-02-21T05:47:31.602Z"
   },
   {
    "duration": 174,
    "start_time": "2023-02-21T05:47:31.723Z"
   },
   {
    "duration": 167,
    "start_time": "2023-02-21T05:47:31.899Z"
   },
   {
    "duration": 177,
    "start_time": "2023-02-21T05:47:32.068Z"
   },
   {
    "duration": 159,
    "start_time": "2023-02-21T05:47:32.247Z"
   },
   {
    "duration": 152,
    "start_time": "2023-02-21T05:47:32.407Z"
   },
   {
    "duration": 160,
    "start_time": "2023-02-21T05:47:32.560Z"
   },
   {
    "duration": 286,
    "start_time": "2023-02-21T05:47:32.721Z"
   },
   {
    "duration": 165,
    "start_time": "2023-02-21T05:47:33.009Z"
   },
   {
    "duration": 177,
    "start_time": "2023-02-21T05:47:33.176Z"
   },
   {
    "duration": 176,
    "start_time": "2023-02-21T05:47:33.355Z"
   },
   {
    "duration": 176,
    "start_time": "2023-02-21T05:47:33.533Z"
   },
   {
    "duration": 165,
    "start_time": "2023-02-21T05:47:33.711Z"
   },
   {
    "duration": 191,
    "start_time": "2023-02-21T05:47:33.878Z"
   },
   {
    "duration": 159,
    "start_time": "2023-02-21T05:47:34.071Z"
   },
   {
    "duration": 163,
    "start_time": "2023-02-21T05:47:34.232Z"
   },
   {
    "duration": 26,
    "start_time": "2023-02-21T05:47:34.397Z"
   },
   {
    "duration": 25,
    "start_time": "2023-02-21T05:47:34.425Z"
   },
   {
    "duration": 27,
    "start_time": "2023-02-21T05:47:34.452Z"
   },
   {
    "duration": 659,
    "start_time": "2023-02-21T05:48:31.447Z"
   },
   {
    "duration": 98,
    "start_time": "2023-02-21T05:48:32.108Z"
   },
   {
    "duration": 46,
    "start_time": "2023-02-21T05:48:32.208Z"
   },
   {
    "duration": 17,
    "start_time": "2023-02-21T05:48:32.257Z"
   },
   {
    "duration": 4233,
    "start_time": "2023-02-21T05:48:32.276Z"
   },
   {
    "duration": 18,
    "start_time": "2023-02-21T05:48:36.510Z"
   },
   {
    "duration": 23,
    "start_time": "2023-02-21T05:48:36.530Z"
   },
   {
    "duration": 37,
    "start_time": "2023-02-21T05:48:36.556Z"
   },
   {
    "duration": 12,
    "start_time": "2023-02-21T05:48:36.595Z"
   },
   {
    "duration": 15,
    "start_time": "2023-02-21T05:48:36.611Z"
   },
   {
    "duration": 5,
    "start_time": "2023-02-21T05:48:36.628Z"
   },
   {
    "duration": 13,
    "start_time": "2023-02-21T05:48:36.635Z"
   },
   {
    "duration": 30,
    "start_time": "2023-02-21T05:48:36.650Z"
   },
   {
    "duration": 7,
    "start_time": "2023-02-21T05:48:36.682Z"
   },
   {
    "duration": 24,
    "start_time": "2023-02-21T05:48:36.691Z"
   },
   {
    "duration": 97,
    "start_time": "2023-02-21T05:48:36.717Z"
   },
   {
    "duration": 137,
    "start_time": "2023-02-21T05:48:36.817Z"
   },
   {
    "duration": 21,
    "start_time": "2023-02-21T05:48:36.956Z"
   },
   {
    "duration": 7,
    "start_time": "2023-02-21T05:48:36.979Z"
   },
   {
    "duration": 11,
    "start_time": "2023-02-21T05:48:36.988Z"
   },
   {
    "duration": 276,
    "start_time": "2023-02-21T05:48:37.001Z"
   },
   {
    "duration": 85,
    "start_time": "2023-02-21T05:48:37.279Z"
   },
   {
    "duration": 133,
    "start_time": "2023-02-21T05:48:37.366Z"
   },
   {
    "duration": 7,
    "start_time": "2023-02-21T05:48:37.500Z"
   },
   {
    "duration": 141,
    "start_time": "2023-02-21T05:48:37.509Z"
   },
   {
    "duration": 6,
    "start_time": "2023-02-21T05:48:37.652Z"
   },
   {
    "duration": 8,
    "start_time": "2023-02-21T05:48:37.659Z"
   },
   {
    "duration": 7,
    "start_time": "2023-02-21T05:48:37.671Z"
   },
   {
    "duration": 7,
    "start_time": "2023-02-21T05:48:37.680Z"
   },
   {
    "duration": 8,
    "start_time": "2023-02-21T05:48:37.690Z"
   },
   {
    "duration": 4,
    "start_time": "2023-02-21T05:48:37.700Z"
   },
   {
    "duration": 394,
    "start_time": "2023-02-21T05:48:37.705Z"
   },
   {
    "duration": 5,
    "start_time": "2023-02-21T05:48:38.100Z"
   },
   {
    "duration": 306,
    "start_time": "2023-02-21T05:48:38.107Z"
   },
   {
    "duration": 297,
    "start_time": "2023-02-21T05:48:38.415Z"
   },
   {
    "duration": 167,
    "start_time": "2023-02-21T05:48:38.714Z"
   },
   {
    "duration": 299,
    "start_time": "2023-02-21T05:48:38.882Z"
   },
   {
    "duration": 192,
    "start_time": "2023-02-21T05:48:39.183Z"
   },
   {
    "duration": 313,
    "start_time": "2023-02-21T05:48:39.377Z"
   },
   {
    "duration": 174,
    "start_time": "2023-02-21T05:48:39.692Z"
   },
   {
    "duration": 128,
    "start_time": "2023-02-21T05:48:39.867Z"
   },
   {
    "duration": 180,
    "start_time": "2023-02-21T05:48:39.997Z"
   },
   {
    "duration": 167,
    "start_time": "2023-02-21T05:48:40.178Z"
   },
   {
    "duration": 169,
    "start_time": "2023-02-21T05:48:40.349Z"
   },
   {
    "duration": 164,
    "start_time": "2023-02-21T05:48:40.520Z"
   },
   {
    "duration": 146,
    "start_time": "2023-02-21T05:48:40.686Z"
   },
   {
    "duration": 156,
    "start_time": "2023-02-21T05:48:40.833Z"
   },
   {
    "duration": 304,
    "start_time": "2023-02-21T05:48:40.991Z"
   },
   {
    "duration": 179,
    "start_time": "2023-02-21T05:48:41.297Z"
   },
   {
    "duration": 179,
    "start_time": "2023-02-21T05:48:41.478Z"
   },
   {
    "duration": 178,
    "start_time": "2023-02-21T05:48:41.659Z"
   },
   {
    "duration": 159,
    "start_time": "2023-02-21T05:48:41.839Z"
   },
   {
    "duration": 166,
    "start_time": "2023-02-21T05:48:42.001Z"
   },
   {
    "duration": 143,
    "start_time": "2023-02-21T05:48:42.169Z"
   },
   {
    "duration": 155,
    "start_time": "2023-02-21T05:48:42.313Z"
   },
   {
    "duration": 170,
    "start_time": "2023-02-21T05:48:42.470Z"
   },
   {
    "duration": 28,
    "start_time": "2023-02-21T05:48:42.642Z"
   },
   {
    "duration": 7,
    "start_time": "2023-02-21T05:48:42.672Z"
   },
   {
    "duration": 11,
    "start_time": "2023-02-21T05:48:42.680Z"
   },
   {
    "duration": 13,
    "start_time": "2023-02-21T05:49:26.220Z"
   },
   {
    "duration": 154,
    "start_time": "2023-02-21T05:50:01.399Z"
   },
   {
    "duration": 137,
    "start_time": "2023-02-21T05:50:09.392Z"
   },
   {
    "duration": 168,
    "start_time": "2023-02-21T05:50:15.849Z"
   },
   {
    "duration": 6,
    "start_time": "2023-02-21T05:51:35.147Z"
   },
   {
    "duration": 109,
    "start_time": "2023-02-21T05:51:37.724Z"
   },
   {
    "duration": 9,
    "start_time": "2023-02-21T05:51:54.938Z"
   },
   {
    "duration": 10,
    "start_time": "2023-02-21T05:52:22.427Z"
   },
   {
    "duration": 9,
    "start_time": "2023-02-21T05:52:24.106Z"
   },
   {
    "duration": 16,
    "start_time": "2023-02-21T05:57:00.884Z"
   },
   {
    "duration": 11,
    "start_time": "2023-02-21T05:57:26.353Z"
   },
   {
    "duration": 270,
    "start_time": "2023-02-21T05:59:03.806Z"
   },
   {
    "duration": 108,
    "start_time": "2023-02-21T05:59:10.289Z"
   },
   {
    "duration": 111,
    "start_time": "2023-02-21T05:59:13.712Z"
   },
   {
    "duration": 113,
    "start_time": "2023-02-21T05:59:19.709Z"
   },
   {
    "duration": 108,
    "start_time": "2023-02-21T05:59:23.141Z"
   },
   {
    "duration": 8,
    "start_time": "2023-02-21T06:00:21.807Z"
   },
   {
    "duration": 10,
    "start_time": "2023-02-21T06:00:38.884Z"
   },
   {
    "duration": 7,
    "start_time": "2023-02-21T06:01:33.257Z"
   },
   {
    "duration": 582,
    "start_time": "2023-02-21T06:01:56.996Z"
   },
   {
    "duration": 97,
    "start_time": "2023-02-21T06:01:57.580Z"
   },
   {
    "duration": 42,
    "start_time": "2023-02-21T06:01:57.679Z"
   },
   {
    "duration": 15,
    "start_time": "2023-02-21T06:01:57.723Z"
   },
   {
    "duration": 4015,
    "start_time": "2023-02-21T06:01:57.750Z"
   },
   {
    "duration": 12,
    "start_time": "2023-02-21T06:02:01.766Z"
   },
   {
    "duration": 24,
    "start_time": "2023-02-21T06:02:01.779Z"
   },
   {
    "duration": 36,
    "start_time": "2023-02-21T06:02:01.804Z"
   },
   {
    "duration": 22,
    "start_time": "2023-02-21T06:02:01.842Z"
   },
   {
    "duration": 20,
    "start_time": "2023-02-21T06:02:01.867Z"
   },
   {
    "duration": 30,
    "start_time": "2023-02-21T06:02:01.889Z"
   },
   {
    "duration": 25,
    "start_time": "2023-02-21T06:02:01.921Z"
   },
   {
    "duration": 6,
    "start_time": "2023-02-21T06:02:01.948Z"
   },
   {
    "duration": 22,
    "start_time": "2023-02-21T06:02:01.957Z"
   },
   {
    "duration": 93,
    "start_time": "2023-02-21T06:02:01.981Z"
   },
   {
    "duration": 129,
    "start_time": "2023-02-21T06:02:02.076Z"
   },
   {
    "duration": 13,
    "start_time": "2023-02-21T06:02:02.207Z"
   },
   {
    "duration": 5,
    "start_time": "2023-02-21T06:02:02.222Z"
   },
   {
    "duration": 24,
    "start_time": "2023-02-21T06:02:02.229Z"
   },
   {
    "duration": 226,
    "start_time": "2023-02-21T06:02:02.255Z"
   },
   {
    "duration": 83,
    "start_time": "2023-02-21T06:02:02.483Z"
   },
   {
    "duration": 128,
    "start_time": "2023-02-21T06:02:02.567Z"
   },
   {
    "duration": 18,
    "start_time": "2023-02-21T06:02:02.697Z"
   },
   {
    "duration": 9,
    "start_time": "2023-02-21T06:02:02.717Z"
   },
   {
    "duration": 134,
    "start_time": "2023-02-21T06:02:02.727Z"
   },
   {
    "duration": 6,
    "start_time": "2023-02-21T06:02:02.863Z"
   },
   {
    "duration": 10,
    "start_time": "2023-02-21T06:02:02.870Z"
   },
   {
    "duration": 128,
    "start_time": "2023-02-21T06:02:02.881Z"
   },
   {
    "duration": 6,
    "start_time": "2023-02-21T06:02:03.011Z"
   },
   {
    "duration": 5,
    "start_time": "2023-02-21T06:02:03.018Z"
   },
   {
    "duration": 24,
    "start_time": "2023-02-21T06:02:03.024Z"
   },
   {
    "duration": 5,
    "start_time": "2023-02-21T06:02:03.050Z"
   },
   {
    "duration": 5,
    "start_time": "2023-02-21T06:02:03.057Z"
   },
   {
    "duration": 3,
    "start_time": "2023-02-21T06:02:03.064Z"
   },
   {
    "duration": 357,
    "start_time": "2023-02-21T06:02:03.068Z"
   },
   {
    "duration": 6,
    "start_time": "2023-02-21T06:02:03.427Z"
   },
   {
    "duration": 332,
    "start_time": "2023-02-21T06:02:03.435Z"
   },
   {
    "duration": 299,
    "start_time": "2023-02-21T06:02:03.769Z"
   },
   {
    "duration": 166,
    "start_time": "2023-02-21T06:02:04.069Z"
   },
   {
    "duration": 298,
    "start_time": "2023-02-21T06:02:04.237Z"
   },
   {
    "duration": 319,
    "start_time": "2023-02-21T06:02:04.539Z"
   },
   {
    "duration": 193,
    "start_time": "2023-02-21T06:02:04.860Z"
   },
   {
    "duration": 169,
    "start_time": "2023-02-21T06:02:05.054Z"
   },
   {
    "duration": 132,
    "start_time": "2023-02-21T06:02:05.225Z"
   },
   {
    "duration": 198,
    "start_time": "2023-02-21T06:02:05.359Z"
   },
   {
    "duration": 165,
    "start_time": "2023-02-21T06:02:05.559Z"
   },
   {
    "duration": 172,
    "start_time": "2023-02-21T06:02:05.726Z"
   },
   {
    "duration": 176,
    "start_time": "2023-02-21T06:02:05.899Z"
   },
   {
    "duration": 186,
    "start_time": "2023-02-21T06:02:06.077Z"
   },
   {
    "duration": 212,
    "start_time": "2023-02-21T06:02:06.265Z"
   },
   {
    "duration": 313,
    "start_time": "2023-02-21T06:02:06.478Z"
   },
   {
    "duration": 159,
    "start_time": "2023-02-21T06:02:06.793Z"
   },
   {
    "duration": 178,
    "start_time": "2023-02-21T06:02:06.953Z"
   },
   {
    "duration": 149,
    "start_time": "2023-02-21T06:02:07.133Z"
   },
   {
    "duration": 139,
    "start_time": "2023-02-21T06:02:07.284Z"
   },
   {
    "duration": 140,
    "start_time": "2023-02-21T06:02:07.425Z"
   },
   {
    "duration": 168,
    "start_time": "2023-02-21T06:02:07.567Z"
   },
   {
    "duration": 154,
    "start_time": "2023-02-21T06:02:07.737Z"
   },
   {
    "duration": 158,
    "start_time": "2023-02-21T06:02:07.893Z"
   },
   {
    "duration": 24,
    "start_time": "2023-02-21T06:02:08.053Z"
   },
   {
    "duration": 6,
    "start_time": "2023-02-21T06:02:08.079Z"
   },
   {
    "duration": 11,
    "start_time": "2023-02-21T06:02:08.086Z"
   },
   {
    "duration": 15,
    "start_time": "2023-02-21T06:02:32.677Z"
   },
   {
    "duration": 158,
    "start_time": "2023-02-21T07:16:37.819Z"
   },
   {
    "duration": 29,
    "start_time": "2023-02-21T07:36:53.128Z"
   },
   {
    "duration": 26,
    "start_time": "2023-02-21T07:37:25.337Z"
   },
   {
    "duration": 29,
    "start_time": "2023-02-21T07:38:05.886Z"
   },
   {
    "duration": 214,
    "start_time": "2023-02-21T07:39:59.969Z"
   },
   {
    "duration": 2363,
    "start_time": "2023-02-21T07:42:01.742Z"
   },
   {
    "duration": 688,
    "start_time": "2023-02-21T07:42:20.261Z"
   },
   {
    "duration": 118,
    "start_time": "2023-02-21T07:42:20.952Z"
   },
   {
    "duration": 66,
    "start_time": "2023-02-21T07:42:21.074Z"
   },
   {
    "duration": 25,
    "start_time": "2023-02-21T07:42:21.143Z"
   },
   {
    "duration": 4297,
    "start_time": "2023-02-21T07:42:21.170Z"
   },
   {
    "duration": 11,
    "start_time": "2023-02-21T07:42:25.469Z"
   },
   {
    "duration": 10,
    "start_time": "2023-02-21T07:42:25.482Z"
   },
   {
    "duration": 10,
    "start_time": "2023-02-21T07:42:25.494Z"
   },
   {
    "duration": 9,
    "start_time": "2023-02-21T07:42:25.506Z"
   },
   {
    "duration": 5,
    "start_time": "2023-02-21T07:42:25.519Z"
   },
   {
    "duration": 35,
    "start_time": "2023-02-21T07:42:25.526Z"
   },
   {
    "duration": 30,
    "start_time": "2023-02-21T07:42:25.565Z"
   },
   {
    "duration": 8,
    "start_time": "2023-02-21T07:42:25.597Z"
   },
   {
    "duration": 17,
    "start_time": "2023-02-21T07:42:25.607Z"
   },
   {
    "duration": 85,
    "start_time": "2023-02-21T07:42:25.626Z"
   },
   {
    "duration": 150,
    "start_time": "2023-02-21T07:42:25.713Z"
   },
   {
    "duration": 15,
    "start_time": "2023-02-21T07:42:25.864Z"
   },
   {
    "duration": 5,
    "start_time": "2023-02-21T07:42:25.881Z"
   },
   {
    "duration": 9,
    "start_time": "2023-02-21T07:42:25.887Z"
   },
   {
    "duration": 271,
    "start_time": "2023-02-21T07:42:25.897Z"
   },
   {
    "duration": 91,
    "start_time": "2023-02-21T07:42:26.170Z"
   },
   {
    "duration": 179,
    "start_time": "2023-02-21T07:42:26.265Z"
   },
   {
    "duration": 34,
    "start_time": "2023-02-21T07:42:26.448Z"
   },
   {
    "duration": 153,
    "start_time": "2023-02-21T07:42:26.484Z"
   },
   {
    "duration": 17,
    "start_time": "2023-02-21T07:42:26.640Z"
   },
   {
    "duration": 23,
    "start_time": "2023-02-21T07:42:26.663Z"
   },
   {
    "duration": 181,
    "start_time": "2023-02-21T07:42:26.688Z"
   },
   {
    "duration": 8,
    "start_time": "2023-02-21T07:42:26.874Z"
   },
   {
    "duration": 18,
    "start_time": "2023-02-21T07:42:26.884Z"
   },
   {
    "duration": 27,
    "start_time": "2023-02-21T07:42:26.905Z"
   },
   {
    "duration": 42,
    "start_time": "2023-02-21T07:42:26.934Z"
   },
   {
    "duration": 15,
    "start_time": "2023-02-21T07:42:26.978Z"
   },
   {
    "duration": 16,
    "start_time": "2023-02-21T07:42:26.995Z"
   },
   {
    "duration": 365,
    "start_time": "2023-02-21T07:42:27.013Z"
   },
   {
    "duration": 16,
    "start_time": "2023-02-21T07:42:27.379Z"
   },
   {
    "duration": 339,
    "start_time": "2023-02-21T07:42:27.398Z"
   },
   {
    "duration": 334,
    "start_time": "2023-02-21T07:42:27.739Z"
   },
   {
    "duration": 164,
    "start_time": "2023-02-21T07:42:28.075Z"
   },
   {
    "duration": 326,
    "start_time": "2023-02-21T07:42:28.241Z"
   },
   {
    "duration": 368,
    "start_time": "2023-02-21T07:42:28.570Z"
   },
   {
    "duration": 206,
    "start_time": "2023-02-21T07:42:28.940Z"
   },
   {
    "duration": 186,
    "start_time": "2023-02-21T07:42:29.149Z"
   },
   {
    "duration": 142,
    "start_time": "2023-02-21T07:42:29.336Z"
   },
   {
    "duration": 193,
    "start_time": "2023-02-21T07:42:29.480Z"
   },
   {
    "duration": 197,
    "start_time": "2023-02-21T07:42:29.675Z"
   },
   {
    "duration": 158,
    "start_time": "2023-02-21T07:42:29.874Z"
   },
   {
    "duration": 186,
    "start_time": "2023-02-21T07:42:30.035Z"
   },
   {
    "duration": 220,
    "start_time": "2023-02-21T07:42:30.224Z"
   },
   {
    "duration": 173,
    "start_time": "2023-02-21T07:42:30.446Z"
   },
   {
    "duration": 374,
    "start_time": "2023-02-21T07:42:30.622Z"
   },
   {
    "duration": 206,
    "start_time": "2023-02-21T07:42:30.998Z"
   },
   {
    "duration": 183,
    "start_time": "2023-02-21T07:42:31.207Z"
   },
   {
    "duration": 170,
    "start_time": "2023-02-21T07:42:31.394Z"
   },
   {
    "duration": 144,
    "start_time": "2023-02-21T07:42:31.569Z"
   },
   {
    "duration": 164,
    "start_time": "2023-02-21T07:42:31.716Z"
   },
   {
    "duration": 192,
    "start_time": "2023-02-21T07:42:31.882Z"
   },
   {
    "duration": 182,
    "start_time": "2023-02-21T07:42:32.076Z"
   },
   {
    "duration": 203,
    "start_time": "2023-02-21T07:42:32.261Z"
   },
   {
    "duration": 26,
    "start_time": "2023-02-21T07:42:32.468Z"
   },
   {
    "duration": 7,
    "start_time": "2023-02-21T07:42:32.496Z"
   },
   {
    "duration": 9,
    "start_time": "2023-02-21T07:42:32.505Z"
   },
   {
    "duration": 1661,
    "start_time": "2023-02-21T07:42:32.515Z"
   },
   {
    "duration": 30,
    "start_time": "2023-02-21T07:43:07.276Z"
   },
   {
    "duration": 16,
    "start_time": "2023-02-21T07:58:42.558Z"
   },
   {
    "duration": 7,
    "start_time": "2023-02-21T08:03:50.491Z"
   },
   {
    "duration": 4,
    "start_time": "2023-02-21T08:04:22.388Z"
   },
   {
    "duration": 675,
    "start_time": "2023-02-21T08:04:29.701Z"
   },
   {
    "duration": 103,
    "start_time": "2023-02-21T08:04:30.378Z"
   },
   {
    "duration": 45,
    "start_time": "2023-02-21T08:04:30.483Z"
   },
   {
    "duration": 33,
    "start_time": "2023-02-21T08:04:30.530Z"
   },
   {
    "duration": 4321,
    "start_time": "2023-02-21T08:04:30.569Z"
   },
   {
    "duration": 13,
    "start_time": "2023-02-21T08:04:34.917Z"
   },
   {
    "duration": 8,
    "start_time": "2023-02-21T08:04:34.932Z"
   },
   {
    "duration": 18,
    "start_time": "2023-02-21T08:04:34.942Z"
   },
   {
    "duration": 16,
    "start_time": "2023-02-21T08:04:34.962Z"
   },
   {
    "duration": 8,
    "start_time": "2023-02-21T08:04:34.980Z"
   },
   {
    "duration": 18,
    "start_time": "2023-02-21T08:04:34.990Z"
   },
   {
    "duration": 9,
    "start_time": "2023-02-21T08:04:35.010Z"
   },
   {
    "duration": 5,
    "start_time": "2023-02-21T08:04:35.023Z"
   },
   {
    "duration": 22,
    "start_time": "2023-02-21T08:04:35.032Z"
   },
   {
    "duration": 11,
    "start_time": "2023-02-21T08:04:35.056Z"
   },
   {
    "duration": 30,
    "start_time": "2023-02-21T08:04:35.069Z"
   },
   {
    "duration": 93,
    "start_time": "2023-02-21T08:04:35.102Z"
   },
   {
    "duration": 144,
    "start_time": "2023-02-21T08:04:35.197Z"
   },
   {
    "duration": 27,
    "start_time": "2023-02-21T08:04:35.343Z"
   },
   {
    "duration": 29,
    "start_time": "2023-02-21T08:04:35.373Z"
   },
   {
    "duration": 57,
    "start_time": "2023-02-21T08:04:35.404Z"
   },
   {
    "duration": 273,
    "start_time": "2023-02-21T08:04:35.465Z"
   },
   {
    "duration": 112,
    "start_time": "2023-02-21T08:04:35.740Z"
   },
   {
    "duration": 126,
    "start_time": "2023-02-21T08:04:35.862Z"
   },
   {
    "duration": 21,
    "start_time": "2023-02-21T08:04:35.990Z"
   },
   {
    "duration": 157,
    "start_time": "2023-02-21T08:04:36.013Z"
   },
   {
    "duration": 7,
    "start_time": "2023-02-21T08:04:36.172Z"
   },
   {
    "duration": 6,
    "start_time": "2023-02-21T08:04:36.181Z"
   },
   {
    "duration": 145,
    "start_time": "2023-02-21T08:04:36.188Z"
   },
   {
    "duration": 19,
    "start_time": "2023-02-21T08:04:36.335Z"
   },
   {
    "duration": 11,
    "start_time": "2023-02-21T08:04:36.356Z"
   },
   {
    "duration": 16,
    "start_time": "2023-02-21T08:04:36.368Z"
   },
   {
    "duration": 9,
    "start_time": "2023-02-21T08:04:36.385Z"
   },
   {
    "duration": 12,
    "start_time": "2023-02-21T08:04:36.396Z"
   },
   {
    "duration": 4,
    "start_time": "2023-02-21T08:04:36.412Z"
   },
   {
    "duration": 421,
    "start_time": "2023-02-21T08:04:36.418Z"
   },
   {
    "duration": 16,
    "start_time": "2023-02-21T08:04:36.841Z"
   },
   {
    "duration": 356,
    "start_time": "2023-02-21T08:04:36.858Z"
   },
   {
    "duration": 465,
    "start_time": "2023-02-21T08:04:37.216Z"
   },
   {
    "duration": 205,
    "start_time": "2023-02-21T08:04:37.683Z"
   },
   {
    "duration": 343,
    "start_time": "2023-02-21T08:04:37.895Z"
   },
   {
    "duration": 343,
    "start_time": "2023-02-21T08:04:38.240Z"
   },
   {
    "duration": 245,
    "start_time": "2023-02-21T08:04:38.585Z"
   },
   {
    "duration": 185,
    "start_time": "2023-02-21T08:04:38.832Z"
   },
   {
    "duration": 149,
    "start_time": "2023-02-21T08:04:39.019Z"
   },
   {
    "duration": 191,
    "start_time": "2023-02-21T08:04:39.169Z"
   },
   {
    "duration": 208,
    "start_time": "2023-02-21T08:04:39.362Z"
   },
   {
    "duration": 196,
    "start_time": "2023-02-21T08:04:39.572Z"
   },
   {
    "duration": 238,
    "start_time": "2023-02-21T08:04:39.770Z"
   },
   {
    "duration": 189,
    "start_time": "2023-02-21T08:04:40.011Z"
   },
   {
    "duration": 220,
    "start_time": "2023-02-21T08:04:40.202Z"
   },
   {
    "duration": 351,
    "start_time": "2023-02-21T08:04:40.425Z"
   },
   {
    "duration": 173,
    "start_time": "2023-02-21T08:04:40.778Z"
   },
   {
    "duration": 170,
    "start_time": "2023-02-21T08:04:40.952Z"
   },
   {
    "duration": 191,
    "start_time": "2023-02-21T08:04:41.125Z"
   },
   {
    "duration": 164,
    "start_time": "2023-02-21T08:04:41.318Z"
   },
   {
    "duration": 154,
    "start_time": "2023-02-21T08:04:41.484Z"
   },
   {
    "duration": 185,
    "start_time": "2023-02-21T08:04:41.639Z"
   },
   {
    "duration": 178,
    "start_time": "2023-02-21T08:04:41.827Z"
   },
   {
    "duration": 163,
    "start_time": "2023-02-21T08:04:42.007Z"
   },
   {
    "duration": 25,
    "start_time": "2023-02-21T08:04:42.172Z"
   },
   {
    "duration": 7,
    "start_time": "2023-02-21T08:04:42.199Z"
   },
   {
    "duration": 9,
    "start_time": "2023-02-21T08:04:42.208Z"
   },
   {
    "duration": 19,
    "start_time": "2023-02-21T08:05:21.670Z"
   },
   {
    "duration": 19,
    "start_time": "2023-02-21T08:07:26.447Z"
   },
   {
    "duration": 8,
    "start_time": "2023-02-21T08:09:43.391Z"
   },
   {
    "duration": 5,
    "start_time": "2023-02-21T08:10:39.304Z"
   },
   {
    "duration": 727,
    "start_time": "2023-02-21T08:10:54.565Z"
   },
   {
    "duration": 127,
    "start_time": "2023-02-21T08:10:55.294Z"
   },
   {
    "duration": 59,
    "start_time": "2023-02-21T08:10:55.423Z"
   },
   {
    "duration": 26,
    "start_time": "2023-02-21T08:10:55.485Z"
   },
   {
    "duration": 4420,
    "start_time": "2023-02-21T08:10:55.513Z"
   },
   {
    "duration": 13,
    "start_time": "2023-02-21T08:10:59.935Z"
   },
   {
    "duration": 24,
    "start_time": "2023-02-21T08:10:59.949Z"
   },
   {
    "duration": 14,
    "start_time": "2023-02-21T08:10:59.974Z"
   },
   {
    "duration": 7,
    "start_time": "2023-02-21T08:10:59.989Z"
   },
   {
    "duration": 13,
    "start_time": "2023-02-21T08:10:59.999Z"
   },
   {
    "duration": 25,
    "start_time": "2023-02-21T08:11:00.014Z"
   },
   {
    "duration": 32,
    "start_time": "2023-02-21T08:11:00.041Z"
   },
   {
    "duration": 22,
    "start_time": "2023-02-21T08:11:00.075Z"
   },
   {
    "duration": 7,
    "start_time": "2023-02-21T08:11:00.099Z"
   },
   {
    "duration": 33,
    "start_time": "2023-02-21T08:11:00.107Z"
   },
   {
    "duration": 77,
    "start_time": "2023-02-21T08:11:00.142Z"
   },
   {
    "duration": 167,
    "start_time": "2023-02-21T08:11:00.221Z"
   },
   {
    "duration": 13,
    "start_time": "2023-02-21T08:11:00.390Z"
   },
   {
    "duration": 19,
    "start_time": "2023-02-21T08:11:00.405Z"
   },
   {
    "duration": 64,
    "start_time": "2023-02-21T08:11:00.425Z"
   },
   {
    "duration": 299,
    "start_time": "2023-02-21T08:11:00.491Z"
   },
   {
    "duration": 92,
    "start_time": "2023-02-21T08:11:00.792Z"
   },
   {
    "duration": 5,
    "start_time": "2023-02-21T08:11:00.886Z"
   },
   {
    "duration": 174,
    "start_time": "2023-02-21T08:11:00.893Z"
   },
   {
    "duration": 28,
    "start_time": "2023-02-21T08:11:01.068Z"
   },
   {
    "duration": 105,
    "start_time": "2023-02-21T08:11:01.098Z"
   },
   {
    "duration": 0,
    "start_time": "2023-02-21T08:11:01.206Z"
   },
   {
    "duration": 0,
    "start_time": "2023-02-21T08:11:01.207Z"
   },
   {
    "duration": 0,
    "start_time": "2023-02-21T08:11:01.208Z"
   },
   {
    "duration": 0,
    "start_time": "2023-02-21T08:11:01.209Z"
   },
   {
    "duration": 0,
    "start_time": "2023-02-21T08:11:01.210Z"
   },
   {
    "duration": 0,
    "start_time": "2023-02-21T08:11:01.211Z"
   },
   {
    "duration": 0,
    "start_time": "2023-02-21T08:11:01.212Z"
   },
   {
    "duration": 0,
    "start_time": "2023-02-21T08:11:01.213Z"
   },
   {
    "duration": 0,
    "start_time": "2023-02-21T08:11:01.214Z"
   },
   {
    "duration": 0,
    "start_time": "2023-02-21T08:11:01.215Z"
   },
   {
    "duration": 0,
    "start_time": "2023-02-21T08:11:01.216Z"
   },
   {
    "duration": 0,
    "start_time": "2023-02-21T08:11:01.218Z"
   },
   {
    "duration": 0,
    "start_time": "2023-02-21T08:11:01.219Z"
   },
   {
    "duration": 0,
    "start_time": "2023-02-21T08:11:01.221Z"
   },
   {
    "duration": 0,
    "start_time": "2023-02-21T08:11:01.222Z"
   },
   {
    "duration": 0,
    "start_time": "2023-02-21T08:11:01.223Z"
   },
   {
    "duration": 0,
    "start_time": "2023-02-21T08:11:01.249Z"
   },
   {
    "duration": 0,
    "start_time": "2023-02-21T08:11:01.249Z"
   },
   {
    "duration": 0,
    "start_time": "2023-02-21T08:11:01.250Z"
   },
   {
    "duration": 0,
    "start_time": "2023-02-21T08:11:01.251Z"
   },
   {
    "duration": 0,
    "start_time": "2023-02-21T08:11:01.252Z"
   },
   {
    "duration": 0,
    "start_time": "2023-02-21T08:11:01.253Z"
   },
   {
    "duration": 0,
    "start_time": "2023-02-21T08:11:01.253Z"
   },
   {
    "duration": 0,
    "start_time": "2023-02-21T08:11:01.254Z"
   },
   {
    "duration": 0,
    "start_time": "2023-02-21T08:11:01.255Z"
   },
   {
    "duration": 0,
    "start_time": "2023-02-21T08:11:01.256Z"
   },
   {
    "duration": 0,
    "start_time": "2023-02-21T08:11:01.257Z"
   },
   {
    "duration": 0,
    "start_time": "2023-02-21T08:11:01.257Z"
   },
   {
    "duration": 0,
    "start_time": "2023-02-21T08:11:01.258Z"
   },
   {
    "duration": 0,
    "start_time": "2023-02-21T08:11:01.259Z"
   },
   {
    "duration": 0,
    "start_time": "2023-02-21T08:11:01.260Z"
   },
   {
    "duration": 0,
    "start_time": "2023-02-21T08:11:01.260Z"
   },
   {
    "duration": 0,
    "start_time": "2023-02-21T08:11:01.261Z"
   },
   {
    "duration": 0,
    "start_time": "2023-02-21T08:11:01.262Z"
   },
   {
    "duration": 0,
    "start_time": "2023-02-21T08:11:01.263Z"
   },
   {
    "duration": 0,
    "start_time": "2023-02-21T08:11:01.263Z"
   },
   {
    "duration": 0,
    "start_time": "2023-02-21T08:11:01.264Z"
   },
   {
    "duration": 0,
    "start_time": "2023-02-21T08:11:01.265Z"
   },
   {
    "duration": 0,
    "start_time": "2023-02-21T08:11:01.266Z"
   },
   {
    "duration": 7,
    "start_time": "2023-02-21T08:12:38.823Z"
   },
   {
    "duration": 716,
    "start_time": "2023-02-21T08:12:48.451Z"
   },
   {
    "duration": 106,
    "start_time": "2023-02-21T08:12:49.169Z"
   },
   {
    "duration": 51,
    "start_time": "2023-02-21T08:12:49.278Z"
   },
   {
    "duration": 43,
    "start_time": "2023-02-21T08:12:49.332Z"
   },
   {
    "duration": 4466,
    "start_time": "2023-02-21T08:12:49.378Z"
   },
   {
    "duration": 16,
    "start_time": "2023-02-21T08:12:53.866Z"
   },
   {
    "duration": 12,
    "start_time": "2023-02-21T08:12:53.884Z"
   },
   {
    "duration": 12,
    "start_time": "2023-02-21T08:12:53.898Z"
   },
   {
    "duration": 7,
    "start_time": "2023-02-21T08:12:53.912Z"
   },
   {
    "duration": 5,
    "start_time": "2023-02-21T08:12:53.922Z"
   },
   {
    "duration": 29,
    "start_time": "2023-02-21T08:12:53.929Z"
   },
   {
    "duration": 11,
    "start_time": "2023-02-21T08:12:53.967Z"
   },
   {
    "duration": 28,
    "start_time": "2023-02-21T08:12:53.980Z"
   },
   {
    "duration": 9,
    "start_time": "2023-02-21T08:12:54.010Z"
   },
   {
    "duration": 44,
    "start_time": "2023-02-21T08:12:54.022Z"
   },
   {
    "duration": 78,
    "start_time": "2023-02-21T08:12:54.068Z"
   },
   {
    "duration": 141,
    "start_time": "2023-02-21T08:12:54.150Z"
   },
   {
    "duration": 14,
    "start_time": "2023-02-21T08:12:54.293Z"
   },
   {
    "duration": 5,
    "start_time": "2023-02-21T08:12:54.309Z"
   },
   {
    "duration": 17,
    "start_time": "2023-02-21T08:12:54.316Z"
   },
   {
    "duration": 273,
    "start_time": "2023-02-21T08:12:54.335Z"
   },
   {
    "duration": 90,
    "start_time": "2023-02-21T08:12:54.610Z"
   },
   {
    "duration": 4,
    "start_time": "2023-02-21T08:12:54.702Z"
   },
   {
    "duration": 151,
    "start_time": "2023-02-21T08:12:54.707Z"
   },
   {
    "duration": 21,
    "start_time": "2023-02-21T08:12:54.865Z"
   },
   {
    "duration": 116,
    "start_time": "2023-02-21T08:12:54.888Z"
   },
   {
    "duration": 9,
    "start_time": "2023-02-21T08:12:55.005Z"
   },
   {
    "duration": 14,
    "start_time": "2023-02-21T08:12:55.018Z"
   },
   {
    "duration": 163,
    "start_time": "2023-02-21T08:12:55.034Z"
   },
   {
    "duration": 7,
    "start_time": "2023-02-21T08:12:55.199Z"
   },
   {
    "duration": 16,
    "start_time": "2023-02-21T08:12:55.207Z"
   },
   {
    "duration": 34,
    "start_time": "2023-02-21T08:12:55.225Z"
   },
   {
    "duration": 7,
    "start_time": "2023-02-21T08:12:55.266Z"
   },
   {
    "duration": 8,
    "start_time": "2023-02-21T08:12:55.274Z"
   },
   {
    "duration": 7,
    "start_time": "2023-02-21T08:12:55.285Z"
   },
   {
    "duration": 5,
    "start_time": "2023-02-21T08:12:55.293Z"
   },
   {
    "duration": 391,
    "start_time": "2023-02-21T08:12:55.300Z"
   },
   {
    "duration": 5,
    "start_time": "2023-02-21T08:12:55.693Z"
   },
   {
    "duration": 347,
    "start_time": "2023-02-21T08:12:55.701Z"
   },
   {
    "duration": 368,
    "start_time": "2023-02-21T08:12:56.050Z"
   },
   {
    "duration": 245,
    "start_time": "2023-02-21T08:12:56.420Z"
   },
   {
    "duration": 305,
    "start_time": "2023-02-21T08:12:56.669Z"
   },
   {
    "duration": 356,
    "start_time": "2023-02-21T08:12:56.976Z"
   },
   {
    "duration": 224,
    "start_time": "2023-02-21T08:12:57.334Z"
   },
   {
    "duration": 204,
    "start_time": "2023-02-21T08:12:57.564Z"
   },
   {
    "duration": 137,
    "start_time": "2023-02-21T08:12:57.770Z"
   },
   {
    "duration": 220,
    "start_time": "2023-02-21T08:12:57.909Z"
   },
   {
    "duration": 187,
    "start_time": "2023-02-21T08:12:58.132Z"
   },
   {
    "duration": 182,
    "start_time": "2023-02-21T08:12:58.321Z"
   },
   {
    "duration": 183,
    "start_time": "2023-02-21T08:12:58.504Z"
   },
   {
    "duration": 156,
    "start_time": "2023-02-21T08:12:58.690Z"
   },
   {
    "duration": 174,
    "start_time": "2023-02-21T08:12:58.848Z"
   },
   {
    "duration": 319,
    "start_time": "2023-02-21T08:12:59.024Z"
   },
   {
    "duration": 192,
    "start_time": "2023-02-21T08:12:59.345Z"
   },
   {
    "duration": 220,
    "start_time": "2023-02-21T08:12:59.539Z"
   },
   {
    "duration": 174,
    "start_time": "2023-02-21T08:12:59.763Z"
   },
   {
    "duration": 184,
    "start_time": "2023-02-21T08:12:59.939Z"
   },
   {
    "duration": 182,
    "start_time": "2023-02-21T08:13:00.125Z"
   },
   {
    "duration": 178,
    "start_time": "2023-02-21T08:13:00.309Z"
   },
   {
    "duration": 185,
    "start_time": "2023-02-21T08:13:00.490Z"
   },
   {
    "duration": 188,
    "start_time": "2023-02-21T08:13:00.677Z"
   },
   {
    "duration": 30,
    "start_time": "2023-02-21T08:13:00.868Z"
   },
   {
    "duration": 8,
    "start_time": "2023-02-21T08:13:00.900Z"
   },
   {
    "duration": 42,
    "start_time": "2023-02-21T08:13:00.909Z"
   },
   {
    "duration": 7,
    "start_time": "2023-02-21T08:13:50.698Z"
   },
   {
    "duration": 652,
    "start_time": "2023-02-21T08:13:58.581Z"
   },
   {
    "duration": 104,
    "start_time": "2023-02-21T08:13:59.235Z"
   },
   {
    "duration": 51,
    "start_time": "2023-02-21T08:13:59.341Z"
   },
   {
    "duration": 17,
    "start_time": "2023-02-21T08:13:59.394Z"
   },
   {
    "duration": 4812,
    "start_time": "2023-02-21T08:13:59.413Z"
   },
   {
    "duration": 13,
    "start_time": "2023-02-21T08:14:04.226Z"
   },
   {
    "duration": 23,
    "start_time": "2023-02-21T08:14:04.241Z"
   },
   {
    "duration": 17,
    "start_time": "2023-02-21T08:14:04.268Z"
   },
   {
    "duration": 8,
    "start_time": "2023-02-21T08:14:04.286Z"
   },
   {
    "duration": 5,
    "start_time": "2023-02-21T08:14:04.297Z"
   },
   {
    "duration": 12,
    "start_time": "2023-02-21T08:14:04.304Z"
   },
   {
    "duration": 6,
    "start_time": "2023-02-21T08:14:04.318Z"
   },
   {
    "duration": 42,
    "start_time": "2023-02-21T08:14:04.326Z"
   },
   {
    "duration": 11,
    "start_time": "2023-02-21T08:14:04.373Z"
   },
   {
    "duration": 28,
    "start_time": "2023-02-21T08:14:04.386Z"
   },
   {
    "duration": 106,
    "start_time": "2023-02-21T08:14:04.416Z"
   },
   {
    "duration": 133,
    "start_time": "2023-02-21T08:14:04.524Z"
   },
   {
    "duration": 18,
    "start_time": "2023-02-21T08:14:04.658Z"
   },
   {
    "duration": 10,
    "start_time": "2023-02-21T08:14:04.677Z"
   },
   {
    "duration": 8,
    "start_time": "2023-02-21T08:14:04.688Z"
   },
   {
    "duration": 278,
    "start_time": "2023-02-21T08:14:04.697Z"
   },
   {
    "duration": 85,
    "start_time": "2023-02-21T08:14:04.977Z"
   },
   {
    "duration": 8,
    "start_time": "2023-02-21T08:14:05.071Z"
   },
   {
    "duration": 135,
    "start_time": "2023-02-21T08:14:05.081Z"
   },
   {
    "duration": 45,
    "start_time": "2023-02-21T08:14:05.219Z"
   },
   {
    "duration": 125,
    "start_time": "2023-02-21T08:14:05.269Z"
   },
   {
    "duration": 8,
    "start_time": "2023-02-21T08:14:05.395Z"
   },
   {
    "duration": 18,
    "start_time": "2023-02-21T08:14:05.405Z"
   },
   {
    "duration": 148,
    "start_time": "2023-02-21T08:14:05.425Z"
   },
   {
    "duration": 8,
    "start_time": "2023-02-21T08:14:05.575Z"
   },
   {
    "duration": 20,
    "start_time": "2023-02-21T08:14:05.585Z"
   },
   {
    "duration": 8,
    "start_time": "2023-02-21T08:14:05.607Z"
   },
   {
    "duration": 43,
    "start_time": "2023-02-21T08:14:05.616Z"
   },
   {
    "duration": 7,
    "start_time": "2023-02-21T08:14:05.665Z"
   },
   {
    "duration": 7,
    "start_time": "2023-02-21T08:14:05.674Z"
   },
   {
    "duration": 16,
    "start_time": "2023-02-21T08:14:05.684Z"
   },
   {
    "duration": 380,
    "start_time": "2023-02-21T08:14:05.702Z"
   },
   {
    "duration": 5,
    "start_time": "2023-02-21T08:14:06.084Z"
   },
   {
    "duration": 393,
    "start_time": "2023-02-21T08:14:06.091Z"
   },
   {
    "duration": 389,
    "start_time": "2023-02-21T08:14:06.489Z"
   },
   {
    "duration": 177,
    "start_time": "2023-02-21T08:14:06.883Z"
   },
   {
    "duration": 306,
    "start_time": "2023-02-21T08:14:07.066Z"
   },
   {
    "duration": 412,
    "start_time": "2023-02-21T08:14:07.375Z"
   },
   {
    "duration": 218,
    "start_time": "2023-02-21T08:14:07.790Z"
   },
   {
    "duration": 187,
    "start_time": "2023-02-21T08:14:08.010Z"
   },
   {
    "duration": 129,
    "start_time": "2023-02-21T08:14:08.199Z"
   },
   {
    "duration": 194,
    "start_time": "2023-02-21T08:14:08.331Z"
   },
   {
    "duration": 184,
    "start_time": "2023-02-21T08:14:08.527Z"
   },
   {
    "duration": 170,
    "start_time": "2023-02-21T08:14:08.713Z"
   },
   {
    "duration": 223,
    "start_time": "2023-02-21T08:14:08.886Z"
   },
   {
    "duration": 197,
    "start_time": "2023-02-21T08:14:09.112Z"
   },
   {
    "duration": 185,
    "start_time": "2023-02-21T08:14:09.311Z"
   },
   {
    "duration": 332,
    "start_time": "2023-02-21T08:14:09.498Z"
   },
   {
    "duration": 195,
    "start_time": "2023-02-21T08:14:09.832Z"
   },
   {
    "duration": 204,
    "start_time": "2023-02-21T08:14:10.029Z"
   },
   {
    "duration": 169,
    "start_time": "2023-02-21T08:14:10.236Z"
   },
   {
    "duration": 164,
    "start_time": "2023-02-21T08:14:10.407Z"
   },
   {
    "duration": 152,
    "start_time": "2023-02-21T08:14:10.574Z"
   },
   {
    "duration": 175,
    "start_time": "2023-02-21T08:14:10.728Z"
   },
   {
    "duration": 171,
    "start_time": "2023-02-21T08:14:10.904Z"
   },
   {
    "duration": 169,
    "start_time": "2023-02-21T08:14:11.077Z"
   },
   {
    "duration": 27,
    "start_time": "2023-02-21T08:14:11.250Z"
   },
   {
    "duration": 7,
    "start_time": "2023-02-21T08:14:11.279Z"
   },
   {
    "duration": 12,
    "start_time": "2023-02-21T08:14:11.287Z"
   },
   {
    "duration": 228,
    "start_time": "2023-02-21T08:15:56.418Z"
   },
   {
    "duration": 374,
    "start_time": "2023-02-21T08:17:34.426Z"
   },
   {
    "duration": 190,
    "start_time": "2023-02-21T08:17:44.385Z"
   },
   {
    "duration": 6,
    "start_time": "2023-02-21T08:18:32.111Z"
   },
   {
    "duration": 701,
    "start_time": "2023-02-21T08:18:38.335Z"
   },
   {
    "duration": 115,
    "start_time": "2023-02-21T08:18:39.038Z"
   },
   {
    "duration": 45,
    "start_time": "2023-02-21T08:18:39.155Z"
   },
   {
    "duration": 34,
    "start_time": "2023-02-21T08:18:39.203Z"
   },
   {
    "duration": 4356,
    "start_time": "2023-02-21T08:18:39.241Z"
   },
   {
    "duration": 13,
    "start_time": "2023-02-21T08:18:43.599Z"
   },
   {
    "duration": 8,
    "start_time": "2023-02-21T08:18:43.614Z"
   },
   {
    "duration": 9,
    "start_time": "2023-02-21T08:18:43.624Z"
   },
   {
    "duration": 10,
    "start_time": "2023-02-21T08:18:43.636Z"
   },
   {
    "duration": 11,
    "start_time": "2023-02-21T08:18:43.651Z"
   },
   {
    "duration": 17,
    "start_time": "2023-02-21T08:18:43.672Z"
   },
   {
    "duration": 13,
    "start_time": "2023-02-21T08:18:43.691Z"
   },
   {
    "duration": 24,
    "start_time": "2023-02-21T08:18:43.707Z"
   },
   {
    "duration": 8,
    "start_time": "2023-02-21T08:18:43.734Z"
   },
   {
    "duration": 51,
    "start_time": "2023-02-21T08:18:43.744Z"
   },
   {
    "duration": 91,
    "start_time": "2023-02-21T08:18:43.797Z"
   },
   {
    "duration": 150,
    "start_time": "2023-02-21T08:18:43.891Z"
   },
   {
    "duration": 26,
    "start_time": "2023-02-21T08:18:44.043Z"
   },
   {
    "duration": 11,
    "start_time": "2023-02-21T08:18:44.071Z"
   },
   {
    "duration": 7,
    "start_time": "2023-02-21T08:18:44.085Z"
   },
   {
    "duration": 273,
    "start_time": "2023-02-21T08:18:44.094Z"
   },
   {
    "duration": 83,
    "start_time": "2023-02-21T08:18:44.374Z"
   },
   {
    "duration": 5,
    "start_time": "2023-02-21T08:18:44.466Z"
   },
   {
    "duration": 133,
    "start_time": "2023-02-21T08:18:44.474Z"
   },
   {
    "duration": 22,
    "start_time": "2023-02-21T08:18:44.609Z"
   },
   {
    "duration": 139,
    "start_time": "2023-02-21T08:18:44.632Z"
   },
   {
    "duration": 9,
    "start_time": "2023-02-21T08:18:44.773Z"
   },
   {
    "duration": 7,
    "start_time": "2023-02-21T08:18:44.786Z"
   },
   {
    "duration": 146,
    "start_time": "2023-02-21T08:18:44.795Z"
   },
   {
    "duration": 20,
    "start_time": "2023-02-21T08:18:44.942Z"
   },
   {
    "duration": 20,
    "start_time": "2023-02-21T08:18:44.964Z"
   },
   {
    "duration": 6,
    "start_time": "2023-02-21T08:18:44.986Z"
   },
   {
    "duration": 10,
    "start_time": "2023-02-21T08:18:44.994Z"
   },
   {
    "duration": 14,
    "start_time": "2023-02-21T08:18:45.006Z"
   },
   {
    "duration": 34,
    "start_time": "2023-02-21T08:18:45.021Z"
   },
   {
    "duration": 25,
    "start_time": "2023-02-21T08:18:45.059Z"
   },
   {
    "duration": 391,
    "start_time": "2023-02-21T08:18:45.086Z"
   },
   {
    "duration": 6,
    "start_time": "2023-02-21T08:18:45.480Z"
   },
   {
    "duration": 347,
    "start_time": "2023-02-21T08:18:45.488Z"
   },
   {
    "duration": 330,
    "start_time": "2023-02-21T08:18:45.837Z"
   },
   {
    "duration": 205,
    "start_time": "2023-02-21T08:18:46.169Z"
   },
   {
    "duration": 416,
    "start_time": "2023-02-21T08:18:46.377Z"
   },
   {
    "duration": 376,
    "start_time": "2023-02-21T08:18:46.796Z"
   },
   {
    "duration": 199,
    "start_time": "2023-02-21T08:18:47.173Z"
   },
   {
    "duration": 197,
    "start_time": "2023-02-21T08:18:47.375Z"
   },
   {
    "duration": 143,
    "start_time": "2023-02-21T08:18:47.573Z"
   },
   {
    "duration": 205,
    "start_time": "2023-02-21T08:18:47.717Z"
   },
   {
    "duration": 191,
    "start_time": "2023-02-21T08:18:47.924Z"
   },
   {
    "duration": 239,
    "start_time": "2023-02-21T08:18:48.117Z"
   },
   {
    "duration": 185,
    "start_time": "2023-02-21T08:18:48.357Z"
   },
   {
    "duration": 164,
    "start_time": "2023-02-21T08:18:48.544Z"
   },
   {
    "duration": 212,
    "start_time": "2023-02-21T08:18:48.710Z"
   },
   {
    "duration": 399,
    "start_time": "2023-02-21T08:18:48.924Z"
   },
   {
    "duration": 200,
    "start_time": "2023-02-21T08:18:49.325Z"
   },
   {
    "duration": 202,
    "start_time": "2023-02-21T08:18:49.527Z"
   },
   {
    "duration": 185,
    "start_time": "2023-02-21T08:18:49.731Z"
   },
   {
    "duration": 160,
    "start_time": "2023-02-21T08:18:49.918Z"
   },
   {
    "duration": 155,
    "start_time": "2023-02-21T08:18:50.080Z"
   },
   {
    "duration": 183,
    "start_time": "2023-02-21T08:18:50.236Z"
   },
   {
    "duration": 173,
    "start_time": "2023-02-21T08:18:50.420Z"
   },
   {
    "duration": 182,
    "start_time": "2023-02-21T08:18:50.595Z"
   },
   {
    "duration": 36,
    "start_time": "2023-02-21T08:18:50.779Z"
   },
   {
    "duration": 8,
    "start_time": "2023-02-21T08:18:50.818Z"
   },
   {
    "duration": 59,
    "start_time": "2023-02-21T08:18:50.827Z"
   },
   {
    "duration": 18,
    "start_time": "2023-02-21T08:22:57.713Z"
   },
   {
    "duration": 27,
    "start_time": "2023-02-21T08:24:53.651Z"
   },
   {
    "duration": 1460,
    "start_time": "2023-02-21T08:26:10.702Z"
   },
   {
    "duration": 11,
    "start_time": "2023-02-21T08:37:55.734Z"
   },
   {
    "duration": 35,
    "start_time": "2023-02-21T08:41:34.441Z"
   },
   {
    "duration": 29,
    "start_time": "2023-02-21T08:41:46.300Z"
   },
   {
    "duration": 166,
    "start_time": "2023-02-21T11:59:24.116Z"
   },
   {
    "duration": 45,
    "start_time": "2023-02-22T05:28:08.834Z"
   },
   {
    "duration": 747,
    "start_time": "2023-02-22T05:28:23.678Z"
   },
   {
    "duration": 154,
    "start_time": "2023-02-22T05:28:24.427Z"
   },
   {
    "duration": 46,
    "start_time": "2023-02-22T05:28:24.583Z"
   },
   {
    "duration": 19,
    "start_time": "2023-02-22T05:28:24.631Z"
   },
   {
    "duration": 4036,
    "start_time": "2023-02-22T05:28:24.652Z"
   },
   {
    "duration": 11,
    "start_time": "2023-02-22T05:28:28.689Z"
   },
   {
    "duration": 9,
    "start_time": "2023-02-22T05:28:28.702Z"
   },
   {
    "duration": 10,
    "start_time": "2023-02-22T05:28:28.712Z"
   },
   {
    "duration": 6,
    "start_time": "2023-02-22T05:28:28.724Z"
   },
   {
    "duration": 6,
    "start_time": "2023-02-22T05:28:28.733Z"
   },
   {
    "duration": 8,
    "start_time": "2023-02-22T05:28:28.741Z"
   },
   {
    "duration": 8,
    "start_time": "2023-02-22T05:28:28.750Z"
   },
   {
    "duration": 7,
    "start_time": "2023-02-22T05:28:28.760Z"
   },
   {
    "duration": 15,
    "start_time": "2023-02-22T05:28:28.769Z"
   },
   {
    "duration": 89,
    "start_time": "2023-02-22T05:28:28.785Z"
   },
   {
    "duration": 131,
    "start_time": "2023-02-22T05:28:28.876Z"
   },
   {
    "duration": 12,
    "start_time": "2023-02-22T05:28:29.009Z"
   },
   {
    "duration": 14,
    "start_time": "2023-02-22T05:28:29.023Z"
   },
   {
    "duration": 5,
    "start_time": "2023-02-22T05:28:29.039Z"
   },
   {
    "duration": 216,
    "start_time": "2023-02-22T05:28:29.045Z"
   },
   {
    "duration": 74,
    "start_time": "2023-02-22T05:28:29.263Z"
   },
   {
    "duration": 4,
    "start_time": "2023-02-22T05:28:29.338Z"
   },
   {
    "duration": 109,
    "start_time": "2023-02-22T05:28:29.344Z"
   },
   {
    "duration": 18,
    "start_time": "2023-02-22T05:28:29.455Z"
   },
   {
    "duration": 112,
    "start_time": "2023-02-22T05:28:29.475Z"
   },
   {
    "duration": 7,
    "start_time": "2023-02-22T05:28:29.588Z"
   },
   {
    "duration": 5,
    "start_time": "2023-02-22T05:28:29.596Z"
   },
   {
    "duration": 119,
    "start_time": "2023-02-22T05:28:29.605Z"
   },
   {
    "duration": 12,
    "start_time": "2023-02-22T05:28:29.726Z"
   },
   {
    "duration": 12,
    "start_time": "2023-02-22T05:28:29.739Z"
   },
   {
    "duration": 4,
    "start_time": "2023-02-22T05:28:29.753Z"
   },
   {
    "duration": 8,
    "start_time": "2023-02-22T05:28:29.758Z"
   },
   {
    "duration": 13,
    "start_time": "2023-02-22T05:28:29.768Z"
   },
   {
    "duration": 6,
    "start_time": "2023-02-22T05:28:29.783Z"
   },
   {
    "duration": 3,
    "start_time": "2023-02-22T05:28:29.791Z"
   },
   {
    "duration": 311,
    "start_time": "2023-02-22T05:28:29.795Z"
   },
   {
    "duration": 4,
    "start_time": "2023-02-22T05:28:30.108Z"
   },
   {
    "duration": 309,
    "start_time": "2023-02-22T05:28:30.113Z"
   },
   {
    "duration": 268,
    "start_time": "2023-02-22T05:28:30.424Z"
   },
   {
    "duration": 149,
    "start_time": "2023-02-22T05:28:30.694Z"
   },
   {
    "duration": 263,
    "start_time": "2023-02-22T05:28:30.844Z"
   },
   {
    "duration": 307,
    "start_time": "2023-02-22T05:28:31.108Z"
   },
   {
    "duration": 167,
    "start_time": "2023-02-22T05:28:31.416Z"
   },
   {
    "duration": 146,
    "start_time": "2023-02-22T05:28:31.584Z"
   },
   {
    "duration": 115,
    "start_time": "2023-02-22T05:28:31.731Z"
   },
   {
    "duration": 195,
    "start_time": "2023-02-22T05:28:31.847Z"
   },
   {
    "duration": 163,
    "start_time": "2023-02-22T05:28:32.044Z"
   },
   {
    "duration": 156,
    "start_time": "2023-02-22T05:28:32.209Z"
   },
   {
    "duration": 203,
    "start_time": "2023-02-22T05:28:32.367Z"
   },
   {
    "duration": 139,
    "start_time": "2023-02-22T05:28:32.571Z"
   },
   {
    "duration": 149,
    "start_time": "2023-02-22T05:28:32.712Z"
   },
   {
    "duration": 287,
    "start_time": "2023-02-22T05:28:32.863Z"
   },
   {
    "duration": 157,
    "start_time": "2023-02-22T05:28:33.151Z"
   },
   {
    "duration": 154,
    "start_time": "2023-02-22T05:28:33.310Z"
   },
   {
    "duration": 136,
    "start_time": "2023-02-22T05:28:33.466Z"
   },
   {
    "duration": 121,
    "start_time": "2023-02-22T05:28:33.604Z"
   },
   {
    "duration": 130,
    "start_time": "2023-02-22T05:28:33.727Z"
   },
   {
    "duration": 137,
    "start_time": "2023-02-22T05:28:33.858Z"
   },
   {
    "duration": 140,
    "start_time": "2023-02-22T05:28:33.997Z"
   },
   {
    "duration": 149,
    "start_time": "2023-02-22T05:28:34.138Z"
   },
   {
    "duration": 22,
    "start_time": "2023-02-22T05:28:34.288Z"
   },
   {
    "duration": 6,
    "start_time": "2023-02-22T05:28:34.312Z"
   },
   {
    "duration": 18,
    "start_time": "2023-02-22T05:28:34.320Z"
   },
   {
    "duration": 31,
    "start_time": "2023-02-22T05:28:34.340Z"
   },
   {
    "duration": 151,
    "start_time": "2023-02-22T05:28:34.372Z"
   },
   {
    "duration": 459,
    "start_time": "2023-02-22T05:39:37.272Z"
   },
   {
    "duration": 182,
    "start_time": "2023-02-22T05:42:27.679Z"
   },
   {
    "duration": 297,
    "start_time": "2023-02-22T05:47:03.409Z"
   },
   {
    "duration": 320,
    "start_time": "2023-02-22T06:07:24.672Z"
   },
   {
    "duration": 288,
    "start_time": "2023-02-22T06:23:46.298Z"
   },
   {
    "duration": 223,
    "start_time": "2023-02-22T06:25:12.494Z"
   },
   {
    "duration": 160,
    "start_time": "2023-02-22T06:31:39.114Z"
   },
   {
    "duration": 151,
    "start_time": "2023-02-22T06:36:20.350Z"
   },
   {
    "duration": 114,
    "start_time": "2023-02-22T06:38:39.623Z"
   },
   {
    "duration": 103,
    "start_time": "2023-02-22T06:38:55.309Z"
   },
   {
    "duration": 169,
    "start_time": "2023-02-22T06:40:06.876Z"
   },
   {
    "duration": 153,
    "start_time": "2023-02-22T06:42:43.374Z"
   },
   {
    "duration": 191,
    "start_time": "2023-02-22T06:45:15.931Z"
   },
   {
    "duration": 171,
    "start_time": "2023-02-22T06:45:48.583Z"
   },
   {
    "duration": 927,
    "start_time": "2023-02-22T06:47:16.457Z"
   },
   {
    "duration": 356,
    "start_time": "2023-02-22T06:47:37.035Z"
   },
   {
    "duration": 138,
    "start_time": "2023-02-22T06:47:49.489Z"
   },
   {
    "duration": 205,
    "start_time": "2023-02-22T06:50:27.678Z"
   },
   {
    "duration": 158,
    "start_time": "2023-02-22T06:50:42.186Z"
   },
   {
    "duration": 150,
    "start_time": "2023-02-22T06:50:50.155Z"
   },
   {
    "duration": 142,
    "start_time": "2023-02-22T06:55:07.734Z"
   },
   {
    "duration": 155,
    "start_time": "2023-02-22T06:57:05.468Z"
   },
   {
    "duration": 303,
    "start_time": "2023-02-22T07:01:10.992Z"
   },
   {
    "duration": 211,
    "start_time": "2023-02-22T07:44:08.803Z"
   },
   {
    "duration": 756,
    "start_time": "2023-02-22T09:40:54.235Z"
   },
   {
    "duration": 191,
    "start_time": "2023-02-22T09:40:54.993Z"
   },
   {
    "duration": 78,
    "start_time": "2023-02-22T09:40:55.187Z"
   },
   {
    "duration": 25,
    "start_time": "2023-02-22T09:40:55.277Z"
   },
   {
    "duration": 4695,
    "start_time": "2023-02-22T09:40:55.305Z"
   },
   {
    "duration": 17,
    "start_time": "2023-02-22T09:41:00.003Z"
   },
   {
    "duration": 22,
    "start_time": "2023-02-22T09:41:00.022Z"
   },
   {
    "duration": 56,
    "start_time": "2023-02-22T09:41:00.049Z"
   },
   {
    "duration": 10,
    "start_time": "2023-02-22T09:41:00.107Z"
   },
   {
    "duration": 15,
    "start_time": "2023-02-22T09:41:00.121Z"
   },
   {
    "duration": 56,
    "start_time": "2023-02-22T09:41:00.140Z"
   },
   {
    "duration": 23,
    "start_time": "2023-02-22T09:41:00.199Z"
   },
   {
    "duration": 69,
    "start_time": "2023-02-22T09:41:00.225Z"
   },
   {
    "duration": 37,
    "start_time": "2023-02-22T09:41:00.297Z"
   },
   {
    "duration": 161,
    "start_time": "2023-02-22T09:41:00.336Z"
   },
   {
    "duration": 172,
    "start_time": "2023-02-22T09:41:00.499Z"
   },
   {
    "duration": 14,
    "start_time": "2023-02-22T09:41:00.684Z"
   },
   {
    "duration": 14,
    "start_time": "2023-02-22T09:41:00.700Z"
   },
   {
    "duration": 91,
    "start_time": "2023-02-22T09:41:00.716Z"
   },
   {
    "duration": 290,
    "start_time": "2023-02-22T09:41:00.809Z"
   },
   {
    "duration": 95,
    "start_time": "2023-02-22T09:41:01.102Z"
   },
   {
    "duration": 5,
    "start_time": "2023-02-22T09:41:01.199Z"
   },
   {
    "duration": 251,
    "start_time": "2023-02-22T09:41:01.207Z"
   },
   {
    "duration": 26,
    "start_time": "2023-02-22T09:41:01.460Z"
   },
   {
    "duration": 157,
    "start_time": "2023-02-22T09:41:01.488Z"
   },
   {
    "duration": 15,
    "start_time": "2023-02-22T09:41:01.647Z"
   },
   {
    "duration": 36,
    "start_time": "2023-02-22T09:41:01.670Z"
   },
   {
    "duration": 205,
    "start_time": "2023-02-22T09:41:01.711Z"
   },
   {
    "duration": 7,
    "start_time": "2023-02-22T09:41:01.918Z"
   },
   {
    "duration": 85,
    "start_time": "2023-02-22T09:41:01.927Z"
   },
   {
    "duration": 54,
    "start_time": "2023-02-22T09:41:02.015Z"
   },
   {
    "duration": 46,
    "start_time": "2023-02-22T09:41:02.077Z"
   },
   {
    "duration": 18,
    "start_time": "2023-02-22T09:41:02.126Z"
   },
   {
    "duration": 59,
    "start_time": "2023-02-22T09:41:02.146Z"
   },
   {
    "duration": 21,
    "start_time": "2023-02-22T09:41:02.208Z"
   },
   {
    "duration": 618,
    "start_time": "2023-02-22T09:41:02.231Z"
   },
   {
    "duration": 20,
    "start_time": "2023-02-22T09:41:02.852Z"
   },
   {
    "duration": 443,
    "start_time": "2023-02-22T09:41:02.881Z"
   },
   {
    "duration": 363,
    "start_time": "2023-02-22T09:41:03.325Z"
   },
   {
    "duration": 218,
    "start_time": "2023-02-22T09:41:03.691Z"
   },
   {
    "duration": 479,
    "start_time": "2023-02-22T09:41:03.911Z"
   },
   {
    "duration": 397,
    "start_time": "2023-02-22T09:41:04.392Z"
   },
   {
    "duration": 231,
    "start_time": "2023-02-22T09:41:04.791Z"
   },
   {
    "duration": 271,
    "start_time": "2023-02-22T09:41:05.023Z"
   },
   {
    "duration": 189,
    "start_time": "2023-02-22T09:41:05.296Z"
   },
   {
    "duration": 216,
    "start_time": "2023-02-22T09:41:05.488Z"
   },
   {
    "duration": 204,
    "start_time": "2023-02-22T09:41:05.706Z"
   },
   {
    "duration": 206,
    "start_time": "2023-02-22T09:41:05.913Z"
   },
   {
    "duration": 270,
    "start_time": "2023-02-22T09:41:06.121Z"
   },
   {
    "duration": 160,
    "start_time": "2023-02-22T09:41:06.393Z"
   },
   {
    "duration": 208,
    "start_time": "2023-02-22T09:41:06.555Z"
   },
   {
    "duration": 383,
    "start_time": "2023-02-22T09:41:06.771Z"
   },
   {
    "duration": 238,
    "start_time": "2023-02-22T09:41:07.164Z"
   },
   {
    "duration": 209,
    "start_time": "2023-02-22T09:41:07.405Z"
   },
   {
    "duration": 182,
    "start_time": "2023-02-22T09:41:07.615Z"
   },
   {
    "duration": 193,
    "start_time": "2023-02-22T09:41:07.800Z"
   },
   {
    "duration": 221,
    "start_time": "2023-02-22T09:41:07.996Z"
   },
   {
    "duration": 208,
    "start_time": "2023-02-22T09:41:08.219Z"
   },
   {
    "duration": 225,
    "start_time": "2023-02-22T09:41:08.431Z"
   },
   {
    "duration": 428,
    "start_time": "2023-02-22T09:41:08.664Z"
   },
   {
    "duration": 29,
    "start_time": "2023-02-22T09:41:09.094Z"
   },
   {
    "duration": 28,
    "start_time": "2023-02-22T09:41:09.137Z"
   },
   {
    "duration": 32,
    "start_time": "2023-02-22T09:41:09.173Z"
   },
   {
    "duration": 252,
    "start_time": "2023-02-22T09:41:09.207Z"
   },
   {
    "duration": 674,
    "start_time": "2023-02-22T10:01:03.856Z"
   },
   {
    "duration": 127,
    "start_time": "2023-02-22T10:01:04.533Z"
   },
   {
    "duration": 62,
    "start_time": "2023-02-22T10:01:04.666Z"
   },
   {
    "duration": 22,
    "start_time": "2023-02-22T10:01:04.731Z"
   },
   {
    "duration": 4722,
    "start_time": "2023-02-22T10:01:04.762Z"
   },
   {
    "duration": 13,
    "start_time": "2023-02-22T10:01:09.486Z"
   },
   {
    "duration": 33,
    "start_time": "2023-02-22T10:01:09.501Z"
   },
   {
    "duration": 40,
    "start_time": "2023-02-22T10:01:09.538Z"
   },
   {
    "duration": 17,
    "start_time": "2023-02-22T10:01:09.580Z"
   },
   {
    "duration": 20,
    "start_time": "2023-02-22T10:01:09.600Z"
   },
   {
    "duration": 46,
    "start_time": "2023-02-22T10:01:09.622Z"
   },
   {
    "duration": 26,
    "start_time": "2023-02-22T10:01:09.671Z"
   },
   {
    "duration": 23,
    "start_time": "2023-02-22T10:01:09.699Z"
   },
   {
    "duration": 61,
    "start_time": "2023-02-22T10:01:09.724Z"
   },
   {
    "duration": 118,
    "start_time": "2023-02-22T10:01:09.788Z"
   },
   {
    "duration": 166,
    "start_time": "2023-02-22T10:01:09.908Z"
   },
   {
    "duration": 15,
    "start_time": "2023-02-22T10:01:10.077Z"
   },
   {
    "duration": 14,
    "start_time": "2023-02-22T10:01:10.094Z"
   },
   {
    "duration": 28,
    "start_time": "2023-02-22T10:01:10.110Z"
   },
   {
    "duration": 347,
    "start_time": "2023-02-22T10:01:10.139Z"
   },
   {
    "duration": 113,
    "start_time": "2023-02-22T10:01:10.488Z"
   },
   {
    "duration": 9,
    "start_time": "2023-02-22T10:01:10.603Z"
   },
   {
    "duration": 267,
    "start_time": "2023-02-22T10:01:10.614Z"
   },
   {
    "duration": 28,
    "start_time": "2023-02-22T10:01:10.883Z"
   },
   {
    "duration": 278,
    "start_time": "2023-02-22T10:01:10.913Z"
   },
   {
    "duration": 10,
    "start_time": "2023-02-22T10:01:11.193Z"
   },
   {
    "duration": 59,
    "start_time": "2023-02-22T10:01:11.206Z"
   },
   {
    "duration": 193,
    "start_time": "2023-02-22T10:01:11.271Z"
   },
   {
    "duration": 8,
    "start_time": "2023-02-22T10:01:11.466Z"
   },
   {
    "duration": 57,
    "start_time": "2023-02-22T10:01:11.476Z"
   },
   {
    "duration": 42,
    "start_time": "2023-02-22T10:01:11.535Z"
   },
   {
    "duration": 44,
    "start_time": "2023-02-22T10:01:11.579Z"
   },
   {
    "duration": 28,
    "start_time": "2023-02-22T10:01:11.626Z"
   },
   {
    "duration": 30,
    "start_time": "2023-02-22T10:01:11.659Z"
   },
   {
    "duration": 68,
    "start_time": "2023-02-22T10:01:11.691Z"
   },
   {
    "duration": 457,
    "start_time": "2023-02-22T10:01:11.761Z"
   },
   {
    "duration": 5,
    "start_time": "2023-02-22T10:01:12.220Z"
   },
   {
    "duration": 420,
    "start_time": "2023-02-22T10:01:12.238Z"
   },
   {
    "duration": 340,
    "start_time": "2023-02-22T10:01:12.666Z"
   },
   {
    "duration": 206,
    "start_time": "2023-02-22T10:01:13.008Z"
   },
   {
    "duration": 405,
    "start_time": "2023-02-22T10:01:13.217Z"
   },
   {
    "duration": 413,
    "start_time": "2023-02-22T10:01:13.624Z"
   },
   {
    "duration": 234,
    "start_time": "2023-02-22T10:01:14.039Z"
   },
   {
    "duration": 234,
    "start_time": "2023-02-22T10:01:14.280Z"
   },
   {
    "duration": 161,
    "start_time": "2023-02-22T10:01:14.517Z"
   },
   {
    "duration": 237,
    "start_time": "2023-02-22T10:01:14.680Z"
   },
   {
    "duration": 220,
    "start_time": "2023-02-22T10:01:14.918Z"
   },
   {
    "duration": 220,
    "start_time": "2023-02-22T10:01:15.140Z"
   },
   {
    "duration": 193,
    "start_time": "2023-02-22T10:01:15.366Z"
   },
   {
    "duration": 212,
    "start_time": "2023-02-22T10:01:15.562Z"
   },
   {
    "duration": 203,
    "start_time": "2023-02-22T10:01:15.776Z"
   },
   {
    "duration": 398,
    "start_time": "2023-02-22T10:01:15.981Z"
   },
   {
    "duration": 194,
    "start_time": "2023-02-22T10:01:16.382Z"
   },
   {
    "duration": 191,
    "start_time": "2023-02-22T10:01:16.578Z"
   },
   {
    "duration": 183,
    "start_time": "2023-02-22T10:01:16.771Z"
   },
   {
    "duration": 144,
    "start_time": "2023-02-22T10:01:16.956Z"
   },
   {
    "duration": 170,
    "start_time": "2023-02-22T10:01:17.102Z"
   },
   {
    "duration": 193,
    "start_time": "2023-02-22T10:01:17.273Z"
   },
   {
    "duration": 164,
    "start_time": "2023-02-22T10:01:17.469Z"
   },
   {
    "duration": 361,
    "start_time": "2023-02-22T10:01:17.635Z"
   },
   {
    "duration": 56,
    "start_time": "2023-02-22T10:01:17.998Z"
   },
   {
    "duration": 11,
    "start_time": "2023-02-22T10:01:18.058Z"
   },
   {
    "duration": 14,
    "start_time": "2023-02-22T10:01:18.071Z"
   },
   {
    "duration": 196,
    "start_time": "2023-02-22T10:01:18.087Z"
   },
   {
    "duration": 6,
    "start_time": "2023-02-22T10:45:56.196Z"
   },
   {
    "duration": 701,
    "start_time": "2023-02-22T10:56:55.878Z"
   },
   {
    "duration": 104,
    "start_time": "2023-02-22T10:56:56.582Z"
   },
   {
    "duration": 48,
    "start_time": "2023-02-22T10:56:56.688Z"
   },
   {
    "duration": 19,
    "start_time": "2023-02-22T10:56:56.743Z"
   },
   {
    "duration": 5157,
    "start_time": "2023-02-22T10:56:56.766Z"
   },
   {
    "duration": 19,
    "start_time": "2023-02-22T10:57:01.927Z"
   },
   {
    "duration": 152,
    "start_time": "2023-02-22T10:57:01.949Z"
   },
   {
    "duration": 45,
    "start_time": "2023-02-22T10:57:02.103Z"
   },
   {
    "duration": 116,
    "start_time": "2023-02-22T10:57:02.152Z"
   },
   {
    "duration": 16,
    "start_time": "2023-02-22T10:57:02.270Z"
   },
   {
    "duration": 15,
    "start_time": "2023-02-22T10:57:02.288Z"
   },
   {
    "duration": 28,
    "start_time": "2023-02-22T10:57:02.305Z"
   },
   {
    "duration": 51,
    "start_time": "2023-02-22T10:57:02.335Z"
   },
   {
    "duration": 63,
    "start_time": "2023-02-22T10:57:02.390Z"
   },
   {
    "duration": 28,
    "start_time": "2023-02-22T10:57:02.455Z"
   },
   {
    "duration": 108,
    "start_time": "2023-02-22T10:57:02.485Z"
   },
   {
    "duration": 175,
    "start_time": "2023-02-22T10:57:02.595Z"
   },
   {
    "duration": 17,
    "start_time": "2023-02-22T10:57:02.771Z"
   },
   {
    "duration": 5,
    "start_time": "2023-02-22T10:57:02.789Z"
   },
   {
    "duration": 17,
    "start_time": "2023-02-22T10:57:02.796Z"
   },
   {
    "duration": 278,
    "start_time": "2023-02-22T10:57:02.815Z"
   },
   {
    "duration": 108,
    "start_time": "2023-02-22T10:57:03.095Z"
   },
   {
    "duration": 6,
    "start_time": "2023-02-22T10:57:03.205Z"
   },
   {
    "duration": 162,
    "start_time": "2023-02-22T10:57:03.213Z"
   },
   {
    "duration": 26,
    "start_time": "2023-02-22T10:57:03.377Z"
   },
   {
    "duration": 167,
    "start_time": "2023-02-22T10:57:03.405Z"
   },
   {
    "duration": 8,
    "start_time": "2023-02-22T10:57:03.574Z"
   },
   {
    "duration": 13,
    "start_time": "2023-02-22T10:57:03.584Z"
   },
   {
    "duration": 142,
    "start_time": "2023-02-22T10:57:03.599Z"
   },
   {
    "duration": 10,
    "start_time": "2023-02-22T10:57:03.745Z"
   },
   {
    "duration": 34,
    "start_time": "2023-02-22T10:57:03.760Z"
   },
   {
    "duration": 6,
    "start_time": "2023-02-22T10:57:03.796Z"
   },
   {
    "duration": 7,
    "start_time": "2023-02-22T10:57:03.804Z"
   },
   {
    "duration": 7,
    "start_time": "2023-02-22T10:57:03.813Z"
   },
   {
    "duration": 7,
    "start_time": "2023-02-22T10:57:03.821Z"
   },
   {
    "duration": 34,
    "start_time": "2023-02-22T10:57:03.830Z"
   },
   {
    "duration": 377,
    "start_time": "2023-02-22T10:57:03.866Z"
   },
   {
    "duration": 6,
    "start_time": "2023-02-22T10:57:04.245Z"
   },
   {
    "duration": 430,
    "start_time": "2023-02-22T10:57:04.252Z"
   },
   {
    "duration": 363,
    "start_time": "2023-02-22T10:57:04.683Z"
   },
   {
    "duration": 189,
    "start_time": "2023-02-22T10:57:05.052Z"
   },
   {
    "duration": 383,
    "start_time": "2023-02-22T10:57:05.243Z"
   },
   {
    "duration": 392,
    "start_time": "2023-02-22T10:57:05.628Z"
   },
   {
    "duration": 265,
    "start_time": "2023-02-22T10:57:06.022Z"
   },
   {
    "duration": 238,
    "start_time": "2023-02-22T10:57:06.290Z"
   },
   {
    "duration": 149,
    "start_time": "2023-02-22T10:57:06.530Z"
   },
   {
    "duration": 209,
    "start_time": "2023-02-22T10:57:06.680Z"
   },
   {
    "duration": 203,
    "start_time": "2023-02-22T10:57:06.891Z"
   },
   {
    "duration": 186,
    "start_time": "2023-02-22T10:57:07.096Z"
   },
   {
    "duration": 213,
    "start_time": "2023-02-22T10:57:07.285Z"
   },
   {
    "duration": 198,
    "start_time": "2023-02-22T10:57:07.501Z"
   },
   {
    "duration": 189,
    "start_time": "2023-02-22T10:57:07.702Z"
   },
   {
    "duration": 373,
    "start_time": "2023-02-22T10:57:07.893Z"
   },
   {
    "duration": 250,
    "start_time": "2023-02-22T10:57:08.268Z"
   },
   {
    "duration": 237,
    "start_time": "2023-02-22T10:57:08.520Z"
   },
   {
    "duration": 213,
    "start_time": "2023-02-22T10:57:08.759Z"
   },
   {
    "duration": 147,
    "start_time": "2023-02-22T10:57:08.976Z"
   },
   {
    "duration": 183,
    "start_time": "2023-02-22T10:57:09.124Z"
   },
   {
    "duration": 231,
    "start_time": "2023-02-22T10:57:09.309Z"
   },
   {
    "duration": 167,
    "start_time": "2023-02-22T10:57:09.543Z"
   },
   {
    "duration": 337,
    "start_time": "2023-02-22T10:57:09.712Z"
   },
   {
    "duration": 33,
    "start_time": "2023-02-22T10:57:10.051Z"
   },
   {
    "duration": 12,
    "start_time": "2023-02-22T10:57:10.086Z"
   },
   {
    "duration": 22,
    "start_time": "2023-02-22T10:57:10.100Z"
   },
   {
    "duration": 236,
    "start_time": "2023-02-22T10:57:10.137Z"
   },
   {
    "duration": 47,
    "start_time": "2023-02-24T04:15:55.137Z"
   },
   {
    "duration": 839,
    "start_time": "2023-02-24T04:16:02.529Z"
   },
   {
    "duration": 694,
    "start_time": "2023-02-24T04:16:03.370Z"
   },
   {
    "duration": 39,
    "start_time": "2023-02-24T04:16:04.066Z"
   },
   {
    "duration": 16,
    "start_time": "2023-02-24T04:16:04.107Z"
   },
   {
    "duration": 3912,
    "start_time": "2023-02-24T04:16:04.125Z"
   },
   {
    "duration": 10,
    "start_time": "2023-02-24T04:16:08.039Z"
   },
   {
    "duration": 7,
    "start_time": "2023-02-24T04:16:08.050Z"
   },
   {
    "duration": 7,
    "start_time": "2023-02-24T04:16:08.059Z"
   },
   {
    "duration": 5,
    "start_time": "2023-02-24T04:16:08.068Z"
   },
   {
    "duration": 4,
    "start_time": "2023-02-24T04:16:08.075Z"
   },
   {
    "duration": 8,
    "start_time": "2023-02-24T04:16:08.080Z"
   },
   {
    "duration": 4,
    "start_time": "2023-02-24T04:16:08.089Z"
   },
   {
    "duration": 8,
    "start_time": "2023-02-24T04:16:08.095Z"
   },
   {
    "duration": 17,
    "start_time": "2023-02-24T04:16:08.104Z"
   },
   {
    "duration": 5,
    "start_time": "2023-02-24T04:16:08.149Z"
   },
   {
    "duration": 74,
    "start_time": "2023-02-24T04:16:08.155Z"
   },
   {
    "duration": 131,
    "start_time": "2023-02-24T04:16:08.231Z"
   },
   {
    "duration": 12,
    "start_time": "2023-02-24T04:16:08.363Z"
   },
   {
    "duration": 4,
    "start_time": "2023-02-24T04:16:08.376Z"
   },
   {
    "duration": 12,
    "start_time": "2023-02-24T04:16:08.382Z"
   },
   {
    "duration": 223,
    "start_time": "2023-02-24T04:16:08.395Z"
   },
   {
    "duration": 76,
    "start_time": "2023-02-24T04:16:08.619Z"
   },
   {
    "duration": 4,
    "start_time": "2023-02-24T04:16:08.697Z"
   },
   {
    "duration": 129,
    "start_time": "2023-02-24T04:16:08.702Z"
   },
   {
    "duration": 29,
    "start_time": "2023-02-24T04:16:08.832Z"
   },
   {
    "duration": 108,
    "start_time": "2023-02-24T04:16:08.862Z"
   },
   {
    "duration": 8,
    "start_time": "2023-02-24T04:16:08.971Z"
   },
   {
    "duration": 8,
    "start_time": "2023-02-24T04:16:08.984Z"
   },
   {
    "duration": 143,
    "start_time": "2023-02-24T04:16:08.994Z"
   },
   {
    "duration": 11,
    "start_time": "2023-02-24T04:16:09.139Z"
   },
   {
    "duration": 16,
    "start_time": "2023-02-24T04:16:09.151Z"
   },
   {
    "duration": 5,
    "start_time": "2023-02-24T04:16:09.168Z"
   },
   {
    "duration": 10,
    "start_time": "2023-02-24T04:16:09.174Z"
   },
   {
    "duration": 6,
    "start_time": "2023-02-24T04:16:09.185Z"
   },
   {
    "duration": 6,
    "start_time": "2023-02-24T04:16:09.193Z"
   },
   {
    "duration": 3,
    "start_time": "2023-02-24T04:16:09.201Z"
   },
   {
    "duration": 358,
    "start_time": "2023-02-24T04:16:09.205Z"
   },
   {
    "duration": 5,
    "start_time": "2023-02-24T04:16:09.565Z"
   },
   {
    "duration": 314,
    "start_time": "2023-02-24T04:16:09.571Z"
   },
   {
    "duration": 315,
    "start_time": "2023-02-24T04:16:09.887Z"
   },
   {
    "duration": 169,
    "start_time": "2023-02-24T04:16:10.204Z"
   },
   {
    "duration": 322,
    "start_time": "2023-02-24T04:16:10.374Z"
   },
   {
    "duration": 339,
    "start_time": "2023-02-24T04:16:10.698Z"
   },
   {
    "duration": 174,
    "start_time": "2023-02-24T04:16:11.039Z"
   },
   {
    "duration": 170,
    "start_time": "2023-02-24T04:16:11.214Z"
   },
   {
    "duration": 129,
    "start_time": "2023-02-24T04:16:11.386Z"
   },
   {
    "duration": 176,
    "start_time": "2023-02-24T04:16:11.517Z"
   },
   {
    "duration": 171,
    "start_time": "2023-02-24T04:16:11.695Z"
   },
   {
    "duration": 148,
    "start_time": "2023-02-24T04:16:11.867Z"
   },
   {
    "duration": 162,
    "start_time": "2023-02-24T04:16:12.016Z"
   },
   {
    "duration": 148,
    "start_time": "2023-02-24T04:16:12.179Z"
   },
   {
    "duration": 158,
    "start_time": "2023-02-24T04:16:12.328Z"
   },
   {
    "duration": 296,
    "start_time": "2023-02-24T04:16:12.488Z"
   },
   {
    "duration": 164,
    "start_time": "2023-02-24T04:16:12.786Z"
   },
   {
    "duration": 73,
    "start_time": "2023-02-24T04:16:12.952Z"
   },
   {
    "duration": 0,
    "start_time": "2023-02-24T04:16:13.026Z"
   },
   {
    "duration": 0,
    "start_time": "2023-02-24T04:16:13.027Z"
   },
   {
    "duration": 0,
    "start_time": "2023-02-24T04:16:13.028Z"
   },
   {
    "duration": 0,
    "start_time": "2023-02-24T04:16:13.029Z"
   },
   {
    "duration": 0,
    "start_time": "2023-02-24T04:16:13.030Z"
   },
   {
    "duration": 0,
    "start_time": "2023-02-24T04:16:13.031Z"
   },
   {
    "duration": 0,
    "start_time": "2023-02-24T04:16:13.048Z"
   },
   {
    "duration": 0,
    "start_time": "2023-02-24T04:16:13.049Z"
   },
   {
    "duration": 0,
    "start_time": "2023-02-24T04:16:13.050Z"
   },
   {
    "duration": 0,
    "start_time": "2023-02-24T04:16:13.051Z"
   },
   {
    "duration": 0,
    "start_time": "2023-02-24T04:16:13.052Z"
   },
   {
    "duration": 432,
    "start_time": "2023-02-24T04:18:14.967Z"
   },
   {
    "duration": 238,
    "start_time": "2023-02-24T04:18:21.528Z"
   },
   {
    "duration": 236,
    "start_time": "2023-02-24T04:18:38.063Z"
   },
   {
    "duration": 209,
    "start_time": "2023-02-24T04:19:11.605Z"
   },
   {
    "duration": 386,
    "start_time": "2023-02-24T04:19:20.315Z"
   },
   {
    "duration": 291,
    "start_time": "2023-02-24T04:19:31.250Z"
   },
   {
    "duration": 237,
    "start_time": "2023-02-24T04:20:16.705Z"
   },
   {
    "duration": 231,
    "start_time": "2023-02-24T04:20:50.460Z"
   },
   {
    "duration": 238,
    "start_time": "2023-02-24T04:27:13.442Z"
   },
   {
    "duration": 6,
    "start_time": "2023-02-24T04:30:53.881Z"
   },
   {
    "duration": 625,
    "start_time": "2023-02-24T04:34:54.188Z"
   },
   {
    "duration": 99,
    "start_time": "2023-02-24T04:34:54.815Z"
   },
   {
    "duration": 47,
    "start_time": "2023-02-24T04:34:54.916Z"
   },
   {
    "duration": 17,
    "start_time": "2023-02-24T04:34:54.964Z"
   },
   {
    "duration": 4127,
    "start_time": "2023-02-24T04:34:54.982Z"
   },
   {
    "duration": 14,
    "start_time": "2023-02-24T04:34:59.110Z"
   },
   {
    "duration": 8,
    "start_time": "2023-02-24T04:34:59.125Z"
   },
   {
    "duration": 10,
    "start_time": "2023-02-24T04:34:59.135Z"
   },
   {
    "duration": 6,
    "start_time": "2023-02-24T04:34:59.146Z"
   },
   {
    "duration": 20,
    "start_time": "2023-02-24T04:34:59.153Z"
   },
   {
    "duration": 9,
    "start_time": "2023-02-24T04:34:59.174Z"
   },
   {
    "duration": 8,
    "start_time": "2023-02-24T04:34:59.184Z"
   },
   {
    "duration": 8,
    "start_time": "2023-02-24T04:34:59.194Z"
   },
   {
    "duration": 16,
    "start_time": "2023-02-24T04:34:59.203Z"
   },
   {
    "duration": 4,
    "start_time": "2023-02-24T04:34:59.221Z"
   },
   {
    "duration": 79,
    "start_time": "2023-02-24T04:34:59.228Z"
   },
   {
    "duration": 130,
    "start_time": "2023-02-24T04:34:59.308Z"
   },
   {
    "duration": 25,
    "start_time": "2023-02-24T04:34:59.439Z"
   },
   {
    "duration": 9,
    "start_time": "2023-02-24T04:34:59.465Z"
   },
   {
    "duration": 11,
    "start_time": "2023-02-24T04:34:59.475Z"
   },
   {
    "duration": 222,
    "start_time": "2023-02-24T04:34:59.488Z"
   },
   {
    "duration": 92,
    "start_time": "2023-02-24T04:34:59.711Z"
   },
   {
    "duration": 4,
    "start_time": "2023-02-24T04:34:59.805Z"
   },
   {
    "duration": 148,
    "start_time": "2023-02-24T04:34:59.811Z"
   },
   {
    "duration": 23,
    "start_time": "2023-02-24T04:34:59.960Z"
   },
   {
    "duration": 120,
    "start_time": "2023-02-24T04:34:59.985Z"
   },
   {
    "duration": 7,
    "start_time": "2023-02-24T04:35:00.107Z"
   },
   {
    "duration": 16,
    "start_time": "2023-02-24T04:35:00.116Z"
   },
   {
    "duration": 134,
    "start_time": "2023-02-24T04:35:00.134Z"
   },
   {
    "duration": 6,
    "start_time": "2023-02-24T04:35:00.270Z"
   },
   {
    "duration": 41,
    "start_time": "2023-02-24T04:35:00.278Z"
   },
   {
    "duration": 23,
    "start_time": "2023-02-24T04:35:00.321Z"
   },
   {
    "duration": 26,
    "start_time": "2023-02-24T04:35:00.345Z"
   },
   {
    "duration": 10,
    "start_time": "2023-02-24T04:35:00.373Z"
   },
   {
    "duration": 15,
    "start_time": "2023-02-24T04:35:00.385Z"
   },
   {
    "duration": 7,
    "start_time": "2023-02-24T04:35:00.401Z"
   },
   {
    "duration": 375,
    "start_time": "2023-02-24T04:35:00.410Z"
   },
   {
    "duration": 6,
    "start_time": "2023-02-24T04:35:00.786Z"
   },
   {
    "duration": 341,
    "start_time": "2023-02-24T04:35:00.794Z"
   },
   {
    "duration": 331,
    "start_time": "2023-02-24T04:35:01.139Z"
   },
   {
    "duration": 170,
    "start_time": "2023-02-24T04:35:01.472Z"
   },
   {
    "duration": 293,
    "start_time": "2023-02-24T04:35:01.649Z"
   },
   {
    "duration": 368,
    "start_time": "2023-02-24T04:35:01.948Z"
   },
   {
    "duration": 175,
    "start_time": "2023-02-24T04:35:02.318Z"
   },
   {
    "duration": 179,
    "start_time": "2023-02-24T04:35:02.495Z"
   },
   {
    "duration": 127,
    "start_time": "2023-02-24T04:35:02.675Z"
   },
   {
    "duration": 182,
    "start_time": "2023-02-24T04:35:02.804Z"
   },
   {
    "duration": 174,
    "start_time": "2023-02-24T04:35:02.988Z"
   },
   {
    "duration": 148,
    "start_time": "2023-02-24T04:35:03.164Z"
   },
   {
    "duration": 182,
    "start_time": "2023-02-24T04:35:03.315Z"
   },
   {
    "duration": 159,
    "start_time": "2023-02-24T04:35:03.498Z"
   },
   {
    "duration": 177,
    "start_time": "2023-02-24T04:35:03.659Z"
   },
   {
    "duration": 324,
    "start_time": "2023-02-24T04:35:03.838Z"
   },
   {
    "duration": 163,
    "start_time": "2023-02-24T04:35:04.164Z"
   },
   {
    "duration": 6,
    "start_time": "2023-02-24T04:35:04.328Z"
   },
   {
    "duration": 173,
    "start_time": "2023-02-24T04:35:04.336Z"
   },
   {
    "duration": 156,
    "start_time": "2023-02-24T04:35:04.510Z"
   },
   {
    "duration": 130,
    "start_time": "2023-02-24T04:35:04.667Z"
   },
   {
    "duration": 153,
    "start_time": "2023-02-24T04:35:04.799Z"
   },
   {
    "duration": 174,
    "start_time": "2023-02-24T04:35:04.955Z"
   },
   {
    "duration": 161,
    "start_time": "2023-02-24T04:35:05.131Z"
   },
   {
    "duration": 315,
    "start_time": "2023-02-24T04:35:05.294Z"
   },
   {
    "duration": 40,
    "start_time": "2023-02-24T04:35:05.611Z"
   },
   {
    "duration": 8,
    "start_time": "2023-02-24T04:35:05.652Z"
   },
   {
    "duration": 14,
    "start_time": "2023-02-24T04:35:05.663Z"
   },
   {
    "duration": 188,
    "start_time": "2023-02-24T04:35:05.679Z"
   },
   {
    "duration": 6,
    "start_time": "2023-02-24T04:36:22.781Z"
   },
   {
    "duration": 5,
    "start_time": "2023-02-24T04:38:40.899Z"
   },
   {
    "duration": 5,
    "start_time": "2023-02-24T04:40:46.124Z"
   },
   {
    "duration": 72,
    "start_time": "2023-02-24T04:44:15.271Z"
   },
   {
    "duration": 79,
    "start_time": "2023-02-24T04:44:25.039Z"
   },
   {
    "duration": 6984,
    "start_time": "2023-02-24T04:58:11.294Z"
   },
   {
    "duration": 1246,
    "start_time": "2023-02-24T05:02:13.877Z"
   },
   {
    "duration": 643,
    "start_time": "2023-02-24T05:05:37.357Z"
   },
   {
    "duration": 99,
    "start_time": "2023-02-24T05:05:38.002Z"
   },
   {
    "duration": 42,
    "start_time": "2023-02-24T05:05:38.103Z"
   },
   {
    "duration": 15,
    "start_time": "2023-02-24T05:05:38.148Z"
   },
   {
    "duration": 4101,
    "start_time": "2023-02-24T05:05:38.164Z"
   },
   {
    "duration": 12,
    "start_time": "2023-02-24T05:05:42.267Z"
   },
   {
    "duration": 13,
    "start_time": "2023-02-24T05:05:42.281Z"
   },
   {
    "duration": 15,
    "start_time": "2023-02-24T05:05:42.295Z"
   },
   {
    "duration": 6,
    "start_time": "2023-02-24T05:05:42.312Z"
   },
   {
    "duration": 8,
    "start_time": "2023-02-24T05:05:42.321Z"
   },
   {
    "duration": 10,
    "start_time": "2023-02-24T05:05:42.331Z"
   },
   {
    "duration": 4,
    "start_time": "2023-02-24T05:05:42.348Z"
   },
   {
    "duration": 10,
    "start_time": "2023-02-24T05:05:42.353Z"
   },
   {
    "duration": 19,
    "start_time": "2023-02-24T05:05:42.364Z"
   },
   {
    "duration": 8,
    "start_time": "2023-02-24T05:05:42.385Z"
   },
   {
    "duration": 87,
    "start_time": "2023-02-24T05:05:42.395Z"
   },
   {
    "duration": 117,
    "start_time": "2023-02-24T05:05:42.484Z"
   },
   {
    "duration": 13,
    "start_time": "2023-02-24T05:05:42.603Z"
   },
   {
    "duration": 5,
    "start_time": "2023-02-24T05:05:42.617Z"
   },
   {
    "duration": 28,
    "start_time": "2023-02-24T05:05:42.623Z"
   },
   {
    "duration": 227,
    "start_time": "2023-02-24T05:05:42.653Z"
   },
   {
    "duration": 78,
    "start_time": "2023-02-24T05:05:42.882Z"
   },
   {
    "duration": 4,
    "start_time": "2023-02-24T05:05:42.962Z"
   },
   {
    "duration": 117,
    "start_time": "2023-02-24T05:05:42.967Z"
   },
   {
    "duration": 19,
    "start_time": "2023-02-24T05:05:43.086Z"
   },
   {
    "duration": 128,
    "start_time": "2023-02-24T05:05:43.107Z"
   },
   {
    "duration": 13,
    "start_time": "2023-02-24T05:05:43.236Z"
   },
   {
    "duration": 7,
    "start_time": "2023-02-24T05:05:43.254Z"
   },
   {
    "duration": 140,
    "start_time": "2023-02-24T05:05:43.262Z"
   },
   {
    "duration": 7,
    "start_time": "2023-02-24T05:05:43.405Z"
   },
   {
    "duration": 43,
    "start_time": "2023-02-24T05:05:43.413Z"
   },
   {
    "duration": 26,
    "start_time": "2023-02-24T05:05:43.457Z"
   },
   {
    "duration": 28,
    "start_time": "2023-02-24T05:05:43.484Z"
   },
   {
    "duration": 24,
    "start_time": "2023-02-24T05:05:43.514Z"
   },
   {
    "duration": 20,
    "start_time": "2023-02-24T05:05:43.539Z"
   },
   {
    "duration": 23,
    "start_time": "2023-02-24T05:05:43.561Z"
   },
   {
    "duration": 372,
    "start_time": "2023-02-24T05:05:43.585Z"
   },
   {
    "duration": 5,
    "start_time": "2023-02-24T05:05:43.958Z"
   },
   {
    "duration": 318,
    "start_time": "2023-02-24T05:05:43.964Z"
   },
   {
    "duration": 351,
    "start_time": "2023-02-24T05:05:44.283Z"
   },
   {
    "duration": 188,
    "start_time": "2023-02-24T05:05:44.636Z"
   },
   {
    "duration": 325,
    "start_time": "2023-02-24T05:05:44.826Z"
   },
   {
    "duration": 534,
    "start_time": "2023-02-24T05:05:45.152Z"
   },
   {
    "duration": 202,
    "start_time": "2023-02-24T05:05:45.687Z"
   },
   {
    "duration": 175,
    "start_time": "2023-02-24T05:05:45.891Z"
   },
   {
    "duration": 131,
    "start_time": "2023-02-24T05:05:46.068Z"
   },
   {
    "duration": 227,
    "start_time": "2023-02-24T05:05:46.200Z"
   },
   {
    "duration": 179,
    "start_time": "2023-02-24T05:05:46.429Z"
   },
   {
    "duration": 158,
    "start_time": "2023-02-24T05:05:46.609Z"
   },
   {
    "duration": 166,
    "start_time": "2023-02-24T05:05:46.769Z"
   },
   {
    "duration": 158,
    "start_time": "2023-02-24T05:05:46.937Z"
   },
   {
    "duration": 157,
    "start_time": "2023-02-24T05:05:47.098Z"
   },
   {
    "duration": 303,
    "start_time": "2023-02-24T05:05:47.257Z"
   },
   {
    "duration": 177,
    "start_time": "2023-02-24T05:05:47.562Z"
   },
   {
    "duration": 9,
    "start_time": "2023-02-24T05:05:47.740Z"
   },
   {
    "duration": 179,
    "start_time": "2023-02-24T05:05:47.751Z"
   },
   {
    "duration": 16,
    "start_time": "2023-02-24T05:05:47.932Z"
   },
   {
    "duration": 151,
    "start_time": "2023-02-24T05:05:47.950Z"
   },
   {
    "duration": 6,
    "start_time": "2023-02-24T05:05:48.103Z"
   },
   {
    "duration": 152,
    "start_time": "2023-02-24T05:05:48.110Z"
   },
   {
    "duration": 6,
    "start_time": "2023-02-24T05:05:48.264Z"
   },
   {
    "duration": 147,
    "start_time": "2023-02-24T05:05:48.272Z"
   },
   {
    "duration": 150,
    "start_time": "2023-02-24T05:05:48.421Z"
   },
   {
    "duration": 150,
    "start_time": "2023-02-24T05:05:48.573Z"
   },
   {
    "duration": 314,
    "start_time": "2023-02-24T05:05:48.726Z"
   },
   {
    "duration": 29,
    "start_time": "2023-02-24T05:05:49.043Z"
   },
   {
    "duration": 1247,
    "start_time": "2023-02-24T05:05:49.074Z"
   },
   {
    "duration": 0,
    "start_time": "2023-02-24T05:05:50.323Z"
   },
   {
    "duration": 0,
    "start_time": "2023-02-24T05:05:50.324Z"
   },
   {
    "duration": 0,
    "start_time": "2023-02-24T05:05:50.325Z"
   },
   {
    "duration": 7038,
    "start_time": "2023-02-24T05:09:15.876Z"
   },
   {
    "duration": 5588,
    "start_time": "2023-02-24T05:19:54.191Z"
   },
   {
    "duration": 630,
    "start_time": "2023-02-24T05:20:39.128Z"
   },
   {
    "duration": 104,
    "start_time": "2023-02-24T05:20:39.760Z"
   },
   {
    "duration": 43,
    "start_time": "2023-02-24T05:20:39.866Z"
   },
   {
    "duration": 15,
    "start_time": "2023-02-24T05:20:39.911Z"
   },
   {
    "duration": 3918,
    "start_time": "2023-02-24T05:20:39.927Z"
   },
   {
    "duration": 12,
    "start_time": "2023-02-24T05:20:43.847Z"
   },
   {
    "duration": 7,
    "start_time": "2023-02-24T05:20:43.861Z"
   },
   {
    "duration": 11,
    "start_time": "2023-02-24T05:20:43.869Z"
   },
   {
    "duration": 6,
    "start_time": "2023-02-24T05:20:43.882Z"
   },
   {
    "duration": 9,
    "start_time": "2023-02-24T05:20:43.891Z"
   },
   {
    "duration": 9,
    "start_time": "2023-02-24T05:20:43.901Z"
   },
   {
    "duration": 5,
    "start_time": "2023-02-24T05:20:43.912Z"
   },
   {
    "duration": 36,
    "start_time": "2023-02-24T05:20:43.919Z"
   },
   {
    "duration": 20,
    "start_time": "2023-02-24T05:20:43.956Z"
   },
   {
    "duration": 31,
    "start_time": "2023-02-24T05:20:43.977Z"
   },
   {
    "duration": 103,
    "start_time": "2023-02-24T05:20:44.011Z"
   },
   {
    "duration": 118,
    "start_time": "2023-02-24T05:20:44.116Z"
   },
   {
    "duration": 20,
    "start_time": "2023-02-24T05:20:44.236Z"
   },
   {
    "duration": 23,
    "start_time": "2023-02-24T05:20:44.257Z"
   },
   {
    "duration": 10,
    "start_time": "2023-02-24T05:20:44.282Z"
   },
   {
    "duration": 315,
    "start_time": "2023-02-24T05:20:44.293Z"
   },
   {
    "duration": 80,
    "start_time": "2023-02-24T05:20:44.610Z"
   },
   {
    "duration": 4,
    "start_time": "2023-02-24T05:20:44.692Z"
   },
   {
    "duration": 160,
    "start_time": "2023-02-24T05:20:44.697Z"
   },
   {
    "duration": 21,
    "start_time": "2023-02-24T05:20:44.859Z"
   },
   {
    "duration": 135,
    "start_time": "2023-02-24T05:20:44.882Z"
   },
   {
    "duration": 8,
    "start_time": "2023-02-24T05:20:45.020Z"
   },
   {
    "duration": 39,
    "start_time": "2023-02-24T05:20:45.032Z"
   },
   {
    "duration": 146,
    "start_time": "2023-02-24T05:20:45.075Z"
   },
   {
    "duration": 6,
    "start_time": "2023-02-24T05:20:45.223Z"
   },
   {
    "duration": 29,
    "start_time": "2023-02-24T05:20:45.231Z"
   },
   {
    "duration": 20,
    "start_time": "2023-02-24T05:20:45.263Z"
   },
   {
    "duration": 34,
    "start_time": "2023-02-24T05:20:45.285Z"
   },
   {
    "duration": 13,
    "start_time": "2023-02-24T05:20:45.321Z"
   },
   {
    "duration": 23,
    "start_time": "2023-02-24T05:20:45.335Z"
   },
   {
    "duration": 37,
    "start_time": "2023-02-24T05:20:45.360Z"
   },
   {
    "duration": 349,
    "start_time": "2023-02-24T05:20:45.399Z"
   },
   {
    "duration": 4,
    "start_time": "2023-02-24T05:20:45.750Z"
   },
   {
    "duration": 323,
    "start_time": "2023-02-24T05:20:45.756Z"
   },
   {
    "duration": 306,
    "start_time": "2023-02-24T05:20:46.081Z"
   },
   {
    "duration": 233,
    "start_time": "2023-02-24T05:20:46.389Z"
   },
   {
    "duration": 330,
    "start_time": "2023-02-24T05:20:46.624Z"
   },
   {
    "duration": 202,
    "start_time": "2023-02-24T05:20:46.955Z"
   },
   {
    "duration": 176,
    "start_time": "2023-02-24T05:20:47.159Z"
   },
   {
    "duration": 173,
    "start_time": "2023-02-24T05:20:47.336Z"
   },
   {
    "duration": 118,
    "start_time": "2023-02-24T05:20:47.510Z"
   },
   {
    "duration": 181,
    "start_time": "2023-02-24T05:20:47.630Z"
   },
   {
    "duration": 172,
    "start_time": "2023-02-24T05:20:47.813Z"
   },
   {
    "duration": 152,
    "start_time": "2023-02-24T05:20:47.987Z"
   },
   {
    "duration": 163,
    "start_time": "2023-02-24T05:20:48.140Z"
   },
   {
    "duration": 237,
    "start_time": "2023-02-24T05:20:48.305Z"
   },
   {
    "duration": 162,
    "start_time": "2023-02-24T05:20:48.548Z"
   },
   {
    "duration": 296,
    "start_time": "2023-02-24T05:20:48.711Z"
   },
   {
    "duration": 171,
    "start_time": "2023-02-24T05:20:49.008Z"
   },
   {
    "duration": 6,
    "start_time": "2023-02-24T05:20:49.180Z"
   },
   {
    "duration": 168,
    "start_time": "2023-02-24T05:20:49.187Z"
   },
   {
    "duration": 7,
    "start_time": "2023-02-24T05:20:49.357Z"
   },
   {
    "duration": 166,
    "start_time": "2023-02-24T05:20:49.365Z"
   },
   {
    "duration": 5,
    "start_time": "2023-02-24T05:20:49.533Z"
   },
   {
    "duration": 141,
    "start_time": "2023-02-24T05:20:49.540Z"
   },
   {
    "duration": 6,
    "start_time": "2023-02-24T05:20:49.683Z"
   },
   {
    "duration": 148,
    "start_time": "2023-02-24T05:20:49.691Z"
   },
   {
    "duration": 150,
    "start_time": "2023-02-24T05:20:49.841Z"
   },
   {
    "duration": 151,
    "start_time": "2023-02-24T05:20:49.993Z"
   },
   {
    "duration": 217,
    "start_time": "2023-02-24T05:20:50.148Z"
   },
   {
    "duration": 25,
    "start_time": "2023-02-24T05:20:50.366Z"
   },
   {
    "duration": 7,
    "start_time": "2023-02-24T05:20:50.393Z"
   },
   {
    "duration": 9,
    "start_time": "2023-02-24T05:20:50.401Z"
   },
   {
    "duration": 215,
    "start_time": "2023-02-24T05:20:50.412Z"
   },
   {
    "duration": 31,
    "start_time": "2023-02-24T05:30:47.824Z"
   },
   {
    "duration": 639,
    "start_time": "2023-02-24T05:30:58.949Z"
   },
   {
    "duration": 98,
    "start_time": "2023-02-24T05:30:59.591Z"
   },
   {
    "duration": 41,
    "start_time": "2023-02-24T05:30:59.691Z"
   },
   {
    "duration": 24,
    "start_time": "2023-02-24T05:30:59.734Z"
   },
   {
    "duration": 3994,
    "start_time": "2023-02-24T05:30:59.759Z"
   },
   {
    "duration": 12,
    "start_time": "2023-02-24T05:31:03.754Z"
   },
   {
    "duration": 11,
    "start_time": "2023-02-24T05:31:03.768Z"
   },
   {
    "duration": 9,
    "start_time": "2023-02-24T05:31:03.781Z"
   },
   {
    "duration": 10,
    "start_time": "2023-02-24T05:31:03.793Z"
   },
   {
    "duration": 5,
    "start_time": "2023-02-24T05:31:03.806Z"
   },
   {
    "duration": 39,
    "start_time": "2023-02-24T05:31:03.813Z"
   },
   {
    "duration": 6,
    "start_time": "2023-02-24T05:31:03.854Z"
   },
   {
    "duration": 36,
    "start_time": "2023-02-24T05:31:03.862Z"
   },
   {
    "duration": 6,
    "start_time": "2023-02-24T05:31:03.900Z"
   },
   {
    "duration": 18,
    "start_time": "2023-02-24T05:31:03.908Z"
   },
   {
    "duration": 21,
    "start_time": "2023-02-24T05:31:03.928Z"
   },
   {
    "duration": 66,
    "start_time": "2023-02-24T05:31:03.951Z"
   },
   {
    "duration": 138,
    "start_time": "2023-02-24T05:31:04.019Z"
   },
   {
    "duration": 12,
    "start_time": "2023-02-24T05:31:04.159Z"
   },
   {
    "duration": 4,
    "start_time": "2023-02-24T05:31:04.173Z"
   },
   {
    "duration": 9,
    "start_time": "2023-02-24T05:31:04.179Z"
   },
   {
    "duration": 308,
    "start_time": "2023-02-24T05:31:04.189Z"
   },
   {
    "duration": 90,
    "start_time": "2023-02-24T05:31:04.498Z"
   },
   {
    "duration": 4,
    "start_time": "2023-02-24T05:31:04.589Z"
   },
   {
    "duration": 126,
    "start_time": "2023-02-24T05:31:04.595Z"
   },
   {
    "duration": 29,
    "start_time": "2023-02-24T05:31:04.722Z"
   },
   {
    "duration": 109,
    "start_time": "2023-02-24T05:31:04.752Z"
   },
   {
    "duration": 7,
    "start_time": "2023-02-24T05:31:04.866Z"
   },
   {
    "duration": 9,
    "start_time": "2023-02-24T05:31:04.875Z"
   },
   {
    "duration": 142,
    "start_time": "2023-02-24T05:31:04.886Z"
   },
   {
    "duration": 21,
    "start_time": "2023-02-24T05:31:05.030Z"
   },
   {
    "duration": 16,
    "start_time": "2023-02-24T05:31:05.053Z"
   },
   {
    "duration": 6,
    "start_time": "2023-02-24T05:31:05.071Z"
   },
   {
    "duration": 12,
    "start_time": "2023-02-24T05:31:05.078Z"
   },
   {
    "duration": 8,
    "start_time": "2023-02-24T05:31:05.091Z"
   },
   {
    "duration": 6,
    "start_time": "2023-02-24T05:31:05.101Z"
   },
   {
    "duration": 3,
    "start_time": "2023-02-24T05:31:05.109Z"
   },
   {
    "duration": 367,
    "start_time": "2023-02-24T05:31:05.114Z"
   },
   {
    "duration": 5,
    "start_time": "2023-02-24T05:31:05.484Z"
   },
   {
    "duration": 334,
    "start_time": "2023-02-24T05:31:05.491Z"
   },
   {
    "duration": 313,
    "start_time": "2023-02-24T05:31:05.827Z"
   },
   {
    "duration": 297,
    "start_time": "2023-02-24T05:31:06.142Z"
   },
   {
    "duration": 305,
    "start_time": "2023-02-24T05:31:06.450Z"
   },
   {
    "duration": 191,
    "start_time": "2023-02-24T05:31:06.757Z"
   },
   {
    "duration": 176,
    "start_time": "2023-02-24T05:31:06.950Z"
   },
   {
    "duration": 159,
    "start_time": "2023-02-24T05:31:07.128Z"
   },
   {
    "duration": 128,
    "start_time": "2023-02-24T05:31:07.289Z"
   },
   {
    "duration": 186,
    "start_time": "2023-02-24T05:31:07.420Z"
   },
   {
    "duration": 171,
    "start_time": "2023-02-24T05:31:07.607Z"
   },
   {
    "duration": 155,
    "start_time": "2023-02-24T05:31:07.780Z"
   },
   {
    "duration": 170,
    "start_time": "2023-02-24T05:31:07.937Z"
   },
   {
    "duration": 227,
    "start_time": "2023-02-24T05:31:08.109Z"
   },
   {
    "duration": 160,
    "start_time": "2023-02-24T05:31:08.338Z"
   },
   {
    "duration": 312,
    "start_time": "2023-02-24T05:31:08.499Z"
   },
   {
    "duration": 172,
    "start_time": "2023-02-24T05:31:08.813Z"
   },
   {
    "duration": 6,
    "start_time": "2023-02-24T05:31:08.986Z"
   },
   {
    "duration": 183,
    "start_time": "2023-02-24T05:31:08.993Z"
   },
   {
    "duration": 5,
    "start_time": "2023-02-24T05:31:09.178Z"
   },
   {
    "duration": 163,
    "start_time": "2023-02-24T05:31:09.185Z"
   },
   {
    "duration": 5,
    "start_time": "2023-02-24T05:31:09.350Z"
   },
   {
    "duration": 157,
    "start_time": "2023-02-24T05:31:09.357Z"
   },
   {
    "duration": 5,
    "start_time": "2023-02-24T05:31:09.516Z"
   },
   {
    "duration": 159,
    "start_time": "2023-02-24T05:31:09.523Z"
   },
   {
    "duration": 158,
    "start_time": "2023-02-24T05:31:09.684Z"
   },
   {
    "duration": 148,
    "start_time": "2023-02-24T05:31:09.844Z"
   },
   {
    "duration": 228,
    "start_time": "2023-02-24T05:31:09.993Z"
   },
   {
    "duration": 39,
    "start_time": "2023-02-24T05:31:10.222Z"
   },
   {
    "duration": 25,
    "start_time": "2023-02-24T05:31:10.263Z"
   },
   {
    "duration": 48,
    "start_time": "2023-02-24T05:31:10.291Z"
   },
   {
    "duration": 211,
    "start_time": "2023-02-24T05:31:10.341Z"
   },
   {
    "duration": 6,
    "start_time": "2023-02-24T05:36:01.040Z"
   },
   {
    "duration": 605,
    "start_time": "2023-02-24T05:36:11.797Z"
   },
   {
    "duration": 94,
    "start_time": "2023-02-24T05:36:12.404Z"
   },
   {
    "duration": 45,
    "start_time": "2023-02-24T05:36:12.499Z"
   },
   {
    "duration": 15,
    "start_time": "2023-02-24T05:36:12.548Z"
   },
   {
    "duration": 4113,
    "start_time": "2023-02-24T05:36:12.564Z"
   },
   {
    "duration": 11,
    "start_time": "2023-02-24T05:36:16.679Z"
   },
   {
    "duration": 12,
    "start_time": "2023-02-24T05:36:16.692Z"
   },
   {
    "duration": 8,
    "start_time": "2023-02-24T05:36:16.705Z"
   },
   {
    "duration": 8,
    "start_time": "2023-02-24T05:36:16.715Z"
   },
   {
    "duration": 5,
    "start_time": "2023-02-24T05:36:16.725Z"
   },
   {
    "duration": 18,
    "start_time": "2023-02-24T05:36:16.731Z"
   },
   {
    "duration": 4,
    "start_time": "2023-02-24T05:36:16.751Z"
   },
   {
    "duration": 32,
    "start_time": "2023-02-24T05:36:16.756Z"
   },
   {
    "duration": 7,
    "start_time": "2023-02-24T05:36:16.790Z"
   },
   {
    "duration": 7,
    "start_time": "2023-02-24T05:36:16.798Z"
   },
   {
    "duration": 47,
    "start_time": "2023-02-24T05:36:16.806Z"
   },
   {
    "duration": 8,
    "start_time": "2023-02-24T05:36:16.854Z"
   },
   {
    "duration": 73,
    "start_time": "2023-02-24T05:36:16.864Z"
   },
   {
    "duration": 136,
    "start_time": "2023-02-24T05:36:16.938Z"
   },
   {
    "duration": 14,
    "start_time": "2023-02-24T05:36:17.075Z"
   },
   {
    "duration": 5,
    "start_time": "2023-02-24T05:36:17.091Z"
   },
   {
    "duration": 6,
    "start_time": "2023-02-24T05:36:17.098Z"
   },
   {
    "duration": 325,
    "start_time": "2023-02-24T05:36:17.105Z"
   },
   {
    "duration": 81,
    "start_time": "2023-02-24T05:36:17.431Z"
   },
   {
    "duration": 4,
    "start_time": "2023-02-24T05:36:17.513Z"
   },
   {
    "duration": 125,
    "start_time": "2023-02-24T05:36:17.519Z"
   },
   {
    "duration": 23,
    "start_time": "2023-02-24T05:36:17.645Z"
   },
   {
    "duration": 124,
    "start_time": "2023-02-24T05:36:17.671Z"
   },
   {
    "duration": 6,
    "start_time": "2023-02-24T05:36:17.797Z"
   },
   {
    "duration": 6,
    "start_time": "2023-02-24T05:36:17.805Z"
   },
   {
    "duration": 142,
    "start_time": "2023-02-24T05:36:17.812Z"
   },
   {
    "duration": 6,
    "start_time": "2023-02-24T05:36:17.956Z"
   },
   {
    "duration": 13,
    "start_time": "2023-02-24T05:36:17.963Z"
   },
   {
    "duration": 5,
    "start_time": "2023-02-24T05:36:17.977Z"
   },
   {
    "duration": 7,
    "start_time": "2023-02-24T05:36:17.983Z"
   },
   {
    "duration": 10,
    "start_time": "2023-02-24T05:36:17.991Z"
   },
   {
    "duration": 6,
    "start_time": "2023-02-24T05:36:18.003Z"
   },
   {
    "duration": 4,
    "start_time": "2023-02-24T05:36:18.010Z"
   },
   {
    "duration": 382,
    "start_time": "2023-02-24T05:36:18.015Z"
   },
   {
    "duration": 4,
    "start_time": "2023-02-24T05:36:18.399Z"
   },
   {
    "duration": 324,
    "start_time": "2023-02-24T05:36:18.404Z"
   },
   {
    "duration": 319,
    "start_time": "2023-02-24T05:36:18.729Z"
   },
   {
    "duration": 232,
    "start_time": "2023-02-24T05:36:19.050Z"
   },
   {
    "duration": 290,
    "start_time": "2023-02-24T05:36:19.284Z"
   },
   {
    "duration": 209,
    "start_time": "2023-02-24T05:36:19.576Z"
   },
   {
    "duration": 182,
    "start_time": "2023-02-24T05:36:19.787Z"
   },
   {
    "duration": 167,
    "start_time": "2023-02-24T05:36:19.971Z"
   },
   {
    "duration": 126,
    "start_time": "2023-02-24T05:36:20.140Z"
   },
   {
    "duration": 174,
    "start_time": "2023-02-24T05:36:20.267Z"
   },
   {
    "duration": 169,
    "start_time": "2023-02-24T05:36:20.442Z"
   },
   {
    "duration": 153,
    "start_time": "2023-02-24T05:36:20.613Z"
   },
   {
    "duration": 162,
    "start_time": "2023-02-24T05:36:20.768Z"
   },
   {
    "duration": 216,
    "start_time": "2023-02-24T05:36:20.932Z"
   },
   {
    "duration": 151,
    "start_time": "2023-02-24T05:36:21.150Z"
   },
   {
    "duration": 298,
    "start_time": "2023-02-24T05:36:21.303Z"
   },
   {
    "duration": 169,
    "start_time": "2023-02-24T05:36:21.602Z"
   },
   {
    "duration": 5,
    "start_time": "2023-02-24T05:36:21.773Z"
   },
   {
    "duration": 171,
    "start_time": "2023-02-24T05:36:21.780Z"
   },
   {
    "duration": 5,
    "start_time": "2023-02-24T05:36:21.953Z"
   },
   {
    "duration": 154,
    "start_time": "2023-02-24T05:36:21.960Z"
   },
   {
    "duration": 5,
    "start_time": "2023-02-24T05:36:22.115Z"
   },
   {
    "duration": 139,
    "start_time": "2023-02-24T05:36:22.122Z"
   },
   {
    "duration": 5,
    "start_time": "2023-02-24T05:36:22.262Z"
   },
   {
    "duration": 143,
    "start_time": "2023-02-24T05:36:22.268Z"
   },
   {
    "duration": 152,
    "start_time": "2023-02-24T05:36:22.413Z"
   },
   {
    "duration": 149,
    "start_time": "2023-02-24T05:36:22.567Z"
   },
   {
    "duration": 213,
    "start_time": "2023-02-24T05:36:22.718Z"
   },
   {
    "duration": 28,
    "start_time": "2023-02-24T05:36:22.933Z"
   },
   {
    "duration": 7,
    "start_time": "2023-02-24T05:36:22.962Z"
   },
   {
    "duration": 7,
    "start_time": "2023-02-24T05:36:22.971Z"
   },
   {
    "duration": 172,
    "start_time": "2023-02-24T05:36:22.980Z"
   },
   {
    "duration": 88,
    "start_time": "2023-02-24T05:42:10.166Z"
   },
   {
    "duration": 667,
    "start_time": "2023-02-24T05:42:18.526Z"
   },
   {
    "duration": 94,
    "start_time": "2023-02-24T05:42:19.195Z"
   },
   {
    "duration": 44,
    "start_time": "2023-02-24T05:42:19.291Z"
   },
   {
    "duration": 19,
    "start_time": "2023-02-24T05:42:19.337Z"
   },
   {
    "duration": 3960,
    "start_time": "2023-02-24T05:42:19.357Z"
   },
   {
    "duration": 12,
    "start_time": "2023-02-24T05:42:23.318Z"
   },
   {
    "duration": 82,
    "start_time": "2023-02-24T05:42:23.331Z"
   },
   {
    "duration": 0,
    "start_time": "2023-02-24T05:42:23.417Z"
   },
   {
    "duration": 0,
    "start_time": "2023-02-24T05:42:23.418Z"
   },
   {
    "duration": 0,
    "start_time": "2023-02-24T05:42:23.419Z"
   },
   {
    "duration": 0,
    "start_time": "2023-02-24T05:42:23.421Z"
   },
   {
    "duration": 0,
    "start_time": "2023-02-24T05:42:23.422Z"
   },
   {
    "duration": 0,
    "start_time": "2023-02-24T05:42:23.423Z"
   },
   {
    "duration": 0,
    "start_time": "2023-02-24T05:42:23.424Z"
   },
   {
    "duration": 0,
    "start_time": "2023-02-24T05:42:23.426Z"
   },
   {
    "duration": 0,
    "start_time": "2023-02-24T05:42:23.428Z"
   },
   {
    "duration": 0,
    "start_time": "2023-02-24T05:42:23.429Z"
   },
   {
    "duration": 0,
    "start_time": "2023-02-24T05:42:23.449Z"
   },
   {
    "duration": 0,
    "start_time": "2023-02-24T05:42:23.450Z"
   },
   {
    "duration": 0,
    "start_time": "2023-02-24T05:42:23.452Z"
   },
   {
    "duration": 0,
    "start_time": "2023-02-24T05:42:23.453Z"
   },
   {
    "duration": 0,
    "start_time": "2023-02-24T05:42:23.454Z"
   },
   {
    "duration": 0,
    "start_time": "2023-02-24T05:42:23.455Z"
   },
   {
    "duration": 0,
    "start_time": "2023-02-24T05:42:23.456Z"
   },
   {
    "duration": 0,
    "start_time": "2023-02-24T05:42:23.457Z"
   },
   {
    "duration": 0,
    "start_time": "2023-02-24T05:42:23.459Z"
   },
   {
    "duration": 0,
    "start_time": "2023-02-24T05:42:23.460Z"
   },
   {
    "duration": 0,
    "start_time": "2023-02-24T05:42:23.461Z"
   },
   {
    "duration": 0,
    "start_time": "2023-02-24T05:42:23.462Z"
   },
   {
    "duration": 0,
    "start_time": "2023-02-24T05:42:23.463Z"
   },
   {
    "duration": 0,
    "start_time": "2023-02-24T05:42:23.465Z"
   },
   {
    "duration": 0,
    "start_time": "2023-02-24T05:42:23.466Z"
   },
   {
    "duration": 0,
    "start_time": "2023-02-24T05:42:23.467Z"
   },
   {
    "duration": 0,
    "start_time": "2023-02-24T05:42:23.469Z"
   },
   {
    "duration": 0,
    "start_time": "2023-02-24T05:42:23.470Z"
   },
   {
    "duration": 0,
    "start_time": "2023-02-24T05:42:23.471Z"
   },
   {
    "duration": 0,
    "start_time": "2023-02-24T05:42:23.473Z"
   },
   {
    "duration": 0,
    "start_time": "2023-02-24T05:42:23.474Z"
   },
   {
    "duration": 0,
    "start_time": "2023-02-24T05:42:23.475Z"
   },
   {
    "duration": 0,
    "start_time": "2023-02-24T05:42:23.476Z"
   },
   {
    "duration": 0,
    "start_time": "2023-02-24T05:42:23.477Z"
   },
   {
    "duration": 0,
    "start_time": "2023-02-24T05:42:23.479Z"
   },
   {
    "duration": 0,
    "start_time": "2023-02-24T05:42:23.480Z"
   },
   {
    "duration": 0,
    "start_time": "2023-02-24T05:42:23.482Z"
   },
   {
    "duration": 0,
    "start_time": "2023-02-24T05:42:23.484Z"
   },
   {
    "duration": 0,
    "start_time": "2023-02-24T05:42:23.485Z"
   },
   {
    "duration": 0,
    "start_time": "2023-02-24T05:42:23.486Z"
   },
   {
    "duration": 0,
    "start_time": "2023-02-24T05:42:23.488Z"
   },
   {
    "duration": 0,
    "start_time": "2023-02-24T05:42:23.488Z"
   },
   {
    "duration": 0,
    "start_time": "2023-02-24T05:42:23.489Z"
   },
   {
    "duration": 0,
    "start_time": "2023-02-24T05:42:23.490Z"
   },
   {
    "duration": 0,
    "start_time": "2023-02-24T05:42:23.491Z"
   },
   {
    "duration": 0,
    "start_time": "2023-02-24T05:42:23.549Z"
   },
   {
    "duration": 0,
    "start_time": "2023-02-24T05:42:23.550Z"
   },
   {
    "duration": 0,
    "start_time": "2023-02-24T05:42:23.551Z"
   },
   {
    "duration": 0,
    "start_time": "2023-02-24T05:42:23.553Z"
   },
   {
    "duration": 0,
    "start_time": "2023-02-24T05:42:23.554Z"
   },
   {
    "duration": 0,
    "start_time": "2023-02-24T05:42:23.554Z"
   },
   {
    "duration": 0,
    "start_time": "2023-02-24T05:42:23.555Z"
   },
   {
    "duration": 0,
    "start_time": "2023-02-24T05:42:23.556Z"
   },
   {
    "duration": 0,
    "start_time": "2023-02-24T05:42:23.558Z"
   },
   {
    "duration": 0,
    "start_time": "2023-02-24T05:42:23.559Z"
   },
   {
    "duration": 0,
    "start_time": "2023-02-24T05:42:23.560Z"
   },
   {
    "duration": 0,
    "start_time": "2023-02-24T05:42:23.561Z"
   },
   {
    "duration": 0,
    "start_time": "2023-02-24T05:42:23.562Z"
   },
   {
    "duration": 0,
    "start_time": "2023-02-24T05:42:23.563Z"
   },
   {
    "duration": 0,
    "start_time": "2023-02-24T05:42:23.564Z"
   },
   {
    "duration": 0,
    "start_time": "2023-02-24T05:42:23.565Z"
   },
   {
    "duration": 0,
    "start_time": "2023-02-24T05:42:23.566Z"
   },
   {
    "duration": 0,
    "start_time": "2023-02-24T05:42:23.567Z"
   },
   {
    "duration": 0,
    "start_time": "2023-02-24T05:42:23.568Z"
   },
   {
    "duration": 0,
    "start_time": "2023-02-24T05:42:23.569Z"
   },
   {
    "duration": 49,
    "start_time": "2023-02-24T05:43:28.030Z"
   },
   {
    "duration": 658,
    "start_time": "2023-02-24T05:43:49.135Z"
   },
   {
    "duration": 96,
    "start_time": "2023-02-24T05:43:49.795Z"
   },
   {
    "duration": 41,
    "start_time": "2023-02-24T05:43:49.892Z"
   },
   {
    "duration": 20,
    "start_time": "2023-02-24T05:43:49.935Z"
   },
   {
    "duration": 3949,
    "start_time": "2023-02-24T05:43:49.956Z"
   },
   {
    "duration": 13,
    "start_time": "2023-02-24T05:43:53.907Z"
   },
   {
    "duration": 67,
    "start_time": "2023-02-24T05:43:53.922Z"
   },
   {
    "duration": 7,
    "start_time": "2023-02-24T05:43:53.991Z"
   },
   {
    "duration": 9,
    "start_time": "2023-02-24T05:43:53.999Z"
   },
   {
    "duration": 5,
    "start_time": "2023-02-24T05:43:54.010Z"
   },
   {
    "duration": 5,
    "start_time": "2023-02-24T05:43:54.017Z"
   },
   {
    "duration": 30,
    "start_time": "2023-02-24T05:43:54.023Z"
   },
   {
    "duration": 5,
    "start_time": "2023-02-24T05:43:54.055Z"
   },
   {
    "duration": 34,
    "start_time": "2023-02-24T05:43:54.062Z"
   },
   {
    "duration": 6,
    "start_time": "2023-02-24T05:43:54.097Z"
   },
   {
    "duration": 7,
    "start_time": "2023-02-24T05:43:54.104Z"
   },
   {
    "duration": 45,
    "start_time": "2023-02-24T05:43:54.113Z"
   },
   {
    "duration": 7,
    "start_time": "2023-02-24T05:43:54.159Z"
   },
   {
    "duration": 82,
    "start_time": "2023-02-24T05:43:54.168Z"
   },
   {
    "duration": 123,
    "start_time": "2023-02-24T05:43:54.252Z"
   },
   {
    "duration": 13,
    "start_time": "2023-02-24T05:43:54.377Z"
   },
   {
    "duration": 5,
    "start_time": "2023-02-24T05:43:54.392Z"
   },
   {
    "duration": 7,
    "start_time": "2023-02-24T05:43:54.399Z"
   },
   {
    "duration": 333,
    "start_time": "2023-02-24T05:43:54.408Z"
   },
   {
    "duration": 76,
    "start_time": "2023-02-24T05:43:54.743Z"
   },
   {
    "duration": 5,
    "start_time": "2023-02-24T05:43:54.821Z"
   },
   {
    "duration": 136,
    "start_time": "2023-02-24T05:43:54.828Z"
   },
   {
    "duration": 21,
    "start_time": "2023-02-24T05:43:54.969Z"
   },
   {
    "duration": 133,
    "start_time": "2023-02-24T05:43:54.992Z"
   },
   {
    "duration": 7,
    "start_time": "2023-02-24T05:43:55.127Z"
   },
   {
    "duration": 18,
    "start_time": "2023-02-24T05:43:55.136Z"
   },
   {
    "duration": 124,
    "start_time": "2023-02-24T05:43:55.157Z"
   },
   {
    "duration": 7,
    "start_time": "2023-02-24T05:43:55.282Z"
   },
   {
    "duration": 13,
    "start_time": "2023-02-24T05:43:55.290Z"
   },
   {
    "duration": 5,
    "start_time": "2023-02-24T05:43:55.305Z"
   },
   {
    "duration": 7,
    "start_time": "2023-02-24T05:43:55.312Z"
   },
   {
    "duration": 29,
    "start_time": "2023-02-24T05:43:55.321Z"
   },
   {
    "duration": 5,
    "start_time": "2023-02-24T05:43:55.352Z"
   },
   {
    "duration": 3,
    "start_time": "2023-02-24T05:43:55.359Z"
   },
   {
    "duration": 345,
    "start_time": "2023-02-24T05:43:55.364Z"
   },
   {
    "duration": 5,
    "start_time": "2023-02-24T05:43:55.711Z"
   },
   {
    "duration": 311,
    "start_time": "2023-02-24T05:43:55.718Z"
   },
   {
    "duration": 356,
    "start_time": "2023-02-24T05:43:56.031Z"
   },
   {
    "duration": 251,
    "start_time": "2023-02-24T05:43:56.388Z"
   },
   {
    "duration": 287,
    "start_time": "2023-02-24T05:43:56.649Z"
   },
   {
    "duration": 197,
    "start_time": "2023-02-24T05:43:56.938Z"
   },
   {
    "duration": 192,
    "start_time": "2023-02-24T05:43:57.137Z"
   },
   {
    "duration": 171,
    "start_time": "2023-02-24T05:43:57.331Z"
   },
   {
    "duration": 123,
    "start_time": "2023-02-24T05:43:57.504Z"
   },
   {
    "duration": 191,
    "start_time": "2023-02-24T05:43:57.630Z"
   },
   {
    "duration": 174,
    "start_time": "2023-02-24T05:43:57.823Z"
   },
   {
    "duration": 149,
    "start_time": "2023-02-24T05:43:57.999Z"
   },
   {
    "duration": 174,
    "start_time": "2023-02-24T05:43:58.150Z"
   },
   {
    "duration": 229,
    "start_time": "2023-02-24T05:43:58.326Z"
   },
   {
    "duration": 160,
    "start_time": "2023-02-24T05:43:58.557Z"
   },
   {
    "duration": 302,
    "start_time": "2023-02-24T05:43:58.719Z"
   },
   {
    "duration": 168,
    "start_time": "2023-02-24T05:43:59.022Z"
   },
   {
    "duration": 6,
    "start_time": "2023-02-24T05:43:59.191Z"
   },
   {
    "duration": 173,
    "start_time": "2023-02-24T05:43:59.199Z"
   },
   {
    "duration": 6,
    "start_time": "2023-02-24T05:43:59.373Z"
   },
   {
    "duration": 154,
    "start_time": "2023-02-24T05:43:59.380Z"
   },
   {
    "duration": 13,
    "start_time": "2023-02-24T05:43:59.536Z"
   },
   {
    "duration": 136,
    "start_time": "2023-02-24T05:43:59.551Z"
   },
   {
    "duration": 7,
    "start_time": "2023-02-24T05:43:59.689Z"
   },
   {
    "duration": 150,
    "start_time": "2023-02-24T05:43:59.698Z"
   },
   {
    "duration": 154,
    "start_time": "2023-02-24T05:43:59.850Z"
   },
   {
    "duration": 151,
    "start_time": "2023-02-24T05:44:00.007Z"
   },
   {
    "duration": 227,
    "start_time": "2023-02-24T05:44:00.160Z"
   },
   {
    "duration": 27,
    "start_time": "2023-02-24T05:44:00.389Z"
   },
   {
    "duration": 36,
    "start_time": "2023-02-24T05:44:00.417Z"
   },
   {
    "duration": 43,
    "start_time": "2023-02-24T05:44:00.455Z"
   },
   {
    "duration": 182,
    "start_time": "2023-02-24T05:44:00.500Z"
   },
   {
    "duration": 79,
    "start_time": "2023-02-24T05:45:12.563Z"
   },
   {
    "duration": 5,
    "start_time": "2023-02-24T05:49:01.905Z"
   },
   {
    "duration": 5,
    "start_time": "2023-02-24T05:49:46.965Z"
   },
   {
    "duration": 616,
    "start_time": "2023-02-24T05:49:53.393Z"
   },
   {
    "duration": 100,
    "start_time": "2023-02-24T05:49:54.010Z"
   },
   {
    "duration": 50,
    "start_time": "2023-02-24T05:49:54.112Z"
   },
   {
    "duration": 17,
    "start_time": "2023-02-24T05:49:54.164Z"
   },
   {
    "duration": 4050,
    "start_time": "2023-02-24T05:49:54.182Z"
   },
   {
    "duration": 11,
    "start_time": "2023-02-24T05:49:58.234Z"
   },
   {
    "duration": 7,
    "start_time": "2023-02-24T05:49:58.246Z"
   },
   {
    "duration": 7,
    "start_time": "2023-02-24T05:49:58.255Z"
   },
   {
    "duration": 7,
    "start_time": "2023-02-24T05:49:58.264Z"
   },
   {
    "duration": 4,
    "start_time": "2023-02-24T05:49:58.274Z"
   },
   {
    "duration": 6,
    "start_time": "2023-02-24T05:49:58.279Z"
   },
   {
    "duration": 8,
    "start_time": "2023-02-24T05:49:58.286Z"
   },
   {
    "duration": 4,
    "start_time": "2023-02-24T05:49:58.296Z"
   },
   {
    "duration": 68,
    "start_time": "2023-02-24T05:49:58.302Z"
   },
   {
    "duration": 6,
    "start_time": "2023-02-24T05:49:58.371Z"
   },
   {
    "duration": 6,
    "start_time": "2023-02-24T05:49:58.379Z"
   },
   {
    "duration": 22,
    "start_time": "2023-02-24T05:49:58.387Z"
   },
   {
    "duration": 9,
    "start_time": "2023-02-24T05:49:58.411Z"
   },
   {
    "duration": 86,
    "start_time": "2023-02-24T05:49:58.421Z"
   },
   {
    "duration": 123,
    "start_time": "2023-02-24T05:49:58.508Z"
   },
   {
    "duration": 20,
    "start_time": "2023-02-24T05:49:58.633Z"
   },
   {
    "duration": 4,
    "start_time": "2023-02-24T05:49:58.655Z"
   },
   {
    "duration": 8,
    "start_time": "2023-02-24T05:49:58.660Z"
   },
   {
    "duration": 320,
    "start_time": "2023-02-24T05:49:58.670Z"
   },
   {
    "duration": 79,
    "start_time": "2023-02-24T05:49:58.992Z"
   },
   {
    "duration": 4,
    "start_time": "2023-02-24T05:49:59.073Z"
   },
   {
    "duration": 118,
    "start_time": "2023-02-24T05:49:59.078Z"
   },
   {
    "duration": 20,
    "start_time": "2023-02-24T05:49:59.200Z"
   },
   {
    "duration": 117,
    "start_time": "2023-02-24T05:49:59.221Z"
   },
   {
    "duration": 13,
    "start_time": "2023-02-24T05:49:59.340Z"
   },
   {
    "duration": 6,
    "start_time": "2023-02-24T05:49:59.355Z"
   },
   {
    "duration": 134,
    "start_time": "2023-02-24T05:49:59.363Z"
   },
   {
    "duration": 7,
    "start_time": "2023-02-24T05:49:59.498Z"
   },
   {
    "duration": 13,
    "start_time": "2023-02-24T05:49:59.506Z"
   },
   {
    "duration": 4,
    "start_time": "2023-02-24T05:49:59.521Z"
   },
   {
    "duration": 23,
    "start_time": "2023-02-24T05:49:59.527Z"
   },
   {
    "duration": 8,
    "start_time": "2023-02-24T05:49:59.551Z"
   },
   {
    "duration": 5,
    "start_time": "2023-02-24T05:49:59.561Z"
   },
   {
    "duration": 13,
    "start_time": "2023-02-24T05:49:59.568Z"
   },
   {
    "duration": 328,
    "start_time": "2023-02-24T05:49:59.582Z"
   },
   {
    "duration": 4,
    "start_time": "2023-02-24T05:49:59.912Z"
   },
   {
    "duration": 317,
    "start_time": "2023-02-24T05:49:59.918Z"
   },
   {
    "duration": 319,
    "start_time": "2023-02-24T05:50:00.237Z"
   },
   {
    "duration": 236,
    "start_time": "2023-02-24T05:50:00.558Z"
   },
   {
    "duration": 305,
    "start_time": "2023-02-24T05:50:00.796Z"
   },
   {
    "duration": 198,
    "start_time": "2023-02-24T05:50:01.103Z"
   },
   {
    "duration": 179,
    "start_time": "2023-02-24T05:50:01.302Z"
   },
   {
    "duration": 181,
    "start_time": "2023-02-24T05:50:01.483Z"
   },
   {
    "duration": 132,
    "start_time": "2023-02-24T05:50:01.666Z"
   },
   {
    "duration": 190,
    "start_time": "2023-02-24T05:50:01.799Z"
   },
   {
    "duration": 178,
    "start_time": "2023-02-24T05:50:01.991Z"
   },
   {
    "duration": 144,
    "start_time": "2023-02-24T05:50:02.170Z"
   },
   {
    "duration": 165,
    "start_time": "2023-02-24T05:50:02.316Z"
   },
   {
    "duration": 226,
    "start_time": "2023-02-24T05:50:02.483Z"
   },
   {
    "duration": 160,
    "start_time": "2023-02-24T05:50:02.710Z"
   },
   {
    "duration": 301,
    "start_time": "2023-02-24T05:50:02.872Z"
   },
   {
    "duration": 166,
    "start_time": "2023-02-24T05:50:03.175Z"
   },
   {
    "duration": 5,
    "start_time": "2023-02-24T05:50:03.348Z"
   },
   {
    "duration": 211,
    "start_time": "2023-02-24T05:50:03.354Z"
   },
   {
    "duration": 6,
    "start_time": "2023-02-24T05:50:03.566Z"
   },
   {
    "duration": 168,
    "start_time": "2023-02-24T05:50:03.574Z"
   },
   {
    "duration": 9,
    "start_time": "2023-02-24T05:50:03.744Z"
   },
   {
    "duration": 166,
    "start_time": "2023-02-24T05:50:03.754Z"
   },
   {
    "duration": 6,
    "start_time": "2023-02-24T05:50:03.922Z"
   },
   {
    "duration": 151,
    "start_time": "2023-02-24T05:50:03.930Z"
   },
   {
    "duration": 168,
    "start_time": "2023-02-24T05:50:04.082Z"
   },
   {
    "duration": 154,
    "start_time": "2023-02-24T05:50:04.252Z"
   },
   {
    "duration": 252,
    "start_time": "2023-02-24T05:50:04.407Z"
   },
   {
    "duration": 25,
    "start_time": "2023-02-24T05:50:04.661Z"
   },
   {
    "duration": 7,
    "start_time": "2023-02-24T05:50:04.687Z"
   },
   {
    "duration": 8,
    "start_time": "2023-02-24T05:50:04.696Z"
   },
   {
    "duration": 183,
    "start_time": "2023-02-24T05:50:04.706Z"
   },
   {
    "duration": 26,
    "start_time": "2023-02-24T05:56:32.344Z"
   },
   {
    "duration": 608,
    "start_time": "2023-02-24T05:56:51.577Z"
   },
   {
    "duration": 93,
    "start_time": "2023-02-24T05:56:52.187Z"
   },
   {
    "duration": 37,
    "start_time": "2023-02-24T05:56:52.282Z"
   },
   {
    "duration": 15,
    "start_time": "2023-02-24T05:56:52.321Z"
   },
   {
    "duration": 3904,
    "start_time": "2023-02-24T05:56:52.337Z"
   },
   {
    "duration": 14,
    "start_time": "2023-02-24T05:56:56.244Z"
   },
   {
    "duration": 12,
    "start_time": "2023-02-24T05:56:56.260Z"
   },
   {
    "duration": 11,
    "start_time": "2023-02-24T05:56:56.274Z"
   },
   {
    "duration": 11,
    "start_time": "2023-02-24T05:56:56.287Z"
   },
   {
    "duration": 7,
    "start_time": "2023-02-24T05:56:56.302Z"
   },
   {
    "duration": 24,
    "start_time": "2023-02-24T05:56:56.311Z"
   },
   {
    "duration": 13,
    "start_time": "2023-02-24T05:56:56.338Z"
   },
   {
    "duration": 11,
    "start_time": "2023-02-24T05:56:56.353Z"
   },
   {
    "duration": 45,
    "start_time": "2023-02-24T05:56:56.366Z"
   },
   {
    "duration": 7,
    "start_time": "2023-02-24T05:56:56.414Z"
   },
   {
    "duration": 10,
    "start_time": "2023-02-24T05:56:56.422Z"
   },
   {
    "duration": 38,
    "start_time": "2023-02-24T05:56:56.433Z"
   },
   {
    "duration": 9,
    "start_time": "2023-02-24T05:56:56.473Z"
   },
   {
    "duration": 82,
    "start_time": "2023-02-24T05:56:56.485Z"
   },
   {
    "duration": 124,
    "start_time": "2023-02-24T05:56:56.569Z"
   },
   {
    "duration": 13,
    "start_time": "2023-02-24T05:56:56.694Z"
   },
   {
    "duration": 5,
    "start_time": "2023-02-24T05:56:56.708Z"
   },
   {
    "duration": 9,
    "start_time": "2023-02-24T05:56:56.715Z"
   },
   {
    "duration": 294,
    "start_time": "2023-02-24T05:56:56.726Z"
   },
   {
    "duration": 84,
    "start_time": "2023-02-24T05:56:57.021Z"
   },
   {
    "duration": 4,
    "start_time": "2023-02-24T05:56:57.106Z"
   },
   {
    "duration": 122,
    "start_time": "2023-02-24T05:56:57.112Z"
   },
   {
    "duration": 26,
    "start_time": "2023-02-24T05:56:57.238Z"
   },
   {
    "duration": 111,
    "start_time": "2023-02-24T05:56:57.265Z"
   },
   {
    "duration": 7,
    "start_time": "2023-02-24T05:56:57.378Z"
   },
   {
    "duration": 11,
    "start_time": "2023-02-24T05:56:57.386Z"
   },
   {
    "duration": 129,
    "start_time": "2023-02-24T05:56:57.398Z"
   },
   {
    "duration": 6,
    "start_time": "2023-02-24T05:56:57.529Z"
   },
   {
    "duration": 24,
    "start_time": "2023-02-24T05:56:57.536Z"
   },
   {
    "duration": 5,
    "start_time": "2023-02-24T05:56:57.562Z"
   },
   {
    "duration": 8,
    "start_time": "2023-02-24T05:56:57.569Z"
   },
   {
    "duration": 6,
    "start_time": "2023-02-24T05:56:57.579Z"
   },
   {
    "duration": 6,
    "start_time": "2023-02-24T05:56:57.586Z"
   },
   {
    "duration": 4,
    "start_time": "2023-02-24T05:56:57.593Z"
   },
   {
    "duration": 381,
    "start_time": "2023-02-24T05:56:57.599Z"
   },
   {
    "duration": 5,
    "start_time": "2023-02-24T05:56:57.982Z"
   },
   {
    "duration": 315,
    "start_time": "2023-02-24T05:56:57.989Z"
   },
   {
    "duration": 318,
    "start_time": "2023-02-24T05:56:58.306Z"
   },
   {
    "duration": 227,
    "start_time": "2023-02-24T05:56:58.626Z"
   },
   {
    "duration": 286,
    "start_time": "2023-02-24T05:56:58.855Z"
   },
   {
    "duration": 195,
    "start_time": "2023-02-24T05:56:59.143Z"
   },
   {
    "duration": 188,
    "start_time": "2023-02-24T05:56:59.340Z"
   },
   {
    "duration": 162,
    "start_time": "2023-02-24T05:56:59.530Z"
   },
   {
    "duration": 122,
    "start_time": "2023-02-24T05:56:59.694Z"
   },
   {
    "duration": 170,
    "start_time": "2023-02-24T05:56:59.818Z"
   },
   {
    "duration": 177,
    "start_time": "2023-02-24T05:56:59.990Z"
   },
   {
    "duration": 150,
    "start_time": "2023-02-24T05:57:00.169Z"
   },
   {
    "duration": 174,
    "start_time": "2023-02-24T05:57:00.320Z"
   },
   {
    "duration": 238,
    "start_time": "2023-02-24T05:57:00.496Z"
   },
   {
    "duration": 165,
    "start_time": "2023-02-24T05:57:00.737Z"
   },
   {
    "duration": 327,
    "start_time": "2023-02-24T05:57:00.905Z"
   },
   {
    "duration": 172,
    "start_time": "2023-02-24T05:57:01.234Z"
   },
   {
    "duration": 6,
    "start_time": "2023-02-24T05:57:01.408Z"
   },
   {
    "duration": 175,
    "start_time": "2023-02-24T05:57:01.415Z"
   },
   {
    "duration": 6,
    "start_time": "2023-02-24T05:57:01.591Z"
   },
   {
    "duration": 185,
    "start_time": "2023-02-24T05:57:01.599Z"
   },
   {
    "duration": 7,
    "start_time": "2023-02-24T05:57:01.785Z"
   },
   {
    "duration": 176,
    "start_time": "2023-02-24T05:57:01.793Z"
   },
   {
    "duration": 6,
    "start_time": "2023-02-24T05:57:01.970Z"
   },
   {
    "duration": 205,
    "start_time": "2023-02-24T05:57:01.977Z"
   },
   {
    "duration": 155,
    "start_time": "2023-02-24T05:57:02.183Z"
   },
   {
    "duration": 141,
    "start_time": "2023-02-24T05:57:02.339Z"
   },
   {
    "duration": 221,
    "start_time": "2023-02-24T05:57:02.482Z"
   },
   {
    "duration": 28,
    "start_time": "2023-02-24T05:57:02.704Z"
   },
   {
    "duration": 20,
    "start_time": "2023-02-24T05:57:02.734Z"
   },
   {
    "duration": 30,
    "start_time": "2023-02-24T05:57:02.755Z"
   },
   {
    "duration": 149,
    "start_time": "2023-02-24T05:57:02.787Z"
   },
   {
    "duration": 8,
    "start_time": "2023-02-24T06:01:40.620Z"
   },
   {
    "duration": 5,
    "start_time": "2023-02-24T06:02:37.909Z"
   },
   {
    "duration": 75,
    "start_time": "2023-02-24T06:03:37.948Z"
   },
   {
    "duration": 631,
    "start_time": "2023-02-24T06:04:07.091Z"
   },
   {
    "duration": 102,
    "start_time": "2023-02-24T06:04:07.724Z"
   },
   {
    "duration": 50,
    "start_time": "2023-02-24T06:04:07.827Z"
   },
   {
    "duration": 16,
    "start_time": "2023-02-24T06:04:07.879Z"
   },
   {
    "duration": 3887,
    "start_time": "2023-02-24T06:04:07.897Z"
   },
   {
    "duration": 12,
    "start_time": "2023-02-24T06:04:11.786Z"
   },
   {
    "duration": 7,
    "start_time": "2023-02-24T06:04:11.799Z"
   },
   {
    "duration": 7,
    "start_time": "2023-02-24T06:04:11.807Z"
   },
   {
    "duration": 10,
    "start_time": "2023-02-24T06:04:11.816Z"
   },
   {
    "duration": 4,
    "start_time": "2023-02-24T06:04:11.828Z"
   },
   {
    "duration": 16,
    "start_time": "2023-02-24T06:04:11.834Z"
   },
   {
    "duration": 7,
    "start_time": "2023-02-24T06:04:11.851Z"
   },
   {
    "duration": 7,
    "start_time": "2023-02-24T06:04:11.860Z"
   },
   {
    "duration": 36,
    "start_time": "2023-02-24T06:04:11.868Z"
   },
   {
    "duration": 6,
    "start_time": "2023-02-24T06:04:11.906Z"
   },
   {
    "duration": 8,
    "start_time": "2023-02-24T06:04:11.913Z"
   },
   {
    "duration": 31,
    "start_time": "2023-02-24T06:04:11.922Z"
   },
   {
    "duration": 4,
    "start_time": "2023-02-24T06:04:11.955Z"
   },
   {
    "duration": 87,
    "start_time": "2023-02-24T06:04:11.961Z"
   },
   {
    "duration": 116,
    "start_time": "2023-02-24T06:04:12.050Z"
   },
   {
    "duration": 11,
    "start_time": "2023-02-24T06:04:12.168Z"
   },
   {
    "duration": 4,
    "start_time": "2023-02-24T06:04:12.181Z"
   },
   {
    "duration": 8,
    "start_time": "2023-02-24T06:04:12.186Z"
   },
   {
    "duration": 354,
    "start_time": "2023-02-24T06:04:12.196Z"
   },
   {
    "duration": 102,
    "start_time": "2023-02-24T06:04:12.552Z"
   },
   {
    "duration": 4,
    "start_time": "2023-02-24T06:04:12.656Z"
   },
   {
    "duration": 134,
    "start_time": "2023-02-24T06:04:12.662Z"
   },
   {
    "duration": 20,
    "start_time": "2023-02-24T06:04:12.799Z"
   },
   {
    "duration": 121,
    "start_time": "2023-02-24T06:04:12.821Z"
   },
   {
    "duration": 6,
    "start_time": "2023-02-24T06:04:12.948Z"
   },
   {
    "duration": 7,
    "start_time": "2023-02-24T06:04:12.955Z"
   },
   {
    "duration": 125,
    "start_time": "2023-02-24T06:04:12.964Z"
   },
   {
    "duration": 8,
    "start_time": "2023-02-24T06:04:13.090Z"
   },
   {
    "duration": 14,
    "start_time": "2023-02-24T06:04:13.100Z"
   },
   {
    "duration": 5,
    "start_time": "2023-02-24T06:04:13.116Z"
   },
   {
    "duration": 32,
    "start_time": "2023-02-24T06:04:13.122Z"
   },
   {
    "duration": 6,
    "start_time": "2023-02-24T06:04:13.155Z"
   },
   {
    "duration": 6,
    "start_time": "2023-02-24T06:04:13.163Z"
   },
   {
    "duration": 3,
    "start_time": "2023-02-24T06:04:13.170Z"
   },
   {
    "duration": 353,
    "start_time": "2023-02-24T06:04:13.175Z"
   },
   {
    "duration": 4,
    "start_time": "2023-02-24T06:04:13.530Z"
   },
   {
    "duration": 337,
    "start_time": "2023-02-24T06:04:13.536Z"
   },
   {
    "duration": 305,
    "start_time": "2023-02-24T06:04:13.875Z"
   },
   {
    "duration": 229,
    "start_time": "2023-02-24T06:04:14.181Z"
   },
   {
    "duration": 292,
    "start_time": "2023-02-24T06:04:14.412Z"
   },
   {
    "duration": 193,
    "start_time": "2023-02-24T06:04:14.706Z"
   },
   {
    "duration": 185,
    "start_time": "2023-02-24T06:04:14.900Z"
   },
   {
    "duration": 172,
    "start_time": "2023-02-24T06:04:15.086Z"
   },
   {
    "duration": 125,
    "start_time": "2023-02-24T06:04:15.259Z"
   },
   {
    "duration": 177,
    "start_time": "2023-02-24T06:04:15.387Z"
   },
   {
    "duration": 178,
    "start_time": "2023-02-24T06:04:15.566Z"
   },
   {
    "duration": 154,
    "start_time": "2023-02-24T06:04:15.745Z"
   },
   {
    "duration": 169,
    "start_time": "2023-02-24T06:04:15.901Z"
   },
   {
    "duration": 220,
    "start_time": "2023-02-24T06:04:16.072Z"
   },
   {
    "duration": 172,
    "start_time": "2023-02-24T06:04:16.294Z"
   },
   {
    "duration": 359,
    "start_time": "2023-02-24T06:04:16.468Z"
   },
   {
    "duration": 161,
    "start_time": "2023-02-24T06:04:16.829Z"
   },
   {
    "duration": 6,
    "start_time": "2023-02-24T06:04:16.991Z"
   },
   {
    "duration": 181,
    "start_time": "2023-02-24T06:04:16.998Z"
   },
   {
    "duration": 5,
    "start_time": "2023-02-24T06:04:17.180Z"
   },
   {
    "duration": 156,
    "start_time": "2023-02-24T06:04:17.187Z"
   },
   {
    "duration": 6,
    "start_time": "2023-02-24T06:04:17.348Z"
   },
   {
    "duration": 149,
    "start_time": "2023-02-24T06:04:17.355Z"
   },
   {
    "duration": 6,
    "start_time": "2023-02-24T06:04:17.506Z"
   },
   {
    "duration": 150,
    "start_time": "2023-02-24T06:04:17.513Z"
   },
   {
    "duration": 161,
    "start_time": "2023-02-24T06:04:17.665Z"
   },
   {
    "duration": 151,
    "start_time": "2023-02-24T06:04:17.828Z"
   },
   {
    "duration": 217,
    "start_time": "2023-02-24T06:04:17.981Z"
   },
   {
    "duration": 25,
    "start_time": "2023-02-24T06:04:18.200Z"
   },
   {
    "duration": 22,
    "start_time": "2023-02-24T06:04:18.227Z"
   },
   {
    "duration": 13,
    "start_time": "2023-02-24T06:04:18.252Z"
   },
   {
    "duration": 163,
    "start_time": "2023-02-24T06:04:18.267Z"
   },
   {
    "duration": 24,
    "start_time": "2023-02-24T06:05:08.092Z"
   },
   {
    "duration": 27,
    "start_time": "2023-02-24T06:05:39.388Z"
   },
   {
    "duration": 26,
    "start_time": "2023-02-24T06:06:12.566Z"
   },
   {
    "duration": 29,
    "start_time": "2023-02-24T06:06:22.281Z"
   },
   {
    "duration": 24,
    "start_time": "2023-02-24T06:06:42.297Z"
   },
   {
    "duration": 466,
    "start_time": "2023-02-24T06:18:16.459Z"
   },
   {
    "duration": 1178,
    "start_time": "2023-02-24T06:18:22.154Z"
   },
   {
    "duration": 108,
    "start_time": "2023-02-24T06:18:23.334Z"
   },
   {
    "duration": 51,
    "start_time": "2023-02-24T06:18:23.444Z"
   },
   {
    "duration": 17,
    "start_time": "2023-02-24T06:18:23.496Z"
   },
   {
    "duration": 4106,
    "start_time": "2023-02-24T06:18:23.514Z"
   },
   {
    "duration": 13,
    "start_time": "2023-02-24T06:18:27.621Z"
   },
   {
    "duration": 10,
    "start_time": "2023-02-24T06:18:27.636Z"
   },
   {
    "duration": 11,
    "start_time": "2023-02-24T06:18:27.647Z"
   },
   {
    "duration": 12,
    "start_time": "2023-02-24T06:18:27.659Z"
   },
   {
    "duration": 5,
    "start_time": "2023-02-24T06:18:27.673Z"
   },
   {
    "duration": 8,
    "start_time": "2023-02-24T06:18:27.679Z"
   },
   {
    "duration": 12,
    "start_time": "2023-02-24T06:18:27.688Z"
   },
   {
    "duration": 7,
    "start_time": "2023-02-24T06:18:27.702Z"
   },
   {
    "duration": 45,
    "start_time": "2023-02-24T06:18:27.711Z"
   },
   {
    "duration": 6,
    "start_time": "2023-02-24T06:18:27.758Z"
   },
   {
    "duration": 15,
    "start_time": "2023-02-24T06:18:27.765Z"
   },
   {
    "duration": 18,
    "start_time": "2023-02-24T06:18:27.782Z"
   },
   {
    "duration": 10,
    "start_time": "2023-02-24T06:18:27.802Z"
   },
   {
    "duration": 84,
    "start_time": "2023-02-24T06:18:27.814Z"
   },
   {
    "duration": 132,
    "start_time": "2023-02-24T06:18:27.900Z"
   },
   {
    "duration": 20,
    "start_time": "2023-02-24T06:18:28.034Z"
   },
   {
    "duration": 4,
    "start_time": "2023-02-24T06:18:28.055Z"
   },
   {
    "duration": 6,
    "start_time": "2023-02-24T06:18:28.061Z"
   },
   {
    "duration": 122,
    "start_time": "2023-02-24T06:18:28.069Z"
   },
   {
    "duration": 80,
    "start_time": "2023-02-24T06:18:28.193Z"
   },
   {
    "duration": 5,
    "start_time": "2023-02-24T06:18:28.274Z"
   },
   {
    "duration": 128,
    "start_time": "2023-02-24T06:18:28.280Z"
   },
   {
    "duration": 21,
    "start_time": "2023-02-24T06:18:28.412Z"
   },
   {
    "duration": 131,
    "start_time": "2023-02-24T06:18:28.434Z"
   },
   {
    "duration": 7,
    "start_time": "2023-02-24T06:18:28.567Z"
   },
   {
    "duration": 6,
    "start_time": "2023-02-24T06:18:28.575Z"
   },
   {
    "duration": 135,
    "start_time": "2023-02-24T06:18:28.582Z"
   },
   {
    "duration": 7,
    "start_time": "2023-02-24T06:18:28.718Z"
   },
   {
    "duration": 28,
    "start_time": "2023-02-24T06:18:28.726Z"
   },
   {
    "duration": 5,
    "start_time": "2023-02-24T06:18:28.756Z"
   },
   {
    "duration": 9,
    "start_time": "2023-02-24T06:18:28.762Z"
   },
   {
    "duration": 8,
    "start_time": "2023-02-24T06:18:28.773Z"
   },
   {
    "duration": 6,
    "start_time": "2023-02-24T06:18:28.782Z"
   },
   {
    "duration": 4,
    "start_time": "2023-02-24T06:18:28.789Z"
   },
   {
    "duration": 570,
    "start_time": "2023-02-24T06:18:28.795Z"
   },
   {
    "duration": 5,
    "start_time": "2023-02-24T06:18:29.367Z"
   },
   {
    "duration": 339,
    "start_time": "2023-02-24T06:18:29.374Z"
   },
   {
    "duration": 333,
    "start_time": "2023-02-24T06:18:29.717Z"
   },
   {
    "duration": 171,
    "start_time": "2023-02-24T06:18:30.051Z"
   },
   {
    "duration": 297,
    "start_time": "2023-02-24T06:18:30.224Z"
   },
   {
    "duration": 215,
    "start_time": "2023-02-24T06:18:30.523Z"
   },
   {
    "duration": 284,
    "start_time": "2023-02-24T06:18:30.740Z"
   },
   {
    "duration": 171,
    "start_time": "2023-02-24T06:18:31.025Z"
   },
   {
    "duration": 125,
    "start_time": "2023-02-24T06:18:31.198Z"
   },
   {
    "duration": 187,
    "start_time": "2023-02-24T06:18:31.325Z"
   },
   {
    "duration": 172,
    "start_time": "2023-02-24T06:18:31.514Z"
   },
   {
    "duration": 167,
    "start_time": "2023-02-24T06:18:31.688Z"
   },
   {
    "duration": 192,
    "start_time": "2023-02-24T06:18:31.857Z"
   },
   {
    "duration": 145,
    "start_time": "2023-02-24T06:18:32.052Z"
   },
   {
    "duration": 160,
    "start_time": "2023-02-24T06:18:32.199Z"
   },
   {
    "duration": 316,
    "start_time": "2023-02-24T06:18:32.361Z"
   },
   {
    "duration": 253,
    "start_time": "2023-02-24T06:18:32.678Z"
   },
   {
    "duration": 5,
    "start_time": "2023-02-24T06:18:32.932Z"
   },
   {
    "duration": 177,
    "start_time": "2023-02-24T06:18:32.939Z"
   },
   {
    "duration": 4,
    "start_time": "2023-02-24T06:18:33.118Z"
   },
   {
    "duration": 158,
    "start_time": "2023-02-24T06:18:33.124Z"
   },
   {
    "duration": 5,
    "start_time": "2023-02-24T06:18:33.284Z"
   },
   {
    "duration": 149,
    "start_time": "2023-02-24T06:18:33.291Z"
   },
   {
    "duration": 9,
    "start_time": "2023-02-24T06:18:33.442Z"
   },
   {
    "duration": 152,
    "start_time": "2023-02-24T06:18:33.453Z"
   },
   {
    "duration": 158,
    "start_time": "2023-02-24T06:18:33.607Z"
   },
   {
    "duration": 157,
    "start_time": "2023-02-24T06:18:33.767Z"
   },
   {
    "duration": 161,
    "start_time": "2023-02-24T06:18:33.926Z"
   },
   {
    "duration": 27,
    "start_time": "2023-02-24T06:18:34.089Z"
   },
   {
    "duration": 7,
    "start_time": "2023-02-24T06:18:34.118Z"
   },
   {
    "duration": 29,
    "start_time": "2023-02-24T06:18:34.126Z"
   },
   {
    "duration": 161,
    "start_time": "2023-02-24T06:18:34.157Z"
   },
   {
    "duration": 1312,
    "start_time": "2023-02-24T06:20:00.583Z"
   },
   {
    "duration": 1532,
    "start_time": "2023-02-24T06:21:04.934Z"
   },
   {
    "duration": 14,
    "start_time": "2023-02-24T06:25:13.380Z"
   },
   {
    "duration": 1417,
    "start_time": "2023-02-24T06:25:32.713Z"
   },
   {
    "duration": 113,
    "start_time": "2023-02-24T06:25:45.509Z"
   },
   {
    "duration": 25,
    "start_time": "2023-02-24T06:28:17.158Z"
   },
   {
    "duration": 7073,
    "start_time": "2023-02-24T06:28:38.671Z"
   },
   {
    "duration": 70,
    "start_time": "2023-02-24T06:33:17.012Z"
   },
   {
    "duration": 25,
    "start_time": "2023-02-24T06:33:33.170Z"
   },
   {
    "duration": 80,
    "start_time": "2023-02-24T06:34:12.609Z"
   },
   {
    "duration": 194,
    "start_time": "2023-02-24T06:37:21.798Z"
   },
   {
    "duration": 176,
    "start_time": "2023-02-24T06:38:40.102Z"
   },
   {
    "duration": 6601,
    "start_time": "2023-02-24T06:39:56.145Z"
   },
   {
    "duration": 177,
    "start_time": "2023-02-24T06:43:44.592Z"
   },
   {
    "duration": 169,
    "start_time": "2023-02-24T06:44:56.880Z"
   },
   {
    "duration": 1210,
    "start_time": "2023-02-24T06:45:39.217Z"
   },
   {
    "duration": 99,
    "start_time": "2023-02-24T06:45:40.428Z"
   },
   {
    "duration": 43,
    "start_time": "2023-02-24T06:45:40.528Z"
   },
   {
    "duration": 16,
    "start_time": "2023-02-24T06:45:40.573Z"
   },
   {
    "duration": 4115,
    "start_time": "2023-02-24T06:45:40.590Z"
   },
   {
    "duration": 12,
    "start_time": "2023-02-24T06:45:44.706Z"
   },
   {
    "duration": 8,
    "start_time": "2023-02-24T06:45:44.720Z"
   },
   {
    "duration": 9,
    "start_time": "2023-02-24T06:45:44.730Z"
   },
   {
    "duration": 7,
    "start_time": "2023-02-24T06:45:44.748Z"
   },
   {
    "duration": 4,
    "start_time": "2023-02-24T06:45:44.758Z"
   },
   {
    "duration": 12,
    "start_time": "2023-02-24T06:45:44.764Z"
   },
   {
    "duration": 9,
    "start_time": "2023-02-24T06:45:44.777Z"
   },
   {
    "duration": 7,
    "start_time": "2023-02-24T06:45:44.788Z"
   },
   {
    "duration": 40,
    "start_time": "2023-02-24T06:45:44.796Z"
   },
   {
    "duration": 6,
    "start_time": "2023-02-24T06:45:44.848Z"
   },
   {
    "duration": 11,
    "start_time": "2023-02-24T06:45:44.856Z"
   },
   {
    "duration": 17,
    "start_time": "2023-02-24T06:45:44.868Z"
   },
   {
    "duration": 5,
    "start_time": "2023-02-24T06:45:44.887Z"
   },
   {
    "duration": 89,
    "start_time": "2023-02-24T06:45:44.894Z"
   },
   {
    "duration": 141,
    "start_time": "2023-02-24T06:45:44.985Z"
   },
   {
    "duration": 22,
    "start_time": "2023-02-24T06:45:45.128Z"
   },
   {
    "duration": 4,
    "start_time": "2023-02-24T06:45:45.152Z"
   },
   {
    "duration": 9,
    "start_time": "2023-02-24T06:45:45.158Z"
   },
   {
    "duration": 120,
    "start_time": "2023-02-24T06:45:45.168Z"
   },
   {
    "duration": 84,
    "start_time": "2023-02-24T06:45:45.290Z"
   },
   {
    "duration": 4,
    "start_time": "2023-02-24T06:45:45.376Z"
   },
   {
    "duration": 139,
    "start_time": "2023-02-24T06:45:45.382Z"
   },
   {
    "duration": 28,
    "start_time": "2023-02-24T06:45:45.526Z"
   },
   {
    "duration": 125,
    "start_time": "2023-02-24T06:45:45.556Z"
   },
   {
    "duration": 7,
    "start_time": "2023-02-24T06:45:45.683Z"
   },
   {
    "duration": 10,
    "start_time": "2023-02-24T06:45:45.691Z"
   },
   {
    "duration": 141,
    "start_time": "2023-02-24T06:45:45.702Z"
   },
   {
    "duration": 9,
    "start_time": "2023-02-24T06:45:45.844Z"
   },
   {
    "duration": 13,
    "start_time": "2023-02-24T06:45:45.855Z"
   },
   {
    "duration": 5,
    "start_time": "2023-02-24T06:45:45.870Z"
   },
   {
    "duration": 10,
    "start_time": "2023-02-24T06:45:45.876Z"
   },
   {
    "duration": 6,
    "start_time": "2023-02-24T06:45:45.887Z"
   },
   {
    "duration": 8,
    "start_time": "2023-02-24T06:45:45.895Z"
   },
   {
    "duration": 4,
    "start_time": "2023-02-24T06:45:45.905Z"
   },
   {
    "duration": 640,
    "start_time": "2023-02-24T06:45:45.910Z"
   },
   {
    "duration": 5,
    "start_time": "2023-02-24T06:45:46.552Z"
   },
   {
    "duration": 341,
    "start_time": "2023-02-24T06:45:46.558Z"
   },
   {
    "duration": 336,
    "start_time": "2023-02-24T06:45:46.901Z"
   },
   {
    "duration": 174,
    "start_time": "2023-02-24T06:45:47.238Z"
   },
   {
    "duration": 301,
    "start_time": "2023-02-24T06:45:47.414Z"
   },
   {
    "duration": 212,
    "start_time": "2023-02-24T06:45:47.716Z"
   },
   {
    "duration": 265,
    "start_time": "2023-02-24T06:45:47.930Z"
   },
   {
    "duration": 171,
    "start_time": "2023-02-24T06:45:48.196Z"
   },
   {
    "duration": 126,
    "start_time": "2023-02-24T06:45:48.369Z"
   },
   {
    "duration": 182,
    "start_time": "2023-02-24T06:45:48.496Z"
   },
   {
    "duration": 174,
    "start_time": "2023-02-24T06:45:48.679Z"
   },
   {
    "duration": 148,
    "start_time": "2023-02-24T06:45:48.855Z"
   },
   {
    "duration": 177,
    "start_time": "2023-02-24T06:45:49.005Z"
   },
   {
    "duration": 146,
    "start_time": "2023-02-24T06:45:49.184Z"
   },
   {
    "duration": 172,
    "start_time": "2023-02-24T06:45:49.331Z"
   },
   {
    "duration": 317,
    "start_time": "2023-02-24T06:45:49.505Z"
   },
   {
    "duration": 255,
    "start_time": "2023-02-24T06:45:49.824Z"
   },
   {
    "duration": 5,
    "start_time": "2023-02-24T06:45:50.081Z"
   },
   {
    "duration": 180,
    "start_time": "2023-02-24T06:45:50.087Z"
   },
   {
    "duration": 6,
    "start_time": "2023-02-24T06:45:50.268Z"
   },
   {
    "duration": 156,
    "start_time": "2023-02-24T06:45:50.275Z"
   },
   {
    "duration": 17,
    "start_time": "2023-02-24T06:45:50.432Z"
   },
   {
    "duration": 129,
    "start_time": "2023-02-24T06:45:50.451Z"
   },
   {
    "duration": 5,
    "start_time": "2023-02-24T06:45:50.582Z"
   },
   {
    "duration": 151,
    "start_time": "2023-02-24T06:45:50.589Z"
   },
   {
    "duration": 155,
    "start_time": "2023-02-24T06:45:50.742Z"
   },
   {
    "duration": 150,
    "start_time": "2023-02-24T06:45:50.899Z"
   },
   {
    "duration": 147,
    "start_time": "2023-02-24T06:45:51.051Z"
   },
   {
    "duration": 25,
    "start_time": "2023-02-24T06:45:51.200Z"
   },
   {
    "duration": 203,
    "start_time": "2023-02-24T06:45:51.226Z"
   },
   {
    "duration": 190,
    "start_time": "2023-02-24T06:45:51.431Z"
   },
   {
    "duration": 7,
    "start_time": "2023-02-24T06:45:51.622Z"
   },
   {
    "duration": 18,
    "start_time": "2023-02-24T06:45:51.631Z"
   },
   {
    "duration": 176,
    "start_time": "2023-02-24T06:45:51.651Z"
   },
   {
    "duration": 245,
    "start_time": "2023-02-24T06:51:01.558Z"
   },
   {
    "duration": 223,
    "start_time": "2023-02-24T06:52:20.146Z"
   },
   {
    "duration": 196,
    "start_time": "2023-02-24T06:52:57.859Z"
   },
   {
    "duration": 192,
    "start_time": "2023-02-24T06:53:12.790Z"
   },
   {
    "duration": 2,
    "start_time": "2023-02-24T06:54:31.492Z"
   },
   {
    "duration": 662,
    "start_time": "2023-02-24T06:54:36.916Z"
   },
   {
    "duration": 98,
    "start_time": "2023-02-24T06:54:37.581Z"
   },
   {
    "duration": 42,
    "start_time": "2023-02-24T06:54:37.681Z"
   },
   {
    "duration": 24,
    "start_time": "2023-02-24T06:54:37.725Z"
   },
   {
    "duration": 3906,
    "start_time": "2023-02-24T06:54:37.751Z"
   },
   {
    "duration": 11,
    "start_time": "2023-02-24T06:54:41.658Z"
   },
   {
    "duration": 14,
    "start_time": "2023-02-24T06:54:41.671Z"
   },
   {
    "duration": 7,
    "start_time": "2023-02-24T06:54:41.686Z"
   },
   {
    "duration": 9,
    "start_time": "2023-02-24T06:54:41.694Z"
   },
   {
    "duration": 4,
    "start_time": "2023-02-24T06:54:41.705Z"
   },
   {
    "duration": 6,
    "start_time": "2023-02-24T06:54:41.710Z"
   },
   {
    "duration": 12,
    "start_time": "2023-02-24T06:54:41.717Z"
   },
   {
    "duration": 3,
    "start_time": "2023-02-24T06:54:41.748Z"
   },
   {
    "duration": 36,
    "start_time": "2023-02-24T06:54:41.754Z"
   },
   {
    "duration": 6,
    "start_time": "2023-02-24T06:54:41.791Z"
   },
   {
    "duration": 8,
    "start_time": "2023-02-24T06:54:41.798Z"
   },
   {
    "duration": 15,
    "start_time": "2023-02-24T06:54:41.807Z"
   },
   {
    "duration": 25,
    "start_time": "2023-02-24T06:54:41.824Z"
   },
   {
    "duration": 75,
    "start_time": "2023-02-24T06:54:41.851Z"
   },
   {
    "duration": 121,
    "start_time": "2023-02-24T06:54:41.927Z"
   },
   {
    "duration": 13,
    "start_time": "2023-02-24T06:54:42.050Z"
   },
   {
    "duration": 5,
    "start_time": "2023-02-24T06:54:42.064Z"
   },
   {
    "duration": 12,
    "start_time": "2023-02-24T06:54:42.070Z"
   },
   {
    "duration": 313,
    "start_time": "2023-02-24T06:54:42.083Z"
   },
   {
    "duration": 79,
    "start_time": "2023-02-24T06:54:42.398Z"
   },
   {
    "duration": 4,
    "start_time": "2023-02-24T06:54:42.479Z"
   },
   {
    "duration": 121,
    "start_time": "2023-02-24T06:54:42.485Z"
   },
   {
    "duration": 20,
    "start_time": "2023-02-24T06:54:42.608Z"
   },
   {
    "duration": 123,
    "start_time": "2023-02-24T06:54:42.630Z"
   },
   {
    "duration": 6,
    "start_time": "2023-02-24T06:54:42.754Z"
   },
   {
    "duration": 23,
    "start_time": "2023-02-24T06:54:42.762Z"
   },
   {
    "duration": 114,
    "start_time": "2023-02-24T06:54:42.786Z"
   },
   {
    "duration": 6,
    "start_time": "2023-02-24T06:54:42.902Z"
   },
   {
    "duration": 13,
    "start_time": "2023-02-24T06:54:42.910Z"
   },
   {
    "duration": 5,
    "start_time": "2023-02-24T06:54:42.924Z"
   },
   {
    "duration": 6,
    "start_time": "2023-02-24T06:54:42.948Z"
   },
   {
    "duration": 6,
    "start_time": "2023-02-24T06:54:42.955Z"
   },
   {
    "duration": 5,
    "start_time": "2023-02-24T06:54:42.963Z"
   },
   {
    "duration": 6,
    "start_time": "2023-02-24T06:54:42.969Z"
   },
   {
    "duration": 317,
    "start_time": "2023-02-24T06:54:42.976Z"
   },
   {
    "duration": 5,
    "start_time": "2023-02-24T06:54:43.297Z"
   },
   {
    "duration": 319,
    "start_time": "2023-02-24T06:54:43.304Z"
   },
   {
    "duration": 322,
    "start_time": "2023-02-24T06:54:43.624Z"
   },
   {
    "duration": 220,
    "start_time": "2023-02-24T06:54:43.948Z"
   },
   {
    "duration": 293,
    "start_time": "2023-02-24T06:54:44.169Z"
   },
   {
    "duration": 191,
    "start_time": "2023-02-24T06:54:44.464Z"
   },
   {
    "duration": 171,
    "start_time": "2023-02-24T06:54:44.657Z"
   },
   {
    "duration": 168,
    "start_time": "2023-02-24T06:54:44.829Z"
   },
   {
    "duration": 153,
    "start_time": "2023-02-24T06:54:44.999Z"
   },
   {
    "duration": 197,
    "start_time": "2023-02-24T06:54:45.154Z"
   },
   {
    "duration": 190,
    "start_time": "2023-02-24T06:54:45.353Z"
   },
   {
    "duration": 155,
    "start_time": "2023-02-24T06:54:45.549Z"
   },
   {
    "duration": 171,
    "start_time": "2023-02-24T06:54:45.706Z"
   },
   {
    "duration": 215,
    "start_time": "2023-02-24T06:54:45.879Z"
   },
   {
    "duration": 178,
    "start_time": "2023-02-24T06:54:46.096Z"
   },
   {
    "duration": 348,
    "start_time": "2023-02-24T06:54:46.276Z"
   },
   {
    "duration": 163,
    "start_time": "2023-02-24T06:54:46.626Z"
   },
   {
    "duration": 6,
    "start_time": "2023-02-24T06:54:46.791Z"
   },
   {
    "duration": 166,
    "start_time": "2023-02-24T06:54:46.798Z"
   },
   {
    "duration": 5,
    "start_time": "2023-02-24T06:54:46.966Z"
   },
   {
    "duration": 165,
    "start_time": "2023-02-24T06:54:46.972Z"
   },
   {
    "duration": 10,
    "start_time": "2023-02-24T06:54:47.139Z"
   },
   {
    "duration": 136,
    "start_time": "2023-02-24T06:54:47.151Z"
   },
   {
    "duration": 6,
    "start_time": "2023-02-24T06:54:47.289Z"
   },
   {
    "duration": 154,
    "start_time": "2023-02-24T06:54:47.296Z"
   },
   {
    "duration": 154,
    "start_time": "2023-02-24T06:54:47.451Z"
   },
   {
    "duration": 157,
    "start_time": "2023-02-24T06:54:47.607Z"
   },
   {
    "duration": 224,
    "start_time": "2023-02-24T06:54:47.767Z"
   },
   {
    "duration": 26,
    "start_time": "2023-02-24T06:54:47.992Z"
   },
   {
    "duration": 197,
    "start_time": "2023-02-24T06:54:48.020Z"
   },
   {
    "duration": 7,
    "start_time": "2023-02-24T06:54:48.219Z"
   },
   {
    "duration": 197,
    "start_time": "2023-02-24T06:54:48.228Z"
   },
   {
    "duration": 7,
    "start_time": "2023-02-24T06:54:48.427Z"
   },
   {
    "duration": 193,
    "start_time": "2023-02-24T06:54:48.436Z"
   },
   {
    "duration": 167,
    "start_time": "2023-02-24T06:54:48.631Z"
   },
   {
    "duration": 180,
    "start_time": "2023-02-24T06:55:20.086Z"
   },
   {
    "duration": 182,
    "start_time": "2023-02-24T06:55:26.887Z"
   },
   {
    "duration": 188,
    "start_time": "2023-02-24T07:00:15.829Z"
   },
   {
    "duration": 632,
    "start_time": "2023-02-24T07:01:01.091Z"
   },
   {
    "duration": 102,
    "start_time": "2023-02-24T07:01:01.726Z"
   },
   {
    "duration": 43,
    "start_time": "2023-02-24T07:01:01.829Z"
   },
   {
    "duration": 15,
    "start_time": "2023-02-24T07:01:01.873Z"
   },
   {
    "duration": 4075,
    "start_time": "2023-02-24T07:01:01.890Z"
   },
   {
    "duration": 11,
    "start_time": "2023-02-24T07:01:05.967Z"
   },
   {
    "duration": 18,
    "start_time": "2023-02-24T07:01:05.980Z"
   },
   {
    "duration": 33,
    "start_time": "2023-02-24T07:01:05.999Z"
   },
   {
    "duration": 25,
    "start_time": "2023-02-24T07:01:06.034Z"
   },
   {
    "duration": 21,
    "start_time": "2023-02-24T07:01:06.062Z"
   },
   {
    "duration": 17,
    "start_time": "2023-02-24T07:01:06.085Z"
   },
   {
    "duration": 37,
    "start_time": "2023-02-24T07:01:06.104Z"
   },
   {
    "duration": 22,
    "start_time": "2023-02-24T07:01:06.143Z"
   },
   {
    "duration": 82,
    "start_time": "2023-02-24T07:01:06.166Z"
   },
   {
    "duration": 8,
    "start_time": "2023-02-24T07:01:06.250Z"
   },
   {
    "duration": 17,
    "start_time": "2023-02-24T07:01:06.259Z"
   },
   {
    "duration": 22,
    "start_time": "2023-02-24T07:01:06.278Z"
   },
   {
    "duration": 7,
    "start_time": "2023-02-24T07:01:06.302Z"
   },
   {
    "duration": 110,
    "start_time": "2023-02-24T07:01:06.311Z"
   },
   {
    "duration": 142,
    "start_time": "2023-02-24T07:01:06.423Z"
   },
   {
    "duration": 12,
    "start_time": "2023-02-24T07:01:06.566Z"
   },
   {
    "duration": 4,
    "start_time": "2023-02-24T07:01:06.580Z"
   },
   {
    "duration": 10,
    "start_time": "2023-02-24T07:01:06.586Z"
   },
   {
    "duration": 328,
    "start_time": "2023-02-24T07:01:06.598Z"
   },
   {
    "duration": 78,
    "start_time": "2023-02-24T07:01:06.928Z"
   },
   {
    "duration": 3,
    "start_time": "2023-02-24T07:01:07.008Z"
   },
   {
    "duration": 124,
    "start_time": "2023-02-24T07:01:07.012Z"
   },
   {
    "duration": 24,
    "start_time": "2023-02-24T07:01:07.140Z"
   },
   {
    "duration": 118,
    "start_time": "2023-02-24T07:01:07.166Z"
   },
   {
    "duration": 6,
    "start_time": "2023-02-24T07:01:07.285Z"
   },
   {
    "duration": 7,
    "start_time": "2023-02-24T07:01:07.293Z"
   },
   {
    "duration": 138,
    "start_time": "2023-02-24T07:01:07.301Z"
   },
   {
    "duration": 11,
    "start_time": "2023-02-24T07:01:07.441Z"
   },
   {
    "duration": 21,
    "start_time": "2023-02-24T07:01:07.454Z"
   },
   {
    "duration": 4,
    "start_time": "2023-02-24T07:01:07.477Z"
   },
   {
    "duration": 9,
    "start_time": "2023-02-24T07:01:07.483Z"
   },
   {
    "duration": 6,
    "start_time": "2023-02-24T07:01:07.493Z"
   },
   {
    "duration": 5,
    "start_time": "2023-02-24T07:01:07.500Z"
   },
   {
    "duration": 5,
    "start_time": "2023-02-24T07:01:07.507Z"
   },
   {
    "duration": 360,
    "start_time": "2023-02-24T07:01:07.514Z"
   },
   {
    "duration": 5,
    "start_time": "2023-02-24T07:01:07.876Z"
   },
   {
    "duration": 322,
    "start_time": "2023-02-24T07:01:07.882Z"
   },
   {
    "duration": 343,
    "start_time": "2023-02-24T07:01:08.205Z"
   },
   {
    "duration": 233,
    "start_time": "2023-02-24T07:01:08.550Z"
   },
   {
    "duration": 295,
    "start_time": "2023-02-24T07:01:08.785Z"
   },
   {
    "duration": 198,
    "start_time": "2023-02-24T07:01:09.081Z"
   },
   {
    "duration": 198,
    "start_time": "2023-02-24T07:01:09.280Z"
   },
   {
    "duration": 171,
    "start_time": "2023-02-24T07:01:09.480Z"
   },
   {
    "duration": 126,
    "start_time": "2023-02-24T07:01:09.652Z"
   },
   {
    "duration": 185,
    "start_time": "2023-02-24T07:01:09.779Z"
   },
   {
    "duration": 176,
    "start_time": "2023-02-24T07:01:09.966Z"
   },
   {
    "duration": 162,
    "start_time": "2023-02-24T07:01:10.144Z"
   },
   {
    "duration": 179,
    "start_time": "2023-02-24T07:01:10.308Z"
   },
   {
    "duration": 243,
    "start_time": "2023-02-24T07:01:10.489Z"
   },
   {
    "duration": 172,
    "start_time": "2023-02-24T07:01:10.734Z"
   },
   {
    "duration": 318,
    "start_time": "2023-02-24T07:01:10.907Z"
   },
   {
    "duration": 176,
    "start_time": "2023-02-24T07:01:11.227Z"
   },
   {
    "duration": 5,
    "start_time": "2023-02-24T07:01:11.405Z"
   },
   {
    "duration": 179,
    "start_time": "2023-02-24T07:01:11.411Z"
   },
   {
    "duration": 6,
    "start_time": "2023-02-24T07:01:11.592Z"
   },
   {
    "duration": 155,
    "start_time": "2023-02-24T07:01:11.600Z"
   },
   {
    "duration": 6,
    "start_time": "2023-02-24T07:01:11.757Z"
   },
   {
    "duration": 143,
    "start_time": "2023-02-24T07:01:11.764Z"
   },
   {
    "duration": 5,
    "start_time": "2023-02-24T07:01:11.909Z"
   },
   {
    "duration": 143,
    "start_time": "2023-02-24T07:01:11.916Z"
   },
   {
    "duration": 159,
    "start_time": "2023-02-24T07:01:12.060Z"
   },
   {
    "duration": 143,
    "start_time": "2023-02-24T07:01:12.220Z"
   },
   {
    "duration": 216,
    "start_time": "2023-02-24T07:01:12.364Z"
   },
   {
    "duration": 26,
    "start_time": "2023-02-24T07:01:12.582Z"
   },
   {
    "duration": 199,
    "start_time": "2023-02-24T07:01:12.610Z"
   },
   {
    "duration": 7,
    "start_time": "2023-02-24T07:01:12.810Z"
   },
   {
    "duration": 177,
    "start_time": "2023-02-24T07:01:12.819Z"
   },
   {
    "duration": 7,
    "start_time": "2023-02-24T07:01:12.998Z"
   },
   {
    "duration": 196,
    "start_time": "2023-02-24T07:01:13.007Z"
   },
   {
    "duration": 166,
    "start_time": "2023-02-24T07:01:13.205Z"
   },
   {
    "duration": 182,
    "start_time": "2023-02-24T07:26:14.262Z"
   },
   {
    "duration": 597,
    "start_time": "2023-02-24T07:29:44.489Z"
   },
   {
    "duration": 98,
    "start_time": "2023-02-24T07:29:45.088Z"
   },
   {
    "duration": 42,
    "start_time": "2023-02-24T07:29:45.188Z"
   },
   {
    "duration": 24,
    "start_time": "2023-02-24T07:29:45.232Z"
   },
   {
    "duration": 4035,
    "start_time": "2023-02-24T07:29:45.258Z"
   },
   {
    "duration": 11,
    "start_time": "2023-02-24T07:29:49.295Z"
   },
   {
    "duration": 7,
    "start_time": "2023-02-24T07:29:49.308Z"
   },
   {
    "duration": 7,
    "start_time": "2023-02-24T07:29:49.317Z"
   },
   {
    "duration": 24,
    "start_time": "2023-02-24T07:29:49.326Z"
   },
   {
    "duration": 4,
    "start_time": "2023-02-24T07:29:49.351Z"
   },
   {
    "duration": 16,
    "start_time": "2023-02-24T07:29:49.357Z"
   },
   {
    "duration": 10,
    "start_time": "2023-02-24T07:29:49.375Z"
   },
   {
    "duration": 6,
    "start_time": "2023-02-24T07:29:49.387Z"
   },
   {
    "duration": 33,
    "start_time": "2023-02-24T07:29:49.396Z"
   },
   {
    "duration": 6,
    "start_time": "2023-02-24T07:29:49.430Z"
   },
   {
    "duration": 20,
    "start_time": "2023-02-24T07:29:49.437Z"
   },
   {
    "duration": 16,
    "start_time": "2023-02-24T07:29:49.458Z"
   },
   {
    "duration": 19,
    "start_time": "2023-02-24T07:29:49.476Z"
   },
   {
    "duration": 76,
    "start_time": "2023-02-24T07:29:49.497Z"
   },
   {
    "duration": 136,
    "start_time": "2023-02-24T07:29:49.575Z"
   },
   {
    "duration": 13,
    "start_time": "2023-02-24T07:29:49.713Z"
   },
   {
    "duration": 21,
    "start_time": "2023-02-24T07:29:49.728Z"
   },
   {
    "duration": 6,
    "start_time": "2023-02-24T07:29:49.751Z"
   },
   {
    "duration": 323,
    "start_time": "2023-02-24T07:29:49.759Z"
   },
   {
    "duration": 80,
    "start_time": "2023-02-24T07:29:50.083Z"
   },
   {
    "duration": 3,
    "start_time": "2023-02-24T07:29:50.165Z"
   },
   {
    "duration": 138,
    "start_time": "2023-02-24T07:29:50.170Z"
   },
   {
    "duration": 19,
    "start_time": "2023-02-24T07:29:50.310Z"
   },
   {
    "duration": 119,
    "start_time": "2023-02-24T07:29:50.331Z"
   },
   {
    "duration": 6,
    "start_time": "2023-02-24T07:29:50.452Z"
   },
   {
    "duration": 20,
    "start_time": "2023-02-24T07:29:50.459Z"
   },
   {
    "duration": 127,
    "start_time": "2023-02-24T07:29:50.481Z"
   },
   {
    "duration": 6,
    "start_time": "2023-02-24T07:29:50.610Z"
   },
   {
    "duration": 26,
    "start_time": "2023-02-24T07:29:50.618Z"
   },
   {
    "duration": 49,
    "start_time": "2023-02-24T07:29:50.646Z"
   },
   {
    "duration": 21,
    "start_time": "2023-02-24T07:29:50.696Z"
   },
   {
    "duration": 15,
    "start_time": "2023-02-24T07:29:50.718Z"
   },
   {
    "duration": 17,
    "start_time": "2023-02-24T07:29:50.734Z"
   },
   {
    "duration": 39,
    "start_time": "2023-02-24T07:29:50.752Z"
   },
   {
    "duration": 344,
    "start_time": "2023-02-24T07:29:50.793Z"
   },
   {
    "duration": 9,
    "start_time": "2023-02-24T07:29:51.141Z"
   },
   {
    "duration": 332,
    "start_time": "2023-02-24T07:29:51.151Z"
   },
   {
    "duration": 317,
    "start_time": "2023-02-24T07:29:51.484Z"
   },
   {
    "duration": 245,
    "start_time": "2023-02-24T07:29:51.803Z"
   },
   {
    "duration": 296,
    "start_time": "2023-02-24T07:29:52.050Z"
   },
   {
    "duration": 187,
    "start_time": "2023-02-24T07:29:52.348Z"
   },
   {
    "duration": 185,
    "start_time": "2023-02-24T07:29:52.537Z"
   },
   {
    "duration": 175,
    "start_time": "2023-02-24T07:29:52.724Z"
   },
   {
    "duration": 127,
    "start_time": "2023-02-24T07:29:52.900Z"
   },
   {
    "duration": 173,
    "start_time": "2023-02-24T07:29:53.029Z"
   },
   {
    "duration": 167,
    "start_time": "2023-02-24T07:29:53.203Z"
   },
   {
    "duration": 174,
    "start_time": "2023-02-24T07:29:53.376Z"
   },
   {
    "duration": 168,
    "start_time": "2023-02-24T07:29:53.552Z"
   },
   {
    "duration": 231,
    "start_time": "2023-02-24T07:29:53.722Z"
   },
   {
    "duration": 167,
    "start_time": "2023-02-24T07:29:53.955Z"
   },
   {
    "duration": 320,
    "start_time": "2023-02-24T07:29:54.124Z"
   },
   {
    "duration": 171,
    "start_time": "2023-02-24T07:29:54.445Z"
   },
   {
    "duration": 5,
    "start_time": "2023-02-24T07:29:54.618Z"
   },
   {
    "duration": 175,
    "start_time": "2023-02-24T07:29:54.624Z"
   },
   {
    "duration": 6,
    "start_time": "2023-02-24T07:29:54.801Z"
   },
   {
    "duration": 160,
    "start_time": "2023-02-24T07:29:54.809Z"
   },
   {
    "duration": 5,
    "start_time": "2023-02-24T07:29:54.971Z"
   },
   {
    "duration": 152,
    "start_time": "2023-02-24T07:29:54.977Z"
   },
   {
    "duration": 5,
    "start_time": "2023-02-24T07:29:55.132Z"
   },
   {
    "duration": 145,
    "start_time": "2023-02-24T07:29:55.139Z"
   },
   {
    "duration": 165,
    "start_time": "2023-02-24T07:29:55.286Z"
   },
   {
    "duration": 155,
    "start_time": "2023-02-24T07:29:55.453Z"
   },
   {
    "duration": 226,
    "start_time": "2023-02-24T07:29:55.610Z"
   },
   {
    "duration": 29,
    "start_time": "2023-02-24T07:29:55.838Z"
   },
   {
    "duration": 186,
    "start_time": "2023-02-24T07:29:55.868Z"
   },
   {
    "duration": 7,
    "start_time": "2023-02-24T07:29:56.056Z"
   },
   {
    "duration": 183,
    "start_time": "2023-02-24T07:29:56.065Z"
   },
   {
    "duration": 8,
    "start_time": "2023-02-24T07:29:56.250Z"
   },
   {
    "duration": 253,
    "start_time": "2023-02-24T07:29:56.260Z"
   },
   {
    "duration": 176,
    "start_time": "2023-02-24T07:29:56.514Z"
   },
   {
    "duration": 716,
    "start_time": "2023-02-24T10:13:04.791Z"
   },
   {
    "duration": 162,
    "start_time": "2023-02-24T10:13:05.509Z"
   },
   {
    "duration": 48,
    "start_time": "2023-02-24T10:13:05.673Z"
   },
   {
    "duration": 14,
    "start_time": "2023-02-24T10:13:05.723Z"
   },
   {
    "duration": 4323,
    "start_time": "2023-02-24T10:13:05.738Z"
   },
   {
    "duration": 14,
    "start_time": "2023-02-24T10:13:10.063Z"
   },
   {
    "duration": 8,
    "start_time": "2023-02-24T10:13:10.079Z"
   },
   {
    "duration": 8,
    "start_time": "2023-02-24T10:13:10.089Z"
   },
   {
    "duration": 9,
    "start_time": "2023-02-24T10:13:10.099Z"
   },
   {
    "duration": 33,
    "start_time": "2023-02-24T10:13:10.111Z"
   },
   {
    "duration": 7,
    "start_time": "2023-02-24T10:13:10.145Z"
   },
   {
    "duration": 10,
    "start_time": "2023-02-24T10:13:10.154Z"
   },
   {
    "duration": 8,
    "start_time": "2023-02-24T10:13:10.165Z"
   },
   {
    "duration": 50,
    "start_time": "2023-02-24T10:13:10.175Z"
   },
   {
    "duration": 7,
    "start_time": "2023-02-24T10:13:10.227Z"
   },
   {
    "duration": 11,
    "start_time": "2023-02-24T10:13:10.236Z"
   },
   {
    "duration": 26,
    "start_time": "2023-02-24T10:13:10.249Z"
   },
   {
    "duration": 26,
    "start_time": "2023-02-24T10:13:10.277Z"
   },
   {
    "duration": 80,
    "start_time": "2023-02-24T10:13:10.314Z"
   },
   {
    "duration": 138,
    "start_time": "2023-02-24T10:13:10.395Z"
   },
   {
    "duration": 15,
    "start_time": "2023-02-24T10:13:10.535Z"
   },
   {
    "duration": 5,
    "start_time": "2023-02-24T10:13:10.552Z"
   },
   {
    "duration": 9,
    "start_time": "2023-02-24T10:13:10.558Z"
   },
   {
    "duration": 353,
    "start_time": "2023-02-24T10:13:10.568Z"
   },
   {
    "duration": 82,
    "start_time": "2023-02-24T10:13:10.922Z"
   },
   {
    "duration": 5,
    "start_time": "2023-02-24T10:13:11.005Z"
   },
   {
    "duration": 132,
    "start_time": "2023-02-24T10:13:11.013Z"
   },
   {
    "duration": 21,
    "start_time": "2023-02-24T10:13:11.150Z"
   },
   {
    "duration": 142,
    "start_time": "2023-02-24T10:13:11.173Z"
   },
   {
    "duration": 8,
    "start_time": "2023-02-24T10:13:11.322Z"
   },
   {
    "duration": 19,
    "start_time": "2023-02-24T10:13:11.333Z"
   },
   {
    "duration": 170,
    "start_time": "2023-02-24T10:13:11.354Z"
   },
   {
    "duration": 8,
    "start_time": "2023-02-24T10:13:11.529Z"
   },
   {
    "duration": 30,
    "start_time": "2023-02-24T10:13:11.539Z"
   },
   {
    "duration": 16,
    "start_time": "2023-02-24T10:13:11.571Z"
   },
   {
    "duration": 10,
    "start_time": "2023-02-24T10:13:11.589Z"
   },
   {
    "duration": 12,
    "start_time": "2023-02-24T10:13:11.601Z"
   },
   {
    "duration": 24,
    "start_time": "2023-02-24T10:13:11.618Z"
   },
   {
    "duration": 6,
    "start_time": "2023-02-24T10:13:11.645Z"
   },
   {
    "duration": 408,
    "start_time": "2023-02-24T10:13:11.653Z"
   },
   {
    "duration": 7,
    "start_time": "2023-02-24T10:13:12.063Z"
   },
   {
    "duration": 386,
    "start_time": "2023-02-24T10:13:12.073Z"
   },
   {
    "duration": 384,
    "start_time": "2023-02-24T10:13:12.461Z"
   },
   {
    "duration": 315,
    "start_time": "2023-02-24T10:13:12.848Z"
   },
   {
    "duration": 333,
    "start_time": "2023-02-24T10:13:13.165Z"
   },
   {
    "duration": 225,
    "start_time": "2023-02-24T10:13:13.500Z"
   },
   {
    "duration": 198,
    "start_time": "2023-02-24T10:13:13.727Z"
   },
   {
    "duration": 191,
    "start_time": "2023-02-24T10:13:13.928Z"
   },
   {
    "duration": 160,
    "start_time": "2023-02-24T10:13:14.123Z"
   },
   {
    "duration": 257,
    "start_time": "2023-02-24T10:13:14.285Z"
   },
   {
    "duration": 176,
    "start_time": "2023-02-24T10:13:14.544Z"
   },
   {
    "duration": 167,
    "start_time": "2023-02-24T10:13:14.722Z"
   },
   {
    "duration": 206,
    "start_time": "2023-02-24T10:13:14.891Z"
   },
   {
    "duration": 255,
    "start_time": "2023-02-24T10:13:15.104Z"
   },
   {
    "duration": 173,
    "start_time": "2023-02-24T10:13:15.361Z"
   },
   {
    "duration": 318,
    "start_time": "2023-02-24T10:13:15.536Z"
   },
   {
    "duration": 179,
    "start_time": "2023-02-24T10:13:15.856Z"
   },
   {
    "duration": 6,
    "start_time": "2023-02-24T10:13:16.037Z"
   },
   {
    "duration": 187,
    "start_time": "2023-02-24T10:13:16.045Z"
   },
   {
    "duration": 5,
    "start_time": "2023-02-24T10:13:16.234Z"
   },
   {
    "duration": 179,
    "start_time": "2023-02-24T10:13:16.240Z"
   },
   {
    "duration": 6,
    "start_time": "2023-02-24T10:13:16.420Z"
   },
   {
    "duration": 137,
    "start_time": "2023-02-24T10:13:16.427Z"
   },
   {
    "duration": 6,
    "start_time": "2023-02-24T10:13:16.566Z"
   },
   {
    "duration": 184,
    "start_time": "2023-02-24T10:13:16.574Z"
   },
   {
    "duration": 201,
    "start_time": "2023-02-24T10:13:16.761Z"
   },
   {
    "duration": 184,
    "start_time": "2023-02-24T10:13:16.964Z"
   },
   {
    "duration": 269,
    "start_time": "2023-02-24T10:13:17.149Z"
   },
   {
    "duration": 27,
    "start_time": "2023-02-24T10:13:17.420Z"
   },
   {
    "duration": 207,
    "start_time": "2023-02-24T10:13:17.449Z"
   },
   {
    "duration": 9,
    "start_time": "2023-02-24T10:13:17.658Z"
   },
   {
    "duration": 240,
    "start_time": "2023-02-24T10:13:17.668Z"
   },
   {
    "duration": 9,
    "start_time": "2023-02-24T10:13:17.917Z"
   },
   {
    "duration": 211,
    "start_time": "2023-02-24T10:13:17.928Z"
   },
   {
    "duration": 209,
    "start_time": "2023-02-24T10:13:18.141Z"
   }
  ],
  "kernelspec": {
   "display_name": "Python 3 (ipykernel)",
   "language": "python",
   "name": "python3"
  },
  "language_info": {
   "codemirror_mode": {
    "name": "ipython",
    "version": 3
   },
   "file_extension": ".py",
   "mimetype": "text/x-python",
   "name": "python",
   "nbconvert_exporter": "python",
   "pygments_lexer": "ipython3",
   "version": "3.11.5"
  },
  "toc": {
   "base_numbering": 1,
   "nav_menu": {},
   "number_sections": true,
   "sideBar": true,
   "skip_h1_title": true,
   "title_cell": "Table of Contents",
   "title_sidebar": "Contents",
   "toc_cell": false,
   "toc_position": {},
   "toc_section_display": true,
   "toc_window_display": false
  }
 },
 "nbformat": 4,
 "nbformat_minor": 2
}
