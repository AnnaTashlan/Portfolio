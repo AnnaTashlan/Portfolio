{
 "cells": [
  {
   "cell_type": "markdown",
   "metadata": {},
   "source": [
    "# Приоритизация гипотез по увеличению выручки интернет-магазина. Анализ A/B-теста.\n",
    "\n",
    "### Описание проекта\n",
    "Цель исследования - приоритизация гипотез и принятие решения по результатам A/B-теста. В нашем распоряжении 9 гипотез по увеличению выручки интернет-магазина в файле, а также результаты проведенного A/B-теста.\n",
    "\n",
    "<a id='top'></a>\n",
    "### План работы\n",
    "1. [Обзор данных.](#section1)\n",
    "2. [Приоритизация гипотез.](#section2)\n",
    "3. [Анализ результатов A/B-теста.](#section3)\n",
    "4. [Выводы.](#section4)"
   ]
  },
  {
   "cell_type": "markdown",
   "metadata": {},
   "source": [
    "<a id='section1'></a>\n",
    "### Обзор данных.\n",
    "[Оглавление](#top)"
   ]
  },
  {
   "cell_type": "code",
   "execution_count": 1,
   "metadata": {},
   "outputs": [],
   "source": [
    "import pandas as pd\n",
    "pd.set_option('display.max_colwidth', None)\n",
    "import datetime as dt\n",
    "import numpy as np\n",
    "import matplotlib.pyplot as plt\n",
    "import scipy.stats as stats"
   ]
  },
  {
   "cell_type": "code",
   "execution_count": 2,
   "metadata": {},
   "outputs": [],
   "source": [
    "hypothesis = pd.read_csv('/datasets/hypothesis.csv', sep=',')\n",
    "orders = pd.read_csv('/datasets/orders.csv', sep=',')\n",
    "visitors = pd.read_csv('/datasets/visitors.csv', sep=',')"
   ]
  },
  {
   "cell_type": "code",
   "execution_count": 3,
   "metadata": {},
   "outputs": [
    {
     "data": {
      "text/html": [
       "<div>\n",
       "<style scoped>\n",
       "    .dataframe tbody tr th:only-of-type {\n",
       "        vertical-align: middle;\n",
       "    }\n",
       "\n",
       "    .dataframe tbody tr th {\n",
       "        vertical-align: top;\n",
       "    }\n",
       "\n",
       "    .dataframe thead th {\n",
       "        text-align: right;\n",
       "    }\n",
       "</style>\n",
       "<table border=\"1\" class=\"dataframe\">\n",
       "  <thead>\n",
       "    <tr style=\"text-align: right;\">\n",
       "      <th></th>\n",
       "      <th>Hypothesis</th>\n",
       "      <th>Reach</th>\n",
       "      <th>Impact</th>\n",
       "      <th>Confidence</th>\n",
       "      <th>Efforts</th>\n",
       "    </tr>\n",
       "  </thead>\n",
       "  <tbody>\n",
       "    <tr>\n",
       "      <th>0</th>\n",
       "      <td>Добавить два новых канала привлечения трафика, что позволит привлекать на 30% больше пользователей</td>\n",
       "      <td>3</td>\n",
       "      <td>10</td>\n",
       "      <td>8</td>\n",
       "      <td>6</td>\n",
       "    </tr>\n",
       "    <tr>\n",
       "      <th>1</th>\n",
       "      <td>Запустить собственную службу доставки, что сократит срок доставки заказов</td>\n",
       "      <td>2</td>\n",
       "      <td>5</td>\n",
       "      <td>4</td>\n",
       "      <td>10</td>\n",
       "    </tr>\n",
       "    <tr>\n",
       "      <th>2</th>\n",
       "      <td>Добавить блоки рекомендаций товаров на сайт интернет магазина, чтобы повысить конверсию и средний чек заказа</td>\n",
       "      <td>8</td>\n",
       "      <td>3</td>\n",
       "      <td>7</td>\n",
       "      <td>3</td>\n",
       "    </tr>\n",
       "    <tr>\n",
       "      <th>3</th>\n",
       "      <td>Изменить структура категорий, что увеличит конверсию, т.к. пользователи быстрее найдут нужный товар</td>\n",
       "      <td>8</td>\n",
       "      <td>3</td>\n",
       "      <td>3</td>\n",
       "      <td>8</td>\n",
       "    </tr>\n",
       "    <tr>\n",
       "      <th>4</th>\n",
       "      <td>Изменить цвет фона главной страницы, чтобы увеличить вовлеченность пользователей</td>\n",
       "      <td>3</td>\n",
       "      <td>1</td>\n",
       "      <td>1</td>\n",
       "      <td>1</td>\n",
       "    </tr>\n",
       "    <tr>\n",
       "      <th>5</th>\n",
       "      <td>Добавить страницу отзывов клиентов о магазине, что позволит увеличить количество заказов</td>\n",
       "      <td>3</td>\n",
       "      <td>2</td>\n",
       "      <td>2</td>\n",
       "      <td>3</td>\n",
       "    </tr>\n",
       "    <tr>\n",
       "      <th>6</th>\n",
       "      <td>Показать на главной странице баннеры с актуальными акциями и распродажами, чтобы увеличить конверсию</td>\n",
       "      <td>5</td>\n",
       "      <td>3</td>\n",
       "      <td>8</td>\n",
       "      <td>3</td>\n",
       "    </tr>\n",
       "    <tr>\n",
       "      <th>7</th>\n",
       "      <td>Добавить форму подписки на все основные страницы, чтобы собрать базу клиентов для email-рассылок</td>\n",
       "      <td>10</td>\n",
       "      <td>7</td>\n",
       "      <td>8</td>\n",
       "      <td>5</td>\n",
       "    </tr>\n",
       "    <tr>\n",
       "      <th>8</th>\n",
       "      <td>Запустить акцию, дающую скидку на товар в день рождения</td>\n",
       "      <td>1</td>\n",
       "      <td>9</td>\n",
       "      <td>9</td>\n",
       "      <td>5</td>\n",
       "    </tr>\n",
       "  </tbody>\n",
       "</table>\n",
       "</div>"
      ],
      "text/plain": [
       "                                                                                                     Hypothesis  \\\n",
       "0            Добавить два новых канала привлечения трафика, что позволит привлекать на 30% больше пользователей   \n",
       "1                                     Запустить собственную службу доставки, что сократит срок доставки заказов   \n",
       "2  Добавить блоки рекомендаций товаров на сайт интернет магазина, чтобы повысить конверсию и средний чек заказа   \n",
       "3           Изменить структура категорий, что увеличит конверсию, т.к. пользователи быстрее найдут нужный товар   \n",
       "4                              Изменить цвет фона главной страницы, чтобы увеличить вовлеченность пользователей   \n",
       "5                      Добавить страницу отзывов клиентов о магазине, что позволит увеличить количество заказов   \n",
       "6          Показать на главной странице баннеры с актуальными акциями и распродажами, чтобы увеличить конверсию   \n",
       "7              Добавить форму подписки на все основные страницы, чтобы собрать базу клиентов для email-рассылок   \n",
       "8                                                       Запустить акцию, дающую скидку на товар в день рождения   \n",
       "\n",
       "   Reach  Impact  Confidence  Efforts  \n",
       "0      3      10           8        6  \n",
       "1      2       5           4       10  \n",
       "2      8       3           7        3  \n",
       "3      8       3           3        8  \n",
       "4      3       1           1        1  \n",
       "5      3       2           2        3  \n",
       "6      5       3           8        3  \n",
       "7     10       7           8        5  \n",
       "8      1       9           9        5  "
      ]
     },
     "execution_count": 3,
     "metadata": {},
     "output_type": "execute_result"
    }
   ],
   "source": [
    "hypothesis"
   ]
  },
  {
   "cell_type": "code",
   "execution_count": 4,
   "metadata": {},
   "outputs": [
    {
     "name": "stdout",
     "output_type": "stream",
     "text": [
      "<class 'pandas.core.frame.DataFrame'>\n",
      "RangeIndex: 9 entries, 0 to 8\n",
      "Data columns (total 5 columns):\n",
      " #   Column      Non-Null Count  Dtype \n",
      "---  ------      --------------  ----- \n",
      " 0   Hypothesis  9 non-null      object\n",
      " 1   Reach       9 non-null      int64 \n",
      " 2   Impact      9 non-null      int64 \n",
      " 3   Confidence  9 non-null      int64 \n",
      " 4   Efforts     9 non-null      int64 \n",
      "dtypes: int64(4), object(1)\n",
      "memory usage: 488.0+ bytes\n"
     ]
    }
   ],
   "source": [
    "hypothesis.info()"
   ]
  },
  {
   "cell_type": "markdown",
   "metadata": {},
   "source": [
    "С данными все в порядке."
   ]
  },
  {
   "cell_type": "code",
   "execution_count": 5,
   "metadata": {},
   "outputs": [
    {
     "data": {
      "text/html": [
       "<div>\n",
       "<style scoped>\n",
       "    .dataframe tbody tr th:only-of-type {\n",
       "        vertical-align: middle;\n",
       "    }\n",
       "\n",
       "    .dataframe tbody tr th {\n",
       "        vertical-align: top;\n",
       "    }\n",
       "\n",
       "    .dataframe thead th {\n",
       "        text-align: right;\n",
       "    }\n",
       "</style>\n",
       "<table border=\"1\" class=\"dataframe\">\n",
       "  <thead>\n",
       "    <tr style=\"text-align: right;\">\n",
       "      <th></th>\n",
       "      <th>transactionId</th>\n",
       "      <th>visitorId</th>\n",
       "      <th>date</th>\n",
       "      <th>revenue</th>\n",
       "      <th>group</th>\n",
       "    </tr>\n",
       "  </thead>\n",
       "  <tbody>\n",
       "    <tr>\n",
       "      <th>0</th>\n",
       "      <td>3667963787</td>\n",
       "      <td>3312258926</td>\n",
       "      <td>2019-08-15</td>\n",
       "      <td>1650</td>\n",
       "      <td>B</td>\n",
       "    </tr>\n",
       "    <tr>\n",
       "      <th>1</th>\n",
       "      <td>2804400009</td>\n",
       "      <td>3642806036</td>\n",
       "      <td>2019-08-15</td>\n",
       "      <td>730</td>\n",
       "      <td>B</td>\n",
       "    </tr>\n",
       "    <tr>\n",
       "      <th>2</th>\n",
       "      <td>2961555356</td>\n",
       "      <td>4069496402</td>\n",
       "      <td>2019-08-15</td>\n",
       "      <td>400</td>\n",
       "      <td>A</td>\n",
       "    </tr>\n",
       "    <tr>\n",
       "      <th>3</th>\n",
       "      <td>3797467345</td>\n",
       "      <td>1196621759</td>\n",
       "      <td>2019-08-15</td>\n",
       "      <td>9759</td>\n",
       "      <td>B</td>\n",
       "    </tr>\n",
       "    <tr>\n",
       "      <th>4</th>\n",
       "      <td>2282983706</td>\n",
       "      <td>2322279887</td>\n",
       "      <td>2019-08-15</td>\n",
       "      <td>2308</td>\n",
       "      <td>B</td>\n",
       "    </tr>\n",
       "  </tbody>\n",
       "</table>\n",
       "</div>"
      ],
      "text/plain": [
       "   transactionId   visitorId        date  revenue group\n",
       "0     3667963787  3312258926  2019-08-15     1650     B\n",
       "1     2804400009  3642806036  2019-08-15      730     B\n",
       "2     2961555356  4069496402  2019-08-15      400     A\n",
       "3     3797467345  1196621759  2019-08-15     9759     B\n",
       "4     2282983706  2322279887  2019-08-15     2308     B"
      ]
     },
     "execution_count": 5,
     "metadata": {},
     "output_type": "execute_result"
    }
   ],
   "source": [
    "orders.head()"
   ]
  },
  {
   "cell_type": "code",
   "execution_count": 6,
   "metadata": {},
   "outputs": [
    {
     "name": "stdout",
     "output_type": "stream",
     "text": [
      "<class 'pandas.core.frame.DataFrame'>\n",
      "RangeIndex: 1197 entries, 0 to 1196\n",
      "Data columns (total 5 columns):\n",
      " #   Column         Non-Null Count  Dtype \n",
      "---  ------         --------------  ----- \n",
      " 0   transactionId  1197 non-null   int64 \n",
      " 1   visitorId      1197 non-null   int64 \n",
      " 2   date           1197 non-null   object\n",
      " 3   revenue        1197 non-null   int64 \n",
      " 4   group          1197 non-null   object\n",
      "dtypes: int64(3), object(2)\n",
      "memory usage: 46.9+ KB\n"
     ]
    }
   ],
   "source": [
    "orders.info()"
   ]
  },
  {
   "cell_type": "markdown",
   "metadata": {},
   "source": [
    "Тип даных в столбце `date` не соответствует, изменим тип данных."
   ]
  },
  {
   "cell_type": "code",
   "execution_count": 7,
   "metadata": {},
   "outputs": [],
   "source": [
    "orders['date'] = orders['date'].map(\n",
    "    lambda x: dt.datetime.strptime(x, '%Y-%m-%d')\n",
    ")"
   ]
  },
  {
   "cell_type": "code",
   "execution_count": 8,
   "metadata": {},
   "outputs": [
    {
     "data": {
      "text/html": [
       "<div>\n",
       "<style scoped>\n",
       "    .dataframe tbody tr th:only-of-type {\n",
       "        vertical-align: middle;\n",
       "    }\n",
       "\n",
       "    .dataframe tbody tr th {\n",
       "        vertical-align: top;\n",
       "    }\n",
       "\n",
       "    .dataframe thead th {\n",
       "        text-align: right;\n",
       "    }\n",
       "</style>\n",
       "<table border=\"1\" class=\"dataframe\">\n",
       "  <thead>\n",
       "    <tr style=\"text-align: right;\">\n",
       "      <th></th>\n",
       "      <th>date</th>\n",
       "      <th>group</th>\n",
       "      <th>visitors</th>\n",
       "    </tr>\n",
       "  </thead>\n",
       "  <tbody>\n",
       "    <tr>\n",
       "      <th>0</th>\n",
       "      <td>2019-08-01</td>\n",
       "      <td>A</td>\n",
       "      <td>719</td>\n",
       "    </tr>\n",
       "    <tr>\n",
       "      <th>1</th>\n",
       "      <td>2019-08-02</td>\n",
       "      <td>A</td>\n",
       "      <td>619</td>\n",
       "    </tr>\n",
       "    <tr>\n",
       "      <th>2</th>\n",
       "      <td>2019-08-03</td>\n",
       "      <td>A</td>\n",
       "      <td>507</td>\n",
       "    </tr>\n",
       "    <tr>\n",
       "      <th>3</th>\n",
       "      <td>2019-08-04</td>\n",
       "      <td>A</td>\n",
       "      <td>717</td>\n",
       "    </tr>\n",
       "    <tr>\n",
       "      <th>4</th>\n",
       "      <td>2019-08-05</td>\n",
       "      <td>A</td>\n",
       "      <td>756</td>\n",
       "    </tr>\n",
       "  </tbody>\n",
       "</table>\n",
       "</div>"
      ],
      "text/plain": [
       "         date group  visitors\n",
       "0  2019-08-01     A       719\n",
       "1  2019-08-02     A       619\n",
       "2  2019-08-03     A       507\n",
       "3  2019-08-04     A       717\n",
       "4  2019-08-05     A       756"
      ]
     },
     "execution_count": 8,
     "metadata": {},
     "output_type": "execute_result"
    }
   ],
   "source": [
    "visitors.head()"
   ]
  },
  {
   "cell_type": "code",
   "execution_count": 9,
   "metadata": {},
   "outputs": [
    {
     "name": "stdout",
     "output_type": "stream",
     "text": [
      "<class 'pandas.core.frame.DataFrame'>\n",
      "RangeIndex: 62 entries, 0 to 61\n",
      "Data columns (total 3 columns):\n",
      " #   Column    Non-Null Count  Dtype \n",
      "---  ------    --------------  ----- \n",
      " 0   date      62 non-null     object\n",
      " 1   group     62 non-null     object\n",
      " 2   visitors  62 non-null     int64 \n",
      "dtypes: int64(1), object(2)\n",
      "memory usage: 1.6+ KB\n"
     ]
    }
   ],
   "source": [
    "visitors.info()"
   ]
  },
  {
   "cell_type": "markdown",
   "metadata": {},
   "source": [
    "Тип даных в столбце `date` не соответствует, изменим тип данных."
   ]
  },
  {
   "cell_type": "code",
   "execution_count": 10,
   "metadata": {},
   "outputs": [],
   "source": [
    "visitors['date'] = visitors['date'].map(\n",
    "    lambda x: dt.datetime.strptime(x, '%Y-%m-%d')\n",
    ")"
   ]
  },
  {
   "cell_type": "code",
   "execution_count": 11,
   "metadata": {},
   "outputs": [
    {
     "name": "stdout",
     "output_type": "stream",
     "text": [
      "<class 'pandas.core.frame.DataFrame'>\n",
      "RangeIndex: 1197 entries, 0 to 1196\n",
      "Data columns (total 5 columns):\n",
      " #   Column         Non-Null Count  Dtype         \n",
      "---  ------         --------------  -----         \n",
      " 0   transactionId  1197 non-null   int64         \n",
      " 1   visitorId      1197 non-null   int64         \n",
      " 2   date           1197 non-null   datetime64[ns]\n",
      " 3   revenue        1197 non-null   int64         \n",
      " 4   group          1197 non-null   object        \n",
      "dtypes: datetime64[ns](1), int64(3), object(1)\n",
      "memory usage: 46.9+ KB\n"
     ]
    }
   ],
   "source": [
    "orders.info()"
   ]
  },
  {
   "cell_type": "code",
   "execution_count": 12,
   "metadata": {},
   "outputs": [
    {
     "name": "stdout",
     "output_type": "stream",
     "text": [
      "<class 'pandas.core.frame.DataFrame'>\n",
      "RangeIndex: 62 entries, 0 to 61\n",
      "Data columns (total 3 columns):\n",
      " #   Column    Non-Null Count  Dtype         \n",
      "---  ------    --------------  -----         \n",
      " 0   date      62 non-null     datetime64[ns]\n",
      " 1   group     62 non-null     object        \n",
      " 2   visitors  62 non-null     int64         \n",
      "dtypes: datetime64[ns](1), int64(1), object(1)\n",
      "memory usage: 1.6+ KB\n"
     ]
    }
   ],
   "source": [
    "visitors.info()"
   ]
  },
  {
   "cell_type": "markdown",
   "metadata": {},
   "source": [
    "В таблицах `orders`и `visitors` мы изменили тип данных в столбцах `date` на соответствующий. В остальном с данными все в порядке."
   ]
  },
  {
   "cell_type": "markdown",
   "metadata": {},
   "source": [
    "<a id='section2'></a>\n",
    "### Приоритизация гипотез.\n",
    "[Оглавление](#top)"
   ]
  },
  {
   "cell_type": "markdown",
   "metadata": {},
   "source": [
    "Применим фреймворк ICE. Рассчитаем баллы по следующей формуле:\n",
    "\n",
    "$$ICE = \\frac{Impact * Confidence}{Efforts}$$"
   ]
  },
  {
   "cell_type": "code",
   "execution_count": 13,
   "metadata": {},
   "outputs": [
    {
     "data": {
      "text/html": [
       "<div>\n",
       "<style scoped>\n",
       "    .dataframe tbody tr th:only-of-type {\n",
       "        vertical-align: middle;\n",
       "    }\n",
       "\n",
       "    .dataframe tbody tr th {\n",
       "        vertical-align: top;\n",
       "    }\n",
       "\n",
       "    .dataframe thead th {\n",
       "        text-align: right;\n",
       "    }\n",
       "</style>\n",
       "<table border=\"1\" class=\"dataframe\">\n",
       "  <thead>\n",
       "    <tr style=\"text-align: right;\">\n",
       "      <th></th>\n",
       "      <th>Hypothesis</th>\n",
       "      <th>ICE</th>\n",
       "    </tr>\n",
       "  </thead>\n",
       "  <tbody>\n",
       "    <tr>\n",
       "      <th>8</th>\n",
       "      <td>Запустить акцию, дающую скидку на товар в день рождения</td>\n",
       "      <td>16.200000</td>\n",
       "    </tr>\n",
       "    <tr>\n",
       "      <th>0</th>\n",
       "      <td>Добавить два новых канала привлечения трафика, что позволит привлекать на 30% больше пользователей</td>\n",
       "      <td>13.333333</td>\n",
       "    </tr>\n",
       "    <tr>\n",
       "      <th>7</th>\n",
       "      <td>Добавить форму подписки на все основные страницы, чтобы собрать базу клиентов для email-рассылок</td>\n",
       "      <td>11.200000</td>\n",
       "    </tr>\n",
       "    <tr>\n",
       "      <th>6</th>\n",
       "      <td>Показать на главной странице баннеры с актуальными акциями и распродажами, чтобы увеличить конверсию</td>\n",
       "      <td>8.000000</td>\n",
       "    </tr>\n",
       "    <tr>\n",
       "      <th>2</th>\n",
       "      <td>Добавить блоки рекомендаций товаров на сайт интернет магазина, чтобы повысить конверсию и средний чек заказа</td>\n",
       "      <td>7.000000</td>\n",
       "    </tr>\n",
       "    <tr>\n",
       "      <th>1</th>\n",
       "      <td>Запустить собственную службу доставки, что сократит срок доставки заказов</td>\n",
       "      <td>2.000000</td>\n",
       "    </tr>\n",
       "    <tr>\n",
       "      <th>5</th>\n",
       "      <td>Добавить страницу отзывов клиентов о магазине, что позволит увеличить количество заказов</td>\n",
       "      <td>1.333333</td>\n",
       "    </tr>\n",
       "    <tr>\n",
       "      <th>3</th>\n",
       "      <td>Изменить структура категорий, что увеличит конверсию, т.к. пользователи быстрее найдут нужный товар</td>\n",
       "      <td>1.125000</td>\n",
       "    </tr>\n",
       "    <tr>\n",
       "      <th>4</th>\n",
       "      <td>Изменить цвет фона главной страницы, чтобы увеличить вовлеченность пользователей</td>\n",
       "      <td>1.000000</td>\n",
       "    </tr>\n",
       "  </tbody>\n",
       "</table>\n",
       "</div>"
      ],
      "text/plain": [
       "                                                                                                     Hypothesis  \\\n",
       "8                                                       Запустить акцию, дающую скидку на товар в день рождения   \n",
       "0            Добавить два новых канала привлечения трафика, что позволит привлекать на 30% больше пользователей   \n",
       "7              Добавить форму подписки на все основные страницы, чтобы собрать базу клиентов для email-рассылок   \n",
       "6          Показать на главной странице баннеры с актуальными акциями и распродажами, чтобы увеличить конверсию   \n",
       "2  Добавить блоки рекомендаций товаров на сайт интернет магазина, чтобы повысить конверсию и средний чек заказа   \n",
       "1                                     Запустить собственную службу доставки, что сократит срок доставки заказов   \n",
       "5                      Добавить страницу отзывов клиентов о магазине, что позволит увеличить количество заказов   \n",
       "3           Изменить структура категорий, что увеличит конверсию, т.к. пользователи быстрее найдут нужный товар   \n",
       "4                              Изменить цвет фона главной страницы, чтобы увеличить вовлеченность пользователей   \n",
       "\n",
       "         ICE  \n",
       "8  16.200000  \n",
       "0  13.333333  \n",
       "7  11.200000  \n",
       "6   8.000000  \n",
       "2   7.000000  \n",
       "1   2.000000  \n",
       "5   1.333333  \n",
       "3   1.125000  \n",
       "4   1.000000  "
      ]
     },
     "execution_count": 13,
     "metadata": {},
     "output_type": "execute_result"
    }
   ],
   "source": [
    "hypothesis['ICE'] = hypothesis['Impact'] * hypothesis['Confidence'] / hypothesis['Efforts']\n",
    "hypothesis[['Hypothesis', 'ICE']].sort_values(by='ICE', ascending=False)"
   ]
  },
  {
   "cell_type": "markdown",
   "metadata": {},
   "source": [
    "Наиболее перспективные гипотезы 8, 0, 7, 6, 2. Теперь применим фреймворк RICE. Рассчитаем баллы следующим образом:\n",
    "\n",
    "$$RICE = \\frac{Rearch * Impact * Confidence}{Efforts}$$"
   ]
  },
  {
   "cell_type": "code",
   "execution_count": 14,
   "metadata": {},
   "outputs": [
    {
     "name": "stdout",
     "output_type": "stream",
     "text": [
      "                                                                                                     Hypothesis  \\\n",
      "7              Добавить форму подписки на все основные страницы, чтобы собрать базу клиентов для email-рассылок   \n",
      "2  Добавить блоки рекомендаций товаров на сайт интернет магазина, чтобы повысить конверсию и средний чек заказа   \n",
      "0            Добавить два новых канала привлечения трафика, что позволит привлекать на 30% больше пользователей   \n",
      "6          Показать на главной странице баннеры с актуальными акциями и распродажами, чтобы увеличить конверсию   \n",
      "8                                                       Запустить акцию, дающую скидку на товар в день рождения   \n",
      "3           Изменить структура категорий, что увеличит конверсию, т.к. пользователи быстрее найдут нужный товар   \n",
      "1                                     Запустить собственную службу доставки, что сократит срок доставки заказов   \n",
      "5                      Добавить страницу отзывов клиентов о магазине, что позволит увеличить количество заказов   \n",
      "4                              Изменить цвет фона главной страницы, чтобы увеличить вовлеченность пользователей   \n",
      "\n",
      "    RICE  \n",
      "7  112.0  \n",
      "2   56.0  \n",
      "0   40.0  \n",
      "6   40.0  \n",
      "8   16.2  \n",
      "3    9.0  \n",
      "1    4.0  \n",
      "5    4.0  \n",
      "4    3.0  \n"
     ]
    }
   ],
   "source": [
    "hypothesis['RICE'] = hypothesis['Reach'] * hypothesis['Impact'] * hypothesis['Confidence'] / hypothesis['Efforts']\n",
    "print(hypothesis[['Hypothesis', 'RICE']].sort_values(by='RICE', ascending=False))"
   ]
  },
  {
   "cell_type": "markdown",
   "metadata": {},
   "source": [
    "Приоритизация гипотез при применении RICE изменилась. Снова наиболее перспективные гипотезы 0, 2, 6, 7, 8, но изменился их порядок. Так получилось из-за параметра Reach (количество пользователей, которых гипотеза затронет), который мы не учитывали в предыдущем расчете. У гипотезы 7 параметр Reach равен 10, у других гипотез он меньше."
   ]
  },
  {
   "cell_type": "markdown",
   "metadata": {},
   "source": [
    "<a id='section3'></a>\n",
    "### Анализ A/B-теста.\n",
    "[Оглавление](#top)"
   ]
  },
  {
   "cell_type": "markdown",
   "metadata": {},
   "source": [
    "Для начала проверим, что каждый пользователь попал только в одну группу. "
   ]
  },
  {
   "cell_type": "code",
   "execution_count": 15,
   "metadata": {},
   "outputs": [
    {
     "data": {
      "text/html": [
       "<div>\n",
       "<style scoped>\n",
       "    .dataframe tbody tr th:only-of-type {\n",
       "        vertical-align: middle;\n",
       "    }\n",
       "\n",
       "    .dataframe tbody tr th {\n",
       "        vertical-align: top;\n",
       "    }\n",
       "\n",
       "    .dataframe thead th {\n",
       "        text-align: right;\n",
       "    }\n",
       "</style>\n",
       "<table border=\"1\" class=\"dataframe\">\n",
       "  <thead>\n",
       "    <tr style=\"text-align: right;\">\n",
       "      <th></th>\n",
       "      <th>group</th>\n",
       "    </tr>\n",
       "    <tr>\n",
       "      <th>visitorId</th>\n",
       "      <th></th>\n",
       "    </tr>\n",
       "  </thead>\n",
       "  <tbody>\n",
       "    <tr>\n",
       "      <th>2654030115</th>\n",
       "      <td>2</td>\n",
       "    </tr>\n",
       "    <tr>\n",
       "      <th>3891541246</th>\n",
       "      <td>2</td>\n",
       "    </tr>\n",
       "    <tr>\n",
       "      <th>3941795274</th>\n",
       "      <td>2</td>\n",
       "    </tr>\n",
       "    <tr>\n",
       "      <th>1404934699</th>\n",
       "      <td>2</td>\n",
       "    </tr>\n",
       "    <tr>\n",
       "      <th>351125977</th>\n",
       "      <td>2</td>\n",
       "    </tr>\n",
       "    <tr>\n",
       "      <th>3951559397</th>\n",
       "      <td>2</td>\n",
       "    </tr>\n",
       "    <tr>\n",
       "      <th>2927087541</th>\n",
       "      <td>2</td>\n",
       "    </tr>\n",
       "    <tr>\n",
       "      <th>3963646447</th>\n",
       "      <td>2</td>\n",
       "    </tr>\n",
       "    <tr>\n",
       "      <th>2458001652</th>\n",
       "      <td>2</td>\n",
       "    </tr>\n",
       "    <tr>\n",
       "      <th>3972127743</th>\n",
       "      <td>2</td>\n",
       "    </tr>\n",
       "  </tbody>\n",
       "</table>\n",
       "</div>"
      ],
      "text/plain": [
       "            group\n",
       "visitorId        \n",
       "2654030115      2\n",
       "3891541246      2\n",
       "3941795274      2\n",
       "1404934699      2\n",
       "351125977       2\n",
       "3951559397      2\n",
       "2927087541      2\n",
       "3963646447      2\n",
       "2458001652      2\n",
       "3972127743      2"
      ]
     },
     "execution_count": 15,
     "metadata": {},
     "output_type": "execute_result"
    }
   ],
   "source": [
    "orders_group = orders.groupby('visitorId').agg({'group': 'nunique'}).sort_values(by='group', ascending=False)\n",
    "orders_group.head(10)"
   ]
  },
  {
   "cell_type": "markdown",
   "metadata": {},
   "source": [
    "Посчитаем количество пользователей, попавших в обе группы."
   ]
  },
  {
   "cell_type": "code",
   "execution_count": 16,
   "metadata": {},
   "outputs": [
    {
     "data": {
      "text/plain": [
       "58"
      ]
     },
     "execution_count": 16,
     "metadata": {},
     "output_type": "execute_result"
    }
   ],
   "source": [
    "orders_ab = orders_group[orders_group['group'] > 1]\n",
    "orders_ab.shape[0]"
   ]
  },
  {
   "cell_type": "markdown",
   "metadata": {},
   "source": [
    "58 пользователей попали в обе группы теста. Лучше удалить этих пользователей перед дальнейшим анализом."
   ]
  },
  {
   "cell_type": "code",
   "execution_count": 17,
   "metadata": {},
   "outputs": [],
   "source": [
    "visitors_a = orders[orders['group']=='A']['visitorId']\n",
    "visitors_b = orders[orders['group']=='B']['visitorId']\n",
    "visitors_ab = orders.loc[orders['visitorId'].isin(visitors_a)& orders['visitorId'].isin(visitors_b),'visitorId'].unique()\n",
    "orders = orders.loc[~orders['visitorId'].isin(visitors_ab)]"
   ]
  },
  {
   "cell_type": "code",
   "execution_count": 18,
   "metadata": {},
   "outputs": [
    {
     "data": {
      "text/html": [
       "<div>\n",
       "<style scoped>\n",
       "    .dataframe tbody tr th:only-of-type {\n",
       "        vertical-align: middle;\n",
       "    }\n",
       "\n",
       "    .dataframe tbody tr th {\n",
       "        vertical-align: top;\n",
       "    }\n",
       "\n",
       "    .dataframe thead th {\n",
       "        text-align: right;\n",
       "    }\n",
       "</style>\n",
       "<table border=\"1\" class=\"dataframe\">\n",
       "  <thead>\n",
       "    <tr style=\"text-align: right;\">\n",
       "      <th></th>\n",
       "      <th>group</th>\n",
       "    </tr>\n",
       "    <tr>\n",
       "      <th>visitorId</th>\n",
       "      <th></th>\n",
       "    </tr>\n",
       "  </thead>\n",
       "  <tbody>\n",
       "    <tr>\n",
       "      <th>5114589</th>\n",
       "      <td>1</td>\n",
       "    </tr>\n",
       "    <tr>\n",
       "      <th>2908466434</th>\n",
       "      <td>1</td>\n",
       "    </tr>\n",
       "    <tr>\n",
       "      <th>2776274025</th>\n",
       "      <td>1</td>\n",
       "    </tr>\n",
       "    <tr>\n",
       "      <th>2785040378</th>\n",
       "      <td>1</td>\n",
       "    </tr>\n",
       "    <tr>\n",
       "      <th>2785527055</th>\n",
       "      <td>1</td>\n",
       "    </tr>\n",
       "    <tr>\n",
       "      <th>2801638130</th>\n",
       "      <td>1</td>\n",
       "    </tr>\n",
       "    <tr>\n",
       "      <th>2803209166</th>\n",
       "      <td>1</td>\n",
       "    </tr>\n",
       "    <tr>\n",
       "      <th>2805132315</th>\n",
       "      <td>1</td>\n",
       "    </tr>\n",
       "    <tr>\n",
       "      <th>2819072957</th>\n",
       "      <td>1</td>\n",
       "    </tr>\n",
       "    <tr>\n",
       "      <th>2819363575</th>\n",
       "      <td>1</td>\n",
       "    </tr>\n",
       "  </tbody>\n",
       "</table>\n",
       "</div>"
      ],
      "text/plain": [
       "            group\n",
       "visitorId        \n",
       "5114589         1\n",
       "2908466434      1\n",
       "2776274025      1\n",
       "2785040378      1\n",
       "2785527055      1\n",
       "2801638130      1\n",
       "2803209166      1\n",
       "2805132315      1\n",
       "2819072957      1\n",
       "2819363575      1"
      ]
     },
     "execution_count": 18,
     "metadata": {},
     "output_type": "execute_result"
    }
   ],
   "source": [
    "orders_group = orders.groupby('visitorId').agg({'group': 'nunique'}).sort_values(by='group', ascending=False)\n",
    "orders_group.head(10)"
   ]
  },
  {
   "cell_type": "markdown",
   "metadata": {},
   "source": [
    "Теперь все пользователи находятся каждый в своей группе. \n",
    "\n",
    "Построим график кумулятивной выручки по группам. Для начала создадим массив уникальных пар значений дат и групп теста."
   ]
  },
  {
   "cell_type": "code",
   "execution_count": 19,
   "metadata": {},
   "outputs": [],
   "source": [
    "datesGroups = orders[['date', 'group']].drop_duplicates()"
   ]
  },
  {
   "cell_type": "markdown",
   "metadata": {},
   "source": [
    "Получим агрегированные кумулятивные по дням данные о заказах и данные о посетителях интернет-магазина."
   ]
  },
  {
   "cell_type": "code",
   "execution_count": 20,
   "metadata": {},
   "outputs": [],
   "source": [
    "ordersAggregated = datesGroups.apply(lambda x: orders[np.logical_and(orders['date'] <= x['date'], orders['group'] == x['group'])]\\\n",
    ".agg({'date' : 'max', 'group' : 'max', 'transactionId' : 'nunique', 'visitorId' : 'nunique', 'revenue' : 'sum'}), axis=1)\\\n",
    ".sort_values(by=['date','group'])\n",
    "\n",
    "visitorsAggregated = datesGroups.apply(lambda x: visitors[np.logical_and(visitors['date'] <= x['date'], visitors['group'] == x['group'])]\\\n",
    ".agg({'date' : 'max', 'group' : 'max', 'visitors' : 'sum'}), axis=1).sort_values(by=['date','group'])"
   ]
  },
  {
   "cell_type": "markdown",
   "metadata": {},
   "source": [
    "Объединим кумулятивные данные в одной таблице и присвоим ее столбцам понятные названия."
   ]
  },
  {
   "cell_type": "code",
   "execution_count": 21,
   "metadata": {},
   "outputs": [],
   "source": [
    "cumulativeData = ordersAggregated.merge(visitorsAggregated, left_on=['date', 'group'], right_on=['date', 'group'])\n",
    "cumulativeData.columns = ['date', 'group', 'orders', 'buyers', 'revenue', 'visitors']"
   ]
  },
  {
   "cell_type": "code",
   "execution_count": 22,
   "metadata": {},
   "outputs": [
    {
     "data": {
      "image/png": "[encoded data removed]",
      "text/plain": [
       "<Figure size 1080x288 with 1 Axes>"
      ]
     },
     "metadata": {
      "needs_background": "light"
     },
     "output_type": "display_data"
    }
   ],
   "source": [
    "cumulativeRevenueA = cumulativeData[cumulativeData['group']=='A'][['date','revenue', 'orders']]\n",
    "\n",
    "cumulativeRevenueB = cumulativeData[cumulativeData['group']=='B'][['date','revenue', 'orders']]\n",
    "\n",
    "plt.figure(figsize=(15,4))\n",
    "plt.plot(cumulativeRevenueA['date'], cumulativeRevenueA['revenue'], label='A')\n",
    "plt.plot(cumulativeRevenueB['date'], cumulativeRevenueB['revenue'], label='B')\n",
    "\n",
    "plt.title('Кумулятивная выручка по группам')\n",
    "plt.xlabel('дата')\n",
    "plt.ylabel('выручка, миллионы')\n",
    "plt.legend();"
   ]
  },
  {
   "cell_type": "markdown",
   "metadata": {},
   "source": [
    "Выручка постепенно увеличивается в течение всего теста. В середине теста сегмент В резко вырвался вперед и продолжил лидировать весь остаток теста. Это может сигнализировать о всплесках числа заказов, либо о появлении очень дорогих заказов в выборке. \n",
    "\n",
    "\n",
    "Построим график кумулятивного среднего чека по группам."
   ]
  },
  {
   "cell_type": "code",
   "execution_count": 23,
   "metadata": {},
   "outputs": [
    {
     "data": {
      "image/png": "[encoded data removed]",
      "text/plain": [
       "<Figure size 1080x288 with 1 Axes>"
      ]
     },
     "metadata": {
      "needs_background": "light"
     },
     "output_type": "display_data"
    }
   ],
   "source": [
    "plt.figure(figsize=(15,4))\n",
    "plt.plot(cumulativeRevenueA['date'], cumulativeRevenueA['revenue']/cumulativeRevenueA['orders'], label='A')\n",
    "plt.plot(cumulativeRevenueB['date'], cumulativeRevenueB['revenue']/cumulativeRevenueB['orders'], label='B')\n",
    "plt.title('Кумулятивный средний чек по группам')\n",
    "plt.xlabel('дата')\n",
    "plt.ylabel('сумма среднего чека')\n",
    "plt.legend(); "
   ]
  },
  {
   "cell_type": "markdown",
   "metadata": {},
   "source": [
    "Средний чек по сегментам колеблется. У сегмента В заметен резкий всплеск в середине теста, затем небольшой спад. К концу теста средний чек становится равномерным. Возможно в группу В попали очень крупные заказы, в связи с чем наблюдается всплеск на графике. \n",
    "\n",
    "Построим график относительного изменения кумулятивного среднего чека группы B к группе A."
   ]
  },
  {
   "cell_type": "code",
   "execution_count": 24,
   "metadata": {},
   "outputs": [
    {
     "data": {
      "image/png": "[encoded data removed]",
      "text/plain": [
       "<Figure size 1080x288 with 1 Axes>"
      ]
     },
     "metadata": {
      "needs_background": "light"
     },
     "output_type": "display_data"
    }
   ],
   "source": [
    "mergedCumulativeRevenue = cumulativeRevenueA.merge(cumulativeRevenueB, left_on='date', right_on='date', how='left', suffixes=['A', 'B'])\n",
    "\n",
    "plt.figure(figsize=(15,4))\n",
    "plt.plot(mergedCumulativeRevenue['date'], (mergedCumulativeRevenue['revenueB']/mergedCumulativeRevenue['ordersB'])/(mergedCumulativeRevenue['revenueA']/mergedCumulativeRevenue['ordersA'])-1)\n",
    "\n",
    "plt.axhline(y=0, color='black', linestyle='--')\n",
    "plt.title('Относительное изменение среднего чека группы В к группе А')\n",
    "plt.xlabel('дата')\n",
    "plt.ylabel('изменение среднего чека'); "
   ]
  },
  {
   "cell_type": "markdown",
   "metadata": {},
   "source": [
    "Результаты теста значительно и резко менялись в несколько дат. Вероятно тогда и были совершены аномальные заказы. \n",
    "\n",
    "Построим график кумулятивного среднего количества заказов на посетителя по группам."
   ]
  },
  {
   "cell_type": "code",
   "execution_count": 25,
   "metadata": {},
   "outputs": [
    {
     "data": {
      "image/png": "[encoded data removed]",
      "text/plain": [
       "<Figure size 1080x288 with 1 Axes>"
      ]
     },
     "metadata": {
      "needs_background": "light"
     },
     "output_type": "display_data"
    }
   ],
   "source": [
    "cumulativeData['average_order'] = cumulativeData['orders']/cumulativeData['visitors']\n",
    "\n",
    "\n",
    "cumulativeDataA = cumulativeData[cumulativeData['group']=='A']\n",
    "\n",
    "\n",
    "cumulativeDataB = cumulativeData[cumulativeData['group']=='B']\n",
    "\n",
    "\n",
    "plt.figure(figsize=(15,4))\n",
    "plt.plot(cumulativeDataA['date'], cumulativeDataA['average_order'], label='A')\n",
    "plt.plot(cumulativeDataB['date'], cumulativeDataB['average_order'], label='B')\n",
    "plt.title('Кумулятивное среднего количества заказов на посетителя по группам')\n",
    "plt.xlabel('дата')\n",
    "plt.ylabel('среднее количество заказов')\n",
    "plt.legend()\n",
    "plt.axis([dt.datetime(2019, 8, 1), dt.datetime(2019, 9, 1), 0, 0.05]);"
   ]
  },
  {
   "cell_type": "markdown",
   "metadata": {},
   "source": [
    "В начале теста сегмент А имел большее среднее количество заказов, но постепенно сегмент В выровнялся и зафиксировался около значения, большего, чем у сегмента А. \n",
    "\n",
    "Построим график относительного изменения кумулятивного среднего количества заказов на посетителя группы B к группе A."
   ]
  },
  {
   "cell_type": "code",
   "execution_count": 26,
   "metadata": {},
   "outputs": [
    {
     "data": {
      "image/png": "[encoded data removed]",
      "text/plain": [
       "<Figure size 1080x288 with 1 Axes>"
      ]
     },
     "metadata": {
      "needs_background": "light"
     },
     "output_type": "display_data"
    }
   ],
   "source": [
    "mergedCumulativeAverage = cumulativeDataA[['date','average_order']].merge(cumulativeDataB[['date','average_order']], left_on='date', right_on='date', how='left', suffixes=['A', 'B'])\n",
    "\n",
    "plt.figure(figsize=(15,4))\n",
    "plt.plot(mergedCumulativeAverage['date'], mergedCumulativeAverage['average_orderB']/mergedCumulativeAverage['average_orderA']-1, label=\"Относительный прирост среднего количества заказов группы B относительно группы A\")\n",
    "plt.title('Относительное изменение среднего количества заказов группы В к группе А')\n",
    "plt.xlabel('дата')\n",
    "plt.ylabel('изменение количество заказов')\n",
    "plt.legend()\n",
    "\n",
    "plt.axhline(y=0, color='black', linestyle='--')\n",
    "plt.axhline(y=0.2, color='grey', linestyle='--')\n",
    "plt.axis([dt.datetime(2019, 8, 1), dt.datetime(2019, 9, 1), -0.4, 0.4]);"
   ]
  },
  {
   "cell_type": "markdown",
   "metadata": {},
   "source": [
    "Почти с самого начала теста сегмент В лидирует по среднему количеству заказов. В середине теста прирост составляет около 20% относительно сегмента А. Затем происходит снижение, но значения продолжают колебаться. \n",
    "\n",
    "Построим точечный график количества заказов по пользователям."
   ]
  },
  {
   "cell_type": "code",
   "execution_count": 27,
   "metadata": {},
   "outputs": [
    {
     "data": {
      "image/png": "[encoded data removed]",
      "text/plain": [
       "<Figure size 432x288 with 1 Axes>"
      ]
     },
     "metadata": {
      "needs_background": "light"
     },
     "output_type": "display_data"
    }
   ],
   "source": [
    "ordersByUsers = (\n",
    "    orders.groupby('visitorId', as_index=False)\n",
    "    .agg({'transactionId': 'nunique'})\n",
    ")\n",
    "\n",
    "ordersByUsers.columns = ['userId', 'orders']\n",
    "\n",
    "x_values = pd.Series(range(0, len(ordersByUsers)))\n",
    "\n",
    "plt.scatter(x_values, ordersByUsers['orders'])\n",
    "plt.xlabel('количество пользователей')\n",
    "plt.ylabel('количество заказов')\n",
    "plt.title('Количество заказов по пользователям');"
   ]
  },
  {
   "cell_type": "markdown",
   "metadata": {},
   "source": [
    "Пользователей, сделавших заказ более 2 раз немного.Они могут быть аномальными. Посчитаем выборочные перцентили"
   ]
  },
  {
   "cell_type": "code",
   "execution_count": 28,
   "metadata": {},
   "outputs": [
    {
     "data": {
      "text/plain": [
       "array([1., 1., 2.])"
      ]
     },
     "execution_count": 28,
     "metadata": {},
     "output_type": "execute_result"
    }
   ],
   "source": [
    "np.percentile(ordersByUsers['orders'], [90, 95, 99])"
   ]
  },
  {
   "cell_type": "markdown",
   "metadata": {},
   "source": [
    "Не более 5% пользователей совершили больше 1 заказов, и не более 1% - больше 2 заказов. Построим точечный график стоимостей заказов. "
   ]
  },
  {
   "cell_type": "code",
   "execution_count": 29,
   "metadata": {},
   "outputs": [
    {
     "data": {
      "image/png": "[encoded data removed]",
      "text/plain": [
       "<Figure size 432x288 with 1 Axes>"
      ]
     },
     "metadata": {
      "needs_background": "light"
     },
     "output_type": "display_data"
    }
   ],
   "source": [
    "x_values = pd.Series(range(0, len(orders['revenue'])))\n",
    "\n",
    "plt.scatter(x_values, orders['revenue'])\n",
    "plt.xlabel('количество пользователей')\n",
    "plt.ylabel('стоимость заказов, сотни тысяч')\n",
    "plt.title('Стоимость заказов по пользователям');"
   ]
  },
  {
   "cell_type": "markdown",
   "metadata": {},
   "source": [
    "Заказов стоимостью 200000 очень мало, есть выбросы в районе 1200000. Посчитаем перцентили."
   ]
  },
  {
   "cell_type": "code",
   "execution_count": 30,
   "metadata": {},
   "outputs": [
    {
     "data": {
      "text/plain": [
       "array([17990., 26785., 53904.])"
      ]
     },
     "execution_count": 30,
     "metadata": {},
     "output_type": "execute_result"
    }
   ],
   "source": [
    "np.percentile(orders['revenue'], [90, 95, 99])"
   ]
  },
  {
   "cell_type": "markdown",
   "metadata": {},
   "source": [
    "Не более чем у 5% пользователей чек больше 26785, и не более чем у 1% - больше 53904."
   ]
  },
  {
   "cell_type": "markdown",
   "metadata": {},
   "source": [
    "Посчитаем статистическую значимость различий в среднем количестве заказов на посетителя между группами по «сырым» данным. Начнем с подготовки данных."
   ]
  },
  {
   "cell_type": "code",
   "execution_count": 31,
   "metadata": {},
   "outputs": [],
   "source": [
    "visitorsADaily = visitors[visitors['group'] == 'A'][['date', 'visitors']]\n",
    "visitorsADaily.columns = ['date', 'visitorsPerDateA']\n",
    "\n",
    "visitorsACummulative = visitorsADaily.apply(\n",
    "    lambda x: visitorsADaily[visitorsADaily['date'] <= x['date']].agg(\n",
    "        {'date': 'max', 'visitorsPerDateA': 'sum'}\n",
    "    ),\n",
    "    axis=1,\n",
    ")\n",
    "visitorsACummulative.columns = ['date', 'visitorsCummulativeA']\n",
    "\n",
    "visitorsBDaily = visitors[visitors['group'] == 'B'][['date', 'visitors']]\n",
    "visitorsBDaily.columns = ['date', 'visitorsPerDateB']\n",
    "\n",
    "visitorsBCummulative = visitorsBDaily.apply(\n",
    "    lambda x: visitorsBDaily[visitorsBDaily['date'] <= x['date']].agg(\n",
    "        {'date': 'max', 'visitorsPerDateB': 'sum'}\n",
    "    ),\n",
    "    axis=1,\n",
    ")\n",
    "visitorsBCummulative.columns = ['date', 'visitorsCummulativeB']\n",
    "\n",
    "ordersADaily = (\n",
    "    orders[orders['group'] == 'A'][['date', 'transactionId', 'visitorId', 'revenue']]\n",
    "    .groupby('date', as_index=False)\n",
    "    .agg({'transactionId': pd.Series.nunique, 'revenue': 'sum'})\n",
    ")\n",
    "ordersADaily.columns = ['date', 'ordersPerDateA', 'revenuePerDateA']\n",
    "\n",
    "ordersACummulative = ordersADaily.apply(\n",
    "    lambda x: ordersADaily[ordersADaily['date'] <= x['date']].agg(\n",
    "        {'date': 'max', 'ordersPerDateA': 'sum', 'revenuePerDateA': 'sum'}\n",
    "    ),\n",
    "    axis=1,\n",
    ").sort_values(by=['date'])\n",
    "ordersACummulative.columns = [\n",
    "    'date',\n",
    "    'ordersCummulativeA',\n",
    "    'revenueCummulativeA',\n",
    "]\n",
    "\n",
    "ordersBDaily = (\n",
    "    orders[orders['group'] == 'B'][['date', 'transactionId', 'visitorId', 'revenue']]\n",
    "    .groupby('date', as_index=False)\n",
    "    .agg({'transactionId': pd.Series.nunique, 'revenue': 'sum'})\n",
    ")\n",
    "ordersBDaily.columns = ['date', 'ordersPerDateB', 'revenuePerDateB']\n",
    "\n",
    "ordersBCummulative = ordersBDaily.apply(\n",
    "    lambda x: ordersBDaily[ordersBDaily['date'] <= x['date']].agg(\n",
    "        {'date': 'max', 'ordersPerDateB': 'sum', 'revenuePerDateB': 'sum'}\n",
    "    ),\n",
    "    axis=1,\n",
    ").sort_values(by=['date'])\n",
    "ordersBCummulative.columns = [\n",
    "    'date',\n",
    "    'ordersCummulativeB',\n",
    "    'revenueCummulativeB',\n",
    "]\n",
    "\n",
    "data = (\n",
    "    ordersADaily.merge(\n",
    "        ordersBDaily, left_on='date', right_on='date', how='left'\n",
    "    )\n",
    "    .merge(ordersACummulative, left_on='date', right_on='date', how='left')\n",
    "    .merge(ordersBCummulative, left_on='date', right_on='date', how='left')\n",
    "    .merge(visitorsADaily, left_on='date', right_on='date', how='left')\n",
    "    .merge(visitorsBDaily, left_on='date', right_on='date', how='left')\n",
    "    .merge(visitorsACummulative, left_on='date', right_on='date', how='left')\n",
    "    .merge(visitorsBCummulative, left_on='date', right_on='date', how='left')\n",
    ")"
   ]
  },
  {
   "cell_type": "markdown",
   "metadata": {},
   "source": [
    "Для подсчёта статистической значимости здесь и далее мы будем использовать тест Манна-Уитни. Критический уровень значимости p-value примем за 0.05. Сформулируем гипотезы:\n",
    "\n",
    "H_0: Различий в среднем количестве заказов между группами нет.\n",
    "\n",
    "H_1:Различия в среднем количестве заказов между группами есть."
   ]
  },
  {
   "cell_type": "code",
   "execution_count": 32,
   "metadata": {},
   "outputs": [
    {
     "name": "stdout",
     "output_type": "stream",
     "text": [
      "P-value: 0.01102\n",
      "Относительное различие в среднем между группами: 16.0%\n"
     ]
    }
   ],
   "source": [
    "ordersByUsersA = (\n",
    "    orders[orders['group'] == 'A']\n",
    "    .groupby('visitorId', as_index=False)\n",
    "    .agg({'transactionId': pd.Series.nunique})\n",
    ")\n",
    "ordersByUsersA.columns = ['userId', 'orders']\n",
    "\n",
    "ordersByUsersB = (\n",
    "    orders[orders['group'] == 'B']\n",
    "    .groupby('visitorId', as_index=False)\n",
    "    .agg({'transactionId': pd.Series.nunique})\n",
    ")\n",
    "ordersByUsersB.columns = ['userId', 'orders'] \n",
    "\n",
    "sampleA = pd.concat([ordersByUsersA['orders'],pd.Series(0, index=np.arange(data['visitorsPerDateA'].sum() - len(ordersByUsersA['orders'])), name='orders')],axis=0)\n",
    "\n",
    "sampleB = pd.concat([ordersByUsersB['orders'],pd.Series(0, index=np.arange(data['visitorsPerDateB'].sum() - len(ordersByUsersB['orders'])), name='orders')],axis=0)\n",
    "print('P-value:', \"{0:.5f}\".format(stats.mannwhitneyu(sampleA, sampleB)[1]))\n",
    "print(f\"Относительное различие в среднем между группами: {sampleB.mean() / sampleA.mean() - 1:.1%}\")"
   ]
  },
  {
   "cell_type": "code",
   "execution_count": 33,
   "metadata": {},
   "outputs": [
    {
     "name": "stdout",
     "output_type": "stream",
     "text": [
      "Относительно изменение конверсии: 16.0%\n"
     ]
    }
   ],
   "source": [
    "#CODE REVIEW\n",
    "print(f\"Относительно изменение конверсии: {sampleB.mean() / sampleA.mean() - 1:.1%}\")\n"
   ]
  },
  {
   "cell_type": "markdown",
   "metadata": {},
   "source": [
    "<hr style=\"border: 2px solid orange;\" />"
   ]
  },
  {
   "cell_type": "markdown",
   "metadata": {},
   "source": [
    "P-value меньше 0.05, поэтому нулевую гипотезу отвергаем. Анализ \"сырых\" данных говорит о том, что в среднем количестве заказов между группами есть статистически значимые различия. Относительный прирост среднего группы В к группе А равен 16%. \n",
    "\n",
    "Посмотрим на статистическую значимость различий в среднем чеке заказа между группами по «сырым» данным. Сформулируем гипотезы:\n",
    "\n",
    "H_0: Различий в среднем чеке заказа между группами нет.\n",
    "\n",
    "H_1:Различия в среднем чеке заказа между группами есть."
   ]
  },
  {
   "cell_type": "code",
   "execution_count": 34,
   "metadata": {},
   "outputs": [
    {
     "name": "stdout",
     "output_type": "stream",
     "text": [
      "P-value: 0.829\n",
      "Относительное различие в среднем чеке: 28.7%\n"
     ]
    }
   ],
   "source": [
    "print('P-value:', '{0:.3f}'.format(stats.mannwhitneyu(orders[orders['group']=='A']['revenue'], orders[orders['group']=='B']['revenue'])[1]))\n",
    "print(f\"Относительное различие в среднем чеке: {orders[orders['group']=='B']['revenue'].mean()/orders[orders['group']=='A']['revenue'].mean()-1:.1%}\") "
   ]
  },
  {
   "cell_type": "markdown",
   "metadata": {},
   "source": [
    "P-value значительно больше 0.05, значит статистически значимых отличий в среднем чеке между группами нет. Однако, относительное различие в среднем чеке между сегментами составляет 28.7% в пользу группы В. Приступим к анализу аномалий и посчитаем статистическую значимость различий в среднем количестве заказов на посетителя между группами между группами по «очищенным» данным."
   ]
  },
  {
   "cell_type": "markdown",
   "metadata": {},
   "source": [
    "Сначала подготовим очищенные от аномалий данные. Примем за аномальных пользователей тех, кто совершил более 2 заказов, или совершил заказ на сумму свыше 26 785 рублей. Так мы уберём 1% пользователей с наибольшим числом заказов и от 1% до 5% заказов с наибольшей стоимостью."
   ]
  },
  {
   "cell_type": "code",
   "execution_count": 35,
   "metadata": {},
   "outputs": [],
   "source": [
    "order_threshold = 1\n",
    "revenue_threshold = 26785"
   ]
  },
  {
   "cell_type": "code",
   "execution_count": 36,
   "metadata": {},
   "outputs": [],
   "source": [
    "usersWithManyOrders = pd.concat(\n",
    "    [\n",
    "        ordersByUsersA[ordersByUsersA['orders'] > order_threshold]['userId'],\n",
    "        ordersByUsersB[ordersByUsersB['orders'] > order_threshold]['userId'],\n",
    "    ],\n",
    "    axis=0,\n",
    ")\n",
    "usersWithExpensiveOrders = orders[orders['revenue'] > revenue_threshold]['visitorId']\n",
    "abnormalUsers = (\n",
    "    pd.concat([usersWithManyOrders, usersWithExpensiveOrders], axis=0)\n",
    "    .drop_duplicates()\n",
    "    .sort_values()\n",
    ")"
   ]
  },
  {
   "cell_type": "markdown",
   "metadata": {},
   "source": [
    "Считаем статистическую значимость различий в среднем количестве заказов на посетителя между группами по очищенным данным."
   ]
  },
  {
   "cell_type": "code",
   "execution_count": 37,
   "metadata": {},
   "outputs": [
    {
     "name": "stdout",
     "output_type": "stream",
     "text": [
      "P-value: 0.01593\n",
      "Относительное различие в среднем между группами: 17.4%\n"
     ]
    }
   ],
   "source": [
    "sampleAFiltered = pd.concat(\n",
    "    [\n",
    "        ordersByUsersA[\n",
    "            np.logical_not(ordersByUsersA['userId'].isin(abnormalUsers))\n",
    "        ]['orders'],\n",
    "        pd.Series(\n",
    "            0,\n",
    "            index=np.arange(\n",
    "                data['visitorsPerDateA'].sum() - len(ordersByUsersA['orders'])\n",
    "            ),\n",
    "            name='orders',\n",
    "        ),\n",
    "    ],\n",
    "    axis=0,\n",
    ")\n",
    "\n",
    "sampleBFiltered = pd.concat(\n",
    "    [\n",
    "        ordersByUsersB[\n",
    "            np.logical_not(ordersByUsersB['userId'].isin(abnormalUsers))\n",
    "        ]['orders'],\n",
    "        pd.Series(\n",
    "            0,\n",
    "            index=np.arange(\n",
    "                data['visitorsPerDateB'].sum() - len(ordersByUsersB['orders'])\n",
    "            ),\n",
    "            name='orders',\n",
    "        ),\n",
    "    ],\n",
    "    axis=0,\n",
    ") \n",
    "\n",
    "print('P-value:', '{0:.5f}'.format(stats.mannwhitneyu(sampleAFiltered, sampleBFiltered)[1]))\n",
    "print(f\"Относительное различие в среднем между группами: {sampleBFiltered.mean() / sampleAFiltered.mean() - 1:.1%}\") "
   ]
  },
  {
   "cell_type": "markdown",
   "metadata": {},
   "source": [
    "Как и в случае с \"сырыми\" данными P-value меньше 0.05, это значит, что в среднем количестве заказов между группами есть статистически значимые различия. \n",
    "\n",
    "Теперь посчитаем статистическую значимость различий в среднем чеке заказа между группами по очищенным данным."
   ]
  },
  {
   "cell_type": "code",
   "execution_count": 38,
   "metadata": {},
   "outputs": [
    {
     "name": "stdout",
     "output_type": "stream",
     "text": [
      "P-value: 0.727\n",
      "Относительное различие в среднем чеке: -3.4%\n"
     ]
    }
   ],
   "source": [
    "print('P-value:',\n",
    "    '{0:.3f}'.format(\n",
    "        stats.mannwhitneyu(\n",
    "            orders[\n",
    "                np.logical_and(\n",
    "                    orders['group'] == 'A',\n",
    "                    np.logical_not(orders['visitorId'].isin(abnormalUsers)),\n",
    "                )\n",
    "            ]['revenue'],\n",
    "            orders[\n",
    "                np.logical_and(\n",
    "                    orders['group'] == 'B',\n",
    "                    np.logical_not(orders['visitorId'].isin(abnormalUsers)),\n",
    "                )\n",
    "            ]['revenue'],\n",
    "        )[1]\n",
    "    )\n",
    ")\n",
    "\n",
    "print(\n",
    "    f\"Относительное различие в среднем чеке: {orders[np.logical_and(orders['group'] == 'B', np.logical_not(orders['visitorId'].isin(abnormalUsers)))]['revenue'].mean() / orders[np.logical_and(orders['group'] == 'A', np.logical_not(orders['visitorId'].isin(abnormalUsers)))]['revenue'].mean()- 1:.1%}\"\n",
    ")\n"
   ]
  },
  {
   "cell_type": "markdown",
   "metadata": {},
   "source": [
    "P-value также больше 0.05, значит статистически значимых отличий в среднем чеке между группами по-прежнему нет. Однако средний чек сегмента В стал значительно ниже, чем у сегмента А. Хотя общие выводы по результатам теста не изменились, заметно, насколько аномалии влияют на результат.\n",
    "\n",
    "Построим графики по очищенным данным. Подготовим данные."
   ]
  },
  {
   "cell_type": "code",
   "execution_count": 39,
   "metadata": {},
   "outputs": [],
   "source": [
    "orders_clean = orders.query('revenue<= @revenue_threshold')\n",
    "orders_by_users = (orders.groupby('visitorId')['revenue'].count()\n",
    "                   .reset_index()\n",
    "                   .rename(columns={'revenue':'orders'}))\n",
    "orders_by_users_clean = orders_by_users.query('orders<= @order_threshold')\n",
    "orders_clean = orders_clean.loc[orders_clean['visitorId'].isin(orders_by_users_clean['visitorId'])]"
   ]
  },
  {
   "cell_type": "markdown",
   "metadata": {},
   "source": [
    "Посчитаем кумулятивную выручку по группам."
   ]
  },
  {
   "cell_type": "code",
   "execution_count": 40,
   "metadata": {},
   "outputs": [
    {
     "data": {
      "image/png": "[encoded data removed]",
      "text/plain": [
       "<Figure size 1080x288 with 1 Axes>"
      ]
     },
     "metadata": {
      "needs_background": "light"
     },
     "output_type": "display_data"
    }
   ],
   "source": [
    "ordersAggregated = datesGroups.apply(lambda x: orders_clean[np.logical_and(orders_clean['date'] <= x['date'], orders_clean['group'] == x['group'])]\\\n",
    ".agg({'date' : 'max', 'group' : 'max', 'transactionId' : 'nunique', 'visitorId' : 'nunique', 'revenue' : 'sum'}), axis=1)\\\n",
    ".sort_values(by=['date','group'])\n",
    "\n",
    "visitorsAggregated = datesGroups.apply(lambda x: visitors[np.logical_and(visitors['date'] <= x['date'], visitors['group'] == x['group'])]\\\n",
    ".agg({'date' : 'max', 'group' : 'max', 'visitors' : 'sum'}), axis=1).sort_values(by=['date','group'])\n",
    "\n",
    "cumulativeData = ordersAggregated.merge(visitorsAggregated, left_on=['date', 'group'], right_on=['date', 'group'])\n",
    "cumulativeData.columns = ['date', 'group', 'orders', 'buyers', 'revenue', 'visitors']\n",
    "\n",
    "cumulativeRevenueA = cumulativeData[cumulativeData['group']=='A'][['date','revenue', 'orders']]\n",
    "\n",
    "cumulativeRevenueB = cumulativeData[cumulativeData['group']=='B'][['date','revenue', 'orders']]\n",
    "\n",
    "plt.figure(figsize=(15,4))\n",
    "plt.plot(cumulativeRevenueA['date'], cumulativeRevenueA['revenue'], label='A')\n",
    "plt.plot(cumulativeRevenueB['date'], cumulativeRevenueB['revenue'], label='B')\n",
    "\n",
    "plt.title('Кумулятивная выручка по группам')\n",
    "plt.xlabel('дата')\n",
    "plt.ylabel('выручка, миллионы')\n",
    "plt.legend();"
   ]
  },
  {
   "cell_type": "markdown",
   "metadata": {},
   "source": [
    "После удаления аномальных значений график показывает равномерное увеличение выручки в течение всего теста. При этом показатели группы В заметно выше, чем у группы А."
   ]
  },
  {
   "cell_type": "code",
   "execution_count": 41,
   "metadata": {},
   "outputs": [
    {
     "data": {
      "image/png": "[encoded data removed]",
      "text/plain": [
       "<Figure size 1080x288 with 1 Axes>"
      ]
     },
     "metadata": {
      "needs_background": "light"
     },
     "output_type": "display_data"
    }
   ],
   "source": [
    "plt.figure(figsize=(15,4))\n",
    "plt.plot(cumulativeRevenueA['date'], cumulativeRevenueA['revenue']/cumulativeRevenueA['orders'], label='A')\n",
    "plt.plot(cumulativeRevenueB['date'], cumulativeRevenueB['revenue']/cumulativeRevenueB['orders'], label='B')\n",
    "plt.title('Кумулятивный средний чек по группам')\n",
    "plt.xlabel('дата')\n",
    "plt.ylabel('средний чек')\n",
    "plt.legend(); "
   ]
  },
  {
   "cell_type": "code",
   "execution_count": 42,
   "metadata": {},
   "outputs": [
    {
     "data": {
      "image/png": "[encoded data removed]",
      "text/plain": [
       "<Figure size 1080x288 with 1 Axes>"
      ]
     },
     "metadata": {
      "needs_background": "light"
     },
     "output_type": "display_data"
    }
   ],
   "source": [
    "mergedCumulativeRevenue = cumulativeRevenueA.merge(cumulativeRevenueB, left_on='date', right_on='date', how='left', suffixes=['A', 'B'])\n",
    "\n",
    "plt.figure(figsize=(15,4))\n",
    "plt.plot(mergedCumulativeRevenue['date'], (mergedCumulativeRevenue['revenueB']/mergedCumulativeRevenue['ordersB'])/(mergedCumulativeRevenue['revenueA']/mergedCumulativeRevenue['ordersA'])-1)\n",
    "\n",
    "plt.axhline(y=0, color='black', linestyle='--')\n",
    "plt.title('Относительное изменение среднего чека группы В к группе А')\n",
    "plt.xlabel('дата')\n",
    "plt.ylabel('изменение среднего чека'); "
   ]
  },
  {
   "cell_type": "markdown",
   "metadata": {},
   "source": [
    "Показатели среднего чека колеблются, в основном средний чек сегмента В значительно ниже, чем у сегмента А."
   ]
  },
  {
   "cell_type": "markdown",
   "metadata": {},
   "source": [
    "- В среднем количестве заказов между группами есть статистически значимые различия и по «сырым» данным, и по данным после фильтрации аномалий;\n",
    "- По среднему чеку между группами ни по «сырым», ни по данным после фильтрации аномалий статистически значимых отличий в среднем чеке между группами нет, но средний чек группы В после удаления аномалий стал намного ниже;\n",
    "- График различия среднего чека говорит о том, что результаты группы B немного хуже, чем у группы А;\n",
    "- График различия среднего количества заказов между группами сообщает, что результаты группы B лучше группы A;\n",
    "\n",
    "Тест В выглядит более успешным, несмотря на более низкий средний чек. Поскольку среднее количество заказов и размер кумулятивной выручки у группы В выше, рекомендуем завершить тест и зафиксировать победу группы В."
   ]
  },
  {
   "cell_type": "markdown",
   "metadata": {},
   "source": [
    "<a id='section4'></a>\n",
    "### Выводы\n",
    "[Оглавление](#top)\n",
    "\n",
    "Проанализировав приоритизацию гипотез, мы пришли к выводу, что наиболее перспективной является гипотеза под номером 7.\n",
    "\n",
    "Анализ проведенного A/B-теста показал, что результаты теста В успешнее, чем у теста А, поэтому рекомендуем завершить тест, зафиксировав победу группы В."
   ]
  }
 ],
 "metadata": {
  "ExecuteTimeLog": [
   {
    "duration": 449,
    "start_time": "2023-05-11T08:23:45.776Z"
   },
   {
    "duration": 112,
    "start_time": "2023-05-11T08:25:35.188Z"
   },
   {
    "duration": 14,
    "start_time": "2023-05-11T08:25:45.191Z"
   },
   {
    "duration": 8,
    "start_time": "2023-05-11T08:26:01.294Z"
   },
   {
    "duration": 145,
    "start_time": "2023-05-11T08:26:41.687Z"
   },
   {
    "duration": 8,
    "start_time": "2023-05-11T08:26:51.281Z"
   },
   {
    "duration": 22,
    "start_time": "2023-05-11T08:26:56.842Z"
   },
   {
    "duration": 8,
    "start_time": "2023-05-11T08:27:01.592Z"
   },
   {
    "duration": 155,
    "start_time": "2023-05-11T08:27:36.604Z"
   },
   {
    "duration": 12,
    "start_time": "2023-05-11T08:27:47.872Z"
   },
   {
    "duration": 10,
    "start_time": "2023-05-11T08:28:15.402Z"
   },
   {
    "duration": 11,
    "start_time": "2023-05-11T08:28:36.686Z"
   },
   {
    "duration": 19,
    "start_time": "2023-05-11T08:29:04.336Z"
   },
   {
    "duration": 9,
    "start_time": "2023-05-11T08:29:44.522Z"
   },
   {
    "duration": 20,
    "start_time": "2023-05-11T08:30:02.944Z"
   },
   {
    "duration": 19,
    "start_time": "2023-05-11T08:30:20.465Z"
   },
   {
    "duration": 20,
    "start_time": "2023-05-11T08:30:28.062Z"
   },
   {
    "duration": 8,
    "start_time": "2023-05-11T08:30:43.227Z"
   },
   {
    "duration": 12,
    "start_time": "2023-05-11T08:30:51.010Z"
   },
   {
    "duration": 1993,
    "start_time": "2023-05-11T08:33:45.781Z"
   },
   {
    "duration": 3,
    "start_time": "2023-05-11T08:34:10.435Z"
   },
   {
    "duration": 445,
    "start_time": "2023-05-11T08:34:17.676Z"
   },
   {
    "duration": 90,
    "start_time": "2023-05-11T08:34:18.123Z"
   },
   {
    "duration": 17,
    "start_time": "2023-05-11T08:34:18.215Z"
   },
   {
    "duration": 11,
    "start_time": "2023-05-11T08:34:18.233Z"
   },
   {
    "duration": 42,
    "start_time": "2023-05-11T08:34:18.253Z"
   },
   {
    "duration": 22,
    "start_time": "2023-05-11T08:34:18.297Z"
   },
   {
    "duration": 1445,
    "start_time": "2023-05-11T08:34:18.321Z"
   },
   {
    "duration": 0,
    "start_time": "2023-05-11T08:34:19.768Z"
   },
   {
    "duration": 0,
    "start_time": "2023-05-11T08:34:19.774Z"
   },
   {
    "duration": 1626,
    "start_time": "2023-05-11T08:35:00.473Z"
   },
   {
    "duration": 25,
    "start_time": "2023-05-11T08:35:56.242Z"
   },
   {
    "duration": 8,
    "start_time": "2023-05-11T08:36:02.284Z"
   },
   {
    "duration": 10,
    "start_time": "2023-05-11T08:36:05.332Z"
   },
   {
    "duration": 5,
    "start_time": "2023-05-11T08:36:44.407Z"
   },
   {
    "duration": 22,
    "start_time": "2023-05-11T08:36:51.865Z"
   },
   {
    "duration": 17,
    "start_time": "2023-05-11T08:37:02.170Z"
   },
   {
    "duration": 13,
    "start_time": "2023-05-11T08:44:53.343Z"
   },
   {
    "duration": 5,
    "start_time": "2023-05-11T08:46:28.736Z"
   },
   {
    "duration": 32,
    "start_time": "2023-05-11T08:46:34.169Z"
   },
   {
    "duration": 18,
    "start_time": "2023-05-11T08:47:00.140Z"
   },
   {
    "duration": 18,
    "start_time": "2023-05-11T08:48:20.384Z"
   },
   {
    "duration": 18,
    "start_time": "2023-05-11T08:48:26.196Z"
   },
   {
    "duration": 3,
    "start_time": "2023-05-11T09:04:33.662Z"
   },
   {
    "duration": 8,
    "start_time": "2023-05-11T09:23:48.269Z"
   },
   {
    "duration": 234,
    "start_time": "2023-05-11T09:24:36.593Z"
   },
   {
    "duration": 6,
    "start_time": "2023-05-11T09:25:06.577Z"
   },
   {
    "duration": 489,
    "start_time": "2023-05-11T09:25:15.509Z"
   },
   {
    "duration": 122,
    "start_time": "2023-05-11T09:25:16.000Z"
   },
   {
    "duration": 16,
    "start_time": "2023-05-11T09:25:16.124Z"
   },
   {
    "duration": 29,
    "start_time": "2023-05-11T09:25:16.142Z"
   },
   {
    "duration": 59,
    "start_time": "2023-05-11T09:25:16.173Z"
   },
   {
    "duration": 40,
    "start_time": "2023-05-11T09:25:16.234Z"
   },
   {
    "duration": 77,
    "start_time": "2023-05-11T09:25:16.276Z"
   },
   {
    "duration": 81,
    "start_time": "2023-05-11T09:25:16.358Z"
   },
   {
    "duration": 80,
    "start_time": "2023-05-11T09:25:16.442Z"
   },
   {
    "duration": 10,
    "start_time": "2023-05-11T09:25:16.525Z"
   },
   {
    "duration": 25,
    "start_time": "2023-05-11T09:25:16.537Z"
   },
   {
    "duration": 71,
    "start_time": "2023-05-11T09:25:16.563Z"
   },
   {
    "duration": 33,
    "start_time": "2023-05-11T09:25:16.635Z"
   },
   {
    "duration": 61,
    "start_time": "2023-05-11T09:25:16.670Z"
   },
   {
    "duration": 50,
    "start_time": "2023-05-11T09:25:16.733Z"
   },
   {
    "duration": 258,
    "start_time": "2023-05-11T09:25:16.784Z"
   },
   {
    "duration": 35,
    "start_time": "2023-05-11T09:27:44.021Z"
   },
   {
    "duration": 330,
    "start_time": "2023-05-11T09:28:05.975Z"
   },
   {
    "duration": 244,
    "start_time": "2023-05-11T09:29:27.418Z"
   },
   {
    "duration": 184,
    "start_time": "2023-05-11T09:30:32.022Z"
   },
   {
    "duration": 7,
    "start_time": "2023-05-11T09:31:21.719Z"
   },
   {
    "duration": 12,
    "start_time": "2023-05-11T09:32:04.031Z"
   },
   {
    "duration": 812,
    "start_time": "2023-05-11T09:32:24.230Z"
   },
   {
    "duration": 1049,
    "start_time": "2023-05-11T09:32:30.883Z"
   },
   {
    "duration": 136,
    "start_time": "2023-05-11T09:32:31.936Z"
   },
   {
    "duration": 29,
    "start_time": "2023-05-11T09:32:32.079Z"
   },
   {
    "duration": 87,
    "start_time": "2023-05-11T09:32:32.118Z"
   },
   {
    "duration": 38,
    "start_time": "2023-05-11T09:32:32.211Z"
   },
   {
    "duration": 95,
    "start_time": "2023-05-11T09:32:32.252Z"
   },
   {
    "duration": 165,
    "start_time": "2023-05-11T09:32:32.349Z"
   },
   {
    "duration": 36,
    "start_time": "2023-05-11T09:32:32.516Z"
   },
   {
    "duration": 176,
    "start_time": "2023-05-11T09:32:32.564Z"
   },
   {
    "duration": 95,
    "start_time": "2023-05-11T09:32:32.742Z"
   },
   {
    "duration": 97,
    "start_time": "2023-05-11T09:32:32.839Z"
   },
   {
    "duration": 173,
    "start_time": "2023-05-11T09:32:32.938Z"
   },
   {
    "duration": 74,
    "start_time": "2023-05-11T09:32:33.113Z"
   },
   {
    "duration": 61,
    "start_time": "2023-05-11T09:32:33.209Z"
   },
   {
    "duration": 121,
    "start_time": "2023-05-11T09:32:33.272Z"
   },
   {
    "duration": 349,
    "start_time": "2023-05-11T09:32:33.398Z"
   },
   {
    "duration": 179,
    "start_time": "2023-05-11T09:32:33.753Z"
   },
   {
    "duration": 14,
    "start_time": "2023-05-11T09:32:33.934Z"
   },
   {
    "duration": 488,
    "start_time": "2023-05-11T09:32:33.949Z"
   },
   {
    "duration": 435,
    "start_time": "2023-05-11T09:43:08.322Z"
   },
   {
    "duration": 297,
    "start_time": "2023-05-11T09:45:14.501Z"
   },
   {
    "duration": 286,
    "start_time": "2023-05-11T09:49:15.500Z"
   },
   {
    "duration": 346,
    "start_time": "2023-05-11T09:52:50.380Z"
   },
   {
    "duration": 361,
    "start_time": "2023-05-11T09:53:01.883Z"
   },
   {
    "duration": 370,
    "start_time": "2023-05-11T09:53:11.034Z"
   },
   {
    "duration": 44,
    "start_time": "2023-05-12T04:30:29.453Z"
   },
   {
    "duration": 778,
    "start_time": "2023-05-12T04:30:38.427Z"
   },
   {
    "duration": 175,
    "start_time": "2023-05-12T04:30:39.207Z"
   },
   {
    "duration": 12,
    "start_time": "2023-05-12T04:30:39.383Z"
   },
   {
    "duration": 11,
    "start_time": "2023-05-12T04:30:39.397Z"
   },
   {
    "duration": 8,
    "start_time": "2023-05-12T04:30:39.409Z"
   },
   {
    "duration": 10,
    "start_time": "2023-05-12T04:30:39.419Z"
   },
   {
    "duration": 12,
    "start_time": "2023-05-12T04:30:39.430Z"
   },
   {
    "duration": 9,
    "start_time": "2023-05-12T04:30:39.443Z"
   },
   {
    "duration": 10,
    "start_time": "2023-05-12T04:30:39.453Z"
   },
   {
    "duration": 10,
    "start_time": "2023-05-12T04:30:39.465Z"
   },
   {
    "duration": 11,
    "start_time": "2023-05-12T04:30:39.477Z"
   },
   {
    "duration": 9,
    "start_time": "2023-05-12T04:30:39.490Z"
   },
   {
    "duration": 10,
    "start_time": "2023-05-12T04:30:39.501Z"
   },
   {
    "duration": 7,
    "start_time": "2023-05-12T04:30:39.513Z"
   },
   {
    "duration": 31,
    "start_time": "2023-05-12T04:30:39.521Z"
   },
   {
    "duration": 271,
    "start_time": "2023-05-12T04:30:39.553Z"
   },
   {
    "duration": 6,
    "start_time": "2023-05-12T04:30:39.826Z"
   },
   {
    "duration": 254,
    "start_time": "2023-05-12T04:30:39.834Z"
   },
   {
    "duration": 163,
    "start_time": "2023-05-12T04:30:40.089Z"
   },
   {
    "duration": 315,
    "start_time": "2023-05-12T04:30:40.253Z"
   },
   {
    "duration": 249,
    "start_time": "2023-05-12T04:30:40.569Z"
   },
   {
    "duration": 168,
    "start_time": "2023-05-12T04:30:51.295Z"
   },
   {
    "duration": 157,
    "start_time": "2023-05-12T04:34:05.348Z"
   },
   {
    "duration": 362,
    "start_time": "2023-05-12T04:38:43.054Z"
   },
   {
    "duration": 237,
    "start_time": "2023-05-12T04:39:15.096Z"
   },
   {
    "duration": 152,
    "start_time": "2023-05-12T04:45:18.160Z"
   },
   {
    "duration": 61,
    "start_time": "2023-05-12T04:45:45.812Z"
   },
   {
    "duration": 325,
    "start_time": "2023-05-12T04:45:55.730Z"
   },
   {
    "duration": 262,
    "start_time": "2023-05-12T04:47:14.503Z"
   },
   {
    "duration": 277,
    "start_time": "2023-05-12T04:48:54.954Z"
   },
   {
    "duration": 280,
    "start_time": "2023-05-12T04:49:07.764Z"
   },
   {
    "duration": 273,
    "start_time": "2023-05-12T04:49:15.866Z"
   },
   {
    "duration": 362,
    "start_time": "2023-05-12T04:49:28.777Z"
   },
   {
    "duration": 308,
    "start_time": "2023-05-12T04:51:04.929Z"
   },
   {
    "duration": 163,
    "start_time": "2023-05-12T04:51:26.146Z"
   },
   {
    "duration": 286,
    "start_time": "2023-05-12T04:51:36.634Z"
   },
   {
    "duration": 168,
    "start_time": "2023-05-12T04:51:45.216Z"
   },
   {
    "duration": 178,
    "start_time": "2023-05-12T04:51:53.458Z"
   },
   {
    "duration": 161,
    "start_time": "2023-05-12T04:52:38.298Z"
   },
   {
    "duration": 349,
    "start_time": "2023-05-12T04:53:54.420Z"
   },
   {
    "duration": 301,
    "start_time": "2023-05-12T04:54:16.476Z"
   },
   {
    "duration": 322,
    "start_time": "2023-05-12T04:54:43.168Z"
   },
   {
    "duration": 303,
    "start_time": "2023-05-12T04:55:51.863Z"
   },
   {
    "duration": 335,
    "start_time": "2023-05-12T04:56:00.330Z"
   },
   {
    "duration": 295,
    "start_time": "2023-05-12T04:56:12.589Z"
   },
   {
    "duration": 273,
    "start_time": "2023-05-12T04:56:55.896Z"
   },
   {
    "duration": 295,
    "start_time": "2023-05-12T04:57:04.772Z"
   },
   {
    "duration": 322,
    "start_time": "2023-05-12T04:57:12.353Z"
   },
   {
    "duration": 257,
    "start_time": "2023-05-12T04:57:24.185Z"
   },
   {
    "duration": 8,
    "start_time": "2023-05-12T05:05:24.823Z"
   },
   {
    "duration": 125,
    "start_time": "2023-05-12T05:06:16.190Z"
   },
   {
    "duration": 132,
    "start_time": "2023-05-12T05:06:21.357Z"
   },
   {
    "duration": 5,
    "start_time": "2023-05-12T05:10:20.875Z"
   },
   {
    "duration": 13,
    "start_time": "2023-05-12T05:13:14.655Z"
   },
   {
    "duration": 154,
    "start_time": "2023-05-12T05:13:23.068Z"
   },
   {
    "duration": 134,
    "start_time": "2023-05-12T05:15:58.027Z"
   },
   {
    "duration": 5,
    "start_time": "2023-05-12T05:16:30.099Z"
   },
   {
    "duration": 140,
    "start_time": "2023-05-12T05:24:05.902Z"
   },
   {
    "duration": 269,
    "start_time": "2023-05-12T05:29:50.940Z"
   },
   {
    "duration": 155,
    "start_time": "2023-05-12T05:29:53.164Z"
   },
   {
    "duration": 163,
    "start_time": "2023-05-12T05:30:35.136Z"
   },
   {
    "duration": 37,
    "start_time": "2023-05-12T05:30:59.073Z"
   },
   {
    "duration": 77,
    "start_time": "2023-05-12T05:31:05.172Z"
   },
   {
    "duration": 0,
    "start_time": "2023-05-12T05:31:05.253Z"
   },
   {
    "duration": 0,
    "start_time": "2023-05-12T05:31:05.255Z"
   },
   {
    "duration": 0,
    "start_time": "2023-05-12T05:31:05.256Z"
   },
   {
    "duration": 0,
    "start_time": "2023-05-12T05:31:05.257Z"
   },
   {
    "duration": 0,
    "start_time": "2023-05-12T05:31:05.258Z"
   },
   {
    "duration": 0,
    "start_time": "2023-05-12T05:31:05.260Z"
   },
   {
    "duration": 0,
    "start_time": "2023-05-12T05:31:05.261Z"
   },
   {
    "duration": 0,
    "start_time": "2023-05-12T05:31:05.262Z"
   },
   {
    "duration": 1,
    "start_time": "2023-05-12T05:31:05.263Z"
   },
   {
    "duration": 0,
    "start_time": "2023-05-12T05:31:05.265Z"
   },
   {
    "duration": 0,
    "start_time": "2023-05-12T05:31:05.266Z"
   },
   {
    "duration": 0,
    "start_time": "2023-05-12T05:31:05.267Z"
   },
   {
    "duration": 0,
    "start_time": "2023-05-12T05:31:05.269Z"
   },
   {
    "duration": 0,
    "start_time": "2023-05-12T05:31:05.271Z"
   },
   {
    "duration": 0,
    "start_time": "2023-05-12T05:31:05.272Z"
   },
   {
    "duration": 0,
    "start_time": "2023-05-12T05:31:05.274Z"
   },
   {
    "duration": 0,
    "start_time": "2023-05-12T05:31:05.275Z"
   },
   {
    "duration": 0,
    "start_time": "2023-05-12T05:31:05.276Z"
   },
   {
    "duration": 0,
    "start_time": "2023-05-12T05:31:05.277Z"
   },
   {
    "duration": 0,
    "start_time": "2023-05-12T05:31:05.279Z"
   },
   {
    "duration": 0,
    "start_time": "2023-05-12T05:31:05.280Z"
   },
   {
    "duration": 0,
    "start_time": "2023-05-12T05:31:05.281Z"
   },
   {
    "duration": 0,
    "start_time": "2023-05-12T05:31:05.283Z"
   },
   {
    "duration": 96,
    "start_time": "2023-05-12T05:31:05.285Z"
   },
   {
    "duration": 0,
    "start_time": "2023-05-12T05:31:05.383Z"
   },
   {
    "duration": 0,
    "start_time": "2023-05-12T05:31:05.385Z"
   },
   {
    "duration": 0,
    "start_time": "2023-05-12T05:31:05.386Z"
   },
   {
    "duration": 1132,
    "start_time": "2023-05-12T05:31:25.175Z"
   },
   {
    "duration": 1097,
    "start_time": "2023-05-12T05:31:31.196Z"
   },
   {
    "duration": 80,
    "start_time": "2023-05-12T05:31:32.295Z"
   },
   {
    "duration": 11,
    "start_time": "2023-05-12T05:31:32.378Z"
   },
   {
    "duration": 22,
    "start_time": "2023-05-12T05:31:32.391Z"
   },
   {
    "duration": 20,
    "start_time": "2023-05-12T05:31:32.415Z"
   },
   {
    "duration": 24,
    "start_time": "2023-05-12T05:31:32.437Z"
   },
   {
    "duration": 26,
    "start_time": "2023-05-12T05:31:32.464Z"
   },
   {
    "duration": 8,
    "start_time": "2023-05-12T05:31:32.492Z"
   },
   {
    "duration": 11,
    "start_time": "2023-05-12T05:31:32.501Z"
   },
   {
    "duration": 5,
    "start_time": "2023-05-12T05:31:32.517Z"
   },
   {
    "duration": 21,
    "start_time": "2023-05-12T05:31:32.523Z"
   },
   {
    "duration": 21,
    "start_time": "2023-05-12T05:31:32.550Z"
   },
   {
    "duration": 18,
    "start_time": "2023-05-12T05:31:32.575Z"
   },
   {
    "duration": 8,
    "start_time": "2023-05-12T05:31:32.594Z"
   },
   {
    "duration": 7,
    "start_time": "2023-05-12T05:31:32.603Z"
   },
   {
    "duration": 306,
    "start_time": "2023-05-12T05:31:32.611Z"
   },
   {
    "duration": 7,
    "start_time": "2023-05-12T05:31:32.918Z"
   },
   {
    "duration": 267,
    "start_time": "2023-05-12T05:31:32.926Z"
   },
   {
    "duration": 197,
    "start_time": "2023-05-12T05:31:33.195Z"
   },
   {
    "duration": 284,
    "start_time": "2023-05-12T05:31:33.394Z"
   },
   {
    "duration": 222,
    "start_time": "2023-05-12T05:31:33.680Z"
   },
   {
    "duration": 343,
    "start_time": "2023-05-12T05:31:33.904Z"
   },
   {
    "duration": 149,
    "start_time": "2023-05-12T05:31:34.250Z"
   },
   {
    "duration": 4,
    "start_time": "2023-05-12T05:31:34.401Z"
   },
   {
    "duration": 147,
    "start_time": "2023-05-12T05:31:34.406Z"
   },
   {
    "duration": 7,
    "start_time": "2023-05-12T05:31:34.556Z"
   },
   {
    "duration": 229,
    "start_time": "2023-05-12T05:31:34.565Z"
   },
   {
    "duration": 178,
    "start_time": "2023-05-12T05:31:34.797Z"
   },
   {
    "duration": 256,
    "start_time": "2023-05-12T05:35:04.426Z"
   },
   {
    "duration": 204,
    "start_time": "2023-05-12T05:35:21.100Z"
   },
   {
    "duration": 255,
    "start_time": "2023-05-12T05:35:30.376Z"
   },
   {
    "duration": 36,
    "start_time": "2023-05-12T05:40:12.851Z"
   },
   {
    "duration": 1445,
    "start_time": "2023-05-12T05:46:29.976Z"
   },
   {
    "duration": 9,
    "start_time": "2023-05-12T05:47:43.778Z"
   },
   {
    "duration": 42,
    "start_time": "2023-05-12T05:50:19.735Z"
   },
   {
    "duration": 934,
    "start_time": "2023-05-12T05:52:57.564Z"
   },
   {
    "duration": 14,
    "start_time": "2023-05-12T05:53:39.102Z"
   },
   {
    "duration": 8,
    "start_time": "2023-05-12T05:56:10.319Z"
   },
   {
    "duration": 1071,
    "start_time": "2023-05-12T05:56:15.795Z"
   },
   {
    "duration": 65,
    "start_time": "2023-05-12T05:56:16.868Z"
   },
   {
    "duration": 14,
    "start_time": "2023-05-12T05:56:16.934Z"
   },
   {
    "duration": 21,
    "start_time": "2023-05-12T05:56:16.952Z"
   },
   {
    "duration": 8,
    "start_time": "2023-05-12T05:56:16.974Z"
   },
   {
    "duration": 12,
    "start_time": "2023-05-12T05:56:16.984Z"
   },
   {
    "duration": 13,
    "start_time": "2023-05-12T05:56:16.998Z"
   },
   {
    "duration": 9,
    "start_time": "2023-05-12T05:56:17.012Z"
   },
   {
    "duration": 43,
    "start_time": "2023-05-12T05:56:17.023Z"
   },
   {
    "duration": 5,
    "start_time": "2023-05-12T05:56:17.070Z"
   },
   {
    "duration": 12,
    "start_time": "2023-05-12T05:56:17.076Z"
   },
   {
    "duration": 13,
    "start_time": "2023-05-12T05:56:17.090Z"
   },
   {
    "duration": 12,
    "start_time": "2023-05-12T05:56:17.105Z"
   },
   {
    "duration": 9,
    "start_time": "2023-05-12T05:56:17.118Z"
   },
   {
    "duration": 33,
    "start_time": "2023-05-12T05:56:17.129Z"
   },
   {
    "duration": 304,
    "start_time": "2023-05-12T05:56:17.165Z"
   },
   {
    "duration": 8,
    "start_time": "2023-05-12T05:56:17.471Z"
   },
   {
    "duration": 296,
    "start_time": "2023-05-12T05:56:17.481Z"
   },
   {
    "duration": 209,
    "start_time": "2023-05-12T05:56:17.780Z"
   },
   {
    "duration": 287,
    "start_time": "2023-05-12T05:56:17.991Z"
   },
   {
    "duration": 234,
    "start_time": "2023-05-12T05:56:18.280Z"
   },
   {
    "duration": 367,
    "start_time": "2023-05-12T05:56:18.516Z"
   },
   {
    "duration": 122,
    "start_time": "2023-05-12T05:56:18.884Z"
   },
   {
    "duration": 5,
    "start_time": "2023-05-12T05:56:19.008Z"
   },
   {
    "duration": 170,
    "start_time": "2023-05-12T05:56:19.014Z"
   },
   {
    "duration": 6,
    "start_time": "2023-05-12T05:56:19.185Z"
   },
   {
    "duration": 251,
    "start_time": "2023-05-12T05:56:19.193Z"
   },
   {
    "duration": 176,
    "start_time": "2023-05-12T05:56:19.457Z"
   },
   {
    "duration": 30,
    "start_time": "2023-05-12T05:56:19.635Z"
   },
   {
    "duration": 8,
    "start_time": "2023-05-12T05:56:19.671Z"
   },
   {
    "duration": 44,
    "start_time": "2023-05-12T05:56:19.681Z"
   },
   {
    "duration": 34,
    "start_time": "2023-05-12T05:56:19.727Z"
   },
   {
    "duration": 46,
    "start_time": "2023-05-15T04:16:46.364Z"
   },
   {
    "duration": 1282,
    "start_time": "2023-05-15T04:16:52.718Z"
   },
   {
    "duration": 227,
    "start_time": "2023-05-15T04:16:54.002Z"
   },
   {
    "duration": 17,
    "start_time": "2023-05-15T04:16:54.231Z"
   },
   {
    "duration": 15,
    "start_time": "2023-05-15T04:16:54.250Z"
   },
   {
    "duration": 9,
    "start_time": "2023-05-15T04:16:54.269Z"
   },
   {
    "duration": 11,
    "start_time": "2023-05-15T04:16:54.280Z"
   },
   {
    "duration": 17,
    "start_time": "2023-05-15T04:16:54.293Z"
   },
   {
    "duration": 12,
    "start_time": "2023-05-15T04:16:54.312Z"
   },
   {
    "duration": 11,
    "start_time": "2023-05-15T04:16:54.350Z"
   },
   {
    "duration": 3,
    "start_time": "2023-05-15T04:16:54.363Z"
   },
   {
    "duration": 12,
    "start_time": "2023-05-15T04:16:54.367Z"
   },
   {
    "duration": 11,
    "start_time": "2023-05-15T04:16:54.380Z"
   },
   {
    "duration": 11,
    "start_time": "2023-05-15T04:16:54.392Z"
   },
   {
    "duration": 8,
    "start_time": "2023-05-15T04:16:54.405Z"
   },
   {
    "duration": 8,
    "start_time": "2023-05-15T04:16:54.451Z"
   },
   {
    "duration": 300,
    "start_time": "2023-05-15T04:16:54.461Z"
   },
   {
    "duration": 11,
    "start_time": "2023-05-15T04:16:54.763Z"
   },
   {
    "duration": 7,
    "start_time": "2023-05-15T04:16:54.775Z"
   },
   {
    "duration": 283,
    "start_time": "2023-05-15T04:16:54.783Z"
   },
   {
    "duration": 201,
    "start_time": "2023-05-15T04:16:55.067Z"
   },
   {
    "duration": 299,
    "start_time": "2023-05-15T04:16:55.269Z"
   },
   {
    "duration": 185,
    "start_time": "2023-05-15T04:16:55.570Z"
   },
   {
    "duration": 306,
    "start_time": "2023-05-15T04:16:55.757Z"
   },
   {
    "duration": 114,
    "start_time": "2023-05-15T04:16:56.064Z"
   },
   {
    "duration": 4,
    "start_time": "2023-05-15T04:16:56.179Z"
   },
   {
    "duration": 132,
    "start_time": "2023-05-15T04:16:56.185Z"
   },
   {
    "duration": 5,
    "start_time": "2023-05-15T04:16:56.319Z"
   },
   {
    "duration": 226,
    "start_time": "2023-05-15T04:16:56.326Z"
   },
   {
    "duration": 173,
    "start_time": "2023-05-15T04:16:56.553Z"
   },
   {
    "duration": 26,
    "start_time": "2023-05-15T04:16:56.728Z"
   },
   {
    "duration": 7,
    "start_time": "2023-05-15T04:16:56.756Z"
   },
   {
    "duration": 24,
    "start_time": "2023-05-15T04:16:56.765Z"
   },
   {
    "duration": 12,
    "start_time": "2023-05-15T04:16:56.791Z"
   },
   {
    "duration": 183,
    "start_time": "2023-05-15T04:59:40.041Z"
   },
   {
    "duration": 257,
    "start_time": "2023-05-15T04:59:50.813Z"
   },
   {
    "duration": 166,
    "start_time": "2023-05-15T04:59:58.642Z"
   },
   {
    "duration": 179,
    "start_time": "2023-05-15T05:00:10.778Z"
   },
   {
    "duration": 165,
    "start_time": "2023-05-15T05:00:15.237Z"
   },
   {
    "duration": 8,
    "start_time": "2023-05-15T05:29:49.013Z"
   },
   {
    "duration": 26,
    "start_time": "2023-05-15T05:29:50.825Z"
   },
   {
    "duration": 16,
    "start_time": "2023-05-15T05:30:52.567Z"
   },
   {
    "duration": 46,
    "start_time": "2023-05-15T05:46:17.058Z"
   },
   {
    "duration": 1086,
    "start_time": "2023-05-15T06:13:20.313Z"
   },
   {
    "duration": 67,
    "start_time": "2023-05-15T06:13:21.402Z"
   },
   {
    "duration": 12,
    "start_time": "2023-05-15T06:13:21.471Z"
   },
   {
    "duration": 17,
    "start_time": "2023-05-15T06:13:21.484Z"
   },
   {
    "duration": 13,
    "start_time": "2023-05-15T06:13:21.503Z"
   },
   {
    "duration": 13,
    "start_time": "2023-05-15T06:13:21.518Z"
   },
   {
    "duration": 21,
    "start_time": "2023-05-15T06:13:21.532Z"
   },
   {
    "duration": 9,
    "start_time": "2023-05-15T06:13:21.555Z"
   },
   {
    "duration": 11,
    "start_time": "2023-05-15T06:13:21.565Z"
   },
   {
    "duration": 4,
    "start_time": "2023-05-15T06:13:21.579Z"
   },
   {
    "duration": 23,
    "start_time": "2023-05-15T06:13:21.585Z"
   },
   {
    "duration": 11,
    "start_time": "2023-05-15T06:13:21.610Z"
   },
   {
    "duration": 34,
    "start_time": "2023-05-15T06:13:21.623Z"
   },
   {
    "duration": 7,
    "start_time": "2023-05-15T06:13:21.659Z"
   },
   {
    "duration": 8,
    "start_time": "2023-05-15T06:13:21.668Z"
   },
   {
    "duration": 307,
    "start_time": "2023-05-15T06:13:21.677Z"
   },
   {
    "duration": 7,
    "start_time": "2023-05-15T06:13:21.985Z"
   },
   {
    "duration": 272,
    "start_time": "2023-05-15T06:13:21.994Z"
   },
   {
    "duration": 193,
    "start_time": "2023-05-15T06:13:22.268Z"
   },
   {
    "duration": 356,
    "start_time": "2023-05-15T06:13:22.464Z"
   },
   {
    "duration": 196,
    "start_time": "2023-05-15T06:13:22.822Z"
   },
   {
    "duration": 341,
    "start_time": "2023-05-15T06:13:23.020Z"
   },
   {
    "duration": 112,
    "start_time": "2023-05-15T06:13:23.363Z"
   },
   {
    "duration": 5,
    "start_time": "2023-05-15T06:13:23.477Z"
   },
   {
    "duration": 152,
    "start_time": "2023-05-15T06:13:23.483Z"
   },
   {
    "duration": 13,
    "start_time": "2023-05-15T06:13:23.638Z"
   },
   {
    "duration": 243,
    "start_time": "2023-05-15T06:13:23.654Z"
   },
   {
    "duration": 206,
    "start_time": "2023-05-15T06:13:23.901Z"
   },
   {
    "duration": 13,
    "start_time": "2023-05-15T06:13:24.109Z"
   },
   {
    "duration": 28,
    "start_time": "2023-05-15T06:13:24.124Z"
   },
   {
    "duration": 32,
    "start_time": "2023-05-15T06:13:24.154Z"
   },
   {
    "duration": 16,
    "start_time": "2023-05-15T06:13:24.189Z"
   },
   {
    "duration": 361,
    "start_time": "2023-05-15T06:13:43.966Z"
   },
   {
    "duration": 5,
    "start_time": "2023-05-15T06:23:30.525Z"
   },
   {
    "duration": 7,
    "start_time": "2023-05-15T06:24:00.550Z"
   },
   {
    "duration": 7,
    "start_time": "2023-05-15T06:24:22.865Z"
   },
   {
    "duration": 8,
    "start_time": "2023-05-15T06:24:34.967Z"
   },
   {
    "duration": 11,
    "start_time": "2023-05-15T06:37:59.714Z"
   },
   {
    "duration": 11,
    "start_time": "2023-05-15T06:39:27.627Z"
   },
   {
    "duration": 10,
    "start_time": "2023-05-15T06:39:36.591Z"
   },
   {
    "duration": 10,
    "start_time": "2023-05-15T06:39:57.474Z"
   },
   {
    "duration": 10,
    "start_time": "2023-05-15T06:40:26.299Z"
   },
   {
    "duration": 5,
    "start_time": "2023-05-15T06:46:12.132Z"
   },
   {
    "duration": 586,
    "start_time": "2023-05-15T06:46:20.204Z"
   },
   {
    "duration": 6,
    "start_time": "2023-05-15T06:46:50.760Z"
   },
   {
    "duration": 5,
    "start_time": "2023-05-15T06:47:58.499Z"
   },
   {
    "duration": 7,
    "start_time": "2023-05-15T06:48:04.071Z"
   },
   {
    "duration": 8,
    "start_time": "2023-05-15T06:48:17.818Z"
   },
   {
    "duration": 5,
    "start_time": "2023-05-15T06:50:32.909Z"
   },
   {
    "duration": 7,
    "start_time": "2023-05-15T06:50:41.863Z"
   },
   {
    "duration": 106,
    "start_time": "2023-05-15T06:51:34.434Z"
   },
   {
    "duration": 6,
    "start_time": "2023-05-15T06:51:58.807Z"
   },
   {
    "duration": 9,
    "start_time": "2023-05-15T06:53:41.412Z"
   },
   {
    "duration": 1497,
    "start_time": "2023-05-15T06:56:14.989Z"
   },
   {
    "duration": 7,
    "start_time": "2023-05-15T07:04:51.801Z"
   },
   {
    "duration": 10,
    "start_time": "2023-05-15T07:05:03.678Z"
   },
   {
    "duration": 10,
    "start_time": "2023-05-15T07:09:54.680Z"
   },
   {
    "duration": 10,
    "start_time": "2023-05-15T07:11:16.908Z"
   },
   {
    "duration": 10,
    "start_time": "2023-05-15T07:11:42.889Z"
   },
   {
    "duration": 14,
    "start_time": "2023-05-15T07:19:52.853Z"
   },
   {
    "duration": 7,
    "start_time": "2023-05-15T07:20:06.680Z"
   },
   {
    "duration": 12,
    "start_time": "2023-05-15T07:20:14.383Z"
   },
   {
    "duration": 12,
    "start_time": "2023-05-15T07:20:31.579Z"
   },
   {
    "duration": 13,
    "start_time": "2023-05-15T07:21:14.091Z"
   },
   {
    "duration": 6,
    "start_time": "2023-05-15T07:25:31.102Z"
   },
   {
    "duration": 11,
    "start_time": "2023-05-15T07:25:34.795Z"
   },
   {
    "duration": 10,
    "start_time": "2023-05-15T07:25:59.987Z"
   },
   {
    "duration": 11,
    "start_time": "2023-05-15T07:26:30.105Z"
   },
   {
    "duration": 1143,
    "start_time": "2023-05-15T07:28:56.787Z"
   },
   {
    "duration": 1309,
    "start_time": "2023-05-15T07:28:59.944Z"
   },
   {
    "duration": 13,
    "start_time": "2023-05-15T07:29:22.428Z"
   },
   {
    "duration": 7,
    "start_time": "2023-05-15T07:43:36.613Z"
   },
   {
    "duration": 8,
    "start_time": "2023-05-15T07:43:41.589Z"
   },
   {
    "duration": 13,
    "start_time": "2023-05-15T07:44:06.384Z"
   },
   {
    "duration": 7,
    "start_time": "2023-05-15T07:44:33.958Z"
   },
   {
    "duration": 12,
    "start_time": "2023-05-15T07:48:03.858Z"
   },
   {
    "duration": 7,
    "start_time": "2023-05-15T07:48:18.712Z"
   },
   {
    "duration": 7,
    "start_time": "2023-05-15T07:48:28.908Z"
   },
   {
    "duration": 7,
    "start_time": "2023-05-15T07:48:47.149Z"
   },
   {
    "duration": 1155,
    "start_time": "2023-05-15T07:49:01.841Z"
   },
   {
    "duration": 68,
    "start_time": "2023-05-15T07:49:02.998Z"
   },
   {
    "duration": 12,
    "start_time": "2023-05-15T07:49:03.067Z"
   },
   {
    "duration": 20,
    "start_time": "2023-05-15T07:49:03.080Z"
   },
   {
    "duration": 24,
    "start_time": "2023-05-15T07:49:03.103Z"
   },
   {
    "duration": 24,
    "start_time": "2023-05-15T07:49:03.129Z"
   },
   {
    "duration": 27,
    "start_time": "2023-05-15T07:49:03.155Z"
   },
   {
    "duration": 21,
    "start_time": "2023-05-15T07:49:03.183Z"
   },
   {
    "duration": 26,
    "start_time": "2023-05-15T07:49:03.206Z"
   },
   {
    "duration": 20,
    "start_time": "2023-05-15T07:49:03.235Z"
   },
   {
    "duration": 24,
    "start_time": "2023-05-15T07:49:03.257Z"
   },
   {
    "duration": 15,
    "start_time": "2023-05-15T07:49:03.283Z"
   },
   {
    "duration": 17,
    "start_time": "2023-05-15T07:49:03.299Z"
   },
   {
    "duration": 15,
    "start_time": "2023-05-15T07:49:03.319Z"
   },
   {
    "duration": 17,
    "start_time": "2023-05-15T07:49:03.336Z"
   },
   {
    "duration": 25,
    "start_time": "2023-05-15T07:49:03.355Z"
   },
   {
    "duration": 8,
    "start_time": "2023-05-15T07:49:03.381Z"
   },
   {
    "duration": 11,
    "start_time": "2023-05-15T07:49:03.390Z"
   },
   {
    "duration": 289,
    "start_time": "2023-05-15T07:49:03.402Z"
   },
   {
    "duration": 6,
    "start_time": "2023-05-15T07:49:03.692Z"
   },
   {
    "duration": 262,
    "start_time": "2023-05-15T07:49:03.700Z"
   },
   {
    "duration": 225,
    "start_time": "2023-05-15T07:49:03.964Z"
   },
   {
    "duration": 280,
    "start_time": "2023-05-15T07:49:04.191Z"
   },
   {
    "duration": 190,
    "start_time": "2023-05-15T07:49:04.474Z"
   },
   {
    "duration": 305,
    "start_time": "2023-05-15T07:49:04.666Z"
   },
   {
    "duration": 137,
    "start_time": "2023-05-15T07:49:04.973Z"
   },
   {
    "duration": 6,
    "start_time": "2023-05-15T07:49:05.113Z"
   },
   {
    "duration": 146,
    "start_time": "2023-05-15T07:49:05.121Z"
   },
   {
    "duration": 5,
    "start_time": "2023-05-15T07:49:05.269Z"
   },
   {
    "duration": 219,
    "start_time": "2023-05-15T07:49:05.276Z"
   },
   {
    "duration": 159,
    "start_time": "2023-05-15T07:49:05.496Z"
   },
   {
    "duration": 9,
    "start_time": "2023-05-15T07:49:05.657Z"
   },
   {
    "duration": 7,
    "start_time": "2023-05-15T07:49:05.667Z"
   },
   {
    "duration": 53,
    "start_time": "2023-05-15T07:49:05.676Z"
   },
   {
    "duration": 12,
    "start_time": "2023-05-15T07:49:05.731Z"
   },
   {
    "duration": 7,
    "start_time": "2023-05-15T07:57:18.976Z"
   },
   {
    "duration": 1111,
    "start_time": "2023-05-15T07:57:25.420Z"
   },
   {
    "duration": 68,
    "start_time": "2023-05-15T07:57:26.533Z"
   },
   {
    "duration": 12,
    "start_time": "2023-05-15T07:57:26.603Z"
   },
   {
    "duration": 13,
    "start_time": "2023-05-15T07:57:26.618Z"
   },
   {
    "duration": 12,
    "start_time": "2023-05-15T07:57:26.633Z"
   },
   {
    "duration": 14,
    "start_time": "2023-05-15T07:57:26.647Z"
   },
   {
    "duration": 13,
    "start_time": "2023-05-15T07:57:26.663Z"
   },
   {
    "duration": 9,
    "start_time": "2023-05-15T07:57:26.679Z"
   },
   {
    "duration": 13,
    "start_time": "2023-05-15T07:57:26.689Z"
   },
   {
    "duration": 5,
    "start_time": "2023-05-15T07:57:26.706Z"
   },
   {
    "duration": 44,
    "start_time": "2023-05-15T07:57:26.712Z"
   },
   {
    "duration": 10,
    "start_time": "2023-05-15T07:57:26.758Z"
   },
   {
    "duration": 12,
    "start_time": "2023-05-15T07:57:26.770Z"
   },
   {
    "duration": 9,
    "start_time": "2023-05-15T07:57:26.784Z"
   },
   {
    "duration": 13,
    "start_time": "2023-05-15T07:57:26.795Z"
   },
   {
    "duration": 53,
    "start_time": "2023-05-15T07:57:26.810Z"
   },
   {
    "duration": 9,
    "start_time": "2023-05-15T07:57:26.866Z"
   },
   {
    "duration": 6,
    "start_time": "2023-05-15T07:57:26.877Z"
   },
   {
    "duration": 346,
    "start_time": "2023-05-15T07:57:26.885Z"
   },
   {
    "duration": 8,
    "start_time": "2023-05-15T07:57:27.233Z"
   },
   {
    "duration": 320,
    "start_time": "2023-05-15T07:57:27.242Z"
   },
   {
    "duration": 273,
    "start_time": "2023-05-15T07:57:27.565Z"
   },
   {
    "duration": 346,
    "start_time": "2023-05-15T07:57:27.840Z"
   },
   {
    "duration": 234,
    "start_time": "2023-05-15T07:57:28.187Z"
   },
   {
    "duration": 394,
    "start_time": "2023-05-15T07:57:28.423Z"
   },
   {
    "duration": 211,
    "start_time": "2023-05-15T07:57:28.820Z"
   },
   {
    "duration": 7,
    "start_time": "2023-05-15T07:57:29.033Z"
   },
   {
    "duration": 167,
    "start_time": "2023-05-15T07:57:29.053Z"
   },
   {
    "duration": 5,
    "start_time": "2023-05-15T07:57:29.222Z"
   },
   {
    "duration": 370,
    "start_time": "2023-05-15T07:57:29.229Z"
   },
   {
    "duration": 308,
    "start_time": "2023-05-15T07:57:29.602Z"
   },
   {
    "duration": 9,
    "start_time": "2023-05-15T07:57:29.912Z"
   },
   {
    "duration": 12,
    "start_time": "2023-05-15T07:57:29.923Z"
   },
   {
    "duration": 38,
    "start_time": "2023-05-15T07:57:29.951Z"
   },
   {
    "duration": 17,
    "start_time": "2023-05-15T07:57:29.992Z"
   },
   {
    "duration": 8,
    "start_time": "2023-05-15T08:00:33.076Z"
   },
   {
    "duration": 13,
    "start_time": "2023-05-15T08:00:39.912Z"
   },
   {
    "duration": 10,
    "start_time": "2023-05-15T08:01:02.921Z"
   },
   {
    "duration": 10,
    "start_time": "2023-05-15T08:02:36.857Z"
   },
   {
    "duration": 9,
    "start_time": "2023-05-15T08:03:27.830Z"
   },
   {
    "duration": 9,
    "start_time": "2023-05-15T08:03:41.305Z"
   },
   {
    "duration": 10,
    "start_time": "2023-05-15T08:04:00.778Z"
   },
   {
    "duration": 1275,
    "start_time": "2023-05-15T08:17:52.948Z"
   },
   {
    "duration": 1146,
    "start_time": "2023-05-15T08:18:06.383Z"
   },
   {
    "duration": 79,
    "start_time": "2023-05-15T08:18:07.531Z"
   },
   {
    "duration": 13,
    "start_time": "2023-05-15T08:18:07.612Z"
   },
   {
    "duration": 11,
    "start_time": "2023-05-15T08:18:07.628Z"
   },
   {
    "duration": 15,
    "start_time": "2023-05-15T08:18:07.641Z"
   },
   {
    "duration": 18,
    "start_time": "2023-05-15T08:18:07.658Z"
   },
   {
    "duration": 19,
    "start_time": "2023-05-15T08:18:07.678Z"
   },
   {
    "duration": 9,
    "start_time": "2023-05-15T08:18:07.699Z"
   },
   {
    "duration": 10,
    "start_time": "2023-05-15T08:18:07.709Z"
   },
   {
    "duration": 5,
    "start_time": "2023-05-15T08:18:07.721Z"
   },
   {
    "duration": 39,
    "start_time": "2023-05-15T08:18:07.727Z"
   },
   {
    "duration": 18,
    "start_time": "2023-05-15T08:18:07.768Z"
   },
   {
    "duration": 11,
    "start_time": "2023-05-15T08:18:07.788Z"
   },
   {
    "duration": 8,
    "start_time": "2023-05-15T08:18:07.801Z"
   },
   {
    "duration": 8,
    "start_time": "2023-05-15T08:18:07.811Z"
   },
   {
    "duration": 127,
    "start_time": "2023-05-15T08:18:07.820Z"
   },
   {
    "duration": 0,
    "start_time": "2023-05-15T08:18:07.950Z"
   },
   {
    "duration": 0,
    "start_time": "2023-05-15T08:18:07.952Z"
   },
   {
    "duration": 0,
    "start_time": "2023-05-15T08:18:07.952Z"
   },
   {
    "duration": 0,
    "start_time": "2023-05-15T08:18:07.953Z"
   },
   {
    "duration": 0,
    "start_time": "2023-05-15T08:18:07.954Z"
   },
   {
    "duration": 0,
    "start_time": "2023-05-15T08:18:07.957Z"
   },
   {
    "duration": 0,
    "start_time": "2023-05-15T08:18:07.958Z"
   },
   {
    "duration": 0,
    "start_time": "2023-05-15T08:18:07.961Z"
   },
   {
    "duration": 0,
    "start_time": "2023-05-15T08:18:07.962Z"
   },
   {
    "duration": 0,
    "start_time": "2023-05-15T08:18:07.963Z"
   },
   {
    "duration": 0,
    "start_time": "2023-05-15T08:18:07.964Z"
   },
   {
    "duration": 0,
    "start_time": "2023-05-15T08:18:07.965Z"
   },
   {
    "duration": 0,
    "start_time": "2023-05-15T08:18:07.966Z"
   },
   {
    "duration": 0,
    "start_time": "2023-05-15T08:18:07.967Z"
   },
   {
    "duration": 0,
    "start_time": "2023-05-15T08:18:07.969Z"
   },
   {
    "duration": 0,
    "start_time": "2023-05-15T08:18:07.970Z"
   },
   {
    "duration": 0,
    "start_time": "2023-05-15T08:18:07.971Z"
   },
   {
    "duration": 0,
    "start_time": "2023-05-15T08:18:07.972Z"
   },
   {
    "duration": 0,
    "start_time": "2023-05-15T08:18:07.973Z"
   },
   {
    "duration": 16,
    "start_time": "2023-05-15T08:18:32.072Z"
   },
   {
    "duration": 1128,
    "start_time": "2023-05-15T08:18:40.346Z"
   },
   {
    "duration": 62,
    "start_time": "2023-05-15T08:18:41.476Z"
   },
   {
    "duration": 12,
    "start_time": "2023-05-15T08:18:41.539Z"
   },
   {
    "duration": 14,
    "start_time": "2023-05-15T08:18:41.555Z"
   },
   {
    "duration": 8,
    "start_time": "2023-05-15T08:18:41.570Z"
   },
   {
    "duration": 27,
    "start_time": "2023-05-15T08:18:41.579Z"
   },
   {
    "duration": 15,
    "start_time": "2023-05-15T08:18:41.608Z"
   },
   {
    "duration": 8,
    "start_time": "2023-05-15T08:18:41.625Z"
   },
   {
    "duration": 31,
    "start_time": "2023-05-15T08:18:41.634Z"
   },
   {
    "duration": 5,
    "start_time": "2023-05-15T08:18:41.667Z"
   },
   {
    "duration": 11,
    "start_time": "2023-05-15T08:18:41.674Z"
   },
   {
    "duration": 14,
    "start_time": "2023-05-15T08:18:41.687Z"
   },
   {
    "duration": 12,
    "start_time": "2023-05-15T08:18:41.703Z"
   },
   {
    "duration": 9,
    "start_time": "2023-05-15T08:18:41.716Z"
   },
   {
    "duration": 37,
    "start_time": "2023-05-15T08:18:41.727Z"
   },
   {
    "duration": 15,
    "start_time": "2023-05-15T08:18:41.765Z"
   },
   {
    "duration": 8,
    "start_time": "2023-05-15T08:18:41.782Z"
   },
   {
    "duration": 10,
    "start_time": "2023-05-15T08:18:41.792Z"
   },
   {
    "duration": 311,
    "start_time": "2023-05-15T08:18:41.804Z"
   },
   {
    "duration": 9,
    "start_time": "2023-05-15T08:18:42.117Z"
   },
   {
    "duration": 275,
    "start_time": "2023-05-15T08:18:42.127Z"
   },
   {
    "duration": 224,
    "start_time": "2023-05-15T08:18:42.404Z"
   },
   {
    "duration": 312,
    "start_time": "2023-05-15T08:18:42.630Z"
   },
   {
    "duration": 221,
    "start_time": "2023-05-15T08:18:42.944Z"
   },
   {
    "duration": 315,
    "start_time": "2023-05-15T08:18:43.167Z"
   },
   {
    "duration": 143,
    "start_time": "2023-05-15T08:18:43.483Z"
   },
   {
    "duration": 6,
    "start_time": "2023-05-15T08:18:43.628Z"
   },
   {
    "duration": 128,
    "start_time": "2023-05-15T08:18:43.654Z"
   },
   {
    "duration": 5,
    "start_time": "2023-05-15T08:18:43.784Z"
   },
   {
    "duration": 285,
    "start_time": "2023-05-15T08:18:43.791Z"
   },
   {
    "duration": 218,
    "start_time": "2023-05-15T08:18:44.077Z"
   },
   {
    "duration": 15,
    "start_time": "2023-05-15T08:18:44.297Z"
   },
   {
    "duration": 12,
    "start_time": "2023-05-15T08:18:44.314Z"
   },
   {
    "duration": 53,
    "start_time": "2023-05-15T08:18:44.328Z"
   },
   {
    "duration": 19,
    "start_time": "2023-05-15T08:18:44.383Z"
   },
   {
    "duration": 9,
    "start_time": "2023-05-15T08:25:47.922Z"
   },
   {
    "duration": 13,
    "start_time": "2023-05-15T08:26:27.651Z"
   },
   {
    "duration": 1055,
    "start_time": "2023-05-15T08:27:58.649Z"
   },
   {
    "duration": 67,
    "start_time": "2023-05-15T08:27:59.706Z"
   },
   {
    "duration": 11,
    "start_time": "2023-05-15T08:27:59.775Z"
   },
   {
    "duration": 11,
    "start_time": "2023-05-15T08:27:59.788Z"
   },
   {
    "duration": 11,
    "start_time": "2023-05-15T08:27:59.800Z"
   },
   {
    "duration": 11,
    "start_time": "2023-05-15T08:27:59.812Z"
   },
   {
    "duration": 28,
    "start_time": "2023-05-15T08:27:59.824Z"
   },
   {
    "duration": 9,
    "start_time": "2023-05-15T08:27:59.854Z"
   },
   {
    "duration": 11,
    "start_time": "2023-05-15T08:27:59.865Z"
   },
   {
    "duration": 4,
    "start_time": "2023-05-15T08:27:59.879Z"
   },
   {
    "duration": 17,
    "start_time": "2023-05-15T08:27:59.884Z"
   },
   {
    "duration": 16,
    "start_time": "2023-05-15T08:27:59.902Z"
   },
   {
    "duration": 14,
    "start_time": "2023-05-15T08:27:59.950Z"
   },
   {
    "duration": 8,
    "start_time": "2023-05-15T08:27:59.966Z"
   },
   {
    "duration": 9,
    "start_time": "2023-05-15T08:27:59.975Z"
   },
   {
    "duration": 16,
    "start_time": "2023-05-15T08:27:59.986Z"
   },
   {
    "duration": 47,
    "start_time": "2023-05-15T08:28:00.004Z"
   },
   {
    "duration": 15,
    "start_time": "2023-05-15T08:28:00.052Z"
   },
   {
    "duration": 257,
    "start_time": "2023-05-15T08:28:00.068Z"
   },
   {
    "duration": 14,
    "start_time": "2023-05-15T08:28:00.329Z"
   },
   {
    "duration": 315,
    "start_time": "2023-05-15T08:28:00.344Z"
   },
   {
    "duration": 205,
    "start_time": "2023-05-15T08:28:00.661Z"
   },
   {
    "duration": 284,
    "start_time": "2023-05-15T08:28:00.868Z"
   },
   {
    "duration": 192,
    "start_time": "2023-05-15T08:28:01.153Z"
   },
   {
    "duration": 366,
    "start_time": "2023-05-15T08:28:01.347Z"
   },
   {
    "duration": 138,
    "start_time": "2023-05-15T08:28:01.715Z"
   },
   {
    "duration": 7,
    "start_time": "2023-05-15T08:28:01.856Z"
   },
   {
    "duration": 173,
    "start_time": "2023-05-15T08:28:01.867Z"
   },
   {
    "duration": 9,
    "start_time": "2023-05-15T08:28:02.042Z"
   },
   {
    "duration": 242,
    "start_time": "2023-05-15T08:28:02.053Z"
   },
   {
    "duration": 60,
    "start_time": "2023-05-15T08:28:02.297Z"
   },
   {
    "duration": 19,
    "start_time": "2023-05-15T08:28:02.359Z"
   },
   {
    "duration": 27,
    "start_time": "2023-05-15T08:28:02.380Z"
   },
   {
    "duration": 34,
    "start_time": "2023-05-15T08:28:02.409Z"
   },
   {
    "duration": 18,
    "start_time": "2023-05-15T08:28:02.445Z"
   },
   {
    "duration": 11,
    "start_time": "2023-05-15T08:28:58.200Z"
   },
   {
    "duration": 1235,
    "start_time": "2023-05-15T08:29:07.886Z"
   },
   {
    "duration": 66,
    "start_time": "2023-05-15T08:29:09.123Z"
   },
   {
    "duration": 15,
    "start_time": "2023-05-15T08:29:09.191Z"
   },
   {
    "duration": 14,
    "start_time": "2023-05-15T08:29:09.209Z"
   },
   {
    "duration": 28,
    "start_time": "2023-05-15T08:29:09.225Z"
   },
   {
    "duration": 20,
    "start_time": "2023-05-15T08:29:09.255Z"
   },
   {
    "duration": 16,
    "start_time": "2023-05-15T08:29:09.276Z"
   },
   {
    "duration": 10,
    "start_time": "2023-05-15T08:29:09.294Z"
   },
   {
    "duration": 11,
    "start_time": "2023-05-15T08:29:09.305Z"
   },
   {
    "duration": 9,
    "start_time": "2023-05-15T08:29:09.319Z"
   },
   {
    "duration": 25,
    "start_time": "2023-05-15T08:29:09.329Z"
   },
   {
    "duration": 11,
    "start_time": "2023-05-15T08:29:09.356Z"
   },
   {
    "duration": 13,
    "start_time": "2023-05-15T08:29:09.369Z"
   },
   {
    "duration": 8,
    "start_time": "2023-05-15T08:29:09.384Z"
   },
   {
    "duration": 8,
    "start_time": "2023-05-15T08:29:09.394Z"
   },
   {
    "duration": 50,
    "start_time": "2023-05-15T08:29:09.404Z"
   },
   {
    "duration": 7,
    "start_time": "2023-05-15T08:29:09.456Z"
   },
   {
    "duration": 16,
    "start_time": "2023-05-15T08:29:09.464Z"
   },
   {
    "duration": 285,
    "start_time": "2023-05-15T08:29:09.482Z"
   },
   {
    "duration": 6,
    "start_time": "2023-05-15T08:29:09.769Z"
   },
   {
    "duration": 288,
    "start_time": "2023-05-15T08:29:09.777Z"
   },
   {
    "duration": 204,
    "start_time": "2023-05-15T08:29:10.068Z"
   },
   {
    "duration": 308,
    "start_time": "2023-05-15T08:29:10.274Z"
   },
   {
    "duration": 213,
    "start_time": "2023-05-15T08:29:10.584Z"
   },
   {
    "duration": 306,
    "start_time": "2023-05-15T08:29:10.799Z"
   },
   {
    "duration": 143,
    "start_time": "2023-05-15T08:29:11.107Z"
   },
   {
    "duration": 6,
    "start_time": "2023-05-15T08:29:11.252Z"
   },
   {
    "duration": 150,
    "start_time": "2023-05-15T08:29:11.263Z"
   },
   {
    "duration": 4,
    "start_time": "2023-05-15T08:29:11.415Z"
   },
   {
    "duration": 244,
    "start_time": "2023-05-15T08:29:11.421Z"
   },
   {
    "duration": 218,
    "start_time": "2023-05-15T08:29:11.667Z"
   },
   {
    "duration": 16,
    "start_time": "2023-05-15T08:29:11.888Z"
   },
   {
    "duration": 10,
    "start_time": "2023-05-15T08:29:11.905Z"
   },
   {
    "duration": 51,
    "start_time": "2023-05-15T08:29:11.917Z"
   },
   {
    "duration": 16,
    "start_time": "2023-05-15T08:29:11.971Z"
   },
   {
    "duration": 11,
    "start_time": "2023-05-15T08:33:52.102Z"
   },
   {
    "duration": 1146,
    "start_time": "2023-05-15T08:34:15.184Z"
   },
   {
    "duration": 82,
    "start_time": "2023-05-15T08:34:16.332Z"
   },
   {
    "duration": 12,
    "start_time": "2023-05-15T08:34:16.416Z"
   },
   {
    "duration": 12,
    "start_time": "2023-05-15T08:34:16.430Z"
   },
   {
    "duration": 17,
    "start_time": "2023-05-15T08:34:16.444Z"
   },
   {
    "duration": 13,
    "start_time": "2023-05-15T08:34:16.463Z"
   },
   {
    "duration": 16,
    "start_time": "2023-05-15T08:34:16.478Z"
   },
   {
    "duration": 11,
    "start_time": "2023-05-15T08:34:16.496Z"
   },
   {
    "duration": 15,
    "start_time": "2023-05-15T08:34:16.509Z"
   },
   {
    "duration": 29,
    "start_time": "2023-05-15T08:34:16.527Z"
   },
   {
    "duration": 12,
    "start_time": "2023-05-15T08:34:16.559Z"
   },
   {
    "duration": 14,
    "start_time": "2023-05-15T08:34:16.573Z"
   },
   {
    "duration": 18,
    "start_time": "2023-05-15T08:34:16.589Z"
   },
   {
    "duration": 12,
    "start_time": "2023-05-15T08:34:16.610Z"
   },
   {
    "duration": 20,
    "start_time": "2023-05-15T08:34:16.652Z"
   },
   {
    "duration": 6,
    "start_time": "2023-05-15T08:34:16.674Z"
   },
   {
    "duration": 302,
    "start_time": "2023-05-15T08:34:16.682Z"
   },
   {
    "duration": 7,
    "start_time": "2023-05-15T08:34:16.986Z"
   },
   {
    "duration": 320,
    "start_time": "2023-05-15T08:34:16.995Z"
   },
   {
    "duration": 204,
    "start_time": "2023-05-15T08:34:17.317Z"
   },
   {
    "duration": 344,
    "start_time": "2023-05-15T08:34:17.522Z"
   },
   {
    "duration": 200,
    "start_time": "2023-05-15T08:34:17.868Z"
   },
   {
    "duration": 329,
    "start_time": "2023-05-15T08:34:18.070Z"
   },
   {
    "duration": 124,
    "start_time": "2023-05-15T08:34:18.401Z"
   },
   {
    "duration": 5,
    "start_time": "2023-05-15T08:34:18.526Z"
   },
   {
    "duration": 140,
    "start_time": "2023-05-15T08:34:18.533Z"
   },
   {
    "duration": 5,
    "start_time": "2023-05-15T08:34:18.675Z"
   },
   {
    "duration": 230,
    "start_time": "2023-05-15T08:34:18.681Z"
   },
   {
    "duration": 162,
    "start_time": "2023-05-15T08:34:18.913Z"
   },
   {
    "duration": 10,
    "start_time": "2023-05-15T08:34:19.077Z"
   },
   {
    "duration": 8,
    "start_time": "2023-05-15T08:34:19.088Z"
   },
   {
    "duration": 24,
    "start_time": "2023-05-15T08:34:19.098Z"
   },
   {
    "duration": 18,
    "start_time": "2023-05-15T08:34:19.150Z"
   },
   {
    "duration": 23,
    "start_time": "2023-05-15T08:35:00.744Z"
   },
   {
    "duration": 11,
    "start_time": "2023-05-15T08:36:03.580Z"
   },
   {
    "duration": 1374,
    "start_time": "2023-05-15T08:37:43.798Z"
   },
   {
    "duration": 14,
    "start_time": "2023-05-15T08:38:12.423Z"
   },
   {
    "duration": 10,
    "start_time": "2023-05-15T08:39:21.896Z"
   },
   {
    "duration": 8,
    "start_time": "2023-05-15T08:40:42.387Z"
   },
   {
    "duration": 10,
    "start_time": "2023-05-15T08:41:37.403Z"
   },
   {
    "duration": 11,
    "start_time": "2023-05-15T08:42:25.980Z"
   },
   {
    "duration": 9,
    "start_time": "2023-05-15T08:42:40.100Z"
   },
   {
    "duration": 5,
    "start_time": "2023-05-15T08:43:30.386Z"
   },
   {
    "duration": 12,
    "start_time": "2023-05-15T08:51:02.525Z"
   },
   {
    "duration": 14,
    "start_time": "2023-05-15T08:53:14.314Z"
   },
   {
    "duration": 14,
    "start_time": "2023-05-15T08:53:23.321Z"
   },
   {
    "duration": 10,
    "start_time": "2023-05-15T08:58:32.437Z"
   },
   {
    "duration": 12,
    "start_time": "2023-05-15T08:59:04.034Z"
   },
   {
    "duration": 13,
    "start_time": "2023-05-15T08:59:26.416Z"
   },
   {
    "duration": 1456,
    "start_time": "2023-05-15T08:59:39.585Z"
   },
   {
    "duration": 95,
    "start_time": "2023-05-15T08:59:41.044Z"
   },
   {
    "duration": 22,
    "start_time": "2023-05-15T08:59:41.142Z"
   },
   {
    "duration": 15,
    "start_time": "2023-05-15T08:59:41.166Z"
   },
   {
    "duration": 11,
    "start_time": "2023-05-15T08:59:41.185Z"
   },
   {
    "duration": 21,
    "start_time": "2023-05-15T08:59:41.199Z"
   },
   {
    "duration": 31,
    "start_time": "2023-05-15T08:59:41.222Z"
   },
   {
    "duration": 16,
    "start_time": "2023-05-15T08:59:41.256Z"
   },
   {
    "duration": 20,
    "start_time": "2023-05-15T08:59:41.274Z"
   },
   {
    "duration": 6,
    "start_time": "2023-05-15T08:59:41.299Z"
   },
   {
    "duration": 43,
    "start_time": "2023-05-15T08:59:41.309Z"
   },
   {
    "duration": 16,
    "start_time": "2023-05-15T08:59:41.355Z"
   },
   {
    "duration": 14,
    "start_time": "2023-05-15T08:59:41.373Z"
   },
   {
    "duration": 11,
    "start_time": "2023-05-15T08:59:41.392Z"
   },
   {
    "duration": 45,
    "start_time": "2023-05-15T08:59:41.405Z"
   },
   {
    "duration": 8,
    "start_time": "2023-05-15T08:59:41.452Z"
   },
   {
    "duration": 19,
    "start_time": "2023-05-15T08:59:41.462Z"
   },
   {
    "duration": 27,
    "start_time": "2023-05-15T08:59:41.483Z"
   },
   {
    "duration": 9,
    "start_time": "2023-05-15T08:59:41.512Z"
   },
   {
    "duration": 305,
    "start_time": "2023-05-15T08:59:41.523Z"
   },
   {
    "duration": 9,
    "start_time": "2023-05-15T08:59:41.831Z"
   },
   {
    "duration": 307,
    "start_time": "2023-05-15T08:59:41.852Z"
   },
   {
    "duration": 313,
    "start_time": "2023-05-15T08:59:42.161Z"
   },
   {
    "duration": 354,
    "start_time": "2023-05-15T08:59:42.476Z"
   },
   {
    "duration": 256,
    "start_time": "2023-05-15T08:59:42.832Z"
   },
   {
    "duration": 316,
    "start_time": "2023-05-15T08:59:43.090Z"
   },
   {
    "duration": 188,
    "start_time": "2023-05-15T08:59:43.409Z"
   },
   {
    "duration": 6,
    "start_time": "2023-05-15T08:59:43.600Z"
   },
   {
    "duration": 157,
    "start_time": "2023-05-15T08:59:43.608Z"
   },
   {
    "duration": 7,
    "start_time": "2023-05-15T08:59:43.767Z"
   },
   {
    "duration": 274,
    "start_time": "2023-05-15T08:59:43.777Z"
   },
   {
    "duration": 279,
    "start_time": "2023-05-15T08:59:44.053Z"
   },
   {
    "duration": 21,
    "start_time": "2023-05-15T08:59:44.334Z"
   },
   {
    "duration": 12,
    "start_time": "2023-05-15T08:59:44.358Z"
   },
   {
    "duration": 52,
    "start_time": "2023-05-15T08:59:44.372Z"
   },
   {
    "duration": 34,
    "start_time": "2023-05-15T08:59:44.427Z"
   },
   {
    "duration": 1327,
    "start_time": "2023-05-16T04:41:16.169Z"
   },
   {
    "duration": 228,
    "start_time": "2023-05-16T04:41:17.499Z"
   },
   {
    "duration": 13,
    "start_time": "2023-05-16T04:41:17.730Z"
   },
   {
    "duration": 14,
    "start_time": "2023-05-16T04:41:17.746Z"
   },
   {
    "duration": 15,
    "start_time": "2023-05-16T04:41:17.762Z"
   },
   {
    "duration": 13,
    "start_time": "2023-05-16T04:41:17.779Z"
   },
   {
    "duration": 18,
    "start_time": "2023-05-16T04:41:17.794Z"
   },
   {
    "duration": 13,
    "start_time": "2023-05-16T04:41:17.815Z"
   },
   {
    "duration": 16,
    "start_time": "2023-05-16T04:41:17.833Z"
   },
   {
    "duration": 4,
    "start_time": "2023-05-16T04:41:17.853Z"
   },
   {
    "duration": 12,
    "start_time": "2023-05-16T04:41:17.876Z"
   },
   {
    "duration": 17,
    "start_time": "2023-05-16T04:41:17.890Z"
   },
   {
    "duration": 14,
    "start_time": "2023-05-16T04:41:17.908Z"
   },
   {
    "duration": 12,
    "start_time": "2023-05-16T04:41:17.924Z"
   },
   {
    "duration": 43,
    "start_time": "2023-05-16T04:41:17.937Z"
   },
   {
    "duration": 12,
    "start_time": "2023-05-16T04:41:17.982Z"
   },
   {
    "duration": 13,
    "start_time": "2023-05-16T04:41:17.996Z"
   },
   {
    "duration": 15,
    "start_time": "2023-05-16T04:41:18.011Z"
   },
   {
    "duration": 7,
    "start_time": "2023-05-16T04:41:18.027Z"
   },
   {
    "duration": 316,
    "start_time": "2023-05-16T04:41:18.036Z"
   },
   {
    "duration": 8,
    "start_time": "2023-05-16T04:41:18.354Z"
   },
   {
    "duration": 290,
    "start_time": "2023-05-16T04:41:18.364Z"
   },
   {
    "duration": 259,
    "start_time": "2023-05-16T04:41:18.655Z"
   },
   {
    "duration": 390,
    "start_time": "2023-05-16T04:41:18.916Z"
   },
   {
    "duration": 256,
    "start_time": "2023-05-16T04:41:19.308Z"
   },
   {
    "duration": 357,
    "start_time": "2023-05-16T04:41:19.566Z"
   },
   {
    "duration": 140,
    "start_time": "2023-05-16T04:41:19.925Z"
   },
   {
    "duration": 11,
    "start_time": "2023-05-16T04:41:20.068Z"
   },
   {
    "duration": 160,
    "start_time": "2023-05-16T04:41:20.082Z"
   },
   {
    "duration": 8,
    "start_time": "2023-05-16T04:41:20.245Z"
   },
   {
    "duration": 269,
    "start_time": "2023-05-16T04:41:20.255Z"
   },
   {
    "duration": 178,
    "start_time": "2023-05-16T04:41:20.525Z"
   },
   {
    "duration": 10,
    "start_time": "2023-05-16T04:41:20.705Z"
   },
   {
    "duration": 12,
    "start_time": "2023-05-16T04:41:20.717Z"
   },
   {
    "duration": 65,
    "start_time": "2023-05-16T04:41:20.731Z"
   },
   {
    "duration": 18,
    "start_time": "2023-05-16T04:41:20.798Z"
   },
   {
    "duration": 5,
    "start_time": "2023-05-16T05:02:07.292Z"
   },
   {
    "duration": 47,
    "start_time": "2023-05-16T05:20:41.146Z"
   },
   {
    "duration": 1399,
    "start_time": "2023-05-16T05:20:47.197Z"
   },
   {
    "duration": 185,
    "start_time": "2023-05-16T05:20:48.599Z"
   },
   {
    "duration": 13,
    "start_time": "2023-05-16T05:20:48.787Z"
   },
   {
    "duration": 11,
    "start_time": "2023-05-16T05:20:48.802Z"
   },
   {
    "duration": 9,
    "start_time": "2023-05-16T05:20:48.815Z"
   },
   {
    "duration": 11,
    "start_time": "2023-05-16T05:20:48.826Z"
   },
   {
    "duration": 14,
    "start_time": "2023-05-16T05:20:48.839Z"
   },
   {
    "duration": 22,
    "start_time": "2023-05-16T05:20:48.855Z"
   },
   {
    "duration": 25,
    "start_time": "2023-05-16T05:20:48.878Z"
   },
   {
    "duration": 7,
    "start_time": "2023-05-16T05:20:48.907Z"
   },
   {
    "duration": 15,
    "start_time": "2023-05-16T05:20:48.916Z"
   },
   {
    "duration": 11,
    "start_time": "2023-05-16T05:20:48.935Z"
   },
   {
    "duration": 14,
    "start_time": "2023-05-16T05:20:48.949Z"
   },
   {
    "duration": 9,
    "start_time": "2023-05-16T05:20:48.965Z"
   },
   {
    "duration": 12,
    "start_time": "2023-05-16T05:20:48.976Z"
   },
   {
    "duration": 6,
    "start_time": "2023-05-16T05:20:48.990Z"
   },
   {
    "duration": 9,
    "start_time": "2023-05-16T05:20:48.998Z"
   },
   {
    "duration": 60,
    "start_time": "2023-05-16T05:20:49.009Z"
   },
   {
    "duration": 8,
    "start_time": "2023-05-16T05:20:49.071Z"
   },
   {
    "duration": 318,
    "start_time": "2023-05-16T05:20:49.081Z"
   },
   {
    "duration": 10,
    "start_time": "2023-05-16T05:20:49.404Z"
   },
   {
    "duration": 332,
    "start_time": "2023-05-16T05:20:49.416Z"
   },
   {
    "duration": 300,
    "start_time": "2023-05-16T05:20:49.750Z"
   },
   {
    "duration": 374,
    "start_time": "2023-05-16T05:20:50.052Z"
   },
   {
    "duration": 235,
    "start_time": "2023-05-16T05:20:50.428Z"
   },
   {
    "duration": 376,
    "start_time": "2023-05-16T05:20:50.665Z"
   },
   {
    "duration": 143,
    "start_time": "2023-05-16T05:20:51.043Z"
   },
   {
    "duration": 6,
    "start_time": "2023-05-16T05:20:51.191Z"
   },
   {
    "duration": 137,
    "start_time": "2023-05-16T05:20:51.199Z"
   },
   {
    "duration": 16,
    "start_time": "2023-05-16T05:20:51.337Z"
   },
   {
    "duration": 232,
    "start_time": "2023-05-16T05:20:51.355Z"
   },
   {
    "duration": 210,
    "start_time": "2023-05-16T05:20:51.588Z"
   },
   {
    "duration": 4,
    "start_time": "2023-05-16T05:20:51.799Z"
   },
   {
    "duration": 20,
    "start_time": "2023-05-16T05:20:51.804Z"
   },
   {
    "duration": 10,
    "start_time": "2023-05-16T05:20:51.825Z"
   },
   {
    "duration": 27,
    "start_time": "2023-05-16T05:20:51.849Z"
   },
   {
    "duration": 15,
    "start_time": "2023-05-16T05:20:51.879Z"
   },
   {
    "duration": 308,
    "start_time": "2023-05-16T05:23:28.096Z"
   },
   {
    "duration": 293,
    "start_time": "2023-05-16T05:23:37.661Z"
   },
   {
    "duration": 317,
    "start_time": "2023-05-16T05:24:41.948Z"
   },
   {
    "duration": 240,
    "start_time": "2023-05-16T05:25:38.576Z"
   },
   {
    "duration": 158,
    "start_time": "2023-05-16T05:38:35.324Z"
   },
   {
    "duration": 301,
    "start_time": "2023-05-16T05:39:27.095Z"
   },
   {
    "duration": 226,
    "start_time": "2023-05-16T05:39:51.496Z"
   },
   {
    "duration": 271,
    "start_time": "2023-05-16T05:40:09.168Z"
   },
   {
    "duration": 244,
    "start_time": "2023-05-16T05:40:53.169Z"
   },
   {
    "duration": 158,
    "start_time": "2023-05-16T05:41:01.659Z"
   },
   {
    "duration": 11,
    "start_time": "2023-05-16T05:41:58.898Z"
   },
   {
    "duration": 11,
    "start_time": "2023-05-16T05:42:32.767Z"
   },
   {
    "duration": 11,
    "start_time": "2023-05-16T05:42:37.598Z"
   },
   {
    "duration": 12,
    "start_time": "2023-05-16T05:42:56.699Z"
   },
   {
    "duration": 10,
    "start_time": "2023-05-16T05:46:47.722Z"
   },
   {
    "duration": 4,
    "start_time": "2023-05-16T05:50:08.789Z"
   },
   {
    "duration": 7,
    "start_time": "2023-05-16T05:50:27.324Z"
   },
   {
    "duration": 1101,
    "start_time": "2023-05-16T05:50:34.299Z"
   },
   {
    "duration": 73,
    "start_time": "2023-05-16T05:50:35.402Z"
   },
   {
    "duration": 13,
    "start_time": "2023-05-16T05:50:35.477Z"
   },
   {
    "duration": 12,
    "start_time": "2023-05-16T05:50:35.493Z"
   },
   {
    "duration": 8,
    "start_time": "2023-05-16T05:50:35.507Z"
   },
   {
    "duration": 19,
    "start_time": "2023-05-16T05:50:35.517Z"
   },
   {
    "duration": 16,
    "start_time": "2023-05-16T05:50:35.538Z"
   },
   {
    "duration": 19,
    "start_time": "2023-05-16T05:50:35.556Z"
   },
   {
    "duration": 24,
    "start_time": "2023-05-16T05:50:35.577Z"
   },
   {
    "duration": 22,
    "start_time": "2023-05-16T05:50:35.605Z"
   },
   {
    "duration": 16,
    "start_time": "2023-05-16T05:50:35.629Z"
   },
   {
    "duration": 13,
    "start_time": "2023-05-16T05:50:35.647Z"
   },
   {
    "duration": 21,
    "start_time": "2023-05-16T05:50:35.662Z"
   },
   {
    "duration": 9,
    "start_time": "2023-05-16T05:50:35.684Z"
   },
   {
    "duration": 41,
    "start_time": "2023-05-16T05:50:35.695Z"
   },
   {
    "duration": 8,
    "start_time": "2023-05-16T05:50:35.737Z"
   },
   {
    "duration": 19,
    "start_time": "2023-05-16T05:50:35.746Z"
   },
   {
    "duration": 34,
    "start_time": "2023-05-16T05:50:35.767Z"
   },
   {
    "duration": 14,
    "start_time": "2023-05-16T05:50:35.803Z"
   },
   {
    "duration": 250,
    "start_time": "2023-05-16T05:50:35.819Z"
   },
   {
    "duration": 7,
    "start_time": "2023-05-16T05:50:36.071Z"
   },
   {
    "duration": 282,
    "start_time": "2023-05-16T05:50:36.080Z"
   },
   {
    "duration": 227,
    "start_time": "2023-05-16T05:50:36.364Z"
   },
   {
    "duration": 270,
    "start_time": "2023-05-16T05:50:36.593Z"
   },
   {
    "duration": 197,
    "start_time": "2023-05-16T05:50:36.864Z"
   },
   {
    "duration": 310,
    "start_time": "2023-05-16T05:50:37.063Z"
   },
   {
    "duration": 134,
    "start_time": "2023-05-16T05:50:37.375Z"
   },
   {
    "duration": 5,
    "start_time": "2023-05-16T05:50:37.512Z"
   },
   {
    "duration": 129,
    "start_time": "2023-05-16T05:50:37.518Z"
   },
   {
    "duration": 5,
    "start_time": "2023-05-16T05:50:37.650Z"
   },
   {
    "duration": 228,
    "start_time": "2023-05-16T05:50:37.657Z"
   },
   {
    "duration": 151,
    "start_time": "2023-05-16T05:50:37.887Z"
   },
   {
    "duration": 3,
    "start_time": "2023-05-16T05:50:38.040Z"
   },
   {
    "duration": 10,
    "start_time": "2023-05-16T05:50:38.050Z"
   },
   {
    "duration": 82,
    "start_time": "2023-05-16T05:50:38.062Z"
   },
   {
    "duration": 66,
    "start_time": "2023-05-16T05:50:38.146Z"
   },
   {
    "duration": 30,
    "start_time": "2023-05-16T05:50:38.215Z"
   },
   {
    "duration": 13,
    "start_time": "2023-05-16T05:50:38.246Z"
   },
   {
    "duration": 6,
    "start_time": "2023-05-16T05:52:04.646Z"
   },
   {
    "duration": 7,
    "start_time": "2023-05-16T05:52:18.834Z"
   },
   {
    "duration": 1112,
    "start_time": "2023-05-16T05:52:23.976Z"
   },
   {
    "duration": 73,
    "start_time": "2023-05-16T05:52:25.091Z"
   },
   {
    "duration": 12,
    "start_time": "2023-05-16T05:52:25.165Z"
   },
   {
    "duration": 11,
    "start_time": "2023-05-16T05:52:25.179Z"
   },
   {
    "duration": 10,
    "start_time": "2023-05-16T05:52:25.192Z"
   },
   {
    "duration": 15,
    "start_time": "2023-05-16T05:52:25.204Z"
   },
   {
    "duration": 30,
    "start_time": "2023-05-16T05:52:25.220Z"
   },
   {
    "duration": 15,
    "start_time": "2023-05-16T05:52:25.252Z"
   },
   {
    "duration": 12,
    "start_time": "2023-05-16T05:52:25.269Z"
   },
   {
    "duration": 5,
    "start_time": "2023-05-16T05:52:25.283Z"
   },
   {
    "duration": 17,
    "start_time": "2023-05-16T05:52:25.289Z"
   },
   {
    "duration": 11,
    "start_time": "2023-05-16T05:52:25.308Z"
   },
   {
    "duration": 12,
    "start_time": "2023-05-16T05:52:25.321Z"
   },
   {
    "duration": 21,
    "start_time": "2023-05-16T05:52:25.335Z"
   },
   {
    "duration": 13,
    "start_time": "2023-05-16T05:52:25.357Z"
   },
   {
    "duration": 5,
    "start_time": "2023-05-16T05:52:25.371Z"
   },
   {
    "duration": 10,
    "start_time": "2023-05-16T05:52:25.377Z"
   },
   {
    "duration": 10,
    "start_time": "2023-05-16T05:52:25.388Z"
   },
   {
    "duration": 5,
    "start_time": "2023-05-16T05:52:25.399Z"
   },
   {
    "duration": 277,
    "start_time": "2023-05-16T05:52:25.406Z"
   },
   {
    "duration": 6,
    "start_time": "2023-05-16T05:52:25.684Z"
   },
   {
    "duration": 284,
    "start_time": "2023-05-16T05:52:25.691Z"
   },
   {
    "duration": 224,
    "start_time": "2023-05-16T05:52:25.977Z"
   },
   {
    "duration": 273,
    "start_time": "2023-05-16T05:52:26.203Z"
   },
   {
    "duration": 212,
    "start_time": "2023-05-16T05:52:26.479Z"
   },
   {
    "duration": 280,
    "start_time": "2023-05-16T05:52:26.693Z"
   },
   {
    "duration": 132,
    "start_time": "2023-05-16T05:52:26.974Z"
   },
   {
    "duration": 5,
    "start_time": "2023-05-16T05:52:27.110Z"
   },
   {
    "duration": 128,
    "start_time": "2023-05-16T05:52:27.117Z"
   },
   {
    "duration": 7,
    "start_time": "2023-05-16T05:52:27.246Z"
   },
   {
    "duration": 214,
    "start_time": "2023-05-16T05:52:27.254Z"
   },
   {
    "duration": 139,
    "start_time": "2023-05-16T05:52:27.470Z"
   },
   {
    "duration": 3,
    "start_time": "2023-05-16T05:52:27.611Z"
   },
   {
    "duration": 14,
    "start_time": "2023-05-16T05:52:27.616Z"
   },
   {
    "duration": 19,
    "start_time": "2023-05-16T05:52:27.632Z"
   },
   {
    "duration": 8,
    "start_time": "2023-05-16T05:52:27.652Z"
   },
   {
    "duration": 33,
    "start_time": "2023-05-16T05:52:27.661Z"
   },
   {
    "duration": 13,
    "start_time": "2023-05-16T05:52:27.695Z"
   },
   {
    "duration": 26,
    "start_time": "2023-05-16T05:53:10.108Z"
   },
   {
    "duration": 25,
    "start_time": "2023-05-16T05:53:37.877Z"
   },
   {
    "duration": 27,
    "start_time": "2023-05-16T05:54:55.793Z"
   },
   {
    "duration": 13,
    "start_time": "2023-05-16T05:55:33.232Z"
   },
   {
    "duration": 8,
    "start_time": "2023-05-16T05:56:39.839Z"
   },
   {
    "duration": 13,
    "start_time": "2023-05-16T05:58:13.791Z"
   },
   {
    "duration": 67,
    "start_time": "2023-05-16T06:00:56.824Z"
   },
   {
    "duration": 49,
    "start_time": "2023-05-16T06:01:10.596Z"
   },
   {
    "duration": 68,
    "start_time": "2023-05-16T06:03:07.380Z"
   },
   {
    "duration": 16,
    "start_time": "2023-05-16T06:03:14.171Z"
   },
   {
    "duration": 18,
    "start_time": "2023-05-16T06:07:37.619Z"
   },
   {
    "duration": 75,
    "start_time": "2023-05-16T06:08:47.404Z"
   },
   {
    "duration": 60,
    "start_time": "2023-05-16T06:08:59.578Z"
   },
   {
    "duration": 50,
    "start_time": "2023-05-16T06:09:08.380Z"
   },
   {
    "duration": 61,
    "start_time": "2023-05-16T06:09:23.938Z"
   },
   {
    "duration": 73,
    "start_time": "2023-05-16T06:10:58.696Z"
   },
   {
    "duration": 21,
    "start_time": "2023-05-16T06:11:41.251Z"
   },
   {
    "duration": 19,
    "start_time": "2023-05-16T06:13:24.959Z"
   },
   {
    "duration": 90,
    "start_time": "2023-05-16T06:14:18.981Z"
   },
   {
    "duration": 19,
    "start_time": "2023-05-16T06:16:31.670Z"
   },
   {
    "duration": 285,
    "start_time": "2023-05-16T06:21:53.555Z"
   },
   {
    "duration": 201,
    "start_time": "2023-05-16T06:22:05.980Z"
   },
   {
    "duration": 10,
    "start_time": "2023-05-16T06:22:39.155Z"
   },
   {
    "duration": 9,
    "start_time": "2023-05-16T06:22:47.580Z"
   },
   {
    "duration": 15,
    "start_time": "2023-05-16T06:23:03.859Z"
   },
   {
    "duration": 208,
    "start_time": "2023-05-16T06:23:56.090Z"
   },
   {
    "duration": 120,
    "start_time": "2023-05-16T06:37:55.371Z"
   },
   {
    "duration": 1279,
    "start_time": "2023-05-16T06:38:09.477Z"
   },
   {
    "duration": 76,
    "start_time": "2023-05-16T06:38:10.760Z"
   },
   {
    "duration": 17,
    "start_time": "2023-05-16T06:38:10.839Z"
   },
   {
    "duration": 16,
    "start_time": "2023-05-16T06:38:10.858Z"
   },
   {
    "duration": 23,
    "start_time": "2023-05-16T06:38:10.879Z"
   },
   {
    "duration": 31,
    "start_time": "2023-05-16T06:38:10.904Z"
   },
   {
    "duration": 25,
    "start_time": "2023-05-16T06:38:10.937Z"
   },
   {
    "duration": 12,
    "start_time": "2023-05-16T06:38:10.964Z"
   },
   {
    "duration": 13,
    "start_time": "2023-05-16T06:38:10.977Z"
   },
   {
    "duration": 14,
    "start_time": "2023-05-16T06:38:10.992Z"
   },
   {
    "duration": 20,
    "start_time": "2023-05-16T06:38:11.009Z"
   },
   {
    "duration": 30,
    "start_time": "2023-05-16T06:38:11.031Z"
   },
   {
    "duration": 27,
    "start_time": "2023-05-16T06:38:11.062Z"
   },
   {
    "duration": 11,
    "start_time": "2023-05-16T06:38:11.093Z"
   },
   {
    "duration": 12,
    "start_time": "2023-05-16T06:38:11.106Z"
   },
   {
    "duration": 5,
    "start_time": "2023-05-16T06:38:11.120Z"
   },
   {
    "duration": 30,
    "start_time": "2023-05-16T06:38:11.127Z"
   },
   {
    "duration": 13,
    "start_time": "2023-05-16T06:38:11.159Z"
   },
   {
    "duration": 9,
    "start_time": "2023-05-16T06:38:11.175Z"
   },
   {
    "duration": 372,
    "start_time": "2023-05-16T06:38:11.187Z"
   },
   {
    "duration": 6,
    "start_time": "2023-05-16T06:38:11.561Z"
   },
   {
    "duration": 295,
    "start_time": "2023-05-16T06:38:11.569Z"
   },
   {
    "duration": 216,
    "start_time": "2023-05-16T06:38:11.866Z"
   },
   {
    "duration": 301,
    "start_time": "2023-05-16T06:38:12.084Z"
   },
   {
    "duration": 117,
    "start_time": "2023-05-16T06:38:12.386Z"
   },
   {
    "duration": 0,
    "start_time": "2023-05-16T06:38:12.505Z"
   },
   {
    "duration": 0,
    "start_time": "2023-05-16T06:38:12.507Z"
   },
   {
    "duration": 0,
    "start_time": "2023-05-16T06:38:12.508Z"
   },
   {
    "duration": 0,
    "start_time": "2023-05-16T06:38:12.510Z"
   },
   {
    "duration": 0,
    "start_time": "2023-05-16T06:38:12.511Z"
   },
   {
    "duration": 0,
    "start_time": "2023-05-16T06:38:12.512Z"
   },
   {
    "duration": 0,
    "start_time": "2023-05-16T06:38:12.514Z"
   },
   {
    "duration": 0,
    "start_time": "2023-05-16T06:38:12.515Z"
   },
   {
    "duration": 0,
    "start_time": "2023-05-16T06:38:12.517Z"
   },
   {
    "duration": 0,
    "start_time": "2023-05-16T06:38:12.518Z"
   },
   {
    "duration": 0,
    "start_time": "2023-05-16T06:38:12.519Z"
   },
   {
    "duration": 0,
    "start_time": "2023-05-16T06:38:12.520Z"
   },
   {
    "duration": 0,
    "start_time": "2023-05-16T06:38:12.522Z"
   },
   {
    "duration": 12,
    "start_time": "2023-05-16T06:38:36.298Z"
   },
   {
    "duration": 16,
    "start_time": "2023-05-16T06:38:42.910Z"
   },
   {
    "duration": 221,
    "start_time": "2023-05-16T06:38:48.284Z"
   },
   {
    "duration": 13,
    "start_time": "2023-05-16T06:39:12.792Z"
   },
   {
    "duration": 206,
    "start_time": "2023-05-16T06:39:47.382Z"
   },
   {
    "duration": 21,
    "start_time": "2023-05-16T06:41:48.796Z"
   },
   {
    "duration": 405,
    "start_time": "2023-05-16T06:42:20.804Z"
   },
   {
    "duration": 363,
    "start_time": "2023-05-16T06:43:38.927Z"
   },
   {
    "duration": 1129,
    "start_time": "2023-05-16T06:44:38.263Z"
   },
   {
    "duration": 80,
    "start_time": "2023-05-16T06:44:39.394Z"
   },
   {
    "duration": 14,
    "start_time": "2023-05-16T06:44:39.476Z"
   },
   {
    "duration": 12,
    "start_time": "2023-05-16T06:44:39.491Z"
   },
   {
    "duration": 9,
    "start_time": "2023-05-16T06:44:39.505Z"
   },
   {
    "duration": 18,
    "start_time": "2023-05-16T06:44:39.516Z"
   },
   {
    "duration": 19,
    "start_time": "2023-05-16T06:44:39.537Z"
   },
   {
    "duration": 16,
    "start_time": "2023-05-16T06:44:39.558Z"
   },
   {
    "duration": 10,
    "start_time": "2023-05-16T06:44:39.577Z"
   },
   {
    "duration": 9,
    "start_time": "2023-05-16T06:44:39.589Z"
   },
   {
    "duration": 35,
    "start_time": "2023-05-16T06:44:39.600Z"
   },
   {
    "duration": 14,
    "start_time": "2023-05-16T06:44:39.637Z"
   },
   {
    "duration": 15,
    "start_time": "2023-05-16T06:44:39.653Z"
   },
   {
    "duration": 11,
    "start_time": "2023-05-16T06:44:39.673Z"
   },
   {
    "duration": 14,
    "start_time": "2023-05-16T06:44:39.686Z"
   },
   {
    "duration": 4,
    "start_time": "2023-05-16T06:44:39.702Z"
   },
   {
    "duration": 46,
    "start_time": "2023-05-16T06:44:39.708Z"
   },
   {
    "duration": 10,
    "start_time": "2023-05-16T06:44:39.756Z"
   },
   {
    "duration": 6,
    "start_time": "2023-05-16T06:44:39.767Z"
   },
   {
    "duration": 310,
    "start_time": "2023-05-16T06:44:39.775Z"
   },
   {
    "duration": 7,
    "start_time": "2023-05-16T06:44:40.087Z"
   },
   {
    "duration": 310,
    "start_time": "2023-05-16T06:44:40.096Z"
   },
   {
    "duration": 250,
    "start_time": "2023-05-16T06:44:40.408Z"
   },
   {
    "duration": 331,
    "start_time": "2023-05-16T06:44:40.660Z"
   },
   {
    "duration": 226,
    "start_time": "2023-05-16T06:44:40.993Z"
   },
   {
    "duration": 412,
    "start_time": "2023-05-16T06:44:41.221Z"
   },
   {
    "duration": 157,
    "start_time": "2023-05-16T06:44:41.635Z"
   },
   {
    "duration": 5,
    "start_time": "2023-05-16T06:44:41.794Z"
   },
   {
    "duration": 142,
    "start_time": "2023-05-16T06:44:41.801Z"
   },
   {
    "duration": 10,
    "start_time": "2023-05-16T06:44:41.945Z"
   },
   {
    "duration": 265,
    "start_time": "2023-05-16T06:44:41.957Z"
   },
   {
    "duration": 152,
    "start_time": "2023-05-16T06:44:42.223Z"
   },
   {
    "duration": 4,
    "start_time": "2023-05-16T06:44:42.377Z"
   },
   {
    "duration": 17,
    "start_time": "2023-05-16T06:44:42.382Z"
   },
   {
    "duration": 5,
    "start_time": "2023-05-16T06:44:42.400Z"
   },
   {
    "duration": 12,
    "start_time": "2023-05-16T06:44:42.407Z"
   },
   {
    "duration": 61,
    "start_time": "2023-05-16T06:44:42.421Z"
   },
   {
    "duration": 19,
    "start_time": "2023-05-16T06:44:42.484Z"
   },
   {
    "duration": 3,
    "start_time": "2023-05-16T06:46:55.825Z"
   },
   {
    "duration": 8,
    "start_time": "2023-05-16T06:46:56.487Z"
   },
   {
    "duration": 1081,
    "start_time": "2023-05-16T06:47:03.179Z"
   },
   {
    "duration": 75,
    "start_time": "2023-05-16T06:47:04.263Z"
   },
   {
    "duration": 14,
    "start_time": "2023-05-16T06:47:04.341Z"
   },
   {
    "duration": 15,
    "start_time": "2023-05-16T06:47:04.357Z"
   },
   {
    "duration": 11,
    "start_time": "2023-05-16T06:47:04.375Z"
   },
   {
    "duration": 14,
    "start_time": "2023-05-16T06:47:04.388Z"
   },
   {
    "duration": 15,
    "start_time": "2023-05-16T06:47:04.405Z"
   },
   {
    "duration": 40,
    "start_time": "2023-05-16T06:47:04.422Z"
   },
   {
    "duration": 14,
    "start_time": "2023-05-16T06:47:04.464Z"
   },
   {
    "duration": 6,
    "start_time": "2023-05-16T06:47:04.480Z"
   },
   {
    "duration": 25,
    "start_time": "2023-05-16T06:47:04.488Z"
   },
   {
    "duration": 35,
    "start_time": "2023-05-16T06:47:04.515Z"
   },
   {
    "duration": 14,
    "start_time": "2023-05-16T06:47:04.552Z"
   },
   {
    "duration": 10,
    "start_time": "2023-05-16T06:47:04.570Z"
   },
   {
    "duration": 25,
    "start_time": "2023-05-16T06:47:04.583Z"
   },
   {
    "duration": 6,
    "start_time": "2023-05-16T06:47:04.610Z"
   },
   {
    "duration": 34,
    "start_time": "2023-05-16T06:47:04.618Z"
   },
   {
    "duration": 12,
    "start_time": "2023-05-16T06:47:04.654Z"
   },
   {
    "duration": 5,
    "start_time": "2023-05-16T06:47:04.667Z"
   },
   {
    "duration": 291,
    "start_time": "2023-05-16T06:47:04.674Z"
   },
   {
    "duration": 7,
    "start_time": "2023-05-16T06:47:04.967Z"
   },
   {
    "duration": 293,
    "start_time": "2023-05-16T06:47:04.976Z"
   },
   {
    "duration": 209,
    "start_time": "2023-05-16T06:47:05.270Z"
   },
   {
    "duration": 281,
    "start_time": "2023-05-16T06:47:05.480Z"
   },
   {
    "duration": 219,
    "start_time": "2023-05-16T06:47:05.763Z"
   },
   {
    "duration": 340,
    "start_time": "2023-05-16T06:47:05.983Z"
   },
   {
    "duration": 141,
    "start_time": "2023-05-16T06:47:06.326Z"
   },
   {
    "duration": 5,
    "start_time": "2023-05-16T06:47:06.470Z"
   },
   {
    "duration": 142,
    "start_time": "2023-05-16T06:47:06.477Z"
   },
   {
    "duration": 5,
    "start_time": "2023-05-16T06:47:06.621Z"
   },
   {
    "duration": 238,
    "start_time": "2023-05-16T06:47:06.628Z"
   },
   {
    "duration": 162,
    "start_time": "2023-05-16T06:47:06.868Z"
   },
   {
    "duration": 4,
    "start_time": "2023-05-16T06:47:07.031Z"
   },
   {
    "duration": 11,
    "start_time": "2023-05-16T06:47:07.050Z"
   },
   {
    "duration": 11,
    "start_time": "2023-05-16T06:47:07.063Z"
   },
   {
    "duration": 34,
    "start_time": "2023-05-16T06:47:07.076Z"
   },
   {
    "duration": 32,
    "start_time": "2023-05-16T06:47:07.112Z"
   },
   {
    "duration": 17,
    "start_time": "2023-05-16T06:47:07.146Z"
   },
   {
    "duration": 7,
    "start_time": "2023-05-16T06:53:10.821Z"
   },
   {
    "duration": 10,
    "start_time": "2023-05-16T06:53:28.492Z"
   },
   {
    "duration": 18,
    "start_time": "2023-05-16T07:01:29.512Z"
   },
   {
    "duration": 5,
    "start_time": "2023-05-16T07:02:28.890Z"
   },
   {
    "duration": 265,
    "start_time": "2023-05-16T07:03:13.402Z"
   },
   {
    "duration": 354,
    "start_time": "2023-05-16T07:03:51.171Z"
   },
   {
    "duration": 645,
    "start_time": "2023-05-16T07:04:14.546Z"
   },
   {
    "duration": 12,
    "start_time": "2023-05-16T07:06:49.103Z"
   },
   {
    "duration": 11,
    "start_time": "2023-05-16T07:06:55.669Z"
   },
   {
    "duration": 753,
    "start_time": "2023-05-16T07:09:34.813Z"
   },
   {
    "duration": 15,
    "start_time": "2023-05-16T07:09:56.325Z"
   },
   {
    "duration": 375,
    "start_time": "2023-05-16T07:16:33.878Z"
   },
   {
    "duration": 498,
    "start_time": "2023-05-16T07:17:40.527Z"
   },
   {
    "duration": 11,
    "start_time": "2023-05-16T07:18:06.378Z"
   },
   {
    "duration": 10,
    "start_time": "2023-05-16T07:18:15.978Z"
   },
   {
    "duration": 51,
    "start_time": "2023-05-16T07:19:42.065Z"
   },
   {
    "duration": 521,
    "start_time": "2023-05-16T07:20:25.618Z"
   },
   {
    "duration": 7,
    "start_time": "2023-05-16T07:20:36.179Z"
   },
   {
    "duration": 5,
    "start_time": "2023-05-16T07:22:43.832Z"
   },
   {
    "duration": 36,
    "start_time": "2023-05-16T07:29:43.938Z"
   },
   {
    "duration": 503,
    "start_time": "2023-05-16T07:32:21.367Z"
   },
   {
    "duration": 475,
    "start_time": "2023-05-16T07:37:02.593Z"
   },
   {
    "duration": 9,
    "start_time": "2023-05-16T07:37:15.074Z"
   },
   {
    "duration": 68,
    "start_time": "2023-05-16T07:37:47.845Z"
   },
   {
    "duration": 13,
    "start_time": "2023-05-16T07:37:54.334Z"
   },
   {
    "duration": 477,
    "start_time": "2023-05-16T07:38:56.789Z"
   },
   {
    "duration": 12,
    "start_time": "2023-05-16T07:39:04.064Z"
   },
   {
    "duration": 510,
    "start_time": "2023-05-16T07:39:35.769Z"
   },
   {
    "duration": 13,
    "start_time": "2023-05-16T07:40:47.700Z"
   },
   {
    "duration": 485,
    "start_time": "2023-05-16T07:40:50.907Z"
   },
   {
    "duration": 227,
    "start_time": "2023-05-16T07:43:00.571Z"
   },
   {
    "duration": 283,
    "start_time": "2023-05-16T07:44:10.491Z"
   },
   {
    "duration": 311,
    "start_time": "2023-05-16T07:45:26.634Z"
   },
   {
    "duration": 308,
    "start_time": "2023-05-16T07:45:59.804Z"
   },
   {
    "duration": 59,
    "start_time": "2023-05-16T08:34:08.749Z"
   },
   {
    "duration": 13,
    "start_time": "2023-05-16T08:34:32.072Z"
   },
   {
    "duration": 15,
    "start_time": "2023-05-16T08:35:29.821Z"
   },
   {
    "duration": 54,
    "start_time": "2023-05-16T08:36:41.331Z"
   },
   {
    "duration": 12,
    "start_time": "2023-05-16T08:36:46.641Z"
   },
   {
    "duration": 204,
    "start_time": "2023-05-16T08:39:35.616Z"
   },
   {
    "duration": 1090,
    "start_time": "2023-05-16T08:40:23.913Z"
   },
   {
    "duration": 73,
    "start_time": "2023-05-16T08:40:25.005Z"
   },
   {
    "duration": 12,
    "start_time": "2023-05-16T08:40:25.080Z"
   },
   {
    "duration": 11,
    "start_time": "2023-05-16T08:40:25.093Z"
   },
   {
    "duration": 11,
    "start_time": "2023-05-16T08:40:25.107Z"
   },
   {
    "duration": 14,
    "start_time": "2023-05-16T08:40:25.120Z"
   },
   {
    "duration": 14,
    "start_time": "2023-05-16T08:40:25.136Z"
   },
   {
    "duration": 9,
    "start_time": "2023-05-16T08:40:25.151Z"
   },
   {
    "duration": 11,
    "start_time": "2023-05-16T08:40:25.161Z"
   },
   {
    "duration": 4,
    "start_time": "2023-05-16T08:40:25.174Z"
   },
   {
    "duration": 13,
    "start_time": "2023-05-16T08:40:25.179Z"
   },
   {
    "duration": 12,
    "start_time": "2023-05-16T08:40:25.193Z"
   },
   {
    "duration": 12,
    "start_time": "2023-05-16T08:40:25.206Z"
   },
   {
    "duration": 9,
    "start_time": "2023-05-16T08:40:25.253Z"
   },
   {
    "duration": 10,
    "start_time": "2023-05-16T08:40:25.263Z"
   },
   {
    "duration": 5,
    "start_time": "2023-05-16T08:40:25.275Z"
   },
   {
    "duration": 7,
    "start_time": "2023-05-16T08:40:25.281Z"
   },
   {
    "duration": 9,
    "start_time": "2023-05-16T08:40:25.290Z"
   },
   {
    "duration": 7,
    "start_time": "2023-05-16T08:40:25.300Z"
   },
   {
    "duration": 311,
    "start_time": "2023-05-16T08:40:25.309Z"
   },
   {
    "duration": 8,
    "start_time": "2023-05-16T08:40:25.622Z"
   },
   {
    "duration": 291,
    "start_time": "2023-05-16T08:40:25.631Z"
   },
   {
    "duration": 211,
    "start_time": "2023-05-16T08:40:25.924Z"
   },
   {
    "duration": 329,
    "start_time": "2023-05-16T08:40:26.137Z"
   },
   {
    "duration": 273,
    "start_time": "2023-05-16T08:40:26.468Z"
   },
   {
    "duration": 353,
    "start_time": "2023-05-16T08:40:26.745Z"
   },
   {
    "duration": 135,
    "start_time": "2023-05-16T08:40:27.100Z"
   },
   {
    "duration": 15,
    "start_time": "2023-05-16T08:40:27.237Z"
   },
   {
    "duration": 129,
    "start_time": "2023-05-16T08:40:27.253Z"
   },
   {
    "duration": 5,
    "start_time": "2023-05-16T08:40:27.384Z"
   },
   {
    "duration": 230,
    "start_time": "2023-05-16T08:40:27.391Z"
   },
   {
    "duration": 139,
    "start_time": "2023-05-16T08:40:27.623Z"
   },
   {
    "duration": 3,
    "start_time": "2023-05-16T08:40:27.764Z"
   },
   {
    "duration": 9,
    "start_time": "2023-05-16T08:40:27.769Z"
   },
   {
    "duration": 2,
    "start_time": "2023-05-16T08:40:27.780Z"
   },
   {
    "duration": 7,
    "start_time": "2023-05-16T08:40:27.784Z"
   },
   {
    "duration": 28,
    "start_time": "2023-05-16T08:40:27.793Z"
   },
   {
    "duration": 15,
    "start_time": "2023-05-16T08:40:27.851Z"
   },
   {
    "duration": 11,
    "start_time": "2023-05-16T08:40:27.867Z"
   },
   {
    "duration": 563,
    "start_time": "2023-05-16T08:40:27.880Z"
   },
   {
    "duration": 218,
    "start_time": "2023-05-16T08:40:28.449Z"
   },
   {
    "duration": 307,
    "start_time": "2023-05-16T08:40:28.668Z"
   },
   {
    "duration": 218,
    "start_time": "2023-05-16T08:40:28.976Z"
   },
   {
    "duration": 328,
    "start_time": "2023-05-16T08:40:29.195Z"
   },
   {
    "duration": 300,
    "start_time": "2023-05-16T08:41:39.972Z"
   },
   {
    "duration": 1079,
    "start_time": "2023-05-16T08:41:49.666Z"
   },
   {
    "duration": 74,
    "start_time": "2023-05-16T08:41:50.748Z"
   },
   {
    "duration": 13,
    "start_time": "2023-05-16T08:41:50.824Z"
   },
   {
    "duration": 21,
    "start_time": "2023-05-16T08:41:50.839Z"
   },
   {
    "duration": 29,
    "start_time": "2023-05-16T08:41:50.863Z"
   },
   {
    "duration": 30,
    "start_time": "2023-05-16T08:41:50.894Z"
   },
   {
    "duration": 24,
    "start_time": "2023-05-16T08:41:50.926Z"
   },
   {
    "duration": 29,
    "start_time": "2023-05-16T08:41:50.952Z"
   },
   {
    "duration": 25,
    "start_time": "2023-05-16T08:41:50.982Z"
   },
   {
    "duration": 5,
    "start_time": "2023-05-16T08:41:51.008Z"
   },
   {
    "duration": 12,
    "start_time": "2023-05-16T08:41:51.015Z"
   },
   {
    "duration": 13,
    "start_time": "2023-05-16T08:41:51.029Z"
   },
   {
    "duration": 13,
    "start_time": "2023-05-16T08:41:51.044Z"
   },
   {
    "duration": 9,
    "start_time": "2023-05-16T08:41:51.060Z"
   },
   {
    "duration": 52,
    "start_time": "2023-05-16T08:41:51.071Z"
   },
   {
    "duration": 17,
    "start_time": "2023-05-16T08:41:51.124Z"
   },
   {
    "duration": 10,
    "start_time": "2023-05-16T08:41:51.143Z"
   },
   {
    "duration": 21,
    "start_time": "2023-05-16T08:41:51.155Z"
   },
   {
    "duration": 23,
    "start_time": "2023-05-16T08:41:51.178Z"
   },
   {
    "duration": 267,
    "start_time": "2023-05-16T08:41:51.203Z"
   },
   {
    "duration": 7,
    "start_time": "2023-05-16T08:41:51.472Z"
   },
   {
    "duration": 320,
    "start_time": "2023-05-16T08:41:51.481Z"
   },
   {
    "duration": 219,
    "start_time": "2023-05-16T08:41:51.803Z"
   },
   {
    "duration": 317,
    "start_time": "2023-05-16T08:41:52.025Z"
   },
   {
    "duration": 222,
    "start_time": "2023-05-16T08:41:52.349Z"
   },
   {
    "duration": 323,
    "start_time": "2023-05-16T08:41:52.573Z"
   },
   {
    "duration": 140,
    "start_time": "2023-05-16T08:41:52.898Z"
   },
   {
    "duration": 11,
    "start_time": "2023-05-16T08:41:53.040Z"
   },
   {
    "duration": 130,
    "start_time": "2023-05-16T08:41:53.053Z"
   },
   {
    "duration": 5,
    "start_time": "2023-05-16T08:41:53.185Z"
   },
   {
    "duration": 224,
    "start_time": "2023-05-16T08:41:53.191Z"
   },
   {
    "duration": 167,
    "start_time": "2023-05-16T08:41:53.417Z"
   },
   {
    "duration": 4,
    "start_time": "2023-05-16T08:41:53.586Z"
   },
   {
    "duration": 12,
    "start_time": "2023-05-16T08:41:53.592Z"
   },
   {
    "duration": 4,
    "start_time": "2023-05-16T08:41:53.605Z"
   },
   {
    "duration": 18,
    "start_time": "2023-05-16T08:41:53.610Z"
   },
   {
    "duration": 42,
    "start_time": "2023-05-16T08:41:53.629Z"
   },
   {
    "duration": 13,
    "start_time": "2023-05-16T08:41:53.673Z"
   },
   {
    "duration": 11,
    "start_time": "2023-05-16T08:41:53.687Z"
   },
   {
    "duration": 619,
    "start_time": "2023-05-16T08:41:53.700Z"
   },
   {
    "duration": 208,
    "start_time": "2023-05-16T08:41:54.323Z"
   },
   {
    "duration": 329,
    "start_time": "2023-05-16T08:41:54.532Z"
   },
   {
    "duration": 209,
    "start_time": "2023-05-16T08:41:54.863Z"
   },
   {
    "duration": 322,
    "start_time": "2023-05-16T08:41:55.073Z"
   },
   {
    "duration": 149,
    "start_time": "2023-05-16T08:51:01.075Z"
   },
   {
    "duration": 139,
    "start_time": "2023-05-16T08:51:13.351Z"
   },
   {
    "duration": 148,
    "start_time": "2023-05-16T08:52:32.962Z"
   },
   {
    "duration": 142,
    "start_time": "2023-05-16T08:57:57.571Z"
   },
   {
    "duration": 35,
    "start_time": "2023-05-16T09:03:10.493Z"
   },
   {
    "duration": 13,
    "start_time": "2023-05-16T09:04:46.290Z"
   },
   {
    "duration": 251,
    "start_time": "2023-05-16T09:38:30.657Z"
   },
   {
    "duration": 26,
    "start_time": "2023-05-16T09:39:43.198Z"
   },
   {
    "duration": 49,
    "start_time": "2023-05-16T09:54:47.255Z"
   },
   {
    "duration": 56,
    "start_time": "2023-05-16T10:05:17.420Z"
   },
   {
    "duration": 14,
    "start_time": "2023-05-16T10:14:57.202Z"
   },
   {
    "duration": 9,
    "start_time": "2023-05-16T10:15:29.815Z"
   },
   {
    "duration": 109,
    "start_time": "2023-05-16T10:16:05.854Z"
   },
   {
    "duration": 16,
    "start_time": "2023-05-16T10:16:13.998Z"
   },
   {
    "duration": 9,
    "start_time": "2023-05-16T10:16:21.354Z"
   },
   {
    "duration": 16,
    "start_time": "2023-05-16T10:17:23.054Z"
   },
   {
    "duration": 1205,
    "start_time": "2023-05-16T10:17:29.902Z"
   },
   {
    "duration": 81,
    "start_time": "2023-05-16T10:17:31.109Z"
   },
   {
    "duration": 15,
    "start_time": "2023-05-16T10:17:31.192Z"
   },
   {
    "duration": 76,
    "start_time": "2023-05-16T10:17:31.209Z"
   },
   {
    "duration": 45,
    "start_time": "2023-05-16T10:17:31.287Z"
   },
   {
    "duration": 47,
    "start_time": "2023-05-16T10:17:31.334Z"
   },
   {
    "duration": 51,
    "start_time": "2023-05-16T10:17:31.383Z"
   },
   {
    "duration": 38,
    "start_time": "2023-05-16T10:17:31.437Z"
   },
   {
    "duration": 38,
    "start_time": "2023-05-16T10:17:31.477Z"
   },
   {
    "duration": 71,
    "start_time": "2023-05-16T10:17:31.519Z"
   },
   {
    "duration": 28,
    "start_time": "2023-05-16T10:17:31.592Z"
   },
   {
    "duration": 30,
    "start_time": "2023-05-16T10:17:31.622Z"
   },
   {
    "duration": 36,
    "start_time": "2023-05-16T10:17:31.654Z"
   },
   {
    "duration": 124,
    "start_time": "2023-05-16T10:17:31.692Z"
   },
   {
    "duration": 0,
    "start_time": "2023-05-16T10:17:31.820Z"
   },
   {
    "duration": 0,
    "start_time": "2023-05-16T10:17:31.821Z"
   },
   {
    "duration": 0,
    "start_time": "2023-05-16T10:17:31.823Z"
   },
   {
    "duration": 0,
    "start_time": "2023-05-16T10:17:31.824Z"
   },
   {
    "duration": 0,
    "start_time": "2023-05-16T10:17:31.825Z"
   },
   {
    "duration": 0,
    "start_time": "2023-05-16T10:17:31.826Z"
   },
   {
    "duration": 1,
    "start_time": "2023-05-16T10:17:31.827Z"
   },
   {
    "duration": 0,
    "start_time": "2023-05-16T10:17:31.829Z"
   },
   {
    "duration": 0,
    "start_time": "2023-05-16T10:17:31.830Z"
   },
   {
    "duration": 0,
    "start_time": "2023-05-16T10:17:31.831Z"
   },
   {
    "duration": 0,
    "start_time": "2023-05-16T10:17:31.851Z"
   },
   {
    "duration": 0,
    "start_time": "2023-05-16T10:17:31.852Z"
   },
   {
    "duration": 0,
    "start_time": "2023-05-16T10:17:31.854Z"
   },
   {
    "duration": 0,
    "start_time": "2023-05-16T10:17:31.856Z"
   },
   {
    "duration": 0,
    "start_time": "2023-05-16T10:17:31.858Z"
   },
   {
    "duration": 0,
    "start_time": "2023-05-16T10:17:31.859Z"
   },
   {
    "duration": 0,
    "start_time": "2023-05-16T10:17:31.862Z"
   },
   {
    "duration": 0,
    "start_time": "2023-05-16T10:17:31.863Z"
   },
   {
    "duration": 0,
    "start_time": "2023-05-16T10:17:31.864Z"
   },
   {
    "duration": 0,
    "start_time": "2023-05-16T10:17:31.866Z"
   },
   {
    "duration": 0,
    "start_time": "2023-05-16T10:17:31.867Z"
   },
   {
    "duration": 0,
    "start_time": "2023-05-16T10:17:31.869Z"
   },
   {
    "duration": 0,
    "start_time": "2023-05-16T10:17:31.871Z"
   },
   {
    "duration": 0,
    "start_time": "2023-05-16T10:17:31.873Z"
   },
   {
    "duration": 0,
    "start_time": "2023-05-16T10:17:31.875Z"
   },
   {
    "duration": 0,
    "start_time": "2023-05-16T10:17:31.877Z"
   },
   {
    "duration": 0,
    "start_time": "2023-05-16T10:17:31.880Z"
   },
   {
    "duration": 0,
    "start_time": "2023-05-16T10:17:31.881Z"
   },
   {
    "duration": 22,
    "start_time": "2023-05-16T10:17:58.658Z"
   },
   {
    "duration": 18,
    "start_time": "2023-05-16T10:18:45.293Z"
   },
   {
    "duration": 12,
    "start_time": "2023-05-16T10:19:34.596Z"
   },
   {
    "duration": 14,
    "start_time": "2023-05-16T10:20:08.052Z"
   },
   {
    "duration": 14,
    "start_time": "2023-05-16T10:20:21.162Z"
   },
   {
    "duration": 1190,
    "start_time": "2023-05-16T10:20:28.050Z"
   },
   {
    "duration": 81,
    "start_time": "2023-05-16T10:20:29.242Z"
   },
   {
    "duration": 14,
    "start_time": "2023-05-16T10:20:29.325Z"
   },
   {
    "duration": 13,
    "start_time": "2023-05-16T10:20:29.341Z"
   },
   {
    "duration": 24,
    "start_time": "2023-05-16T10:20:29.355Z"
   },
   {
    "duration": 30,
    "start_time": "2023-05-16T10:20:29.380Z"
   },
   {
    "duration": 18,
    "start_time": "2023-05-16T10:20:29.412Z"
   },
   {
    "duration": 23,
    "start_time": "2023-05-16T10:20:29.432Z"
   },
   {
    "duration": 14,
    "start_time": "2023-05-16T10:20:29.457Z"
   },
   {
    "duration": 6,
    "start_time": "2023-05-16T10:20:29.473Z"
   },
   {
    "duration": 13,
    "start_time": "2023-05-16T10:20:29.481Z"
   },
   {
    "duration": 17,
    "start_time": "2023-05-16T10:20:29.496Z"
   },
   {
    "duration": 36,
    "start_time": "2023-05-16T10:20:29.515Z"
   },
   {
    "duration": 117,
    "start_time": "2023-05-16T10:20:29.553Z"
   },
   {
    "duration": 0,
    "start_time": "2023-05-16T10:20:29.672Z"
   },
   {
    "duration": 0,
    "start_time": "2023-05-16T10:20:29.673Z"
   },
   {
    "duration": 0,
    "start_time": "2023-05-16T10:20:29.674Z"
   },
   {
    "duration": 0,
    "start_time": "2023-05-16T10:20:29.675Z"
   },
   {
    "duration": 0,
    "start_time": "2023-05-16T10:20:29.676Z"
   },
   {
    "duration": 0,
    "start_time": "2023-05-16T10:20:29.678Z"
   },
   {
    "duration": 0,
    "start_time": "2023-05-16T10:20:29.679Z"
   },
   {
    "duration": 0,
    "start_time": "2023-05-16T10:20:29.681Z"
   },
   {
    "duration": 0,
    "start_time": "2023-05-16T10:20:29.683Z"
   },
   {
    "duration": 0,
    "start_time": "2023-05-16T10:20:29.684Z"
   },
   {
    "duration": 0,
    "start_time": "2023-05-16T10:20:29.686Z"
   },
   {
    "duration": 0,
    "start_time": "2023-05-16T10:20:29.687Z"
   },
   {
    "duration": 0,
    "start_time": "2023-05-16T10:20:29.689Z"
   },
   {
    "duration": 0,
    "start_time": "2023-05-16T10:20:29.691Z"
   },
   {
    "duration": 0,
    "start_time": "2023-05-16T10:20:29.692Z"
   },
   {
    "duration": 0,
    "start_time": "2023-05-16T10:20:29.693Z"
   },
   {
    "duration": 0,
    "start_time": "2023-05-16T10:20:29.695Z"
   },
   {
    "duration": 0,
    "start_time": "2023-05-16T10:20:29.696Z"
   },
   {
    "duration": 0,
    "start_time": "2023-05-16T10:20:29.698Z"
   },
   {
    "duration": 0,
    "start_time": "2023-05-16T10:20:29.700Z"
   },
   {
    "duration": 0,
    "start_time": "2023-05-16T10:20:29.702Z"
   },
   {
    "duration": 0,
    "start_time": "2023-05-16T10:20:29.750Z"
   },
   {
    "duration": 0,
    "start_time": "2023-05-16T10:20:29.751Z"
   },
   {
    "duration": 0,
    "start_time": "2023-05-16T10:20:29.753Z"
   },
   {
    "duration": 0,
    "start_time": "2023-05-16T10:20:29.754Z"
   },
   {
    "duration": 0,
    "start_time": "2023-05-16T10:20:29.755Z"
   },
   {
    "duration": 0,
    "start_time": "2023-05-16T10:20:29.756Z"
   },
   {
    "duration": 0,
    "start_time": "2023-05-16T10:20:29.757Z"
   },
   {
    "duration": 12,
    "start_time": "2023-05-16T10:20:59.564Z"
   },
   {
    "duration": 12,
    "start_time": "2023-05-16T10:22:41.661Z"
   },
   {
    "duration": 4,
    "start_time": "2023-05-16T10:24:07.959Z"
   },
   {
    "duration": 1165,
    "start_time": "2023-05-16T10:24:13.851Z"
   },
   {
    "duration": 83,
    "start_time": "2023-05-16T10:24:15.018Z"
   },
   {
    "duration": 12,
    "start_time": "2023-05-16T10:24:15.102Z"
   },
   {
    "duration": 11,
    "start_time": "2023-05-16T10:24:15.116Z"
   },
   {
    "duration": 11,
    "start_time": "2023-05-16T10:24:15.129Z"
   },
   {
    "duration": 10,
    "start_time": "2023-05-16T10:24:15.142Z"
   },
   {
    "duration": 22,
    "start_time": "2023-05-16T10:24:15.154Z"
   },
   {
    "duration": 9,
    "start_time": "2023-05-16T10:24:15.179Z"
   },
   {
    "duration": 11,
    "start_time": "2023-05-16T10:24:15.190Z"
   },
   {
    "duration": 7,
    "start_time": "2023-05-16T10:24:15.203Z"
   },
   {
    "duration": 12,
    "start_time": "2023-05-16T10:24:15.212Z"
   },
   {
    "duration": 35,
    "start_time": "2023-05-16T10:24:15.226Z"
   },
   {
    "duration": 15,
    "start_time": "2023-05-16T10:24:15.262Z"
   },
   {
    "duration": 8,
    "start_time": "2023-05-16T10:24:15.280Z"
   },
   {
    "duration": 11,
    "start_time": "2023-05-16T10:24:15.289Z"
   },
   {
    "duration": 5,
    "start_time": "2023-05-16T10:24:15.302Z"
   },
   {
    "duration": 18,
    "start_time": "2023-05-16T10:24:15.308Z"
   },
   {
    "duration": 33,
    "start_time": "2023-05-16T10:24:15.327Z"
   },
   {
    "duration": 6,
    "start_time": "2023-05-16T10:24:15.362Z"
   },
   {
    "duration": 308,
    "start_time": "2023-05-16T10:24:15.370Z"
   },
   {
    "duration": 7,
    "start_time": "2023-05-16T10:24:15.679Z"
   },
   {
    "duration": 308,
    "start_time": "2023-05-16T10:24:15.688Z"
   },
   {
    "duration": 221,
    "start_time": "2023-05-16T10:24:15.998Z"
   },
   {
    "duration": 366,
    "start_time": "2023-05-16T10:24:16.220Z"
   },
   {
    "duration": 217,
    "start_time": "2023-05-16T10:24:16.588Z"
   },
   {
    "duration": 351,
    "start_time": "2023-05-16T10:24:16.806Z"
   },
   {
    "duration": 165,
    "start_time": "2023-05-16T10:24:17.159Z"
   },
   {
    "duration": 6,
    "start_time": "2023-05-16T10:24:17.326Z"
   },
   {
    "duration": 165,
    "start_time": "2023-05-16T10:24:17.333Z"
   },
   {
    "duration": 6,
    "start_time": "2023-05-16T10:24:17.500Z"
   },
   {
    "duration": 256,
    "start_time": "2023-05-16T10:24:17.507Z"
   },
   {
    "duration": 168,
    "start_time": "2023-05-16T10:24:17.766Z"
   },
   {
    "duration": 3,
    "start_time": "2023-05-16T10:24:17.936Z"
   },
   {
    "duration": 21,
    "start_time": "2023-05-16T10:24:17.941Z"
   },
   {
    "duration": 3,
    "start_time": "2023-05-16T10:24:17.964Z"
   },
   {
    "duration": 8,
    "start_time": "2023-05-16T10:24:17.969Z"
   },
   {
    "duration": 29,
    "start_time": "2023-05-16T10:24:17.978Z"
   },
   {
    "duration": 46,
    "start_time": "2023-05-16T10:24:18.009Z"
   },
   {
    "duration": 12,
    "start_time": "2023-05-16T10:24:18.057Z"
   },
   {
    "duration": 597,
    "start_time": "2023-05-16T10:24:18.071Z"
   },
   {
    "duration": 219,
    "start_time": "2023-05-16T10:24:18.672Z"
   },
   {
    "duration": 304,
    "start_time": "2023-05-16T10:24:18.893Z"
   },
   {
    "duration": 1316,
    "start_time": "2023-05-16T11:00:23.478Z"
   },
   {
    "duration": 80,
    "start_time": "2023-05-16T11:00:24.796Z"
   },
   {
    "duration": 13,
    "start_time": "2023-05-16T11:00:24.877Z"
   },
   {
    "duration": 17,
    "start_time": "2023-05-16T11:00:24.892Z"
   },
   {
    "duration": 19,
    "start_time": "2023-05-16T11:00:24.913Z"
   },
   {
    "duration": 36,
    "start_time": "2023-05-16T11:00:24.934Z"
   },
   {
    "duration": 17,
    "start_time": "2023-05-16T11:00:24.974Z"
   },
   {
    "duration": 15,
    "start_time": "2023-05-16T11:00:24.993Z"
   },
   {
    "duration": 14,
    "start_time": "2023-05-16T11:00:25.010Z"
   },
   {
    "duration": 22,
    "start_time": "2023-05-16T11:00:25.026Z"
   },
   {
    "duration": 54,
    "start_time": "2023-05-16T11:00:25.049Z"
   },
   {
    "duration": 22,
    "start_time": "2023-05-16T11:00:25.105Z"
   },
   {
    "duration": 17,
    "start_time": "2023-05-16T11:00:25.129Z"
   },
   {
    "duration": 28,
    "start_time": "2023-05-16T11:00:25.149Z"
   },
   {
    "duration": 11,
    "start_time": "2023-05-16T11:00:25.180Z"
   },
   {
    "duration": 6,
    "start_time": "2023-05-16T11:00:25.193Z"
   },
   {
    "duration": 17,
    "start_time": "2023-05-16T11:00:25.201Z"
   },
   {
    "duration": 18,
    "start_time": "2023-05-16T11:00:25.220Z"
   },
   {
    "duration": 5,
    "start_time": "2023-05-16T11:00:25.239Z"
   },
   {
    "duration": 331,
    "start_time": "2023-05-16T11:00:25.246Z"
   },
   {
    "duration": 7,
    "start_time": "2023-05-16T11:00:25.579Z"
   },
   {
    "duration": 339,
    "start_time": "2023-05-16T11:00:25.588Z"
   },
   {
    "duration": 322,
    "start_time": "2023-05-16T11:00:25.929Z"
   },
   {
    "duration": 344,
    "start_time": "2023-05-16T11:00:26.253Z"
   },
   {
    "duration": 282,
    "start_time": "2023-05-16T11:00:26.599Z"
   },
   {
    "duration": 346,
    "start_time": "2023-05-16T11:00:26.883Z"
   },
   {
    "duration": 177,
    "start_time": "2023-05-16T11:00:27.231Z"
   },
   {
    "duration": 6,
    "start_time": "2023-05-16T11:00:27.410Z"
   },
   {
    "duration": 187,
    "start_time": "2023-05-16T11:00:27.418Z"
   },
   {
    "duration": 5,
    "start_time": "2023-05-16T11:00:27.607Z"
   },
   {
    "duration": 272,
    "start_time": "2023-05-16T11:00:27.613Z"
   },
   {
    "duration": 199,
    "start_time": "2023-05-16T11:00:27.887Z"
   },
   {
    "duration": 4,
    "start_time": "2023-05-16T11:00:28.088Z"
   },
   {
    "duration": 18,
    "start_time": "2023-05-16T11:00:28.094Z"
   },
   {
    "duration": 3,
    "start_time": "2023-05-16T11:00:28.113Z"
   },
   {
    "duration": 10,
    "start_time": "2023-05-16T11:00:28.118Z"
   },
   {
    "duration": 40,
    "start_time": "2023-05-16T11:00:28.150Z"
   },
   {
    "duration": 13,
    "start_time": "2023-05-16T11:00:28.192Z"
   },
   {
    "duration": 19,
    "start_time": "2023-05-16T11:00:28.208Z"
   },
   {
    "duration": 639,
    "start_time": "2023-05-16T11:00:28.250Z"
   },
   {
    "duration": 234,
    "start_time": "2023-05-16T11:00:28.893Z"
   },
   {
    "duration": 376,
    "start_time": "2023-05-16T11:00:29.130Z"
   },
   {
    "duration": 1470,
    "start_time": "2023-05-17T03:48:05.633Z"
   },
   {
    "duration": 215,
    "start_time": "2023-05-17T03:48:07.106Z"
   },
   {
    "duration": 16,
    "start_time": "2023-05-17T03:48:07.323Z"
   },
   {
    "duration": 39,
    "start_time": "2023-05-17T03:48:07.341Z"
   },
   {
    "duration": 43,
    "start_time": "2023-05-17T03:48:07.382Z"
   },
   {
    "duration": 53,
    "start_time": "2023-05-17T03:48:07.427Z"
   },
   {
    "duration": 42,
    "start_time": "2023-05-17T03:48:07.482Z"
   },
   {
    "duration": 55,
    "start_time": "2023-05-17T03:48:07.525Z"
   },
   {
    "duration": 24,
    "start_time": "2023-05-17T03:48:07.581Z"
   },
   {
    "duration": 21,
    "start_time": "2023-05-17T03:48:07.609Z"
   },
   {
    "duration": 35,
    "start_time": "2023-05-17T03:48:07.633Z"
   },
   {
    "duration": 20,
    "start_time": "2023-05-17T03:48:07.670Z"
   },
   {
    "duration": 33,
    "start_time": "2023-05-17T03:48:07.692Z"
   },
   {
    "duration": 11,
    "start_time": "2023-05-17T03:48:07.727Z"
   },
   {
    "duration": 48,
    "start_time": "2023-05-17T03:48:07.740Z"
   },
   {
    "duration": 13,
    "start_time": "2023-05-17T03:48:07.791Z"
   },
   {
    "duration": 20,
    "start_time": "2023-05-17T03:48:07.806Z"
   },
   {
    "duration": 34,
    "start_time": "2023-05-17T03:48:07.828Z"
   },
   {
    "duration": 14,
    "start_time": "2023-05-17T03:48:07.864Z"
   },
   {
    "duration": 315,
    "start_time": "2023-05-17T03:48:07.880Z"
   },
   {
    "duration": 7,
    "start_time": "2023-05-17T03:48:08.197Z"
   },
   {
    "duration": 319,
    "start_time": "2023-05-17T03:48:08.206Z"
   },
   {
    "duration": 244,
    "start_time": "2023-05-17T03:48:08.527Z"
   },
   {
    "duration": 367,
    "start_time": "2023-05-17T03:48:08.773Z"
   },
   {
    "duration": 246,
    "start_time": "2023-05-17T03:48:09.145Z"
   },
   {
    "duration": 342,
    "start_time": "2023-05-17T03:48:09.393Z"
   },
   {
    "duration": 170,
    "start_time": "2023-05-17T03:48:09.737Z"
   },
   {
    "duration": 6,
    "start_time": "2023-05-17T03:48:09.911Z"
   },
   {
    "duration": 171,
    "start_time": "2023-05-17T03:48:09.918Z"
   },
   {
    "duration": 6,
    "start_time": "2023-05-17T03:48:10.090Z"
   },
   {
    "duration": 260,
    "start_time": "2023-05-17T03:48:10.097Z"
   },
   {
    "duration": 181,
    "start_time": "2023-05-17T03:48:10.361Z"
   },
   {
    "duration": 11,
    "start_time": "2023-05-17T03:48:10.546Z"
   },
   {
    "duration": 21,
    "start_time": "2023-05-17T03:48:10.558Z"
   },
   {
    "duration": 17,
    "start_time": "2023-05-17T03:48:10.581Z"
   },
   {
    "duration": 17,
    "start_time": "2023-05-17T03:48:10.600Z"
   },
   {
    "duration": 42,
    "start_time": "2023-05-17T03:48:10.620Z"
   },
   {
    "duration": 15,
    "start_time": "2023-05-17T03:48:10.664Z"
   },
   {
    "duration": 15,
    "start_time": "2023-05-17T03:48:10.680Z"
   },
   {
    "duration": 585,
    "start_time": "2023-05-17T03:48:10.697Z"
   },
   {
    "duration": 224,
    "start_time": "2023-05-17T03:48:11.284Z"
   },
   {
    "duration": 377,
    "start_time": "2023-05-17T03:48:11.510Z"
   },
   {
    "duration": 1260,
    "start_time": "2023-07-17T11:25:26.369Z"
   },
   {
    "duration": 190,
    "start_time": "2023-07-17T11:25:27.631Z"
   },
   {
    "duration": 12,
    "start_time": "2023-07-17T11:25:27.823Z"
   },
   {
    "duration": 12,
    "start_time": "2023-07-17T11:25:27.837Z"
   },
   {
    "duration": 12,
    "start_time": "2023-07-17T11:25:27.852Z"
   },
   {
    "duration": 13,
    "start_time": "2023-07-17T11:25:27.866Z"
   },
   {
    "duration": 14,
    "start_time": "2023-07-17T11:25:27.881Z"
   },
   {
    "duration": 11,
    "start_time": "2023-07-17T11:25:27.896Z"
   },
   {
    "duration": 15,
    "start_time": "2023-07-17T11:25:27.908Z"
   },
   {
    "duration": 10,
    "start_time": "2023-07-17T11:25:27.925Z"
   },
   {
    "duration": 13,
    "start_time": "2023-07-17T11:25:27.937Z"
   },
   {
    "duration": 24,
    "start_time": "2023-07-17T11:25:27.952Z"
   },
   {
    "duration": 14,
    "start_time": "2023-07-17T11:25:27.977Z"
   },
   {
    "duration": 10,
    "start_time": "2023-07-17T11:25:27.993Z"
   },
   {
    "duration": 15,
    "start_time": "2023-07-17T11:25:28.004Z"
   },
   {
    "duration": 6,
    "start_time": "2023-07-17T11:25:28.021Z"
   },
   {
    "duration": 10,
    "start_time": "2023-07-17T11:25:28.029Z"
   },
   {
    "duration": 32,
    "start_time": "2023-07-17T11:25:28.041Z"
   },
   {
    "duration": 12,
    "start_time": "2023-07-17T11:25:28.075Z"
   },
   {
    "duration": 280,
    "start_time": "2023-07-17T11:25:28.089Z"
   },
   {
    "duration": 8,
    "start_time": "2023-07-17T11:25:28.370Z"
   },
   {
    "duration": 269,
    "start_time": "2023-07-17T11:25:28.380Z"
   },
   {
    "duration": 195,
    "start_time": "2023-07-17T11:25:28.651Z"
   },
   {
    "duration": 353,
    "start_time": "2023-07-17T11:25:28.848Z"
   },
   {
    "duration": 208,
    "start_time": "2023-07-17T11:25:29.203Z"
   },
   {
    "duration": 294,
    "start_time": "2023-07-17T11:25:29.413Z"
   },
   {
    "duration": 146,
    "start_time": "2023-07-17T11:25:29.708Z"
   },
   {
    "duration": 13,
    "start_time": "2023-07-17T11:25:29.855Z"
   },
   {
    "duration": 145,
    "start_time": "2023-07-17T11:25:29.869Z"
   },
   {
    "duration": 4,
    "start_time": "2023-07-17T11:25:30.016Z"
   },
   {
    "duration": 250,
    "start_time": "2023-07-17T11:25:30.022Z"
   },
   {
    "duration": 150,
    "start_time": "2023-07-17T11:25:30.274Z"
   },
   {
    "duration": 4,
    "start_time": "2023-07-17T11:25:30.425Z"
   },
   {
    "duration": 38,
    "start_time": "2023-07-17T11:25:30.431Z"
   },
   {
    "duration": 44,
    "start_time": "2023-07-17T11:25:30.470Z"
   },
   {
    "duration": 42,
    "start_time": "2023-07-17T11:25:30.516Z"
   },
   {
    "duration": 72,
    "start_time": "2023-07-17T11:25:30.559Z"
   },
   {
    "duration": 25,
    "start_time": "2023-07-17T11:25:30.633Z"
   },
   {
    "duration": 38,
    "start_time": "2023-07-17T11:25:30.660Z"
   },
   {
    "duration": 554,
    "start_time": "2023-07-17T11:25:30.699Z"
   },
   {
    "duration": 200,
    "start_time": "2023-07-17T11:25:31.256Z"
   },
   {
    "duration": 318,
    "start_time": "2023-07-17T11:25:31.457Z"
   },
   {
    "duration": 5,
    "start_time": "2023-07-17T11:26:09.617Z"
   }
  ],
  "kernelspec": {
   "display_name": "Python 3 (ipykernel)",
   "language": "python",
   "name": "python3"
  },
  "language_info": {
   "codemirror_mode": {
    "name": "ipython",
    "version": 3
   },
   "file_extension": ".py",
   "mimetype": "text/x-python",
   "name": "python",
   "nbconvert_exporter": "python",
   "pygments_lexer": "ipython3",
   "version": "3.11.5"
  },
  "toc": {
   "base_numbering": 1,
   "nav_menu": {},
   "number_sections": true,
   "sideBar": true,
   "skip_h1_title": true,
   "title_cell": "Table of Contents",
   "title_sidebar": "Contents",
   "toc_cell": false,
   "toc_position": {},
   "toc_section_display": true,
   "toc_window_display": false
  }
 },
 "nbformat": 4,
 "nbformat_minor": 2
}
