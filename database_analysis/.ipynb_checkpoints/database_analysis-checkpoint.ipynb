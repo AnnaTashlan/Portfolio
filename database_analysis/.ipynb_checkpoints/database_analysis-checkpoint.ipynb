{
 "cells": [
  {
   "cell_type": "markdown",
   "metadata": {},
   "source": [
    "# Анализ базы данных \n",
    "\n",
    "### Описание проекта\n",
    "Цель - проанализировать базу данных.\n",
    "В нашем распоряжении база данных сервиса для чтения книг, включающая в себя информацию о книгах, издательствах, авторах, а также пользовательские обзоры книг. Эти данные помогут сформулировать ценностное предложение для нового продукта.\n",
    "\n",
    "<a id='top'></a>\n",
    "### План работы\n",
    "1. [Знакомство с данными](#section1)\n",
    "2. [Исследование данных](#section2)\n",
    "3. [Выводы](#section3)"
   ]
  },
  {
   "cell_type": "markdown",
   "metadata": {},
   "source": [
    "<a id='section1'></a>\n",
    "### Знакомство с данными."
   ]
  },
  {
   "cell_type": "code",
   "execution_count": 1,
   "metadata": {},
   "outputs": [],
   "source": [
    "import pandas as pd\n",
    "from sqlalchemy import text, create_engine"
   ]
  },
  {
   "cell_type": "code",
   "execution_count": 2,
   "metadata": {},
   "outputs": [],
   "source": [
    "def run_sql(query):\n",
    "    '''\n",
    "    Функция для вывода sql-запроса. Принимает на вход строку с параметрами запроса.\n",
    "    '''\n",
    "    db_config = {'user': 'login', # имя пользователя\n",
    "    'pwd': 'password', # пароль\n",
    "    'host': 'host-url',\n",
    "    'port': 6432, # порт подключения\n",
    "    'db': 'data-analyst-final-project-db'} # название базы данных\n",
    "    connection_string = 'postgresql://{user}:{pwd}@{host}:{port}/{db}'.format(**db_config)\n",
    "\n",
    "    engine = create_engine(connection_string, connect_args={'sslmode':'require'})\n",
    "\n",
    "    con=engine.connect()\n",
    "    \n",
    "    return pd.io.sql.read_sql(sql=text(query), con = con)\n",
    "    "
   ]
  },
  {
   "cell_type": "markdown",
   "metadata": {},
   "source": [
    "Выведем первые строки таблиц."
   ]
  },
  {
   "cell_type": "code",
   "execution_count": 3,
   "metadata": {},
   "outputs": [
    {
     "data": {
      "text/html": [
       "<div>\n",
       "<style scoped>\n",
       "    .dataframe tbody tr th:only-of-type {\n",
       "        vertical-align: middle;\n",
       "    }\n",
       "\n",
       "    .dataframe tbody tr th {\n",
       "        vertical-align: top;\n",
       "    }\n",
       "\n",
       "    .dataframe thead th {\n",
       "        text-align: right;\n",
       "    }\n",
       "</style>\n",
       "<table border=\"1\" class=\"dataframe\">\n",
       "  <thead>\n",
       "    <tr style=\"text-align: right;\">\n",
       "      <th></th>\n",
       "      <th>book_id</th>\n",
       "      <th>author_id</th>\n",
       "      <th>title</th>\n",
       "      <th>num_pages</th>\n",
       "      <th>publication_date</th>\n",
       "      <th>publisher_id</th>\n",
       "    </tr>\n",
       "  </thead>\n",
       "  <tbody>\n",
       "    <tr>\n",
       "      <th>0</th>\n",
       "      <td>1</td>\n",
       "      <td>546</td>\n",
       "      <td>'Salem's Lot</td>\n",
       "      <td>594</td>\n",
       "      <td>2005-11-01</td>\n",
       "      <td>93</td>\n",
       "    </tr>\n",
       "    <tr>\n",
       "      <th>1</th>\n",
       "      <td>2</td>\n",
       "      <td>465</td>\n",
       "      <td>1 000 Places to See Before You Die</td>\n",
       "      <td>992</td>\n",
       "      <td>2003-05-22</td>\n",
       "      <td>336</td>\n",
       "    </tr>\n",
       "    <tr>\n",
       "      <th>2</th>\n",
       "      <td>3</td>\n",
       "      <td>407</td>\n",
       "      <td>13 Little Blue Envelopes (Little Blue Envelope...</td>\n",
       "      <td>322</td>\n",
       "      <td>2010-12-21</td>\n",
       "      <td>135</td>\n",
       "    </tr>\n",
       "    <tr>\n",
       "      <th>3</th>\n",
       "      <td>4</td>\n",
       "      <td>82</td>\n",
       "      <td>1491: New Revelations of the Americas Before C...</td>\n",
       "      <td>541</td>\n",
       "      <td>2006-10-10</td>\n",
       "      <td>309</td>\n",
       "    </tr>\n",
       "    <tr>\n",
       "      <th>4</th>\n",
       "      <td>5</td>\n",
       "      <td>125</td>\n",
       "      <td>1776</td>\n",
       "      <td>386</td>\n",
       "      <td>2006-07-04</td>\n",
       "      <td>268</td>\n",
       "    </tr>\n",
       "  </tbody>\n",
       "</table>\n",
       "</div>"
      ],
      "text/plain": [
       "   book_id  author_id                                              title  \\\n",
       "0        1        546                                       'Salem's Lot   \n",
       "1        2        465                 1 000 Places to See Before You Die   \n",
       "2        3        407  13 Little Blue Envelopes (Little Blue Envelope...   \n",
       "3        4         82  1491: New Revelations of the Americas Before C...   \n",
       "4        5        125                                               1776   \n",
       "\n",
       "   num_pages publication_date  publisher_id  \n",
       "0        594       2005-11-01            93  \n",
       "1        992       2003-05-22           336  \n",
       "2        322       2010-12-21           135  \n",
       "3        541       2006-10-10           309  \n",
       "4        386       2006-07-04           268  "
      ]
     },
     "execution_count": 3,
     "metadata": {},
     "output_type": "execute_result"
    }
   ],
   "source": [
    "run_sql('''SELECT * FROM books LIMIT 5''')"
   ]
  },
  {
   "cell_type": "markdown",
   "metadata": {},
   "source": [
    "В таблице `books` содержится информация о книгах."
   ]
  },
  {
   "cell_type": "code",
   "execution_count": 4,
   "metadata": {},
   "outputs": [
    {
     "data": {
      "text/html": [
       "<div>\n",
       "<style scoped>\n",
       "    .dataframe tbody tr th:only-of-type {\n",
       "        vertical-align: middle;\n",
       "    }\n",
       "\n",
       "    .dataframe tbody tr th {\n",
       "        vertical-align: top;\n",
       "    }\n",
       "\n",
       "    .dataframe thead th {\n",
       "        text-align: right;\n",
       "    }\n",
       "</style>\n",
       "<table border=\"1\" class=\"dataframe\">\n",
       "  <thead>\n",
       "    <tr style=\"text-align: right;\">\n",
       "      <th></th>\n",
       "      <th>author_id</th>\n",
       "      <th>author</th>\n",
       "    </tr>\n",
       "  </thead>\n",
       "  <tbody>\n",
       "    <tr>\n",
       "      <th>0</th>\n",
       "      <td>1</td>\n",
       "      <td>A.S. Byatt</td>\n",
       "    </tr>\n",
       "    <tr>\n",
       "      <th>1</th>\n",
       "      <td>2</td>\n",
       "      <td>Aesop/Laura Harris/Laura Gibbs</td>\n",
       "    </tr>\n",
       "    <tr>\n",
       "      <th>2</th>\n",
       "      <td>3</td>\n",
       "      <td>Agatha Christie</td>\n",
       "    </tr>\n",
       "    <tr>\n",
       "      <th>3</th>\n",
       "      <td>4</td>\n",
       "      <td>Alan Brennert</td>\n",
       "    </tr>\n",
       "    <tr>\n",
       "      <th>4</th>\n",
       "      <td>5</td>\n",
       "      <td>Alan Moore/David   Lloyd</td>\n",
       "    </tr>\n",
       "  </tbody>\n",
       "</table>\n",
       "</div>"
      ],
      "text/plain": [
       "   author_id                          author\n",
       "0          1                      A.S. Byatt\n",
       "1          2  Aesop/Laura Harris/Laura Gibbs\n",
       "2          3                 Agatha Christie\n",
       "3          4                   Alan Brennert\n",
       "4          5        Alan Moore/David   Lloyd"
      ]
     },
     "execution_count": 4,
     "metadata": {},
     "output_type": "execute_result"
    }
   ],
   "source": [
    "run_sql('''SELECT * FROM authors LIMIT 5''')"
   ]
  },
  {
   "cell_type": "markdown",
   "metadata": {},
   "source": [
    "В таблице `authors` содержится информация об авторах."
   ]
  },
  {
   "cell_type": "code",
   "execution_count": 5,
   "metadata": {},
   "outputs": [
    {
     "data": {
      "text/html": [
       "<div>\n",
       "<style scoped>\n",
       "    .dataframe tbody tr th:only-of-type {\n",
       "        vertical-align: middle;\n",
       "    }\n",
       "\n",
       "    .dataframe tbody tr th {\n",
       "        vertical-align: top;\n",
       "    }\n",
       "\n",
       "    .dataframe thead th {\n",
       "        text-align: right;\n",
       "    }\n",
       "</style>\n",
       "<table border=\"1\" class=\"dataframe\">\n",
       "  <thead>\n",
       "    <tr style=\"text-align: right;\">\n",
       "      <th></th>\n",
       "      <th>publisher_id</th>\n",
       "      <th>publisher</th>\n",
       "    </tr>\n",
       "  </thead>\n",
       "  <tbody>\n",
       "    <tr>\n",
       "      <th>0</th>\n",
       "      <td>1</td>\n",
       "      <td>Ace</td>\n",
       "    </tr>\n",
       "    <tr>\n",
       "      <th>1</th>\n",
       "      <td>2</td>\n",
       "      <td>Ace Book</td>\n",
       "    </tr>\n",
       "    <tr>\n",
       "      <th>2</th>\n",
       "      <td>3</td>\n",
       "      <td>Ace Books</td>\n",
       "    </tr>\n",
       "    <tr>\n",
       "      <th>3</th>\n",
       "      <td>4</td>\n",
       "      <td>Ace Hardcover</td>\n",
       "    </tr>\n",
       "    <tr>\n",
       "      <th>4</th>\n",
       "      <td>5</td>\n",
       "      <td>Addison Wesley Publishing Company</td>\n",
       "    </tr>\n",
       "  </tbody>\n",
       "</table>\n",
       "</div>"
      ],
      "text/plain": [
       "   publisher_id                          publisher\n",
       "0             1                                Ace\n",
       "1             2                           Ace Book\n",
       "2             3                          Ace Books\n",
       "3             4                      Ace Hardcover\n",
       "4             5  Addison Wesley Publishing Company"
      ]
     },
     "execution_count": 5,
     "metadata": {},
     "output_type": "execute_result"
    }
   ],
   "source": [
    "run_sql('''SELECT * FROM publishers LIMIT 5''')"
   ]
  },
  {
   "cell_type": "markdown",
   "metadata": {},
   "source": [
    "В таблице `publishers` содержится информация об издательствах."
   ]
  },
  {
   "cell_type": "code",
   "execution_count": 6,
   "metadata": {},
   "outputs": [
    {
     "data": {
      "text/html": [
       "<div>\n",
       "<style scoped>\n",
       "    .dataframe tbody tr th:only-of-type {\n",
       "        vertical-align: middle;\n",
       "    }\n",
       "\n",
       "    .dataframe tbody tr th {\n",
       "        vertical-align: top;\n",
       "    }\n",
       "\n",
       "    .dataframe thead th {\n",
       "        text-align: right;\n",
       "    }\n",
       "</style>\n",
       "<table border=\"1\" class=\"dataframe\">\n",
       "  <thead>\n",
       "    <tr style=\"text-align: right;\">\n",
       "      <th></th>\n",
       "      <th>rating_id</th>\n",
       "      <th>book_id</th>\n",
       "      <th>username</th>\n",
       "      <th>rating</th>\n",
       "    </tr>\n",
       "  </thead>\n",
       "  <tbody>\n",
       "    <tr>\n",
       "      <th>0</th>\n",
       "      <td>1</td>\n",
       "      <td>1</td>\n",
       "      <td>ryanfranco</td>\n",
       "      <td>4</td>\n",
       "    </tr>\n",
       "    <tr>\n",
       "      <th>1</th>\n",
       "      <td>2</td>\n",
       "      <td>1</td>\n",
       "      <td>grantpatricia</td>\n",
       "      <td>2</td>\n",
       "    </tr>\n",
       "    <tr>\n",
       "      <th>2</th>\n",
       "      <td>3</td>\n",
       "      <td>1</td>\n",
       "      <td>brandtandrea</td>\n",
       "      <td>5</td>\n",
       "    </tr>\n",
       "    <tr>\n",
       "      <th>3</th>\n",
       "      <td>4</td>\n",
       "      <td>2</td>\n",
       "      <td>lorichen</td>\n",
       "      <td>3</td>\n",
       "    </tr>\n",
       "    <tr>\n",
       "      <th>4</th>\n",
       "      <td>5</td>\n",
       "      <td>2</td>\n",
       "      <td>mariokeller</td>\n",
       "      <td>2</td>\n",
       "    </tr>\n",
       "  </tbody>\n",
       "</table>\n",
       "</div>"
      ],
      "text/plain": [
       "   rating_id  book_id       username  rating\n",
       "0          1        1     ryanfranco       4\n",
       "1          2        1  grantpatricia       2\n",
       "2          3        1   brandtandrea       5\n",
       "3          4        2       lorichen       3\n",
       "4          5        2    mariokeller       2"
      ]
     },
     "execution_count": 6,
     "metadata": {},
     "output_type": "execute_result"
    }
   ],
   "source": [
    "run_sql('''SELECT * FROM ratings LIMIT 5''')"
   ]
  },
  {
   "cell_type": "markdown",
   "metadata": {},
   "source": [
    "В таблице `ratings` содержатся данные о пользовательских оценках книг."
   ]
  },
  {
   "cell_type": "code",
   "execution_count": 7,
   "metadata": {},
   "outputs": [
    {
     "data": {
      "text/html": [
       "<div>\n",
       "<style scoped>\n",
       "    .dataframe tbody tr th:only-of-type {\n",
       "        vertical-align: middle;\n",
       "    }\n",
       "\n",
       "    .dataframe tbody tr th {\n",
       "        vertical-align: top;\n",
       "    }\n",
       "\n",
       "    .dataframe thead th {\n",
       "        text-align: right;\n",
       "    }\n",
       "</style>\n",
       "<table border=\"1\" class=\"dataframe\">\n",
       "  <thead>\n",
       "    <tr style=\"text-align: right;\">\n",
       "      <th></th>\n",
       "      <th>review_id</th>\n",
       "      <th>book_id</th>\n",
       "      <th>username</th>\n",
       "      <th>text</th>\n",
       "    </tr>\n",
       "  </thead>\n",
       "  <tbody>\n",
       "    <tr>\n",
       "      <th>0</th>\n",
       "      <td>1</td>\n",
       "      <td>1</td>\n",
       "      <td>brandtandrea</td>\n",
       "      <td>Mention society tell send professor analysis. ...</td>\n",
       "    </tr>\n",
       "    <tr>\n",
       "      <th>1</th>\n",
       "      <td>2</td>\n",
       "      <td>1</td>\n",
       "      <td>ryanfranco</td>\n",
       "      <td>Foot glass pretty audience hit themselves. Amo...</td>\n",
       "    </tr>\n",
       "    <tr>\n",
       "      <th>2</th>\n",
       "      <td>3</td>\n",
       "      <td>2</td>\n",
       "      <td>lorichen</td>\n",
       "      <td>Listen treat keep worry. Miss husband tax but ...</td>\n",
       "    </tr>\n",
       "    <tr>\n",
       "      <th>3</th>\n",
       "      <td>4</td>\n",
       "      <td>3</td>\n",
       "      <td>johnsonamanda</td>\n",
       "      <td>Finally month interesting blue could nature cu...</td>\n",
       "    </tr>\n",
       "    <tr>\n",
       "      <th>4</th>\n",
       "      <td>5</td>\n",
       "      <td>3</td>\n",
       "      <td>scotttamara</td>\n",
       "      <td>Nation purpose heavy give wait song will. List...</td>\n",
       "    </tr>\n",
       "  </tbody>\n",
       "</table>\n",
       "</div>"
      ],
      "text/plain": [
       "   review_id  book_id       username  \\\n",
       "0          1        1   brandtandrea   \n",
       "1          2        1     ryanfranco   \n",
       "2          3        2       lorichen   \n",
       "3          4        3  johnsonamanda   \n",
       "4          5        3    scotttamara   \n",
       "\n",
       "                                                text  \n",
       "0  Mention society tell send professor analysis. ...  \n",
       "1  Foot glass pretty audience hit themselves. Amo...  \n",
       "2  Listen treat keep worry. Miss husband tax but ...  \n",
       "3  Finally month interesting blue could nature cu...  \n",
       "4  Nation purpose heavy give wait song will. List...  "
      ]
     },
     "execution_count": 7,
     "metadata": {},
     "output_type": "execute_result"
    }
   ],
   "source": [
    "run_sql('''SELECT * FROM reviews LIMIT 5''')"
   ]
  },
  {
   "cell_type": "markdown",
   "metadata": {},
   "source": [
    "В таблице `reviews` содержатся данные о пользовательских обзорах на книги.\n",
    "\n",
    "Таким образом, мы имеем 5 таблиц."
   ]
  },
  {
   "cell_type": "markdown",
   "metadata": {},
   "source": [
    "<a id='section2'></a>\n",
    "### Исследование  данных.\n",
    "[Оглавление](#top)"
   ]
  },
  {
   "cell_type": "markdown",
   "metadata": {},
   "source": [
    "Посчитаем, сколько книг вышло после 1 января 2000 года."
   ]
  },
  {
   "cell_type": "code",
   "execution_count": 8,
   "metadata": {},
   "outputs": [
    {
     "data": {
      "text/html": [
       "<div>\n",
       "<style scoped>\n",
       "    .dataframe tbody tr th:only-of-type {\n",
       "        vertical-align: middle;\n",
       "    }\n",
       "\n",
       "    .dataframe tbody tr th {\n",
       "        vertical-align: top;\n",
       "    }\n",
       "\n",
       "    .dataframe thead th {\n",
       "        text-align: right;\n",
       "    }\n",
       "</style>\n",
       "<table border=\"1\" class=\"dataframe\">\n",
       "  <thead>\n",
       "    <tr style=\"text-align: right;\">\n",
       "      <th></th>\n",
       "      <th>count_books</th>\n",
       "    </tr>\n",
       "  </thead>\n",
       "  <tbody>\n",
       "    <tr>\n",
       "      <th>0</th>\n",
       "      <td>819</td>\n",
       "    </tr>\n",
       "  </tbody>\n",
       "</table>\n",
       "</div>"
      ],
      "text/plain": [
       "   count_books\n",
       "0          819"
      ]
     },
     "execution_count": 8,
     "metadata": {},
     "output_type": "execute_result"
    }
   ],
   "source": [
    "run_sql('''SELECT COUNT(book_id) AS count_books FROM books WHERE publication_date > '2000-01-01' LIMIT 5''')"
   ]
  },
  {
   "cell_type": "markdown",
   "metadata": {},
   "source": [
    "После 1 января 2000 вышло 819 книг.\n",
    "\n",
    "Для каждой книги посчитаем количество обзоров и среднюю оценку."
   ]
  },
  {
   "cell_type": "code",
   "execution_count": 9,
   "metadata": {},
   "outputs": [
    {
     "data": {
      "text/html": [
       "<div>\n",
       "<style scoped>\n",
       "    .dataframe tbody tr th:only-of-type {\n",
       "        vertical-align: middle;\n",
       "    }\n",
       "\n",
       "    .dataframe tbody tr th {\n",
       "        vertical-align: top;\n",
       "    }\n",
       "\n",
       "    .dataframe thead th {\n",
       "        text-align: right;\n",
       "    }\n",
       "</style>\n",
       "<table border=\"1\" class=\"dataframe\">\n",
       "  <thead>\n",
       "    <tr style=\"text-align: right;\">\n",
       "      <th></th>\n",
       "      <th>book_id</th>\n",
       "      <th>title</th>\n",
       "      <th>count_reviews</th>\n",
       "      <th>avg_rating</th>\n",
       "    </tr>\n",
       "  </thead>\n",
       "  <tbody>\n",
       "    <tr>\n",
       "      <th>0</th>\n",
       "      <td>581</td>\n",
       "      <td>Snow Flower and the Secret Fan</td>\n",
       "      <td>5</td>\n",
       "      <td>5.0</td>\n",
       "    </tr>\n",
       "    <tr>\n",
       "      <th>1</th>\n",
       "      <td>17</td>\n",
       "      <td>A Dirty Job (Grim Reaper  #1)</td>\n",
       "      <td>4</td>\n",
       "      <td>5.0</td>\n",
       "    </tr>\n",
       "    <tr>\n",
       "      <th>2</th>\n",
       "      <td>334</td>\n",
       "      <td>Howl's Moving Castle (Howl's Moving Castle  #1)</td>\n",
       "      <td>4</td>\n",
       "      <td>5.0</td>\n",
       "    </tr>\n",
       "    <tr>\n",
       "      <th>3</th>\n",
       "      <td>423</td>\n",
       "      <td>Maus I: A Survivor's Tale: My Father Bleeds Hi...</td>\n",
       "      <td>4</td>\n",
       "      <td>5.0</td>\n",
       "    </tr>\n",
       "    <tr>\n",
       "      <th>4</th>\n",
       "      <td>203</td>\n",
       "      <td>Drums of Autumn (Outlander  #4)</td>\n",
       "      <td>4</td>\n",
       "      <td>5.0</td>\n",
       "    </tr>\n",
       "    <tr>\n",
       "      <th>...</th>\n",
       "      <td>...</td>\n",
       "      <td>...</td>\n",
       "      <td>...</td>\n",
       "      <td>...</td>\n",
       "    </tr>\n",
       "    <tr>\n",
       "      <th>995</th>\n",
       "      <td>794</td>\n",
       "      <td>The Mermaid Chair</td>\n",
       "      <td>3</td>\n",
       "      <td>2.0</td>\n",
       "    </tr>\n",
       "    <tr>\n",
       "      <th>996</th>\n",
       "      <td>772</td>\n",
       "      <td>The Kitchen God's Wife</td>\n",
       "      <td>3</td>\n",
       "      <td>2.0</td>\n",
       "    </tr>\n",
       "    <tr>\n",
       "      <th>997</th>\n",
       "      <td>371</td>\n",
       "      <td>Junky</td>\n",
       "      <td>2</td>\n",
       "      <td>2.0</td>\n",
       "    </tr>\n",
       "    <tr>\n",
       "      <th>998</th>\n",
       "      <td>316</td>\n",
       "      <td>His Excellency: George Washington</td>\n",
       "      <td>2</td>\n",
       "      <td>2.0</td>\n",
       "    </tr>\n",
       "    <tr>\n",
       "      <th>999</th>\n",
       "      <td>303</td>\n",
       "      <td>Harvesting the Heart</td>\n",
       "      <td>2</td>\n",
       "      <td>2.0</td>\n",
       "    </tr>\n",
       "  </tbody>\n",
       "</table>\n",
       "<p>1000 rows × 4 columns</p>\n",
       "</div>"
      ],
      "text/plain": [
       "     book_id                                              title  \\\n",
       "0        581                     Snow Flower and the Secret Fan   \n",
       "1         17                      A Dirty Job (Grim Reaper  #1)   \n",
       "2        334    Howl's Moving Castle (Howl's Moving Castle  #1)   \n",
       "3        423  Maus I: A Survivor's Tale: My Father Bleeds Hi...   \n",
       "4        203                    Drums of Autumn (Outlander  #4)   \n",
       "..       ...                                                ...   \n",
       "995      794                                  The Mermaid Chair   \n",
       "996      772                             The Kitchen God's Wife   \n",
       "997      371                                              Junky   \n",
       "998      316                  His Excellency: George Washington   \n",
       "999      303                               Harvesting the Heart   \n",
       "\n",
       "     count_reviews  avg_rating  \n",
       "0                5         5.0  \n",
       "1                4         5.0  \n",
       "2                4         5.0  \n",
       "3                4         5.0  \n",
       "4                4         5.0  \n",
       "..             ...         ...  \n",
       "995              3         2.0  \n",
       "996              3         2.0  \n",
       "997              2         2.0  \n",
       "998              2         2.0  \n",
       "999              2         2.0  \n",
       "\n",
       "[1000 rows x 4 columns]"
      ]
     },
     "execution_count": 9,
     "metadata": {},
     "output_type": "execute_result"
    }
   ],
   "source": [
    "run_sql('''\n",
    "SELECT \n",
    "    b.book_id,\n",
    "    b.title,\n",
    "    COUNT(DISTINCT re.review_id) AS count_reviews,\n",
    "    ROUND(AVG(r.rating)) AS avg_rating\n",
    "FROM books AS b \n",
    "LEFT OUTER JOIN reviews AS re ON b.book_id = re.book_id \n",
    "LEFT OUTER JOIN ratings AS r ON b.book_id = r.book_id \n",
    "GROUP BY b.book_id, b.title\n",
    "ORDER BY avg_rating DESC, count_reviews DESC''')"
   ]
  },
  {
   "cell_type": "markdown",
   "metadata": {},
   "source": [
    "Мы имеем данные о 1000 книг с рейтингом от 2 до 5.\n",
    "\n",
    "Определим издательство, которое выпустило наибольшее число книг толще 50 страниц."
   ]
  },
  {
   "cell_type": "code",
   "execution_count": 10,
   "metadata": {},
   "outputs": [
    {
     "data": {
      "text/html": [
       "<div>\n",
       "<style scoped>\n",
       "    .dataframe tbody tr th:only-of-type {\n",
       "        vertical-align: middle;\n",
       "    }\n",
       "\n",
       "    .dataframe tbody tr th {\n",
       "        vertical-align: top;\n",
       "    }\n",
       "\n",
       "    .dataframe thead th {\n",
       "        text-align: right;\n",
       "    }\n",
       "</style>\n",
       "<table border=\"1\" class=\"dataframe\">\n",
       "  <thead>\n",
       "    <tr style=\"text-align: right;\">\n",
       "      <th></th>\n",
       "      <th>publisher</th>\n",
       "      <th>count_books</th>\n",
       "    </tr>\n",
       "  </thead>\n",
       "  <tbody>\n",
       "    <tr>\n",
       "      <th>0</th>\n",
       "      <td>Penguin Books</td>\n",
       "      <td>42</td>\n",
       "    </tr>\n",
       "  </tbody>\n",
       "</table>\n",
       "</div>"
      ],
      "text/plain": [
       "       publisher  count_books\n",
       "0  Penguin Books           42"
      ]
     },
     "execution_count": 10,
     "metadata": {},
     "output_type": "execute_result"
    }
   ],
   "source": [
    "run_sql('''\n",
    "SELECT \n",
    "    p.publisher,\n",
    "    COUNT(b.book_id) AS count_books\n",
    "FROM publishers AS p \n",
    "LEFT OUTER JOIN books AS b ON p.publisher_id = b.publisher_id \n",
    "WHERE b.num_pages > 50\n",
    "GROUP BY p.publisher\n",
    "ORDER BY count_books DESC\n",
    "LIMIT 1''')"
   ]
  },
  {
   "cell_type": "markdown",
   "metadata": {},
   "source": [
    "Издательство `Penguin Books\t` выпустило наибольшее число книг - 42.\n",
    "\n",
    "Определим автора с самой высокой средней оценкой книг, будем учитывать только книги с 50 и более оценками."
   ]
  },
  {
   "cell_type": "code",
   "execution_count": 11,
   "metadata": {},
   "outputs": [
    {
     "data": {
      "text/html": [
       "<div>\n",
       "<style scoped>\n",
       "    .dataframe tbody tr th:only-of-type {\n",
       "        vertical-align: middle;\n",
       "    }\n",
       "\n",
       "    .dataframe tbody tr th {\n",
       "        vertical-align: top;\n",
       "    }\n",
       "\n",
       "    .dataframe thead th {\n",
       "        text-align: right;\n",
       "    }\n",
       "</style>\n",
       "<table border=\"1\" class=\"dataframe\">\n",
       "  <thead>\n",
       "    <tr style=\"text-align: right;\">\n",
       "      <th></th>\n",
       "      <th>author</th>\n",
       "      <th>avg_rating</th>\n",
       "    </tr>\n",
       "  </thead>\n",
       "  <tbody>\n",
       "    <tr>\n",
       "      <th>0</th>\n",
       "      <td>J.K. Rowling/Mary GrandPré</td>\n",
       "      <td>4.29</td>\n",
       "    </tr>\n",
       "  </tbody>\n",
       "</table>\n",
       "</div>"
      ],
      "text/plain": [
       "                       author  avg_rating\n",
       "0  J.K. Rowling/Mary GrandPré        4.29"
      ]
     },
     "execution_count": 11,
     "metadata": {},
     "output_type": "execute_result"
    }
   ],
   "source": [
    "run_sql('''\n",
    "WITH book_rating AS(\n",
    "    SELECT\n",
    "        b.book_id,\n",
    "        b.author_id,\n",
    "        COUNT(r.rating_id) AS count_rating\n",
    "    FROM books AS b\n",
    "    LEFT OUTER JOIN ratings AS r ON b.book_id = r.book_id\n",
    "    GROUP BY b.book_id, b.author_id\n",
    "    HAVING COUNT(r.rating_id) >= 50\n",
    ")\n",
    "SELECT\n",
    "    a.author,\n",
    "    ROUND(AVG(r.rating),2) AS avg_rating\n",
    "FROM book_rating br\n",
    "INNER JOIN authors AS a ON a.author_id = br.author_id\n",
    "INNER JOIN ratings AS r ON br.book_id = r.book_id\n",
    "GROUP BY a.author\n",
    "ORDER BY avg_rating DESC\n",
    "LIMIT 1''')"
   ]
  },
  {
   "cell_type": "markdown",
   "metadata": {},
   "source": [
    "Автор `J.K. Rowling/Mary GrandPré` имеет самую высокую среднюю оценку книг, она составляет 4.29.\n",
    "\n",
    "Посчитаем среднее количество обзоров от пользователей, которые поставили больше 48 оценок."
   ]
  },
  {
   "cell_type": "code",
   "execution_count": 12,
   "metadata": {},
   "outputs": [
    {
     "data": {
      "text/html": [
       "<div>\n",
       "<style scoped>\n",
       "    .dataframe tbody tr th:only-of-type {\n",
       "        vertical-align: middle;\n",
       "    }\n",
       "\n",
       "    .dataframe tbody tr th {\n",
       "        vertical-align: top;\n",
       "    }\n",
       "\n",
       "    .dataframe thead th {\n",
       "        text-align: right;\n",
       "    }\n",
       "</style>\n",
       "<table border=\"1\" class=\"dataframe\">\n",
       "  <thead>\n",
       "    <tr style=\"text-align: right;\">\n",
       "      <th></th>\n",
       "      <th>count_reviews</th>\n",
       "    </tr>\n",
       "  </thead>\n",
       "  <tbody>\n",
       "    <tr>\n",
       "      <th>0</th>\n",
       "      <td>24.0</td>\n",
       "    </tr>\n",
       "  </tbody>\n",
       "</table>\n",
       "</div>"
      ],
      "text/plain": [
       "   count_reviews\n",
       "0           24.0"
      ]
     },
     "execution_count": 12,
     "metadata": {},
     "output_type": "execute_result"
    }
   ],
   "source": [
    "run_sql('''\n",
    "WITH user_ratings AS (\n",
    "    SELECT\n",
    "        username,\n",
    "        COUNT(rating_id) AS rating_count\n",
    "    FROM ratings\n",
    "    GROUP BY username\n",
    "    HAVING COUNT(rating_id) > 48\n",
    "),\n",
    "user_reviews AS (\n",
    "    SELECT\n",
    "        r.username,\n",
    "        COUNT(r.review_id) AS count_reviews\n",
    "    FROM user_ratings AS ur\n",
    "    INNER JOIN reviews AS r ON ur.username = r.username\n",
    "    GROUP BY r.username\n",
    ")\n",
    "SELECT AVG(count_reviews) AS count_reviews\n",
    "FROM user_reviews\n",
    "''')"
   ]
  },
  {
   "cell_type": "markdown",
   "metadata": {},
   "source": [
    "Среднее количество обзоров от пользователей, поставивших более 48 оценок - 24."
   ]
  },
  {
   "cell_type": "markdown",
   "metadata": {},
   "source": [
    "<a id='section3'></a>\n",
    "### Выводы\n",
    "[Оглавление](#top)\n",
    "\n",
    "1. В базе данных содержится информация о 1000 книг с рейтингом от 2 до 5. \n",
    "2. После 1 января 2000 вышло 819 книг.\n",
    "3. Наибольшее количество книг (42) выпустило издательство `Penguin Books`.\n",
    "4. Самая высока средняя оценка книг (4.29) у автора `J.K. Rowling/Mary GrandPré`.\n",
    "5. Пользователи, поставившие более 48 оценок, в среднем пишут 24 обзора."
   ]
  }
 ],
 "metadata": {
  "ExecuteTimeLog": [
   {
    "duration": 555,
    "start_time": "2023-07-23T05:57:06.308Z"
   },
   {
    "duration": 3,
    "start_time": "2023-07-23T05:57:26.191Z"
   },
   {
    "duration": 12149,
    "start_time": "2023-07-23T05:57:38.549Z"
   },
   {
    "duration": 246,
    "start_time": "2023-07-23T05:57:54.423Z"
   },
   {
    "duration": 337,
    "start_time": "2023-07-23T05:59:50.982Z"
   },
   {
    "duration": 614,
    "start_time": "2023-07-23T05:59:58.943Z"
   },
   {
    "duration": 19616,
    "start_time": "2023-07-23T05:59:59.560Z"
   },
   {
    "duration": 207,
    "start_time": "2023-07-23T06:00:21.752Z"
   },
   {
    "duration": 56,
    "start_time": "2023-07-23T06:00:22.292Z"
   },
   {
    "duration": 34,
    "start_time": "2023-07-23T06:00:48.616Z"
   },
   {
    "duration": 44,
    "start_time": "2023-07-23T06:01:12.330Z"
   },
   {
    "duration": 33,
    "start_time": "2023-07-23T06:01:45.624Z"
   },
   {
    "duration": 5,
    "start_time": "2023-07-23T06:06:03.124Z"
   },
   {
    "duration": 315,
    "start_time": "2023-07-23T06:06:25.400Z"
   },
   {
    "duration": 6,
    "start_time": "2023-07-23T06:06:47.076Z"
   },
   {
    "duration": 23,
    "start_time": "2023-07-23T06:06:52.253Z"
   },
   {
    "duration": 274,
    "start_time": "2023-07-23T06:06:55.272Z"
   },
   {
    "duration": 324,
    "start_time": "2023-07-23T06:07:27.655Z"
   },
   {
    "duration": 296,
    "start_time": "2023-07-23T06:07:34.843Z"
   },
   {
    "duration": 618,
    "start_time": "2023-07-23T06:07:57.976Z"
   },
   {
    "duration": 238,
    "start_time": "2023-07-23T06:08:07.578Z"
   },
   {
    "duration": 254,
    "start_time": "2023-07-23T06:08:21.579Z"
   },
   {
    "duration": 281,
    "start_time": "2023-07-23T06:08:37.513Z"
   },
   {
    "duration": 288,
    "start_time": "2023-07-23T06:08:46.928Z"
   },
   {
    "duration": 625,
    "start_time": "2023-07-23T06:09:00.717Z"
   },
   {
    "duration": 10,
    "start_time": "2023-07-23T06:09:01.345Z"
   },
   {
    "duration": 12235,
    "start_time": "2023-07-23T06:09:01.357Z"
   },
   {
    "duration": 283,
    "start_time": "2023-07-23T06:09:13.594Z"
   },
   {
    "duration": 257,
    "start_time": "2023-07-23T06:09:13.879Z"
   },
   {
    "duration": 272,
    "start_time": "2023-07-23T06:09:14.139Z"
   },
   {
    "duration": 311,
    "start_time": "2023-07-23T06:09:14.413Z"
   },
   {
    "duration": 423,
    "start_time": "2023-07-23T06:11:47.988Z"
   },
   {
    "duration": 270,
    "start_time": "2023-07-23T06:12:07.779Z"
   },
   {
    "duration": 286,
    "start_time": "2023-07-23T06:17:09.483Z"
   },
   {
    "duration": 329,
    "start_time": "2023-07-23T06:18:04.153Z"
   },
   {
    "duration": 401,
    "start_time": "2023-07-23T06:19:34.819Z"
   },
   {
    "duration": 320,
    "start_time": "2023-07-23T06:20:05.502Z"
   },
   {
    "duration": 316,
    "start_time": "2023-07-23T06:20:17.390Z"
   },
   {
    "duration": 400,
    "start_time": "2023-07-23T06:21:47.294Z"
   },
   {
    "duration": 413,
    "start_time": "2023-07-23T06:22:05.422Z"
   },
   {
    "duration": 362,
    "start_time": "2023-07-23T06:22:54.987Z"
   },
   {
    "duration": 385,
    "start_time": "2023-07-23T06:23:20.945Z"
   },
   {
    "duration": 387,
    "start_time": "2023-07-23T06:23:50.776Z"
   },
   {
    "duration": 282,
    "start_time": "2023-07-23T06:28:14.151Z"
   },
   {
    "duration": 290,
    "start_time": "2023-07-23T06:28:19.126Z"
   },
   {
    "duration": 304,
    "start_time": "2023-07-23T06:28:29.706Z"
   },
   {
    "duration": 367,
    "start_time": "2023-07-23T06:28:34.427Z"
   },
   {
    "duration": 325,
    "start_time": "2023-07-23T06:28:41.919Z"
   },
   {
    "duration": 341,
    "start_time": "2023-07-23T06:29:02.591Z"
   },
   {
    "duration": 340,
    "start_time": "2023-07-23T06:30:15.096Z"
   },
   {
    "duration": 312,
    "start_time": "2023-07-23T06:30:58.612Z"
   },
   {
    "duration": 322,
    "start_time": "2023-07-23T06:31:35.200Z"
   },
   {
    "duration": 322,
    "start_time": "2023-07-23T06:32:03.189Z"
   },
   {
    "duration": 298,
    "start_time": "2023-07-23T06:40:49.083Z"
   },
   {
    "duration": 295,
    "start_time": "2023-07-23T06:41:02.547Z"
   },
   {
    "duration": 288,
    "start_time": "2023-07-23T06:41:33.040Z"
   },
   {
    "duration": 306,
    "start_time": "2023-07-23T06:44:44.604Z"
   },
   {
    "duration": 405,
    "start_time": "2023-07-23T06:49:18.790Z"
   },
   {
    "duration": 349,
    "start_time": "2023-07-23T06:51:37.887Z"
   },
   {
    "duration": 313,
    "start_time": "2023-07-23T06:51:59.693Z"
   },
   {
    "duration": 389,
    "start_time": "2023-07-23T06:52:26.628Z"
   },
   {
    "duration": 320,
    "start_time": "2023-07-23T06:52:59.005Z"
   },
   {
    "duration": 279,
    "start_time": "2023-07-23T06:53:06.770Z"
   },
   {
    "duration": 272,
    "start_time": "2023-07-23T07:00:47.883Z"
   },
   {
    "duration": 296,
    "start_time": "2023-07-23T07:01:12.585Z"
   },
   {
    "duration": 322,
    "start_time": "2023-07-23T07:02:59.871Z"
   },
   {
    "duration": 271,
    "start_time": "2023-07-23T07:05:12.429Z"
   },
   {
    "duration": 267,
    "start_time": "2023-07-23T07:05:27.467Z"
   },
   {
    "duration": 250,
    "start_time": "2023-07-23T07:07:54.039Z"
   },
   {
    "duration": 9,
    "start_time": "2023-07-23T12:15:30.867Z"
   },
   {
    "duration": 40,
    "start_time": "2023-07-23T12:16:18.286Z"
   },
   {
    "duration": 560,
    "start_time": "2023-07-23T12:16:23.247Z"
   },
   {
    "duration": 4,
    "start_time": "2023-07-23T12:16:23.809Z"
   },
   {
    "duration": 12614,
    "start_time": "2023-07-23T12:16:23.815Z"
   },
   {
    "duration": 40,
    "start_time": "2023-07-23T12:16:36.432Z"
   },
   {
    "duration": 43,
    "start_time": "2023-07-23T12:16:36.473Z"
   },
   {
    "duration": 63,
    "start_time": "2023-07-23T12:16:36.518Z"
   },
   {
    "duration": 60,
    "start_time": "2023-07-23T12:16:36.583Z"
   },
   {
    "duration": 69,
    "start_time": "2023-07-23T12:16:36.644Z"
   },
   {
    "duration": 90,
    "start_time": "2023-07-23T12:16:36.715Z"
   },
   {
    "duration": 85,
    "start_time": "2023-07-23T12:16:36.807Z"
   },
   {
    "duration": 35,
    "start_time": "2023-07-23T12:16:36.894Z"
   },
   {
    "duration": 80,
    "start_time": "2023-07-23T12:16:36.931Z"
   },
   {
    "duration": 79,
    "start_time": "2023-07-23T12:22:03.700Z"
   },
   {
    "duration": 80,
    "start_time": "2023-07-23T12:27:06.353Z"
   },
   {
    "duration": 94,
    "start_time": "2023-07-23T12:27:17.145Z"
   },
   {
    "duration": 99,
    "start_time": "2023-07-23T12:27:36.800Z"
   },
   {
    "duration": 67,
    "start_time": "2023-07-23T12:28:43.611Z"
   },
   {
    "duration": 81,
    "start_time": "2023-07-23T12:30:20.642Z"
   },
   {
    "duration": 77,
    "start_time": "2023-07-23T12:34:16.887Z"
   },
   {
    "duration": 152,
    "start_time": "2023-07-23T12:41:28.332Z"
   },
   {
    "duration": 98,
    "start_time": "2023-07-23T12:41:49.708Z"
   },
   {
    "duration": 56,
    "start_time": "2023-07-23T12:46:31.528Z"
   },
   {
    "duration": 76,
    "start_time": "2023-07-23T12:47:54.753Z"
   },
   {
    "duration": 490,
    "start_time": "2023-07-23T12:55:42.713Z"
   },
   {
    "duration": 4,
    "start_time": "2023-07-23T12:55:43.205Z"
   },
   {
    "duration": 12614,
    "start_time": "2023-07-23T12:55:43.210Z"
   },
   {
    "duration": 52,
    "start_time": "2023-07-23T12:55:55.826Z"
   },
   {
    "duration": 76,
    "start_time": "2023-07-23T12:55:55.880Z"
   },
   {
    "duration": 34,
    "start_time": "2023-07-23T12:55:55.958Z"
   },
   {
    "duration": 67,
    "start_time": "2023-07-23T12:55:55.993Z"
   },
   {
    "duration": 53,
    "start_time": "2023-07-23T12:55:56.061Z"
   },
   {
    "duration": 91,
    "start_time": "2023-07-23T12:55:56.116Z"
   },
   {
    "duration": 96,
    "start_time": "2023-07-23T12:55:56.208Z"
   },
   {
    "duration": 107,
    "start_time": "2023-07-23T12:55:56.305Z"
   },
   {
    "duration": 56,
    "start_time": "2023-07-23T12:55:56.414Z"
   },
   {
    "duration": 505,
    "start_time": "2023-07-24T10:26:43.645Z"
   },
   {
    "duration": 5,
    "start_time": "2023-07-24T10:26:44.152Z"
   },
   {
    "duration": 13533,
    "start_time": "2023-07-24T10:26:44.158Z"
   },
   {
    "duration": 264,
    "start_time": "2023-07-24T10:26:57.692Z"
   },
   {
    "duration": 272,
    "start_time": "2023-07-24T10:26:57.958Z"
   },
   {
    "duration": 317,
    "start_time": "2023-07-24T10:26:58.233Z"
   },
   {
    "duration": 248,
    "start_time": "2023-07-24T10:26:58.552Z"
   },
   {
    "duration": 248,
    "start_time": "2023-07-24T10:26:58.801Z"
   },
   {
    "duration": 328,
    "start_time": "2023-07-24T10:26:59.051Z"
   },
   {
    "duration": 270,
    "start_time": "2023-07-24T10:26:59.382Z"
   },
   {
    "duration": 265,
    "start_time": "2023-07-24T10:26:59.654Z"
   },
   {
    "duration": 271,
    "start_time": "2023-07-24T10:26:59.921Z"
   },
   {
    "duration": 310,
    "start_time": "2023-07-24T10:32:26.684Z"
   },
   {
    "duration": 317,
    "start_time": "2023-07-24T10:32:32.164Z"
   },
   {
    "duration": 268,
    "start_time": "2023-07-24T10:32:40.956Z"
   },
   {
    "duration": 549,
    "start_time": "2023-07-24T11:13:54.029Z"
   },
   {
    "duration": 4,
    "start_time": "2023-07-24T11:13:54.580Z"
   },
   {
    "duration": 22469,
    "start_time": "2023-07-24T11:13:54.587Z"
   },
   {
    "duration": 260,
    "start_time": "2023-07-24T11:14:17.058Z"
   },
   {
    "duration": 261,
    "start_time": "2023-07-24T11:14:17.319Z"
   },
   {
    "duration": 287,
    "start_time": "2023-07-24T11:14:17.582Z"
   },
   {
    "duration": 278,
    "start_time": "2023-07-24T11:14:17.871Z"
   },
   {
    "duration": 289,
    "start_time": "2023-07-24T11:14:18.150Z"
   },
   {
    "duration": 314,
    "start_time": "2023-07-24T11:14:18.440Z"
   },
   {
    "duration": 254,
    "start_time": "2023-07-24T11:14:18.756Z"
   },
   {
    "duration": 264,
    "start_time": "2023-07-24T11:14:19.012Z"
   },
   {
    "duration": 285,
    "start_time": "2023-07-24T11:14:19.278Z"
   },
   {
    "duration": 339,
    "start_time": "2023-07-24T11:15:55.714Z"
   },
   {
    "duration": 327,
    "start_time": "2023-07-24T11:27:31.453Z"
   },
   {
    "duration": 381,
    "start_time": "2023-07-24T11:36:11.193Z"
   },
   {
    "duration": 281,
    "start_time": "2023-07-24T11:36:18.735Z"
   },
   {
    "duration": 271,
    "start_time": "2023-07-24T11:37:15.599Z"
   },
   {
    "duration": 320,
    "start_time": "2023-07-24T11:37:49.496Z"
   },
   {
    "duration": 573,
    "start_time": "2023-07-24T11:56:01.319Z"
   },
   {
    "duration": 5,
    "start_time": "2023-07-24T11:56:01.894Z"
   },
   {
    "duration": 17931,
    "start_time": "2023-07-24T11:56:01.901Z"
   },
   {
    "duration": 293,
    "start_time": "2023-07-24T11:56:19.834Z"
   },
   {
    "duration": 284,
    "start_time": "2023-07-24T11:56:20.130Z"
   },
   {
    "duration": 301,
    "start_time": "2023-07-24T11:56:20.416Z"
   },
   {
    "duration": 289,
    "start_time": "2023-07-24T11:56:20.719Z"
   },
   {
    "duration": 294,
    "start_time": "2023-07-24T11:56:21.010Z"
   },
   {
    "duration": 351,
    "start_time": "2023-07-24T11:56:21.306Z"
   },
   {
    "duration": 270,
    "start_time": "2023-07-24T11:56:21.660Z"
   },
   {
    "duration": 307,
    "start_time": "2023-07-24T11:56:21.932Z"
   },
   {
    "duration": 294,
    "start_time": "2023-07-24T11:56:22.241Z"
   },
   {
    "duration": 79,
    "start_time": "2023-07-24T11:59:41.775Z"
   },
   {
    "duration": 9,
    "start_time": "2023-07-24T12:01:09.677Z"
   },
   {
    "duration": 334,
    "start_time": "2023-07-24T12:01:19.624Z"
   },
   {
    "duration": 336,
    "start_time": "2023-07-24T12:01:28.109Z"
   },
   {
    "duration": 328,
    "start_time": "2023-07-24T12:01:39.312Z"
   },
   {
    "duration": 603,
    "start_time": "2023-07-24T12:02:13.191Z"
   },
   {
    "duration": 5,
    "start_time": "2023-07-24T12:02:13.796Z"
   },
   {
    "duration": 25953,
    "start_time": "2023-07-24T12:02:13.803Z"
   },
   {
    "duration": 287,
    "start_time": "2023-07-24T12:02:39.758Z"
   },
   {
    "duration": 305,
    "start_time": "2023-07-24T12:02:40.048Z"
   },
   {
    "duration": 286,
    "start_time": "2023-07-24T12:02:40.355Z"
   },
   {
    "duration": 261,
    "start_time": "2023-07-24T12:02:40.643Z"
   },
   {
    "duration": 336,
    "start_time": "2023-07-24T12:02:40.906Z"
   },
   {
    "duration": 318,
    "start_time": "2023-07-24T12:02:41.243Z"
   },
   {
    "duration": 295,
    "start_time": "2023-07-24T12:02:41.563Z"
   },
   {
    "duration": 279,
    "start_time": "2023-07-24T12:02:41.860Z"
   },
   {
    "duration": 288,
    "start_time": "2023-07-24T12:02:42.141Z"
   },
   {
    "duration": 534,
    "start_time": "2023-07-25T09:21:03.097Z"
   },
   {
    "duration": 5,
    "start_time": "2023-07-25T09:21:03.633Z"
   },
   {
    "duration": 13878,
    "start_time": "2023-07-25T09:21:03.640Z"
   },
   {
    "duration": 56,
    "start_time": "2023-07-25T09:21:17.520Z"
   },
   {
    "duration": 42,
    "start_time": "2023-07-25T09:21:17.578Z"
   },
   {
    "duration": 80,
    "start_time": "2023-07-25T09:21:17.622Z"
   },
   {
    "duration": 50,
    "start_time": "2023-07-25T09:21:17.704Z"
   },
   {
    "duration": 45,
    "start_time": "2023-07-25T09:21:17.756Z"
   },
   {
    "duration": 85,
    "start_time": "2023-07-25T09:21:17.803Z"
   },
   {
    "duration": 60,
    "start_time": "2023-07-25T09:21:17.891Z"
   },
   {
    "duration": 60,
    "start_time": "2023-07-25T09:21:17.953Z"
   },
   {
    "duration": 70,
    "start_time": "2023-07-25T09:21:18.015Z"
   }
  ],
  "kernelspec": {
   "display_name": "Python 3 (ipykernel)",
   "language": "python",
   "name": "python3"
  },
  "language_info": {
   "codemirror_mode": {
    "name": "ipython",
    "version": 3
   },
   "file_extension": ".py",
   "mimetype": "text/x-python",
   "name": "python",
   "nbconvert_exporter": "python",
   "pygments_lexer": "ipython3",
   "version": "3.11.5"
  },
  "toc": {
   "base_numbering": 1,
   "nav_menu": {},
   "number_sections": true,
   "sideBar": true,
   "skip_h1_title": true,
   "title_cell": "Table of Contents",
   "title_sidebar": "Contents",
   "toc_cell": false,
   "toc_position": {},
   "toc_section_display": true,
   "toc_window_display": false
  }
 },
 "nbformat": 4,
 "nbformat_minor": 2
}
